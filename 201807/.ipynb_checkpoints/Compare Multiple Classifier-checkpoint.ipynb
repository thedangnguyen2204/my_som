{
 "cells": [
  {
   "cell_type": "code",
   "execution_count": 1,
   "metadata": {},
   "outputs": [],
   "source": [
    "import numpy as np\n",
    "import pandas as pd\n",
    "from sklearn.linear_model import LogisticRegression\n",
    "from sklearn.svm import SVC, LinearSVC\n",
    "from sklearn.ensemble import RandomForestClassifier\n",
    "from sklearn.neighbors import KNeighborsClassifier\n",
    "from sklearn.naive_bayes import GaussianNB\n",
    "from sklearn.linear_model import Perceptron\n",
    "from sklearn.linear_model import SGDClassifier\n",
    "from sklearn.tree import DecisionTreeClassifier\n",
    "from sklearn.metrics import classification_report"
   ]
  },
  {
   "cell_type": "code",
   "execution_count": 2,
   "metadata": {},
   "outputs": [],
   "source": [
    "data = pd.read_csv(r\"../data/rocktype.csv\")\n",
    "x = data.iloc[:, 0:6].values\n",
    "y = data.iloc[:, -1].values"
   ]
  },
  {
   "cell_type": "code",
   "execution_count": 3,
   "metadata": {},
   "outputs": [
    {
     "name": "stderr",
     "output_type": "stream",
     "text": [
      "C:\\Users\\Thend\\Anaconda3\\lib\\site-packages\\sklearn\\cross_validation.py:41: DeprecationWarning: This module was deprecated in version 0.18 in favor of the model_selection module into which all the refactored classes and functions are moved. Also note that the interface of the new CV iterators are different from that of this module. This module will be removed in 0.20.\n",
      "  \"This module will be removed in 0.20.\", DeprecationWarning)\n"
     ]
    }
   ],
   "source": [
    "from sklearn.cross_validation import train_test_split\n",
    "x_train, x_test, y_train, y_test = train_test_split(x, y, test_size=0.25, random_state=1)\n",
    "\n",
    "# use Minmaxscaler because we use euclidean distance\n",
    "from sklearn.preprocessing import MinMaxScaler\n",
    "minmax = MinMaxScaler()\n",
    "x_train = minmax.fit_transform(x_train)\n",
    "x_test = minmax.transform(x_test)"
   ]
  },
  {
   "cell_type": "code",
   "execution_count": 4,
   "metadata": {},
   "outputs": [
    {
     "name": "stdout",
     "output_type": "stream",
     "text": [
      "             precision    recall  f1-score   support\n",
      "\n",
      "          1       0.90      0.93      0.91        74\n",
      "          2       0.00      0.00      0.00        39\n",
      "          3       0.71      0.92      0.80       153\n",
      "          4       0.95      0.92      0.93       227\n",
      "\n",
      "avg / total       0.79      0.85      0.81       493\n",
      "\n"
     ]
    },
    {
     "name": "stderr",
     "output_type": "stream",
     "text": [
      "C:\\Users\\Thend\\Anaconda3\\lib\\site-packages\\sklearn\\metrics\\classification.py:1428: UserWarning: labels size, 4, does not match size of target_names, 7\n",
      "  .format(len(labels), len(target_names))\n",
      "C:\\Users\\Thend\\Anaconda3\\lib\\site-packages\\sklearn\\metrics\\classification.py:1135: UndefinedMetricWarning: Precision and F-score are ill-defined and being set to 0.0 in labels with no predicted samples.\n",
      "  'precision', 'predicted', average, warn_for)\n"
     ]
    }
   ],
   "source": [
    "svc = SVC()\n",
    "svc.fit(x_train, y_train)\n",
    "Y_pred = svc.predict(x_test)\n",
    "acc_svc = round(svc.score(x_test, y_test) * 100, 2)\n",
    "acc_svc\n",
    "print (classification_report(y_test, Y_pred, target_names=['1', '2', '3', '4', '5', '6', '7']))"
   ]
  },
  {
   "cell_type": "code",
   "execution_count": 5,
   "metadata": {},
   "outputs": [
    {
     "name": "stdout",
     "output_type": "stream",
     "text": [
      "             precision    recall  f1-score   support\n",
      "\n",
      "          1       0.96      0.95      0.95        74\n",
      "          2       0.79      0.79      0.79        39\n",
      "          3       0.88      0.93      0.91       153\n",
      "          4       0.98      0.94      0.96       227\n",
      "\n",
      "avg / total       0.93      0.93      0.93       493\n",
      "\n"
     ]
    },
    {
     "name": "stderr",
     "output_type": "stream",
     "text": [
      "C:\\Users\\Thend\\Anaconda3\\lib\\site-packages\\sklearn\\metrics\\classification.py:1428: UserWarning: labels size, 4, does not match size of target_names, 7\n",
      "  .format(len(labels), len(target_names))\n"
     ]
    }
   ],
   "source": [
    "knn = KNeighborsClassifier(n_neighbors = 7)\n",
    "knn.fit(x_train, y_train)\n",
    "Y_pred = knn.predict(x_test)\n",
    "acc_knn = round(knn.score(x_test, y_test) * 100, 2)\n",
    "acc_knn\n",
    "print (classification_report(y_test, Y_pred, target_names=['1', '2', '3', '4', '5', '6', '7']))"
   ]
  },
  {
   "cell_type": "code",
   "execution_count": 6,
   "metadata": {},
   "outputs": [
    {
     "name": "stdout",
     "output_type": "stream",
     "text": [
      "             precision    recall  f1-score   support\n",
      "\n",
      "          1       0.97      0.89      0.93        74\n",
      "          2       0.62      0.46      0.53        39\n",
      "          3       0.69      0.89      0.78       153\n",
      "          4       0.90      0.79      0.84       227\n",
      "\n",
      "avg / total       0.82      0.81      0.81       493\n",
      "\n"
     ]
    },
    {
     "name": "stderr",
     "output_type": "stream",
     "text": [
      "C:\\Users\\Thend\\Anaconda3\\lib\\site-packages\\sklearn\\metrics\\classification.py:1428: UserWarning: labels size, 4, does not match size of target_names, 7\n",
      "  .format(len(labels), len(target_names))\n"
     ]
    }
   ],
   "source": [
    "gaussian = GaussianNB()\n",
    "gaussian.fit(x_train, y_train)\n",
    "Y_pred = gaussian.predict(x_test)\n",
    "acc_gaussian = round(gaussian.score(x_test, y_test) * 100, 2)\n",
    "acc_gaussian\n",
    "print (classification_report(y_test, Y_pred, target_names=['1', '2', '3', '4', '5', '6', '7']))"
   ]
  },
  {
   "cell_type": "code",
   "execution_count": 7,
   "metadata": {},
   "outputs": [
    {
     "name": "stderr",
     "output_type": "stream",
     "text": [
      "C:\\Users\\Thend\\Anaconda3\\lib\\site-packages\\sklearn\\linear_model\\stochastic_gradient.py:128: FutureWarning: max_iter and tol parameters have been added in <class 'sklearn.linear_model.perceptron.Perceptron'> in 0.19. If both are left unset, they default to max_iter=5 and tol=None. If tol is not None, max_iter defaults to max_iter=1000. From 0.21, default max_iter will be 1000, and default tol will be 1e-3.\n",
      "  \"and default tol will be 1e-3.\" % type(self), FutureWarning)\n"
     ]
    },
    {
     "data": {
      "text/plain": [
       "81.54"
      ]
     },
     "execution_count": 7,
     "metadata": {},
     "output_type": "execute_result"
    }
   ],
   "source": [
    "perceptron = Perceptron()\n",
    "perceptron.fit(x_train, y_train)\n",
    "Y_pred = perceptron.predict(x_test)\n",
    "acc_perceptron = round(perceptron.score(x_test, y_test) * 100, 2)\n",
    "acc_perceptron"
   ]
  },
  {
   "cell_type": "code",
   "execution_count": 8,
   "metadata": {},
   "outputs": [
    {
     "data": {
      "text/plain": [
       "99.59"
      ]
     },
     "execution_count": 8,
     "metadata": {},
     "output_type": "execute_result"
    }
   ],
   "source": [
    "random_forest = RandomForestClassifier(n_estimators=100)\n",
    "random_forest.fit(x_train, y_train)\n",
    "Y_pred = random_forest.predict(x_test)\n",
    "random_forest.score(x_train, y_train)\n",
    "acc_random_forest = round(random_forest.score(x_test, y_test) * 100, 2)\n",
    "acc_random_forest"
   ]
  },
  {
   "cell_type": "code",
   "execution_count": 9,
   "metadata": {},
   "outputs": [
    {
     "data": {
      "text/plain": [
       "0.9959432048681541"
      ]
     },
     "execution_count": 9,
     "metadata": {},
     "output_type": "execute_result"
    }
   ],
   "source": [
    "random_forest.score(x_test, y_test)"
   ]
  },
  {
   "cell_type": "code",
   "execution_count": 10,
   "metadata": {},
   "outputs": [
    {
     "name": "stdout",
     "output_type": "stream",
     "text": [
      "[2 2 3 2 3 2 4 4 4 1 3 2 1 4 4 3 3 4 3 3 4 4 3 2 4 3 4 1 2 4 4 4 2 4 3 3 4\n",
      " 4 4 3 2 1 3 4 3 4 3 3 4 3 4 4 4 4 2 4 3 4 3 3 3 4 4 4 1 4 4 4 2 3 3 4 4 4\n",
      " 3 4 4 3 1 3 4 4 4 4 3 4 4 4 1 3 4 4 2 1 4 1 3 4 4 1 4 4 4 4 2 4 4 3 1 4 2\n",
      " 3 4 3 1 1 1 3 1 4 3 4 4 4 4 4 4 3 4 3 4 4 4 4 3 4 1 3 1 3 4 4 3 4 3 4 4 4\n",
      " 3 4 4 4 3 4 1 4 3 4 4 3 4 4 3 2 3 4 1 2 4 2 1 1 3 1 4 4 4 4 1 4 4 4 3 4 4\n",
      " 4 4 1 3 3 4 4 4 1 1 3 4 4 4 3 4 3 3 3 1 4 3 1 4 4 4 3 3 4 3 1 1 3 3 4 3 4\n",
      " 3 3 1 3 1 1 3 4 4 4 3 1 3 3 4 4 3 3 4 3 1 4 3 1 4 1 4 2 4 3 4 4 4 3 3 3 3\n",
      " 4 4 4 1 2 3 4 4 1 3 4 4 4 4 3 3 3 3 3 4 1 3 3 3 4 4 4 4 3 4 4 4 4 3 3 2 4\n",
      " 2 2 4 4 4 4 3 3 3 4 3 3 4 2 2 3 1 4 3 1 4 4 3 4 4 1 1 4 1 2 1 3 4 1 2 4 3\n",
      " 4 4 4 4 4 1 4 4 4 4 1 3 4 4 1 4 3 2 4 4 4 1 4 3 4 4 2 4 3 4 3 4 3 4 2 3 4\n",
      " 1 4 4 4 4 3 3 1 4 1 4 3 1 3 1 3 1 4 4 1 4 1 2 3 4 3 3 1 4 3 2 2 4 3 4 3 4\n",
      " 4 2 3 3 3 4 3 1 2 1 3 1 4 3 1 3 3 3 4 4 1 1 4 1 1 1 3 3 4 4 4 3 1 4 3 1 3\n",
      " 3 3 4 4 3 2 3 1 1 4 4 3 3 3 3 4 4 4 4 3 4 3 4 4 3 4 4 3 2 3 4 4 3 3 4 3 3\n",
      " 1 4 4 4 4 3 4 3 2 2 4 2]\n",
      "__________________________________________________\n",
      "[2 2 3 2 3 2 4 4 4 1 3 2 1 4 4 3 3 4 3 3 4 4 3 2 4 3 4 1 2 4 4 4 2 4 3 3 4\n",
      " 4 4 3 2 1 3 4 3 4 3 3 4 3 4 4 4 4 2 4 3 4 3 3 3 4 4 4 1 4 4 4 2 3 3 4 4 4\n",
      " 3 4 4 3 1 3 4 4 4 4 3 4 4 4 1 3 4 4 2 1 4 1 3 4 4 1 4 4 4 4 2 4 4 3 1 4 2\n",
      " 3 4 3 1 1 1 3 1 4 3 4 4 4 4 4 4 3 4 3 4 4 4 4 3 4 1 3 1 3 4 4 3 4 3 4 4 4\n",
      " 3 4 4 4 3 4 1 4 3 4 4 3 4 4 3 2 3 4 1 2 4 2 1 1 3 1 4 4 4 4 1 4 4 4 3 4 4\n",
      " 4 4 1 3 3 4 4 4 1 1 3 4 4 4 3 4 3 3 3 1 4 3 1 4 4 4 3 3 4 3 1 1 3 3 4 3 4\n",
      " 3 3 1 3 1 1 3 4 4 4 3 1 3 3 4 4 3 3 4 3 1 4 3 1 4 1 4 2 4 3 4 4 4 3 3 3 3\n",
      " 4 4 4 1 2 3 4 4 1 3 4 4 4 4 3 3 3 4 3 4 1 3 3 3 4 4 4 4 3 4 4 4 4 3 3 2 4\n",
      " 2 2 4 4 4 4 3 3 3 4 3 3 4 2 2 3 1 4 3 1 4 4 3 4 4 1 1 4 1 2 1 3 4 1 2 4 3\n",
      " 4 4 4 4 4 1 4 4 4 4 1 3 4 4 1 4 3 2 4 4 4 1 4 3 4 4 2 4 3 4 3 4 3 4 2 3 4\n",
      " 1 4 4 4 4 3 3 1 4 1 4 3 1 3 1 3 1 4 4 1 4 1 2 3 4 3 3 1 4 3 2 2 4 3 4 3 4\n",
      " 4 2 3 3 3 4 3 1 2 1 3 1 4 3 1 3 3 3 4 4 1 1 4 1 1 1 3 3 4 4 4 3 1 4 3 1 3\n",
      " 3 3 4 4 3 2 3 1 1 4 4 3 3 3 3 4 4 4 4 3 4 3 4 4 3 4 4 3 2 3 4 4 3 3 4 3 3\n",
      " 1 4 4 4 4 3 4 3 2 2 4 2]\n",
      "             precision    recall  f1-score   support\n",
      "\n",
      "          0       1.00      1.00      1.00        74\n",
      "          1       1.00      1.00      1.00        39\n",
      "          2       1.00      0.99      1.00       153\n",
      "          3       1.00      1.00      1.00       227\n",
      "\n",
      "avg / total       1.00      1.00      1.00       493\n",
      "\n"
     ]
    }
   ],
   "source": [
    "decision_tree = DecisionTreeClassifier()\n",
    "decision_tree.fit(x_train, y_train)\n",
    "Y_pred = decision_tree.predict(x_test)\n",
    "acc_decision_tree = round(decision_tree.score(x_test, y_test) * 100, 2)\n",
    "acc_decision_tree\n",
    "print(y_test)\n",
    "print(\"_\"*50)\n",
    "print(Y_pred)\n",
    "print (classification_report(y_test, Y_pred, target_names=['0','1', '2', '3']))"
   ]
  },
  {
   "cell_type": "code",
   "execution_count": 11,
   "metadata": {
    "scrolled": false
   },
   "outputs": [
    {
     "data": {
      "text/html": [
       "<div>\n",
       "<style scoped>\n",
       "    .dataframe tbody tr th:only-of-type {\n",
       "        vertical-align: middle;\n",
       "    }\n",
       "\n",
       "    .dataframe tbody tr th {\n",
       "        vertical-align: top;\n",
       "    }\n",
       "\n",
       "    .dataframe thead th {\n",
       "        text-align: right;\n",
       "    }\n",
       "</style>\n",
       "<table border=\"1\" class=\"dataframe\">\n",
       "  <thead>\n",
       "    <tr style=\"text-align: right;\">\n",
       "      <th></th>\n",
       "      <th>Model</th>\n",
       "      <th>Score</th>\n",
       "    </tr>\n",
       "  </thead>\n",
       "  <tbody>\n",
       "    <tr>\n",
       "      <th>5</th>\n",
       "      <td>Decision Tree</td>\n",
       "      <td>99.80</td>\n",
       "    </tr>\n",
       "    <tr>\n",
       "      <th>2</th>\n",
       "      <td>Random Forest</td>\n",
       "      <td>99.59</td>\n",
       "    </tr>\n",
       "    <tr>\n",
       "      <th>1</th>\n",
       "      <td>KNN</td>\n",
       "      <td>92.90</td>\n",
       "    </tr>\n",
       "    <tr>\n",
       "      <th>0</th>\n",
       "      <td>Support Vector Machines</td>\n",
       "      <td>84.58</td>\n",
       "    </tr>\n",
       "    <tr>\n",
       "      <th>4</th>\n",
       "      <td>Perceptron</td>\n",
       "      <td>81.54</td>\n",
       "    </tr>\n",
       "    <tr>\n",
       "      <th>3</th>\n",
       "      <td>Gauusian</td>\n",
       "      <td>80.93</td>\n",
       "    </tr>\n",
       "  </tbody>\n",
       "</table>\n",
       "</div>"
      ],
      "text/plain": [
       "                     Model  Score\n",
       "5            Decision Tree  99.80\n",
       "2            Random Forest  99.59\n",
       "1                      KNN  92.90\n",
       "0  Support Vector Machines  84.58\n",
       "4               Perceptron  81.54\n",
       "3                 Gauusian  80.93"
      ]
     },
     "execution_count": 11,
     "metadata": {},
     "output_type": "execute_result"
    }
   ],
   "source": [
    "models = pd.DataFrame({\n",
    "    'Model': ['Support Vector Machines', 'KNN', \n",
    "              'Random Forest', 'Gauusian', 'Perceptron',  \n",
    "              'Decision Tree'],\n",
    "    'Score': [acc_svc, acc_knn, \n",
    "              acc_random_forest, acc_gaussian, acc_perceptron, acc_decision_tree]})\n",
    "models.sort_values(by='Score', ascending=False)"
   ]
  },
  {
   "cell_type": "code",
   "execution_count": 12,
   "metadata": {},
   "outputs": [],
   "source": [
    "# data_new = pd.read_csv(r\"data/SD-3X_rocktype.csv\")\n",
    "# x_new = data_new.iloc[:, 0:6].values\n",
    "# x_new = minmax.transform(x_new)\n",
    "# y_new = data_new.iloc[:, 6].values\n",
    "# svc.score(x_new, y_new)"
   ]
  }
 ],
 "metadata": {
  "kernelspec": {
   "display_name": "Python 3",
   "language": "python",
   "name": "python3"
  },
  "language_info": {
   "codemirror_mode": {
    "name": "ipython",
    "version": 3
   },
   "file_extension": ".py",
   "mimetype": "text/x-python",
   "name": "python",
   "nbconvert_exporter": "python",
   "pygments_lexer": "ipython3",
   "version": "3.6.5"
  }
 },
 "nbformat": 4,
 "nbformat_minor": 2
}
