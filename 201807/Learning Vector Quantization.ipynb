{
 "cells": [
  {
   "cell_type": "code",
   "execution_count": 63,
   "metadata": {},
   "outputs": [],
   "source": [
    "from sklearn.datasets import load_iris\n",
    "import numpy as np\n",
    "from sklearn.metrics import euclidean_distances\n",
    "import pandas as pd"
   ]
  },
  {
   "cell_type": "code",
   "execution_count": 64,
   "metadata": {},
   "outputs": [],
   "source": [
    "data = load_iris()\n",
    "x = data['data']\n",
    "y = data['target']\n",
    "# data = pd.read_csv(r\"SD-2X_rocktype.csv\")\n",
    "# x = data.iloc[:, 0:6].values\n",
    "# y = data.iloc[:, 6].values"
   ]
  },
  {
   "cell_type": "code",
   "execution_count": 65,
   "metadata": {
    "scrolled": true
   },
   "outputs": [
    {
     "data": {
      "text/plain": [
       "array([0, 1, 2])"
      ]
     },
     "execution_count": 65,
     "metadata": {},
     "output_type": "execute_result"
    }
   ],
   "source": [
    "np.unique(y)"
   ]
  },
  {
   "cell_type": "code",
   "execution_count": 66,
   "metadata": {},
   "outputs": [],
   "source": [
    "# use Minmaxscaler because we use euclidean distance\n",
    "from sklearn.cross_validation import train_test_split\n",
    "x_train, x_test, y_train, y_test = train_test_split(x, y, test_size=0.25, random_state=44)\n",
    "\n",
    "# use Minmaxscaler because we use euclidean distance\n",
    "from sklearn.preprocessing import MinMaxScaler\n",
    "minmax = MinMaxScaler()\n",
    "x_train = minmax.fit_transform(x_train)\n",
    "x_test = minmax.transform(x_test)"
   ]
  },
  {
   "cell_type": "code",
   "execution_count": 67,
   "metadata": {},
   "outputs": [],
   "source": [
    "# parameter for LVQ\n",
    "R = 2 # R is the # of initial prototype for each class\n",
    "n_classes = 3\n",
    "epsilon = 0.9\n",
    "epsilon_dec_factor = 0.001"
   ]
  },
  {
   "cell_type": "code",
   "execution_count": 68,
   "metadata": {},
   "outputs": [],
   "source": [
    "# class of prototype vectors\n",
    "class prototype(object):\n",
    "    def __init__(self, class_id, p_vector, epsilon):\n",
    "        self.class_id = class_id\n",
    "        self.p_vector = p_vector\n",
    "        self.epsilon = epsilon\n",
    "    def update(self, u_vector, increment = True):\n",
    "        if increment:\n",
    "            # Move the prototype closer to input vector\n",
    "            self.p_vector = self.p_vector + self.epsilon * (u_vector - self.p_vector)\n",
    "        else:\n",
    "            # Move the prototype away from input vector\n",
    "            self.p_vector = self.p_vector - self.epsilon * (u_vector - self.p_vector)"
   ]
  },
  {
   "cell_type": "code",
   "execution_count": 69,
   "metadata": {},
   "outputs": [],
   "source": [
    "# function to find the closest prototype vector for a given vector\n",
    "def find_closest(in_vector, proto_vectors):\n",
    "    position = None\n",
    "    closest = None\n",
    "    closest_distance = 99999\n",
    "#     for p_v in proto_vectors:\n",
    "#         distance = np.linalg.norm(in_vector - p_v.p_vector)\n",
    "#         if distance < closest_distance:\n",
    "#             closest_distance = distance\n",
    "#             closest = p_v\n",
    "    for i in range(len(proto_vectors)):\n",
    "        distance = np.linalg.norm(in_vector - proto_vectors[i].p_vector)\n",
    "        if distance < closest_distance:\n",
    "            closest_distance = distance\n",
    "            closest = proto_vectors[i]\n",
    "            position = i\n",
    "    return [position, closest]"
   ]
  },
  {
   "cell_type": "code",
   "execution_count": 70,
   "metadata": {},
   "outputs": [],
   "source": [
    "def find_class_id(test_vector, p_vectors):\n",
    "    return find_closest(test_vector, p_vectors)[1].class_id"
   ]
  },
  {
   "cell_type": "code",
   "execution_count": 71,
   "metadata": {
    "scrolled": true
   },
   "outputs": [
    {
     "name": "stdout",
     "output_type": "stream",
     "text": [
      "class id \t Initial prototype vector \n",
      "\n",
      "0 \t [0.19444444 0.625      0.05263158 0.08333333]\n",
      "0 \t [0.13888889 0.41666667 0.07017544 0.        ]\n",
      "1 \t [0.41666667 0.29166667 0.50877193 0.45833333]\n",
      "1 \t [0.41666667 0.29166667 0.54385965 0.375     ]\n",
      "2 \t [0.61111111 0.41666667 0.78947368 0.70833333]\n",
      "2 \t [0.61111111 0.41666667 0.73684211 0.79166667]\n"
     ]
    }
   ],
   "source": [
    "# Choose R initial prototype for each class\n",
    "p_vectors = []\n",
    "for i in range(n_classes):\n",
    "    # select class i\n",
    "    y_subset = np.where(y_train == i)\n",
    "    # select tuple for chosen class\n",
    "    x_subset = x_train[y_subset]\n",
    "    # get R random indices between 0 and 50\n",
    "    samples = np.random.randint(0, len(x_subset), R)\n",
    "    # select p_vectors, they are chosen randomly from the samples x\n",
    "    for sample in samples:\n",
    "        s = x_subset[sample]\n",
    "        p = prototype(i, s, epsilon)\n",
    "        p_vectors.append(p)\n",
    "print(\"class id \\t Initial prototype vector \\n\")\n",
    "for p_v in p_vectors:\n",
    "    print(p_v.class_id, '\\t', p_v.p_vector)"
   ]
  },
  {
   "cell_type": "code",
   "execution_count": 72,
   "metadata": {
    "scrolled": true
   },
   "outputs": [
    {
     "name": "stdout",
     "output_type": "stream",
     "text": [
      "class id \t Final prototype vector \n",
      "\n",
      "0 \t [0.29981465 0.74532058 0.08830452 0.07539919]\n",
      "0 \t [0.12895255 0.48082831 0.07358992 0.04552514]\n",
      "1 \t [0.55011726 0.41299603 0.62315608 0.55325563]\n",
      "1 \t [0.37885878 0.2057407  0.52381255 0.46703129]\n",
      "2 \t [0.62559542 0.43513666 0.77587503 0.8509124 ]\n",
      "2 \t [0.86435428 0.57981521 0.90836165 0.84685459]\n"
     ]
    }
   ],
   "source": [
    "while epsilon >= 0.01:\n",
    "    rnd_i = np.random.randint(0, len(x_train))\n",
    "    rnd_s = x_train[rnd_i]\n",
    "    target_y = y_train[rnd_i]\n",
    "    \n",
    "    epsilon = epsilon - epsilon_dec_factor\n",
    "    \n",
    "    index, closest_pvector = find_closest(rnd_s, p_vectors)\n",
    "    \n",
    "    if target_y == closest_pvector.class_id:\n",
    "        closest_pvector.update(rnd_s)\n",
    "    else:\n",
    "        closest_pvector.update(rnd_s, False)\n",
    "    closest_pvector.epsilon = epsilon\n",
    "\n",
    "# #     LVQ neighbor version\n",
    "#     if index >= 10 and index <90:\n",
    "#         update_p_vectors = [closest_pvector, p_vectors[index-1], p_vectors[index+1], p_vectors[index+10], p_vectors[index-10]]\n",
    "#         for p in update_p_vectors:\n",
    "#             if target_y == p.class_id:\n",
    "#                 p.update(rnd_s)\n",
    "#             else:\n",
    "#                 p.update(rnd_s, False)\n",
    "#             p.epsilon = epsilon\n",
    "#     else:\n",
    "#         if target_y == closest_pvector.class_id:\n",
    "#             closest_pvector.update(rnd_s)\n",
    "#         else:\n",
    "#             closest_pvector.update(rnd_s, False)\n",
    "#         closest_pvector.epsilon = epsilon\n",
    "print(\"class id \\t Final prototype vector \\n\")\n",
    "for p_v in p_vectors:\n",
    "    print(p_v.class_id, '\\t', p_v.p_vector)"
   ]
  },
  {
   "cell_type": "code",
   "execution_count": 73,
   "metadata": {},
   "outputs": [],
   "source": [
    "# predicted_y = [find_class_id(instance, p_vectors) for instance in x]\n",
    "\n",
    "# from sklearn.metrics import classification_report\n",
    "\n",
    "# print (classification_report(y, predicted_y, target_names=['Iris-Setosa','Iris-Versicolour', 'Iris-Virginica']))"
   ]
  },
  {
   "cell_type": "code",
   "execution_count": 74,
   "metadata": {
    "scrolled": true
   },
   "outputs": [
    {
     "name": "stdout",
     "output_type": "stream",
     "text": [
      "             precision    recall  f1-score   support\n",
      "\n",
      "          0       1.00      1.00      1.00        13\n",
      "          1       0.80      1.00      0.89        12\n",
      "          2       1.00      0.77      0.87        13\n",
      "\n",
      "avg / total       0.94      0.92      0.92        38\n",
      "\n"
     ]
    }
   ],
   "source": [
    "predicted_y = [find_class_id(instance, p_vectors) for instance in x_test]\n",
    "\n",
    "from sklearn.metrics import classification_report\n",
    "\n",
    "print (classification_report(y_test, predicted_y, target_names=['0', '1', '2']))"
   ]
  }
 ],
 "metadata": {
  "kernelspec": {
   "display_name": "Python 3",
   "language": "python",
   "name": "python3"
  },
  "language_info": {
   "codemirror_mode": {
    "name": "ipython",
    "version": 3
   },
   "file_extension": ".py",
   "mimetype": "text/x-python",
   "name": "python",
   "nbconvert_exporter": "python",
   "pygments_lexer": "ipython3",
   "version": "3.6.5"
  }
 },
 "nbformat": 4,
 "nbformat_minor": 2
}
