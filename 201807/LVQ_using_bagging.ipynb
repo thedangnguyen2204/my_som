{
 "cells": [
  {
   "cell_type": "code",
   "execution_count": 82,
   "metadata": {},
   "outputs": [],
   "source": [
    "import numpy as np\n",
    "import pandas as pd\n",
    "import sys\n",
    "sys.path.insert(0, '../SOM-LVQ')\n",
    "import LVQ\n",
    "from random import randrange"
   ]
  },
  {
   "cell_type": "code",
   "execution_count": 83,
   "metadata": {},
   "outputs": [],
   "source": [
    "train = pd.read_csv(r\"..\\data\\SD-2X_rocktype.csv\")\n",
    "x_train = train.iloc[:, 0:6].values\n",
    "y_train = train.iloc[:, 6].values\n",
    "y_train[y_train==4] = 0"
   ]
  },
  {
   "cell_type": "code",
   "execution_count": 84,
   "metadata": {},
   "outputs": [],
   "source": [
    "from sklearn.preprocessing import MinMaxScaler\n",
    "minmax = MinMaxScaler()\n",
    "x_train = minmax.fit_transform(x_train)"
   ]
  },
  {
   "cell_type": "code",
   "execution_count": 85,
   "metadata": {},
   "outputs": [],
   "source": [
    "test = pd.read_csv(r\"..\\data\\SD-3X_rocktype.csv\")\n",
    "x_test = test.iloc[:, 0:6].values\n",
    "y_test = test.iloc[:, 6].values\n",
    "y_test[y_test==4] = 0\n",
    "x_test = minmax.transform(x_test)"
   ]
  },
  {
   "cell_type": "code",
   "execution_count": 86,
   "metadata": {},
   "outputs": [],
   "source": [
    "# Create a random subsample from the dataset with replacement\n",
    "def subsample(x, y, ratio):\n",
    "    sample_x = list()\n",
    "    sample_y = list()\n",
    "    n_sample = round(len(x) * ratio)\n",
    "    while len(sample_x) < n_sample:\n",
    "        index = randrange(len(x))\n",
    "        sample_x.append(x[index])\n",
    "        sample_y.append(y[index])\n",
    "    return [np.asarray(sample_x), np.asarray(sample_y)]"
   ]
  },
  {
   "cell_type": "code",
   "execution_count": 87,
   "metadata": {},
   "outputs": [],
   "source": [
    "# Bootstrap Aggregation Algorithm\n",
    "def bagging(x_train, y_train, x_test, sample_size, n_LVQ):\n",
    "    trees = list()\n",
    "    for i in range(n_LVQ):\n",
    "        sample = subsample(x_train, y_train, sample_size)\n",
    "        lvq = LVQ.LVQ(sample[0], sample[1], n_classes=4, p_vectors=[], n_neurons=25)\n",
    "        y_pred = [lvq.predict(instance) for instance in x_test]\n",
    "        trees.append(y_pred)\n",
    "    return(np.asarray(trees))"
   ]
  },
  {
   "cell_type": "code",
   "execution_count": 88,
   "metadata": {},
   "outputs": [],
   "source": [
    "# Make a prediction with a list of bagged trees\n",
    "def bagging_predict(predictions, n_row, n_LVQ):\n",
    "    return [np.bincount([predictions[j][i] for j in range(n_LVQ)]).argmax() for i in range(n_row)]"
   ]
  },
  {
   "cell_type": "code",
   "execution_count": 89,
   "metadata": {
    "scrolled": true
   },
   "outputs": [],
   "source": [
    "a = bagging(x_train, y_train, x_test, sample_size=1, n_LVQ=7)\n",
    "y_pred = bagging_predict(a, n_row=len(a[0]), n_LVQ=7)"
   ]
  },
  {
   "cell_type": "code",
   "execution_count": 90,
   "metadata": {
    "scrolled": true
   },
   "outputs": [
    {
     "name": "stdout",
     "output_type": "stream",
     "text": [
      "             precision    recall  f1-score   support\n",
      "\n",
      "          0       0.96      0.70      0.81       331\n",
      "          1       0.98      0.95      0.96        95\n",
      "          2       0.68      0.88      0.77        26\n",
      "          3       0.66      0.92      0.77       205\n",
      "\n",
      "avg / total       0.86      0.81      0.82       657\n",
      "\n"
     ]
    }
   ],
   "source": [
    "from sklearn.metrics import classification_report\n",
    "print (classification_report(y_test,y_pred,target_names=['0', '1', '2', '3']))"
   ]
  }
 ],
 "metadata": {
  "kernelspec": {
   "display_name": "Python 3",
   "language": "python",
   "name": "python3"
  },
  "language_info": {
   "codemirror_mode": {
    "name": "ipython",
    "version": 3
   },
   "file_extension": ".py",
   "mimetype": "text/x-python",
   "name": "python",
   "nbconvert_exporter": "python",
   "pygments_lexer": "ipython3",
   "version": "3.6.5"
  }
 },
 "nbformat": 4,
 "nbformat_minor": 2
}
