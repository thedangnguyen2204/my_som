{
 "cells": [
  {
   "cell_type": "code",
   "execution_count": 29,
   "metadata": {},
   "outputs": [],
   "source": [
    "from sklearn.datasets import load_breast_cancer\n",
    "import numpy as np\n",
    "from sklearn.metrics import euclidean_distances\n",
    "import pandas as pd"
   ]
  },
  {
   "cell_type": "code",
   "execution_count": 30,
   "metadata": {},
   "outputs": [],
   "source": [
    "data = pd.read_csv(r\"data/SD-2X_rocktype.csv\")\n",
    "x = data.iloc[:, 0:6].values\n",
    "y = data.iloc[:, 6].values"
   ]
  },
  {
   "cell_type": "code",
   "execution_count": 31,
   "metadata": {
    "scrolled": true
   },
   "outputs": [
    {
     "data": {
      "text/plain": [
       "array([1, 2, 3, 4], dtype=int64)"
      ]
     },
     "execution_count": 31,
     "metadata": {},
     "output_type": "execute_result"
    }
   ],
   "source": [
    "np.unique(y)"
   ]
  },
  {
   "cell_type": "code",
   "execution_count": 32,
   "metadata": {},
   "outputs": [],
   "source": [
    "from sklearn.cross_validation import train_test_split\n",
    "x_train, x_test, y_train, y_test = train_test_split(x, y, test_size=0.1, random_state=0)"
   ]
  },
  {
   "cell_type": "code",
   "execution_count": 33,
   "metadata": {},
   "outputs": [],
   "source": [
    "# use Minmaxscaler because we use euclidean distance\n",
    "from sklearn.preprocessing import MinMaxScaler\n",
    "minmax = MinMaxScaler()\n",
    "x_train = minmax.fit_transform(x_train)\n",
    "x_test = minmax.transform(x_test)"
   ]
  },
  {
   "cell_type": "code",
   "execution_count": 34,
   "metadata": {},
   "outputs": [],
   "source": [
    "# parameter for LVQ\n",
    "R = 5 # R is the # of initial prototype for each class\n",
    "n_classes = 4\n",
    "epsilon = 0.9\n",
    "epsilon_dec_factor = 0.001"
   ]
  },
  {
   "cell_type": "code",
   "execution_count": 35,
   "metadata": {},
   "outputs": [],
   "source": [
    "# class of prototype vectors\n",
    "class prototype(object):\n",
    "    def __init__(self, class_id, p_vector, epsilon):\n",
    "        self.class_id = class_id\n",
    "        self.p_vector = p_vector\n",
    "        self.epsilon = epsilon\n",
    "    def update(self, u_vector, increment = True):\n",
    "        if increment:\n",
    "            # Move the prototype closer to input vector\n",
    "            self.p_vector = self.p_vector + self.epsilon * (u_vector - self.p_vector)\n",
    "        else:\n",
    "            # Move the prototype away from input vector\n",
    "            self.p_vector = self.p_vector - self.epsilon * (u_vector - self.p_vector)"
   ]
  },
  {
   "cell_type": "code",
   "execution_count": 36,
   "metadata": {},
   "outputs": [],
   "source": [
    "# function to find the closest prototype vector for a given vector\n",
    "def find_closest(in_vector, proto_vectors):\n",
    "    closest = None\n",
    "    closest_distance = 99999\n",
    "    for p_v in proto_vectors:\n",
    "        distance = np.linalg.norm(in_vector - p_v.p_vector)\n",
    "        if distance < closest_distance:\n",
    "            closest_distance = distance\n",
    "            closest = p_v\n",
    "    return closest"
   ]
  },
  {
   "cell_type": "code",
   "execution_count": 37,
   "metadata": {},
   "outputs": [],
   "source": [
    "# function to find the second closest prototype vector for a given vector\n",
    "def find_runnerup(in_vector, proto_vectors):\n",
    "    runnerup = None\n",
    "    closest_p_vector = find_closest(in_vector, proto_vectors)\n",
    "    closest_distance = 99999\n",
    "    for p_v in proto_vectors:\n",
    "        distance = np.linalg.norm(in_vector - p_v.p_vector)\n",
    "        if (distance < closest_distance) and (p_v != closest_p_vector):\n",
    "            closest_distance = distance\n",
    "            runnerup = p_v\n",
    "    return runnerup"
   ]
  },
  {
   "cell_type": "code",
   "execution_count": 38,
   "metadata": {},
   "outputs": [],
   "source": [
    "def find_class_id(test_vector, p_vectors):\n",
    "    return find_closest(test_vector, p_vectors).class_id"
   ]
  },
  {
   "cell_type": "code",
   "execution_count": 39,
   "metadata": {
    "scrolled": true
   },
   "outputs": [
    {
     "name": "stdout",
     "output_type": "stream",
     "text": [
      "class id \t Initial prototype vector \n",
      "\n",
      "1 \t [0.30481193 0.70631255 0.11583125 0.82602425 0.1009     0.90651475]\n",
      "1 \t [0.1999412  0.44399538 0.19491401 0.74364257 0.131      0.80046743]\n",
      "1 \t [0.15746785 0.47671286 0.13949728 0.74389275 0.0766     0.88664914]\n",
      "1 \t [0.22927071 0.42282525 0.25782743 0.71690311 0.1732     0.70990359]\n",
      "1 \t [0.20592737 0.41397229 0.18153756 0.75178067 0.1393     0.81390593]\n",
      "2 \t [0.41366713 0.55966128 0.37409966 0.77145632 0.2956     0.52673094]\n",
      "2 \t [0.4106153  0.66301001 0.37483463 0.74604132 0.289      0.85422144]\n",
      "2 \t [0.39449925 0.676097   0.33823313 0.69899341 0.2554     0.90885188]\n",
      "2 \t [0.4123631  0.69053118 0.27767162 0.78378856 0.2927     0.90534619]\n",
      "2 \t [0.4106153  0.66301001 0.37483463 0.74604132 0.289      0.85422144]\n",
      "3 \t [0.42687334 0.71343341 0.29295899 0.83079232 0.3249     0.61378907]\n",
      "3 \t [0.44259017 0.5504234  0.51903572 0.82602425 0.3618     0.32865907]\n",
      "3 \t [0.3278468  0.55292533 0.31206821 0.73847716 0.3476     0.58282209]\n",
      "3 \t [0.40520821 0.617398   0.39835367 0.70120085 0.5312     0.41396436]\n",
      "3 \t [0.4571238  0.59430331 0.37645157 0.8105133  0.3979     0.48758399]\n",
      "4 \t [0.4176065  0.61547344 0.38100838 0.75300212 0.5658     0.42243646]\n",
      "4 \t [0.51950169 0.63991532 0.58797589 0.78865964 0.58       0.16827344]\n",
      "4 \t [0.57821916 0.67802156 0.52153462 0.77431128 0.8098     0.16681274]\n",
      "4 \t [0.60099289 0.53675905 0.53755696 0.82359607 0.9247     0.10692375]\n",
      "4 \t [0.44891265 0.58256351 0.30927532 0.87598599 0.6617     0.47502191]\n"
     ]
    }
   ],
   "source": [
    "# Choose R initial prototype for each class\n",
    "p_vectors = []\n",
    "for i in np.array([1, 2, 3, 4]):\n",
    "    # select class i\n",
    "    y_subset = np.where(y_train == i)\n",
    "    # select tuple for chosen class\n",
    "    x_subset = x_train[y_subset]\n",
    "    # get R random indices between 0 and 50\n",
    "    samples = np.random.randint(0, len(x_subset), R)\n",
    "    # select p_vectors, they are chosen randomly from the samples x\n",
    "    for sample in samples:\n",
    "        s = x_subset[sample]\n",
    "        p = prototype(i, s, epsilon)\n",
    "        p_vectors.append(p)\n",
    "\n",
    "print(\"class id \\t Initial prototype vector \\n\")\n",
    "for p_v in p_vectors:\n",
    "    print(p_v.class_id, '\\t', p_v.p_vector)"
   ]
  },
  {
   "cell_type": "code",
   "execution_count": 40,
   "metadata": {
    "scrolled": true
   },
   "outputs": [
    {
     "name": "stdout",
     "output_type": "stream",
     "text": [
      "class id \t Final prototype vector \n",
      "\n",
      "1 \t [0.35983582 0.91604025 0.04988949 0.95494817 0.18972713 0.95464563]\n",
      "1 \t [0.32592883 0.41457177 0.47279003 0.59952234 0.18818411 0.64145855]\n",
      "1 \t [0.12880312 0.50382559 0.09910976 0.7456629  0.04412028 0.94681108]\n",
      "1 \t [0.15846758 0.41102393 0.2283468  0.66825962 0.07863287 0.7789732 ]\n",
      "1 \t [0.32972049 0.59295141 0.24197829 0.82171895 0.16091045 0.74658668]\n",
      "2 \t [0.5011512  0.79804153 0.68962281 0.78998978 0.24819947 0.91116092]\n",
      "2 \t [0.39446158 0.5470057  0.5662295  0.63941518 0.25536756 0.69782337]\n",
      "2 \t [0.39449925 0.676097   0.33823313 0.69899341 0.2554     0.90885188]\n",
      "2 \t [0.4123631  0.69053118 0.27767162 0.78378856 0.2927     0.90534619]\n",
      "2 \t [0.31732366 0.50788292 0.42000772 0.74162562 0.23110231 0.59575458]\n",
      "3 \t [0.39469807 0.6172363  0.2891472  0.82629977 0.41902941 0.60019672]\n",
      "3 \t [0.67622634 0.79349509 0.49042523 0.89124804 0.42212248 0.43526476]\n",
      "3 \t [0.42084861 0.57016652 0.451211   0.7014476  0.46026933 0.39902276]\n",
      "3 \t [0.15215435 0.2843335  0.523171   0.30518569 0.20120539 0.38039941]\n",
      "3 \t [0.67286523 0.8304749  0.36853852 0.86874611 0.51543661 0.45544403]\n",
      "4 \t [0.4367758  0.47120219 0.60658275 0.58611151 0.52981141 0.16355096]\n",
      "4 \t [0.55582544 0.52858962 0.62399468 0.68909461 0.84785994 0.06923539]\n",
      "4 \t [0.42846695 0.36088416 0.8180227  0.36916212 0.55281909 0.03031903]\n",
      "4 \t [0.03243273 0.06026621 0.79079469 0.06990674 0.04728985 0.11251337]\n",
      "4 \t [0.4517366  0.56647112 0.42769711 0.7269663  0.63191778 0.34286937]\n"
     ]
    }
   ],
   "source": [
    "while epsilon >= 0.01:\n",
    "    rnd_i = np.random.randint(0, 150)\n",
    "    rnd_s = x_train[rnd_i]\n",
    "    target_y = y_train[rnd_i]\n",
    "    \n",
    "    epsilon = epsilon - epsilon_dec_factor\n",
    "    \n",
    "    closest_pvector = find_closest(rnd_s, p_vectors)\n",
    "    second_closest_pvector = find_runnerup(rnd_s, p_vectors)\n",
    "    compare_distance = np.linalg.norm(closest_pvector.p_vector - rnd_s)/np.linalg.norm(second_closest_pvector.p_vector - rnd_s)\n",
    "    \n",
    "    if target_y == second_closest_pvector.class_id and target_y != closest_pvector.class_id and compare_distance > 0.8 and compare_distance < 1.2:\n",
    "        closest_pvector.update(rnd_s, False)\n",
    "        second_closest_pvector.update(rnd_s)\n",
    "    elif target_y == closest_pvector.class_id:\n",
    "        closest_pvector.update(rnd_s)\n",
    "    closest_pvector.epsilon = epsilon\n",
    "\n",
    "print(\"class id \\t Final prototype vector \\n\")\n",
    "for p_v in p_vectors:\n",
    "    print(p_v.class_id, '\\t', p_v.p_vector)"
   ]
  },
  {
   "cell_type": "code",
   "execution_count": 41,
   "metadata": {},
   "outputs": [
    {
     "name": "stdout",
     "output_type": "stream",
     "text": [
      "             precision    recall  f1-score   support\n",
      "\n",
      "          1       0.76      0.81      0.79        16\n",
      "          2       0.33      0.18      0.24        11\n",
      "          3       0.80      0.89      0.84        45\n",
      "          4       0.98      0.97      0.97        60\n",
      "\n",
      "avg / total       0.84      0.86      0.85       132\n",
      "\n"
     ]
    }
   ],
   "source": [
    "predicted_y = [find_class_id(instance, p_vectors) for instance in x_test]\n",
    "\n",
    "from sklearn.metrics import classification_report\n",
    "\n",
    "print (classification_report(y_test, predicted_y, target_names=['1', '2', '3', '4']))"
   ]
  }
 ],
 "metadata": {
  "kernelspec": {
   "display_name": "Python 3",
   "language": "python",
   "name": "python3"
  },
  "language_info": {
   "codemirror_mode": {
    "name": "ipython",
    "version": 3
   },
   "file_extension": ".py",
   "mimetype": "text/x-python",
   "name": "python",
   "nbconvert_exporter": "python",
   "pygments_lexer": "ipython3",
   "version": "3.6.5"
  }
 },
 "nbformat": 4,
 "nbformat_minor": 2
}
