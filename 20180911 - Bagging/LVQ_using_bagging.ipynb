{
 "cells": [
  {
   "cell_type": "code",
   "execution_count": 27,
   "metadata": {},
   "outputs": [],
   "source": [
    "import numpy as np\n",
    "import pandas as pd\n",
    "import sys\n",
    "sys.path.insert(0, '../SOM-LVQ')\n",
    "import LVQ\n",
    "from random import randrange"
   ]
  },
  {
   "cell_type": "code",
   "execution_count": 28,
   "metadata": {},
   "outputs": [],
   "source": [
    "train = pd.read_csv(r\"..\\data\\SD-2X_rocktype.csv\")\n",
    "x_train = train.iloc[:, 0:6].values\n",
    "y_train = train.iloc[:, 6].values\n",
    "y_train[y_train==4] = 0"
   ]
  },
  {
   "cell_type": "code",
   "execution_count": 29,
   "metadata": {},
   "outputs": [],
   "source": [
    "from sklearn.preprocessing import MinMaxScaler\n",
    "minmax = MinMaxScaler()\n",
    "x_train = minmax.fit_transform(x_train)"
   ]
  },
  {
   "cell_type": "code",
   "execution_count": 30,
   "metadata": {},
   "outputs": [],
   "source": [
    "test = pd.read_csv(r\"..\\data\\SD-3X_rocktype.csv\")\n",
    "x_test = test.iloc[:, 0:6].values\n",
    "y_test = test.iloc[:, 6].values\n",
    "y_test[y_test==4] = 0\n",
    "x_test = minmax.transform(x_test)"
   ]
  },
  {
   "cell_type": "code",
   "execution_count": 31,
   "metadata": {},
   "outputs": [],
   "source": [
    "# Create a random subsample from the dataset with replacement\n",
    "def subsample(x, y, ratio):\n",
    "    sample_x = list()\n",
    "    sample_y = list()\n",
    "    n_sample = round(len(x) * ratio)\n",
    "    while len(sample_x) < n_sample:\n",
    "        index = randrange(len(x))\n",
    "        sample_x.append(x[index])\n",
    "        sample_y.append(y[index])\n",
    "    return [np.asarray(sample_x), np.asarray(sample_y)]"
   ]
  },
  {
   "cell_type": "code",
   "execution_count": 32,
   "metadata": {},
   "outputs": [],
   "source": [
    "# Bootstrap Aggregation Algorithm\n",
    "def bagging(x_train, y_train, x_test, sample_size, n_clfs):\n",
    "    clfs = list()\n",
    "    for i in range(n_clfs):\n",
    "        sample = subsample(x_train, y_train, sample_size)\n",
    "        lvq = LVQ.LVQ(sample[0], sample[1], n_classes=4, p_vectors=[], n_neurons=25)\n",
    "        y_pred = [lvq.predict(instance) for instance in x_test]\n",
    "        clfs.append(y_pred)\n",
    "    return(np.asarray(clfs))"
   ]
  },
  {
   "cell_type": "code",
   "execution_count": 33,
   "metadata": {},
   "outputs": [],
   "source": [
    "# Make a prediction with a list of bagged clfs\n",
    "def bagging_predict(predictions, n_row, n_clfs):\n",
    "    return [np.bincount([predictions[j][i] for j in range(n_clfs)]).argmax() for i in range(n_row)]"
   ]
  },
  {
   "cell_type": "code",
   "execution_count": 34,
   "metadata": {
    "scrolled": true
   },
   "outputs": [],
   "source": [
    "a = bagging(x_train, y_train, x_test, sample_size=0.5, n_clfs=7)\n",
    "y_pred = bagging_predict(a, n_row=len(a[0]), n_clfs=7)"
   ]
  },
  {
   "cell_type": "code",
   "execution_count": 35,
   "metadata": {
    "scrolled": true
   },
   "outputs": [
    {
     "name": "stdout",
     "output_type": "stream",
     "text": [
      "             precision    recall  f1-score   support\n",
      "\n",
      "          0       0.99      0.76      0.86       331\n",
      "          1       0.96      0.95      0.95        95\n",
      "          2       0.48      0.85      0.61        26\n",
      "          3       0.69      0.89      0.78       205\n",
      "\n",
      "avg / total       0.87      0.83      0.84       657\n",
      "\n"
     ]
    }
   ],
   "source": [
    "from sklearn.metrics import classification_report\n",
    "print (classification_report(y_test,y_pred,target_names=['0', '1', '2', '3']))"
   ]
  },
  {
   "cell_type": "code",
   "execution_count": 46,
   "metadata": {},
   "outputs": [],
   "source": [
    "from sklearn.ensemble import BaggingClassifier"
   ]
  },
  {
   "cell_type": "code",
   "execution_count": 47,
   "metadata": {},
   "outputs": [],
   "source": [
    "import sys\n",
    "sys.path.insert(0, '../SOM-LVQ')\n",
    "import sklearn_LVQ"
   ]
  },
  {
   "cell_type": "code",
   "execution_count": 48,
   "metadata": {},
   "outputs": [],
   "source": [
    "lvq = sklearn_LVQ.LVQ(x = x_train, y = y_train, n_classes=4, p_vectors=[], n_neurons=25)\n",
    "model = BaggingClassifier(base_estimator=lvq, n_estimators=10, max_samples=0.4)"
   ]
  },
  {
   "cell_type": "code",
   "execution_count": 49,
   "metadata": {},
   "outputs": [
    {
     "data": {
      "text/plain": [
       "BaggingClassifier(base_estimator=LVQ(epsilon=0.9, epsilon_dec_factor=0.001, n_classes=4, n_neurons=25,\n",
       "  p_vectors=[<sklearn_LVQ.prototype object at 0x000002210BD52E80>, <sklearn_LVQ.prototype object at 0x000002210BD52E10>, <sklearn_LVQ.prototype object at 0x000002210BD52E48>, <sklearn_LVQ.prototype object at 0x00000...538],\n",
       "       [0.36355, 0.57871, ..., 0.4261 , 0.42448]]),\n",
       "  y=array([1, 1, ..., 3, 3], dtype=int64)),\n",
       "         bootstrap=True, bootstrap_features=False, max_features=1.0,\n",
       "         max_samples=0.4, n_estimators=10, n_jobs=1, oob_score=False,\n",
       "         random_state=None, verbose=0, warm_start=False)"
      ]
     },
     "execution_count": 49,
     "metadata": {},
     "output_type": "execute_result"
    }
   ],
   "source": [
    "model.fit(x_train, y_train)"
   ]
  },
  {
   "cell_type": "code",
   "execution_count": 50,
   "metadata": {},
   "outputs": [
    {
     "name": "stdout",
     "output_type": "stream",
     "text": [
      "             precision    recall  f1-score   support\n",
      "\n",
      "          0       0.97      0.86      0.91       331\n",
      "          1       0.97      0.96      0.96        95\n",
      "          2       0.50      0.85      0.63        26\n",
      "          3       0.79      0.86      0.82       205\n",
      "\n",
      "avg / total       0.89      0.87      0.88       657\n",
      "\n"
     ]
    }
   ],
   "source": [
    "print (classification_report(y_test, model.predict(x_test), target_names=['0', '1', '2', '3']))"
   ]
  }
 ],
 "metadata": {
  "kernelspec": {
   "display_name": "Python 3",
   "language": "python",
   "name": "python3"
  },
  "language_info": {
   "codemirror_mode": {
    "name": "ipython",
    "version": 3
   },
   "file_extension": ".py",
   "mimetype": "text/x-python",
   "name": "python",
   "nbconvert_exporter": "python",
   "pygments_lexer": "ipython3",
   "version": "3.6.5"
  }
 },
 "nbformat": 4,
 "nbformat_minor": 2
}
