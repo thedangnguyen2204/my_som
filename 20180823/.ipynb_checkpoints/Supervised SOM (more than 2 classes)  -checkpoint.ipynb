{
 "cells": [
  {
   "cell_type": "code",
   "execution_count": 1,
   "metadata": {},
   "outputs": [],
   "source": [
    "import numpy as np\n",
    "from sklearn.metrics import euclidean_distances\n",
    "import pandas as pd\n",
    "\n",
    "import sys\n",
    "sys.path.insert(0, '../SOM-LVQ')\n",
    "import minisom\n",
    "import LVQ"
   ]
  },
  {
   "cell_type": "code",
   "execution_count": 2,
   "metadata": {},
   "outputs": [
    {
     "name": "stderr",
     "output_type": "stream",
     "text": [
      "C:\\Users\\Thend\\Anaconda3\\lib\\site-packages\\sklearn\\cross_validation.py:41: DeprecationWarning: This module was deprecated in version 0.18 in favor of the model_selection module into which all the refactored classes and functions are moved. Also note that the interface of the new CV iterators are different from that of this module. This module will be removed in 0.20.\n",
      "  \"This module will be removed in 0.20.\", DeprecationWarning)\n"
     ]
    }
   ],
   "source": [
    "data = pd.read_csv(r\"../data/SD-2X_rocktype.csv\")\n",
    "x = data.iloc[:, 0:6].values\n",
    "y = data.iloc[:, 6].values\n",
    "y[y==4] = 0\n",
    "from sklearn.cross_validation import train_test_split\n",
    "x_train, x_test, y_train, y_test = train_test_split(x, y, test_size = 0.1, random_state=44)\n",
    "\n",
    "# use Minmaxscaler because we use euclidean distance\n",
    "from sklearn.preprocessing import MinMaxScaler\n",
    "minmax = MinMaxScaler()\n",
    "x_train = minmax.fit_transform(x_train)\n",
    "x_test = minmax.transform(x_test)"
   ]
  },
  {
   "cell_type": "code",
   "execution_count": 3,
   "metadata": {},
   "outputs": [],
   "source": [
    "# Training the SOM\n",
    "from minisom import MiniSom\n",
    "som = MiniSom(x = 15, y = 15, input_len = 6, sigma = 1.0, learning_rate = 0.5)\n",
    "som.random_weights_init(x_train)\n",
    "som.train_random(data = x_train, num_iteration = 100)"
   ]
  },
  {
   "cell_type": "code",
   "execution_count": 4,
   "metadata": {
    "scrolled": true
   },
   "outputs": [],
   "source": [
    "labels = np.zeros((4, 15, 15))\n",
    "propa = np.zeros((4, 15, 15))"
   ]
  },
  {
   "cell_type": "code",
   "execution_count": 5,
   "metadata": {
    "scrolled": true
   },
   "outputs": [
    {
     "data": {
      "text/plain": [
       "<Figure size 640x480 with 2 Axes>"
      ]
     },
     "metadata": {},
     "output_type": "display_data"
    }
   ],
   "source": [
    "# Visualizing the results\n",
    "from pylab import bone, pcolor, colorbar, plot, show\n",
    "bone()\n",
    "pcolor(som.distance_map().T)\n",
    "colorbar()\n",
    "markers = ['v', 's', 'o', '4']\n",
    "colors = ['r', 'g', 'b', 'y']\n",
    "for i, x in enumerate(x_train):\n",
    "    w = som.winner(x)\n",
    "    plot(w[0] + 0.5,\n",
    "         w[1] + 0.5,\n",
    "         markers[y_train[i]],\n",
    "         markeredgecolor = colors[y_train[i]],\n",
    "         markerfacecolor = 'None',\n",
    "         markersize = 10,\n",
    "         markeredgewidth = 2)\n",
    "    if y_train[i] == 0:\n",
    "        labels[0, w[0], w[1]] += 1\n",
    "    elif y_train[i] == 1:\n",
    "        labels[1, w[0], w[1]] += 1\n",
    "    elif y_train[i] == 2:\n",
    "        labels[2, w[0], w[1]] += 1\n",
    "    elif y_train[i] == 3:\n",
    "        labels[3, w[0], w[1]] += 1\n",
    "show()"
   ]
  },
  {
   "cell_type": "code",
   "execution_count": 6,
   "metadata": {},
   "outputs": [],
   "source": [
    "for i in range(4):\n",
    "    for j in range(15):\n",
    "        for k in range(15):\n",
    "            total = labels[0, j, k] + labels[1, j, k] + labels[2, j, k] + labels[3, j, k]\n",
    "            if total == 0. :\n",
    "                continue\n",
    "            else:\n",
    "                propa[i, j, k] = labels[i, j, k] / total\n",
    "                propa[i, j, k] = round(propa[i, j, k], 2)"
   ]
  },
  {
   "cell_type": "code",
   "execution_count": 7,
   "metadata": {},
   "outputs": [
    {
     "data": {
      "text/plain": [
       "array([[[1.  , 1.  , 1.  , 0.  , 0.67, 0.  , 1.  , 0.  , 0.  , 0.  ,\n",
       "         0.  , 0.  , 0.  , 0.  , 1.  ],\n",
       "        [1.  , 1.  , 0.95, 0.  , 0.  , 0.  , 1.  , 0.67, 0.  , 0.  ,\n",
       "         0.  , 0.  , 0.  , 0.  , 0.  ],\n",
       "        [1.  , 0.  , 0.  , 0.  , 0.  , 1.  , 1.  , 1.  , 0.  , 0.  ,\n",
       "         0.  , 0.  , 0.  , 0.  , 0.02],\n",
       "        [0.  , 0.  , 0.  , 0.  , 0.  , 0.99, 0.  , 0.  , 0.  , 0.  ,\n",
       "         0.  , 0.  , 0.  , 0.  , 0.16],\n",
       "        [0.  , 0.  , 0.  , 0.  , 0.  , 0.  , 0.  , 0.75, 0.12, 0.  ,\n",
       "         0.  , 0.  , 0.  , 0.  , 0.  ],\n",
       "        [0.  , 0.  , 0.  , 0.  , 0.  , 0.19, 1.  , 0.  , 0.  , 1.  ,\n",
       "         0.  , 0.  , 0.  , 0.  , 0.  ],\n",
       "        [0.22, 0.  , 0.  , 1.  , 0.  , 0.  , 0.  , 0.8 , 0.67, 1.  ,\n",
       "         0.  , 0.  , 0.  , 0.  , 0.  ],\n",
       "        [0.  , 1.  , 0.  , 0.  , 0.  , 0.  , 0.  , 0.  , 0.  , 0.  ,\n",
       "         0.  , 0.  , 0.  , 0.  , 0.  ],\n",
       "        [0.33, 0.  , 0.8 , 1.  , 0.  , 0.  , 0.  , 0.  , 0.  , 1.  ,\n",
       "         1.  , 0.  , 0.  , 0.  , 0.  ],\n",
       "        [0.  , 1.  , 1.  , 0.  , 0.  , 0.  , 0.  , 0.  , 0.  , 1.  ,\n",
       "         1.  , 0.  , 0.  , 0.  , 0.  ],\n",
       "        [1.  , 1.  , 1.  , 1.  , 0.4 , 0.5 , 0.  , 0.  , 0.6 , 0.  ,\n",
       "         1.  , 0.  , 0.  , 0.  , 1.  ],\n",
       "        [0.  , 1.  , 1.  , 1.  , 0.  , 0.  , 0.  , 0.4 , 1.  , 1.  ,\n",
       "         0.  , 0.  , 0.  , 1.  , 0.  ],\n",
       "        [0.29, 1.  , 1.  , 1.  , 0.  , 1.  , 1.  , 1.  , 1.  , 1.  ,\n",
       "         0.  , 0.  , 0.5 , 1.  , 0.  ],\n",
       "        [1.  , 0.  , 0.  , 0.  , 1.  , 1.  , 0.  , 0.  , 0.  , 1.  ,\n",
       "         1.  , 0.  , 1.  , 0.4 , 0.  ],\n",
       "        [0.  , 0.33, 0.  , 1.  , 1.  , 0.  , 1.  , 0.  , 0.  , 0.  ,\n",
       "         1.  , 1.  , 0.  , 1.  , 0.  ]],\n",
       "\n",
       "       [[0.  , 0.  , 0.  , 0.  , 0.  , 0.  , 0.  , 0.  , 0.  , 0.  ,\n",
       "         0.75, 0.88, 0.75, 0.  , 0.  ],\n",
       "        [0.  , 0.  , 0.  , 0.  , 0.  , 0.  , 0.  , 0.  , 0.33, 0.33,\n",
       "         0.  , 0.  , 0.  , 0.8 , 0.  ],\n",
       "        [0.  , 0.  , 0.  , 0.  , 0.  , 0.  , 0.  , 0.  , 1.  , 0.2 ,\n",
       "         0.5 , 0.99, 0.  , 0.6 , 0.  ],\n",
       "        [0.  , 0.  , 0.  , 0.31, 0.  , 0.  , 0.  , 0.  , 0.  , 0.  ,\n",
       "         1.  , 1.  , 0.  , 0.  , 0.  ],\n",
       "        [0.  , 0.2 , 0.  , 0.  , 0.  , 0.  , 0.  , 0.  , 0.  , 0.  ,\n",
       "         0.  , 0.  , 0.  , 0.  , 0.  ],\n",
       "        [0.  , 0.17, 0.  , 0.  , 0.  , 0.  , 0.  , 0.  , 0.  , 0.  ,\n",
       "         0.  , 0.  , 0.  , 0.  , 0.  ],\n",
       "        [0.  , 0.  , 0.  , 0.  , 0.  , 0.  , 0.  , 0.  , 0.  , 0.  ,\n",
       "         0.  , 0.  , 0.  , 0.  , 1.  ],\n",
       "        [0.  , 0.  , 0.  , 0.  , 0.  , 0.  , 0.  , 0.  , 0.  , 1.  ,\n",
       "         0.  , 0.  , 0.  , 0.  , 0.  ],\n",
       "        [0.  , 0.  , 0.  , 0.  , 0.  , 0.  , 0.  , 0.04, 0.  , 0.  ,\n",
       "         0.  , 0.  , 0.  , 0.  , 0.  ],\n",
       "        [0.  , 0.  , 0.  , 0.  , 0.  , 0.  , 0.  , 0.  , 0.  , 0.  ,\n",
       "         0.  , 0.  , 0.25, 0.  , 0.  ],\n",
       "        [0.  , 0.  , 0.  , 0.  , 0.  , 0.  , 0.  , 0.  , 0.  , 0.  ,\n",
       "         0.  , 0.  , 0.  , 0.  , 0.  ],\n",
       "        [0.  , 0.  , 0.  , 0.  , 0.  , 0.  , 0.  , 0.  , 0.  , 0.  ,\n",
       "         0.  , 0.  , 0.  , 0.  , 0.  ],\n",
       "        [0.  , 0.  , 0.  , 0.  , 0.  , 0.  , 0.  , 0.  , 0.  , 0.  ,\n",
       "         0.  , 0.  , 0.  , 0.  , 0.  ],\n",
       "        [0.  , 0.  , 0.  , 0.  , 0.  , 0.  , 0.  , 0.  , 0.  , 0.  ,\n",
       "         0.  , 0.  , 0.  , 0.  , 0.  ],\n",
       "        [0.  , 0.  , 0.  , 0.  , 0.  , 0.  , 0.  , 0.  , 0.  , 0.  ,\n",
       "         0.  , 0.  , 0.  , 0.  , 0.  ]],\n",
       "\n",
       "       [[0.  , 0.  , 0.  , 0.  , 0.  , 0.  , 0.  , 0.  , 0.  , 0.  ,\n",
       "         0.25, 0.12, 0.25, 0.29, 0.  ],\n",
       "        [0.  , 0.  , 0.  , 0.  , 0.  , 0.2 , 0.  , 0.  , 0.22, 0.67,\n",
       "         0.  , 0.  , 0.  , 0.  , 0.5 ],\n",
       "        [0.  , 0.  , 0.  , 0.  , 1.  , 0.  , 0.  , 0.  , 0.  , 0.8 ,\n",
       "         0.5 , 0.01, 0.67, 0.4 , 0.1 ],\n",
       "        [0.  , 0.  , 1.  , 0.69, 0.  , 0.  , 0.  , 1.  , 0.  , 0.  ,\n",
       "         0.  , 0.  , 1.  , 1.  , 0.  ],\n",
       "        [0.  , 0.3 , 1.  , 0.  , 0.  , 0.  , 0.  , 0.  , 0.  , 0.5 ,\n",
       "         0.  , 0.  , 0.  , 0.  , 0.  ],\n",
       "        [0.  , 0.67, 0.  , 1.  , 0.  , 0.  , 0.  , 0.  , 0.  , 0.  ,\n",
       "         0.  , 0.33, 0.  , 0.  , 1.  ],\n",
       "        [0.  , 0.  , 0.  , 0.  , 0.  , 0.78, 0.  , 0.  , 0.  , 0.  ,\n",
       "         0.  , 0.11, 0.  , 0.  , 0.  ],\n",
       "        [1.  , 0.  , 0.  , 0.  , 0.  , 0.5 , 1.  , 0.  , 0.  , 0.  ,\n",
       "         0.  , 0.  , 0.  , 0.  , 1.  ],\n",
       "        [0.  , 0.  , 0.  , 0.  , 0.  , 0.  , 0.19, 0.83, 0.1 , 0.  ,\n",
       "         0.  , 0.  , 0.  , 0.  , 0.62],\n",
       "        [0.  , 0.  , 0.  , 0.  , 0.  , 0.  , 0.  , 0.75, 0.  , 0.  ,\n",
       "         0.  , 0.  , 0.75, 0.  , 0.  ],\n",
       "        [0.  , 0.  , 0.  , 0.  , 0.  , 0.  , 0.  , 0.  , 0.  , 0.  ,\n",
       "         0.  , 0.  , 0.  , 0.  , 0.  ],\n",
       "        [0.  , 0.  , 0.  , 0.  , 0.  , 0.  , 0.  , 0.  , 0.  , 0.  ,\n",
       "         0.  , 0.  , 0.  , 0.  , 0.  ],\n",
       "        [0.  , 0.  , 0.  , 0.  , 0.  , 0.  , 0.  , 0.  , 0.  , 0.  ,\n",
       "         0.  , 0.  , 0.  , 0.  , 0.  ],\n",
       "        [0.  , 0.  , 0.  , 0.  , 0.  , 0.  , 0.  , 0.  , 0.  , 0.  ,\n",
       "         0.  , 0.  , 0.  , 0.  , 0.  ],\n",
       "        [0.  , 0.  , 0.  , 0.  , 0.  , 0.  , 0.  , 0.  , 0.  , 0.  ,\n",
       "         0.  , 0.  , 0.  , 0.  , 1.  ]],\n",
       "\n",
       "       [[0.  , 0.  , 0.  , 1.  , 0.33, 1.  , 0.  , 0.  , 1.  , 1.  ,\n",
       "         0.  , 0.  , 0.  , 0.71, 0.  ],\n",
       "        [0.  , 0.  , 0.05, 0.  , 1.  , 0.8 , 0.  , 0.33, 0.44, 0.  ,\n",
       "         0.  , 0.  , 0.  , 0.2 , 0.5 ],\n",
       "        [0.  , 1.  , 0.  , 1.  , 0.  , 0.  , 0.  , 0.  , 0.  , 0.  ,\n",
       "         0.  , 0.  , 0.33, 0.  , 0.88],\n",
       "        [0.  , 1.  , 0.  , 0.  , 1.  , 0.01, 0.  , 0.  , 0.  , 1.  ,\n",
       "         0.  , 0.  , 0.  , 0.  , 0.84],\n",
       "        [1.  , 0.5 , 0.  , 0.  , 0.  , 1.  , 1.  , 0.25, 0.88, 0.5 ,\n",
       "         0.  , 0.  , 0.  , 1.  , 1.  ],\n",
       "        [0.  , 0.17, 0.  , 0.  , 0.  , 0.81, 0.  , 1.  , 1.  , 0.  ,\n",
       "         1.  , 0.67, 1.  , 1.  , 0.  ],\n",
       "        [0.78, 0.  , 0.  , 0.  , 1.  , 0.22, 1.  , 0.2 , 0.33, 0.  ,\n",
       "         1.  , 0.89, 1.  , 1.  , 0.  ],\n",
       "        [0.  , 0.  , 0.  , 1.  , 0.  , 0.5 , 0.  , 1.  , 1.  , 0.  ,\n",
       "         1.  , 0.  , 1.  , 0.  , 0.  ],\n",
       "        [0.67, 0.  , 0.2 , 0.  , 0.  , 1.  , 0.81, 0.12, 0.9 , 0.  ,\n",
       "         0.  , 1.  , 1.  , 0.  , 0.38],\n",
       "        [0.  , 0.  , 0.  , 0.  , 1.  , 1.  , 1.  , 0.25, 0.  , 0.  ,\n",
       "         0.  , 0.  , 0.  , 1.  , 1.  ],\n",
       "        [0.  , 0.  , 0.  , 0.  , 0.6 , 0.5 , 1.  , 0.  , 0.4 , 0.  ,\n",
       "         0.  , 0.  , 0.  , 1.  , 0.  ],\n",
       "        [0.  , 0.  , 0.  , 0.  , 1.  , 1.  , 1.  , 0.6 , 0.  , 0.  ,\n",
       "         0.  , 0.  , 0.  , 0.  , 0.  ],\n",
       "        [0.71, 0.  , 0.  , 0.  , 1.  , 0.  , 0.  , 0.  , 0.  , 0.  ,\n",
       "         1.  , 1.  , 0.5 , 0.  , 1.  ],\n",
       "        [0.  , 0.  , 1.  , 0.  , 0.  , 0.  , 1.  , 1.  , 1.  , 0.  ,\n",
       "         0.  , 0.  , 0.  , 0.6 , 0.  ],\n",
       "        [1.  , 0.67, 1.  , 0.  , 0.  , 1.  , 0.  , 1.  , 0.  , 0.  ,\n",
       "         0.  , 0.  , 1.  , 0.  , 0.  ]]])"
      ]
     },
     "execution_count": 7,
     "metadata": {},
     "output_type": "execute_result"
    }
   ],
   "source": [
    "propa"
   ]
  },
  {
   "cell_type": "code",
   "execution_count": 8,
   "metadata": {
    "scrolled": true
   },
   "outputs": [],
   "source": [
    "p_vectors = som.weights"
   ]
  },
  {
   "cell_type": "code",
   "execution_count": 9,
   "metadata": {},
   "outputs": [],
   "source": [
    "taggings = np.zeros((15, 15))\n",
    "for i in range(15):\n",
    "    for j in range(15):\n",
    "        tmp = np.array([labels[0][i][j], labels[1][i][j], labels[2][i][j], labels[3][i][j]])\n",
    "        sort = tmp.argsort()\n",
    "        if (tmp[sort[3]] <= tmp[sort[2]] * 5): # must be improve\n",
    "            taggings[i][j] = np.random.choice([sort[3], sort[2]])\n",
    "        else:\n",
    "            taggings[i][j] = sort[3]"
   ]
  },
  {
   "cell_type": "code",
   "execution_count": 10,
   "metadata": {},
   "outputs": [],
   "source": [
    "def find_closest(in_vector, proto_vectors):\n",
    "    \"\"\"\n",
    "    Find the closest prototype vector for a given vector\n",
    "\n",
    "    Parameters\n",
    "    -------\n",
    "    in_vector: the given vector\n",
    "    proto_vectors: the set of prototype vectors\n",
    "    \"\"\"\n",
    "    closest_distance = 99999\n",
    "    for i in range(15):\n",
    "        for j in range(15):\n",
    "#             if (labels[0, i, j] == 0 and labels[1, i, j] == 0 and labels[2, i, j] == 0 and labels[3, i, j] == 0):\n",
    "#                 continue\n",
    "#             else:\n",
    "            distance = np.linalg.norm(in_vector - proto_vectors[i][j])\n",
    "            if distance < closest_distance:\n",
    "                closest_distance = distance\n",
    "                closest = (i, j)         \n",
    "    return closest"
   ]
  },
  {
   "cell_type": "code",
   "execution_count": 11,
   "metadata": {},
   "outputs": [],
   "source": [
    "def predict(test_vector, p, taggings):\n",
    "    position = find_closest(test_vector, p)\n",
    "    return taggings[position[0], position[1]]"
   ]
  },
  {
   "cell_type": "code",
   "execution_count": 12,
   "metadata": {},
   "outputs": [
    {
     "name": "stdout",
     "output_type": "stream",
     "text": [
      "             precision    recall  f1-score   support\n",
      "\n",
      "          0       0.92      0.91      0.92        54\n",
      "          1       0.94      0.70      0.80        23\n",
      "          2       0.31      0.62      0.42         8\n",
      "          3       0.83      0.81      0.82        47\n",
      "\n",
      "avg / total       0.86      0.82      0.83       132\n",
      "\n"
     ]
    }
   ],
   "source": [
    "predicted_y1 = [predict(instance, p_vectors, taggings) for instance in x_test]\n",
    "\n",
    "from sklearn.metrics import classification_report\n",
    "\n",
    "print (classification_report(y_test, predicted_y1, target_names=['0','1', '2', '3']))"
   ]
  },
  {
   "cell_type": "code",
   "execution_count": 13,
   "metadata": {
    "scrolled": true
   },
   "outputs": [
    {
     "name": "stdout",
     "output_type": "stream",
     "text": [
      "             precision    recall  f1-score   support\n",
      "\n",
      "          0       0.83      0.95      0.88       331\n",
      "          1       0.93      0.27      0.42        95\n",
      "          2       0.09      0.35      0.14        26\n",
      "          3       0.68      0.48      0.56       205\n",
      "\n",
      "avg / total       0.77      0.68      0.69       657\n",
      "\n"
     ]
    }
   ],
   "source": [
    "data_new = pd.read_csv(r\"../data/SD-3X_rocktype.csv\")\n",
    "x_new = data_new.iloc[:, 0:6].values\n",
    "y_new = data_new.iloc[:, 6].values\n",
    "y_new[y_new == 4] = 0\n",
    "x_new = minmax.fit_transform(x_new)\n",
    "predicted_y_new = [predict(instance, p_vectors, taggings) for instance in x_new]\n",
    "\n",
    "from sklearn.metrics import classification_report\n",
    "\n",
    "print (classification_report(y_new, predicted_y_new, target_names=['0', '1', '2', '3']))"
   ]
  },
  {
   "cell_type": "code",
   "execution_count": 14,
   "metadata": {},
   "outputs": [],
   "source": [
    "mappings = som.win_map(x_train)"
   ]
  },
  {
   "cell_type": "code",
   "execution_count": 15,
   "metadata": {},
   "outputs": [
    {
     "data": {
      "text/plain": [
       "[array([0.40058981, 0.5017321 , 0.53805576, 0.64099659, 0.3959    ,\n",
       "        0.30937774]),\n",
       " array([0.42148027, 0.55985373, 0.58477769, 0.66268837, 0.438     ,\n",
       "        0.23984809]),\n",
       " array([0.39018151, 0.54445727, 0.57874906, 0.71453379, 0.3759    ,\n",
       "        0.26877008])]"
      ]
     },
     "execution_count": 15,
     "metadata": {},
     "output_type": "execute_result"
    }
   ],
   "source": [
    "mappings[(0,4)]"
   ]
  },
  {
   "cell_type": "code",
   "execution_count": null,
   "metadata": {},
   "outputs": [],
   "source": []
  },
  {
   "cell_type": "code",
   "execution_count": null,
   "metadata": {},
   "outputs": [],
   "source": []
  },
  {
   "cell_type": "code",
   "execution_count": null,
   "metadata": {},
   "outputs": [],
   "source": []
  }
 ],
 "metadata": {
  "kernelspec": {
   "display_name": "Python 3",
   "language": "python",
   "name": "python3"
  },
  "language_info": {
   "codemirror_mode": {
    "name": "ipython",
    "version": 3
   },
   "file_extension": ".py",
   "mimetype": "text/x-python",
   "name": "python",
   "nbconvert_exporter": "python",
   "pygments_lexer": "ipython3",
   "version": "3.6.5"
  }
 },
 "nbformat": 4,
 "nbformat_minor": 2
}
