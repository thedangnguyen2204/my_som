{
 "cells": [
  {
   "cell_type": "code",
   "execution_count": 36,
   "metadata": {},
   "outputs": [],
   "source": [
    "import numpy as np\n",
    "from sklearn.metrics import euclidean_distances\n",
    "import pandas as pd\n",
    "\n",
    "import sys\n",
    "sys.path.insert(0, '../SOM-LVQ')\n",
    "import minisom\n",
    "import LVQ"
   ]
  },
  {
   "cell_type": "code",
   "execution_count": 37,
   "metadata": {},
   "outputs": [],
   "source": [
    "data = pd.read_csv(r\"../data/SD-3X_rocktype.csv\")\n",
    "x = data.iloc[:, 0:6].values\n",
    "y = data.iloc[:, 6].values\n",
    "y[y==4] = 0\n",
    "from sklearn.cross_validation import train_test_split\n",
    "x_train, x_test, y_train, y_test = train_test_split(x, y, test_size = 0.1, random_state=44)\n",
    "\n",
    "# use Minmaxscaler because we use euclidean distance\n",
    "from sklearn.preprocessing import MinMaxScaler\n",
    "minmax = MinMaxScaler()\n",
    "x_train = minmax.fit_transform(x_train)\n",
    "x_test = minmax.transform(x_test)"
   ]
  },
  {
   "cell_type": "code",
   "execution_count": 38,
   "metadata": {},
   "outputs": [],
   "source": [
    "# Training the SOM\n",
    "from minisom import MiniSom\n",
    "som = MiniSom(x = 10, y = 10, input_len = 6, sigma = 1.0, learning_rate = 0.5)\n",
    "som.random_weights_init(x_train)\n",
    "som.train_random(data = x_train, num_iteration = 100)"
   ]
  },
  {
   "cell_type": "code",
   "execution_count": 39,
   "metadata": {
    "scrolled": true
   },
   "outputs": [],
   "source": [
    "labels = np.zeros((4, 10, 10))\n",
    "propa = np.zeros((4, 10, 10))"
   ]
  },
  {
   "cell_type": "code",
   "execution_count": 40,
   "metadata": {
    "scrolled": true
   },
   "outputs": [
    {
     "data": {
      "image/png": "[encoded data removed]",
      "text/plain": [
       "<Figure size 432x288 with 2 Axes>"
      ]
     },
     "metadata": {},
     "output_type": "display_data"
    }
   ],
   "source": [
    "# Visualizing the results\n",
    "from pylab import bone, pcolor, colorbar, plot, show\n",
    "bone()\n",
    "pcolor(som.distance_map().T)\n",
    "colorbar()\n",
    "markers = ['v', 's', 'o', '4']\n",
    "colors = ['r', 'g', 'b', 'y']\n",
    "for i, x in enumerate(x_train):\n",
    "    w = som.winner(x)\n",
    "    plot(w[0] + 0.5,\n",
    "         w[1] + 0.5,\n",
    "         markers[y_train[i]],\n",
    "         markeredgecolor = colors[y_train[i]],\n",
    "         markerfacecolor = 'None',\n",
    "         markersize = 10,\n",
    "         markeredgewidth = 2)\n",
    "    if y_train[i] == 0:\n",
    "        labels[0, w[0], w[1]] += 1\n",
    "    elif y_train[i] == 1:\n",
    "        labels[1, w[0], w[1]] += 1\n",
    "    elif y_train[i] == 2:\n",
    "        labels[2, w[0], w[1]] += 1\n",
    "    elif y_train[i] == 3:\n",
    "        labels[3, w[0], w[1]] += 1\n",
    "show()"
   ]
  },
  {
   "cell_type": "code",
   "execution_count": 41,
   "metadata": {},
   "outputs": [],
   "source": [
    "for i in range(4):\n",
    "    for j in range(10):\n",
    "        for k in range(10):\n",
    "            total = labels[0, j, k] + labels[1, j, k] + labels[2, j, k] + labels[3, j, k]\n",
    "            if total == 0. :\n",
    "                continue\n",
    "            else:\n",
    "                propa[i, j, k] = labels[i, j, k] / total\n",
    "                propa[i, j, k] = round(propa[i, j, k], 2)"
   ]
  },
  {
   "cell_type": "code",
   "execution_count": 42,
   "metadata": {
    "scrolled": true
   },
   "outputs": [],
   "source": [
    "p_vectors = som.weights"
   ]
  },
  {
   "cell_type": "code",
   "execution_count": 43,
   "metadata": {},
   "outputs": [],
   "source": [
    "taggings = np.zeros((10, 10))\n",
    "for i in range(10):\n",
    "    for j in range(10):\n",
    "        tmp = np.array([labels[0][i][j], labels[1][i][j], labels[2][i][j], labels[3][i][j]])\n",
    "        sort = tmp.argsort()\n",
    "        if (tmp[sort[3]] <= tmp[sort[2]] * 5): # must be improve\n",
    "            taggings[i][j] = np.random.choice([sort[3], sort[2]])\n",
    "        else:\n",
    "            taggings[i][j] = sort[3]"
   ]
  },
  {
   "cell_type": "code",
   "execution_count": 44,
   "metadata": {},
   "outputs": [],
   "source": [
    "def find_closest(in_vector, proto_vectors, labels):\n",
    "    \"\"\"\n",
    "    Find the closest prototype vector for a given vector\n",
    "\n",
    "    Parameters\n",
    "    -------\n",
    "    in_vector: the given vector\n",
    "    proto_vectors: the set of prototype vectors\n",
    "    \"\"\"\n",
    "    closest_distance = 99999\n",
    "    for i in range(10):\n",
    "        for j in range(10):\n",
    "            if (labels[0, i, j] == 0 and labels[1, i, j] == 0 and labels[2, i, j] == 0 and labels[3, i, j] == 0):\n",
    "                continue\n",
    "            else:\n",
    "                distance = np.linalg.norm(in_vector - proto_vectors[i][j])\n",
    "                if distance < closest_distance:\n",
    "                    closest_distance = distance\n",
    "                    closest = (i, j)         \n",
    "    return closest"
   ]
  },
  {
   "cell_type": "code",
   "execution_count": 45,
   "metadata": {},
   "outputs": [],
   "source": [
    "def predict(test_vector, p, taggings, labels):\n",
    "    position = find_closest(test_vector, p, labels)\n",
    "    return taggings[position[0], position[1]]"
   ]
  },
  {
   "cell_type": "code",
   "execution_count": 46,
   "metadata": {},
   "outputs": [
    {
     "name": "stdout",
     "output_type": "stream",
     "text": [
      "             precision    recall  f1-score   support\n",
      "\n",
      "          0       0.96      0.88      0.92        25\n",
      "          1       0.94      1.00      0.97        15\n",
      "          2       0.50      0.50      0.50         4\n",
      "          3       0.83      0.86      0.84        22\n",
      "\n",
      "avg / total       0.88      0.88      0.88        66\n",
      "\n"
     ]
    }
   ],
   "source": [
    "predicted_y1 = [predict(instance, p_vectors, taggings, labels) for instance in x_test]\n",
    "\n",
    "from sklearn.metrics import classification_report\n",
    "\n",
    "print (classification_report(y_test, predicted_y1, target_names=['0','1', '2', '3']))"
   ]
  },
  {
   "cell_type": "code",
   "execution_count": 47,
   "metadata": {
    "scrolled": true
   },
   "outputs": [
    {
     "name": "stdout",
     "output_type": "stream",
     "text": [
      "             precision    recall  f1-score   support\n",
      "\n",
      "          0       0.93      0.94      0.93       331\n",
      "          1       0.99      0.94      0.96        95\n",
      "          2       0.59      0.77      0.67        26\n",
      "          3       0.87      0.84      0.86       205\n",
      "\n",
      "avg / total       0.91      0.90      0.90       657\n",
      "\n"
     ]
    }
   ],
   "source": [
    "data_new = pd.read_csv(r\"../data/SD-3X_rocktype.csv\")\n",
    "x_new = data_new.iloc[:, 0:6].values\n",
    "y_new = data_new.iloc[:, 6].values\n",
    "y_new[y_new == 4] = 0\n",
    "x_new = minmax.fit_transform(x_new)\n",
    "predicted_y_new = [predict(instance, p_vectors, taggings, labels) for instance in x_new]\n",
    "\n",
    "from sklearn.metrics import classification_report\n",
    "\n",
    "print (classification_report(y_new, predicted_y_new, target_names=['0', '1', '2', '3']))"
   ]
  },
  {
   "cell_type": "markdown",
   "metadata": {},
   "source": [
    "# Next SOM"
   ]
  },
  {
   "cell_type": "code",
   "execution_count": 48,
   "metadata": {},
   "outputs": [],
   "source": [
    "# Training the SOM\n",
    "from minisom import MiniSom\n",
    "som2 = MiniSom(x = 10, y = 10, input_len = 6, sigma = 1.0, learning_rate = 0.5)\n",
    "som2.random_weights_init(x_train)\n",
    "som2.train_random(data = x_train, num_iteration = 100)"
   ]
  },
  {
   "cell_type": "code",
   "execution_count": 49,
   "metadata": {},
   "outputs": [],
   "source": [
    "labels2 = np.zeros((4, 10, 10))\n",
    "propa2 = np.zeros((4, 10, 10))"
   ]
  },
  {
   "cell_type": "code",
   "execution_count": 50,
   "metadata": {
    "scrolled": false
   },
   "outputs": [
    {
     "data": {
      "image/png": "[encoded data removed]",
      "text/plain": [
       "<Figure size 432x288 with 2 Axes>"
      ]
     },
     "metadata": {},
     "output_type": "display_data"
    }
   ],
   "source": [
    "# Visualizing the results\n",
    "from pylab import bone, pcolor, colorbar, plot, show\n",
    "bone()\n",
    "pcolor(som2.distance_map().T)\n",
    "colorbar()\n",
    "markers = ['v', 's', 'o', '4']\n",
    "colors = ['r', 'g', 'b', 'y']\n",
    "for i, x in enumerate(x_train):\n",
    "    w = som2.winner(x)\n",
    "    plot(w[0] + 0.5,\n",
    "         w[1] + 0.5,\n",
    "         markers[y_train[i]],\n",
    "         markeredgecolor = colors[y_train[i]],\n",
    "         markerfacecolor = 'None',\n",
    "         markersize = 10,\n",
    "         markeredgewidth = 2)\n",
    "    if y_train[i] == 0:\n",
    "        labels2[0, w[0], w[1]] += 1\n",
    "    elif y_train[i] == 1:\n",
    "        labels2[1, w[0], w[1]] += 1\n",
    "    elif y_train[i] == 2:\n",
    "        labels2[2, w[0], w[1]] += 1\n",
    "    elif y_train[i] == 3:\n",
    "        labels2[3, w[0], w[1]] += 1\n",
    "show()"
   ]
  },
  {
   "cell_type": "code",
   "execution_count": 51,
   "metadata": {},
   "outputs": [],
   "source": [
    "for i in range(4):\n",
    "    for j in range(10):\n",
    "        for k in range(10):\n",
    "            total = labels2[0, j, k] + labels2[1, j, k] + labels2[2, j, k] + labels2[3, j, k]\n",
    "            if total == 0. :\n",
    "                continue\n",
    "            else:\n",
    "                propa2[i, j, k] = labels2[i, j, k] / total\n",
    "                propa2[i, j, k] = round(propa2[i, j, k], 2)"
   ]
  },
  {
   "cell_type": "code",
   "execution_count": 52,
   "metadata": {},
   "outputs": [],
   "source": [
    "p_vectors2 = som2.weights"
   ]
  },
  {
   "cell_type": "code",
   "execution_count": 53,
   "metadata": {},
   "outputs": [],
   "source": [
    "taggings2 = np.zeros((10, 10))\n",
    "for i in range(10):\n",
    "    for j in range(10):\n",
    "        tmp = np.array([labels2[0][i][j], labels2[1][i][j], labels2[2][i][j], labels2[3][i][j]])\n",
    "        sort = tmp.argsort()\n",
    "        if (tmp[sort[3]] <= tmp[sort[2]] * 5): # must be improve\n",
    "            taggings2[i][j] = np.random.choice([sort[3], sort[2]])\n",
    "        else:\n",
    "            taggings2[i][j] = sort[3]"
   ]
  },
  {
   "cell_type": "code",
   "execution_count": 54,
   "metadata": {},
   "outputs": [
    {
     "name": "stdout",
     "output_type": "stream",
     "text": [
      "             precision    recall  f1-score   support\n",
      "\n",
      "          0       0.92      0.92      0.92        25\n",
      "          1       0.93      0.93      0.93        15\n",
      "          2       0.40      0.50      0.44         4\n",
      "          3       0.86      0.82      0.84        22\n",
      "\n",
      "avg / total       0.87      0.86      0.87        66\n",
      "\n"
     ]
    }
   ],
   "source": [
    "predicted_y2 = [predict(instance, p_vectors2, taggings2, labels2) for instance in x_test]\n",
    "\n",
    "from sklearn.metrics import classification_report\n",
    "\n",
    "print (classification_report(y_test, predicted_y2, target_names=['0','1', '2', '3']))"
   ]
  },
  {
   "cell_type": "markdown",
   "metadata": {},
   "source": [
    "# Next SOM"
   ]
  },
  {
   "cell_type": "code",
   "execution_count": 55,
   "metadata": {},
   "outputs": [],
   "source": [
    "# Training the SOM\n",
    "from minisom import MiniSom\n",
    "som3 = MiniSom(x = 10, y = 10, input_len = 6, sigma = 1.0, learning_rate = 0.5)\n",
    "som3.random_weights_init(x_train)\n",
    "som3.train_random(data = x_train, num_iteration = 100)"
   ]
  },
  {
   "cell_type": "code",
   "execution_count": 56,
   "metadata": {},
   "outputs": [],
   "source": [
    "labels3 = np.zeros((4, 10, 10))\n",
    "propa3 = np.zeros((4, 10, 10))"
   ]
  },
  {
   "cell_type": "code",
   "execution_count": 57,
   "metadata": {},
   "outputs": [
    {
     "data": {
      "image/png": "[encoded data removed]",
      "text/plain": [
       "<Figure size 432x288 with 2 Axes>"
      ]
     },
     "metadata": {},
     "output_type": "display_data"
    }
   ],
   "source": [
    "# Visualizing the results\n",
    "from pylab import bone, pcolor, colorbar, plot, show\n",
    "bone()\n",
    "pcolor(som3.distance_map().T)\n",
    "colorbar()\n",
    "markers = ['v', 's', 'o', '4']\n",
    "colors = ['r', 'g', 'b', 'y']\n",
    "for i, x in enumerate(x_train):\n",
    "    w = som3.winner(x)\n",
    "    plot(w[0] + 0.5,\n",
    "         w[1] + 0.5,\n",
    "         markers[y_train[i]],\n",
    "         markeredgecolor = colors[y_train[i]],\n",
    "         markerfacecolor = 'None',\n",
    "         markersize = 10,\n",
    "         markeredgewidth = 2)\n",
    "    if y_train[i] == 0:\n",
    "        labels3[0, w[0], w[1]] += 1\n",
    "    elif y_train[i] == 1:\n",
    "        labels3[1, w[0], w[1]] += 1\n",
    "    elif y_train[i] == 2:\n",
    "        labels3[2, w[0], w[1]] += 1\n",
    "    elif y_train[i] == 3:\n",
    "        labels3[3, w[0], w[1]] += 1\n",
    "show()"
   ]
  },
  {
   "cell_type": "code",
   "execution_count": 58,
   "metadata": {},
   "outputs": [],
   "source": [
    "for i in range(4):\n",
    "    for j in range(10):\n",
    "        for k in range(10):\n",
    "            total = labels3[0, j, k] + labels3[1, j, k] + labels3[2, j, k] + labels3[3, j, k]\n",
    "            if total == 0. :\n",
    "                continue\n",
    "            else:\n",
    "                propa3[i, j, k] = labels3[i, j, k] / total\n",
    "                propa3[i, j, k] = round(propa3[i, j, k], 2)"
   ]
  },
  {
   "cell_type": "code",
   "execution_count": 59,
   "metadata": {},
   "outputs": [],
   "source": [
    "p_vectors3 = som3.weights"
   ]
  },
  {
   "cell_type": "code",
   "execution_count": 60,
   "metadata": {},
   "outputs": [],
   "source": [
    "taggings3 = np.zeros((10, 10))\n",
    "for i in range(10):\n",
    "    for j in range(10):\n",
    "        tmp = np.array([labels3[0][i][j], labels3[1][i][j], labels3[2][i][j], labels3[3][i][j]])\n",
    "        sort = tmp.argsort()\n",
    "        if (tmp[sort[3]] <= tmp[sort[2]] * 5): # must be improve\n",
    "            taggings3[i][j] = np.random.choice([sort[3], sort[2]])\n",
    "        else:\n",
    "            taggings3[i][j] = sort[3]"
   ]
  },
  {
   "cell_type": "code",
   "execution_count": 61,
   "metadata": {},
   "outputs": [
    {
     "name": "stdout",
     "output_type": "stream",
     "text": [
      "             precision    recall  f1-score   support\n",
      "\n",
      "          0       0.95      0.84      0.89        25\n",
      "          1       0.94      1.00      0.97        15\n",
      "          2       1.00      0.25      0.40         4\n",
      "          3       0.78      0.95      0.86        22\n",
      "\n",
      "avg / total       0.89      0.88      0.87        66\n",
      "\n"
     ]
    }
   ],
   "source": [
    "predicted_y3 = [predict(instance, p_vectors3, taggings3, labels3) for instance in x_test]\n",
    "\n",
    "from sklearn.metrics import classification_report\n",
    "\n",
    "print (classification_report(y_test, predicted_y3, target_names=['0','1', '2', '3']))"
   ]
  },
  {
   "cell_type": "code",
   "execution_count": 62,
   "metadata": {},
   "outputs": [],
   "source": [
    "ensemble = [np.asarray(predicted_y1), np.asarray(predicted_y2), np.asarray(predicted_y3)]"
   ]
  },
  {
   "cell_type": "code",
   "execution_count": 63,
   "metadata": {},
   "outputs": [],
   "source": [
    "predict = [np.bincount([ensemble[j][i] for j in range(3)]).argmax() for i in range(len(ensemble[1]))]"
   ]
  },
  {
   "cell_type": "code",
   "execution_count": 64,
   "metadata": {},
   "outputs": [
    {
     "name": "stdout",
     "output_type": "stream",
     "text": [
      "             precision    recall  f1-score   support\n",
      "\n",
      "          0       0.96      0.88      0.92        25\n",
      "          1       0.94      1.00      0.97        15\n",
      "          2       0.50      0.25      0.33         4\n",
      "          3       0.80      0.91      0.85        22\n",
      "\n",
      "avg / total       0.87      0.88      0.87        66\n",
      "\n"
     ]
    }
   ],
   "source": [
    "print (classification_report(y_test, predict, target_names=['0','1', '2', '3']))"
   ]
  },
  {
   "cell_type": "code",
   "execution_count": 65,
   "metadata": {},
   "outputs": [],
   "source": [
    "mapping = som.win_map(x_train)\n",
    "mapping2 = som2.win_map(x_train)\n",
    "mapping3 = som3.win_map(x_train)"
   ]
  },
  {
   "cell_type": "code",
   "execution_count": 66,
   "metadata": {
    "scrolled": false
   },
   "outputs": [],
   "source": [
    "result = np.array([])\n",
    "for sample in x_test:\n",
    "    pos1 = find_closest(sample, p_vectors, labels)\n",
    "    pos2 = find_closest(sample, p_vectors2, labels2)\n",
    "    pos3 = find_closest(sample, p_vectors3, labels3)\n",
    "    l1 = len(mapping[pos1])\n",
    "    l2 = len(mapping[pos2])\n",
    "    l3 = len(mapping[pos3])\n",
    "#     (pro1, pro2, pro3, pro4) = ((l1*propa[pos1]))\n",
    "    pro1 = (l1*propa[0, pos1[0], pos1[1]] + l2*propa2[0, pos2[0], pos2[1]] + l3*propa3[0, pos3[0], pos3[1]])/(l1+l2+l3)\n",
    "    pro2 = (l1*propa[1, pos1[0], pos1[1]] + l2*propa2[1, pos2[0], pos2[1]] + l3*propa3[1, pos3[0], pos3[1]])/(l1+l2+l3)\n",
    "    pro3 = (l1*propa[2, pos1[0], pos1[1]] + l2*propa2[2, pos2[0], pos2[1]] + l3*propa3[2, pos3[0], pos3[1]])/(l1+l2+l3)\n",
    "    pro4 = (l1*propa[3, pos1[0], pos1[1]] + l2*propa2[3, pos2[0], pos2[1]] + l3*propa3[3, pos3[0], pos3[1]])/(l1+l2+l3)\n",
    "    tmp = np.argmax(np.array([pro1, pro2, pro3, pro4]))\n",
    "    result = np.append(result, tmp)"
   ]
  },
  {
   "cell_type": "code",
   "execution_count": 67,
   "metadata": {
    "scrolled": true
   },
   "outputs": [
    {
     "name": "stdout",
     "output_type": "stream",
     "text": [
      "             precision    recall  f1-score   support\n",
      "\n",
      "          0       1.00      0.96      0.98        25\n",
      "          1       0.94      1.00      0.97        15\n",
      "          2       0.50      0.25      0.33         4\n",
      "          3       0.88      0.95      0.91        22\n",
      "\n",
      "avg / total       0.91      0.92      0.92        66\n",
      "\n"
     ]
    }
   ],
   "source": [
    "from sklearn.metrics import classification_report\n",
    "\n",
    "print (classification_report(y_test, result, target_names=['0','1', '2', '3']))"
   ]
  },
  {
   "cell_type": "code",
   "execution_count": 68,
   "metadata": {},
   "outputs": [],
   "source": [
    "data_new = pd.read_csv(r\"../data/SD-2X_rocktype.csv\")\n",
    "x_new = data_new.iloc[:, 0:6].values\n",
    "y_new = data_new.iloc[:, 6].values\n",
    "y_new[y_new == 4] = 0\n",
    "x_new = minmax.fit_transform(x_new)"
   ]
  },
  {
   "cell_type": "code",
   "execution_count": 69,
   "metadata": {},
   "outputs": [],
   "source": [
    "result2 = np.array([])\n",
    "for sample in x_new:\n",
    "    pos1 = find_closest(sample, p_vectors, labels)\n",
    "    pos2 = find_closest(sample, p_vectors2, labels2)\n",
    "    pos3 = find_closest(sample, p_vectors3, labels3)\n",
    "    l1 = len(mapping[pos1])\n",
    "    l2 = len(mapping2[pos2])\n",
    "    l3 = len(mapping3[pos3])\n",
    "#     (pro1, pro2, pro3, pro4) = ((l1*propa[pos1]))\n",
    "    pro1 = (l1*propa[0, pos1[0], pos1[1]] + l2*propa2[0, pos2[0], pos2[1]] + l3*propa3[0, pos3[0], pos3[1]])/(l1+l2+l3)\n",
    "    pro2 = (l1*propa[1, pos1[0], pos1[1]] + l2*propa2[1, pos2[0], pos2[1]] + l3*propa3[1, pos3[0], pos3[1]])/(l1+l2+l3)\n",
    "    pro3 = (l1*propa[2, pos1[0], pos1[1]] + l2*propa2[2, pos2[0], pos2[1]] + l3*propa3[2, pos3[0], pos3[1]])/(l1+l2+l3)\n",
    "    pro4 = (l1*propa[3, pos1[0], pos1[1]] + l2*propa2[3, pos2[0], pos2[1]] + l3*propa3[3, pos3[0], pos3[1]])/(l1+l2+l3)\n",
    "    tmp = np.argmax(np.array([pro1, pro2, pro3, pro4]))\n",
    "    result2 = np.append(result2, tmp)"
   ]
  },
  {
   "cell_type": "code",
   "execution_count": 70,
   "metadata": {},
   "outputs": [
    {
     "name": "stdout",
     "output_type": "stream",
     "text": [
      "             precision    recall  f1-score   support\n",
      "\n",
      "          0       0.82      0.91      0.86       558\n",
      "          1       0.61      0.93      0.74       165\n",
      "          2       0.82      0.10      0.18       139\n",
      "          3       0.73      0.69      0.71       453\n",
      "\n",
      "avg / total       0.76      0.75      0.72      1315\n",
      "\n"
     ]
    }
   ],
   "source": [
    "from sklearn.metrics import classification_report\n",
    "\n",
    "print (classification_report(y_new, result2, target_names=['0','1', '2', '3']))"
   ]
  }
 ],
 "metadata": {
  "kernelspec": {
   "display_name": "Python 3",
   "language": "python",
   "name": "python3"
  },
  "language_info": {
   "codemirror_mode": {
    "name": "ipython",
    "version": 3
   },
   "file_extension": ".py",
   "mimetype": "text/x-python",
   "name": "python",
   "nbconvert_exporter": "python",
   "pygments_lexer": "ipython3",
   "version": "3.6.5"
  }
 },
 "nbformat": 4,
 "nbformat_minor": 2
}
