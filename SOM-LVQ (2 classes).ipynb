{
 "cells": [
  {
   "cell_type": "code",
   "execution_count": 32,
   "metadata": {},
   "outputs": [],
   "source": [
    "import numpy as np\n",
    "from sklearn.metrics import euclidean_distances\n",
    "import pandas as pd\n",
    "import minisom\n",
    "from sklearn.datasets import load_breast_cancer\n",
    "from sklearn.model_selection import KFold\n",
    "import LVQ"
   ]
  },
  {
   "cell_type": "code",
   "execution_count": 33,
   "metadata": {},
   "outputs": [],
   "source": [
    "data = pd.read_csv(r\"data/SVNE_Hieu.csv\")\n",
    "x = data.iloc[:, 0:6].values\n",
    "y = data.iloc[:, 6].values\n",
    "from sklearn.cross_validation import train_test_split\n",
    "x_train, x_test, y_train, y_test = train_test_split(x, y, test_size=0.1, random_state=20)\n",
    "\n",
    "# use Minmaxscaler because we use euclidean distance\n",
    "from sklearn.preprocessing import MinMaxScaler\n",
    "minmax = MinMaxScaler()\n",
    "x_train = minmax.fit_transform(x_train)\n",
    "x_test = minmax.transform(x_test)"
   ]
  },
  {
   "cell_type": "code",
   "execution_count": 34,
   "metadata": {},
   "outputs": [],
   "source": [
    "# Training the SOM\n",
    "from minisom import MiniSom\n",
    "som = MiniSom(x = 10, y = 10, input_len = 6, sigma = 1.0, learning_rate = 0.5)\n",
    "som.random_weights_init(x_train)\n",
    "som.train_random(data = x_train, num_iteration = 100)"
   ]
  },
  {
   "cell_type": "code",
   "execution_count": 35,
   "metadata": {
    "scrolled": true
   },
   "outputs": [
    {
     "data": {
      "text/plain": [
       "array([0, 1], dtype=int64)"
      ]
     },
     "execution_count": 35,
     "metadata": {},
     "output_type": "execute_result"
    }
   ],
   "source": [
    "np.unique(y)"
   ]
  },
  {
   "cell_type": "code",
   "execution_count": 36,
   "metadata": {
    "scrolled": true
   },
   "outputs": [
    {
     "data": {
      "text/plain": [
       "array([[0., 0., 0., 0., 0., 0., 0., 0., 0., 0.],\n",
       "       [0., 0., 0., 0., 0., 0., 0., 0., 0., 0.],\n",
       "       [0., 0., 0., 0., 0., 0., 0., 0., 0., 0.],\n",
       "       [0., 0., 0., 0., 0., 0., 0., 0., 0., 0.],\n",
       "       [0., 0., 0., 0., 0., 0., 0., 0., 0., 0.],\n",
       "       [0., 0., 0., 0., 0., 0., 0., 0., 0., 0.],\n",
       "       [0., 0., 0., 0., 0., 0., 0., 0., 0., 0.],\n",
       "       [0., 0., 0., 0., 0., 0., 0., 0., 0., 0.],\n",
       "       [0., 0., 0., 0., 0., 0., 0., 0., 0., 0.],\n",
       "       [0., 0., 0., 0., 0., 0., 0., 0., 0., 0.]])"
      ]
     },
     "execution_count": 36,
     "metadata": {},
     "output_type": "execute_result"
    }
   ],
   "source": [
    "labels = np.zeros((10, 10))\n",
    "labels"
   ]
  },
  {
   "cell_type": "code",
   "execution_count": 37,
   "metadata": {
    "scrolled": true
   },
   "outputs": [
    {
     "data": {
      "image/png": "[encoded data removed]",
      "text/plain": [
       "<Figure size 432x288 with 2 Axes>"
      ]
     },
     "metadata": {},
     "output_type": "display_data"
    }
   ],
   "source": [
    "# Visualizing the results\n",
    "from pylab import bone, pcolor, colorbar, plot, show\n",
    "bone()\n",
    "pcolor(som.distance_map().T)\n",
    "colorbar()\n",
    "markers = ['1', '2', '3', '4', '8', 's', 'p', '>']\n",
    "colors = ['r', 'g', 'b', 'y', 'w', 'c', 'm', 'k']\n",
    "for i, x in enumerate(x_train):\n",
    "    w = som.winner(x)\n",
    "    plot(w[0] + 0.5,\n",
    "         w[1] + 0.5,\n",
    "         markers[y_train[i]],\n",
    "         markeredgecolor = colors[y_train[i]],\n",
    "         markerfacecolor = 'None',\n",
    "         markersize = 10,\n",
    "         markeredgewidth = 2)\n",
    "    if y_train[i] == 0:\n",
    "        labels[w[0], w[1]] -= 1\n",
    "    elif y_train[i] == 1:\n",
    "        labels[w[0], w[1]] += 1\n",
    "show()"
   ]
  },
  {
   "cell_type": "code",
   "execution_count": 38,
   "metadata": {},
   "outputs": [
    {
     "data": {
      "text/plain": [
       "array([[  2., -15.,  -3., -12.,  -5.,   1.,  38.,  18.,   2.,  35.],\n",
       "       [ -2.,  -8.,  -5.,  -6.,   2.,   4.,   5.,   9.,  30.,  14.],\n",
       "       [  3.,   2.,   7.,   1.,   0.,   0.,  32.,   8.,   6.,   7.],\n",
       "       [ 54.,   6.,   0.,  -1.,  -1.,   0.,   0.,   0.,   0.,  -2.],\n",
       "       [ 37.,  11.,   3.,  -1.,   2.,   0.,  -1.,  -1.,   0.,   5.],\n",
       "       [ 40.,   1.,   0.,   0.,   0.,   0.,  -9.,   0.,  -1.,   0.],\n",
       "       [  4.,   0.,  -9., -17.,   0.,   0.,   0.,   0.,   5.,  14.],\n",
       "       [-19., -19., -24., -18.,  -3.,  -4.,  -6.,   0.,  19.,   4.],\n",
       "       [-24., -23., -20.,  -3.,   7.,   2.,   2.,   0.,   0.,   0.],\n",
       "       [-77., -48., -34.,   1.,   9.,   2.,  50.,   0.,   1.,  15.]])"
      ]
     },
     "execution_count": 38,
     "metadata": {},
     "output_type": "execute_result"
    }
   ],
   "source": [
    "labels"
   ]
  },
  {
   "cell_type": "code",
   "execution_count": 39,
   "metadata": {},
   "outputs": [],
   "source": [
    "# parameter for LVQ\n",
    "R = 50 # R is the # of initial prototype for each class\n",
    "n_classes = 2\n",
    "epsilon = 0.9\n",
    "epsilon_dec_factor = 0.001"
   ]
  },
  {
   "cell_type": "code",
   "execution_count": 40,
   "metadata": {},
   "outputs": [],
   "source": [
    "# function to find the second closest prototype vector for a given vector\n",
    "def find_runnerup(in_vector, proto_vectors):\n",
    "    runnerup = None\n",
    "    closest_p_vector = find_closest(in_vector, proto_vectors)\n",
    "    closest_distance = 99999\n",
    "    for p_v in proto_vectors:\n",
    "        distance = np.linalg.norm(in_vector - p_v.p_vector)\n",
    "        if (distance < closest_distance) and (p_v != closest_p_vector):\n",
    "            closest_distance = distance\n",
    "            runnerup = p_v\n",
    "    return runnerup"
   ]
  },
  {
   "cell_type": "code",
   "execution_count": 41,
   "metadata": {
    "scrolled": true
   },
   "outputs": [
    {
     "name": "stdout",
     "output_type": "stream",
     "text": [
      "class id \t Initial prototype vector \n",
      "\n",
      "1 \t [0.43827312 0.26339437 0.27743591 0.54430067 0.56499599 0.21467582]\n",
      "0 \t [0.39233827 0.23914832 0.25842805 0.61485959 0.4568366  0.36788818]\n",
      "0 \t [0.35247075 0.20735915 0.19362207 0.71643836 0.44348721 0.29208255]\n",
      "0 \t [0.33238088 0.23776361 0.28529025 0.64203081 0.41807495 0.4057224 ]\n",
      "0 \t [0.30302885 0.31896161 0.40797275 0.51429466 0.41592451 0.45000339]\n",
      "1 \t [0.33441342 0.43901578 0.50083984 0.41264481 0.51357827 0.10273208]\n",
      "1 \t [0.32383665 0.46565821 0.52565227 0.36479751 0.51782309 0.02764006]\n",
      "1 \t [0.33402469 0.44438955 0.4988686  0.39434166 0.53501565 0.01812353]\n",
      "1 \t [0.35420781 0.39223884 0.44169254 0.46803471 0.54869577 0.07395726]\n",
      "1 \t [0.37005743 0.36732716 0.37953978 0.48816525 0.58798767 0.00655724]\n",
      "0 \t [0.43404961 0.27620177 0.31317676 0.489939   0.59385043 0.21103384]\n",
      "0 \t [0.39923675 0.27037795 0.30178786 0.56283413 0.51110454 0.31371923]\n",
      "0 \t [0.38638525 0.24343999 0.24860461 0.64569134 0.48395453 0.28019611]\n",
      "0 \t [0.36375429 0.24422862 0.29332326 0.61616671 0.4620504  0.3589494 ]\n",
      "1 \t [0.32806804 0.32089766 0.39921706 0.55501205 0.49469671 0.27795427]\n",
      "1 \t [0.32514128 0.41057479 0.51293614 0.41883    0.48243036 0.23334608]\n",
      "1 \t [0.32952713 0.44373133 0.49681065 0.39884123 0.53641501 0.02963385]\n",
      "1 \t [0.35694086 0.41925747 0.47749883 0.41943549 0.53838626 0.05500323]\n",
      "1 \t [0.37669741 0.39646401 0.40804165 0.45680932 0.57066202 0.0093528 ]\n",
      "1 \t [0.3828226  0.38632937 0.38135757 0.46350609 0.58642726 0.00529625]\n",
      "1 \t [0.43369505 0.28540109 0.31032658 0.51797703 0.56866063 0.20609978]\n",
      "1 \t [0.43991046 0.27643848 0.28110272 0.55260265 0.57239393 0.13430307]\n",
      "1 \t [0.41543371 0.27723674 0.31592926 0.55380911 0.5341558  0.24231462]\n",
      "1 \t [0.38674152 0.26285261 0.35420405 0.55922265 0.51136988 0.2857444 ]\n",
      "0 \t [0.3392918  0.34180705 0.47709688 0.49225946 0.47500167 0.26922411]\n",
      "1 \t [0.32074529 0.39880473 0.44322342 0.43318494 0.52971407 0.27089493]\n",
      "1 \t [0.30306081 0.37881296 0.46441238 0.4839105  0.55815241 0.05720617]\n",
      "1 \t [0.35624281 0.3755322  0.41452093 0.48243343 0.57074174 0.04184342]\n",
      "1 \t [0.38948601 0.38162683 0.40289418 0.46395737 0.56853288 0.04303261]\n",
      "1 \t [0.4355385  0.37092439 0.38159579 0.43552964 0.57922369 0.04381573]\n",
      "1 \t [0.4325315  0.2672582  0.24289742 0.5746193  0.59260417 0.03351662]\n",
      "1 \t [0.44302168 0.27609412 0.25153531 0.55734631 0.59065014 0.06878453]\n",
      "1 \t [0.42082905 0.27935523 0.32335068 0.55522293 0.55828953 0.14264713]\n",
      "0 \t [0.38787308 0.29230379 0.3802373  0.53921469 0.53412126 0.20855351]\n",
      "0 \t [0.30709462 0.3231404  0.47954956 0.43277714 0.49511988 0.37264681]\n",
      "0 \t [0.26368436 0.32282481 0.53020584 0.36564204 0.4605574  0.44646306]\n",
      "0 \t [0.36596195 0.32013367 0.43976211 0.46700598 0.52556648 0.2754648 ]\n",
      "0 \t [0.38380159 0.36136222 0.41587645 0.43810308 0.56923054 0.18221622]\n",
      "0 \t [0.37271316 0.4206592  0.36482038 0.42849233 0.60293234 0.06247996]\n",
      "0 \t [0.33327201 0.43942876 0.48056828 0.34382584 0.50696199 0.29943212]\n",
      "1 \t [0.43653227 0.24510331 0.23645973 0.60226685 0.57464657 0.02250993]\n",
      "1 \t [0.42563255 0.26891959 0.26293426 0.58549772 0.57633958 0.04909039]\n",
      "1 \t [0.39558034 0.29765064 0.33088578 0.56075354 0.56726676 0.09591025]\n",
      "0 \t [0.3780562  0.29361402 0.38604266 0.5590244  0.5324329  0.16075545]\n",
      "1 \t [0.3489252  0.30561981 0.4045078  0.53525066 0.54643944 0.1900838 ]\n",
      "0 \t [0.32047506 0.29049375 0.46633856 0.4902099  0.45077621 0.38978522]\n",
      "0 \t [0.26401596 0.34098241 0.49962342 0.3790419  0.45234419 0.46488168]\n",
      "0 \t [0.33489447 0.42151579 0.43780448 0.39159027 0.57941442 0.17156154]\n",
      "0 \t [0.31300839 0.45176863 0.44506035 0.38647901 0.56628901 0.17263507]\n",
      "1 \t [0.31206108 0.50551256 0.44781554 0.29976552 0.59512312 0.05005279]\n",
      "1 \t [0.43961146 0.25876092 0.24163984 0.60711316 0.55360913 0.07953162]\n",
      "1 \t [0.41668806 0.2910612  0.28431663 0.57325977 0.57069144 0.08064124]\n",
      "1 \t [0.39238661 0.29271159 0.36211242 0.55111762 0.53156029 0.20722041]\n",
      "0 \t [0.34837498 0.29621465 0.4421334  0.48467208 0.4785087  0.36267369]\n",
      "0 \t [0.31319556 0.3045466  0.44348693 0.52571223 0.51506471 0.26610946]\n",
      "0 \t [0.30720192 0.29389408 0.46415119 0.49779932 0.47383717 0.36261701]\n",
      "0 \t [0.23460086 0.32312085 0.54084827 0.32840671 0.38649275 0.53926884]\n",
      "0 \t [0.27918887 0.39841924 0.51205373 0.39946541 0.5398014  0.22396093]\n",
      "0 \t [0.25671633 0.44921242 0.5683238  0.27023002 0.45677265 0.35727785]\n",
      "1 \t [0.30084873 0.47967599 0.53402087 0.29961578 0.53041793 0.15201943]\n",
      "1 \t [0.41705766 0.28873354 0.31401369 0.54206253 0.54291599 0.23558796]\n",
      "0 \t [0.38190391 0.32241915 0.39452895 0.49567488 0.52665284 0.26736754]\n",
      "0 \t [0.34269699 0.29193627 0.41603902 0.46818069 0.4573559  0.44257875]\n",
      "0 \t [0.37809057 0.2809332  0.41820664 0.45929749 0.43583722 0.44979885]\n",
      "1 \t [0.33011232 0.29258796 0.43684947 0.51802543 0.50086981 0.30880378]\n",
      "1 \t [0.32481436 0.28253849 0.44439161 0.52226298 0.47068885 0.35053832]\n",
      "1 \t [0.27608923 0.33994577 0.52767737 0.36228402 0.42411651 0.4675935 ]\n",
      "0 \t [0.30249637 0.36682608 0.52547621 0.42792567 0.49319265 0.26730124]\n",
      "1 \t [0.31464994 0.41176785 0.54370741 0.38506024 0.495937   0.20396081]\n",
      "1 \t [0.31614692 0.44513545 0.56785284 0.33289605 0.49382518 0.15737093]\n",
      "0 \t [0.27156172 0.24064801 0.45584044 0.31119495 0.29170815 0.69182102]\n",
      "0 \t [0.28640224 0.25515696 0.44016344 0.36622804 0.32745674 0.64635434]\n",
      "0 \t [0.34365924 0.28443594 0.41856051 0.43309874 0.42765602 0.50530925]\n",
      "0 \t [0.37014744 0.26505242 0.39659534 0.50947484 0.48787301 0.37130249]\n",
      "0 \t [0.33960229 0.26086772 0.42231963 0.52263233 0.43437943 0.42004095]\n",
      "0 \t [0.32444194 0.2946452  0.43373469 0.55687085 0.50762032 0.2280621 ]\n",
      "0 \t [0.35436689 0.28500982 0.45902148 0.4516468  0.52427399 0.32193904]\n",
      "1 \t [0.36170596 0.33436529 0.49158444 0.45039878 0.47775987 0.29086051]\n",
      "1 \t [0.32362752 0.3949013  0.55811887 0.39021627 0.45683837 0.25855655]\n",
      "1 \t [0.31870995 0.40182712 0.54047849 0.39529838 0.49980509 0.19691621]\n",
      "0 \t [0.21859659 0.23150962 0.4707634  0.28719784 0.22451809 0.73763791]\n",
      "0 \t [0.28822093 0.25337877 0.42535941 0.35964242 0.28298076 0.67998271]\n",
      "0 \t [0.33449451 0.27064117 0.41122375 0.43541106 0.3702603  0.56487727]\n",
      "0 \t [0.35579227 0.25401695 0.37931912 0.58935595 0.48064398 0.29435553]\n",
      "1 \t [0.36800046 0.26027278 0.35570648 0.61030208 0.51637615 0.17661732]\n",
      "1 \t [0.34974902 0.25896483 0.38208714 0.61259221 0.46682045 0.26726712]\n",
      "1 \t [0.35436637 0.29484212 0.4146787  0.56640068 0.5091416  0.18841249]\n",
      "1 \t [0.36548542 0.30945501 0.43660562 0.53757878 0.50414468 0.19204356]\n",
      "1 \t [0.33500363 0.35429808 0.51736896 0.44065981 0.45265603 0.30902467]\n",
      "1 \t [0.35228204 0.38221428 0.5073974  0.43259288 0.47745339 0.23928883]\n",
      "0 \t [0.18312435 0.18599739 0.45584043 0.23358742 0.13820745 0.80648346]\n",
      "0 \t [0.25458201 0.21034775 0.41987546 0.31547692 0.19864478 0.75872326]\n",
      "0 \t [0.35267336 0.23843597 0.39657634 0.489439   0.36932282 0.53436609]\n",
      "1 \t [0.37766669 0.22786335 0.33651901 0.63516267 0.48858537 0.22372716]\n",
      "1 \t [0.34604329 0.23479888 0.32612443 0.66313678 0.51821055 0.10234171]\n",
      "1 \t [0.34561058 0.28428858 0.34079725 0.62429077 0.53647165 0.07778026]\n",
      "1 \t [0.31753991 0.3170478  0.39212638 0.58817812 0.5430909  0.06312514]\n",
      "1 \t [0.32991347 0.36482927 0.46815954 0.45595642 0.51020863 0.26584629]\n",
      "1 \t [0.36888892 0.35696629 0.47226094 0.47770107 0.50810416 0.16461312]\n",
      "1 \t [0.33020651 0.43217786 0.54685482 0.38298442 0.49609944 0.11110374]\n"
     ]
    }
   ],
   "source": [
    "from random import randint\n",
    "p_vectors = []\n",
    "for i in range(10):\n",
    "    for j in range(10):\n",
    "        if(labels[i][j] == 0):\n",
    "            p = LVQ.prototype(randint(0,1), som.weights[(i,j)], epsilon)\n",
    "            p_vectors.append(p)\n",
    "        elif(labels[i][j] > 0):\n",
    "            p = LVQ.prototype(1, som.weights[(i,j)], epsilon)\n",
    "            p_vectors.append(p)\n",
    "        elif(labels[i][j] < 0):\n",
    "            p = LVQ.prototype(0, som.weights[(i,j)], epsilon)\n",
    "            p_vectors.append(p)\n",
    "print(\"class id \\t Initial prototype vector \\n\")\n",
    "for p_v in p_vectors:\n",
    "    print(p_v.class_id, '\\t', p_v.p_vector)"
   ]
  },
  {
   "cell_type": "code",
   "execution_count": 42,
   "metadata": {},
   "outputs": [],
   "source": [
    "lvq = LVQ.LVQ(x_train, y_train, n_classes=2, n_neurons=R, p_vectors=p_vectors, epsilon=0.9, epsilon_dec_factor=0.001)\n",
    "neurons = lvq.fit(x_train, y_train)"
   ]
  },
  {
   "cell_type": "code",
   "execution_count": 43,
   "metadata": {
    "scrolled": true
   },
   "outputs": [
    {
     "name": "stdout",
     "output_type": "stream",
     "text": [
      "             precision    recall  f1-score   support\n",
      "\n",
      "          0       0.96      0.73      0.83        60\n",
      "          1       0.82      0.97      0.89        73\n",
      "\n",
      "avg / total       0.88      0.86      0.86       133\n",
      "\n"
     ]
    }
   ],
   "source": [
    "predicted_y = [lvq.predict(instance) for instance in x_test]\n",
    "\n",
    "from sklearn.metrics import classification_report\n",
    "\n",
    "print (classification_report(y_test, predicted_y, target_names=['0', '1']))"
   ]
  },
  {
   "cell_type": "code",
   "execution_count": 44,
   "metadata": {
    "scrolled": false
   },
   "outputs": [
    {
     "data": {
      "text/plain": [
       "0.8646616541353384"
      ]
     },
     "execution_count": 44,
     "metadata": {},
     "output_type": "execute_result"
    }
   ],
   "source": [
    "A = np.array(predicted_y)-y_test\n",
    "len(A[A==0])/len(A)"
   ]
  }
 ],
 "metadata": {
  "kernelspec": {
   "display_name": "Python 3",
   "language": "python",
   "name": "python3"
  },
  "language_info": {
   "codemirror_mode": {
    "name": "ipython",
    "version": 3
   },
   "file_extension": ".py",
   "mimetype": "text/x-python",
   "name": "python",
   "nbconvert_exporter": "python",
   "pygments_lexer": "ipython3",
   "version": "3.6.5"
  }
 },
 "nbformat": 4,
 "nbformat_minor": 2
}
