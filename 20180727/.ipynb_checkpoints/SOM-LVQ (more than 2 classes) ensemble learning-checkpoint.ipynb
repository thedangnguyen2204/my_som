{
 "cells": [
  {
   "cell_type": "code",
   "execution_count": 1,
   "metadata": {},
   "outputs": [],
   "source": [
    "import numpy as np\n",
    "from sklearn.metrics import euclidean_distances\n",
    "import pandas as pd\n",
    "import minisom\n",
    "from sklearn.datasets import load_breast_cancer\n",
    "from sklearn.model_selection import KFold\n",
    "from random import randint, choice\n",
    "import LVQ"
   ]
  },
  {
   "cell_type": "code",
   "execution_count": 2,
   "metadata": {},
   "outputs": [
    {
     "name": "stderr",
     "output_type": "stream",
     "text": [
      "C:\\Users\\Thend\\Anaconda3\\lib\\site-packages\\sklearn\\cross_validation.py:41: DeprecationWarning: This module was deprecated in version 0.18 in favor of the model_selection module into which all the refactored classes and functions are moved. Also note that the interface of the new CV iterators are different from that of this module. This module will be removed in 0.20.\n",
      "  \"This module will be removed in 0.20.\", DeprecationWarning)\n"
     ]
    }
   ],
   "source": [
    "data = pd.read_csv(r\"../data/SD-2X_rocktype.csv\")\n",
    "x = data.iloc[:, 0:6].values\n",
    "y = data.iloc[:, 6].values\n",
    "y [y==4] = 0\n",
    "from sklearn.cross_validation import train_test_split\n",
    "x_train, x_test, y_train, y_test = train_test_split(x, y, test_size=0.25, random_state=44)\n",
    "\n",
    "# use Minmaxscaler because we use euclidean distance\n",
    "from sklearn.preprocessing import MinMaxScaler\n",
    "minmax = MinMaxScaler()\n",
    "x_train = minmax.fit_transform(x_train)\n",
    "x_test = minmax.transform(x_test)"
   ]
  },
  {
   "cell_type": "code",
   "execution_count": 3,
   "metadata": {},
   "outputs": [],
   "source": [
    "epsilon = 0.9\n",
    "epsilon_dec_factor = 0.001"
   ]
  },
  {
   "cell_type": "code",
   "execution_count": 4,
   "metadata": {},
   "outputs": [],
   "source": [
    "# Training the SOM\n",
    "from minisom import MiniSom\n",
    "som1 = MiniSom(x = 10, y = 10, input_len = 6, sigma = 1.0, learning_rate = 0.5)\n",
    "som1.random_weights_init(x_train)\n",
    "som1.train_random(data = x_train, num_iteration = 100)"
   ]
  },
  {
   "cell_type": "code",
   "execution_count": 5,
   "metadata": {},
   "outputs": [],
   "source": [
    "labels = np.zeros((4, 10, 10))"
   ]
  },
  {
   "cell_type": "code",
   "execution_count": 6,
   "metadata": {
    "scrolled": false
   },
   "outputs": [
    {
     "data": {
      "text/plain": [
       "<Figure size 640x480 with 2 Axes>"
      ]
     },
     "metadata": {},
     "output_type": "display_data"
    }
   ],
   "source": [
    "# Visualizing the results\n",
    "from pylab import bone, pcolor, colorbar, plot, show\n",
    "bone()\n",
    "pcolor(som1.distance_map().T)\n",
    "colorbar()\n",
    "markers = ['1', '2', '3', '4', 's', '8', 'p', '>']\n",
    "colors = ['r', 'g', 'b', 'y', 'w', 'c', 'm', 'k']\n",
    "for i, x in enumerate(x_train):\n",
    "    w = som1.winner(x)\n",
    "    plot(w[0] + 0.5,\n",
    "         w[1] + 0.5,\n",
    "         markers[y_train[i]],\n",
    "         markeredgecolor = colors[y_train[i]],\n",
    "         markerfacecolor = 'None',\n",
    "         markersize = 10,\n",
    "         markeredgewidth = 2)\n",
    "    if y_train[i] == 0:\n",
    "        labels[0, w[0], w[1]] += 1\n",
    "    elif y_train[i] == 1:\n",
    "        labels[1, w[0], w[1]] += 1\n",
    "    elif y_train[i] == 2:\n",
    "        labels[2, w[0], w[1]] += 1\n",
    "    elif y_train[i] == 3:\n",
    "        labels[3, w[0], w[1]] += 1\n",
    "show()"
   ]
  },
  {
   "cell_type": "code",
   "execution_count": 7,
   "metadata": {},
   "outputs": [
    {
     "name": "stderr",
     "output_type": "stream",
     "text": [
      "C:\\Users\\Thend\\Anaconda3\\lib\\site-packages\\ipykernel_launcher.py:6: RuntimeWarning: divide by zero encountered in double_scalars\n",
      "  \n",
      "C:\\Users\\Thend\\Anaconda3\\lib\\site-packages\\ipykernel_launcher.py:6: RuntimeWarning: invalid value encountered in double_scalars\n",
      "  \n"
     ]
    }
   ],
   "source": [
    "taggings = np.zeros((10, 10))\n",
    "for i in range(10):\n",
    "    for j in range(10):\n",
    "        tmp = np.array([labels[0][i][j], labels[1][i][j], labels[2][i][j], labels[3][i][j]])\n",
    "        sort = tmp.argsort()\n",
    "        if (tmp[sort[3]]/tmp[sort[2]] < 5):\n",
    "            taggings[i][j] = np.random.choice([sort[3], sort[2]])\n",
    "        else:\n",
    "            taggings[i][j] = sort[3]"
   ]
  },
  {
   "cell_type": "code",
   "execution_count": 8,
   "metadata": {
    "scrolled": true
   },
   "outputs": [
    {
     "name": "stdout",
     "output_type": "stream",
     "text": [
      "class id \t Initial prototype vector \n",
      "\n",
      "3 \t [0.11721957 0.28217419 0.71832283 0.40662045 0.10668685 0.4625228 ]\n",
      "1 \t [0.15673202 0.36153978 0.31403832 0.53644978 0.09970099 0.66961582]\n",
      "2 \t [0.21798924 0.36985795 0.55270009 0.47542603 0.2280974  0.48181954]\n",
      "3 \t [0.16264968 0.30166838 0.69236379 0.38732606 0.17428293 0.47199326]\n",
      "3 \t [0.32123413 0.49639851 0.46612334 0.46029754 0.28243014 0.37614569]\n",
      "3 \t [0.35115119 0.54052364 0.39054072 0.48738926 0.32976345 0.29276742]\n",
      "0 \t [0.35578031 0.45224301 0.46043539 0.46058912 0.44891407 0.20791755]\n",
      "0 \t [0.39784757 0.38838607 0.39871493 0.45563311 0.56463098 0.07409656]\n",
      "0 \t [0.38971292 0.36555791 0.47538541 0.45713222 0.52387786 0.07128878]\n",
      "3 \t [0.37326408 0.36422533 0.35735924 0.58837641 0.32712877 0.38354684]\n",
      "3 \t [0.29964008 0.41868546 0.37433645 0.55900856 0.31918229 0.42476184]\n",
      "2 \t [0.15502848 0.29888657 0.62681168 0.43845605 0.13909133 0.53117794]\n",
      "0 \t [0.10748288 0.19026354 0.86869653 0.26265168 0.11213764 0.34066523]\n",
      "0 \t [0.17726397 0.29452768 0.75722069 0.36006137 0.18933477 0.37809512]\n",
      "3 \t [0.32145515 0.47133284 0.46485253 0.48179212 0.35304079 0.31884576]\n",
      "0 \t [0.367578   0.49073331 0.4317989  0.47210711 0.39897224 0.23569679]\n",
      "0 \t [0.39003547 0.42523472 0.43620929 0.46654111 0.48360406 0.15885756]\n",
      "0 \t [0.41000835 0.34443685 0.46856038 0.43059042 0.55260291 0.05412479]\n",
      "0 \t [0.40513329 0.34715108 0.50930306 0.42580383 0.51715022 0.08491339]\n",
      "0 \t [0.28428876 0.26641884 0.72139622 0.38116452 0.35113897 0.24331754]\n",
      "3 \t [0.32113145 0.43695211 0.41699553 0.55280506 0.29794845 0.37107339]\n",
      "3 \t [0.32403977 0.36292117 0.53086282 0.52540789 0.28352465 0.35359785]\n",
      "2 \t [0.25636092 0.3532996  0.55292704 0.50194174 0.20953895 0.45593649]\n",
      "3 \t [0.29364397 0.38647311 0.51083881 0.51278261 0.25855239 0.41672548]\n",
      "3 \t [0.33561455 0.43650923 0.4300812  0.50199594 0.33034723 0.38823127]\n",
      "0 \t [0.38873593 0.4142894  0.46266549 0.4770166  0.44375004 0.19680034]\n",
      "0 \t [0.41231375 0.3719262  0.49857413 0.44608908 0.4768684  0.12920204]\n",
      "0 \t [0.42520564 0.30245762 0.5468007  0.38685916 0.52671364 0.04051277]\n",
      "3 \t [0.40992669 0.30713674 0.57651064 0.39059006 0.49281879 0.09915477]\n",
      "0 \t [0.34357692 0.31210053 0.66412132 0.36510759 0.40868562 0.20775836]\n",
      "2 \t [0.28442657 0.43727035 0.3676871  0.5878865  0.23145419 0.43990997]\n",
      "2 \t [0.30888609 0.40237675 0.37654601 0.57661212 0.19872409 0.4784586 ]\n",
      "2 \t [0.30496293 0.36626091 0.39225845 0.56794608 0.20004847 0.50636126]\n",
      "3 \t [0.34231644 0.378873   0.42411056 0.54363215 0.29897576 0.41771106]\n",
      "0 \t [0.3675861  0.41713937 0.43545976 0.50064521 0.40131084 0.29925573]\n",
      "0 \t [0.38844713 0.40111066 0.4411474  0.49410263 0.43044085 0.25336004]\n",
      "0 \t [0.41263668 0.36352494 0.50737657 0.45361335 0.46255953 0.14290981]\n",
      "0 \t [0.4253216  0.31251188 0.57515497 0.3915072  0.48259469 0.06677651]\n",
      "0 \t [0.41535991 0.29024693 0.62466131 0.34911108 0.47637002 0.06499358]\n",
      "3 \t [0.41035312 0.33446685 0.56058947 0.41596246 0.44566299 0.18396036]\n",
      "1 \t [0.21858751 0.35660611 0.47273147 0.53221437 0.17315958 0.53697315]\n",
      "3 \t [0.30639528 0.41162373 0.38788119 0.57007716 0.22500321 0.4589353 ]\n",
      "2 \t [0.33363047 0.39945165 0.37835245 0.55597167 0.26830888 0.45264154]\n",
      "3 \t [0.35533124 0.4040333  0.40375182 0.52592871 0.32344054 0.40775787]\n",
      "3 \t [0.38522232 0.40367742 0.3870417  0.52181817 0.42529036 0.29271305]\n",
      "0 \t [0.38317672 0.40221918 0.36714779 0.52634579 0.46123401 0.25849784]\n",
      "0 \t [0.3909524  0.38766945 0.43919898 0.50530696 0.44281957 0.22923478]\n",
      "0 \t [0.40990249 0.352696   0.54281994 0.43914718 0.44565511 0.14653758]\n",
      "0 \t [0.4214551  0.33157957 0.56966837 0.41297278 0.4426365  0.14640679]\n",
      "3 \t [0.4093984  0.33670777 0.56903599 0.43223814 0.40161166 0.21701877]\n",
      "3 \t [0.28973272 0.40950001 0.31485812 0.58796262 0.26303359 0.48408919]\n",
      "3 \t [0.29836706 0.42724916 0.32168092 0.56448272 0.24151066 0.49798442]\n",
      "3 \t [0.31763508 0.4238396  0.31681147 0.5401772  0.24799066 0.51556539]\n",
      "3 \t [0.36187633 0.42932351 0.35441807 0.53814277 0.33503325 0.39657251]\n",
      "3 \t [0.36529229 0.4114364  0.35939899 0.54537297 0.42416567 0.30127365]\n",
      "0 \t [0.36841758 0.41527917 0.29535666 0.55741684 0.47045564 0.26932156]\n",
      "0 \t [0.3828141  0.39813477 0.38786285 0.53566728 0.44512459 0.24378093]\n",
      "0 \t [0.39361227 0.37636879 0.50774908 0.48655837 0.41761267 0.18565398]\n",
      "0 \t [0.41891302 0.37610445 0.50551488 0.47020029 0.42742151 0.15406027]\n",
      "0 \t [0.4263964  0.40197606 0.46791091 0.49219155 0.38763552 0.21247806]\n",
      "3 \t [0.34817784 0.40981078 0.3270529  0.57942174 0.33978687 0.39074166]\n",
      "1 \t [0.30009509 0.41051497 0.26436824 0.57791346 0.22252382 0.53668335]\n",
      "3 \t [0.32981176 0.43845464 0.29310936 0.56672113 0.25043505 0.47872547]\n",
      "3 \t [0.35978329 0.44464268 0.33117082 0.55983932 0.31539721 0.38765873]\n",
      "3 \t [0.35449551 0.43063786 0.34625851 0.55922626 0.37035405 0.34509836]\n",
      "3 \t [0.37166924 0.40622227 0.3563817  0.55355502 0.42426859 0.2888088 ]\n",
      "3 \t [0.38390185 0.39464456 0.41079677 0.54129542 0.40603741 0.2650546 ]\n",
      "0 \t [0.39470332 0.40136422 0.44885563 0.52474958 0.39292131 0.2278056 ]\n",
      "0 \t [0.41819913 0.42042449 0.44763926 0.51496078 0.37931356 0.19725225]\n",
      "0 \t [0.42741185 0.42515935 0.42801673 0.5144412  0.39576767 0.17910481]\n",
      "3 \t [0.34722616 0.41561844 0.3606657  0.5651159  0.29049193 0.41578121]\n",
      "1 \t [0.2864073  0.43672262 0.20151148 0.598571   0.22779219 0.5257954 ]\n",
      "2 \t [0.33268022 0.45880214 0.24424013 0.58803344 0.25909291 0.4541572 ]\n",
      "3 \t [0.35575111 0.47609817 0.31119615 0.56733537 0.26528185 0.39709539]\n",
      "3 \t [0.35461989 0.44348042 0.36074933 0.56084051 0.33004414 0.3520775 ]\n",
      "3 \t [0.3719885  0.39427475 0.43769997 0.54710575 0.36410127 0.28756961]\n",
      "3 \t [0.35714254 0.34457039 0.54643739 0.51399813 0.32984419 0.28659268]\n",
      "3 \t [0.3893022  0.40256819 0.4540142  0.53903882 0.34276121 0.26871111]\n",
      "3 \t [0.4099739  0.42671403 0.43970594 0.53044028 0.35165423 0.22686479]\n",
      "3 \t [0.40990818 0.44744753 0.40068199 0.54095972 0.35940951 0.22227756]\n",
      "3 \t [0.30454301 0.45542647 0.18120701 0.60260557 0.29740444 0.46413514]\n",
      "3 \t [0.28841082 0.47503744 0.17871387 0.59256576 0.23309367 0.50373917]\n",
      "2 \t [0.33028972 0.48604374 0.21843488 0.58810409 0.23684204 0.45276463]\n",
      "3 \t [0.34423417 0.4690611  0.26897049 0.58884601 0.26234005 0.41662629]\n",
      "3 \t [0.33565645 0.42625903 0.39714689 0.56609204 0.29652497 0.37353056]\n",
      "0 \t [0.32523596 0.35595232 0.53859415 0.54582627 0.30433023 0.29477558]\n",
      "0 \t [0.35938882 0.35809541 0.48817385 0.54735189 0.34406122 0.2938051 ]\n",
      "3 \t [0.3669234  0.39876633 0.45338896 0.54334695 0.32897771 0.31199173]\n",
      "0 \t [0.38651508 0.44319275 0.4010113  0.55883226 0.31195937 0.28942024]\n",
      "3 \t [0.40119288 0.47092393 0.37613987 0.55073134 0.32600887 0.25730708]\n",
      "3 \t [0.27967732 0.45807071 0.13016764 0.6082983  0.26194969 0.50632376]\n",
      "1 \t [0.26853439 0.48754458 0.1175833  0.59379165 0.19811307 0.53341017]\n",
      "3 \t [0.3066017  0.49692807 0.18822591 0.5881042  0.21937307 0.47920538]\n",
      "3 \t [0.34348655 0.47318016 0.26467783 0.58854595 0.2859656  0.39987563]\n",
      "3 \t [0.36297884 0.44085074 0.29726015 0.59219136 0.323762   0.36058418]\n",
      "3 \t [0.37114881 0.37872366 0.43037931 0.56585436 0.36402705 0.28440068]\n",
      "3 \t [0.31721272 0.31023864 0.6092007  0.49845421 0.30737785 0.29843733]\n",
      "3 \t [0.36767262 0.39124994 0.46054309 0.55161402 0.32143669 0.3033823 ]\n",
      "3 \t [0.38951094 0.44699417 0.38733248 0.56110383 0.31355086 0.29206051]\n",
      "3 \t [0.3975458  0.45767412 0.36703334 0.5585319  0.33102847 0.27611689]\n"
     ]
    }
   ],
   "source": [
    "p_vectors = []\n",
    "for i in range(10):\n",
    "    for j in range(10):\n",
    "        if(taggings[i][j] == 0):\n",
    "            p = LVQ.prototype(0, som1.weights[(i,j)], epsilon)\n",
    "            p_vectors.append(p)\n",
    "        elif(taggings[i][j] == 1):\n",
    "            p = LVQ.prototype(1, som1.weights[(i,j)], epsilon)\n",
    "            p_vectors.append(p)\n",
    "        elif(taggings[i][j] == 2):\n",
    "            p = LVQ.prototype(2, som1.weights[(i,j)], epsilon)\n",
    "            p_vectors.append(p)\n",
    "        elif(taggings[i][j] == 3):\n",
    "            p = LVQ.prototype(3, som1.weights[(i,j)], epsilon)\n",
    "            p_vectors.append(p)\n",
    "print(\"class id \\t Initial prototype vector \\n\")\n",
    "for p_v in p_vectors:\n",
    "    print(p_v.class_id, '\\t', p_v.p_vector)"
   ]
  },
  {
   "cell_type": "code",
   "execution_count": 9,
   "metadata": {},
   "outputs": [],
   "source": [
    "lvq1 = LVQ.LVQ(x_train, y_train, n_classes=2, n_neurons=25, p_vectors=p_vectors, epsilon=0.9, epsilon_dec_factor=0.001)\n",
    "neurons = lvq1.fit(x_train, y_train)"
   ]
  },
  {
   "cell_type": "code",
   "execution_count": 10,
   "metadata": {
    "scrolled": true
   },
   "outputs": [
    {
     "name": "stdout",
     "output_type": "stream",
     "text": [
      "             precision    recall  f1-score   support\n",
      "\n",
      "          0       0.97      0.92      0.94       138\n",
      "          1       0.92      0.87      0.90        55\n",
      "          2       0.67      0.43      0.52        28\n",
      "          3       0.80      0.94      0.86       108\n",
      "\n",
      "avg / total       0.88      0.88      0.87       329\n",
      "\n"
     ]
    }
   ],
   "source": [
    "predicted_y1 = [lvq1.predict(instance) for instance in x_test]\n",
    "\n",
    "from sklearn.metrics import classification_report\n",
    "\n",
    "print (classification_report(y_test, predicted_y1, target_names=['0','1', '2', '3']))"
   ]
  },
  {
   "cell_type": "code",
   "execution_count": 11,
   "metadata": {
    "scrolled": true
   },
   "outputs": [
    {
     "name": "stdout",
     "output_type": "stream",
     "text": [
      "             precision    recall  f1-score   support\n",
      "\n",
      "          0       0.98      0.91      0.94       558\n",
      "          1       0.81      0.90      0.85       165\n",
      "          2       0.66      0.35      0.45       139\n",
      "          3       0.80      0.94      0.86       453\n",
      "\n",
      "avg / total       0.86      0.86      0.85      1315\n",
      "\n"
     ]
    }
   ],
   "source": [
    "data_new = pd.read_csv(r\"../data/SD-3X_rocktype.csv\")\n",
    "x_new = data.iloc[:, 0:6].values\n",
    "y_new = data.iloc[:, 6].values\n",
    "y_new[y_new == 4] = 0\n",
    "x_new = minmax.fit_transform(x_new)\n",
    "predicted_y_new = [lvq1.predict(instance) for instance in x_new]\n",
    "\n",
    "from sklearn.metrics import classification_report\n",
    "\n",
    "print (classification_report(y_new, predicted_y_new, target_names=['0', '1', '2', '3']))"
   ]
  },
  {
   "cell_type": "code",
   "execution_count": 12,
   "metadata": {},
   "outputs": [],
   "source": [
    "# Training the SOM\n",
    "from minisom import MiniSom\n",
    "som2 = MiniSom(x = 10, y = 10, input_len = 6, sigma = 1.0, learning_rate = 0.5)\n",
    "som2.random_weights_init(x_train)\n",
    "som2.train_random(data = x_train, num_iteration = 100)"
   ]
  },
  {
   "cell_type": "code",
   "execution_count": 13,
   "metadata": {},
   "outputs": [],
   "source": [
    "labels = np.zeros((4, 10, 10))"
   ]
  },
  {
   "cell_type": "code",
   "execution_count": 14,
   "metadata": {
    "scrolled": false
   },
   "outputs": [
    {
     "data": {
      "image/png": "[encoded data removed]",
      "text/plain": [
       "<Figure size 432x288 with 2 Axes>"
      ]
     },
     "metadata": {},
     "output_type": "display_data"
    }
   ],
   "source": [
    "# Visualizing the results\n",
    "from pylab import bone, pcolor, colorbar, plot, show\n",
    "bone()\n",
    "pcolor(som2.distance_map().T)\n",
    "colorbar()\n",
    "markers = ['1', '2', '3', '4', 's', '8', 'p', '>']\n",
    "colors = ['r', 'g', 'b', 'y', 'w', 'c', 'm', 'k']\n",
    "for i, x in enumerate(x_train):\n",
    "    w = som2.winner(x)\n",
    "    plot(w[0] + 0.5,\n",
    "         w[1] + 0.5,\n",
    "         markers[y_train[i]],\n",
    "         markeredgecolor = colors[y_train[i]],\n",
    "         markerfacecolor = 'None',\n",
    "         markersize = 10,\n",
    "         markeredgewidth = 2)\n",
    "    if y_train[i] == 0:\n",
    "        labels[0, w[0], w[1]] += 1\n",
    "    elif y_train[i] == 1:\n",
    "        labels[1, w[0], w[1]] += 1\n",
    "    elif y_train[i] == 2:\n",
    "        labels[2, w[0], w[1]] += 1\n",
    "    elif y_train[i] == 3:\n",
    "        labels[3, w[0], w[1]] += 1\n",
    "show()"
   ]
  },
  {
   "cell_type": "code",
   "execution_count": 15,
   "metadata": {},
   "outputs": [
    {
     "name": "stderr",
     "output_type": "stream",
     "text": [
      "C:\\Users\\Thend\\Anaconda3\\lib\\site-packages\\ipykernel_launcher.py:6: RuntimeWarning: divide by zero encountered in double_scalars\n",
      "  \n",
      "C:\\Users\\Thend\\Anaconda3\\lib\\site-packages\\ipykernel_launcher.py:6: RuntimeWarning: invalid value encountered in double_scalars\n",
      "  \n"
     ]
    }
   ],
   "source": [
    "taggings = np.zeros((10, 10))\n",
    "for i in range(10):\n",
    "    for j in range(10):\n",
    "        tmp = np.array([labels[0][i][j], labels[1][i][j], labels[2][i][j], labels[3][i][j]])\n",
    "        sort = tmp.argsort()\n",
    "        if (tmp[sort[3]]/tmp[sort[2]] < 5):\n",
    "            taggings[i][j] = np.random.choice([sort[3], sort[2]])\n",
    "        else:\n",
    "            taggings[i][j] = sort[3]"
   ]
  },
  {
   "cell_type": "code",
   "execution_count": 16,
   "metadata": {
    "scrolled": true
   },
   "outputs": [
    {
     "name": "stdout",
     "output_type": "stream",
     "text": [
      "class id \t Initial prototype vector \n",
      "\n",
      "0 \t [0.36824086 0.48069284 0.43144274 0.50071048 0.37247268 0.24029845]\n",
      "2 \t [0.35064299 0.45125542 0.33808336 0.59338263 0.22457348 0.39570378]\n",
      "3 \t [0.3743473  0.46375789 0.32294396 0.5881058  0.2617715  0.35511571]\n",
      "3 \t [0.38739079 0.44595069 0.33145476 0.56878284 0.3259602  0.33381152]\n",
      "3 \t [0.32919314 0.43329058 0.4583153  0.50599956 0.24411882 0.4221477 ]\n",
      "3 \t [0.33483964 0.45287494 0.34116897 0.49111643 0.21848452 0.52674435]\n",
      "2 \t [0.31378953 0.44232218 0.40720885 0.46787862 0.18943058 0.53411031]\n",
      "2 \t [0.32026765 0.41271662 0.42620996 0.50364102 0.24370725 0.4820697 ]\n",
      "2 \t [0.29958702 0.36957296 0.48591003 0.51623823 0.27746357 0.4405303 ]\n",
      "2 \t [0.17982603 0.31800594 0.50336163 0.50917244 0.18354894 0.56587552]\n",
      "3 \t [0.37381397 0.45823304 0.36661012 0.57905719 0.2839545  0.31614115]\n",
      "0 \t [0.33903394 0.44969305 0.43516748 0.57054206 0.25192079 0.32323223]\n",
      "3 \t [0.36801023 0.4592638  0.33439893 0.59693312 0.25814599 0.34475221]\n",
      "3 \t [0.38170374 0.45526709 0.31513636 0.5851756  0.27693013 0.35861181]\n",
      "3 \t [0.37446883 0.45236792 0.31611362 0.56095726 0.30414839 0.3847457 ]\n",
      "3 \t [0.36776968 0.46464083 0.36478005 0.51583466 0.27672034 0.41608934]\n",
      "3 \t [0.32096819 0.52275102 0.39199086 0.46578968 0.24243216 0.44081806]\n",
      "3 \t [0.33111016 0.44239912 0.45596507 0.49544095 0.23523076 0.43121885]\n",
      "3 \t [0.27145029 0.34539154 0.62989423 0.44971905 0.21345181 0.40304316]\n",
      "0 \t [0.33762544 0.3279833  0.53299762 0.49236503 0.41332283 0.28476388]\n",
      "0 \t [0.35871909 0.45140102 0.32730586 0.5660755  0.38377201 0.3044769 ]\n",
      "3 \t [0.35896593 0.46074066 0.36505621 0.56267802 0.35775771 0.28460206]\n",
      "3 \t [0.37516782 0.45815421 0.34839509 0.57975214 0.31013065 0.30930749]\n",
      "3 \t [0.39345168 0.4575807  0.33839979 0.57079224 0.30844329 0.31679681]\n",
      "3 \t [0.39665757 0.45247289 0.35583331 0.54926439 0.31058448 0.33639207]\n",
      "3 \t [0.38468006 0.47222618 0.38248378 0.53034275 0.28250423 0.34879474]\n",
      "3 \t [0.34309942 0.46767582 0.39904217 0.52087881 0.27164011 0.39902928]\n",
      "3 \t [0.20261619 0.24145977 0.83884034 0.28915831 0.16670987 0.29255091]\n",
      "3 \t [0.26987185 0.3155608  0.72530223 0.40424912 0.21658653 0.30199365]\n",
      "0 \t [0.29158442 0.30296386 0.70594796 0.43642637 0.33147129 0.15648551]\n",
      "0 \t [0.37439679 0.4253415  0.33641425 0.5447533  0.45337488 0.25185744]\n",
      "0 \t [0.36248483 0.44186175 0.34963117 0.55468366 0.3950672  0.29558236]\n",
      "3 \t [0.37964958 0.43899022 0.33742805 0.57348771 0.35228502 0.31032758]\n",
      "3 \t [0.39687476 0.45901927 0.35060795 0.56248902 0.31042601 0.31001224]\n",
      "3 \t [0.38693626 0.49154637 0.32617769 0.55263    0.2951175  0.33132515]\n",
      "0 \t [0.42056912 0.44467461 0.4218162  0.50744552 0.38043836 0.21265678]\n",
      "0 \t [0.38611851 0.43760126 0.54549938 0.44808675 0.3456636  0.2039191 ]\n",
      "3 \t [0.30109744 0.34079054 0.68730111 0.41947933 0.24364885 0.29238956]\n",
      "0 \t [0.11900888 0.15445654 0.91745079 0.22354294 0.11168389 0.24045659]\n",
      "0 \t [0.23123631 0.24485513 0.7899556  0.36372272 0.24514181 0.26487197]\n",
      "0 \t [0.41145504 0.39234691 0.3703571  0.50656367 0.50819658 0.15726968]\n",
      "0 \t [0.41109418 0.40545411 0.38590298 0.50911835 0.47940527 0.16928239]\n",
      "3 \t [0.4142348  0.42563061 0.37962784 0.53444756 0.41419384 0.21433637]\n",
      "3 \t [0.41457574 0.44173431 0.3891926  0.54117272 0.36342795 0.2378636 ]\n",
      "3 \t [0.36559967 0.45582442 0.34232115 0.56581202 0.29773356 0.3641273 ]\n",
      "0 \t [0.33522751 0.37195402 0.63424776 0.43484013 0.32942982 0.22224437]\n",
      "3 \t [0.32218394 0.33074425 0.67138837 0.40434203 0.35773294 0.21113523]\n",
      "3 \t [0.32599204 0.34538787 0.64394817 0.43852612 0.29720677 0.28130079]\n",
      "3 \t [0.15799296 0.28760274 0.71484172 0.38915355 0.13047703 0.46136694]\n",
      "0 \t [0.2015898  0.25272542 0.76892821 0.34913105 0.14274395 0.40245806]\n",
      "0 \t [0.44407461 0.33930835 0.42637399 0.45240707 0.54692478 0.04554048]\n",
      "0 \t [0.43204905 0.35482239 0.4573348  0.45334526 0.5188115  0.05993552]\n",
      "0 \t [0.42325278 0.39596171 0.43141298 0.49517947 0.46199906 0.13895469]\n",
      "0 \t [0.42288511 0.4080577  0.41841483 0.51622975 0.42852369 0.17164041]\n",
      "0 \t [0.41186718 0.41833387 0.40727844 0.52652258 0.40985635 0.21042388]\n",
      "0 \t [0.39593047 0.35735617 0.52391912 0.46068295 0.45519179 0.14702395]\n",
      "0 \t [0.39294565 0.30626261 0.59370266 0.34844891 0.52210533 0.07282491]\n",
      "0 \t [0.35763421 0.32690206 0.64036009 0.39750939 0.3989105  0.1950089 ]\n",
      "0 \t [0.25859452 0.28414142 0.70408931 0.40711095 0.3127838  0.30508646]\n",
      "3 \t [0.08789237 0.18563571 0.80574669 0.33193556 0.09960685 0.43414726]\n",
      "0 \t [0.43581718 0.34466087 0.48368205 0.45845634 0.49292779 0.0645285 ]\n",
      "0 \t [0.43291033 0.35713368 0.51042402 0.45887961 0.45801249 0.0645412 ]\n",
      "0 \t [0.42060284 0.37239858 0.47491371 0.4791654  0.46620015 0.10921293]\n",
      "3 \t [0.40310015 0.41737845 0.41092015 0.52893267 0.40562279 0.22394308]\n",
      "3 \t [0.35836973 0.4080745  0.43621697 0.53454826 0.3690447  0.30467239]\n",
      "0 \t [0.3847533  0.38289072 0.4283633  0.52225892 0.43859291 0.23821495]\n",
      "0 \t [0.38832695 0.34837392 0.5397061  0.45559523 0.42238774 0.22489267]\n",
      "3 \t [0.31680932 0.38783714 0.49544715 0.4945834  0.36119218 0.3587113 ]\n",
      "2 \t [0.18092633 0.30944205 0.59886865 0.44997784 0.16793288 0.53121193]\n",
      "3 \t [0.22202097 0.29435452 0.57043378 0.51133713 0.20552799 0.48472672]\n",
      "0 \t [0.42422152 0.36563194 0.49347131 0.48893776 0.43512132 0.12018631]\n",
      "0 \t [0.41669399 0.36647115 0.54523352 0.46597238 0.41029758 0.09649386]\n",
      "0 \t [0.41426422 0.38142338 0.48809837 0.49480669 0.42237538 0.14637868]\n",
      "0 \t [0.39197917 0.41103909 0.40549036 0.52997601 0.42305329 0.23049535]\n",
      "3 \t [0.38816588 0.42133141 0.40307384 0.53732981 0.39336012 0.25667695]\n",
      "3 \t [0.3629461  0.42971584 0.38689509 0.54088435 0.3434512  0.35130045]\n",
      "3 \t [0.30907163 0.41262924 0.33877549 0.57346278 0.25649977 0.47412162]\n",
      "1 \t [0.25389564 0.42861819 0.25099828 0.57904414 0.16231996 0.5719995 ]\n",
      "1 \t [0.21438613 0.38639246 0.30059237 0.54947104 0.12524813 0.6299033 ]\n",
      "2 \t [0.16446586 0.35475896 0.34245786 0.52756536 0.10675409 0.66339885]\n",
      "3 \t [0.39844947 0.40837765 0.38513422 0.55824357 0.37995378 0.26483312]\n",
      "3 \t [0.39070847 0.40699856 0.43965717 0.53402948 0.37623634 0.24831304]\n",
      "0 \t [0.38342908 0.41579707 0.41901313 0.53387676 0.39359181 0.25413388]\n",
      "3 \t [0.37714426 0.43058839 0.3334054  0.56190187 0.39335926 0.30121664]\n",
      "3 \t [0.36891283 0.43742248 0.35050132 0.55587404 0.37822054 0.31251721]\n",
      "3 \t [0.36030514 0.44499265 0.35064607 0.56232816 0.31875186 0.36248224]\n",
      "3 \t [0.28652549 0.45477808 0.23455118 0.58585912 0.17360135 0.53169301]\n",
      "1 \t [0.25365483 0.4580822  0.14651645 0.59142083 0.14045392 0.57865962]\n",
      "1 \t [0.21768638 0.42563767 0.13481538 0.57986786 0.10776321 0.63671845]\n",
      "1 \t [0.19116698 0.38575036 0.16748746 0.55808989 0.09818413 0.6822722 ]\n",
      "2 \t [0.35579275 0.47234313 0.26647884 0.58726547 0.25967128 0.40863505]\n",
      "3 \t [0.35489982 0.462792   0.26773778 0.58028737 0.33156636 0.37618677]\n",
      "0 \t [0.36776188 0.44720148 0.28500116 0.56921224 0.39216487 0.32517768]\n",
      "0 \t [0.36487813 0.43537188 0.3051033  0.56881071 0.39486938 0.32366619]\n",
      "3 \t [0.37265412 0.42728086 0.34054456 0.55790701 0.40447891 0.29618568]\n",
      "3 \t [0.32982228 0.46057505 0.28517813 0.5779658  0.26045502 0.44258337]\n",
      "1 \t [0.27654772 0.49359099 0.18305402 0.57436794 0.12518679 0.54846171]\n",
      "1 \t [0.25596052 0.48558037 0.11987694 0.58438339 0.11090796 0.57490949]\n",
      "2 \t [0.23216816 0.4545805  0.09633941 0.58184492 0.09695823 0.61824658]\n",
      "1 \t [0.21018756 0.40880228 0.10648751 0.57340384 0.10757448 0.66105829]\n"
     ]
    }
   ],
   "source": [
    "p_vectors = []\n",
    "for i in range(10):\n",
    "    for j in range(10):\n",
    "        if(taggings[i][j] == 0):\n",
    "            p = LVQ.prototype(0, som2.weights[(i,j)], epsilon)\n",
    "            p_vectors.append(p)\n",
    "        elif(taggings[i][j] == 1):\n",
    "            p = LVQ.prototype(1, som2.weights[(i,j)], epsilon)\n",
    "            p_vectors.append(p)\n",
    "        elif(taggings[i][j] == 2):\n",
    "            p = LVQ.prototype(2, som2.weights[(i,j)], epsilon)\n",
    "            p_vectors.append(p)\n",
    "        elif(taggings[i][j] == 3):\n",
    "            p = LVQ.prototype(3, som2.weights[(i,j)], epsilon)\n",
    "            p_vectors.append(p)\n",
    "print(\"class id \\t Initial prototype vector \\n\")\n",
    "for p_v in p_vectors:\n",
    "    print(p_v.class_id, '\\t', p_v.p_vector)"
   ]
  },
  {
   "cell_type": "code",
   "execution_count": 17,
   "metadata": {},
   "outputs": [],
   "source": [
    "lvq2 = LVQ.LVQ(x_train, y_train, n_classes=2, n_neurons=25, p_vectors=p_vectors, epsilon=0.9, epsilon_dec_factor=0.001)\n",
    "neurons = lvq2.fit(x_train, y_train)"
   ]
  },
  {
   "cell_type": "code",
   "execution_count": 18,
   "metadata": {
    "scrolled": true
   },
   "outputs": [
    {
     "name": "stdout",
     "output_type": "stream",
     "text": [
      "             precision    recall  f1-score   support\n",
      "\n",
      "          0       0.99      0.92      0.95       558\n",
      "          1       0.90      0.85      0.87       165\n",
      "          2       0.62      0.43      0.51       139\n",
      "          3       0.78      0.92      0.84       453\n",
      "\n",
      "avg / total       0.86      0.86      0.86      1315\n",
      "\n"
     ]
    }
   ],
   "source": [
    "predicted_y2 = [lvq2.predict(instance) for instance in x_new]\n",
    "\n",
    "from sklearn.metrics import classification_report\n",
    "\n",
    "print (classification_report(y_new, predicted_y2, target_names=['0','1', '2', '3']))"
   ]
  },
  {
   "cell_type": "code",
   "execution_count": 19,
   "metadata": {},
   "outputs": [],
   "source": [
    "# Training the SOM\n",
    "from minisom import MiniSom\n",
    "som3 = MiniSom(x = 10, y = 10, input_len = 6, sigma = 1.0, learning_rate = 0.5)\n",
    "som3.random_weights_init(x_train)\n",
    "som3.train_random(data = x_train, num_iteration = 100)"
   ]
  },
  {
   "cell_type": "code",
   "execution_count": 20,
   "metadata": {},
   "outputs": [],
   "source": [
    "labels = np.zeros((4, 10, 10))"
   ]
  },
  {
   "cell_type": "code",
   "execution_count": 21,
   "metadata": {
    "scrolled": false
   },
   "outputs": [
    {
     "data": {
      "image/png": "[encoded data removed]",
      "text/plain": [
       "<Figure size 432x288 with 2 Axes>"
      ]
     },
     "metadata": {},
     "output_type": "display_data"
    }
   ],
   "source": [
    "# Visualizing the results\n",
    "from pylab import bone, pcolor, colorbar, plot, show\n",
    "bone()\n",
    "pcolor(som3.distance_map().T)\n",
    "colorbar()\n",
    "markers = ['1', '2', '3', '4', 's', '8', 'p', '>']\n",
    "colors = ['r', 'g', 'b', 'y', 'w', 'c', 'm', 'k']\n",
    "for i, x in enumerate(x_train):\n",
    "    w = som3.winner(x)\n",
    "    plot(w[0] + 0.5,\n",
    "         w[1] + 0.5,\n",
    "         markers[y_train[i]],\n",
    "         markeredgecolor = colors[y_train[i]],\n",
    "         markerfacecolor = 'None',\n",
    "         markersize = 10,\n",
    "         markeredgewidth = 2)\n",
    "    if y_train[i] == 0:\n",
    "        labels[0, w[0], w[1]] += 1\n",
    "    elif y_train[i] == 1:\n",
    "        labels[1, w[0], w[1]] += 1\n",
    "    elif y_train[i] == 2:\n",
    "        labels[2, w[0], w[1]] += 1\n",
    "    elif y_train[i] == 3:\n",
    "        labels[3, w[0], w[1]] += 1\n",
    "show()"
   ]
  },
  {
   "cell_type": "code",
   "execution_count": 22,
   "metadata": {},
   "outputs": [
    {
     "name": "stderr",
     "output_type": "stream",
     "text": [
      "C:\\Users\\Thend\\Anaconda3\\lib\\site-packages\\ipykernel_launcher.py:6: RuntimeWarning: divide by zero encountered in double_scalars\n",
      "  \n",
      "C:\\Users\\Thend\\Anaconda3\\lib\\site-packages\\ipykernel_launcher.py:6: RuntimeWarning: invalid value encountered in double_scalars\n",
      "  \n"
     ]
    }
   ],
   "source": [
    "taggings = np.zeros((10, 10))\n",
    "for i in range(10):\n",
    "    for j in range(10):\n",
    "        tmp = np.array([labels[0][i][j], labels[1][i][j], labels[2][i][j], labels[3][i][j]])\n",
    "        sort = tmp.argsort()\n",
    "        if (tmp[sort[3]]/tmp[sort[2]] < 5):\n",
    "            taggings[i][j] = np.random.choice([sort[3], sort[2]])\n",
    "        else:\n",
    "            taggings[i][j] = sort[3]"
   ]
  },
  {
   "cell_type": "code",
   "execution_count": 23,
   "metadata": {},
   "outputs": [
    {
     "data": {
      "text/plain": [
       "array([[0., 3., 3., 0., 3., 0., 3., 3., 3., 3.],\n",
       "       [3., 3., 3., 0., 0., 3., 3., 3., 3., 0.],\n",
       "       [3., 3., 3., 0., 0., 3., 0., 3., 2., 0.],\n",
       "       [2., 3., 3., 0., 3., 0., 0., 3., 3., 0.],\n",
       "       [2., 2., 3., 0., 0., 3., 3., 0., 0., 0.],\n",
       "       [1., 3., 3., 3., 0., 0., 3., 0., 0., 0.],\n",
       "       [1., 2., 3., 3., 3., 3., 0., 0., 0., 0.],\n",
       "       [1., 1., 3., 3., 3., 3., 0., 0., 0., 0.],\n",
       "       [3., 2., 3., 0., 0., 0., 0., 0., 0., 0.],\n",
       "       [3., 0., 0., 3., 3., 3., 0., 0., 0., 0.]])"
      ]
     },
     "execution_count": 23,
     "metadata": {},
     "output_type": "execute_result"
    }
   ],
   "source": [
    "taggings"
   ]
  },
  {
   "cell_type": "code",
   "execution_count": 24,
   "metadata": {
    "scrolled": true
   },
   "outputs": [
    {
     "name": "stdout",
     "output_type": "stream",
     "text": [
      "class id \t Initial prototype vector \n",
      "\n",
      "0 \t [0.33374789 0.35746511 0.6015638  0.49141472 0.25943913 0.30025813]\n",
      "3 \t [0.42147297 0.42355171 0.43521396 0.52410285 0.35633068 0.22781123]\n",
      "3 \t [0.37935063 0.47217003 0.34269772 0.54022852 0.37229615 0.29198555]\n",
      "0 \t [0.38466417 0.44715188 0.34053281 0.53312197 0.44389037 0.23424001]\n",
      "3 \t [0.36160583 0.41603244 0.43911579 0.52216555 0.40376104 0.26010712]\n",
      "0 \t [0.3683283  0.39187142 0.50573944 0.50958783 0.37534651 0.23331076]\n",
      "3 \t [0.40020453 0.38239931 0.50645781 0.50889229 0.34613688 0.24150669]\n",
      "3 \t [0.34631073 0.34696647 0.5871999  0.48035092 0.27002445 0.33351043]\n",
      "3 \t [0.35709515 0.37679537 0.49677171 0.51676674 0.32823717 0.33005859]\n",
      "3 \t [0.34723811 0.33551932 0.60391678 0.45157792 0.27678898 0.34871513]\n",
      "3 \t [0.37309802 0.43163384 0.3072119  0.59520469 0.27633238 0.38662998]\n",
      "3 \t [0.37256903 0.45629216 0.30309239 0.5787348  0.33037373 0.34211695]\n",
      "3 \t [0.38106788 0.4506128  0.31851611 0.55507571 0.40461566 0.2801071 ]\n",
      "0 \t [0.37094039 0.45809504 0.30329932 0.54374306 0.44050981 0.26618842]\n",
      "0 \t [0.37787454 0.43210845 0.32654498 0.55009637 0.43551807 0.26754341]\n",
      "3 \t [0.39964372 0.41157047 0.39406806 0.54491199 0.39892599 0.24399586]\n",
      "3 \t [0.39460695 0.38339777 0.46468482 0.52548376 0.32883642 0.31159741]\n",
      "3 \t [0.37212082 0.35622251 0.49082708 0.51575611 0.24913587 0.40699799]\n",
      "3 \t [0.31642681 0.31652707 0.62981316 0.45124369 0.26383762 0.36026228]\n",
      "0 \t [0.22940575 0.27330977 0.71556344 0.42776503 0.23532213 0.34969173]\n",
      "3 \t [0.35958559 0.45775828 0.2815509  0.59521916 0.29685726 0.37346294]\n",
      "3 \t [0.35569058 0.46242751 0.25443349 0.58459157 0.35405043 0.35750468]\n",
      "3 \t [0.37354167 0.4550212  0.29667576 0.57248108 0.3746364  0.31195962]\n",
      "0 \t [0.3761874  0.44366379 0.34401276 0.54557304 0.41536565 0.27041105]\n",
      "0 \t [0.39847426 0.42699746 0.35888376 0.54186562 0.42862257 0.22969157]\n",
      "3 \t [0.41038509 0.41732441 0.39554827 0.54692145 0.38539246 0.23090165]\n",
      "0 \t [0.40428665 0.39114769 0.45318787 0.52366313 0.36575277 0.26491201]\n",
      "3 \t [0.36166584 0.35480603 0.52229933 0.50618524 0.29049257 0.36042265]\n",
      "2 \t [0.25417518 0.30879494 0.67593873 0.43563907 0.20929602 0.38673151]\n",
      "0 \t [0.10446807 0.15766396 0.8852936  0.2641863  0.11871352 0.31079967]\n",
      "2 \t [0.33161342 0.45827558 0.32520465 0.59481822 0.23832517 0.40453724]\n",
      "3 \t [0.35997036 0.47433836 0.2729281  0.58718418 0.29499422 0.37299847]\n",
      "3 \t [0.37644393 0.45837589 0.3368143  0.56188225 0.32704732 0.33476262]\n",
      "0 \t [0.40796203 0.44342252 0.36624809 0.54669346 0.37951686 0.24474272]\n",
      "3 \t [0.41662948 0.42886168 0.39045972 0.53014232 0.40922486 0.20377162]\n",
      "0 \t [0.42243811 0.41508631 0.39883496 0.53986909 0.39101529 0.21407587]\n",
      "0 \t [0.41478629 0.4032233  0.43770946 0.52618451 0.38439688 0.22168138]\n",
      "3 \t [0.36633386 0.39517437 0.48979275 0.50377161 0.37673563 0.27207392]\n",
      "3 \t [0.25919395 0.30676804 0.68910166 0.42729488 0.27141942 0.32802646]\n",
      "0 \t [0.2376888  0.30766035 0.70083454 0.42545123 0.26854309 0.32335113]\n",
      "2 \t [0.31267    0.47667486 0.24062274 0.59653507 0.1887871  0.47499956]\n",
      "2 \t [0.33781882 0.4872694  0.24306914 0.58570139 0.22314672 0.44331005]\n",
      "3 \t [0.3727382  0.46672348 0.31368664 0.57701364 0.28133504 0.36433774]\n",
      "0 \t [0.40592245 0.44905681 0.38499233 0.54453981 0.34769686 0.26065137]\n",
      "0 \t [0.42690188 0.42164024 0.42519265 0.51413067 0.40404006 0.17778296]\n",
      "3 \t [0.42398092 0.4086225  0.44903445 0.51362402 0.37762253 0.21266754]\n",
      "3 \t [0.40036365 0.40921646 0.38097035 0.54495337 0.38078425 0.29179034]\n",
      "0 \t [0.39338039 0.42803009 0.45283502 0.49560823 0.40767271 0.2125041 ]\n",
      "0 \t [0.4011924  0.3914087  0.51571112 0.45062791 0.44222368 0.1458034 ]\n",
      "0 \t [0.37964771 0.35261251 0.55044377 0.46331928 0.43674416 0.15209694]\n",
      "1 \t [0.23890121 0.41919457 0.13268265 0.57678855 0.13248118 0.63195027]\n",
      "3 \t [0.28702863 0.45619711 0.17704909 0.58290583 0.18483333 0.55155219]\n",
      "3 \t [0.34172301 0.45104884 0.25073746 0.58755804 0.24718933 0.45889437]\n",
      "3 \t [0.39817979 0.44984478 0.38309707 0.54876462 0.33188786 0.28467   ]\n",
      "0 \t [0.41017162 0.42224844 0.45384132 0.51047439 0.38042227 0.205398  ]\n",
      "0 \t [0.43341049 0.38051032 0.493999   0.49612525 0.38929054 0.16014009]\n",
      "3 \t [0.41355599 0.38856641 0.47326072 0.51013612 0.39551144 0.19324522]\n",
      "0 \t [0.42772448 0.38278033 0.46657339 0.48749777 0.44146666 0.14245479]\n",
      "0 \t [0.42664881 0.37055106 0.48964829 0.45688632 0.47374545 0.08790562]\n",
      "0 \t [0.39824215 0.38628719 0.46044131 0.49045267 0.45628696 0.17730647]\n",
      "1 \t [0.18578308 0.36646518 0.14491599 0.56839238 0.09949447 0.69080983]\n",
      "2 \t [0.24170085 0.4003934  0.20738454 0.57004666 0.15552174 0.62379266]\n",
      "3 \t [0.3303627  0.43276414 0.31907189 0.55404339 0.25003189 0.48196347]\n",
      "3 \t [0.37582518 0.42502104 0.40098789 0.54630259 0.34724309 0.31352349]\n",
      "3 \t [0.37493826 0.39212042 0.47576622 0.52348281 0.36463926 0.26891141]\n",
      "3 \t [0.4112661  0.39211322 0.44826681 0.51126497 0.42643989 0.18144264]\n",
      "0 \t [0.41656082 0.39977955 0.452564   0.49320654 0.44218693 0.15184615]\n",
      "0 \t [0.41064288 0.41120066 0.43980272 0.50107035 0.43748778 0.16245911]\n",
      "0 \t [0.41392142 0.38346399 0.45101133 0.47601612 0.48729097 0.11903515]\n",
      "0 \t [0.41230046 0.36605326 0.4634029  0.43948799 0.53315722 0.06216729]\n",
      "1 \t [0.21927544 0.36586581 0.2325916  0.56903817 0.14411933 0.64760082]\n",
      "1 \t [0.24315513 0.37124859 0.31324335 0.5665671  0.17234014 0.59517163]\n",
      "3 \t [0.32086975 0.40268601 0.38189881 0.56410912 0.28122109 0.43787609]\n",
      "3 \t [0.35225708 0.38805094 0.45092335 0.53881184 0.35920445 0.32039586]\n",
      "3 \t [0.38836193 0.38164065 0.46392092 0.52155852 0.39460943 0.24609533]\n",
      "3 \t [0.39422128 0.38615468 0.46803806 0.51785318 0.39481526 0.22883075]\n",
      "0 \t [0.41338284 0.37135076 0.45721371 0.50457489 0.43660956 0.19221119]\n",
      "0 \t [0.4055697  0.40287493 0.38331721 0.52748202 0.45827069 0.19499646]\n",
      "0 \t [0.41055076 0.37503711 0.4227617  0.49049133 0.50384595 0.13276033]\n",
      "0 \t [0.39716518 0.38337924 0.42010637 0.48352422 0.51998832 0.1208606 ]\n",
      "3 \t [0.30625684 0.421926   0.32298828 0.58196422 0.27913514 0.45526365]\n",
      "2 \t [0.31040512 0.39907639 0.39155396 0.57230612 0.28545963 0.426674  ]\n",
      "3 \t [0.35955155 0.39454595 0.42761421 0.54889771 0.36483065 0.31274938]\n",
      "0 \t [0.38715009 0.36478826 0.46760946 0.52056894 0.41887092 0.22790538]\n",
      "0 \t [0.4012867  0.36731856 0.50872094 0.49996291 0.37880651 0.22757809]\n",
      "0 \t [0.39278143 0.31260972 0.64140811 0.42455621 0.35008712 0.18380581]\n",
      "0 \t [0.38137455 0.35095293 0.5430303  0.47443448 0.41449991 0.19901091]\n",
      "0 \t [0.41535907 0.37295071 0.37394398 0.51477873 0.51247401 0.14465047]\n",
      "0 \t [0.42201055 0.34918079 0.37237109 0.48778937 0.56152651 0.08982844]\n",
      "0 \t [0.40742784 0.3602404  0.38818861 0.48206011 0.55729171 0.10287377]\n",
      "3 \t [0.36520062 0.42988566 0.36459067 0.56708465 0.40093949 0.25799805]\n",
      "0 \t [0.39764013 0.37689351 0.4344003  0.52530112 0.46258259 0.14562303]\n",
      "0 \t [0.39503591 0.35604883 0.48190251 0.49023013 0.47249122 0.14619266]\n",
      "3 \t [0.39867606 0.36371722 0.47415316 0.51323756 0.42682359 0.19584382]\n",
      "3 \t [0.37437144 0.31868025 0.55573834 0.50430178 0.36565299 0.24783347]\n",
      "3 \t [0.40115743 0.36656001 0.50288138 0.48798586 0.38263665 0.25937576]\n",
      "0 \t [0.4142324  0.38501335 0.42396394 0.4905206  0.45895842 0.22176006]\n",
      "0 \t [0.42586363 0.34395828 0.38866243 0.48934788 0.54597857 0.10826096]\n",
      "0 \t [0.44701962 0.32750653 0.35355007 0.47290641 0.58431992 0.05333895]\n",
      "0 \t [0.41033668 0.35833851 0.36199873 0.49686718 0.55991781 0.10857848]\n"
     ]
    }
   ],
   "source": [
    "p_vectors = []\n",
    "for i in range(10):\n",
    "    for j in range(10):\n",
    "        if(taggings[i][j] == 0):\n",
    "            p = LVQ.prototype(0, som3.weights[(i,j)], epsilon)\n",
    "            p_vectors.append(p)\n",
    "        elif(taggings[i][j] == 1):\n",
    "            p = LVQ.prototype(1, som3.weights[(i,j)], epsilon)\n",
    "            p_vectors.append(p)\n",
    "        elif(taggings[i][j] == 2):\n",
    "            p = LVQ.prototype(2, som3.weights[(i,j)], epsilon)\n",
    "            p_vectors.append(p)\n",
    "        elif(taggings[i][j] == 3):\n",
    "            p = LVQ.prototype(3, som3.weights[(i,j)], epsilon)\n",
    "            p_vectors.append(p)\n",
    "print(\"class id \\t Initial prototype vector \\n\")\n",
    "for p_v in p_vectors:\n",
    "    print(p_v.class_id, '\\t', p_v.p_vector)"
   ]
  },
  {
   "cell_type": "code",
   "execution_count": 25,
   "metadata": {},
   "outputs": [],
   "source": [
    "lvq3 = LVQ.LVQ(x_train, y_train, n_classes=2, n_neurons=25, p_vectors=p_vectors, epsilon=0.9, epsilon_dec_factor=0.001)\n",
    "neurons = lvq3.fit(x_train, y_train)"
   ]
  },
  {
   "cell_type": "code",
   "execution_count": 26,
   "metadata": {
    "scrolled": true
   },
   "outputs": [
    {
     "name": "stdout",
     "output_type": "stream",
     "text": [
      "             precision    recall  f1-score   support\n",
      "\n",
      "          0       0.98      0.89      0.93       558\n",
      "          1       0.82      0.82      0.82       165\n",
      "          2       0.45      0.18      0.26       139\n",
      "          3       0.74      0.96      0.83       453\n",
      "\n",
      "avg / total       0.82      0.83      0.81      1315\n",
      "\n"
     ]
    }
   ],
   "source": [
    "predicted_y3 = [lvq3.predict(instance) for instance in x_new]\n",
    "\n",
    "from sklearn.metrics import classification_report\n",
    "\n",
    "print (classification_report(y_new, predicted_y3, target_names=['0','1', '2', '3']))"
   ]
  },
  {
   "cell_type": "code",
   "execution_count": 27,
   "metadata": {},
   "outputs": [],
   "source": [
    "ensemble = [np.asarray(predicted_y_new), np.asarray(predicted_y2), np.asarray(predicted_y3)]"
   ]
  },
  {
   "cell_type": "code",
   "execution_count": 28,
   "metadata": {},
   "outputs": [
    {
     "data": {
      "text/plain": [
       "1315"
      ]
     },
     "execution_count": 28,
     "metadata": {},
     "output_type": "execute_result"
    }
   ],
   "source": [
    "len(ensemble[0])"
   ]
  },
  {
   "cell_type": "code",
   "execution_count": 29,
   "metadata": {},
   "outputs": [],
   "source": [
    "predict = [np.bincount([ensemble[j][i] for j in range(3)]).argmax() for i in range(len(ensemble[1]))]"
   ]
  },
  {
   "cell_type": "code",
   "execution_count": 30,
   "metadata": {
    "scrolled": false
   },
   "outputs": [
    {
     "name": "stdout",
     "output_type": "stream",
     "text": [
      "             precision    recall  f1-score   support\n",
      "\n",
      "          0       0.98      0.91      0.94       558\n",
      "          1       0.84      0.90      0.87       165\n",
      "          2       0.71      0.35      0.46       139\n",
      "          3       0.78      0.95      0.86       453\n",
      "\n",
      "avg / total       0.87      0.86      0.85      1315\n",
      "\n"
     ]
    }
   ],
   "source": [
    "print (classification_report(y_new, predict, target_names=['0','1', '2', '3']))"
   ]
  },
  {
   "cell_type": "code",
   "execution_count": 31,
   "metadata": {},
   "outputs": [
    {
     "name": "stdout",
     "output_type": "stream",
     "text": [
      "# of 0:  420\n",
      "# of 1:  110\n",
      "# of 2:  111\n",
      "# of 3:  345\n"
     ]
    }
   ],
   "source": [
    "for i in range(0,4):\n",
    "    print(\"# of \" + str(i) +  \": \", len(y_train[y_train==i]))"
   ]
  }
 ],
 "metadata": {
  "kernelspec": {
   "display_name": "Python 3",
   "language": "python",
   "name": "python3"
  },
  "language_info": {
   "codemirror_mode": {
    "name": "ipython",
    "version": 3
   },
   "file_extension": ".py",
   "mimetype": "text/x-python",
   "name": "python",
   "nbconvert_exporter": "python",
   "pygments_lexer": "ipython3",
   "version": "3.6.5"
  }
 },
 "nbformat": 4,
 "nbformat_minor": 2
}
