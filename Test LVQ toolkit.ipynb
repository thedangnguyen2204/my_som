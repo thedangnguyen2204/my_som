{
 "cells": [
  {
   "cell_type": "code",
   "execution_count": 63,
   "metadata": {},
   "outputs": [],
   "source": [
    "from sklearn.datasets import load_wine\n",
    "import numpy as np\n",
    "from sklearn.metrics import euclidean_distances\n",
    "import pandas as pd\n",
    "import LVQ"
   ]
  },
  {
   "cell_type": "code",
   "execution_count": 64,
   "metadata": {},
   "outputs": [],
   "source": [
    "data = pd.read_csv(r\"data/SD-2X_rocktype.csv\")"
   ]
  },
  {
   "cell_type": "code",
   "execution_count": 65,
   "metadata": {
    "scrolled": true
   },
   "outputs": [
    {
     "data": {
      "text/html": [
       "<div>\n",
       "<style scoped>\n",
       "    .dataframe tbody tr th:only-of-type {\n",
       "        vertical-align: middle;\n",
       "    }\n",
       "\n",
       "    .dataframe tbody tr th {\n",
       "        vertical-align: top;\n",
       "    }\n",
       "\n",
       "    .dataframe thead th {\n",
       "        text-align: right;\n",
       "    }\n",
       "</style>\n",
       "<table border=\"1\" class=\"dataframe\">\n",
       "  <thead>\n",
       "    <tr style=\"text-align: right;\">\n",
       "      <th></th>\n",
       "      <th>GR_F</th>\n",
       "      <th>NPHIC</th>\n",
       "      <th>RHOBC</th>\n",
       "      <th>DTC</th>\n",
       "      <th>VCL_FINAL</th>\n",
       "      <th>PHIE_FINAL</th>\n",
       "      <th>TypeRock</th>\n",
       "    </tr>\n",
       "  </thead>\n",
       "  <tbody>\n",
       "    <tr>\n",
       "      <th>0</th>\n",
       "      <td>38.6034</td>\n",
       "      <td>0.2335</td>\n",
       "      <td>2.263</td>\n",
       "      <td>79.249</td>\n",
       "      <td>0.0687</td>\n",
       "      <td>0.2262</td>\n",
       "      <td>1</td>\n",
       "    </tr>\n",
       "    <tr>\n",
       "      <th>1</th>\n",
       "      <td>37.3566</td>\n",
       "      <td>0.2143</td>\n",
       "      <td>2.279</td>\n",
       "      <td>78.297</td>\n",
       "      <td>0.0617</td>\n",
       "      <td>0.2174</td>\n",
       "      <td>1</td>\n",
       "    </tr>\n",
       "    <tr>\n",
       "      <th>2</th>\n",
       "      <td>37.9742</td>\n",
       "      <td>0.1999</td>\n",
       "      <td>2.279</td>\n",
       "      <td>73.672</td>\n",
       "      <td>0.0652</td>\n",
       "      <td>0.2169</td>\n",
       "      <td>1</td>\n",
       "    </tr>\n",
       "    <tr>\n",
       "      <th>3</th>\n",
       "      <td>39.3757</td>\n",
       "      <td>0.1950</td>\n",
       "      <td>2.333</td>\n",
       "      <td>72.702</td>\n",
       "      <td>0.0731</td>\n",
       "      <td>0.1833</td>\n",
       "      <td>2</td>\n",
       "    </tr>\n",
       "    <tr>\n",
       "      <th>4</th>\n",
       "      <td>44.2722</td>\n",
       "      <td>0.2019</td>\n",
       "      <td>2.401</td>\n",
       "      <td>68.824</td>\n",
       "      <td>0.1022</td>\n",
       "      <td>0.1385</td>\n",
       "      <td>3</td>\n",
       "    </tr>\n",
       "  </tbody>\n",
       "</table>\n",
       "</div>"
      ],
      "text/plain": [
       "      GR_F   NPHIC  RHOBC     DTC  VCL_FINAL  PHIE_FINAL  TypeRock\n",
       "0  38.6034  0.2335  2.263  79.249     0.0687      0.2262         1\n",
       "1  37.3566  0.2143  2.279  78.297     0.0617      0.2174         1\n",
       "2  37.9742  0.1999  2.279  73.672     0.0652      0.2169         1\n",
       "3  39.3757  0.1950  2.333  72.702     0.0731      0.1833         2\n",
       "4  44.2722  0.2019  2.401  68.824     0.1022      0.1385         3"
      ]
     },
     "execution_count": 65,
     "metadata": {},
     "output_type": "execute_result"
    }
   ],
   "source": [
    "data.head()"
   ]
  },
  {
   "cell_type": "code",
   "execution_count": 66,
   "metadata": {},
   "outputs": [
    {
     "data": {
      "text/plain": [
       "array([0, 1, 2, 3], dtype=int64)"
      ]
     },
     "execution_count": 66,
     "metadata": {},
     "output_type": "execute_result"
    }
   ],
   "source": [
    "x_train = data.iloc[:, 0:6].values\n",
    "y_train = data.iloc[:, 6].values\n",
    "y_train[y_train==4] = 0\n",
    "np.unique(y_train)"
   ]
  },
  {
   "cell_type": "code",
   "execution_count": 67,
   "metadata": {
    "scrolled": true
   },
   "outputs": [],
   "source": [
    "# use Minmaxscaler because we use euclidean distance\n",
    "from sklearn.cross_validation import train_test_split\n",
    "\n",
    "# use Minmaxscaler because we use euclidean distance\n",
    "from sklearn.preprocessing import MinMaxScaler\n",
    "minmax = MinMaxScaler()\n",
    "x_train = minmax.fit_transform(x_train)"
   ]
  },
  {
   "cell_type": "code",
   "execution_count": 68,
   "metadata": {},
   "outputs": [],
   "source": [
    "data_new = pd.read_csv(r\"data/SD-3X_rocktype.csv\")\n",
    "x_test = data_new.iloc[:, 0:6].values\n",
    "y_test = data_new.iloc[:, 6].values\n",
    "y_test[y_test==4] = 0\n",
    "x_test = minmax.transform(x_test)"
   ]
  },
  {
   "cell_type": "code",
   "execution_count": 69,
   "metadata": {
    "scrolled": true
   },
   "outputs": [],
   "source": [
    "lvq = LVQ.LVQ(x_train, y_train, n_classes=4, n_neurons=5, p_vectors=[], epsilon=0.9, epsilon_dec_factor=0.001)\n",
    "neurons = lvq.train_LVQ2(x_train, y_train)"
   ]
  },
  {
   "cell_type": "code",
   "execution_count": 70,
   "metadata": {
    "scrolled": true
   },
   "outputs": [
    {
     "name": "stdout",
     "output_type": "stream",
     "text": [
      "             precision    recall  f1-score   support\n",
      "\n",
      "          0       0.96      0.44      0.61       331\n",
      "          1       0.96      0.85      0.91        95\n",
      "          2       0.45      0.54      0.49        26\n",
      "          3       0.50      0.95      0.66       205\n",
      "\n",
      "avg / total       0.80      0.67      0.66       657\n",
      "\n"
     ]
    }
   ],
   "source": [
    "predicted_y_1 = [lvq.predict(instance) for instance in x_test]\n",
    "from sklearn.metrics import classification_report\n",
    "print (classification_report(y_test,predicted_y_1,target_names=['0', '1', '2', '3']))"
   ]
  },
  {
   "cell_type": "code",
   "execution_count": 71,
   "metadata": {},
   "outputs": [],
   "source": [
    "lvq = LVQ.LVQ(x_train, y_train, n_classes=4, n_neurons=5, p_vectors=[], epsilon=0.9, epsilon_dec_factor=0.001)\n",
    "neurons = lvq.train_LVQ2(x_train, y_train)"
   ]
  },
  {
   "cell_type": "code",
   "execution_count": 72,
   "metadata": {},
   "outputs": [
    {
     "name": "stdout",
     "output_type": "stream",
     "text": [
      "             precision    recall  f1-score   support\n",
      "\n",
      "          0       0.95      0.53      0.68       331\n",
      "          1       0.96      0.95      0.95        95\n",
      "          2       0.50      0.04      0.07        26\n",
      "          3       0.52      0.95      0.67       205\n",
      "\n",
      "avg / total       0.80      0.70      0.69       657\n",
      "\n"
     ]
    }
   ],
   "source": [
    "predicted_y_2 = [lvq.predict(instance) for instance in x_test]\n",
    "from sklearn.metrics import classification_report\n",
    "print (classification_report(y_test,predicted_y_2,target_names=['0', '1', '2', '3']))"
   ]
  },
  {
   "cell_type": "code",
   "execution_count": 73,
   "metadata": {},
   "outputs": [
    {
     "data": {
      "text/plain": [
       "0.8234706726874614"
      ]
     },
     "execution_count": 73,
     "metadata": {},
     "output_type": "execute_result"
    }
   ],
   "source": [
    "from sklearn.metrics import cohen_kappa_score\n",
    "cohen_kappa_score(predicted_y_1, predicted_y_2)"
   ]
  }
 ],
 "metadata": {
  "kernelspec": {
   "display_name": "Python 3",
   "language": "python",
   "name": "python3"
  },
  "language_info": {
   "codemirror_mode": {
    "name": "ipython",
    "version": 3
   },
   "file_extension": ".py",
   "mimetype": "text/x-python",
   "name": "python",
   "nbconvert_exporter": "python",
   "pygments_lexer": "ipython3",
   "version": "3.6.5"
  }
 },
 "nbformat": 4,
 "nbformat_minor": 2
}
