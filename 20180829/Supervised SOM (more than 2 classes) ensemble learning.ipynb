{
 "cells": [
  {
   "cell_type": "code",
   "execution_count": 40,
   "metadata": {},
   "outputs": [],
   "source": [
    "import numpy as np\n",
    "from sklearn.metrics import euclidean_distances\n",
    "import pandas as pd\n",
    "from pylab import bone, pcolor, colorbar, plot, show\n",
    "\n",
    "import sys\n",
    "sys.path.insert(0, '../SOM-LVQ')\n",
    "from supervisedSom import supervisedSom\n",
    "from minisom import MiniSom"
   ]
  },
  {
   "cell_type": "code",
   "execution_count": 41,
   "metadata": {},
   "outputs": [],
   "source": [
    "data = pd.read_csv(r\"../data/SD-3X_rocktype.csv\")\n",
    "x = data.iloc[:, 0:6].values\n",
    "y = data.iloc[:, 6].values\n",
    "y [y==4] = 0\n",
    "from sklearn.cross_validation import train_test_split\n",
    "x_train, x_test, y_train, y_test = train_test_split(x, y, test_size=0.25, random_state=44)\n",
    "\n",
    "# use Minmaxscaler because we use euclidean distance\n",
    "from sklearn.preprocessing import MinMaxScaler\n",
    "minmax = MinMaxScaler()\n",
    "x_train = minmax.fit_transform(x_train)\n",
    "x_test = minmax.transform(x_test)"
   ]
  },
  {
   "cell_type": "code",
   "execution_count": 42,
   "metadata": {
    "scrolled": true
   },
   "outputs": [
    {
     "data": {
      "text/plain": [
       "492"
      ]
     },
     "execution_count": 42,
     "metadata": {},
     "output_type": "execute_result"
    }
   ],
   "source": [
    "len(x_train)"
   ]
  },
  {
   "cell_type": "code",
   "execution_count": 43,
   "metadata": {},
   "outputs": [
    {
     "data": {
      "text/plain": [
       "array([0, 1, 2, 3], dtype=int64)"
      ]
     },
     "execution_count": 43,
     "metadata": {},
     "output_type": "execute_result"
    }
   ],
   "source": [
    "np.unique(y)"
   ]
  },
  {
   "cell_type": "code",
   "execution_count": 44,
   "metadata": {},
   "outputs": [],
   "source": [
    "x_train1 = x_train[0:246]\n",
    "x_train2 = x_train[246:492]\n",
    "\n",
    "y_train1 = y_train[0:246]\n",
    "y_train2 = y_train[246:492]"
   ]
  },
  {
   "cell_type": "code",
   "execution_count": 45,
   "metadata": {},
   "outputs": [],
   "source": [
    "# Training the SOM\n",
    "from minisom import MiniSom\n",
    "som1 = MiniSom(x = 15, y = 15, input_len = 6, sigma = 1.0, learning_rate = 0.5)\n",
    "som1.random_weights_init(x_train1)\n",
    "som1.train_random(data = x_train1, num_iteration = 100)"
   ]
  },
  {
   "cell_type": "code",
   "execution_count": 46,
   "metadata": {},
   "outputs": [
    {
     "data": {
      "image/png": "[encoded data removed]",
      "text/plain": [
       "<Figure size 432x288 with 2 Axes>"
      ]
     },
     "metadata": {},
     "output_type": "display_data"
    }
   ],
   "source": [
    "suso1 = supervisedSom(som1, x_train1, y_train1)\n",
    "\n",
    "label1= suso1.visualSom()"
   ]
  },
  {
   "cell_type": "code",
   "execution_count": 47,
   "metadata": {},
   "outputs": [],
   "source": [
    "propa1 = suso1.propabilitySom()\n",
    "\n",
    "taggings1 = suso1.taggingSom()"
   ]
  },
  {
   "cell_type": "code",
   "execution_count": 48,
   "metadata": {
    "scrolled": true
   },
   "outputs": [
    {
     "name": "stdout",
     "output_type": "stream",
     "text": [
      "             precision    recall  f1-score   support\n",
      "\n",
      "          0       0.93      0.96      0.94        78\n",
      "          1       0.96      1.00      0.98        26\n",
      "          2       0.33      0.14      0.20         7\n",
      "          3       0.85      0.85      0.85        54\n",
      "\n",
      "avg / total       0.88      0.90      0.89       165\n",
      "\n"
     ]
    }
   ],
   "source": [
    "predicted_y1 = [suso1.predict(instance) for instance in x_test]\n",
    "\n",
    "from sklearn.metrics import classification_report\n",
    "\n",
    "print (classification_report(y_test, predicted_y1, target_names=['0','1', '2', '3']))"
   ]
  },
  {
   "cell_type": "code",
   "execution_count": 49,
   "metadata": {
    "scrolled": true
   },
   "outputs": [
    {
     "name": "stdout",
     "output_type": "stream",
     "text": [
      "             precision    recall  f1-score   support\n",
      "\n",
      "          0       0.74      0.92      0.82       558\n",
      "          1       0.60      0.89      0.71       165\n",
      "          2       0.00      0.00      0.00       139\n",
      "          3       0.67      0.56      0.61       453\n",
      "\n",
      "avg / total       0.62      0.69      0.65      1315\n",
      "\n"
     ]
    },
    {
     "name": "stderr",
     "output_type": "stream",
     "text": [
      "C:\\Users\\Thend\\Anaconda3\\lib\\site-packages\\sklearn\\metrics\\classification.py:1135: UndefinedMetricWarning: Precision and F-score are ill-defined and being set to 0.0 in labels with no predicted samples.\n",
      "  'precision', 'predicted', average, warn_for)\n"
     ]
    }
   ],
   "source": [
    "data_new = pd.read_csv(r\"../data/SD-2X_rocktype.csv\")\n",
    "x_new = data_new.iloc[:, 0:6].values\n",
    "y_new = data_new.iloc[:, 6].values\n",
    "y_new[y_new == 4] = 0\n",
    "x_new = minmax.fit_transform(x_new)\n",
    "predicted_y_new = [suso1.predict(instance) for instance in x_new]\n",
    "\n",
    "from sklearn.metrics import classification_report\n",
    "\n",
    "print (classification_report(y_new, predicted_y_new, target_names=['0', '1', '2', '3']))"
   ]
  },
  {
   "cell_type": "code",
   "execution_count": 50,
   "metadata": {},
   "outputs": [],
   "source": [
    "# Training the SOM\n",
    "from minisom import MiniSom\n",
    "som2 = MiniSom(x = 15, y = 15, input_len = 6, sigma = 1.0, learning_rate = 0.5)\n",
    "som2.random_weights_init(x_train2)\n",
    "som2.train_random(data = x_train2, num_iteration = 100)"
   ]
  },
  {
   "cell_type": "code",
   "execution_count": 51,
   "metadata": {
    "scrolled": true
   },
   "outputs": [
    {
     "data": {
      "image/png": "[encoded data removed]",
      "text/plain": [
       "<Figure size 432x288 with 2 Axes>"
      ]
     },
     "metadata": {},
     "output_type": "display_data"
    }
   ],
   "source": [
    "suso2 = supervisedSom(som2, x_train2, y_train2)\n",
    "\n",
    "label2= suso2.visualSom()"
   ]
  },
  {
   "cell_type": "code",
   "execution_count": 52,
   "metadata": {},
   "outputs": [],
   "source": [
    "propa2 = suso2.propabilitySom()\n",
    "\n",
    "taggings2 = suso2.taggingSom()"
   ]
  },
  {
   "cell_type": "code",
   "execution_count": 53,
   "metadata": {
    "scrolled": true
   },
   "outputs": [
    {
     "name": "stdout",
     "output_type": "stream",
     "text": [
      "             precision    recall  f1-score   support\n",
      "\n",
      "          0       0.93      0.90      0.92        78\n",
      "          1       0.93      1.00      0.96        26\n",
      "          2       0.31      0.57      0.40         7\n",
      "          3       0.80      0.72      0.76        54\n",
      "\n",
      "avg / total       0.86      0.84      0.85       165\n",
      "\n"
     ]
    }
   ],
   "source": [
    "predicted_y2 = [suso2.predict(instance) for instance in x_test]\n",
    "\n",
    "from sklearn.metrics import classification_report\n",
    "\n",
    "print (classification_report(y_test, predicted_y2, target_names=['0','1', '2', '3']))"
   ]
  },
  {
   "cell_type": "code",
   "execution_count": 54,
   "metadata": {
    "scrolled": true
   },
   "outputs": [
    {
     "name": "stdout",
     "output_type": "stream",
     "text": [
      "             precision    recall  f1-score   support\n",
      "\n",
      "          0       0.81      0.91      0.86       558\n",
      "          1       0.58      0.96      0.72       165\n",
      "          2       0.67      0.21      0.32       139\n",
      "          3       0.72      0.60      0.65       453\n",
      "\n",
      "avg / total       0.74      0.73      0.71      1315\n",
      "\n"
     ]
    }
   ],
   "source": [
    "predicted_y_new2 = [suso2.predict(instance) for instance in x_new]\n",
    "\n",
    "from sklearn.metrics import classification_report\n",
    "\n",
    "print (classification_report(y_new, predicted_y_new2, target_names=['0','1', '2', '3']))"
   ]
  },
  {
   "cell_type": "code",
   "execution_count": 55,
   "metadata": {},
   "outputs": [],
   "source": [
    "ensemble = [np.asarray(predicted_y_new), np.asarray(predicted_y_new2)]"
   ]
  },
  {
   "cell_type": "code",
   "execution_count": 56,
   "metadata": {},
   "outputs": [],
   "source": [
    "mapping = som1.win_map(x_train1)\n",
    "mapping2 = som2.win_map(x_train2)"
   ]
  },
  {
   "cell_type": "code",
   "execution_count": 57,
   "metadata": {},
   "outputs": [],
   "source": [
    "result2 = np.array([])\n",
    "propa1 = suso1.propabilitySom()\n",
    "propa2 = suso2.propabilitySom()\n",
    "for sample in x_new:\n",
    "    pos1 = suso1.find_closest(sample)\n",
    "    pos2 = suso2.find_closest(sample)\n",
    "    l1 = len(mapping[pos1])\n",
    "    l2 = len(mapping2[pos2])\n",
    "#     (pro1, pro2, pro3, pro4) = ((l1*propa[pos1]))\n",
    "    \n",
    "    pro1 = (l1*propa1[0, pos1[0], pos1[1]] + l2*propa2[0, pos2[0], pos2[1]])/(l1+l2)\n",
    "    pro2 = (l1*propa1[1, pos1[0], pos1[1]] + l2*propa2[1, pos2[0], pos2[1]])/(l1+l2)\n",
    "    pro3 = (l1*propa1[2, pos1[0], pos1[1]] + l2*propa2[2, pos2[0], pos2[1]])/(l1+l2)\n",
    "    pro4 = (l1*propa1[3, pos1[0], pos1[1]] + l2*propa2[3, pos2[0], pos2[1]])/(l1+l2)\n",
    "    tmp = np.argmax(np.array([pro1, pro2, pro3, pro4]))\n",
    "    result2 = np.append(result2, tmp)"
   ]
  },
  {
   "cell_type": "code",
   "execution_count": 58,
   "metadata": {
    "scrolled": false
   },
   "outputs": [
    {
     "name": "stdout",
     "output_type": "stream",
     "text": [
      "             precision    recall  f1-score   support\n",
      "\n",
      "          0       0.87      0.89      0.88       558\n",
      "          1       0.51      0.98      0.67       165\n",
      "          2       0.50      0.02      0.04       139\n",
      "          3       0.74      0.69      0.71       453\n",
      "\n",
      "avg / total       0.74      0.74      0.71      1315\n",
      "\n"
     ]
    }
   ],
   "source": [
    "from sklearn.metrics import classification_report\n",
    "\n",
    "print (classification_report(y_new, result2, target_names=['0','1', '2', '3']))"
   ]
  },
  {
   "cell_type": "markdown",
   "metadata": {},
   "source": [
    "KẾT QUẢ TRAIN NGÀY 20180829\n",
    "- Chia dữ liệu thành 2 phần và train 2 SOM độc lập cỡ 15x15, độ chính xác khoảng 87-89%, class thứ 3 > 60%\n",
    "- Chia dữ liệu thành 2 phần và train 2 SOM độc lập cỡ 10x10, độ chính xác khoảng 87-88%, class thứ 3 gần 60%\n",
    "- Không thể dùng cách vote nữa vì chỉ có 2 SOM"
   ]
  }
 ],
 "metadata": {
  "kernelspec": {
   "display_name": "Python 3",
   "language": "python",
   "name": "python3"
  },
  "language_info": {
   "codemirror_mode": {
    "name": "ipython",
    "version": 3
   },
   "file_extension": ".py",
   "mimetype": "text/x-python",
   "name": "python",
   "nbconvert_exporter": "python",
   "pygments_lexer": "ipython3",
   "version": "3.6.5"
  }
 },
 "nbformat": 4,
 "nbformat_minor": 2
}
