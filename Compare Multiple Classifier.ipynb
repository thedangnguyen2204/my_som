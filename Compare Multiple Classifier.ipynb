{
 "cells": [
  {
   "cell_type": "code",
   "execution_count": 68,
   "metadata": {},
   "outputs": [],
   "source": [
    "import numpy as np\n",
    "import pandas as pd\n",
    "from sklearn.linear_model import LogisticRegression\n",
    "from sklearn.svm import SVC, LinearSVC\n",
    "from sklearn.ensemble import RandomForestClassifier\n",
    "from sklearn.neighbors import KNeighborsClassifier\n",
    "from sklearn.naive_bayes import GaussianNB\n",
    "from sklearn.linear_model import Perceptron\n",
    "from sklearn.linear_model import SGDClassifier\n",
    "from sklearn.tree import DecisionTreeClassifier"
   ]
  },
  {
   "cell_type": "code",
   "execution_count": 69,
   "metadata": {},
   "outputs": [],
   "source": [
    "data = pd.read_csv(r\"SD-2X_rocktype.csv\")\n",
    "x = data.iloc[:, 0:6].values\n",
    "y = data.iloc[:, 6].values"
   ]
  },
  {
   "cell_type": "code",
   "execution_count": 70,
   "metadata": {},
   "outputs": [],
   "source": [
    "from sklearn.cross_validation import train_test_split\n",
    "x_train, x_test, y_train, y_test = train_test_split(x, y, test_size=0.25, random_state=1)\n",
    "\n",
    "# use Minmaxscaler because we use euclidean distance\n",
    "from sklearn.preprocessing import MinMaxScaler\n",
    "minmax = MinMaxScaler()\n",
    "x_train = minmax.fit_transform(x_train)\n",
    "x_test = minmax.transform(x_test)"
   ]
  },
  {
   "cell_type": "code",
   "execution_count": 71,
   "metadata": {},
   "outputs": [
    {
     "data": {
      "text/plain": [
       "81.76"
      ]
     },
     "execution_count": 71,
     "metadata": {},
     "output_type": "execute_result"
    }
   ],
   "source": [
    "svc = SVC()\n",
    "svc.fit(x_train, y_train)\n",
    "Y_pred = svc.predict(x_test)\n",
    "acc_svc = round(svc.score(x_test, y_test) * 100, 2)\n",
    "acc_svc"
   ]
  },
  {
   "cell_type": "code",
   "execution_count": 72,
   "metadata": {},
   "outputs": [
    {
     "data": {
      "text/plain": [
       "89.36"
      ]
     },
     "execution_count": 72,
     "metadata": {},
     "output_type": "execute_result"
    }
   ],
   "source": [
    "knn = KNeighborsClassifier(n_neighbors = 7)\n",
    "knn.fit(x_train, y_train)\n",
    "Y_pred = knn.predict(x_test)\n",
    "acc_knn = round(knn.score(x_test, y_test) * 100, 2)\n",
    "acc_knn"
   ]
  },
  {
   "cell_type": "code",
   "execution_count": 73,
   "metadata": {},
   "outputs": [
    {
     "data": {
      "text/plain": [
       "82.07"
      ]
     },
     "execution_count": 73,
     "metadata": {},
     "output_type": "execute_result"
    }
   ],
   "source": [
    "gaussian = GaussianNB()\n",
    "gaussian.fit(x_train, y_train)\n",
    "Y_pred = gaussian.predict(x_test)\n",
    "acc_gaussian = round(gaussian.score(x_test, y_test) * 100, 2)\n",
    "acc_gaussian"
   ]
  },
  {
   "cell_type": "code",
   "execution_count": 74,
   "metadata": {},
   "outputs": [
    {
     "name": "stderr",
     "output_type": "stream",
     "text": [
      "C:\\Users\\Thend\\Anaconda3\\lib\\site-packages\\sklearn\\linear_model\\stochastic_gradient.py:128: FutureWarning: max_iter and tol parameters have been added in <class 'sklearn.linear_model.perceptron.Perceptron'> in 0.19. If both are left unset, they default to max_iter=5 and tol=None. If tol is not None, max_iter defaults to max_iter=1000. From 0.21, default max_iter will be 1000, and default tol will be 1e-3.\n",
      "  \"and default tol will be 1e-3.\" % type(self), FutureWarning)\n"
     ]
    },
    {
     "data": {
      "text/plain": [
       "73.56"
      ]
     },
     "execution_count": 74,
     "metadata": {},
     "output_type": "execute_result"
    }
   ],
   "source": [
    "perceptron = Perceptron()\n",
    "perceptron.fit(x_train, y_train)\n",
    "Y_pred = perceptron.predict(x_test)\n",
    "acc_perceptron = round(perceptron.score(x_test, y_test) * 100, 2)\n",
    "acc_perceptron"
   ]
  },
  {
   "cell_type": "code",
   "execution_count": 75,
   "metadata": {},
   "outputs": [
    {
     "data": {
      "text/plain": [
       "99.7"
      ]
     },
     "execution_count": 75,
     "metadata": {},
     "output_type": "execute_result"
    }
   ],
   "source": [
    "random_forest = RandomForestClassifier(n_estimators=100)\n",
    "random_forest.fit(x_train, y_train)\n",
    "Y_pred = random_forest.predict(x_test)\n",
    "random_forest.score(x_train, y_train)\n",
    "acc_random_forest = round(random_forest.score(x_test, y_test) * 100, 2)\n",
    "acc_random_forest"
   ]
  },
  {
   "cell_type": "code",
   "execution_count": 76,
   "metadata": {},
   "outputs": [
    {
     "data": {
      "text/plain": [
       "0.9969604863221885"
      ]
     },
     "execution_count": 76,
     "metadata": {},
     "output_type": "execute_result"
    }
   ],
   "source": [
    "random_forest.score(x_test, y_test)"
   ]
  },
  {
   "cell_type": "code",
   "execution_count": 77,
   "metadata": {},
   "outputs": [
    {
     "name": "stdout",
     "output_type": "stream",
     "text": [
      "[4 4 3 4 4 3 3 4 2 4 4 4 1 1 4 3 3 4 3 3 3 4 4 4 3 4 4 4 4 3 1 1 4 2 4 4 4\n",
      " 1 3 4 3 4 4 4 1 4 1 2 4 4 4 4 1 4 3 2 2 4 4 3 4 4 4 4 3 3 4 3 1 4 4 1 4 1\n",
      " 4 3 3 3 1 4 1 4 4 4 3 4 4 4 2 3 4 4 1 4 3 4 4 1 4 4 4 3 3 2 3 3 3 3 4 3 3\n",
      " 4 4 4 1 4 2 4 3 4 3 1 2 3 4 4 3 1 4 1 4 2 2 4 4 4 4 4 1 2 4 2 3 3 3 2 2 4\n",
      " 4 4 3 3 3 2 1 4 4 1 4 3 4 3 4 3 3 3 4 3 2 4 4 4 4 3 3 2 4 3 2 1 3 4 3 4 3\n",
      " 3 4 4 4 3 1 3 1 3 4 2 2 3 3 3 3 1 1 3 4 3 4 4 2 4 3 3 3 4 4 2 1 3 3 1 1 4\n",
      " 1 1 4 3 4 4 4 4 3 3 2 4 3 4 3 4 4 4 3 3 3 4 4 3 3 4 1 3 3 3 4 4 3 4 4 3 4\n",
      " 4 2 3 4 4 4 3 4 3 4 4 3 1 4 4 4 4 1 4 1 3 4 3 3 3 4 2 4 4 4 4 4 3 3 3 3 3\n",
      " 2 4 3 3 4 3 1 4 4 2 3 1 2 2 3 3 1 4 4 4 1 1 4 4 2 2 4 3 4 3 3 4 4]\n",
      "__________________________________________________\n",
      "[4 4 3 4 4 3 3 4 2 4 4 4 1 1 4 3 3 4 3 3 3 4 4 4 3 4 4 4 4 3 1 1 4 2 4 4 4\n",
      " 1 3 4 3 4 4 4 1 4 1 2 4 4 4 4 1 4 3 2 2 4 4 3 4 4 4 4 3 3 4 3 1 4 4 1 4 1\n",
      " 4 3 3 3 1 4 1 4 4 4 3 4 4 4 2 3 4 4 1 4 3 4 4 1 4 4 4 3 3 2 3 3 3 3 4 3 3\n",
      " 4 4 4 1 4 2 4 3 4 3 1 3 3 4 4 3 1 4 1 4 2 2 4 4 4 4 4 1 2 4 2 3 3 3 2 2 4\n",
      " 4 4 3 3 3 2 1 4 4 1 4 3 4 3 4 3 3 3 4 3 2 4 4 4 4 3 3 2 4 3 2 1 3 4 3 4 3\n",
      " 3 4 4 4 3 1 3 1 3 4 2 2 3 3 3 3 1 1 3 4 3 4 4 2 4 3 3 3 4 4 2 1 3 3 1 1 4\n",
      " 1 1 4 3 4 4 4 4 3 3 2 4 3 4 3 4 4 4 3 3 3 4 4 3 3 4 1 3 3 3 4 4 3 4 4 3 4\n",
      " 4 2 3 4 4 4 3 4 3 4 4 3 1 4 4 4 4 1 4 1 3 4 3 3 3 4 2 4 4 4 4 4 3 3 3 3 3\n",
      " 2 4 3 3 4 3 1 4 4 2 3 1 2 2 3 3 1 4 4 4 1 1 4 4 2 2 4 3 4 3 3 4 4]\n"
     ]
    }
   ],
   "source": [
    "decision_tree = DecisionTreeClassifier()\n",
    "decision_tree.fit(x_train, y_train)\n",
    "Y_pred = decision_tree.predict(x_test)\n",
    "acc_decision_tree = round(decision_tree.score(x_test, y_test) * 100, 2)\n",
    "acc_decision_tree\n",
    "print(y_test)\n",
    "print(\"_\"*50)\n",
    "print(Y_pred)"
   ]
  },
  {
   "cell_type": "code",
   "execution_count": 78,
   "metadata": {
    "scrolled": true
   },
   "outputs": [
    {
     "data": {
      "text/html": [
       "<div>\n",
       "<style scoped>\n",
       "    .dataframe tbody tr th:only-of-type {\n",
       "        vertical-align: middle;\n",
       "    }\n",
       "\n",
       "    .dataframe tbody tr th {\n",
       "        vertical-align: top;\n",
       "    }\n",
       "\n",
       "    .dataframe thead th {\n",
       "        text-align: right;\n",
       "    }\n",
       "</style>\n",
       "<table border=\"1\" class=\"dataframe\">\n",
       "  <thead>\n",
       "    <tr style=\"text-align: right;\">\n",
       "      <th></th>\n",
       "      <th>Model</th>\n",
       "      <th>Score</th>\n",
       "    </tr>\n",
       "  </thead>\n",
       "  <tbody>\n",
       "    <tr>\n",
       "      <th>2</th>\n",
       "      <td>Random Forest</td>\n",
       "      <td>99.70</td>\n",
       "    </tr>\n",
       "    <tr>\n",
       "      <th>5</th>\n",
       "      <td>Decision Tree</td>\n",
       "      <td>99.70</td>\n",
       "    </tr>\n",
       "    <tr>\n",
       "      <th>1</th>\n",
       "      <td>KNN</td>\n",
       "      <td>89.36</td>\n",
       "    </tr>\n",
       "    <tr>\n",
       "      <th>3</th>\n",
       "      <td>Gauusian</td>\n",
       "      <td>82.07</td>\n",
       "    </tr>\n",
       "    <tr>\n",
       "      <th>0</th>\n",
       "      <td>Support Vector Machines</td>\n",
       "      <td>81.76</td>\n",
       "    </tr>\n",
       "    <tr>\n",
       "      <th>4</th>\n",
       "      <td>Perceptron</td>\n",
       "      <td>73.56</td>\n",
       "    </tr>\n",
       "  </tbody>\n",
       "</table>\n",
       "</div>"
      ],
      "text/plain": [
       "                     Model  Score\n",
       "2            Random Forest  99.70\n",
       "5            Decision Tree  99.70\n",
       "1                      KNN  89.36\n",
       "3                 Gauusian  82.07\n",
       "0  Support Vector Machines  81.76\n",
       "4               Perceptron  73.56"
      ]
     },
     "execution_count": 78,
     "metadata": {},
     "output_type": "execute_result"
    }
   ],
   "source": [
    "models = pd.DataFrame({\n",
    "    'Model': ['Support Vector Machines', 'KNN', \n",
    "              'Random Forest', 'Gauusian', 'Perceptron',  \n",
    "              'Decision Tree'],\n",
    "    'Score': [acc_svc, acc_knn, \n",
    "              acc_random_forest, acc_gaussian, acc_perceptron, acc_decision_tree]})\n",
    "models.sort_values(by='Score', ascending=False)"
   ]
  },
  {
   "cell_type": "code",
   "execution_count": 79,
   "metadata": {},
   "outputs": [
    {
     "name": "stdout",
     "output_type": "stream",
     "text": [
      "0.7168949771689498\n"
     ]
    }
   ],
   "source": [
    "data_new = pd.read_csv(r\"SD-3X_rocktype.csv\")\n",
    "x_new = data_new.iloc[:, 0:6].values\n",
    "x_new = minmax.transform(x_new)\n",
    "y_new = data_new.iloc[:, 6].values\n",
    "print(gaussian.score(x_new, y_new))"
   ]
  }
 ],
 "metadata": {
  "kernelspec": {
   "display_name": "Python 3",
   "language": "python",
   "name": "python3"
  },
  "language_info": {
   "codemirror_mode": {
    "name": "ipython",
    "version": 3
   },
   "file_extension": ".py",
   "mimetype": "text/x-python",
   "name": "python",
   "nbconvert_exporter": "python",
   "pygments_lexer": "ipython3",
   "version": "3.6.5"
  }
 },
 "nbformat": 4,
 "nbformat_minor": 2
}
