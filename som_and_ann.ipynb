{
 "cells": [
  {
   "cell_type": "code",
   "execution_count": 6,
   "metadata": {},
   "outputs": [
    {
     "data": {
      "image/png": "[encoded data removed]",
      "text/plain": [
       "<Figure size 432x288 with 2 Axes>"
      ]
     },
     "metadata": {},
     "output_type": "display_data"
    }
   ],
   "source": [
    "# Self Organizing Map\n",
    "\n",
    "# Importing the libraries\n",
    "import numpy as np\n",
    "import matplotlib.pyplot as plt\n",
    "import pandas as pd\n",
    "\n",
    "# Importing the dataset\n",
    "dataset = pd.read_csv(r'D:\\MachineLearning\\NN_Templates\\Self_Organizing_Maps\\train.csv')\n",
    "X = dataset.iloc[:, :-1].values\n",
    "y = dataset.iloc[:, -1].values\n",
    "\n",
    "# Feature Scaling\n",
    "from sklearn.preprocessing import MinMaxScaler\n",
    "sc = MinMaxScaler(feature_range = (0, 1))\n",
    "X = sc.fit_transform(X)\n",
    "\n",
    "# Training the SOM\n",
    "from minisom import MiniSom\n",
    "som = MiniSom(x = 10, y = 10, input_len = 15, sigma = 1.0, learning_rate = 0.5)\n",
    "som.random_weights_init(X)\n",
    "som.train_random(data = X, num_iteration = 100)\n",
    "\n",
    "# Visualizing the results\n",
    "from pylab import bone, pcolor, colorbar, plot, show\n",
    "bone()\n",
    "pcolor(som.distance_map().T)\n",
    "colorbar()\n",
    "markers = ['o', 's']\n",
    "colors = ['r', 'g']\n",
    "for i, x in enumerate(X):\n",
    "    w = som.winner(x)\n",
    "    plot(w[0] + 0.5,\n",
    "         w[1] + 0.5,\n",
    "         markers[y[i]],\n",
    "         markeredgecolor = colors[y[i]],\n",
    "         markerfacecolor = 'None',\n",
    "         markersize = 10,\n",
    "         markeredgewidth = 2)\n",
    "show()"
   ]
  },
  {
   "cell_type": "code",
   "execution_count": 7,
   "metadata": {},
   "outputs": [],
   "source": [
    "# Finding the frauds\n",
    "mappings = som.win_map(X)\n",
    "frauds = np.concatenate((mappings[(3,6)], mappings[(8,2)]), axis=0)\n",
    "frauds = sc.inverse_transform(frauds)"
   ]
  },
  {
   "cell_type": "code",
   "execution_count": 8,
   "metadata": {
    "scrolled": true
   },
   "outputs": [
    {
     "data": {
      "text/plain": [
       "array([[1.5719940e+07, 0.0000000e+00, 3.5170000e+01, 3.7500000e+00,\n",
       "        2.0000000e+00, 1.0000000e+00, 1.0000000e+00, 0.0000000e+00,\n",
       "        0.0000000e+00, 1.0000000e+00, 6.0000000e+00, 0.0000000e+00,\n",
       "        2.0000000e+00, 0.0000000e+00, 2.0100000e+02],\n",
       "       [1.5761158e+07, 0.0000000e+00, 1.6500000e+01, 1.2500000e+00,\n",
       "        2.0000000e+00, 1.1000000e+01, 4.0000000e+00, 2.5000000e-01,\n",
       "        0.0000000e+00, 1.0000000e+00, 1.0000000e+00, 0.0000000e+00,\n",
       "        2.0000000e+00, 1.0800000e+02, 9.9000000e+01],\n",
       "       [1.5711742e+07, 0.0000000e+00, 2.3000000e+01, 1.8350000e+00,\n",
       "        2.0000000e+00, 5.0000000e+00, 3.0000000e+00, 0.0000000e+00,\n",
       "        0.0000000e+00, 1.0000000e+00, 1.0000000e+00, 0.0000000e+00,\n",
       "        2.0000000e+00, 2.0000000e+02, 5.4000000e+01],\n",
       "       [1.5761733e+07, 0.0000000e+00, 1.6080000e+01, 3.3500000e-01,\n",
       "        2.0000000e+00, 1.0000000e+00, 1.0000000e+00, 0.0000000e+00,\n",
       "        0.0000000e+00, 1.0000000e+00, 1.0000000e+00, 0.0000000e+00,\n",
       "        2.0000000e+00, 1.6000000e+02, 1.2700000e+02],\n",
       "       [1.5770995e+07, 0.0000000e+00, 4.0330000e+01, 8.1250000e+00,\n",
       "        1.0000000e+00, 4.0000000e+00, 4.0000000e+00, 1.6500000e-01,\n",
       "        0.0000000e+00, 1.0000000e+00, 2.0000000e+00, 0.0000000e+00,\n",
       "        2.0000000e+00, 1.8400000e+02, 1.9000000e+01],\n",
       "       [1.5666166e+07, 0.0000000e+00, 2.0080000e+01, 1.2500000e-01,\n",
       "        2.0000000e+00, 1.1000000e+01, 4.0000000e+00, 1.0000000e+00,\n",
       "        0.0000000e+00, 1.0000000e+00, 1.0000000e+00, 0.0000000e+00,\n",
       "        2.0000000e+00, 2.4000000e+02, 7.6900000e+02],\n",
       "       [1.5605872e+07, 0.0000000e+00, 1.9580000e+01, 6.6500000e-01,\n",
       "        1.0000000e+00, 8.0000000e+00, 4.0000000e+00, 1.0000000e+00,\n",
       "        0.0000000e+00, 1.0000000e+00, 1.0000000e+00, 0.0000000e+00,\n",
       "        2.0000000e+00, 2.0000000e+03, 3.0000000e+00],\n",
       "       [1.5736399e+07, 0.0000000e+00, 3.6580000e+01, 2.9000000e-01,\n",
       "        2.0000000e+00, 1.0000000e+00, 1.0000000e+00, 0.0000000e+00,\n",
       "        0.0000000e+00, 1.0000000e+00, 1.0000000e+01, 0.0000000e+00,\n",
       "        2.0000000e+00, 2.0000000e+02, 1.9000000e+01],\n",
       "       [1.5766734e+07, 0.0000000e+00, 2.7170000e+01, 1.2500000e+00,\n",
       "        2.0000000e+00, 1.0000000e+00, 1.0000000e+00, 0.0000000e+00,\n",
       "        0.0000000e+00, 1.0000000e+00, 1.0000000e+00, 0.0000000e+00,\n",
       "        2.0000000e+00, 9.2000000e+01, 3.0100000e+02],\n",
       "       [1.5667934e+07, 0.0000000e+00, 5.7580000e+01, 2.0000000e+00,\n",
       "        2.0000000e+00, 1.0000000e+00, 1.0000000e+00, 6.5000000e+00,\n",
       "        0.0000000e+00, 1.0000000e+00, 1.0000000e+00, 0.0000000e+00,\n",
       "        2.0000000e+00, 0.0000000e+00, 1.1000000e+01],\n",
       "       [1.5665087e+07, 0.0000000e+00, 1.8250000e+01, 1.0000000e+01,\n",
       "        2.0000000e+00, 9.0000000e+00, 4.0000000e+00, 1.0000000e+00,\n",
       "        0.0000000e+00, 1.0000000e+00, 1.0000000e+00, 0.0000000e+00,\n",
       "        2.0000000e+00, 1.2000000e+02, 2.0000000e+00],\n",
       "       [1.5815271e+07, 1.0000000e+00, 2.7580000e+01, 3.2500000e+00,\n",
       "        1.0000000e+00, 1.1000000e+01, 8.0000000e+00, 5.0850000e+00,\n",
       "        0.0000000e+00, 1.0000000e+00, 2.0000000e+00, 1.0000000e+00,\n",
       "        2.0000000e+00, 3.6900000e+02, 2.0000000e+00]])"
      ]
     },
     "execution_count": 8,
     "metadata": {},
     "output_type": "execute_result"
    }
   ],
   "source": [
    "frauds"
   ]
  },
  {
   "cell_type": "code",
   "execution_count": 9,
   "metadata": {},
   "outputs": [],
   "source": [
    "# The dependant variables\n",
    "customers = dataset.iloc[:, 1:].values\n",
    "is_fraud = np.zeros(len(dataset))\n",
    "for i in range(len(dataset)):\n",
    "    if dataset.iloc[i, 0] in frauds:\n",
    "        is_fraud[i] = 1"
   ]
  },
  {
   "cell_type": "code",
   "execution_count": 10,
   "metadata": {},
   "outputs": [],
   "source": [
    "from sklearn.preprocessing import StandardScaler\n",
    "sc = StandardScaler()\n",
    "customers = sc.fit_transform(customers)"
   ]
  },
  {
   "cell_type": "code",
   "execution_count": 11,
   "metadata": {},
   "outputs": [
    {
     "name": "stderr",
     "output_type": "stream",
     "text": [
      "Using TensorFlow backend.\n"
     ]
    }
   ],
   "source": [
    "from keras.models import Sequential \n",
    "from keras.layers import Dense"
   ]
  },
  {
   "cell_type": "code",
   "execution_count": 12,
   "metadata": {
    "scrolled": true
   },
   "outputs": [
    {
     "name": "stdout",
     "output_type": "stream",
     "text": [
      "Epoch 1/5\n",
      "532/532 [==============================] - 1s 2ms/step - loss: 0.5164 - acc: 0.9774\n",
      "Epoch 2/5\n",
      "532/532 [==============================] - 1s 1ms/step - loss: 0.2032 - acc: 0.9774\n",
      "Epoch 3/5\n",
      "532/532 [==============================] - 0s 908us/step - loss: 0.1059 - acc: 0.9774\n",
      "Epoch 4/5\n",
      "532/532 [==============================] - 1s 951us/step - loss: 0.0790 - acc: 0.9774\n",
      "Epoch 5/5\n",
      "532/532 [==============================] - 0s 931us/step - loss: 0.0681 - acc: 0.9774\n"
     ]
    },
    {
     "data": {
      "text/plain": [
       "<keras.callbacks.History at 0x23c1569fc88>"
      ]
     },
     "execution_count": 12,
     "metadata": {},
     "output_type": "execute_result"
    }
   ],
   "source": [
    "# Initialising the ANN\n",
    "classifier = Sequential()\n",
    "\n",
    "# Adding the input layer and the first hidden layer\n",
    "classifier.add(Dense(units = 2, kernel_initializer = 'uniform', activation = 'relu', input_dim = 15))\n",
    "\n",
    "# Adding the output layer\n",
    "classifier.add(Dense(units = 1, kernel_initializer = 'uniform', activation = 'sigmoid'))\n",
    "\n",
    "# Compiling the ANN\n",
    "classifier.compile(optimizer = 'adam', loss = 'binary_crossentropy', metrics = ['accuracy'])\n",
    "\n",
    "# Fitting the ANN to the Training set\n",
    "classifier.fit(customers, is_fraud, batch_size = 1, epochs = 5)"
   ]
  },
  {
   "cell_type": "code",
   "execution_count": 13,
   "metadata": {
    "scrolled": true
   },
   "outputs": [
    {
     "data": {
      "text/plain": [
       "array([[1.55830670e+07, 1.53809728e-03],\n",
       "       [1.56864610e+07, 1.65817002e-03],\n",
       "       [1.57901130e+07, 1.70488306e-03],\n",
       "       ...,\n",
       "       [1.56679340e+07, 3.00789177e-01],\n",
       "       [1.57199400e+07, 3.10338229e-01],\n",
       "       [1.57363990e+07, 3.12349111e-01]])"
      ]
     },
     "execution_count": 13,
     "metadata": {},
     "output_type": "execute_result"
    }
   ],
   "source": [
    "y_pred = classifier.predict(customers)\n",
    "y_pred = np.concatenate((dataset.iloc[:,0:1].values, y_pred), axis = 1)\n",
    "y_pred = y_pred[y_pred[:,1].argsort()]\n",
    "y_pred"
   ]
  },
  {
   "cell_type": "code",
   "execution_count": 14,
   "metadata": {},
   "outputs": [],
   "source": [
    "# Import test data\n",
    "new_dataset = pd.read_csv(r'D:\\MachineLearning\\NN_Templates\\Self_Organizing_Maps\\test.csv')\n",
    "new_customers = new_dataset.iloc[:, 1:].values\n",
    "new_customers = sc.fit_transform(new_customers)"
   ]
  },
  {
   "cell_type": "code",
   "execution_count": 26,
   "metadata": {},
   "outputs": [
    {
     "data": {
      "text/plain": [
       "(91, 1)"
      ]
     },
     "execution_count": 26,
     "metadata": {},
     "output_type": "execute_result"
    }
   ],
   "source": [
    "# Use trained ANN to predict label for new test data\n",
    "new_y_pred = classifier.predict(new_customers)\n",
    "new_y_pred.shape"
   ]
  },
  {
   "cell_type": "code",
   "execution_count": 27,
   "metadata": {
    "scrolled": true
   },
   "outputs": [
    {
     "name": "stderr",
     "output_type": "stream",
     "text": [
      "c:\\users\\thend\\anaconda3\\envs\\tensorflow\\lib\\site-packages\\sklearn\\utils\\validation.py:475: DataConversionWarning: Data with input dtype int64 was converted to float64 by MinMaxScaler.\n",
      "  warnings.warn(msg, DataConversionWarning)\n"
     ]
    },
    {
     "data": {
      "text/plain": [
       "array([[0.18172832],\n",
       "       [0.16556329],\n",
       "       [0.79163078],\n",
       "       [0.50856857],\n",
       "       [0.91212807],\n",
       "       [0.58691622],\n",
       "       [0.27506378],\n",
       "       [0.5772976 ],\n",
       "       [0.00892952],\n",
       "       [0.28448552],\n",
       "       [0.11968925],\n",
       "       [0.93271069],\n",
       "       [0.18981288],\n",
       "       [0.55829826],\n",
       "       [0.12363104],\n",
       "       [0.81647511],\n",
       "       [0.63826611],\n",
       "       [0.17345507],\n",
       "       [0.74065415],\n",
       "       [0.44867062],\n",
       "       [0.75147048],\n",
       "       [0.7755724 ],\n",
       "       [0.24503482],\n",
       "       [0.14589537],\n",
       "       [0.93117663],\n",
       "       [0.99703853],\n",
       "       [0.0740326 ],\n",
       "       [0.49343309],\n",
       "       [0.86215638],\n",
       "       [0.40276787],\n",
       "       [0.22571555],\n",
       "       [0.08906144],\n",
       "       [0.73664263],\n",
       "       [0.92085251],\n",
       "       [0.20991148],\n",
       "       [0.64978794],\n",
       "       [0.56721958],\n",
       "       [0.54404056],\n",
       "       [0.42594279],\n",
       "       [0.14274933],\n",
       "       [0.82019541],\n",
       "       [0.39457256],\n",
       "       [0.01216991],\n",
       "       [0.40224284],\n",
       "       [0.35015053],\n",
       "       [0.25953863],\n",
       "       [0.18162167],\n",
       "       [0.5296516 ],\n",
       "       [0.70648242],\n",
       "       [0.43145965],\n",
       "       [0.39368658],\n",
       "       [0.07982018],\n",
       "       [0.98984405],\n",
       "       [0.85122519],\n",
       "       [0.        ],\n",
       "       [0.89755043],\n",
       "       [0.29373908],\n",
       "       [0.10359806],\n",
       "       [0.0235933 ],\n",
       "       [0.16210962],\n",
       "       [0.3974725 ],\n",
       "       [0.11973847],\n",
       "       [0.39220994],\n",
       "       [0.54284285],\n",
       "       [0.33305031],\n",
       "       [0.34156556],\n",
       "       [0.4521284 ],\n",
       "       [0.65938195],\n",
       "       [1.        ],\n",
       "       [0.15242127],\n",
       "       [0.17391447],\n",
       "       [0.42232914],\n",
       "       [0.58394655],\n",
       "       [0.18827882],\n",
       "       [0.53281815],\n",
       "       [0.89926907],\n",
       "       [0.37521637],\n",
       "       [0.20042822],\n",
       "       [0.62814707],\n",
       "       [0.58484073],\n",
       "       [0.49538963],\n",
       "       [0.90769818],\n",
       "       [0.39289494],\n",
       "       [0.26339018],\n",
       "       [0.96746897],\n",
       "       [0.70124447],\n",
       "       [0.97961837],\n",
       "       [0.8227549 ],\n",
       "       [0.43501587],\n",
       "       [0.84947374],\n",
       "       [0.09441423]])"
      ]
     },
     "execution_count": 27,
     "metadata": {},
     "output_type": "execute_result"
    }
   ],
   "source": [
    "# Use minmaxscaler for Id so that we can trace back the winner for it in SOM (In SOM, we use minmaxscaler, not standardscaler)\n",
    "new_customers_id = new_dataset.iloc[:, 0:1].values\n",
    "from sklearn.preprocessing import MinMaxScaler\n",
    "mmsc = MinMaxScaler(feature_range = (0, 1))\n",
    "new_customers_id = mmsc.fit_transform(new_customers_id)\n",
    "new_customers_id"
   ]
  },
  {
   "cell_type": "code",
   "execution_count": 28,
   "metadata": {
    "scrolled": true
   },
   "outputs": [
    {
     "data": {
      "text/plain": [
       "array([[0.53281815, 0.00176842],\n",
       "       [0.55829826, 0.00200386],\n",
       "       [0.08906144, 0.00240617],\n",
       "       [0.62814707, 0.00289848],\n",
       "       [0.07982018, 0.00338971],\n",
       "       [0.43145965, 0.00378689],\n",
       "       [0.90769818, 0.00403805],\n",
       "       [0.18162167, 0.00410995],\n",
       "       [0.42594279, 0.00429187],\n",
       "       [0.37521637, 0.00453105],\n",
       "       [0.40224284, 0.00474697],\n",
       "       [0.58394655, 0.00514863],\n",
       "       [0.        , 0.00529303],\n",
       "       [0.93117663, 0.00629275],\n",
       "       [0.89755043, 0.00668434],\n",
       "       [0.14274933, 0.0067635 ],\n",
       "       [0.22571555, 0.00684977],\n",
       "       [0.18172832, 0.00689093],\n",
       "       [0.79163078, 0.00693634],\n",
       "       [0.63826611, 0.00783335],\n",
       "       [0.42232914, 0.00796181],\n",
       "       [0.58484073, 0.008218  ],\n",
       "       [0.89926907, 0.00836034],\n",
       "       [0.91212807, 0.00841242],\n",
       "       [0.85122519, 0.00877622],\n",
       "       [0.82019541, 0.00905578],\n",
       "       [0.99703853, 0.0091214 ],\n",
       "       [0.17391447, 0.0092865 ],\n",
       "       [0.4521284 , 0.0093862 ],\n",
       "       [0.97961837, 0.00961422],\n",
       "       [0.3974725 , 0.01067661],\n",
       "       [0.93271069, 0.01071553],\n",
       "       [0.50856857, 0.01094661],\n",
       "       [0.11968925, 0.01176139],\n",
       "       [0.35015053, 0.01184364],\n",
       "       [0.39289494, 0.01184513],\n",
       "       [0.8227549 , 0.01208946],\n",
       "       [0.00892952, 0.0124852 ],\n",
       "       [0.54404056, 0.01393722],\n",
       "       [0.01216991, 0.01400722],\n",
       "       [0.39368658, 0.01406447],\n",
       "       [0.43501587, 0.01435611],\n",
       "       [0.0740326 , 0.01449469],\n",
       "       [0.39220994, 0.01474869],\n",
       "       [0.70124447, 0.01491987],\n",
       "       [0.84947374, 0.01500542],\n",
       "       [0.70648242, 0.01501473],\n",
       "       [0.10359806, 0.01537657],\n",
       "       [0.44867062, 0.01539078],\n",
       "       [0.34156556, 0.01580882],\n",
       "       [0.92085251, 0.01590345],\n",
       "       [0.12363104, 0.01695527],\n",
       "       [0.64978794, 0.0169808 ],\n",
       "       [0.49343309, 0.01714478],\n",
       "       [0.58691622, 0.01737364],\n",
       "       [0.73664263, 0.01770527],\n",
       "       [0.0235933 , 0.01840981],\n",
       "       [0.5772976 , 0.01847645],\n",
       "       [0.26339018, 0.01895654],\n",
       "       [0.81647511, 0.01924863],\n",
       "       [0.28448552, 0.01944782],\n",
       "       [0.33305031, 0.02073533],\n",
       "       [0.86215638, 0.02105736],\n",
       "       [0.18981288, 0.02139687],\n",
       "       [0.75147048, 0.02188996],\n",
       "       [0.11973847, 0.02437151],\n",
       "       [0.14589537, 0.02446521],\n",
       "       [0.24503482, 0.02455556],\n",
       "       [0.15242127, 0.02561999],\n",
       "       [0.49538963, 0.02730601],\n",
       "       [1.        , 0.02736657],\n",
       "       [0.29373908, 0.02894442],\n",
       "       [0.65938195, 0.03019784],\n",
       "       [0.54284285, 0.03206458],\n",
       "       [0.17345507, 0.03411422],\n",
       "       [0.39457256, 0.0373342 ],\n",
       "       [0.7755724 , 0.0376091 ],\n",
       "       [0.16210962, 0.03799266],\n",
       "       [0.96746897, 0.03838409],\n",
       "       [0.25953863, 0.04101651],\n",
       "       [0.18827882, 0.04360029],\n",
       "       [0.98984405, 0.05024128],\n",
       "       [0.27506378, 0.05614716],\n",
       "       [0.16556329, 0.05664539],\n",
       "       [0.20042822, 0.05931724],\n",
       "       [0.56721958, 0.0701073 ],\n",
       "       [0.5296516 , 0.07377184],\n",
       "       [0.09441423, 0.08443578],\n",
       "       [0.20991148, 0.10881389],\n",
       "       [0.74065415, 0.17050804],\n",
       "       [0.40276787, 0.21619681]])"
      ]
     },
     "execution_count": 28,
     "metadata": {},
     "output_type": "execute_result"
    }
   ],
   "source": [
    "# Sort predict result in order, the higher the y, the higher chance that is it fraud\n",
    "new_y_pred = np.concatenate((new_customers_id, new_y_pred), axis = 1)\n",
    "new_y_pred = new_y_pred[new_y_pred[:,1].argsort()]\n",
    "new_y_pred"
   ]
  }
 ],
 "metadata": {
  "kernelspec": {
   "display_name": "Python 3",
   "language": "python",
   "name": "python3"
  },
  "language_info": {
   "codemirror_mode": {
    "name": "ipython",
    "version": 3
   },
   "file_extension": ".py",
   "mimetype": "text/x-python",
   "name": "python",
   "nbconvert_exporter": "python",
   "pygments_lexer": "ipython3",
   "version": "3.6.5"
  }
 },
 "nbformat": 4,
 "nbformat_minor": 2
}
