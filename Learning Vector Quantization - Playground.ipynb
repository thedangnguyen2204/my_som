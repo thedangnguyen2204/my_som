{
 "cells": [
  {
   "cell_type": "code",
   "execution_count": 240,
   "metadata": {},
   "outputs": [],
   "source": [
    "from sklearn.datasets import load_breast_cancer\n",
    "import numpy as np\n",
    "from sklearn.metrics import euclidean_distances\n",
    "import pandas as pd"
   ]
  },
  {
   "cell_type": "code",
   "execution_count": 241,
   "metadata": {},
   "outputs": [],
   "source": [
    "# data = load_breast_cancer()\n",
    "# x = data['data']\n",
    "# y = data['target']\n",
    "data = pd.read_csv(r\"SVNE_Hieu.csv\")\n",
    "x = data.iloc[:, 0:6].values\n",
    "y = data.iloc[:, 6].values"
   ]
  },
  {
   "cell_type": "code",
   "execution_count": 242,
   "metadata": {
    "scrolled": true
   },
   "outputs": [
    {
     "data": {
      "text/plain": [
       "array([[9.51753998e+01, 2.34900000e-01, 7.97616000e+01, 2.32680000e+00,\n",
       "        4.68900000e-01, 1.14900000e-01],\n",
       "       [9.46445007e+01, 2.39500000e-01, 7.92767000e+01, 2.31640000e+00,\n",
       "        4.62900000e-01, 1.21600000e-01],\n",
       "       [9.79487000e+01, 2.50400000e-01, 7.92263000e+01, 2.33160000e+00,\n",
       "        5.23100000e-01, 1.06900000e-01],\n",
       "       ...,\n",
       "       [9.11461029e+01, 2.65700000e-01, 8.94806000e+01, 2.45830000e+00,\n",
       "        7.12300000e-01, 2.15000000e-02],\n",
       "       [9.06225967e+01, 2.70500000e-01, 8.97530000e+01, 2.45730000e+00,\n",
       "        7.27600000e-01, 2.05000000e-02],\n",
       "       [9.09578018e+01, 2.76000000e-01, 9.00558000e+01, 2.45850000e+00,\n",
       "        7.49900000e-01, 1.74000000e-02]])"
      ]
     },
     "execution_count": 242,
     "metadata": {},
     "output_type": "execute_result"
    }
   ],
   "source": [
    "x"
   ]
  },
  {
   "cell_type": "code",
   "execution_count": 243,
   "metadata": {},
   "outputs": [],
   "source": [
    "from sklearn.cross_validation import train_test_split\n",
    "x_train, x_test, y_train, y_test = train_test_split(x, y, test_size=0.25, random_state=1)\n",
    "\n",
    "# use Minmaxscaler because we use euclidean distance\n",
    "from sklearn.preprocessing import MinMaxScaler\n",
    "minmax = MinMaxScaler()\n",
    "x_train = minmax.fit_transform(x_train)\n",
    "x_test = minmax.transform(x_test)"
   ]
  },
  {
   "cell_type": "code",
   "execution_count": 244,
   "metadata": {},
   "outputs": [
    {
     "data": {
      "text/plain": [
       "(996, 6)"
      ]
     },
     "execution_count": 244,
     "metadata": {},
     "output_type": "execute_result"
    }
   ],
   "source": [
    "x_train.shape"
   ]
  },
  {
   "cell_type": "code",
   "execution_count": 245,
   "metadata": {},
   "outputs": [],
   "source": [
    "# parameter for LVQ\n",
    "R = 10 # R is the # of initial prototype for each class\n",
    "n_classes = 2\n",
    "epsilon = 0.9\n",
    "epsilon_dec_factor = 0.001"
   ]
  },
  {
   "cell_type": "code",
   "execution_count": 246,
   "metadata": {},
   "outputs": [],
   "source": [
    "# class of prototype vectors\n",
    "class prototype(object):\n",
    "    def __init__(self, class_id, p_vector, epsilon):\n",
    "        self.class_id = class_id\n",
    "        self.p_vector = p_vector\n",
    "        self.epsilon = epsilon\n",
    "    def update(self, u_vector, increment = True):\n",
    "        if increment:\n",
    "            # Move the prototype closer to input vector\n",
    "            self.p_vector = self.p_vector + self.epsilon * (u_vector - self.p_vector)\n",
    "        else:\n",
    "            # Move the prototype away from input vector\n",
    "            self.p_vector = self.p_vector - self.epsilon * (u_vector - self.p_vector)"
   ]
  },
  {
   "cell_type": "code",
   "execution_count": 247,
   "metadata": {},
   "outputs": [],
   "source": [
    "# function to find the closest prototype vector for a given vector\n",
    "def find_closest(in_vector, proto_vectors):\n",
    "    closest = None\n",
    "    closest_distance = 99999\n",
    "    for p_v in proto_vectors:\n",
    "        distance = np.linalg.norm(in_vector - p_v.p_vector)\n",
    "        if distance < closest_distance:\n",
    "            closest_distance = distance\n",
    "            closest = p_v\n",
    "    return closest"
   ]
  },
  {
   "cell_type": "code",
   "execution_count": 248,
   "metadata": {},
   "outputs": [],
   "source": [
    "# function to find the second closest prototype vector for a given vector\n",
    "def find_runnerup(in_vector, proto_vectors):\n",
    "    runnerup = None\n",
    "    closest_p_vector = find_closest(in_vector, proto_vectors)\n",
    "    closest_distance = 99999\n",
    "    for p_v in proto_vectors:\n",
    "        distance = np.linalg.norm(in_vector - p_v.p_vector)\n",
    "        if (distance < closest_distance) and (p_v != closest_p_vector):\n",
    "            closest_distance = distance\n",
    "            runnerup = p_v\n",
    "    return runnerup"
   ]
  },
  {
   "cell_type": "code",
   "execution_count": 249,
   "metadata": {},
   "outputs": [],
   "source": [
    "def find_class_id(test_vector, p_vectors):\n",
    "    return find_closest(test_vector, p_vectors).class_id"
   ]
  },
  {
   "cell_type": "code",
   "execution_count": 250,
   "metadata": {
    "scrolled": true
   },
   "outputs": [
    {
     "name": "stdout",
     "output_type": "stream",
     "text": [
      "class id \t Initial prototype vector \n",
      "\n",
      "0 \t [0.09460952 0.30353261 0.52407766 0.         0.16830196 0.93248102]\n",
      "0 \t [0.29971739 0.31983696 0.46008099 0.2337963  0.34831798 0.65920895]\n",
      "0 \t [0.24142245 0.31576087 0.44628532 0.29115226 0.34871846 0.62045545]\n",
      "0 \t [0.46474461 0.31684783 0.31299169 0.58487654 0.50841009 0.3088294 ]\n",
      "0 \t [0.43486644 0.25380435 0.28568919 0.55169753 0.49649579 0.31322413]\n",
      "0 \t [0.14850709 0.19375    0.42604592 0.25771605 0.16319584 0.73951258]\n",
      "0 \t [0.24168068 0.23125    0.40418069 0.46707819 0.31157389 0.50779065]\n",
      "0 \t [0.38516272 0.23315217 0.38188965 0.36908436 0.35182219 0.53136237]\n",
      "0 \t [0.441935   0.37146739 0.3486109  0.62731481 0.62555066 0.21094686]\n",
      "0 \t [0.40039651 0.11820652 0.24180091 0.61033951 0.27182619 0.39752297]\n",
      "1 \t [0.43694008 0.29755435 0.35146056 0.65432099 0.57739287 0.20175789]\n",
      "1 \t [0.4579835  0.31793478 0.31753864 0.64917695 0.55947137 0.22812625]\n",
      "1 \t [0.46441803 0.33641304 0.30413602 0.58127572 0.59981978 0.24770276]\n",
      "1 \t [0.55650406 0.55380435 0.60291219 0.72350823 0.81087305 0.04994007]\n",
      "1 \t [0.34620973 0.18016304 0.10448441 0.92026749 0.59110933 0.        ]\n",
      "1 \t [0.44878006 0.30217391 0.31768752 0.53960905 0.56818182 0.28965242]\n",
      "1 \t [0.33655929 0.35869565 0.54900396 0.7816358  0.7375851  0.01318418]\n",
      "1 \t [0.50413555 0.21766304 0.27767621 0.70061728 0.60182219 0.10427487]\n",
      "1 \t [0.59577089 0.44728261 0.32838639 0.72427984 0.8345014  0.02437076]\n",
      "1 \t [0.59060726 0.59918478 0.5848197  0.76337449 0.88436123 0.00359569]\n"
     ]
    }
   ],
   "source": [
    "# Choose R initial prototype for each class\n",
    "p_vectors = []\n",
    "for i in np.array([0,1]):\n",
    "    # select class i\n",
    "    y_subset = np.where(y_train == i)\n",
    "    # select tuple for chosen class\n",
    "    x_subset = x_train[y_subset]\n",
    "    # get R random indices between 0 and 50\n",
    "    samples = np.random.randint(low = 0, high=len(x_subset), size=R)\n",
    "    # select p_vectors, they are chosen randomly from the samples x\n",
    "    for sample in samples:\n",
    "        s = x_subset[sample]\n",
    "        p = prototype(i, s, epsilon)\n",
    "        p_vectors.append(p)\n",
    "\n",
    "print(\"class id \\t Initial prototype vector \\n\")\n",
    "for p_v in p_vectors:\n",
    "    print(p_v.class_id, '\\t', p_v.p_vector)"
   ]
  },
  {
   "cell_type": "code",
   "execution_count": 251,
   "metadata": {},
   "outputs": [
    {
     "data": {
      "text/plain": [
       "(996, 6)"
      ]
     },
     "execution_count": 251,
     "metadata": {},
     "output_type": "execute_result"
    }
   ],
   "source": [
    "x_train.shape"
   ]
  },
  {
   "cell_type": "code",
   "execution_count": 252,
   "metadata": {
    "scrolled": true
   },
   "outputs": [
    {
     "name": "stdout",
     "output_type": "stream",
     "text": [
      "class id \t Final prototype vector \n",
      "\n",
      "0 \t [0.09605671 0.23795043 0.50089636 0.13362133 0.10551021 0.88465002]\n",
      "0 \t [0.30073924 0.25530029 0.3560543  0.35555366 0.31781005 0.5815043 ]\n",
      "0 \t [0.21982839 0.13366955 0.32081567 0.36711577 0.14943721 0.65600846]\n",
      "0 \t [0.58066335 0.00425398 0.40562979 0.29631658 0.5160567  0.37550337]\n",
      "0 \t [0.37442819 0.25442868 0.36916942 0.38525937 0.52401444 0.40371759]\n",
      "0 \t [0.41917488 0.16972832 0.4172243  0.17511398 0.07958497 0.84079309]\n",
      "0 \t [0.19260346 0.22332123 0.44126724 0.25077292 0.20141653 0.72599821]\n",
      "0 \t [0.37021221 0.2146425  0.31990137 0.51565874 0.39947827 0.39435767]\n",
      "0 \t [0.45521743 0.38023634 0.46814754 0.13846157 0.67207675 0.54165506]\n",
      "0 \t [0.476329   0.22517472 0.17585344 0.6297927  0.48188416 0.25853875]\n",
      "1 \t [0.39813261 0.02859952 0.8397591  0.88037099 0.18021531 0.26477103]\n",
      "1 \t [0.82211302 0.63528433 0.58239541 0.58825947 0.91973484 0.01075541]\n",
      "1 \t [0.33518985 0.4213712  0.49997834 0.73482032 0.81545812 0.0164919 ]\n",
      "1 \t [0.54761746 0.72922467 0.85997551 0.63274645 0.86077952 0.03235532]\n",
      "1 \t [0.30494188 0.11050246 0.11360154 0.91512225 0.44425534 0.07705069]\n",
      "1 \t [0.46943351 0.59943846 0.83666248 0.54207461 0.68242197 0.27063868]\n",
      "1 \t [0.57047838 0.55151419 0.56798667 0.70808936 0.86095425 0.01958994]\n",
      "1 \t [0.40704089 0.31677565 0.40103782 0.63874026 0.56951915 0.23273977]\n",
      "1 \t [0.34887706 0.80389064 0.55046407 0.23215976 0.87165114 0.01324878]\n",
      "1 \t [0.55851769 0.34961156 0.29221582 0.7457591  0.74705483 0.03631746]\n"
     ]
    }
   ],
   "source": [
    "while epsilon >= 0.01:\n",
    "    rnd_i = np.random.randint(0, 996)\n",
    "    rnd_s = x_train[rnd_i]\n",
    "    target_y = y_train[rnd_i]\n",
    "    \n",
    "    epsilon = epsilon - epsilon_dec_factor\n",
    "    \n",
    "    closest_pvector = find_closest(rnd_s, p_vectors)\n",
    "    second_closest_pvector = find_runnerup(rnd_s, p_vectors)\n",
    "    compare_distance = np.linalg.norm(closest_pvector.p_vector - rnd_s)/np.linalg.norm(second_closest_pvector.p_vector - rnd_s)\n",
    "    \n",
    "    if target_y == second_closest_pvector.class_id and target_y != closest_pvector.class_id and compare_distance > 0.8 and compare_distance < 1.2:\n",
    "        closest_pvector.update(rnd_s, False)\n",
    "        second_closest_pvector.update(rnd_s)\n",
    "    elif target_y == closest_pvector.class_id:\n",
    "        closest_pvector.update(rnd_s)\n",
    "    elif target_y != closest_pvector.class_id:\n",
    "        closest_pvector.update(rnd_s, False)\n",
    "    closest_pvector.epsilon = epsilon\n",
    "\n",
    "print(\"class id \\t Final prototype vector \\n\")\n",
    "for p_v in p_vectors:\n",
    "    print(p_v.class_id, '\\t', p_v.p_vector)"
   ]
  },
  {
   "cell_type": "code",
   "execution_count": 253,
   "metadata": {
    "scrolled": true
   },
   "outputs": [
    {
     "name": "stdout",
     "output_type": "stream",
     "text": [
      "             precision    recall  f1-score   support\n",
      "\n",
      "          1       0.88      0.79      0.83       162\n",
      "          2       0.82      0.89      0.85       170\n",
      "\n",
      "avg / total       0.85      0.84      0.84       332\n",
      "\n"
     ]
    },
    {
     "name": "stderr",
     "output_type": "stream",
     "text": [
      "C:\\Users\\Thend\\Anaconda3\\lib\\site-packages\\sklearn\\metrics\\classification.py:1428: UserWarning: labels size, 2, does not match size of target_names, 6\n",
      "  .format(len(labels), len(target_names))\n"
     ]
    }
   ],
   "source": [
    "predicted_y = [find_class_id(instance, p_vectors) for instance in x_test]\n",
    "\n",
    "from sklearn.metrics import classification_report\n",
    "\n",
    "print (classification_report(y_test, predicted_y, target_names=['1', '2', '3', '5', '6', '7']))"
   ]
  },
  {
   "cell_type": "code",
   "execution_count": 254,
   "metadata": {
    "scrolled": true
   },
   "outputs": [
    {
     "data": {
      "text/plain": [
       "array([ 0,  1, -1,  0,  0,  0,  1,  0,  0,  0,  0,  0,  1,  0,  0,  0,  0,\n",
       "        0,  0,  0,  1, -1,  0,  0,  0,  0,  0,  0,  0,  0,  0,  0,  1,  0,\n",
       "        0,  0,  0,  0,  0,  0,  0,  1,  0,  0,  0,  0,  0,  0,  0,  0,  0,\n",
       "        0,  0,  0,  0,  0,  0,  0,  0,  0, -1,  0,  0,  0,  0,  0,  0,  0,\n",
       "       -1,  0,  0,  0, -1,  0,  0,  1,  0,  0,  0,  1,  0,  0,  0,  0, -1,\n",
       "        0,  0,  0,  0,  0,  0,  0,  0,  0,  0,  0,  0,  0,  0,  0,  0,  0,\n",
       "        0,  0,  0,  1,  0,  0,  0,  0,  0,  0,  0,  0,  0,  0, -1,  0,  0,\n",
       "        0,  0,  0,  0,  0,  0,  0,  0,  0,  1,  1,  0,  0,  0,  0,  1,  0,\n",
       "        0, -1,  0,  0,  0,  0,  0,  0,  0,  0,  0,  1, -1,  0,  0,  0,  0,\n",
       "        0,  0,  0,  0,  0,  0,  0,  0,  0,  0,  0, -1,  0,  0,  0,  0,  0,\n",
       "        0, -1,  0,  0,  0,  1,  0,  0,  0,  0,  0,  0,  1,  0,  0,  0,  0,\n",
       "        1,  0,  0,  0,  0, -1,  0,  0,  0,  0,  0, -1,  1,  0, -1,  1,  0,\n",
       "        0,  0,  0,  0,  0, -1,  0,  0,  0,  0,  0,  0,  0,  0,  0,  0,  0,\n",
       "        0,  0,  1,  1,  0,  0,  0,  0,  0,  1,  1,  0,  0,  0,  0,  1,  0,\n",
       "        0,  0,  0,  1,  0,  0,  0,  0,  1,  0,  0,  0,  0,  0,  0,  0,  1,\n",
       "        0,  0,  1,  1,  0,  1,  0,  0,  1,  0,  0, -1,  0,  0,  0,  0,  0,\n",
       "        0,  0,  0,  0,  0,  0,  0,  0,  0,  0,  0,  0,  0,  0,  0,  0,  0,\n",
       "        0,  0,  0,  0,  0,  0,  0,  0,  1,  0,  0,  0,  0,  0,  0,  0,  0,\n",
       "        0,  0,  0,  0,  0,  0,  1,  0,  1,  0,  0,  0, -1,  0,  0,  0,  1,\n",
       "        0, -1,  0,  0,  0,  0,  0,  0,  0], dtype=int64)"
      ]
     },
     "execution_count": 254,
     "metadata": {},
     "output_type": "execute_result"
    }
   ],
   "source": [
    "predicted_y-y_test"
   ]
  },
  {
   "cell_type": "code",
   "execution_count": 255,
   "metadata": {
    "scrolled": true
   },
   "outputs": [
    {
     "data": {
      "text/plain": [
       "0.8433734939759037"
      ]
     },
     "execution_count": 255,
     "metadata": {},
     "output_type": "execute_result"
    }
   ],
   "source": [
    "A = np.array(predicted_y)-y_test\n",
    "len(A[A==0])/len(A)"
   ]
  }
 ],
 "metadata": {
  "kernelspec": {
   "display_name": "Python 3",
   "language": "python",
   "name": "python3"
  },
  "language_info": {
   "codemirror_mode": {
    "name": "ipython",
    "version": 3
   },
   "file_extension": ".py",
   "mimetype": "text/x-python",
   "name": "python",
   "nbconvert_exporter": "python",
   "pygments_lexer": "ipython3",
   "version": "3.6.5"
  }
 },
 "nbformat": 4,
 "nbformat_minor": 2
}
