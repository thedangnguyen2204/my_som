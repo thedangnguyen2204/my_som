{
 "cells": [
  {
   "cell_type": "code",
   "execution_count": 1,
   "metadata": {},
   "outputs": [],
   "source": [
    "import numpy as np\n",
    "from sklearn.metrics import euclidean_distances\n",
    "import pandas as pd\n",
    "\n",
    "import sys\n",
    "sys.path.insert(0, '../SOM-LVQ')\n",
    "import LVQ"
   ]
  },
  {
   "cell_type": "code",
   "execution_count": 2,
   "metadata": {},
   "outputs": [
    {
     "name": "stderr",
     "output_type": "stream",
     "text": [
      "C:\\Users\\Thend\\Anaconda3\\lib\\site-packages\\sklearn\\cross_validation.py:41: DeprecationWarning: This module was deprecated in version 0.18 in favor of the model_selection module into which all the refactored classes and functions are moved. Also note that the interface of the new CV iterators are different from that of this module. This module will be removed in 0.20.\n",
      "  \"This module will be removed in 0.20.\", DeprecationWarning)\n"
     ]
    }
   ],
   "source": [
    "data = pd.read_csv(r\"../data/rocktype.csv\")\n",
    "x = data.iloc[:, 0:6].values\n",
    "y = data.iloc[:, 6].values\n",
    "y[y==4] = 0\n",
    "from sklearn.cross_validation import train_test_split\n",
    "x_train, x_test, y_train, y_test = train_test_split(x, y, test_size=0.25, random_state=1)\n",
    "\n",
    "# use Minmaxscaler because we use euclidean distance\n",
    "from sklearn.preprocessing import MinMaxScaler\n",
    "minmax = MinMaxScaler()\n",
    "x_train = minmax.fit_transform(x_train)\n",
    "x_test = minmax.transform(x_test)"
   ]
  },
  {
   "cell_type": "code",
   "execution_count": 3,
   "metadata": {},
   "outputs": [],
   "source": [
    "lvq = LVQ.LVQ(x=x_train, y=y_train, n_classes=4, n_neurons=25, epsilon=0.9, p_vectors=[], epsilon_dec_factor=0.001)"
   ]
  },
  {
   "cell_type": "code",
   "execution_count": 4,
   "metadata": {},
   "outputs": [],
   "source": [
    "neurons = lvq.fit(x_train, y_train)"
   ]
  },
  {
   "cell_type": "code",
   "execution_count": 5,
   "metadata": {},
   "outputs": [
    {
     "name": "stdout",
     "output_type": "stream",
     "text": [
      "             precision    recall  f1-score   support\n",
      "\n",
      "          0       0.96      0.95      0.96       227\n",
      "          1       0.93      0.91      0.92        74\n",
      "          2       0.64      0.77      0.70        39\n",
      "          3       0.89      0.87      0.88       153\n",
      "\n",
      "avg / total       0.91      0.90      0.91       493\n",
      "\n"
     ]
    }
   ],
   "source": [
    "predicted_y = [lvq.predict(instance) for instance in x_test]\n",
    "\n",
    "from sklearn.metrics import classification_report\n",
    "\n",
    "print (classification_report(y_test, predicted_y, target_names=['0', '1', '2', '3']))"
   ]
  },
  {
   "cell_type": "code",
   "execution_count": 6,
   "metadata": {
    "scrolled": true
   },
   "outputs": [
    {
     "name": "stdout",
     "output_type": "stream",
     "text": [
      "             precision    recall  f1-score   support\n",
      "\n",
      "          0       0.98      0.89      0.93       558\n",
      "          1       0.84      0.90      0.87       165\n",
      "          2       0.62      0.65      0.64       139\n",
      "          3       0.82      0.88      0.84       453\n",
      "\n",
      "avg / total       0.87      0.86      0.86      1315\n",
      "\n"
     ]
    }
   ],
   "source": [
    "data_new = pd.read_csv(r\"../data/SD-2X_rocktype.csv\")\n",
    "x_new = data_new.iloc[:, 0:6].values\n",
    "y_new = data_new.iloc[:, 6].values\n",
    "y_new[y_new == 4] = 0\n",
    "x_new = minmax.fit_transform(x_new)\n",
    "predicted_y_new = [lvq.predict(instance) for instance in x_new]\n",
    "\n",
    "from sklearn.metrics import classification_report\n",
    "\n",
    "print (classification_report(y_new, predicted_y_new, target_names=['0', '1', '2', '3']))"
   ]
  },
  {
   "cell_type": "code",
   "execution_count": 8,
   "metadata": {
    "scrolled": true
   },
   "outputs": [
    {
     "data": {
      "text/plain": [
       "array([[1.  , 1.  , 0.89, 0.87, 1.  , 1.  , 1.  , 1.  , 1.  , 0.86, 1.  ,\n",
       "        1.  , 1.  , 1.  , 1.  , 1.  , 0.98, 0.95, 0.94, 1.  , 0.17, 0.87,\n",
       "        1.  , 1.  , 0.88, 0.  , 0.  , 0.  , 0.  , 0.  , 0.  , 0.  , 0.  ,\n",
       "        0.  , 0.  , 0.  , 0.  , 0.  , 0.  , 0.  , 0.  , 0.  , 0.  , 0.  ,\n",
       "        0.  , 0.  , 0.  , 0.  , 0.  , 0.  , 0.  , 0.  , 0.  , 0.  , 0.  ,\n",
       "        0.  , 0.  , 0.  , 0.  , 0.  , 0.  , 0.  , 0.  , 0.  , 0.  , 0.  ,\n",
       "        0.  , 0.  , 0.  , 0.  , 0.  , 0.  , 0.  , 0.  , 0.  , 0.  , 0.04,\n",
       "        0.12, 0.  , 0.5 , 0.12, 0.04, 0.  , 0.13, 0.  , 0.27, 0.  , 0.  ,\n",
       "        0.  , 0.12, 0.67, 0.  , 0.  , 0.  , 0.  , 0.05, 0.  , 0.17, 0.06,\n",
       "        0.22],\n",
       "       [0.  , 0.  , 0.  , 0.  , 0.  , 0.  , 0.  , 0.  , 0.  , 0.  , 0.  ,\n",
       "        0.  , 0.  , 0.  , 0.  , 0.  , 0.  , 0.  , 0.  , 0.  , 0.  , 0.  ,\n",
       "        0.  , 0.  , 0.  , 1.  , 1.  , 1.  , 1.  , 1.  , 0.86, 1.  , 1.  ,\n",
       "        1.  , 1.  , 1.  , 0.  , 0.75, 1.  , 0.  , 1.  , 1.  , 1.  , 0.9 ,\n",
       "        1.  , 0.  , 0.62, 1.  , 1.  , 1.  , 0.  , 0.  , 0.  , 0.  , 0.  ,\n",
       "        0.11, 0.  , 0.  , 0.  , 0.  , 0.29, 0.07, 0.  , 0.  , 0.  , 0.  ,\n",
       "        0.  , 0.  , 0.  , 0.14, 0.  , 0.06, 0.3 , 0.6 , 0.  , 0.  , 0.  ,\n",
       "        0.  , 0.  , 0.  , 0.  , 0.  , 0.  , 0.  , 0.  , 0.  , 0.  , 0.  ,\n",
       "        0.  , 0.  , 0.  , 0.  , 0.  , 0.  , 0.  , 0.  , 0.  , 0.  , 0.  ,\n",
       "        0.  ],\n",
       "       [0.  , 0.  , 0.  , 0.  , 0.  , 0.  , 0.  , 0.  , 0.  , 0.  , 0.  ,\n",
       "        0.  , 0.  , 0.  , 0.  , 0.  , 0.  , 0.  , 0.  , 0.  , 0.  , 0.  ,\n",
       "        0.  , 0.  , 0.  , 0.  , 0.  , 0.  , 0.  , 0.  , 0.14, 0.  , 0.  ,\n",
       "        0.  , 0.  , 0.  , 0.  , 0.25, 0.  , 0.  , 0.  , 0.  , 0.  , 0.1 ,\n",
       "        0.  , 0.  , 0.33, 0.  , 0.  , 0.  , 0.  , 0.75, 1.  , 1.  , 0.  ,\n",
       "        0.78, 0.6 , 1.  , 0.  , 1.  , 0.71, 0.93, 0.  , 1.  , 0.  , 0.57,\n",
       "        0.74, 1.  , 0.  , 0.43, 0.  , 0.7 , 0.6 , 0.4 , 0.43, 0.  , 0.  ,\n",
       "        0.  , 0.  , 0.  , 0.  , 0.04, 0.  , 0.  , 0.  , 0.  , 0.03, 0.  ,\n",
       "        0.  , 0.  , 0.  , 0.  , 0.  , 0.  , 0.  , 0.02, 0.12, 0.  , 0.  ,\n",
       "        0.  ],\n",
       "       [0.  , 0.  , 0.11, 0.13, 0.  , 0.  , 0.  , 0.  , 0.  , 0.14, 0.  ,\n",
       "        0.  , 0.  , 0.  , 0.  , 0.  , 0.02, 0.05, 0.06, 0.  , 0.83, 0.13,\n",
       "        0.  , 0.  , 0.12, 0.  , 0.  , 0.  , 0.  , 0.  , 0.  , 0.  , 0.  ,\n",
       "        0.  , 0.  , 0.  , 0.  , 0.  , 0.  , 1.  , 0.  , 0.  , 0.  , 0.  ,\n",
       "        0.  , 0.  , 0.05, 0.  , 0.  , 0.  , 0.  , 0.25, 0.  , 0.  , 0.  ,\n",
       "        0.11, 0.4 , 0.  , 0.  , 0.  , 0.  , 0.  , 1.  , 0.  , 0.  , 0.43,\n",
       "        0.26, 0.  , 0.  , 0.43, 0.  , 0.24, 0.1 , 0.  , 0.57, 1.  , 0.96,\n",
       "        0.88, 0.  , 0.5 , 0.88, 0.93, 1.  , 0.87, 1.  , 0.73, 0.97, 1.  ,\n",
       "        1.  , 0.88, 0.33, 1.  , 1.  , 1.  , 1.  , 0.93, 0.88, 0.83, 0.94,\n",
       "        0.78]])"
      ]
     },
     "execution_count": 8,
     "metadata": {},
     "output_type": "execute_result"
    }
   ],
   "source": [
    "lvq.propabilityLVQ()"
   ]
  }
 ],
 "metadata": {
  "kernelspec": {
   "display_name": "Python 3",
   "language": "python",
   "name": "python3"
  },
  "language_info": {
   "codemirror_mode": {
    "name": "ipython",
    "version": 3
   },
   "file_extension": ".py",
   "mimetype": "text/x-python",
   "name": "python",
   "nbconvert_exporter": "python",
   "pygments_lexer": "ipython3",
   "version": "3.6.5"
  }
 },
 "nbformat": 4,
 "nbformat_minor": 2
}
