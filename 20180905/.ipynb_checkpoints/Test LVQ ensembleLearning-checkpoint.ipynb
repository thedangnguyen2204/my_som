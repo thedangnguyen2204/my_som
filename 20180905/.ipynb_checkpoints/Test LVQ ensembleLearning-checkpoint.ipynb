{
 "cells": [
  {
   "cell_type": "code",
   "execution_count": 50,
   "metadata": {},
   "outputs": [],
   "source": [
    "import numpy as np\n",
    "from sklearn.metrics import euclidean_distances\n",
    "import pandas as pd\n",
    "\n",
    "import sys\n",
    "sys.path.insert(0, '../SOM-LVQ')\n",
    "import LVQ"
   ]
  },
  {
   "cell_type": "code",
   "execution_count": 51,
   "metadata": {},
   "outputs": [],
   "source": [
    "data = pd.read_csv(r\"../data/rocktype.csv\")\n",
    "x = data.iloc[:, 0:6].values\n",
    "y = data.iloc[:, 6].values\n",
    "y[y==4] = 0\n",
    "from sklearn.cross_validation import train_test_split\n",
    "x_train, x_test, y_train, y_test = train_test_split(x, y, test_size=0.25, random_state=1)\n",
    "\n",
    "# use Minmaxscaler because we use euclidean distance\n",
    "from sklearn.preprocessing import MinMaxScaler\n",
    "minmax = MinMaxScaler()\n",
    "x_train = minmax.fit_transform(x_train)\n",
    "x_test = minmax.transform(x_test)"
   ]
  },
  {
   "cell_type": "code",
   "execution_count": 52,
   "metadata": {},
   "outputs": [],
   "source": [
    "lvq1 = LVQ.LVQ(x=x_train, y=y_train, n_classes=4, n_neurons=25, epsilon=0.9, p_vectors=[], epsilon_dec_factor=0.001)\n",
    "\n",
    "neurons = lvq1.fit(x_train, y_train)"
   ]
  },
  {
   "cell_type": "code",
   "execution_count": 53,
   "metadata": {},
   "outputs": [
    {
     "name": "stdout",
     "output_type": "stream",
     "text": [
      "             precision    recall  f1-score   support\n",
      "\n",
      "          0       0.97      0.93      0.95       227\n",
      "          1       0.93      0.89      0.91        74\n",
      "          2       0.55      0.77      0.64        39\n",
      "          3       0.87      0.85      0.86       153\n",
      "\n",
      "avg / total       0.90      0.89      0.89       493\n",
      "\n"
     ]
    }
   ],
   "source": [
    "predicted_y = [lvq1.predict(instance) for instance in x_test]\n",
    "\n",
    "from sklearn.metrics import classification_report\n",
    "\n",
    "print (classification_report(y_test, predicted_y, target_names=['0', '1', '2', '3']))"
   ]
  },
  {
   "cell_type": "code",
   "execution_count": 54,
   "metadata": {},
   "outputs": [],
   "source": [
    "lvq2 = LVQ.LVQ(x=x_train, y=y_train, n_classes=4, n_neurons=25, epsilon=0.9, p_vectors=[], epsilon_dec_factor=0.001)\n",
    "\n",
    "neurons = lvq2.fit(x_train, y_train)"
   ]
  },
  {
   "cell_type": "code",
   "execution_count": 55,
   "metadata": {
    "scrolled": false
   },
   "outputs": [
    {
     "name": "stdout",
     "output_type": "stream",
     "text": [
      "             precision    recall  f1-score   support\n",
      "\n",
      "          0       0.96      0.93      0.94       227\n",
      "          1       0.93      0.92      0.93        74\n",
      "          2       0.67      0.77      0.71        39\n",
      "          3       0.86      0.88      0.87       153\n",
      "\n",
      "avg / total       0.90      0.90      0.90       493\n",
      "\n"
     ]
    }
   ],
   "source": [
    "predicted_y = [lvq2.predict(instance) for instance in x_test]\n",
    "\n",
    "from sklearn.metrics import classification_report\n",
    "\n",
    "print (classification_report(y_test, predicted_y, target_names=['0', '1', '2', '3']))"
   ]
  },
  {
   "cell_type": "code",
   "execution_count": 56,
   "metadata": {},
   "outputs": [],
   "source": [
    "lvq3 = LVQ.LVQ(x=x_train, y=y_train, n_classes=4, n_neurons=25, epsilon=0.9, p_vectors=[], epsilon_dec_factor=0.001)\n",
    "\n",
    "neurons = lvq3.fit(x_train, y_train)"
   ]
  },
  {
   "cell_type": "code",
   "execution_count": 57,
   "metadata": {},
   "outputs": [
    {
     "name": "stdout",
     "output_type": "stream",
     "text": [
      "             precision    recall  f1-score   support\n",
      "\n",
      "          0       0.96      0.93      0.94       227\n",
      "          1       0.97      0.93      0.95        74\n",
      "          2       0.68      0.77      0.72        39\n",
      "          3       0.84      0.88      0.86       153\n",
      "\n",
      "avg / total       0.91      0.90      0.90       493\n",
      "\n"
     ]
    }
   ],
   "source": [
    "predicted_y = [lvq3.predict(instance) for instance in x_test]\n",
    "\n",
    "from sklearn.metrics import classification_report\n",
    "\n",
    "print (classification_report(y_test, predicted_y, target_names=['0', '1', '2', '3']))"
   ]
  },
  {
   "cell_type": "code",
   "execution_count": 58,
   "metadata": {},
   "outputs": [],
   "source": [
    "mapping1 = lvq1.win_map_LVQ(x_train)\n",
    "mapping2 = lvq2.win_map_LVQ(x_train)\n",
    "mapping3 = lvq3.win_map_LVQ(x_train)"
   ]
  },
  {
   "cell_type": "code",
   "execution_count": 59,
   "metadata": {},
   "outputs": [],
   "source": [
    "propa1 = lvq1.propabilityLVQ()\n",
    "propa2 = lvq2.propabilityLVQ()\n",
    "propa3 = lvq3.propabilityLVQ()"
   ]
  },
  {
   "cell_type": "code",
   "execution_count": 60,
   "metadata": {},
   "outputs": [
    {
     "data": {
      "text/plain": [
       "38"
      ]
     },
     "execution_count": 60,
     "metadata": {},
     "output_type": "execute_result"
    }
   ],
   "source": [
    "lvq1.find_closest(x_test[1])[0]"
   ]
  },
  {
   "cell_type": "code",
   "execution_count": 61,
   "metadata": {},
   "outputs": [],
   "source": [
    "result = np.array([])\n",
    "\n",
    "for sample in x_test:\n",
    "    pos1 = lvq1.find_closest(sample)\n",
    "    pos2 = lvq2.find_closest(sample)\n",
    "    pos3 = lvq3.find_closest(sample)\n",
    "    l1 = len(mapping1[pos1[0]])\n",
    "    l2 = len(mapping2[pos2[0]])\n",
    "    l3 = len(mapping3[pos3[0]])\n",
    "    pro1 = (l1*propa1[0, pos1[0]] + l2*propa2[0, pos2[0]] + l3*propa3[0, pos3[0]])/(l1+l2+l3)\n",
    "    pro2 = (l1*propa1[1, pos1[0]] + l2*propa2[1, pos2[0]] + l3*propa3[1, pos3[0]])/(l1+l2+l3)\n",
    "    pro3 = (l1*propa1[2, pos1[0]] + l2*propa2[2, pos2[0]] + l3*propa3[2, pos3[0]])/(l1+l2+l3)\n",
    "    pro4 = (l1*propa1[3, pos1[0]] + l2*propa2[3, pos2[0]] + l3*propa3[3, pos3[0]])/(l1+l2+l3)\n",
    "    tmp = np.argmax(np.array([pro1, pro2, pro3, pro4]))\n",
    "    result = np.append(result, tmp)"
   ]
  },
  {
   "cell_type": "code",
   "execution_count": 62,
   "metadata": {},
   "outputs": [
    {
     "name": "stdout",
     "output_type": "stream",
     "text": [
      "             precision    recall  f1-score   support\n",
      "\n",
      "          0       0.96      0.93      0.95       227\n",
      "          1       0.99      0.95      0.97        74\n",
      "          2       0.78      0.72      0.75        39\n",
      "          3       0.85      0.92      0.88       153\n",
      "\n",
      "avg / total       0.92      0.91      0.92       493\n",
      "\n"
     ]
    }
   ],
   "source": [
    "print (classification_report(y_test, result, target_names=['0','1', '2', '3']))"
   ]
  }
 ],
 "metadata": {
  "kernelspec": {
   "display_name": "Python 3",
   "language": "python",
   "name": "python3"
  },
  "language_info": {
   "codemirror_mode": {
    "name": "ipython",
    "version": 3
   },
   "file_extension": ".py",
   "mimetype": "text/x-python",
   "name": "python",
   "nbconvert_exporter": "python",
   "pygments_lexer": "ipython3",
   "version": "3.6.5"
  }
 },
 "nbformat": 4,
 "nbformat_minor": 2
}
