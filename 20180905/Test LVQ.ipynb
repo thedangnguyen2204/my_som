{
 "cells": [
  {
   "cell_type": "code",
   "execution_count": 10,
   "metadata": {},
   "outputs": [],
   "source": [
    "import numpy as np\n",
    "from sklearn.metrics import euclidean_distances\n",
    "import pandas as pd\n",
    "\n",
    "import sys\n",
    "sys.path.insert(0, '../SOM-LVQ')\n",
    "import LVQ"
   ]
  },
  {
   "cell_type": "code",
   "execution_count": 11,
   "metadata": {},
   "outputs": [],
   "source": [
    "data = pd.read_csv(r\"../data/rocktype.csv\")\n",
    "x = data.iloc[:, 0:6].values\n",
    "y = data.iloc[:, 6].values\n",
    "y[y==4] = 0\n",
    "from sklearn.cross_validation import train_test_split\n",
    "x_train, x_test, y_train, y_test = train_test_split(x, y, test_size=0.25, random_state=1)\n",
    "\n",
    "# use Minmaxscaler because we use euclidean distance\n",
    "from sklearn.preprocessing import MinMaxScaler\n",
    "minmax = MinMaxScaler()\n",
    "x_train = minmax.fit_transform(x_train)\n",
    "x_test = minmax.transform(x_test)"
   ]
  },
  {
   "cell_type": "code",
   "execution_count": 12,
   "metadata": {},
   "outputs": [],
   "source": [
    "lvq = LVQ.LVQ(x=x_train, y=y_train, n_classes=4, n_neurons=25, epsilon=0.9, p_vectors=[], epsilon_dec_factor=0.001)"
   ]
  },
  {
   "cell_type": "code",
   "execution_count": 13,
   "metadata": {},
   "outputs": [],
   "source": [
    "neurons = lvq.fit(x_train, y_train)"
   ]
  },
  {
   "cell_type": "code",
   "execution_count": 14,
   "metadata": {},
   "outputs": [
    {
     "name": "stdout",
     "output_type": "stream",
     "text": [
      "             precision    recall  f1-score   support\n",
      "\n",
      "          0       0.97      0.93      0.95       227\n",
      "          1       0.96      0.89      0.92        74\n",
      "          2       0.61      0.77      0.68        39\n",
      "          3       0.86      0.88      0.87       153\n",
      "\n",
      "avg / total       0.90      0.90      0.90       493\n",
      "\n"
     ]
    }
   ],
   "source": [
    "predicted_y = [lvq.predict(instance) for instance in x_test]\n",
    "\n",
    "from sklearn.metrics import classification_report\n",
    "\n",
    "print (classification_report(y_test, predicted_y, target_names=['0', '1', '2', '3']))"
   ]
  },
  {
   "cell_type": "code",
   "execution_count": 15,
   "metadata": {
    "scrolled": true
   },
   "outputs": [
    {
     "name": "stdout",
     "output_type": "stream",
     "text": [
      "             precision    recall  f1-score   support\n",
      "\n",
      "          0       0.98      0.92      0.95       558\n",
      "          1       0.86      0.92      0.89       165\n",
      "          2       0.62      0.69      0.66       139\n",
      "          3       0.85      0.87      0.86       453\n",
      "\n",
      "avg / total       0.88      0.88      0.88      1315\n",
      "\n"
     ]
    }
   ],
   "source": [
    "data_new = pd.read_csv(r\"../data/SD-2X_rocktype.csv\")\n",
    "x_new = data_new.iloc[:, 0:6].values\n",
    "y_new = data_new.iloc[:, 6].values\n",
    "y_new[y_new == 4] = 0\n",
    "x_new = minmax.fit_transform(x_new)\n",
    "predicted_y_new = [lvq.predict(instance) for instance in x_new]\n",
    "\n",
    "from sklearn.metrics import classification_report\n",
    "\n",
    "print (classification_report(y_new, predicted_y_new, target_names=['0', '1', '2', '3']))"
   ]
  },
  {
   "cell_type": "code",
   "execution_count": 16,
   "metadata": {
    "scrolled": true
   },
   "outputs": [
    {
     "data": {
      "text/plain": [
       "array([[1.  , 0.89, 0.69, 1.  , 1.  , 0.  , 0.  , 0.98, 1.  , 0.83, 1.  ,\n",
       "        0.89, 1.  , 1.  , 1.  , 1.  , 1.  , 0.86, 1.  , 1.  , 1.  , 1.  ,\n",
       "        0.  , 1.  , 1.  , 0.  , 0.  , 0.  , 0.  , 0.  , 0.  , 0.  , 0.  ,\n",
       "        0.  , 0.  , 0.  , 0.  , 0.  , 0.  , 0.  , 0.  , 0.  , 0.  , 0.  ,\n",
       "        0.  , 0.  , 0.  , 0.  , 0.  , 0.  , 0.  , 0.  , 0.  , 0.  , 0.  ,\n",
       "        0.  , 0.  , 0.  , 0.  , 0.  , 0.  , 0.  , 0.  , 0.  , 0.  , 0.  ,\n",
       "        0.  , 0.  , 0.  , 0.  , 0.  , 0.  , 0.  , 0.  , 0.  , 0.  , 0.  ,\n",
       "        0.1 , 0.11, 0.  , 0.  , 0.  , 0.  , 0.  , 0.  , 0.  , 0.13, 0.1 ,\n",
       "        0.  , 0.05, 0.33, 0.  , 0.12, 0.  , 0.04, 0.  , 0.  , 0.  , 0.  ,\n",
       "        0.  ],\n",
       "       [0.  , 0.  , 0.  , 0.  , 0.  , 0.  , 0.  , 0.  , 0.  , 0.  , 0.  ,\n",
       "        0.  , 0.  , 0.  , 0.  , 0.  , 0.  , 0.  , 0.  , 0.  , 0.  , 0.  ,\n",
       "        0.  , 0.  , 0.  , 1.  , 0.75, 1.  , 0.8 , 1.  , 1.  , 1.  , 1.  ,\n",
       "        0.75, 0.91, 1.  , 1.  , 1.  , 0.  , 0.62, 0.  , 1.  , 0.33, 1.  ,\n",
       "        0.89, 1.  , 1.  , 0.56, 0.97, 1.  , 0.12, 0.2 , 0.11, 0.14, 0.17,\n",
       "        0.17, 0.  , 0.  , 0.15, 0.  , 0.14, 0.  , 1.  , 0.  , 0.  , 0.  ,\n",
       "        0.  , 0.11, 0.67, 0.  , 0.  , 0.  , 0.  , 0.5 , 0.  , 0.  , 0.  ,\n",
       "        0.  , 0.  , 0.  , 0.  , 0.  , 0.  , 0.  , 0.  , 0.  , 0.  , 0.  ,\n",
       "        0.  , 0.  , 0.  , 0.  , 0.  , 0.  , 0.  , 0.  , 0.  , 0.  , 0.  ,\n",
       "        0.  ],\n",
       "       [0.  , 0.  , 0.  , 0.  , 0.  , 0.  , 0.  , 0.  , 0.  , 0.  , 0.  ,\n",
       "        0.  , 0.  , 0.  , 0.  , 0.  , 0.  , 0.  , 0.  , 0.  , 0.  , 0.  ,\n",
       "        0.  , 0.  , 0.  , 0.  , 0.25, 0.  , 0.2 , 0.  , 0.  , 0.  , 0.  ,\n",
       "        0.25, 0.09, 0.  , 0.  , 0.  , 0.  , 0.38, 0.  , 0.  , 0.33, 0.  ,\n",
       "        0.11, 0.  , 0.  , 0.22, 0.03, 0.  , 0.25, 0.8 , 0.44, 0.44, 0.83,\n",
       "        0.83, 0.  , 0.  , 0.55, 1.  , 0.71, 0.  , 0.  , 0.25, 1.  , 0.85,\n",
       "        0.67, 0.78, 0.33, 0.8 , 0.75, 0.64, 0.  , 0.5 , 0.  , 0.  , 0.  ,\n",
       "        0.  , 0.  , 0.  , 0.  , 0.  , 0.  , 0.  , 0.  , 0.1 , 0.  , 0.1 ,\n",
       "        0.  , 0.  , 0.  , 0.  , 0.  , 0.  , 0.08, 0.21, 0.  , 0.  , 0.  ,\n",
       "        0.  ],\n",
       "       [0.  , 0.11, 0.31, 0.  , 0.  , 0.  , 0.  , 0.02, 0.  , 0.17, 0.  ,\n",
       "        0.11, 0.  , 0.  , 0.  , 0.  , 0.  , 0.14, 0.  , 0.  , 0.  , 0.  ,\n",
       "        0.  , 0.  , 0.  , 0.  , 0.  , 0.  , 0.  , 0.  , 0.  , 0.  , 0.  ,\n",
       "        0.  , 0.  , 0.  , 0.  , 0.  , 0.  , 0.  , 0.  , 0.  , 0.33, 0.  ,\n",
       "        0.  , 0.  , 0.  , 0.22, 0.  , 0.  , 0.62, 0.  , 0.44, 0.42, 0.  ,\n",
       "        0.  , 0.  , 0.  , 0.3 , 0.  , 0.14, 0.  , 0.  , 0.75, 0.  , 0.15,\n",
       "        0.33, 0.11, 0.  , 0.2 , 0.25, 0.36, 0.  , 0.  , 0.  , 1.  , 0.  ,\n",
       "        0.9 , 0.89, 1.  , 1.  , 1.  , 1.  , 1.  , 0.  , 0.9 , 0.87, 0.8 ,\n",
       "        1.  , 0.95, 0.67, 0.  , 0.88, 1.  , 0.88, 0.79, 1.  , 1.  , 1.  ,\n",
       "        0.  ]])"
      ]
     },
     "execution_count": 16,
     "metadata": {},
     "output_type": "execute_result"
    }
   ],
   "source": [
    "lvq.propabilityLVQ()"
   ]
  },
  {
   "cell_type": "code",
   "execution_count": 19,
   "metadata": {},
   "outputs": [
    {
     "data": {
      "text/plain": [
       "86"
      ]
     },
     "execution_count": 19,
     "metadata": {},
     "output_type": "execute_result"
    }
   ],
   "source": [
    "tmp = 0\n",
    "for k, v in lvq.win_map_LVQ(x_train).items():\n",
    "    if len(v) > 0:\n",
    "        tmp += 1\n",
    "tmp"
   ]
  }
 ],
 "metadata": {
  "kernelspec": {
   "display_name": "Python 3",
   "language": "python",
   "name": "python3"
  },
  "language_info": {
   "codemirror_mode": {
    "name": "ipython",
    "version": 3
   },
   "file_extension": ".py",
   "mimetype": "text/x-python",
   "name": "python",
   "nbconvert_exporter": "python",
   "pygments_lexer": "ipython3",
   "version": "3.6.5"
  }
 },
 "nbformat": 4,
 "nbformat_minor": 2
}
