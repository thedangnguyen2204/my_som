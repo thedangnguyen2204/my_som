{
 "cells": [
  {
   "cell_type": "markdown",
   "metadata": {},
   "source": [
    "#### Ensemble learning với thuật toán LVQ cơ bản sử dụng tỉ lệ mẫu trong từng neuron"
   ]
  },
  {
   "cell_type": "code",
   "execution_count": 1,
   "metadata": {},
   "outputs": [],
   "source": [
    "import numpy as np\n",
    "from sklearn.metrics import euclidean_distances\n",
    "import pandas as pd\n",
    "\n",
    "import sys\n",
    "sys.path.insert(0, '../SOM-LVQ')\n",
    "import LVQ\n",
    "import weighted_neurons"
   ]
  },
  {
   "cell_type": "code",
   "execution_count": 2,
   "metadata": {},
   "outputs": [],
   "source": [
    "data = pd.read_csv(r\"../data/UCI/bupa.data.csv\", header=None)"
   ]
  },
  {
   "cell_type": "code",
   "execution_count": 3,
   "metadata": {},
   "outputs": [],
   "source": [
    "threshold = data[5].values\n",
    "\n",
    "label = threshold >= 3\n",
    "\n",
    "label = label * 1"
   ]
  },
  {
   "cell_type": "code",
   "execution_count": 4,
   "metadata": {},
   "outputs": [
    {
     "name": "stderr",
     "output_type": "stream",
     "text": [
      "C:\\Users\\Thend\\Anaconda3\\lib\\site-packages\\sklearn\\cross_validation.py:41: DeprecationWarning: This module was deprecated in version 0.18 in favor of the model_selection module into which all the refactored classes and functions are moved. Also note that the interface of the new CV iterators are different from that of this module. This module will be removed in 0.20.\n",
      "  \"This module will be removed in 0.20.\", DeprecationWarning)\n",
      "C:\\Users\\Thend\\Anaconda3\\lib\\site-packages\\sklearn\\utils\\validation.py:475: DataConversionWarning: Data with input dtype int64 was converted to float64 by MinMaxScaler.\n",
      "  warnings.warn(msg, DataConversionWarning)\n"
     ]
    }
   ],
   "source": [
    "x = data.iloc[:, 0:5].values\n",
    "y = label\n",
    "from sklearn.cross_validation import train_test_split\n",
    "x_train = x[data[6] == 2]\n",
    "y_train = label[data[6] == 2]\n",
    "x_test = x[data[6] == 1]\n",
    "y_test = label[data[6] == 1]\n",
    "# x_train, x_test, y_train, y_test = train_test_split(x, y, test_size=0.25, random_state=1)\n",
    "\n",
    "# use Minmaxscaler because we use euclidean distance\n",
    "from sklearn.preprocessing import MinMaxScaler\n",
    "minmax = MinMaxScaler()\n",
    "x_train = minmax.fit_transform(x_train)\n",
    "x_test = minmax.transform(x_test)"
   ]
  },
  {
   "cell_type": "code",
   "execution_count": 5,
   "metadata": {},
   "outputs": [],
   "source": [
    "lvq1 = LVQ.LVQ(x=x_train, y=y_train, n_classes=2, n_neurons=50, epsilon=0.9, p_vectors=[], epsilon_dec_factor=0.001)\n",
    "\n",
    "neurons = lvq1.train_LVQ2(x_train, y_train)"
   ]
  },
  {
   "cell_type": "code",
   "execution_count": 6,
   "metadata": {},
   "outputs": [
    {
     "name": "stdout",
     "output_type": "stream",
     "text": [
      "             precision    recall  f1-score   support\n",
      "\n",
      "          0       0.59      0.61      0.60        79\n",
      "          1       0.52      0.50      0.51        66\n",
      "\n",
      "avg / total       0.56      0.56      0.56       145\n",
      "\n"
     ]
    },
    {
     "name": "stderr",
     "output_type": "stream",
     "text": [
      "C:\\Users\\Thend\\Anaconda3\\lib\\site-packages\\sklearn\\metrics\\classification.py:1428: UserWarning: labels size, 2, does not match size of target_names, 7\n",
      "  .format(len(labels), len(target_names))\n"
     ]
    }
   ],
   "source": [
    "predicted_y = [lvq1.predict(instance) for instance in x_test]\n",
    "\n",
    "from sklearn.metrics import classification_report\n",
    "\n",
    "print (classification_report(y_test, predicted_y, target_names=['0', '1', '2', '3', '4', '5', '6']))"
   ]
  },
  {
   "cell_type": "code",
   "execution_count": 7,
   "metadata": {},
   "outputs": [],
   "source": [
    "lvq2 = LVQ.LVQ(x=x_train, y=y_train, n_classes=2, n_neurons=50, epsilon=0.9, p_vectors=[], epsilon_dec_factor=0.001)\n",
    "\n",
    "neurons = lvq2.train_LVQ2(x_train, y_train)"
   ]
  },
  {
   "cell_type": "code",
   "execution_count": 8,
   "metadata": {
    "scrolled": false
   },
   "outputs": [
    {
     "name": "stdout",
     "output_type": "stream",
     "text": [
      "             precision    recall  f1-score   support\n",
      "\n",
      "          0       0.60      0.51      0.55        79\n",
      "          1       0.50      0.59      0.54        66\n",
      "\n",
      "avg / total       0.55      0.54      0.55       145\n",
      "\n"
     ]
    },
    {
     "name": "stderr",
     "output_type": "stream",
     "text": [
      "C:\\Users\\Thend\\Anaconda3\\lib\\site-packages\\sklearn\\metrics\\classification.py:1428: UserWarning: labels size, 2, does not match size of target_names, 7\n",
      "  .format(len(labels), len(target_names))\n"
     ]
    }
   ],
   "source": [
    "predicted_y = [lvq2.predict(instance) for instance in x_test]\n",
    "\n",
    "from sklearn.metrics import classification_report\n",
    "\n",
    "print (classification_report(y_test, predicted_y, target_names=['0', '1', '2', '3', '4', '5', '6']))"
   ]
  },
  {
   "cell_type": "code",
   "execution_count": 9,
   "metadata": {},
   "outputs": [],
   "source": [
    "lvq3 = LVQ.LVQ(x=x_train, y=y_train, n_classes=2, n_neurons=50, epsilon=0.9, p_vectors=[], epsilon_dec_factor=0.001)\n",
    "\n",
    "neurons = lvq3.train_LVQ2(x_train, y_train)"
   ]
  },
  {
   "cell_type": "code",
   "execution_count": 10,
   "metadata": {
    "scrolled": true
   },
   "outputs": [
    {
     "name": "stdout",
     "output_type": "stream",
     "text": [
      "             precision    recall  f1-score   support\n",
      "\n",
      "          0       0.55      0.53      0.54        79\n",
      "          1       0.46      0.47      0.46        66\n",
      "\n",
      "avg / total       0.50      0.50      0.50       145\n",
      "\n"
     ]
    },
    {
     "name": "stderr",
     "output_type": "stream",
     "text": [
      "C:\\Users\\Thend\\Anaconda3\\lib\\site-packages\\sklearn\\metrics\\classification.py:1428: UserWarning: labels size, 2, does not match size of target_names, 7\n",
      "  .format(len(labels), len(target_names))\n"
     ]
    }
   ],
   "source": [
    "predicted_y = [lvq3.predict(instance) for instance in x_test]\n",
    "\n",
    "from sklearn.metrics import classification_report\n",
    "\n",
    "print (classification_report(y_test, predicted_y, target_names=['0', '1', '2', '3', '4', '5', '6']))"
   ]
  },
  {
   "cell_type": "markdown",
   "metadata": {},
   "source": [
    "#### Thuật toán LVQ được thêm vào các hàm tính win_map và tỉ lệ các mẫu trong từng neuron"
   ]
  },
  {
   "cell_type": "code",
   "execution_count": 11,
   "metadata": {},
   "outputs": [],
   "source": [
    "mapping1 = lvq1.win_map_LVQ(x_train)\n",
    "mapping2 = lvq2.win_map_LVQ(x_train)\n",
    "mapping3 = lvq3.win_map_LVQ(x_train)"
   ]
  },
  {
   "cell_type": "code",
   "execution_count": 12,
   "metadata": {},
   "outputs": [],
   "source": [
    "propa1 = lvq1.propabilityLVQ()\n",
    "propa2 = lvq2.propabilityLVQ()\n",
    "propa3 = lvq3.propabilityLVQ()"
   ]
  },
  {
   "cell_type": "code",
   "execution_count": 20,
   "metadata": {},
   "outputs": [
    {
     "name": "stderr",
     "output_type": "stream",
     "text": [
      "C:\\Users\\Thend\\Anaconda3\\lib\\site-packages\\ipykernel_launcher.py:10: RuntimeWarning: invalid value encountered in double_scalars\n",
      "  # Remove the CWD from sys.path while we load stuff.\n",
      "C:\\Users\\Thend\\Anaconda3\\lib\\site-packages\\ipykernel_launcher.py:11: RuntimeWarning: invalid value encountered in double_scalars\n",
      "  # This is added back by InteractiveShellApp.init_path()\n"
     ]
    }
   ],
   "source": [
    "result = np.array([])\n",
    "\n",
    "for sample in x_test:\n",
    "    pos1 = lvq1.find_closest(sample)\n",
    "    pos2 = lvq2.find_closest(sample)\n",
    "    pos3 = lvq3.find_closest(sample)\n",
    "    l1 = len(mapping1[pos1[0]])\n",
    "    l2 = len(mapping2[pos2[0]])\n",
    "    l3 = len(mapping3[pos3[0]])\n",
    "    pro1 = (l1*propa1[0, pos1[0]] + l2*propa2[0, pos2[0]] + l3*propa3[0, pos3[0]])/(l1+l2+l3)\n",
    "    pro2 = (l1*propa1[1, pos1[0]] + l2*propa2[1, pos2[0]] + l3*propa3[1, pos3[0]])/(l1+l2+l3)\n",
    "    tmp = np.argmax(np.array([pro1, pro2]))\n",
    "    result = np.append(result, tmp)"
   ]
  },
  {
   "cell_type": "code",
   "execution_count": 19,
   "metadata": {
    "scrolled": true
   },
   "outputs": [],
   "source": [
    "# result = []\n",
    "# for sample in x_test:\n",
    "#     t = weighted_neurons.weighted_neurons_predict(models=[lvq1, lvq2, lvq3], \n",
    "#                                                   mappings=[mapping1, mapping2, mapping3], \n",
    "#                                                   propa=[propa1, propa2, propa3], \n",
    "#                                                   y = sample)\n",
    "#     tmp_result.append(t)"
   ]
  },
  {
   "cell_type": "code",
   "execution_count": 21,
   "metadata": {},
   "outputs": [
    {
     "name": "stdout",
     "output_type": "stream",
     "text": [
      "             precision    recall  f1-score   support\n",
      "\n",
      "          0       0.62      0.63      0.63        79\n",
      "          1       0.55      0.53      0.54        66\n",
      "\n",
      "avg / total       0.59      0.59      0.59       145\n",
      "\n"
     ]
    },
    {
     "name": "stderr",
     "output_type": "stream",
     "text": [
      "C:\\Users\\Thend\\Anaconda3\\lib\\site-packages\\sklearn\\metrics\\classification.py:1428: UserWarning: labels size, 2, does not match size of target_names, 7\n",
      "  .format(len(labels), len(target_names))\n"
     ]
    }
   ],
   "source": [
    "print (classification_report(y_test, result, target_names=['0', '1', '2', '3', '4', '5', '6']))"
   ]
  }
 ],
 "metadata": {
  "kernelspec": {
   "display_name": "Python 3",
   "language": "python",
   "name": "python3"
  },
  "language_info": {
   "codemirror_mode": {
    "name": "ipython",
    "version": 3
   },
   "file_extension": ".py",
   "mimetype": "text/x-python",
   "name": "python",
   "nbconvert_exporter": "python",
   "pygments_lexer": "ipython3",
   "version": "3.6.5"
  }
 },
 "nbformat": 4,
 "nbformat_minor": 2
}
