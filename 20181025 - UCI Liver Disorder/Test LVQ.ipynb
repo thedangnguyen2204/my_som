{
 "cells": [
  {
   "cell_type": "markdown",
   "metadata": {},
   "source": [
    "#### Sử dụng thuật toán LVQ cơ bản"
   ]
  },
  {
   "cell_type": "code",
   "execution_count": 1,
   "metadata": {},
   "outputs": [],
   "source": [
    "import numpy as np\n",
    "from sklearn.metrics import euclidean_distances\n",
    "import pandas as pd\n",
    "\n",
    "import sys\n",
    "sys.path.insert(0, '../SOM-LVQ')\n",
    "import sklearn_LVQ"
   ]
  },
  {
   "cell_type": "code",
   "execution_count": 2,
   "metadata": {},
   "outputs": [
    {
     "name": "stderr",
     "output_type": "stream",
     "text": [
      "C:\\Users\\Thend\\Anaconda3\\lib\\site-packages\\sklearn\\cross_validation.py:41: DeprecationWarning: This module was deprecated in version 0.18 in favor of the model_selection module into which all the refactored classes and functions are moved. Also note that the interface of the new CV iterators are different from that of this module. This module will be removed in 0.20.\n",
      "  \"This module will be removed in 0.20.\", DeprecationWarning)\n"
     ]
    }
   ],
   "source": [
    "data = pd.read_csv(r\"../data/AReM/Dataset1(combined).csv\")\n",
    "x = data.iloc[:, 0:6].values\n",
    "y = data.iloc[:, 6].values\n",
    "y[y==7] = 0\n",
    "from sklearn.cross_validation import train_test_split\n",
    "x_train, x_test, y_train, y_test = train_test_split(x, y, test_size=0.25, random_state=42)\n",
    "\n",
    "# use Minmaxscaler because we use euclidean distance\n",
    "from sklearn.preprocessing import MinMaxScaler\n",
    "minmax = MinMaxScaler()\n",
    "x_train = minmax.fit_transform(x_train)\n",
    "x_test = minmax.transform(x_test)"
   ]
  },
  {
   "cell_type": "code",
   "execution_count": 3,
   "metadata": {},
   "outputs": [],
   "source": [
    "lvq = sklearn_LVQ.LVQ(x=x_train, y=y_train, n_classes=7, n_neurons=90, epsilon=0.9, p_vectors=[], epsilon_dec_factor=0.001)"
   ]
  },
  {
   "cell_type": "code",
   "execution_count": 4,
   "metadata": {},
   "outputs": [],
   "source": [
    "neurons = lvq.fit(x_train, y_train)"
   ]
  },
  {
   "cell_type": "code",
   "execution_count": 5,
   "metadata": {},
   "outputs": [
    {
     "name": "stdout",
     "output_type": "stream",
     "text": [
      "             precision    recall  f1-score   support\n",
      "\n",
      "          0       0.68      0.65      0.66       114\n",
      "          1       1.00      1.00      1.00       144\n",
      "          2       0.99      0.97      0.98       123\n",
      "          3       0.65      0.75      0.69       114\n",
      "          4       0.98      1.00      0.99       121\n",
      "          5       0.88      0.73      0.80       113\n",
      "          6       0.86      0.92      0.89       111\n",
      "\n",
      "avg / total       0.87      0.87      0.87       840\n",
      "\n"
     ]
    }
   ],
   "source": [
    "# predicted_y = [lvq.predict(instance) for instance in x_test]\n",
    "predicted_y = lvq.predict(x_test)\n",
    "\n",
    "from sklearn.metrics import classification_report\n",
    "\n",
    "print (classification_report(y_test, predicted_y, target_names=['0', '1', '2', '3', '4', '5', '6']))"
   ]
  },
  {
   "cell_type": "code",
   "execution_count": 6,
   "metadata": {
    "scrolled": false
   },
   "outputs": [
    {
     "data": {
      "text/plain": [
       "2520"
      ]
     },
     "execution_count": 6,
     "metadata": {},
     "output_type": "execute_result"
    }
   ],
   "source": [
    "len(x_train)"
   ]
  },
  {
   "cell_type": "code",
   "execution_count": 7,
   "metadata": {
    "scrolled": true
   },
   "outputs": [
    {
     "data": {
      "text/plain": [
       "array([3, 4, 3, 5, 1, 4, 3, 3, 0, 2, 3, 2, 1, 2, 3, 6, 6, 2, 1, 6, 5, 3,\n",
       "       1, 1, 3, 4, 5, 3, 1, 0, 4, 1, 5, 2, 0, 0, 6, 1, 6, 2, 6, 1, 6, 3,\n",
       "       5, 2, 2, 5, 0, 6, 3, 2, 1, 1, 3, 2, 0, 6, 3, 1, 0, 1, 3, 3, 1, 1,\n",
       "       1, 1, 3, 2, 0, 2, 6, 1, 2, 1, 2, 1, 3, 1, 3, 0, 2, 0, 5, 3, 4, 5,\n",
       "       3, 3, 4, 6, 2, 6, 6, 6, 4, 3, 1, 5, 3, 6, 3, 6, 1, 5, 1, 0, 6, 6,\n",
       "       2, 0, 0, 2, 4, 1, 4, 4, 1, 2, 3, 1, 3, 0, 1, 4, 5, 2, 3, 1, 0, 1,\n",
       "       0, 6, 3, 5, 6, 6, 4, 1, 1, 2, 1, 4, 1, 6, 6, 2, 0, 4, 4, 0, 4, 2,\n",
       "       0, 5, 4, 3, 2, 4, 2, 5, 5, 0, 2, 2, 5, 4, 0, 2, 4, 5, 5, 6, 6, 1,\n",
       "       6, 6, 2, 3, 4, 1, 5, 4, 5, 2, 1, 1, 1, 2, 1, 1, 0, 6, 1, 4, 4, 3,\n",
       "       0, 4, 3, 1, 1, 2, 3, 1, 1, 4, 4, 0, 3, 3, 3, 3, 1, 0, 3, 1, 2, 3,\n",
       "       6, 4, 4, 2, 5, 3, 4, 3, 4, 0, 4, 5, 3, 3, 6, 3, 4, 5, 4, 4, 1, 2,\n",
       "       6, 6, 1, 6, 4, 2, 6, 2, 0, 1, 4, 1, 0, 0, 1, 6, 1, 5, 2, 6, 3, 1,\n",
       "       2, 3, 5, 6, 1, 4, 4, 6, 5, 3, 6, 2, 1, 5, 1, 3, 3, 5, 4, 0, 0, 1,\n",
       "       3, 1, 6, 3, 5, 2, 2, 0, 0, 0, 2, 1, 4, 1, 1, 6, 2, 0, 4, 6, 4, 1,\n",
       "       5, 1, 2, 0, 1, 3, 1, 2, 4, 5, 6, 5, 0, 5, 2, 1, 3, 6, 0, 6, 1, 3,\n",
       "       6, 2, 4, 1, 1, 6, 5, 3, 4, 5, 0, 6, 4, 2, 1, 0, 2, 1, 3, 0, 2, 5,\n",
       "       3, 5, 6, 2, 5, 4, 0, 6, 5, 6, 4, 1, 4, 6, 1, 4, 2, 4, 5, 6, 0, 1,\n",
       "       1, 1, 5, 0, 1, 0, 4, 1, 0, 3, 3, 4, 0, 6, 6, 6, 2, 5, 1, 1, 6, 2,\n",
       "       0, 2, 5, 4, 4, 6, 0, 1, 2, 1, 1, 0, 5, 0, 6, 3, 1, 4, 0, 1, 6, 6,\n",
       "       3, 4, 5, 1, 1, 2, 2, 2, 4, 1, 4, 6, 0, 5, 0, 2, 6, 3, 6, 2, 1, 3,\n",
       "       5, 3, 3, 2, 3, 1, 5, 6, 1, 6, 0, 2, 5, 4, 4, 2, 2, 2, 3, 5, 1, 0,\n",
       "       0, 1, 1, 4, 5, 1, 3, 0, 3, 1, 4, 1, 5, 0, 5, 6, 6, 3, 5, 4, 3, 3,\n",
       "       1, 3, 4, 3, 6, 6, 2, 6, 1, 3, 4, 6, 4, 4, 2, 1, 2, 4, 4, 3, 0, 5,\n",
       "       6, 4, 2, 3, 3, 0, 0, 3, 4, 3, 3, 4, 0, 0, 1, 2, 2, 5, 6, 4, 5, 5,\n",
       "       0, 0, 2, 3, 5, 4, 3, 4, 4, 1, 0, 4, 5, 2, 5, 5, 1, 4, 6, 4, 2, 4,\n",
       "       1, 6, 0, 1, 3, 6, 6, 5, 6, 2, 3, 4, 6, 0, 3, 3, 2, 1, 0, 2, 4, 3,\n",
       "       1, 5, 0, 1, 5, 2, 3, 5, 1, 3, 5, 0, 4, 3, 2, 4, 4, 1, 4, 6, 6, 1,\n",
       "       4, 2, 3, 0, 3, 1, 2, 4, 0, 4, 5, 2, 3, 6, 3, 0, 4, 5, 1, 0, 3, 5,\n",
       "       2, 2, 6, 3, 2, 0, 6, 5, 2, 3, 6, 3, 4, 2, 5, 6, 1, 1, 4, 4, 5, 0,\n",
       "       4, 3, 6, 4, 6, 3, 3, 0, 2, 2, 5, 3, 6, 0, 5, 0, 0, 3, 4, 5, 1, 0,\n",
       "       5, 0, 6, 0, 6, 2, 6, 5, 4, 3, 0, 3, 0, 0, 4, 6, 6, 6, 6, 1, 3, 0,\n",
       "       2, 1, 1, 6, 5, 0, 4, 0, 4, 2, 3, 0, 6, 5, 1, 4, 2, 4, 5, 6, 1, 5,\n",
       "       6, 5, 2, 1, 5, 4, 2, 3, 4, 6, 2, 5, 4, 5, 2, 1, 0, 0, 6, 1, 5, 4,\n",
       "       4, 1, 0, 2, 1, 2, 1, 3, 6, 4, 3, 1, 4, 3, 0, 2, 3, 4, 1, 0, 4, 4,\n",
       "       3, 0, 6, 3, 5, 3, 2, 5, 1, 1, 4, 6, 3, 6, 1, 5, 1, 6, 1, 3, 4, 3,\n",
       "       5, 2, 5, 2, 1, 2, 4, 1, 1, 1, 4, 3, 4, 2, 1, 4, 6, 3, 2, 6, 1, 3,\n",
       "       2, 3, 6, 6, 0, 6, 6, 3, 3, 0, 0, 3, 2, 3, 2, 6, 2, 4, 4, 6, 0, 0,\n",
       "       0, 3, 1, 2, 4, 6, 2, 0, 2, 6, 0, 4, 2, 0, 3, 5, 2, 0, 3, 0, 1, 3,\n",
       "       2, 2, 5, 2])"
      ]
     },
     "execution_count": 7,
     "metadata": {},
     "output_type": "execute_result"
    }
   ],
   "source": [
    "predicted_y"
   ]
  },
  {
   "cell_type": "code",
   "execution_count": 8,
   "metadata": {
    "scrolled": true
   },
   "outputs": [
    {
     "ename": "ValueError",
     "evalue": "operands could not be broadcast together with shapes (5,) (6,) ",
     "output_type": "error",
     "traceback": [
      "\u001b[1;31m---------------------------------------------------------------------------\u001b[0m",
      "\u001b[1;31mValueError\u001b[0m                                Traceback (most recent call last)",
      "\u001b[1;32m<ipython-input-8-8190f544487d>\u001b[0m in \u001b[0;36m<module>\u001b[1;34m()\u001b[0m\n\u001b[0;32m      1\u001b[0m \u001b[1;32mfrom\u001b[0m \u001b[0msklearn\u001b[0m\u001b[1;33m.\u001b[0m\u001b[0mutils\u001b[0m\u001b[1;33m.\u001b[0m\u001b[0mestimator_checks\u001b[0m \u001b[1;32mimport\u001b[0m \u001b[0mcheck_estimator\u001b[0m\u001b[1;33m\u001b[0m\u001b[0m\n\u001b[1;32m----> 2\u001b[1;33m \u001b[0mcheck_estimator\u001b[0m\u001b[1;33m(\u001b[0m\u001b[0mlvq\u001b[0m\u001b[1;33m)\u001b[0m\u001b[1;33m\u001b[0m\u001b[0m\n\u001b[0m",
      "\u001b[1;32m~\\Anaconda3\\lib\\site-packages\\sklearn\\utils\\estimator_checks.py\u001b[0m in \u001b[0;36mcheck_estimator\u001b[1;34m(Estimator)\u001b[0m\n\u001b[0;32m    263\u001b[0m     \u001b[1;32mfor\u001b[0m \u001b[0mcheck\u001b[0m \u001b[1;32min\u001b[0m \u001b[0m_yield_all_checks\u001b[0m\u001b[1;33m(\u001b[0m\u001b[0mname\u001b[0m\u001b[1;33m,\u001b[0m \u001b[0mestimator\u001b[0m\u001b[1;33m)\u001b[0m\u001b[1;33m:\u001b[0m\u001b[1;33m\u001b[0m\u001b[0m\n\u001b[0;32m    264\u001b[0m         \u001b[1;32mtry\u001b[0m\u001b[1;33m:\u001b[0m\u001b[1;33m\u001b[0m\u001b[0m\n\u001b[1;32m--> 265\u001b[1;33m             \u001b[0mcheck\u001b[0m\u001b[1;33m(\u001b[0m\u001b[0mname\u001b[0m\u001b[1;33m,\u001b[0m \u001b[0mestimator\u001b[0m\u001b[1;33m)\u001b[0m\u001b[1;33m\u001b[0m\u001b[0m\n\u001b[0m\u001b[0;32m    266\u001b[0m         \u001b[1;32mexcept\u001b[0m \u001b[0mSkipTest\u001b[0m \u001b[1;32mas\u001b[0m \u001b[0mmessage\u001b[0m\u001b[1;33m:\u001b[0m\u001b[1;33m\u001b[0m\u001b[0m\n\u001b[0;32m    267\u001b[0m             \u001b[1;31m# the only SkipTest thrown currently results from not\u001b[0m\u001b[1;33m\u001b[0m\u001b[1;33m\u001b[0m\u001b[0m\n",
      "\u001b[1;32m~\\Anaconda3\\lib\\site-packages\\sklearn\\utils\\testing.py\u001b[0m in \u001b[0;36mwrapper\u001b[1;34m(*args, **kwargs)\u001b[0m\n\u001b[0;32m    289\u001b[0m             \u001b[1;32mwith\u001b[0m \u001b[0mwarnings\u001b[0m\u001b[1;33m.\u001b[0m\u001b[0mcatch_warnings\u001b[0m\u001b[1;33m(\u001b[0m\u001b[1;33m)\u001b[0m\u001b[1;33m:\u001b[0m\u001b[1;33m\u001b[0m\u001b[0m\n\u001b[0;32m    290\u001b[0m                 \u001b[0mwarnings\u001b[0m\u001b[1;33m.\u001b[0m\u001b[0msimplefilter\u001b[0m\u001b[1;33m(\u001b[0m\u001b[1;34m\"ignore\"\u001b[0m\u001b[1;33m,\u001b[0m \u001b[0mself\u001b[0m\u001b[1;33m.\u001b[0m\u001b[0mcategory\u001b[0m\u001b[1;33m)\u001b[0m\u001b[1;33m\u001b[0m\u001b[0m\n\u001b[1;32m--> 291\u001b[1;33m                 \u001b[1;32mreturn\u001b[0m \u001b[0mfn\u001b[0m\u001b[1;33m(\u001b[0m\u001b[1;33m*\u001b[0m\u001b[0margs\u001b[0m\u001b[1;33m,\u001b[0m \u001b[1;33m**\u001b[0m\u001b[0mkwargs\u001b[0m\u001b[1;33m)\u001b[0m\u001b[1;33m\u001b[0m\u001b[0m\n\u001b[0m\u001b[0;32m    292\u001b[0m \u001b[1;33m\u001b[0m\u001b[0m\n\u001b[0;32m    293\u001b[0m         \u001b[1;32mreturn\u001b[0m \u001b[0mwrapper\u001b[0m\u001b[1;33m\u001b[0m\u001b[0m\n",
      "\u001b[1;32m~\\Anaconda3\\lib\\site-packages\\sklearn\\utils\\estimator_checks.py\u001b[0m in \u001b[0;36mcheck_estimators_dtypes\u001b[1;34m(name, estimator_orig)\u001b[0m\n\u001b[0;32m    843\u001b[0m         \u001b[1;32mfor\u001b[0m \u001b[0mmethod\u001b[0m \u001b[1;32min\u001b[0m \u001b[0mmethods\u001b[0m\u001b[1;33m:\u001b[0m\u001b[1;33m\u001b[0m\u001b[0m\n\u001b[0;32m    844\u001b[0m             \u001b[1;32mif\u001b[0m \u001b[0mhasattr\u001b[0m\u001b[1;33m(\u001b[0m\u001b[0mestimator\u001b[0m\u001b[1;33m,\u001b[0m \u001b[0mmethod\u001b[0m\u001b[1;33m)\u001b[0m\u001b[1;33m:\u001b[0m\u001b[1;33m\u001b[0m\u001b[0m\n\u001b[1;32m--> 845\u001b[1;33m                 \u001b[0mgetattr\u001b[0m\u001b[1;33m(\u001b[0m\u001b[0mestimator\u001b[0m\u001b[1;33m,\u001b[0m \u001b[0mmethod\u001b[0m\u001b[1;33m)\u001b[0m\u001b[1;33m(\u001b[0m\u001b[0mX_train\u001b[0m\u001b[1;33m)\u001b[0m\u001b[1;33m\u001b[0m\u001b[0m\n\u001b[0m\u001b[0;32m    846\u001b[0m \u001b[1;33m\u001b[0m\u001b[0m\n\u001b[0;32m    847\u001b[0m \u001b[1;33m\u001b[0m\u001b[0m\n",
      "\u001b[1;32mD:\\MachineLearning\\NN_Templates\\Self_Organizing_Maps\\SOM-LVQ\\sklearn_LVQ.py\u001b[0m in \u001b[0;36mpredict\u001b[1;34m(self, x)\u001b[0m\n\u001b[0;32m    162\u001b[0m         \u001b[0mcheck_is_fitted\u001b[0m\u001b[1;33m(\u001b[0m\u001b[0mself\u001b[0m\u001b[1;33m,\u001b[0m \u001b[1;33m[\u001b[0m\u001b[1;34m'X_'\u001b[0m\u001b[1;33m,\u001b[0m \u001b[1;34m'y_'\u001b[0m\u001b[1;33m,\u001b[0m \u001b[1;34m'classes_'\u001b[0m\u001b[1;33m]\u001b[0m\u001b[1;33m)\u001b[0m\u001b[1;33m\u001b[0m\u001b[0m\n\u001b[0;32m    163\u001b[0m         \u001b[0mx\u001b[0m \u001b[1;33m=\u001b[0m \u001b[0mcheck_array\u001b[0m\u001b[1;33m(\u001b[0m\u001b[0mx\u001b[0m\u001b[1;33m)\u001b[0m\u001b[1;33m\u001b[0m\u001b[0m\n\u001b[1;32m--> 164\u001b[1;33m         \u001b[1;32mreturn\u001b[0m \u001b[0mnp\u001b[0m\u001b[1;33m.\u001b[0m\u001b[0marray\u001b[0m\u001b[1;33m(\u001b[0m\u001b[1;33m[\u001b[0m\u001b[0mself\u001b[0m\u001b[1;33m.\u001b[0m\u001b[0mfind_closest\u001b[0m\u001b[1;33m(\u001b[0m\u001b[0mtest_vector\u001b[0m\u001b[1;33m)\u001b[0m\u001b[1;33m[\u001b[0m\u001b[1;36m1\u001b[0m\u001b[1;33m]\u001b[0m\u001b[1;33m.\u001b[0m\u001b[0mclass_id\u001b[0m \u001b[1;32mfor\u001b[0m \u001b[0mtest_vector\u001b[0m \u001b[1;32min\u001b[0m \u001b[0mx\u001b[0m\u001b[1;33m]\u001b[0m\u001b[1;33m)\u001b[0m\u001b[1;33m\u001b[0m\u001b[0m\n\u001b[0m\u001b[0;32m    165\u001b[0m     \u001b[1;32mdef\u001b[0m \u001b[0mfit\u001b[0m\u001b[1;33m(\u001b[0m\u001b[0mself\u001b[0m\u001b[1;33m,\u001b[0m \u001b[0mx\u001b[0m\u001b[1;33m,\u001b[0m \u001b[0my\u001b[0m\u001b[1;33m)\u001b[0m\u001b[1;33m:\u001b[0m\u001b[1;33m\u001b[0m\u001b[0m\n\u001b[0;32m    166\u001b[0m         \"\"\"\n",
      "\u001b[1;32mD:\\MachineLearning\\NN_Templates\\Self_Organizing_Maps\\SOM-LVQ\\sklearn_LVQ.py\u001b[0m in \u001b[0;36m<listcomp>\u001b[1;34m(.0)\u001b[0m\n\u001b[0;32m    162\u001b[0m         \u001b[0mcheck_is_fitted\u001b[0m\u001b[1;33m(\u001b[0m\u001b[0mself\u001b[0m\u001b[1;33m,\u001b[0m \u001b[1;33m[\u001b[0m\u001b[1;34m'X_'\u001b[0m\u001b[1;33m,\u001b[0m \u001b[1;34m'y_'\u001b[0m\u001b[1;33m,\u001b[0m \u001b[1;34m'classes_'\u001b[0m\u001b[1;33m]\u001b[0m\u001b[1;33m)\u001b[0m\u001b[1;33m\u001b[0m\u001b[0m\n\u001b[0;32m    163\u001b[0m         \u001b[0mx\u001b[0m \u001b[1;33m=\u001b[0m \u001b[0mcheck_array\u001b[0m\u001b[1;33m(\u001b[0m\u001b[0mx\u001b[0m\u001b[1;33m)\u001b[0m\u001b[1;33m\u001b[0m\u001b[0m\n\u001b[1;32m--> 164\u001b[1;33m         \u001b[1;32mreturn\u001b[0m \u001b[0mnp\u001b[0m\u001b[1;33m.\u001b[0m\u001b[0marray\u001b[0m\u001b[1;33m(\u001b[0m\u001b[1;33m[\u001b[0m\u001b[0mself\u001b[0m\u001b[1;33m.\u001b[0m\u001b[0mfind_closest\u001b[0m\u001b[1;33m(\u001b[0m\u001b[0mtest_vector\u001b[0m\u001b[1;33m)\u001b[0m\u001b[1;33m[\u001b[0m\u001b[1;36m1\u001b[0m\u001b[1;33m]\u001b[0m\u001b[1;33m.\u001b[0m\u001b[0mclass_id\u001b[0m \u001b[1;32mfor\u001b[0m \u001b[0mtest_vector\u001b[0m \u001b[1;32min\u001b[0m \u001b[0mx\u001b[0m\u001b[1;33m]\u001b[0m\u001b[1;33m)\u001b[0m\u001b[1;33m\u001b[0m\u001b[0m\n\u001b[0m\u001b[0;32m    165\u001b[0m     \u001b[1;32mdef\u001b[0m \u001b[0mfit\u001b[0m\u001b[1;33m(\u001b[0m\u001b[0mself\u001b[0m\u001b[1;33m,\u001b[0m \u001b[0mx\u001b[0m\u001b[1;33m,\u001b[0m \u001b[0my\u001b[0m\u001b[1;33m)\u001b[0m\u001b[1;33m:\u001b[0m\u001b[1;33m\u001b[0m\u001b[0m\n\u001b[0;32m    166\u001b[0m         \"\"\"\n",
      "\u001b[1;32mD:\\MachineLearning\\NN_Templates\\Self_Organizing_Maps\\SOM-LVQ\\sklearn_LVQ.py\u001b[0m in \u001b[0;36mfind_closest\u001b[1;34m(self, in_vector)\u001b[0m\n\u001b[0;32m    117\u001b[0m         \u001b[0mclosest_distance\u001b[0m \u001b[1;33m=\u001b[0m \u001b[1;36m99999\u001b[0m\u001b[1;33m\u001b[0m\u001b[0m\n\u001b[0;32m    118\u001b[0m         \u001b[1;32mfor\u001b[0m \u001b[0mi\u001b[0m \u001b[1;32min\u001b[0m \u001b[0mrange\u001b[0m\u001b[1;33m(\u001b[0m\u001b[0mlen\u001b[0m\u001b[1;33m(\u001b[0m\u001b[0mproto_vectors\u001b[0m\u001b[1;33m)\u001b[0m\u001b[1;33m)\u001b[0m\u001b[1;33m:\u001b[0m\u001b[1;33m\u001b[0m\u001b[0m\n\u001b[1;32m--> 119\u001b[1;33m             \u001b[0mdistance\u001b[0m \u001b[1;33m=\u001b[0m \u001b[0mnp\u001b[0m\u001b[1;33m.\u001b[0m\u001b[0mlinalg\u001b[0m\u001b[1;33m.\u001b[0m\u001b[0mnorm\u001b[0m\u001b[1;33m(\u001b[0m\u001b[0min_vector\u001b[0m \u001b[1;33m-\u001b[0m \u001b[0mproto_vectors\u001b[0m\u001b[1;33m[\u001b[0m\u001b[0mi\u001b[0m\u001b[1;33m]\u001b[0m\u001b[1;33m.\u001b[0m\u001b[0mp_vector\u001b[0m\u001b[1;33m)\u001b[0m\u001b[1;33m\u001b[0m\u001b[0m\n\u001b[0m\u001b[0;32m    120\u001b[0m             \u001b[1;32mif\u001b[0m \u001b[0mdistance\u001b[0m \u001b[1;33m<\u001b[0m \u001b[0mclosest_distance\u001b[0m\u001b[1;33m:\u001b[0m\u001b[1;33m\u001b[0m\u001b[0m\n\u001b[0;32m    121\u001b[0m                 \u001b[0mclosest_distance\u001b[0m \u001b[1;33m=\u001b[0m \u001b[0mdistance\u001b[0m\u001b[1;33m\u001b[0m\u001b[0m\n",
      "\u001b[1;31mValueError\u001b[0m: operands could not be broadcast together with shapes (5,) (6,) "
     ]
    }
   ],
   "source": [
    "from sklearn.utils.estimator_checks import check_estimator\n",
    "check_estimator(lvq)"
   ]
  },
  {
   "cell_type": "code",
   "execution_count": 18,
   "metadata": {},
   "outputs": [
    {
     "name": "stdout",
     "output_type": "stream",
     "text": [
      "0.7681647300068353\n"
     ]
    }
   ],
   "source": [
    "import pandas\n",
    "from sklearn import model_selection\n",
    "from sklearn.ensemble import BaggingClassifier\n",
    "from sklearn.tree import DecisionTreeClassifier\n",
    "url = \"https://raw.githubusercontent.com/jbrownlee/Datasets/master/pima-indians-diabetes.data.csv\"\n",
    "names = ['preg', 'plas', 'pres', 'skin', 'test', 'mass', 'pedi', 'age', 'class']\n",
    "dataframe = pandas.read_csv(url, names=names)\n",
    "array = dataframe.values\n",
    "X = array[:,0:8]\n",
    "Y = array[:,8]\n",
    "seed = 7\n",
    "kfold = model_selection.KFold(n_splits=10, random_state=seed)\n",
    "cart = sklearn_LVQ.LVQ(x=X, y=Y, n_classes=2, n_neurons=90, epsilon=0.9, p_vectors=[], epsilon_dec_factor=0.001)\n",
    "num_trees = 10\n",
    "model = BaggingClassifier(base_estimator=cart, n_estimators=num_trees, random_state=seed)\n",
    "results = model_selection.cross_val_score(model, X, Y, cv=kfold)\n",
    "print(results.mean())"
   ]
  }
 ],
 "metadata": {
  "kernelspec": {
   "display_name": "Python 3",
   "language": "python",
   "name": "python3"
  },
  "language_info": {
   "codemirror_mode": {
    "name": "ipython",
    "version": 3
   },
   "file_extension": ".py",
   "mimetype": "text/x-python",
   "name": "python",
   "nbconvert_exporter": "python",
   "pygments_lexer": "ipython3",
   "version": "3.6.5"
  }
 },
 "nbformat": 4,
 "nbformat_minor": 2
}
