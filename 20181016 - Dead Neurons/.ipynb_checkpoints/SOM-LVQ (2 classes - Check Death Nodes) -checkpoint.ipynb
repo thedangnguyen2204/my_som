{
 "cells": [
  {
   "cell_type": "code",
   "execution_count": 59,
   "metadata": {},
   "outputs": [],
   "source": [
    "import numpy as np\n",
    "from sklearn.metrics import euclidean_distances\n",
    "import pandas as pd\n",
    "import sys\n",
    "sys.path.insert(0, '../SOM-LVQ')\n",
    "import minisom\n",
    "from sklearn.metrics import classification_report\n",
    "from supervisedSom import supervisedSom\n",
    "import LVQ\n",
    "import SOM_LVQ"
   ]
  },
  {
   "cell_type": "code",
   "execution_count": 60,
   "metadata": {},
   "outputs": [],
   "source": [
    "data = pd.read_csv(r\"../data/SVNE_Hieu.csv\")\n",
    "x = data.iloc[:, 0:6].values # try to retain the labels of x\n",
    "y = data.iloc[:, 6].values\n",
    "from sklearn.cross_validation import train_test_split\n",
    "x_train, x_test, y_train, y_test = train_test_split(x, y, test_size=0.1, random_state=20)\n",
    "\n",
    "# use Minmaxscaler because we use euclidean distance\n",
    "from sklearn.preprocessing import MinMaxScaler\n",
    "minmax = MinMaxScaler()\n",
    "x_train = minmax.fit_transform(x_train)\n",
    "x_test = minmax.transform(x_test)"
   ]
  },
  {
   "cell_type": "code",
   "execution_count": 61,
   "metadata": {
    "scrolled": true
   },
   "outputs": [
    {
     "data": {
      "text/html": [
       "<div>\n",
       "<style scoped>\n",
       "    .dataframe tbody tr th:only-of-type {\n",
       "        vertical-align: middle;\n",
       "    }\n",
       "\n",
       "    .dataframe tbody tr th {\n",
       "        vertical-align: top;\n",
       "    }\n",
       "\n",
       "    .dataframe thead th {\n",
       "        text-align: right;\n",
       "    }\n",
       "</style>\n",
       "<table border=\"1\" class=\"dataframe\">\n",
       "  <thead>\n",
       "    <tr style=\"text-align: right;\">\n",
       "      <th></th>\n",
       "      <th>97.31890106</th>\n",
       "      <th>0.2384</th>\n",
       "      <th>80.8421</th>\n",
       "      <th>2.3652</th>\n",
       "      <th>0.5329</th>\n",
       "      <th>0.0882</th>\n",
       "      <th>0</th>\n",
       "    </tr>\n",
       "  </thead>\n",
       "  <tbody>\n",
       "    <tr>\n",
       "      <th>0</th>\n",
       "      <td>95.175400</td>\n",
       "      <td>0.2349</td>\n",
       "      <td>79.7616</td>\n",
       "      <td>2.3268</td>\n",
       "      <td>0.4689</td>\n",
       "      <td>0.1149</td>\n",
       "      <td>0</td>\n",
       "    </tr>\n",
       "    <tr>\n",
       "      <th>1</th>\n",
       "      <td>94.644501</td>\n",
       "      <td>0.2395</td>\n",
       "      <td>79.2767</td>\n",
       "      <td>2.3164</td>\n",
       "      <td>0.4629</td>\n",
       "      <td>0.1216</td>\n",
       "      <td>0</td>\n",
       "    </tr>\n",
       "    <tr>\n",
       "      <th>2</th>\n",
       "      <td>97.948700</td>\n",
       "      <td>0.2504</td>\n",
       "      <td>79.2263</td>\n",
       "      <td>2.3316</td>\n",
       "      <td>0.5231</td>\n",
       "      <td>0.1069</td>\n",
       "      <td>0</td>\n",
       "    </tr>\n",
       "    <tr>\n",
       "      <th>3</th>\n",
       "      <td>102.133904</td>\n",
       "      <td>0.2586</td>\n",
       "      <td>79.5253</td>\n",
       "      <td>2.3660</td>\n",
       "      <td>0.6052</td>\n",
       "      <td>0.0796</td>\n",
       "      <td>0</td>\n",
       "    </tr>\n",
       "    <tr>\n",
       "      <th>4</th>\n",
       "      <td>102.163399</td>\n",
       "      <td>0.2544</td>\n",
       "      <td>80.3517</td>\n",
       "      <td>2.3975</td>\n",
       "      <td>0.6325</td>\n",
       "      <td>0.0605</td>\n",
       "      <td>0</td>\n",
       "    </tr>\n",
       "  </tbody>\n",
       "</table>\n",
       "</div>"
      ],
      "text/plain": [
       "   97.31890106  0.2384  80.8421  2.3652  0.5329  0.0882  0\n",
       "0    95.175400  0.2349  79.7616  2.3268  0.4689  0.1149  0\n",
       "1    94.644501  0.2395  79.2767  2.3164  0.4629  0.1216  0\n",
       "2    97.948700  0.2504  79.2263  2.3316  0.5231  0.1069  0\n",
       "3   102.133904  0.2586  79.5253  2.3660  0.6052  0.0796  0\n",
       "4   102.163399  0.2544  80.3517  2.3975  0.6325  0.0605  0"
      ]
     },
     "execution_count": 61,
     "metadata": {},
     "output_type": "execute_result"
    }
   ],
   "source": [
    "data.head()"
   ]
  },
  {
   "cell_type": "code",
   "execution_count": 62,
   "metadata": {},
   "outputs": [
    {
     "data": {
      "text/plain": [
       "1195"
      ]
     },
     "execution_count": 62,
     "metadata": {},
     "output_type": "execute_result"
    }
   ],
   "source": [
    "len(x_train)"
   ]
  },
  {
   "cell_type": "code",
   "execution_count": 63,
   "metadata": {},
   "outputs": [],
   "source": [
    "# Training the SOM\n",
    "from minisom import MiniSom\n",
    "som = MiniSom(x = 15, y = 15, input_len = 6, sigma = 1.0, learning_rate = 0.5)\n",
    "som.random_weights_init(x_train)\n",
    "som.train_random(data = x_train, num_iteration = 100)"
   ]
  },
  {
   "cell_type": "code",
   "execution_count": 64,
   "metadata": {
    "scrolled": true
   },
   "outputs": [
    {
     "data": {
      "text/plain": [
       "array([0, 1], dtype=int64)"
      ]
     },
     "execution_count": 64,
     "metadata": {},
     "output_type": "execute_result"
    }
   ],
   "source": [
    "np.unique(y)"
   ]
  },
  {
   "cell_type": "code",
   "execution_count": 65,
   "metadata": {},
   "outputs": [
    {
     "data": {
      "image/png": "[encoded data removed]",
      "text/plain": [
       "<Figure size 432x288 with 2 Axes>"
      ]
     },
     "metadata": {},
     "output_type": "display_data"
    }
   ],
   "source": [
    "suso = supervisedSom(som, x_train, y_train)\n",
    "labels = suso.visualSom()"
   ]
  },
  {
   "cell_type": "code",
   "execution_count": 66,
   "metadata": {},
   "outputs": [],
   "source": [
    "propa = suso.propabilitySom()"
   ]
  },
  {
   "cell_type": "code",
   "execution_count": 67,
   "metadata": {
    "scrolled": true
   },
   "outputs": [
    {
     "data": {
      "text/plain": [
       "array([[[0.  , 0.  , 0.67, 0.5 , 1.  , 0.45, 1.  , 0.  , 0.02, 0.75,\n",
       "         0.19, 0.  , 0.  , 0.32, 1.  ],\n",
       "        [1.  , 0.75, 1.  , 0.  , 0.33, 0.5 , 1.  , 1.  , 0.  , 0.  ,\n",
       "         0.4 , 0.  , 0.  , 0.  , 0.  ],\n",
       "        [1.  , 0.  , 0.  , 1.  , 0.  , 1.  , 0.  , 1.  , 0.  , 0.  ,\n",
       "         1.  , 1.  , 0.  , 0.  , 0.  ],\n",
       "        [1.  , 0.  , 0.  , 0.  , 0.  , 0.89, 1.  , 1.  , 1.  , 0.5 ,\n",
       "         0.  , 0.67, 0.  , 0.6 , 0.33],\n",
       "        [0.  , 0.  , 0.  , 0.5 , 0.75, 1.  , 1.  , 1.  , 1.  , 0.5 ,\n",
       "         0.29, 0.8 , 1.  , 0.  , 0.05],\n",
       "        [1.  , 1.  , 1.  , 0.  , 0.  , 1.  , 1.  , 0.67, 0.8 , 0.  ,\n",
       "         0.25, 0.  , 1.  , 0.  , 0.  ],\n",
       "        [0.  , 1.  , 0.  , 0.  , 1.  , 1.  , 1.  , 1.  , 0.  , 1.  ,\n",
       "         1.  , 0.57, 0.  , 0.  , 0.03],\n",
       "        [0.  , 0.  , 0.  , 1.  , 0.5 , 1.  , 0.  , 0.88, 1.  , 0.  ,\n",
       "         1.  , 0.89, 0.  , 0.  , 0.06],\n",
       "        [0.  , 0.  , 0.  , 0.  , 0.  , 1.  , 1.  , 0.  , 1.  , 0.  ,\n",
       "         0.78, 1.  , 0.  , 0.  , 0.  ],\n",
       "        [0.  , 0.  , 0.  , 0.  , 0.5 , 1.  , 1.  , 1.  , 0.86, 1.  ,\n",
       "         0.8 , 1.  , 1.  , 1.  , 1.  ],\n",
       "        [0.  , 0.  , 0.  , 0.57, 0.  , 0.  , 0.44, 0.  , 1.  , 0.  ,\n",
       "         0.  , 1.  , 1.  , 1.  , 0.  ],\n",
       "        [0.  , 0.33, 1.  , 0.  , 0.  , 0.  , 0.25, 0.75, 1.  , 0.  ,\n",
       "         1.  , 1.  , 1.  , 1.  , 0.28],\n",
       "        [0.03, 0.  , 0.43, 0.  , 1.  , 0.  , 0.  , 1.  , 0.75, 0.25,\n",
       "         0.  , 0.  , 0.86, 1.  , 0.  ],\n",
       "        [0.  , 0.33, 0.  , 0.  , 0.58, 0.82, 0.6 , 1.  , 0.25, 0.  ,\n",
       "         1.  , 0.  , 0.  , 0.  , 0.12],\n",
       "        [0.  , 0.  , 1.  , 1.  , 0.  , 0.  , 0.33, 0.83, 1.  , 0.33,\n",
       "         1.  , 0.33, 0.  , 0.  , 0.  ]],\n",
       "\n",
       "       [[0.  , 0.  , 0.33, 0.5 , 0.  , 0.55, 0.  , 1.  , 0.98, 0.25,\n",
       "         0.81, 1.  , 0.  , 0.68, 0.  ],\n",
       "        [0.  , 0.25, 0.  , 0.  , 0.67, 0.5 , 0.  , 0.  , 1.  , 1.  ,\n",
       "         0.6 , 0.  , 1.  , 0.  , 1.  ],\n",
       "        [0.  , 0.  , 0.  , 0.  , 1.  , 0.  , 0.  , 0.  , 0.  , 0.  ,\n",
       "         0.  , 0.  , 1.  , 1.  , 0.  ],\n",
       "        [0.  , 0.  , 1.  , 0.  , 1.  , 0.11, 0.  , 0.  , 0.  , 0.5 ,\n",
       "         1.  , 0.33, 1.  , 0.4 , 0.67],\n",
       "        [0.  , 1.  , 0.  , 0.5 , 0.25, 0.  , 0.  , 0.  , 0.  , 0.5 ,\n",
       "         0.71, 0.2 , 0.  , 0.  , 0.95],\n",
       "        [0.  , 0.  , 0.  , 0.  , 0.  , 0.  , 0.  , 0.33, 0.2 , 1.  ,\n",
       "         0.75, 0.  , 0.  , 0.  , 1.  ],\n",
       "        [0.  , 0.  , 0.  , 0.  , 0.  , 0.  , 0.  , 0.  , 0.  , 0.  ,\n",
       "         0.  , 0.43, 0.  , 0.  , 0.97],\n",
       "        [1.  , 1.  , 0.  , 0.  , 0.5 , 0.  , 0.  , 0.12, 0.  , 0.  ,\n",
       "         0.  , 0.11, 0.  , 0.  , 0.94],\n",
       "        [1.  , 1.  , 0.  , 0.  , 0.  , 0.  , 0.  , 0.  , 0.  , 0.  ,\n",
       "         0.22, 0.  , 0.  , 1.  , 0.  ],\n",
       "        [1.  , 1.  , 0.  , 1.  , 0.5 , 0.  , 0.  , 0.  , 0.14, 0.  ,\n",
       "         0.2 , 0.  , 0.  , 0.  , 0.  ],\n",
       "        [1.  , 0.  , 0.  , 0.43, 0.  , 0.  , 0.56, 0.  , 0.  , 0.  ,\n",
       "         0.  , 0.  , 0.  , 0.  , 1.  ],\n",
       "        [1.  , 0.67, 0.  , 1.  , 1.  , 0.  , 0.75, 0.25, 0.  , 0.  ,\n",
       "         0.  , 0.  , 0.  , 0.  , 0.72],\n",
       "        [0.97, 1.  , 0.57, 0.  , 0.  , 0.  , 1.  , 0.  , 0.25, 0.75,\n",
       "         0.  , 0.  , 0.14, 0.  , 1.  ],\n",
       "        [1.  , 0.67, 0.  , 0.  , 0.42, 0.18, 0.4 , 0.  , 0.75, 1.  ,\n",
       "         0.  , 0.  , 1.  , 1.  , 0.88],\n",
       "        [1.  , 1.  , 0.  , 0.  , 1.  , 0.  , 0.67, 0.17, 0.  , 0.67,\n",
       "         0.  , 0.67, 1.  , 1.  , 0.  ]]])"
      ]
     },
     "execution_count": 67,
     "metadata": {},
     "output_type": "execute_result"
    }
   ],
   "source": [
    "propa"
   ]
  },
  {
   "cell_type": "code",
   "execution_count": 68,
   "metadata": {},
   "outputs": [],
   "source": [
    "tagging = suso.taggingSom()"
   ]
  },
  {
   "cell_type": "markdown",
   "metadata": {},
   "source": [
    "#### Function to count the number of death neurons"
   ]
  },
  {
   "cell_type": "code",
   "execution_count": 69,
   "metadata": {
    "scrolled": false
   },
   "outputs": [
    {
     "name": "stdout",
     "output_type": "stream",
     "text": [
      "58\n"
     ]
    }
   ],
   "source": [
    "count_death = 0\n",
    "death = []\n",
    "for i in range(15):\n",
    "    for j in range(15):\n",
    "        if(labels[0, i, j] == 0 and labels[1, i, j] == 0):\n",
    "            count_death = count_death + 1\n",
    "            death.append((i, j))\n",
    "print(count_death)"
   ]
  },
  {
   "cell_type": "code",
   "execution_count": 70,
   "metadata": {},
   "outputs": [],
   "source": [
    "BMUs = [suso.find_closest(instance) for instance in x_test]"
   ]
  },
  {
   "cell_type": "code",
   "execution_count": 71,
   "metadata": {
    "scrolled": true
   },
   "outputs": [
    {
     "data": {
      "text/plain": [
       "[(4, 13), (12, 10), (2, 1), (7, 2)]"
      ]
     },
     "execution_count": 71,
     "metadata": {},
     "output_type": "execute_result"
    }
   ],
   "source": [
    "list(set(death).intersection(BMUs))"
   ]
  },
  {
   "cell_type": "code",
   "execution_count": 72,
   "metadata": {},
   "outputs": [
    {
     "data": {
      "text/plain": [
       "133"
      ]
     },
     "execution_count": 72,
     "metadata": {},
     "output_type": "execute_result"
    }
   ],
   "source": [
    "len(BMUs)"
   ]
  },
  {
   "cell_type": "markdown",
   "metadata": {},
   "source": [
    "#### As the size of the map increase, the number of death neurons increase"
   ]
  },
  {
   "cell_type": "code",
   "execution_count": 18,
   "metadata": {
    "scrolled": true
   },
   "outputs": [],
   "source": [
    "# for i in range(10, 20, 2):\n",
    "#     som = MiniSom(x = i, y = i, input_len = 6, sigma = 1.0, learning_rate = 0.5)\n",
    "#     som.random_weights_init(x_train)\n",
    "#     som.train_random(data = x_train, num_iteration = 100)\n",
    "#     suso = supervisedSom(som, x_train, y_train)\n",
    "#     labels = suso.visualSom()\n",
    "#     count_death = 0\n",
    "#     for i in range(i):\n",
    "#         for j in range(i):\n",
    "#             if(labels[0, i, j] == 0 and labels[1, i, j] == 0):\n",
    "#                 count_death = count_death + 1\n",
    "#     print(count_death)"
   ]
  },
  {
   "cell_type": "code",
   "execution_count": 23,
   "metadata": {},
   "outputs": [],
   "source": [
    "# parameter for LVQ\n",
    "R = 50 # R is the # of initial prototype for each class\n",
    "n_classes = 2\n",
    "epsilon = 0.9\n",
    "epsilon_dec_factor = 0.001\n",
    "p_vectors = SOM_LVQ.init_LVQ_pvectors(som, tagging, x_train, y_train)\n",
    "lvq = SOM_LVQ.SOM_LVQ(x_train, y_train, n_classes=2, n_neurons=R, p_vectors=p_vectors, epsilon=0.9, epsilon_dec_factor=0.001)\n",
    "neurons = lvq.fit(x_train, y_train)"
   ]
  },
  {
   "cell_type": "code",
   "execution_count": 24,
   "metadata": {
    "scrolled": false
   },
   "outputs": [
    {
     "name": "stdout",
     "output_type": "stream",
     "text": [
      "             precision    recall  f1-score   support\n",
      "\n",
      "          0       0.91      0.72      0.80        60\n",
      "          1       0.80      0.95      0.87        73\n",
      "\n",
      "avg / total       0.85      0.84      0.84       133\n",
      "\n"
     ]
    }
   ],
   "source": [
    "predicted_y = [lvq.predict(instance) for instance in x_test]\n",
    "\n",
    "print (classification_report(y_test, predicted_y, target_names=['0', '1']))"
   ]
  },
  {
   "cell_type": "code",
   "execution_count": 25,
   "metadata": {},
   "outputs": [],
   "source": [
    "from sklearn.neighbors import KNeighborsClassifier\n",
    "knn = KNeighborsClassifier(n_neighbors=10)"
   ]
  },
  {
   "cell_type": "code",
   "execution_count": 26,
   "metadata": {},
   "outputs": [
    {
     "data": {
      "text/plain": [
       "KNeighborsClassifier(algorithm='auto', leaf_size=30, metric='minkowski',\n",
       "           metric_params=None, n_jobs=1, n_neighbors=10, p=2,\n",
       "           weights='uniform')"
      ]
     },
     "execution_count": 26,
     "metadata": {},
     "output_type": "execute_result"
    }
   ],
   "source": [
    "knn.fit(x_train, y_train)"
   ]
  },
  {
   "cell_type": "code",
   "execution_count": 27,
   "metadata": {
    "scrolled": true
   },
   "outputs": [
    {
     "name": "stdout",
     "output_type": "stream",
     "text": [
      "             precision    recall  f1-score   support\n",
      "\n",
      "          0       0.88      0.83      0.85        60\n",
      "          1       0.87      0.90      0.89        73\n",
      "\n",
      "avg / total       0.87      0.87      0.87       133\n",
      "\n"
     ]
    }
   ],
   "source": [
    "print (classification_report(y_test, knn.predict(x_test), target_names=['0', '1']))"
   ]
  }
 ],
 "metadata": {
  "kernelspec": {
   "display_name": "Python 3",
   "language": "python",
   "name": "python3"
  },
  "language_info": {
   "codemirror_mode": {
    "name": "ipython",
    "version": 3
   },
   "file_extension": ".py",
   "mimetype": "text/x-python",
   "name": "python",
   "nbconvert_exporter": "python",
   "pygments_lexer": "ipython3",
   "version": "3.6.5"
  }
 },
 "nbformat": 4,
 "nbformat_minor": 2
}
