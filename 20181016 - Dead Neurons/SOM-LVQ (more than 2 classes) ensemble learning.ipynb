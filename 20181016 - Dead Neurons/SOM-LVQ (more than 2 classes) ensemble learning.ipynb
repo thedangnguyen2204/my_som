{
 "cells": [
  {
   "cell_type": "code",
   "execution_count": 1,
   "metadata": {},
   "outputs": [],
   "source": [
    "import numpy as np\n",
    "from sklearn.metrics import euclidean_distances\n",
    "import pandas as pd\n",
    "import minisom\n",
    "from random import randint, choice\n",
    "import LVQ"
   ]
  },
  {
   "cell_type": "code",
   "execution_count": 2,
   "metadata": {},
   "outputs": [
    {
     "name": "stderr",
     "output_type": "stream",
     "text": [
      "C:\\Users\\Thend\\Anaconda3\\lib\\site-packages\\sklearn\\cross_validation.py:41: DeprecationWarning: This module was deprecated in version 0.18 in favor of the model_selection module into which all the refactored classes and functions are moved. Also note that the interface of the new CV iterators are different from that of this module. This module will be removed in 0.20.\n",
      "  \"This module will be removed in 0.20.\", DeprecationWarning)\n"
     ]
    }
   ],
   "source": [
    "data = pd.read_csv(r\"../data/SD-2X_rocktype.csv\")\n",
    "x = data.iloc[:, 0:6].values\n",
    "y = data.iloc[:, 6].values\n",
    "y [y==4] = 0\n",
    "from sklearn.cross_validation import train_test_split\n",
    "x_train, x_test, y_train, y_test = train_test_split(x, y, test_size=0.25, random_state=44)\n",
    "\n",
    "# use Minmaxscaler because we use euclidean distance\n",
    "from sklearn.preprocessing import MinMaxScaler\n",
    "minmax = MinMaxScaler()\n",
    "x_train = minmax.fit_transform(x_train)\n",
    "x_test = minmax.transform(x_test)"
   ]
  },
  {
   "cell_type": "code",
   "execution_count": 3,
   "metadata": {
    "scrolled": true
   },
   "outputs": [
    {
     "data": {
      "text/html": [
       "<div>\n",
       "<style scoped>\n",
       "    .dataframe tbody tr th:only-of-type {\n",
       "        vertical-align: middle;\n",
       "    }\n",
       "\n",
       "    .dataframe tbody tr th {\n",
       "        vertical-align: top;\n",
       "    }\n",
       "\n",
       "    .dataframe thead th {\n",
       "        text-align: right;\n",
       "    }\n",
       "</style>\n",
       "<table border=\"1\" class=\"dataframe\">\n",
       "  <thead>\n",
       "    <tr style=\"text-align: right;\">\n",
       "      <th></th>\n",
       "      <th>GR_F</th>\n",
       "      <th>NPHIC</th>\n",
       "      <th>RHOBC</th>\n",
       "      <th>DTC</th>\n",
       "      <th>VCL_FINAL</th>\n",
       "      <th>PHIE_FINAL</th>\n",
       "      <th>TypeRock</th>\n",
       "    </tr>\n",
       "  </thead>\n",
       "  <tbody>\n",
       "    <tr>\n",
       "      <th>0</th>\n",
       "      <td>38.6034</td>\n",
       "      <td>0.2335</td>\n",
       "      <td>2.263</td>\n",
       "      <td>79.249</td>\n",
       "      <td>0.0687</td>\n",
       "      <td>0.2262</td>\n",
       "      <td>1</td>\n",
       "    </tr>\n",
       "    <tr>\n",
       "      <th>1</th>\n",
       "      <td>37.3566</td>\n",
       "      <td>0.2143</td>\n",
       "      <td>2.279</td>\n",
       "      <td>78.297</td>\n",
       "      <td>0.0617</td>\n",
       "      <td>0.2174</td>\n",
       "      <td>1</td>\n",
       "    </tr>\n",
       "    <tr>\n",
       "      <th>2</th>\n",
       "      <td>37.9742</td>\n",
       "      <td>0.1999</td>\n",
       "      <td>2.279</td>\n",
       "      <td>73.672</td>\n",
       "      <td>0.0652</td>\n",
       "      <td>0.2169</td>\n",
       "      <td>1</td>\n",
       "    </tr>\n",
       "    <tr>\n",
       "      <th>3</th>\n",
       "      <td>39.3757</td>\n",
       "      <td>0.1950</td>\n",
       "      <td>2.333</td>\n",
       "      <td>72.702</td>\n",
       "      <td>0.0731</td>\n",
       "      <td>0.1833</td>\n",
       "      <td>2</td>\n",
       "    </tr>\n",
       "    <tr>\n",
       "      <th>4</th>\n",
       "      <td>44.2722</td>\n",
       "      <td>0.2019</td>\n",
       "      <td>2.401</td>\n",
       "      <td>68.824</td>\n",
       "      <td>0.1022</td>\n",
       "      <td>0.1385</td>\n",
       "      <td>3</td>\n",
       "    </tr>\n",
       "  </tbody>\n",
       "</table>\n",
       "</div>"
      ],
      "text/plain": [
       "      GR_F   NPHIC  RHOBC     DTC  VCL_FINAL  PHIE_FINAL  TypeRock\n",
       "0  38.6034  0.2335  2.263  79.249     0.0687      0.2262         1\n",
       "1  37.3566  0.2143  2.279  78.297     0.0617      0.2174         1\n",
       "2  37.9742  0.1999  2.279  73.672     0.0652      0.2169         1\n",
       "3  39.3757  0.1950  2.333  72.702     0.0731      0.1833         2\n",
       "4  44.2722  0.2019  2.401  68.824     0.1022      0.1385         3"
      ]
     },
     "execution_count": 3,
     "metadata": {},
     "output_type": "execute_result"
    }
   ],
   "source": [
    "data.head()"
   ]
  },
  {
   "cell_type": "code",
   "execution_count": 4,
   "metadata": {},
   "outputs": [
    {
     "data": {
      "text/plain": [
       "array([0, 1, 2, 3], dtype=int64)"
      ]
     },
     "execution_count": 4,
     "metadata": {},
     "output_type": "execute_result"
    }
   ],
   "source": [
    "np.unique(y)"
   ]
  },
  {
   "cell_type": "code",
   "execution_count": 5,
   "metadata": {},
   "outputs": [],
   "source": [
    "x_train1 = x_train[0:331]\n",
    "x_train2 = x_train[332:663]\n",
    "x_train3 = x_train[664:995]\n",
    "\n",
    "y_train1 = y_train[0:331]\n",
    "y_train2 = y_train[332:663]\n",
    "y_train3 = y_train[664:995]"
   ]
  },
  {
   "cell_type": "code",
   "execution_count": 6,
   "metadata": {},
   "outputs": [],
   "source": [
    "epsilon = 0.9\n",
    "epsilon_dec_factor = 0.001"
   ]
  },
  {
   "cell_type": "code",
   "execution_count": 7,
   "metadata": {},
   "outputs": [],
   "source": [
    "# Training the SOM\n",
    "from minisom import MiniSom\n",
    "som1 = MiniSom(x = 10, y = 10, input_len = 6, sigma = 1.0, learning_rate = 0.5)\n",
    "som1.random_weights_init(x_train1)\n",
    "som1.train_random(data = x_train1, num_iteration = 100)"
   ]
  },
  {
   "cell_type": "code",
   "execution_count": 8,
   "metadata": {},
   "outputs": [],
   "source": [
    "labels = np.zeros((4, 10, 10))"
   ]
  },
  {
   "cell_type": "code",
   "execution_count": 9,
   "metadata": {
    "scrolled": true
   },
   "outputs": [
    {
     "data": {
      "text/plain": [
       "<Figure size 640x480 with 2 Axes>"
      ]
     },
     "metadata": {},
     "output_type": "display_data"
    }
   ],
   "source": [
    "# Visualizing the results\n",
    "from pylab import bone, pcolor, colorbar, plot, show\n",
    "bone()\n",
    "pcolor(som1.distance_map().T)\n",
    "colorbar()\n",
    "markers = ['v', 's', 'o', '4']\n",
    "colors = ['r', 'g', 'b', 'y']\n",
    "for i, x in enumerate(x_train1):\n",
    "    w = som1.winner(x)\n",
    "    plot(w[0] + 0.5,\n",
    "         w[1] + 0.5,\n",
    "         markers[y_train1[i]],\n",
    "         markeredgecolor = colors[y_train1[i]],\n",
    "         markerfacecolor = 'None',\n",
    "         markersize = 10,\n",
    "         markeredgewidth = 2)\n",
    "    if y_train1[i] == 0:\n",
    "        labels[0, w[0], w[1]] += 1\n",
    "    elif y_train1[i] == 1:\n",
    "        labels[1, w[0], w[1]] += 1\n",
    "    elif y_train1[i] == 2:\n",
    "        labels[2, w[0], w[1]] += 1\n",
    "    elif y_train1[i] == 3:\n",
    "        labels[3, w[0], w[1]] += 1\n",
    "show()"
   ]
  },
  {
   "cell_type": "code",
   "execution_count": 10,
   "metadata": {},
   "outputs": [
    {
     "name": "stderr",
     "output_type": "stream",
     "text": [
      "C:\\Users\\Thend\\Anaconda3\\lib\\site-packages\\ipykernel_launcher.py:6: RuntimeWarning: divide by zero encountered in double_scalars\n",
      "  \n",
      "C:\\Users\\Thend\\Anaconda3\\lib\\site-packages\\ipykernel_launcher.py:6: RuntimeWarning: invalid value encountered in double_scalars\n",
      "  \n"
     ]
    }
   ],
   "source": [
    "taggings = np.zeros((10, 10))\n",
    "for i in range(10):\n",
    "    for j in range(10):\n",
    "        tmp = np.array([labels[0][i][j], labels[1][i][j], labels[2][i][j], labels[3][i][j]])\n",
    "        sort = tmp.argsort()\n",
    "        if (tmp[sort[3]]/tmp[sort[2]] < 5): # must be improve\n",
    "            taggings[i][j] = np.random.choice([sort[3], sort[2]])\n",
    "        else:\n",
    "            taggings[i][j] = sort[3]"
   ]
  },
  {
   "cell_type": "code",
   "execution_count": 11,
   "metadata": {},
   "outputs": [
    {
     "data": {
      "text/plain": [
       "33"
      ]
     },
     "execution_count": 11,
     "metadata": {},
     "output_type": "execute_result"
    }
   ],
   "source": [
    "tmp = np.array([3, 2, 33, 4])\n",
    "sort = tmp.argsort()\n",
    "tmp[sort[3]]"
   ]
  },
  {
   "cell_type": "code",
   "execution_count": 12,
   "metadata": {},
   "outputs": [
    {
     "data": {
      "text/plain": [
       "(10, 10, 6)"
      ]
     },
     "execution_count": 12,
     "metadata": {},
     "output_type": "execute_result"
    }
   ],
   "source": [
    "som1.weights.shape"
   ]
  },
  {
   "cell_type": "code",
   "execution_count": 13,
   "metadata": {
    "scrolled": true
   },
   "outputs": [
    {
     "name": "stdout",
     "output_type": "stream",
     "text": [
      "class id \t Initial prototype vector \n",
      "\n",
      "0 \t [0.36632067 0.29629053 0.68765804 0.29182869 0.46436619 0.06593613]\n",
      "0 \t [0.2795475  0.22686628 0.84069063 0.24383649 0.30224342 0.11321148]\n",
      "0 \t [0.3352314  0.32086388 0.67471892 0.41174654 0.32425985 0.23396794]\n",
      "0 \t [0.41780689 0.37770708 0.52245041 0.47814359 0.38281316 0.18615349]\n",
      "3 \t [0.40532969 0.42387955 0.39194987 0.53241986 0.3932854  0.25350534]\n",
      "0 \t [0.38750008 0.41486892 0.3696962  0.54296335 0.44853725 0.21226711]\n",
      "0 \t [0.38592042 0.40865065 0.33635421 0.53897768 0.48422401 0.21439704]\n",
      "0 \t [0.37914907 0.43551105 0.30730377 0.54841941 0.45530911 0.25312106]\n",
      "0 \t [0.38217362 0.45299982 0.29731645 0.56951587 0.39114884 0.28808277]\n",
      "3 \t [0.3149542  0.34769613 0.57750428 0.49427196 0.33580112 0.29888609]\n",
      "0 \t [0.40436689 0.34072768 0.5825203  0.39123711 0.47303428 0.06507123]\n",
      "0 \t [0.3698503  0.31641857 0.65620177 0.38908697 0.41112336 0.10990079]\n",
      "0 \t [0.37948895 0.34823266 0.59697638 0.45165796 0.39223073 0.14318343]\n",
      "0 \t [0.36552753 0.3295995  0.65466478 0.39947281 0.37069174 0.17937929]\n",
      "0 \t [0.41375394 0.38114106 0.46723199 0.49190693 0.43236081 0.19059154]\n",
      "3 \t [0.37293296 0.3885749  0.45392237 0.51854256 0.42811041 0.22742059]\n",
      "0 \t [0.37471836 0.40882991 0.30356444 0.56433626 0.46112859 0.2630169 ]\n",
      "0 \t [0.36169506 0.43773453 0.26645673 0.56593585 0.44792609 0.29265133]\n",
      "3 \t [0.36016282 0.44650084 0.25400804 0.57648956 0.41120616 0.32398912]\n",
      "3 \t [0.35343701 0.441406   0.258861   0.58638795 0.38077997 0.35268937]\n",
      "0 \t [0.41910299 0.3647895  0.45734936 0.48190893 0.4966097  0.05705653]\n",
      "0 \t [0.41468175 0.36821651 0.46913899 0.4876366  0.47343624 0.10214172]\n",
      "0 \t [0.4020944  0.37876401 0.46703127 0.49536245 0.44934756 0.17158825]\n",
      "3 \t [0.40849922 0.37114845 0.4910285  0.47827329 0.4223598  0.21710619]\n",
      "3 \t [0.39697521 0.40004916 0.46290177 0.4978708  0.39916884 0.24674319]\n",
      "3 \t [0.37860483 0.40879103 0.42011338 0.519778   0.41721251 0.26233104]\n",
      "0 \t [0.3637334  0.42428348 0.328412   0.56604946 0.40775298 0.30520916]\n",
      "3 \t [0.34729889 0.44741271 0.2619668  0.57701238 0.40534235 0.33664973]\n",
      "3 \t [0.33760992 0.45477302 0.22845242 0.58639004 0.38635585 0.36590492]\n",
      "3 \t [0.34717758 0.44932645 0.24183799 0.58829606 0.3840637  0.35424664]\n",
      "0 \t [0.42293571 0.35055262 0.43119431 0.47775314 0.53036477 0.05267699]\n",
      "0 \t [0.40860487 0.37344656 0.44742303 0.48662107 0.49263908 0.1178942 ]\n",
      "0 \t [0.39782344 0.38479859 0.43575704 0.50025211 0.46872324 0.18392584]\n",
      "0 \t [0.39975746 0.39335628 0.43914044 0.49760286 0.42716752 0.25007956]\n",
      "3 \t [0.38218698 0.40987395 0.43164747 0.51319459 0.37744931 0.30623561]\n",
      "3 \t [0.36206352 0.41272664 0.41323004 0.543635   0.36638591 0.31309746]\n",
      "3 \t [0.34168312 0.41656814 0.39145699 0.56549868 0.34617804 0.34184363]\n",
      "3 \t [0.33571254 0.45152521 0.31570112 0.59010405 0.3371695  0.34906848]\n",
      "3 \t [0.32838553 0.46560945 0.2660747  0.58820819 0.34589901 0.37274662]\n",
      "3 \t [0.32450799 0.46907701 0.24594364 0.58715834 0.3500957  0.3832116 ]\n",
      "0 \t [0.40601236 0.33858213 0.46430267 0.47951873 0.51422598 0.10282305]\n",
      "0 \t [0.39783927 0.36305987 0.46869469 0.49081512 0.47372656 0.15786193]\n",
      "3 \t [0.3955843  0.38526227 0.44465468 0.50600608 0.4340523  0.2300537 ]\n",
      "0 \t [0.38466132 0.40141691 0.43175803 0.50756014 0.37473792 0.3262504 ]\n",
      "3 \t [0.37223929 0.41321519 0.42209746 0.52514417 0.33669701 0.35125998]\n",
      "3 \t [0.35132632 0.42020469 0.40746532 0.54343755 0.33058002 0.35966975]\n",
      "3 \t [0.32107487 0.43702469 0.35382013 0.58902738 0.29053494 0.38648138]\n",
      "3 \t [0.31071485 0.44976584 0.41146176 0.58662657 0.2622296  0.34492186]\n",
      "3 \t [0.31547457 0.47704678 0.31217214 0.5935215  0.3040601  0.3615666 ]\n",
      "3 \t [0.30654235 0.50107053 0.24499454 0.5757836  0.31558649 0.40474214]\n",
      "0 \t [0.40498222 0.35880486 0.39760194 0.55226646 0.42403642 0.25368494]\n",
      "0 \t [0.40125569 0.36856254 0.45501463 0.52198209 0.40808226 0.23899955]\n",
      "3 \t [0.38617676 0.37749557 0.46456958 0.51617444 0.36825526 0.3008184 ]\n",
      "3 \t [0.35398341 0.3874109  0.4273039  0.5366856  0.28406051 0.41629089]\n",
      "3 \t [0.36760913 0.39700805 0.40355331 0.54526937 0.31368809 0.38558262]\n",
      "3 \t [0.32222011 0.43466225 0.32284866 0.57094613 0.2676401  0.45321183]\n",
      "3 \t [0.28132218 0.42925579 0.40708011 0.54998579 0.22518098 0.46657501]\n",
      "3 \t [0.32000995 0.45033856 0.32131903 0.59849899 0.29985298 0.37872158]\n",
      "3 \t [0.30584291 0.46286555 0.30384079 0.59974505 0.28036165 0.40199452]\n",
      "3 \t [0.30123437 0.46815153 0.30011168 0.58588235 0.26866758 0.42963308]\n",
      "0 \t [0.37141116 0.41021319 0.46465402 0.51054682 0.4005547  0.23827173]\n",
      "3 \t [0.37002577 0.35225358 0.50524091 0.52231238 0.34609511 0.30189057]\n",
      "3 \t [0.36394063 0.34251553 0.51075238 0.51966725 0.28378386 0.37252517]\n",
      "3 \t [0.31665476 0.35253448 0.51292423 0.52724832 0.23879508 0.42112238]\n",
      "2 \t [0.29904267 0.36621341 0.45737312 0.54300895 0.21949603 0.47353333]\n",
      "2 \t [0.27573734 0.44528457 0.23427541 0.57788833 0.17854513 0.55224299]\n",
      "2 \t [0.2944113  0.49138501 0.22381821 0.57171124 0.19802241 0.5056694 ]\n",
      "3 \t [0.31393003 0.4614941  0.25416068 0.58941605 0.2321176  0.47178769]\n",
      "3 \t [0.3297138  0.42575103 0.32895545 0.58571717 0.29056078 0.41752007]\n",
      "3 \t [0.25921719 0.41776925 0.47760076 0.50711366 0.23820483 0.46504517]\n",
      "3 \t [0.31081932 0.41873578 0.50410195 0.57343981 0.18944749 0.33046839]\n",
      "3 \t [0.33213354 0.3301738  0.575163   0.51210035 0.29535694 0.31682426]\n",
      "2 \t [0.28365591 0.35003265 0.46907748 0.54708838 0.20694694 0.48461331]\n",
      "2 \t [0.31224199 0.36542831 0.45002648 0.55404749 0.2532721  0.44195915]\n",
      "2 \t [0.29406813 0.4020694  0.35981424 0.56702868 0.23216102 0.4969684 ]\n",
      "2 \t [0.25173449 0.44445677 0.20533233 0.5770559  0.15227989 0.58373272]\n",
      "1 \t [0.23300063 0.45866965 0.14633438 0.58087519 0.12392489 0.60095403]\n",
      "3 \t [0.28516101 0.45373629 0.2042317  0.5951418  0.17790711 0.53408922]\n",
      "3 \t [0.32611748 0.43266919 0.2790641  0.59528752 0.2624716  0.45311082]\n",
      "3 \t [0.33462626 0.42741494 0.39418842 0.55198231 0.3214049  0.37679125]\n",
      "3 \t [0.26219844 0.5830848  0.38715378 0.45292461 0.24322963 0.42080243]\n",
      "3 \t [0.27057267 0.33176586 0.5888846  0.49297298 0.21589214 0.42462335]\n",
      "0 \t [0.20698993 0.30066039 0.67851541 0.44106114 0.1666162  0.42904481]\n",
      "3 \t [0.23787007 0.33212068 0.53955351 0.50150906 0.17218481 0.51072179]\n",
      "1 \t [0.23194796 0.38563265 0.33516211 0.56576027 0.14490216 0.58657705]\n",
      "1 \t [0.21421019 0.4254979  0.18590107 0.57608307 0.11126163 0.62789766]\n",
      "1 \t [0.17390455 0.42079406 0.10157875 0.57697793 0.07756615 0.66592138]\n",
      "1 \t [0.25445678 0.44195978 0.18409373 0.59094816 0.15468063 0.57696358]\n",
      "3 \t [0.35382945 0.45039416 0.29761488 0.58453378 0.2809977  0.4034052 ]\n",
      "3 \t [0.35782834 0.44446351 0.34820604 0.56983271 0.29648744 0.37489932]\n",
      "3 \t [0.33528268 0.38580075 0.44388981 0.5365783  0.39851118 0.30818454]\n",
      "3 \t [0.32528082 0.39430904 0.50526958 0.52656467 0.28222605 0.35565928]\n",
      "2 \t [0.18146258 0.34795643 0.45667203 0.52463289 0.11071751 0.59156595]\n",
      "2 \t [0.25855498 0.41453874 0.3920364  0.48475727 0.18739924 0.58095295]\n",
      "3 \t [0.23767385 0.37502362 0.53982028 0.48260432 0.18637838 0.49377998]\n",
      "2 \t [0.24307158 0.43115808 0.2407213  0.57555539 0.18415363 0.57610381]\n",
      "3 \t [0.21583606 0.4516479  0.16422264 0.58376463 0.1302176  0.60392229]\n",
      "3 \t [0.29215901 0.43874278 0.24514357 0.5902508  0.22409153 0.51326357]\n",
      "3 \t [0.36693676 0.45955965 0.31498029 0.59060374 0.29927477 0.34142583]\n",
      "2 \t [0.34910601 0.47870064 0.25596437 0.58882067 0.22570598 0.43104521]\n"
     ]
    }
   ],
   "source": [
    "p_vectors = []\n",
    "for i in range(10):\n",
    "    for j in range(10):\n",
    "        if(taggings[i][j] == 0):\n",
    "            p = LVQ.prototype(0, som1.weights[(i,j)], epsilon)\n",
    "            p_vectors.append(p)\n",
    "        elif(taggings[i][j] == 1):\n",
    "            p = LVQ.prototype(1, som1.weights[(i,j)], epsilon)\n",
    "            p_vectors.append(p)\n",
    "        elif(taggings[i][j] == 2):\n",
    "            p = LVQ.prototype(2, som1.weights[(i,j)], epsilon)\n",
    "            p_vectors.append(p)\n",
    "        elif(taggings[i][j] == 3):\n",
    "            p = LVQ.prototype(3, som1.weights[(i,j)], epsilon)\n",
    "            p_vectors.append(p)\n",
    "print(\"class id \\t Initial prototype vector \\n\")\n",
    "for p_v in p_vectors:\n",
    "    print(p_v.class_id, '\\t', p_v.p_vector)"
   ]
  },
  {
   "cell_type": "code",
   "execution_count": 14,
   "metadata": {},
   "outputs": [],
   "source": [
    "# n_neurons only used when p_vectors not initialized\n",
    "lvq1 = LVQ.LVQ(x_train1, y_train1, n_classes=2, n_neurons=0, p_vectors=p_vectors, epsilon=0.9, epsilon_dec_factor=0.001) \n",
    "neurons = lvq1.fit(x_train1, y_train1)"
   ]
  },
  {
   "cell_type": "code",
   "execution_count": 15,
   "metadata": {
    "scrolled": true
   },
   "outputs": [
    {
     "name": "stdout",
     "output_type": "stream",
     "text": [
      "             precision    recall  f1-score   support\n",
      "\n",
      "          0       0.95      0.90      0.93       138\n",
      "          1       0.90      0.78      0.83        55\n",
      "          2       0.50      0.21      0.30        28\n",
      "          3       0.72      0.93      0.81       108\n",
      "\n",
      "avg / total       0.83      0.83      0.82       329\n",
      "\n"
     ]
    }
   ],
   "source": [
    "predicted_y1 = [lvq1.predict(instance) for instance in x_test]\n",
    "\n",
    "from sklearn.metrics import classification_report\n",
    "\n",
    "print (classification_report(y_test, predicted_y1, target_names=['0','1', '2', '3']))"
   ]
  },
  {
   "cell_type": "code",
   "execution_count": 16,
   "metadata": {
    "scrolled": true
   },
   "outputs": [
    {
     "name": "stdout",
     "output_type": "stream",
     "text": [
      "             precision    recall  f1-score   support\n",
      "\n",
      "          0       0.96      0.86      0.91       558\n",
      "          1       0.84      0.84      0.84       165\n",
      "          2       0.48      0.19      0.28       139\n",
      "          3       0.71      0.93      0.81       453\n",
      "\n",
      "avg / total       0.81      0.81      0.80      1315\n",
      "\n"
     ]
    }
   ],
   "source": [
    "data_new = pd.read_csv(r\"../data/SD-3X_rocktype.csv\")\n",
    "x_new = data.iloc[:, 0:6].values\n",
    "y_new = data.iloc[:, 6].values\n",
    "y_new[y_new == 4] = 0\n",
    "x_new = minmax.fit_transform(x_new)\n",
    "predicted_y_new = [lvq1.predict(instance) for instance in x_new]\n",
    "\n",
    "from sklearn.metrics import classification_report\n",
    "\n",
    "print (classification_report(y_new, predicted_y_new, target_names=['0', '1', '2', '3']))"
   ]
  },
  {
   "cell_type": "code",
   "execution_count": 17,
   "metadata": {},
   "outputs": [],
   "source": [
    "# Training the SOM\n",
    "from minisom import MiniSom\n",
    "som2 = MiniSom(x = 10, y = 10, input_len = 6, sigma = 1.0, learning_rate = 0.5)\n",
    "som2.random_weights_init(x_train2)\n",
    "som2.train_random(data = x_train2, num_iteration = 100)"
   ]
  },
  {
   "cell_type": "code",
   "execution_count": 18,
   "metadata": {},
   "outputs": [],
   "source": [
    "labels = np.zeros((4, 10, 10))"
   ]
  },
  {
   "cell_type": "code",
   "execution_count": 19,
   "metadata": {
    "scrolled": false
   },
   "outputs": [
    {
     "data": {
      "image/png": "[encoded data removed]",
      "text/plain": [
       "<Figure size 432x288 with 2 Axes>"
      ]
     },
     "metadata": {},
     "output_type": "display_data"
    }
   ],
   "source": [
    "# Visualizing the results\n",
    "from pylab import bone, pcolor, colorbar, plot, show\n",
    "bone()\n",
    "pcolor(som2.distance_map().T)\n",
    "colorbar()\n",
    "markers = ['v', 's', 'o', '4']\n",
    "colors = ['r', 'g', 'b', 'y']\n",
    "for i, x in enumerate(x_train2):\n",
    "    w = som2.winner(x)\n",
    "    plot(w[0] + 0.5,\n",
    "         w[1] + 0.5,\n",
    "         markers[y_train2[i]],\n",
    "         markeredgecolor = colors[y_train2[i]],\n",
    "         markerfacecolor = 'None',\n",
    "         markersize = 10,\n",
    "         markeredgewidth = 2)\n",
    "    if y_train2[i] == 0:\n",
    "        labels[0, w[0], w[1]] += 1\n",
    "    elif y_train2[i] == 1:\n",
    "        labels[1, w[0], w[1]] += 1\n",
    "    elif y_train2[i] == 2:\n",
    "        labels[2, w[0], w[1]] += 1\n",
    "    elif y_train2[i] == 3:\n",
    "        labels[3, w[0], w[1]] += 1\n",
    "show()"
   ]
  },
  {
   "cell_type": "code",
   "execution_count": 20,
   "metadata": {},
   "outputs": [
    {
     "name": "stderr",
     "output_type": "stream",
     "text": [
      "C:\\Users\\Thend\\Anaconda3\\lib\\site-packages\\ipykernel_launcher.py:6: RuntimeWarning: divide by zero encountered in double_scalars\n",
      "  \n",
      "C:\\Users\\Thend\\Anaconda3\\lib\\site-packages\\ipykernel_launcher.py:6: RuntimeWarning: invalid value encountered in double_scalars\n",
      "  \n"
     ]
    }
   ],
   "source": [
    "taggings = np.zeros((10, 10))\n",
    "for i in range(10):\n",
    "    for j in range(10):\n",
    "        tmp = np.array([labels[0][i][j], labels[1][i][j], labels[2][i][j], labels[3][i][j]])\n",
    "        sort = tmp.argsort()\n",
    "        if (tmp[sort[3]]/tmp[sort[2]] < 5):\n",
    "            taggings[i][j] = np.random.choice([sort[3], sort[2]])\n",
    "        else:\n",
    "            taggings[i][j] = sort[3]"
   ]
  },
  {
   "cell_type": "code",
   "execution_count": 21,
   "metadata": {
    "scrolled": true
   },
   "outputs": [
    {
     "name": "stdout",
     "output_type": "stream",
     "text": [
      "class id \t Initial prototype vector \n",
      "\n",
      "3 \t [0.32655327 0.43027838 0.45524469 0.54304086 0.24444818 0.38252772]\n",
      "3 \t [0.19426368 0.28796908 0.68758124 0.45423317 0.21922846 0.39010072]\n",
      "0 \t [0.0742629  0.14047105 0.92103956 0.22367259 0.08331146 0.26356936]\n",
      "0 \t [0.07558907 0.1040529  0.94858332 0.18378303 0.07888914 0.20892409]\n",
      "0 \t [0.1530285  0.18215851 0.88596959 0.2728992  0.16819329 0.2359989 ]\n",
      "3 \t [0.28982971 0.30689407 0.71991225 0.39718332 0.3239506  0.20209537]\n",
      "0 \t [0.35747105 0.31212689 0.70087172 0.36967847 0.37154711 0.09413109]\n",
      "0 \t [0.42641808 0.32566792 0.56572092 0.41999723 0.46115092 0.0548636 ]\n",
      "0 \t [0.41731918 0.38595054 0.49512132 0.47098011 0.43655999 0.13904992]\n",
      "0 \t [0.399215   0.3465005  0.47990375 0.52430185 0.43360518 0.16538228]\n",
      "3 \t [0.33245975 0.31453544 0.49953008 0.49134717 0.51433488 0.18720378]\n",
      "3 \t [0.1829128  0.29369095 0.59167241 0.4595174  0.15614179 0.54284049]\n",
      "0 \t [0.14860616 0.20390774 0.85171557 0.31308109 0.14846838 0.30142296]\n",
      "3 \t [0.14020168 0.17296524 0.89607325 0.25032481 0.1415578  0.25451546]\n",
      "3 \t [0.21998035 0.29952333 0.74001577 0.39354192 0.20506262 0.3425568 ]\n",
      "3 \t [0.30963745 0.40105718 0.56666904 0.48103325 0.25831046 0.35220265]\n",
      "0 \t [0.32809646 0.33788366 0.68343862 0.39375039 0.3453635  0.19179071]\n",
      "0 \t [0.42762518 0.36209384 0.50363139 0.46293818 0.45846851 0.08874147]\n",
      "0 \t [0.41754593 0.38106272 0.45665034 0.4932332  0.45697702 0.14074829]\n",
      "0 \t [0.40137026 0.38635763 0.38791383 0.54458073 0.43458981 0.23176729]\n",
      "1 \t [0.23572465 0.4383111  0.35811087 0.54221555 0.1294882  0.5597401 ]\n",
      "2 \t [0.1835392  0.37523202 0.42130785 0.52843322 0.15565732 0.58697796]\n",
      "3 \t [0.12246885 0.2643809  0.74599446 0.37821238 0.11886315 0.44880212]\n",
      "2 \t [0.2794273  0.35500305 0.59549512 0.47310645 0.2486968  0.39446035]\n",
      "2 \t [0.31051947 0.39887452 0.47961917 0.51052943 0.25843349 0.43245123]\n",
      "3 \t [0.30500078 0.45282111 0.38373931 0.53012193 0.2702469  0.44789403]\n",
      "3 \t [0.31378381 0.3992192  0.54535841 0.47977619 0.32562601 0.32943962]\n",
      "0 \t [0.39588349 0.40194745 0.41812187 0.52071948 0.43662677 0.21236031]\n",
      "0 \t [0.39903578 0.39091867 0.40148438 0.51379879 0.48375847 0.16956376]\n",
      "0 \t [0.39392988 0.38076349 0.40920599 0.50821177 0.49645906 0.16624701]\n",
      "1 \t [0.19716324 0.37052001 0.26566956 0.56971945 0.13759547 0.640116  ]\n",
      "2 \t [0.1693467  0.34574981 0.40523618 0.52252313 0.12374211 0.63183849]\n",
      "2 \t [0.24857062 0.43774404 0.36567693 0.53738919 0.22733351 0.52192482]\n",
      "3 \t [0.30209478 0.4410233  0.36863738 0.54021332 0.27436703 0.45960415]\n",
      "3 \t [0.31319104 0.45736873 0.35401272 0.52287914 0.25636589 0.47778044]\n",
      "3 \t [0.31158531 0.51987429 0.31010653 0.52453085 0.27925154 0.42821166]\n",
      "3 \t [0.34239485 0.47364775 0.36508158 0.53400034 0.34078954 0.35191638]\n",
      "0 \t [0.3640223  0.42343674 0.39995861 0.53116277 0.42032574 0.26346647]\n",
      "0 \t [0.38383909 0.39867979 0.36078805 0.52885112 0.49260094 0.20301419]\n",
      "0 \t [0.39079439 0.37990866 0.37163772 0.51267817 0.52652316 0.15738175]\n",
      "1 \t [0.16934905 0.36527775 0.12322506 0.57682814 0.08760012 0.69448122]\n",
      "3 \t [0.19372402 0.40864744 0.20843981 0.56770188 0.12263473 0.64397703]\n",
      "1 \t [0.25354876 0.48073752 0.15155643 0.5764684  0.19626333 0.5574944 ]\n",
      "3 \t [0.29316155 0.48020618 0.20404529 0.57735329 0.26404531 0.48863801]\n",
      "2 \t [0.31442493 0.4637608  0.24058993 0.57038851 0.28973748 0.46785522]\n",
      "3 \t [0.3302942  0.48394531 0.30583202 0.55368213 0.31909881 0.39342281]\n",
      "3 \t [0.34187327 0.46122129 0.35916978 0.54835107 0.35314876 0.34057556]\n",
      "0 \t [0.3652755  0.43647166 0.36034535 0.54660296 0.40738052 0.28545376]\n",
      "3 \t [0.38075046 0.40621152 0.3711653  0.53350283 0.46580147 0.22508073]\n",
      "0 \t [0.38397004 0.38906078 0.36062853 0.53504702 0.4827332  0.22768205]\n",
      "2 \t [0.19463676 0.39563599 0.14381398 0.58683165 0.10008063 0.65613925]\n",
      "1 \t [0.23763833 0.45465751 0.13246723 0.58729494 0.16635742 0.58879272]\n",
      "3 \t [0.23998089 0.47987956 0.0708362  0.57991381 0.19361969 0.57733734]\n",
      "3 \t [0.27658011 0.47860544 0.12145125 0.59321656 0.24449466 0.51769329]\n",
      "3 \t [0.31860199 0.45230598 0.20942604 0.60067203 0.30462551 0.44322593]\n",
      "3 \t [0.33892267 0.45726563 0.28226985 0.5789419  0.33690599 0.38429666]\n",
      "3 \t [0.35655768 0.45475943 0.33560797 0.56032799 0.36052324 0.33088261]\n",
      "3 \t [0.37521598 0.43503093 0.36693499 0.54982398 0.38185034 0.29530269]\n",
      "3 \t [0.38474789 0.4234566  0.36213656 0.55328238 0.40126898 0.27271321]\n",
      "3 \t [0.3830795  0.39392061 0.34287263 0.5476326  0.41988755 0.32296748]\n",
      "1 \t [0.26308338 0.42370353 0.25611401 0.58310474 0.172496   0.56205165]\n",
      "3 \t [0.31215954 0.44062069 0.2068697  0.59904553 0.259228   0.48944872]\n",
      "3 \t [0.28770219 0.46722277 0.15037427 0.59653165 0.27740883 0.4934696 ]\n",
      "3 \t [0.31090533 0.45134958 0.16921098 0.60261013 0.32538407 0.44941663]\n",
      "0 \t [0.32586318 0.43205774 0.17842082 0.61249033 0.35767961 0.41500144]\n",
      "3 \t [0.34377653 0.43775524 0.24236708 0.59661306 0.35345538 0.38803144]\n",
      "3 \t [0.35172988 0.4452631  0.33122035 0.5684872  0.34412858 0.3559744 ]\n",
      "3 \t [0.37087412 0.45989319 0.31059099 0.57494429 0.32279565 0.34601433]\n",
      "3 \t [0.36757632 0.43784388 0.31884401 0.58170845 0.34029871 0.34253606]\n",
      "3 \t [0.3582508  0.44699018 0.33667117 0.57310584 0.33005899 0.34802216]\n",
      "2 \t [0.32467019 0.44610689 0.32281406 0.58542988 0.24845444 0.43233233]\n",
      "3 \t [0.35333225 0.42389292 0.3775778  0.5619111  0.30239099 0.38173515]\n",
      "3 \t [0.33770856 0.41724603 0.37169381 0.56942812 0.36367397 0.34233792]\n",
      "0 \t [0.35875646 0.42160117 0.26137326 0.58815129 0.41266744 0.33017255]\n",
      "0 \t [0.35245154 0.41641442 0.22656566 0.60311534 0.40239945 0.35407841]\n",
      "3 \t [0.35362896 0.43154195 0.23996538 0.59991976 0.36841607 0.36810406]\n",
      "3 \t [0.36568183 0.44025812 0.29740629 0.57985801 0.37197376 0.33075564]\n",
      "3 \t [0.35774881 0.44278189 0.30673554 0.58489601 0.31613918 0.3739331 ]\n",
      "3 \t [0.3638859  0.43813928 0.34109096 0.59286619 0.29595004 0.34670049]\n",
      "2 \t [0.34795929 0.43416662 0.37476766 0.59751992 0.25593347 0.35698863]\n",
      "0 \t [0.40606233 0.41747166 0.45960732 0.51573971 0.38181314 0.19448183]\n",
      "0 \t [0.40671943 0.42416063 0.40921069 0.53457344 0.39741002 0.20859098]\n",
      "3 \t [0.41101694 0.41400512 0.37122457 0.54436613 0.41725714 0.22675791]\n",
      "0 \t [0.39723015 0.41369762 0.32158886 0.56264366 0.43637452 0.24627726]\n",
      "0 \t [0.3889736  0.42206255 0.28990735 0.578934   0.41381737 0.28303195]\n",
      "3 \t [0.37465727 0.43847485 0.27502214 0.59177374 0.35853171 0.33614494]\n",
      "3 \t [0.37861456 0.4410109  0.28755341 0.58780324 0.3373606  0.34662461]\n",
      "3 \t [0.37737174 0.43311808 0.31621921 0.58838171 0.31120601 0.35631797]\n",
      "3 \t [0.36223501 0.40822562 0.39878455 0.58929749 0.30659722 0.31911618]\n",
      "0 \t [0.31982112 0.36944569 0.56111822 0.54944233 0.26394296 0.27352866]\n",
      "3 \t [0.40785196 0.45742127 0.39099914 0.53288372 0.36125464 0.23889803]\n",
      "0 \t [0.42251599 0.43815415 0.4041289  0.51962194 0.4001934  0.18978748]\n",
      "0 \t [0.4215592  0.43122145 0.36856703 0.5342678  0.42114831 0.19412954]\n",
      "0 \t [0.4221924  0.40634678 0.34292172 0.54761625 0.45137196 0.18820298]\n",
      "3 \t [0.40328721 0.43741376 0.31507614 0.5651641  0.39881679 0.26132427]\n",
      "3 \t [0.41456246 0.40521011 0.37481257 0.54791329 0.39017629 0.26648033]\n",
      "3 \t [0.39189349 0.43193959 0.30989377 0.5827773  0.34665361 0.32251425]\n",
      "3 \t [0.37884456 0.41615626 0.28235066 0.60592122 0.29035938 0.39002536]\n",
      "3 \t [0.37292975 0.41741048 0.34210682 0.60029109 0.29314648 0.35124147]\n",
      "3 \t [0.3557158  0.42724612 0.38496062 0.595965   0.26378927 0.3434724 ]\n"
     ]
    }
   ],
   "source": [
    "p_vectors = []\n",
    "for i in range(10):\n",
    "    for j in range(10):\n",
    "        if(taggings[i][j] == 0):\n",
    "            p = LVQ.prototype(0, som2.weights[(i,j)], epsilon)\n",
    "            p_vectors.append(p)\n",
    "        elif(taggings[i][j] == 1):\n",
    "            p = LVQ.prototype(1, som2.weights[(i,j)], epsilon)\n",
    "            p_vectors.append(p)\n",
    "        elif(taggings[i][j] == 2):\n",
    "            p = LVQ.prototype(2, som2.weights[(i,j)], epsilon)\n",
    "            p_vectors.append(p)\n",
    "        elif(taggings[i][j] == 3):\n",
    "            p = LVQ.prototype(3, som2.weights[(i,j)], epsilon)\n",
    "            p_vectors.append(p)\n",
    "print(\"class id \\t Initial prototype vector \\n\")\n",
    "for p_v in p_vectors:\n",
    "    print(p_v.class_id, '\\t', p_v.p_vector)"
   ]
  },
  {
   "cell_type": "code",
   "execution_count": 22,
   "metadata": {},
   "outputs": [],
   "source": [
    "lvq2 = LVQ.LVQ(x_train2, y_train2, n_classes=2, n_neurons=25, p_vectors=p_vectors, epsilon=0.9, epsilon_dec_factor=0.001)\n",
    "neurons = lvq2.fit(x_train2, y_train2)"
   ]
  },
  {
   "cell_type": "code",
   "execution_count": 23,
   "metadata": {
    "scrolled": true
   },
   "outputs": [
    {
     "name": "stdout",
     "output_type": "stream",
     "text": [
      "             precision    recall  f1-score   support\n",
      "\n",
      "          0       0.98      0.93      0.95       138\n",
      "          1       0.98      0.87      0.92        55\n",
      "          2       0.72      0.46      0.57        28\n",
      "          3       0.77      0.94      0.85       108\n",
      "\n",
      "avg / total       0.89      0.88      0.88       329\n",
      "\n"
     ]
    }
   ],
   "source": [
    "predicted_y1 = [lvq2.predict(instance) for instance in x_test]\n",
    "\n",
    "from sklearn.metrics import classification_report\n",
    "\n",
    "print (classification_report(y_test, predicted_y1, target_names=['0','1', '2', '3']))"
   ]
  },
  {
   "cell_type": "code",
   "execution_count": 24,
   "metadata": {
    "scrolled": true
   },
   "outputs": [
    {
     "name": "stdout",
     "output_type": "stream",
     "text": [
      "             precision    recall  f1-score   support\n",
      "\n",
      "          0       0.98      0.90      0.94       558\n",
      "          1       0.85      0.93      0.89       165\n",
      "          2       0.72      0.34      0.46       139\n",
      "          3       0.76      0.94      0.84       453\n",
      "\n",
      "avg / total       0.86      0.86      0.85      1315\n",
      "\n"
     ]
    }
   ],
   "source": [
    "predicted_y2 = [lvq2.predict(instance) for instance in x_new]\n",
    "\n",
    "from sklearn.metrics import classification_report\n",
    "\n",
    "print (classification_report(y_new, predicted_y2, target_names=['0','1', '2', '3']))"
   ]
  },
  {
   "cell_type": "code",
   "execution_count": 25,
   "metadata": {},
   "outputs": [],
   "source": [
    "# Training the SOM\n",
    "from minisom import MiniSom\n",
    "som3 = MiniSom(x = 10, y = 10, input_len = 6, sigma = 1.0, learning_rate = 0.5)\n",
    "som3.random_weights_init(x_train3)\n",
    "som3.train_random(data = x_train3, num_iteration = 100)"
   ]
  },
  {
   "cell_type": "code",
   "execution_count": 26,
   "metadata": {},
   "outputs": [],
   "source": [
    "labels = np.zeros((4, 10, 10))"
   ]
  },
  {
   "cell_type": "code",
   "execution_count": 27,
   "metadata": {
    "scrolled": false
   },
   "outputs": [
    {
     "data": {
      "image/png": "[encoded data removed]",
      "text/plain": [
       "<Figure size 432x288 with 2 Axes>"
      ]
     },
     "metadata": {},
     "output_type": "display_data"
    }
   ],
   "source": [
    "# Visualizing the results\n",
    "from pylab import bone, pcolor, colorbar, plot, show\n",
    "bone()\n",
    "pcolor(som3.distance_map().T)\n",
    "colorbar()\n",
    "markers = ['v', 's', 'o', '4']\n",
    "colors = ['r', 'g', 'b', 'y']\n",
    "for i, x in enumerate(x_train3):\n",
    "    w = som3.winner(x)\n",
    "    plot(w[0] + 0.5,\n",
    "         w[1] + 0.5,\n",
    "         markers[y_train3[i]],\n",
    "         markeredgecolor = colors[y_train3[i]],\n",
    "         markerfacecolor = 'None',\n",
    "         markersize = 10,\n",
    "         markeredgewidth = 2)\n",
    "    if y_train3[i] == 0:\n",
    "        labels[0, w[0], w[1]] += 1\n",
    "    elif y_train3[i] == 1:\n",
    "        labels[1, w[0], w[1]] += 1\n",
    "    elif y_train3[i] == 2:\n",
    "        labels[2, w[0], w[1]] += 1\n",
    "    elif y_train3[i] == 3:\n",
    "        labels[3, w[0], w[1]] += 1\n",
    "show()"
   ]
  },
  {
   "cell_type": "code",
   "execution_count": 28,
   "metadata": {},
   "outputs": [
    {
     "name": "stderr",
     "output_type": "stream",
     "text": [
      "C:\\Users\\Thend\\Anaconda3\\lib\\site-packages\\ipykernel_launcher.py:6: RuntimeWarning: invalid value encountered in double_scalars\n",
      "  \n",
      "C:\\Users\\Thend\\Anaconda3\\lib\\site-packages\\ipykernel_launcher.py:6: RuntimeWarning: divide by zero encountered in double_scalars\n",
      "  \n"
     ]
    }
   ],
   "source": [
    "taggings = np.zeros((10, 10))\n",
    "for i in range(10):\n",
    "    for j in range(10):\n",
    "        tmp = np.array([labels[0][i][j], labels[1][i][j], labels[2][i][j], labels[3][i][j]])\n",
    "        sort = tmp.argsort()\n",
    "        if (tmp[sort[3]]/tmp[sort[2]] < 5):\n",
    "            taggings[i][j] = np.random.choice([sort[3], sort[2]])\n",
    "        else:\n",
    "            taggings[i][j] = sort[3]"
   ]
  },
  {
   "cell_type": "code",
   "execution_count": 29,
   "metadata": {},
   "outputs": [
    {
     "data": {
      "text/plain": [
       "array([[3., 2., 2., 1., 1., 1., 2., 2., 3., 3.],\n",
       "       [2., 3., 1., 1., 1., 1., 3., 3., 3., 3.],\n",
       "       [2., 3., 3., 1., 2., 3., 2., 3., 3., 3.],\n",
       "       [3., 3., 3., 3., 3., 3., 3., 3., 0., 0.],\n",
       "       [3., 3., 3., 3., 3., 2., 3., 3., 0., 0.],\n",
       "       [0., 3., 3., 3., 3., 3., 3., 3., 3., 0.],\n",
       "       [0., 0., 0., 3., 0., 3., 3., 2., 3., 3.],\n",
       "       [0., 0., 0., 0., 3., 0., 3., 3., 3., 3.],\n",
       "       [0., 0., 0., 0., 0., 3., 3., 0., 3., 3.],\n",
       "       [0., 0., 0., 3., 0., 0., 0., 3., 3., 3.]])"
      ]
     },
     "execution_count": 29,
     "metadata": {},
     "output_type": "execute_result"
    }
   ],
   "source": [
    "taggings"
   ]
  },
  {
   "cell_type": "code",
   "execution_count": 30,
   "metadata": {
    "scrolled": true
   },
   "outputs": [
    {
     "name": "stdout",
     "output_type": "stream",
     "text": [
      "class id \t Initial prototype vector \n",
      "\n",
      "3 \t [0.22608512 0.41773942 0.5245594  0.47331911 0.22976461 0.47158665]\n",
      "2 \t [0.13352593 0.33085353 0.66403794 0.37334206 0.13920565 0.52249199]\n",
      "2 \t [0.18119238 0.36293004 0.51695878 0.47694812 0.19314418 0.55083623]\n",
      "1 \t [0.18836378 0.36897222 0.29895555 0.56484052 0.15146203 0.63009412]\n",
      "1 \t [0.16438405 0.36952541 0.16413342 0.59360642 0.08733111 0.67044296]\n",
      "1 \t [0.22498679 0.40891356 0.15952793 0.60412871 0.15623322 0.60608677]\n",
      "2 \t [0.30210262 0.42383422 0.19683809 0.6190254  0.23631898 0.5013125 ]\n",
      "2 \t [0.34603955 0.45438676 0.24252718 0.60317995 0.25694373 0.43026007]\n",
      "3 \t [0.36123357 0.47952129 0.26262716 0.58613598 0.26456566 0.39629059]\n",
      "3 \t [0.37858353 0.48739648 0.2774029  0.57462377 0.30259404 0.34700314]\n",
      "2 \t [0.22377104 0.4107112  0.4247128  0.54440687 0.17256753 0.52412162]\n",
      "3 \t [0.22359222 0.39534113 0.53483238 0.47815875 0.22737698 0.47679152]\n",
      "1 \t [0.21444396 0.39718968 0.46347475 0.50401514 0.20661301 0.53359639]\n",
      "1 \t [0.17732203 0.3543675  0.3445853  0.53214806 0.13796857 0.64963426]\n",
      "1 \t [0.20270607 0.40530803 0.1888031  0.5763986  0.13572654 0.63900861]\n",
      "1 \t [0.23874327 0.46087774 0.12815854 0.5905573  0.18248048 0.57629133]\n",
      "3 \t [0.29490084 0.45457464 0.19113182 0.59787026 0.235321   0.50699033]\n",
      "3 \t [0.35230783 0.45668059 0.2605776  0.59121902 0.27537658 0.41719199]\n",
      "3 \t [0.37043258 0.4745507  0.26965159 0.58732399 0.28115038 0.37533231]\n",
      "3 \t [0.37725017 0.47298454 0.27428747 0.58888169 0.29563028 0.35292408]\n",
      "2 \t [0.31220719 0.47113333 0.36384128 0.56360532 0.25015301 0.40981959]\n",
      "3 \t [0.31625488 0.46563209 0.41030273 0.53441154 0.30678004 0.36757528]\n",
      "3 \t [0.28819562 0.44999986 0.3787935  0.54376488 0.25148989 0.46046877]\n",
      "1 \t [0.26972815 0.41537106 0.34236115 0.53412045 0.23563903 0.54469445]\n",
      "2 \t [0.26729236 0.44430369 0.26918696 0.5496142  0.22349119 0.55377191]\n",
      "3 \t [0.29835854 0.46551606 0.22530444 0.57594472 0.26049233 0.49390922]\n",
      "2 \t [0.29940599 0.46091316 0.21348971 0.59047508 0.25900035 0.48641058]\n",
      "3 \t [0.332685   0.45263975 0.32842268 0.56828307 0.2997327  0.40471119]\n",
      "3 \t [0.35740437 0.45669961 0.31125645 0.5784607  0.32146738 0.35895536]\n",
      "3 \t [0.37403768 0.45629081 0.26873065 0.58579956 0.35268339 0.33486066]\n",
      "3 \t [0.36095554 0.46916392 0.37872991 0.5420715  0.35058955 0.2990074 ]\n",
      "3 \t [0.3332749  0.49774905 0.37271484 0.52578813 0.30432416 0.36495347]\n",
      "3 \t [0.3036075  0.46472204 0.33117441 0.55830817 0.27476287 0.44156174]\n",
      "3 \t [0.32584439 0.4658943  0.32877475 0.53527284 0.28916375 0.44558098]\n",
      "3 \t [0.30002954 0.4705589  0.26221901 0.53301533 0.2693449  0.51297735]\n",
      "3 \t [0.32924938 0.45702482 0.29322872 0.55262122 0.2760615  0.46383176]\n",
      "3 \t [0.33386147 0.46806547 0.27301792 0.56483827 0.32896601 0.40945274]\n",
      "3 \t [0.36248171 0.4483751  0.29907356 0.56603941 0.38311583 0.33308173]\n",
      "0 \t [0.36871694 0.43082013 0.27671885 0.57532353 0.41986066 0.30755223]\n",
      "0 \t [0.36221428 0.42298144 0.24734922 0.58202682 0.44342169 0.30549611]\n",
      "3 \t [0.37525642 0.44808936 0.37104676 0.52893652 0.41933934 0.25515393]\n",
      "3 \t [0.35836314 0.46535294 0.35237405 0.54342833 0.36996619 0.31411095]\n",
      "3 \t [0.37145982 0.45437953 0.37580942 0.54203531 0.35298249 0.30971794]\n",
      "3 \t [0.36292297 0.45725419 0.32868092 0.55248158 0.31670483 0.38162353]\n",
      "3 \t [0.35581794 0.45083529 0.32317558 0.54703637 0.31737768 0.4070888 ]\n",
      "2 \t [0.32349684 0.42735529 0.33764681 0.55469256 0.27639978 0.46328308]\n",
      "3 \t [0.3470279  0.46684973 0.33402281 0.5455376  0.32414958 0.38388476]\n",
      "3 \t [0.38573305 0.42652185 0.31338239 0.56638748 0.40239592 0.29725972]\n",
      "0 \t [0.38305762 0.40875329 0.28948348 0.57723604 0.43291166 0.28595975]\n",
      "0 \t [0.37012414 0.39942784 0.27045264 0.57499833 0.47403464 0.27384113]\n",
      "0 \t [0.39421739 0.42893072 0.40203445 0.51557633 0.43493443 0.20974384]\n",
      "3 \t [0.37610889 0.40687832 0.44489667 0.52773588 0.3926719  0.24972525]\n",
      "3 \t [0.38142922 0.40774065 0.45083437 0.52925817 0.36293324 0.27050497]\n",
      "3 \t [0.419168   0.4055796  0.42743754 0.53024275 0.38520153 0.21808927]\n",
      "3 \t [0.3985838  0.40967154 0.42031831 0.53826227 0.35120179 0.28907391]\n",
      "3 \t [0.38107102 0.39262388 0.43895979 0.53878622 0.33734157 0.32226657]\n",
      "3 \t [0.34551707 0.39999021 0.38262208 0.56474157 0.30124882 0.40563806]\n",
      "3 \t [0.37945086 0.4126807  0.36139377 0.56146997 0.35884444 0.3332992 ]\n",
      "3 \t [0.3804996  0.40382489 0.33955851 0.56419698 0.40901754 0.30204625]\n",
      "0 \t [0.3769299  0.39863009 0.31839041 0.56215926 0.45273365 0.27686576]\n",
      "0 \t [0.41777357 0.36216499 0.42965926 0.48559568 0.51063159 0.1146599 ]\n",
      "0 \t [0.42035993 0.37419236 0.42318277 0.51432027 0.46235948 0.16091091]\n",
      "0 \t [0.42917443 0.39205706 0.45232633 0.5080038  0.42026681 0.15102788]\n",
      "3 \t [0.41458166 0.40294783 0.44672873 0.52162376 0.36216063 0.2508722 ]\n",
      "0 \t [0.39203497 0.38099815 0.46550342 0.51842352 0.40697615 0.22374767]\n",
      "3 \t [0.33951619 0.41332975 0.38098752 0.56282871 0.32028498 0.38649342]\n",
      "3 \t [0.3704855  0.38483652 0.46878184 0.53110558 0.34294709 0.30854351]\n",
      "2 \t [0.33198791 0.38874318 0.39805897 0.56583799 0.28189695 0.42493917]\n",
      "3 \t [0.36634685 0.38810862 0.39400197 0.5653577  0.33613733 0.35680038]\n",
      "3 \t [0.38390544 0.3938917  0.3819258  0.54888997 0.39683997 0.30469076]\n",
      "0 \t [0.42822241 0.3174034  0.45588583 0.44640726 0.55344402 0.04968945]\n",
      "0 \t [0.42916039 0.34373855 0.43639098 0.48368073 0.51503635 0.0895466 ]\n",
      "0 \t [0.42843725 0.36948863 0.44960753 0.49716583 0.46586667 0.11647802]\n",
      "0 \t [0.38051456 0.40259249 0.4319901  0.55256538 0.36153293 0.26547684]\n",
      "3 \t [0.35013138 0.39574819 0.42039382 0.56231745 0.34491875 0.3299857 ]\n",
      "0 \t [0.35404122 0.36807865 0.52581192 0.52023762 0.32391605 0.29517108]\n",
      "3 \t [0.31260592 0.36030146 0.5511093  0.50968364 0.2885562  0.35453751]\n",
      "3 \t [0.31461494 0.35650565 0.55247313 0.52285316 0.22947081 0.37770666]\n",
      "3 \t [0.34413556 0.37609293 0.4542625  0.54423229 0.2449236  0.42141909]\n",
      "3 \t [0.39604974 0.38685996 0.53455205 0.47075559 0.32697629 0.2814494 ]\n",
      "0 \t [0.4141687  0.30496577 0.53136921 0.41203386 0.5309236  0.03814651]\n",
      "0 \t [0.43307897 0.34580429 0.46225502 0.45424012 0.51906983 0.05843563]\n",
      "0 \t [0.38963187 0.35158637 0.54622405 0.46385187 0.43704684 0.14157973]\n",
      "0 \t [0.40185414 0.33897418 0.51458721 0.48250976 0.46088095 0.1165455 ]\n",
      "0 \t [0.37353738 0.31535247 0.60325747 0.46017575 0.40264437 0.15237736]\n",
      "3 \t [0.23804847 0.29480985 0.66287125 0.47331185 0.21538754 0.38289148]\n",
      "3 \t [0.23591019 0.25969687 0.76454745 0.38026908 0.25772718 0.28520737]\n",
      "0 \t [0.19652676 0.2365326  0.7738563  0.38207931 0.16492279 0.36522851]\n",
      "3 \t [0.3006817  0.34185176 0.58072124 0.46205808 0.19836852 0.45015886]\n",
      "3 \t [0.2283565  0.29291367 0.67790827 0.43584187 0.16759402 0.4294757 ]\n",
      "0 \t [0.42478733 0.37998869 0.47097234 0.47694366 0.46540948 0.09627109]\n",
      "0 \t [0.41930604 0.3896927  0.44022216 0.48755048 0.4738998  0.12743627]\n",
      "0 \t [0.39755124 0.41351156 0.45609954 0.54332598 0.37432434 0.16617034]\n",
      "3 \t [0.37828185 0.38317431 0.52276403 0.48772589 0.33349127 0.29615045]\n",
      "0 \t [0.39568353 0.31164622 0.64952178 0.38174112 0.4139404  0.08578868]\n",
      "0 \t [0.27889852 0.24568083 0.78778924 0.3322103  0.33622483 0.13354336]\n",
      "0 \t [0.10050963 0.11487627 0.95053425 0.16705062 0.10971164 0.18232759]\n",
      "3 \t [0.21649809 0.26722873 0.80325451 0.3576708  0.17350057 0.28012269]\n",
      "3 \t [0.32181341 0.35309823 0.62342972 0.47117068 0.25938573 0.30628482]\n",
      "3 \t [0.40323626 0.29142807 0.5879548  0.40519852 0.46196543 0.1708258 ]\n"
     ]
    }
   ],
   "source": [
    "p_vectors = []\n",
    "for i in range(10):\n",
    "    for j in range(10):\n",
    "        if(taggings[i][j] == 0):\n",
    "            p = LVQ.prototype(0, som3.weights[(i,j)], epsilon)\n",
    "            p_vectors.append(p)\n",
    "        elif(taggings[i][j] == 1):\n",
    "            p = LVQ.prototype(1, som3.weights[(i,j)], epsilon)\n",
    "            p_vectors.append(p)\n",
    "        elif(taggings[i][j] == 2):\n",
    "            p = LVQ.prototype(2, som3.weights[(i,j)], epsilon)\n",
    "            p_vectors.append(p)\n",
    "        elif(taggings[i][j] == 3):\n",
    "            p = LVQ.prototype(3, som3.weights[(i,j)], epsilon)\n",
    "            p_vectors.append(p)\n",
    "print(\"class id \\t Initial prototype vector \\n\")\n",
    "for p_v in p_vectors:\n",
    "    print(p_v.class_id, '\\t', p_v.p_vector)"
   ]
  },
  {
   "cell_type": "code",
   "execution_count": 31,
   "metadata": {},
   "outputs": [],
   "source": [
    "lvq3 = LVQ.LVQ(x_train3, y_train3, n_classes=2, n_neurons=25, p_vectors=p_vectors, epsilon=0.9, epsilon_dec_factor=0.001)\n",
    "neurons = lvq3.fit(x_train3, y_train3)"
   ]
  },
  {
   "cell_type": "code",
   "execution_count": 32,
   "metadata": {},
   "outputs": [
    {
     "name": "stdout",
     "output_type": "stream",
     "text": [
      "             precision    recall  f1-score   support\n",
      "\n",
      "          0       1.00      0.92      0.96       138\n",
      "          1       0.92      0.82      0.87        55\n",
      "          2       0.49      0.61      0.54        28\n",
      "          3       0.81      0.89      0.85       108\n",
      "\n",
      "avg / total       0.88      0.87      0.87       329\n",
      "\n"
     ]
    }
   ],
   "source": [
    "predicted_y1 = [lvq3.predict(instance) for instance in x_test]\n",
    "\n",
    "from sklearn.metrics import classification_report\n",
    "\n",
    "print (classification_report(y_test, predicted_y1, target_names=['0','1', '2', '3']))"
   ]
  },
  {
   "cell_type": "code",
   "execution_count": 33,
   "metadata": {
    "scrolled": true
   },
   "outputs": [
    {
     "name": "stdout",
     "output_type": "stream",
     "text": [
      "             precision    recall  f1-score   support\n",
      "\n",
      "          0       1.00      0.88      0.93       558\n",
      "          1       0.88      0.82      0.85       165\n",
      "          2       0.58      0.60      0.59       139\n",
      "          3       0.78      0.91      0.84       453\n",
      "\n",
      "avg / total       0.86      0.85      0.85      1315\n",
      "\n"
     ]
    }
   ],
   "source": [
    "predicted_y3 = [lvq3.predict(instance) for instance in x_new]\n",
    "\n",
    "from sklearn.metrics import classification_report\n",
    "\n",
    "print (classification_report(y_new, predicted_y3, target_names=['0','1', '2', '3']))"
   ]
  },
  {
   "cell_type": "code",
   "execution_count": 34,
   "metadata": {},
   "outputs": [],
   "source": [
    "ensemble = [np.asarray(predicted_y_new), np.asarray(predicted_y2), np.asarray(predicted_y3)]"
   ]
  },
  {
   "cell_type": "code",
   "execution_count": 35,
   "metadata": {},
   "outputs": [
    {
     "data": {
      "text/plain": [
       "1315"
      ]
     },
     "execution_count": 35,
     "metadata": {},
     "output_type": "execute_result"
    }
   ],
   "source": [
    "len(ensemble[0])"
   ]
  },
  {
   "cell_type": "code",
   "execution_count": 36,
   "metadata": {},
   "outputs": [],
   "source": [
    "predict = [np.bincount([ensemble[j][i] for j in range(3)]).argmax() for i in range(len(ensemble[1]))]"
   ]
  },
  {
   "cell_type": "code",
   "execution_count": 37,
   "metadata": {
    "scrolled": false
   },
   "outputs": [
    {
     "name": "stdout",
     "output_type": "stream",
     "text": [
      "             precision    recall  f1-score   support\n",
      "\n",
      "          0       0.99      0.88      0.93       558\n",
      "          1       0.84      0.92      0.88       165\n",
      "          2       0.78      0.34      0.47       139\n",
      "          3       0.75      0.96      0.84       453\n",
      "\n",
      "avg / total       0.87      0.86      0.85      1315\n",
      "\n"
     ]
    }
   ],
   "source": [
    "print (classification_report(y_new, predict, target_names=['0','1', '2', '3']))"
   ]
  },
  {
   "cell_type": "code",
   "execution_count": 38,
   "metadata": {},
   "outputs": [
    {
     "name": "stdout",
     "output_type": "stream",
     "text": [
      "# of 0:  420\n",
      "# of 1:  110\n",
      "# of 2:  111\n",
      "# of 3:  345\n"
     ]
    }
   ],
   "source": [
    "for i in range(0,4):\n",
    "    print(\"# of \" + str(i) +  \": \", len(y_train[y_train==i]))"
   ]
  }
 ],
 "metadata": {
  "kernelspec": {
   "display_name": "Python 3",
   "language": "python",
   "name": "python3"
  },
  "language_info": {
   "codemirror_mode": {
    "name": "ipython",
    "version": 3
   },
   "file_extension": ".py",
   "mimetype": "text/x-python",
   "name": "python",
   "nbconvert_exporter": "python",
   "pygments_lexer": "ipython3",
   "version": "3.6.5"
  }
 },
 "nbformat": 4,
 "nbformat_minor": 2
}
