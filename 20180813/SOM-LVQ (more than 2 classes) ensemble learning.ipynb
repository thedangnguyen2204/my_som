{
 "cells": [
  {
   "cell_type": "code",
   "execution_count": 1,
   "metadata": {},
   "outputs": [],
   "source": [
    "import numpy as np\n",
    "from sklearn.metrics import euclidean_distances\n",
    "import pandas as pd\n",
    "import minisom\n",
    "from sklearn.datasets import load_breast_cancer\n",
    "from sklearn.model_selection import KFold\n",
    "from random import randint, choice\n",
    "import LVQ"
   ]
  },
  {
   "cell_type": "code",
   "execution_count": 2,
   "metadata": {},
   "outputs": [
    {
     "name": "stderr",
     "output_type": "stream",
     "text": [
      "C:\\Users\\Thend\\Anaconda3\\lib\\site-packages\\sklearn\\cross_validation.py:41: DeprecationWarning: This module was deprecated in version 0.18 in favor of the model_selection module into which all the refactored classes and functions are moved. Also note that the interface of the new CV iterators are different from that of this module. This module will be removed in 0.20.\n",
      "  \"This module will be removed in 0.20.\", DeprecationWarning)\n"
     ]
    }
   ],
   "source": [
    "data = pd.read_csv(r\"../data/SD-2X_rocktype.csv\")\n",
    "x = data.iloc[:, 0:6].values\n",
    "y = data.iloc[:, 6].values\n",
    "y [y==4] = 0\n",
    "from sklearn.cross_validation import train_test_split\n",
    "x_train, x_test, y_train, y_test = train_test_split(x, y, test_size=0.25, random_state=44)\n",
    "\n",
    "# use Minmaxscaler because we use euclidean distance\n",
    "from sklearn.preprocessing import MinMaxScaler\n",
    "minmax = MinMaxScaler()\n",
    "x_train = minmax.fit_transform(x_train)\n",
    "x_test = minmax.transform(x_test)"
   ]
  },
  {
   "cell_type": "code",
   "execution_count": 3,
   "metadata": {},
   "outputs": [],
   "source": [
    "x_train1 = x_train[0:331]\n",
    "x_train2 = x_train[332:663]\n",
    "x_train3 = x_train[664:995]"
   ]
  },
  {
   "cell_type": "code",
   "execution_count": 4,
   "metadata": {},
   "outputs": [],
   "source": [
    "y_train1 = y_train[0:331]\n",
    "y_train2 = y_train[332:663]\n",
    "y_train3 = y_train[664:995]"
   ]
  },
  {
   "cell_type": "code",
   "execution_count": 5,
   "metadata": {},
   "outputs": [],
   "source": [
    "epsilon = 0.9\n",
    "epsilon_dec_factor = 0.001"
   ]
  },
  {
   "cell_type": "code",
   "execution_count": 6,
   "metadata": {},
   "outputs": [],
   "source": [
    "# Training the SOM\n",
    "from minisom import MiniSom\n",
    "som1 = MiniSom(x = 10, y = 10, input_len = 6, sigma = 1.0, learning_rate = 0.5)\n",
    "som1.random_weights_init(x_train1)\n",
    "som1.train_random(data = x_train1, num_iteration = 100)"
   ]
  },
  {
   "cell_type": "code",
   "execution_count": 7,
   "metadata": {},
   "outputs": [],
   "source": [
    "labels = np.zeros((4, 10, 10))"
   ]
  },
  {
   "cell_type": "code",
   "execution_count": 8,
   "metadata": {
    "scrolled": false
   },
   "outputs": [
    {
     "data": {
      "text/plain": [
       "<Figure size 640x480 with 2 Axes>"
      ]
     },
     "metadata": {},
     "output_type": "display_data"
    }
   ],
   "source": [
    "# Visualizing the results\n",
    "from pylab import bone, pcolor, colorbar, plot, show\n",
    "bone()\n",
    "pcolor(som1.distance_map().T)\n",
    "colorbar()\n",
    "markers = ['1', '2', '3', '4', 's', '8', 'p', '>']\n",
    "colors = ['r', 'g', 'b', 'y', 'w', 'c', 'm', 'k']\n",
    "for i, x in enumerate(x_train1):\n",
    "    w = som1.winner(x)\n",
    "    plot(w[0] + 0.5,\n",
    "         w[1] + 0.5,\n",
    "         markers[y_train1[i]],\n",
    "         markeredgecolor = colors[y_train1[i]],\n",
    "         markerfacecolor = 'None',\n",
    "         markersize = 10,\n",
    "         markeredgewidth = 2)\n",
    "    if y_train1[i] == 0:\n",
    "        labels[0, w[0], w[1]] += 1\n",
    "    elif y_train1[i] == 1:\n",
    "        labels[1, w[0], w[1]] += 1\n",
    "    elif y_train1[i] == 2:\n",
    "        labels[2, w[0], w[1]] += 1\n",
    "    elif y_train1[i] == 3:\n",
    "        labels[3, w[0], w[1]] += 1\n",
    "show()"
   ]
  },
  {
   "cell_type": "code",
   "execution_count": 9,
   "metadata": {},
   "outputs": [
    {
     "name": "stderr",
     "output_type": "stream",
     "text": [
      "C:\\Users\\Thend\\Anaconda3\\lib\\site-packages\\ipykernel_launcher.py:6: RuntimeWarning: invalid value encountered in double_scalars\n",
      "  \n",
      "C:\\Users\\Thend\\Anaconda3\\lib\\site-packages\\ipykernel_launcher.py:6: RuntimeWarning: divide by zero encountered in double_scalars\n",
      "  \n"
     ]
    }
   ],
   "source": [
    "taggings = np.zeros((10, 10))\n",
    "for i in range(10):\n",
    "    for j in range(10):\n",
    "        tmp = np.array([labels[0][i][j], labels[1][i][j], labels[2][i][j], labels[3][i][j]])\n",
    "        sort = tmp.argsort()\n",
    "        if (tmp[sort[3]]/tmp[sort[2]] < 5):\n",
    "            taggings[i][j] = np.random.choice([sort[3], sort[2]])\n",
    "        else:\n",
    "            taggings[i][j] = sort[3]"
   ]
  },
  {
   "cell_type": "code",
   "execution_count": 10,
   "metadata": {
    "scrolled": true
   },
   "outputs": [
    {
     "name": "stdout",
     "output_type": "stream",
     "text": [
      "class id \t Initial prototype vector \n",
      "\n",
      "0 \t [0.06584384 0.12874269 0.91712567 0.19772683 0.08360598 0.30312466]\n",
      "3 \t [0.15382603 0.26792078 0.7140265  0.37807651 0.1586375  0.47604039]\n",
      "2 \t [0.24802626 0.33705641 0.64632956 0.41250641 0.21358546 0.43744001]\n",
      "3 \t [0.34244947 0.32053198 0.67888562 0.38641224 0.33929216 0.23381262]\n",
      "0 \t [0.37939963 0.29197881 0.69044617 0.35487288 0.39911079 0.09414984]\n",
      "0 \t [0.41263936 0.32823424 0.55900702 0.43534041 0.46095961 0.08658621]\n",
      "0 \t [0.41480425 0.35987181 0.48634368 0.48999211 0.44918751 0.14155511]\n",
      "0 \t [0.4079837  0.40967923 0.4162731  0.53508104 0.39015176 0.23216122]\n",
      "3 \t [0.36615236 0.44537556 0.35810761 0.56576807 0.3084414  0.35228168]\n",
      "3 \t [0.32093971 0.43119681 0.43087827 0.5367742  0.27983863 0.39871635]\n",
      "0 \t [0.09379648 0.17486187 0.86470421 0.26573237 0.09938162 0.36389804]\n",
      "0 \t [0.26496276 0.30554074 0.66523657 0.43628204 0.27127651 0.36050928]\n",
      "1 \t [0.24096692 0.39712005 0.45881885 0.50768567 0.1642587  0.53757809]\n",
      "0 \t [0.356843   0.29548321 0.68916992 0.38339132 0.3376379  0.22228205]\n",
      "0 \t [0.39795095 0.33685416 0.62254836 0.40801469 0.38795157 0.15367321]\n",
      "0 \t [0.40088933 0.34652377 0.53674974 0.47746889 0.42190652 0.15851526]\n",
      "0 \t [0.40453075 0.3774406  0.45422217 0.51619054 0.42906754 0.19241637]\n",
      "3 \t [0.3924066  0.44722826 0.3592516  0.5547127  0.35539891 0.28797165]\n",
      "3 \t [0.37643385 0.48149186 0.32460111 0.56379069 0.30625057 0.33082914]\n",
      "3 \t [0.34366785 0.43550693 0.44588752 0.5362676  0.28580082 0.35234272]\n",
      "1 \t [0.2150943  0.39911613 0.29224137 0.53957434 0.13078113 0.633081  ]\n",
      "2 \t [0.25252771 0.37566928 0.34244303 0.54835333 0.18676586 0.58503185]\n",
      "2 \t [0.30112056 0.37561995 0.41010449 0.56365323 0.25332658 0.46708783]\n",
      "2 \t [0.27102462 0.40729694 0.40836831 0.53906878 0.24697504 0.49223811]\n",
      "3 \t [0.34825011 0.35208522 0.57530594 0.46778484 0.35562865 0.2801545 ]\n",
      "0 \t [0.38219422 0.37212072 0.49691746 0.5073148  0.38544303 0.25018423]\n",
      "0 \t [0.38370068 0.39447002 0.42764334 0.53425039 0.39766963 0.26593937]\n",
      "3 \t [0.38780995 0.42580058 0.35952147 0.55627586 0.37811925 0.29432061]\n",
      "3 \t [0.38659675 0.46096985 0.31343443 0.55931424 0.3382587  0.33549551]\n",
      "3 \t [0.39723969 0.43268767 0.3053961  0.56803836 0.34775411 0.34367823]\n",
      "1 \t [0.15735751 0.39466366 0.13311908 0.55000095 0.07382697 0.70271407]\n",
      "1 \t [0.17990029 0.38527674 0.18351818 0.55453484 0.101155   0.68394267]\n",
      "1 \t [0.22509382 0.39807592 0.32693996 0.56746493 0.1702938  0.57702874]\n",
      "2 \t [0.21255503 0.34680534 0.46600226 0.52162737 0.16382556 0.56431763]\n",
      "3 \t [0.23565107 0.37877501 0.53131883 0.48567908 0.18736695 0.49770254]\n",
      "3 \t [0.28580772 0.35378886 0.53992768 0.50121049 0.25336248 0.4315333 ]\n",
      "3 \t [0.347759   0.41123915 0.40037736 0.55027156 0.30181753 0.39465352]\n",
      "3 \t [0.35639181 0.39350318 0.46271772 0.52747718 0.35100566 0.32030501]\n",
      "0 \t [0.41527169 0.40153775 0.34621189 0.53954497 0.45053454 0.22883193]\n",
      "0 \t [0.42604832 0.38144126 0.35068113 0.53003782 0.47988877 0.19691323]\n",
      "1 \t [0.14311834 0.3985751  0.10209126 0.55651728 0.05503468 0.70533121]\n",
      "1 \t [0.14759757 0.38195016 0.12183643 0.55956485 0.06387818 0.707313  ]\n",
      "1 \t [0.19054593 0.38966516 0.20787134 0.55615505 0.10932703 0.66886619]\n",
      "2 \t [0.20771573 0.35185658 0.5014456  0.4722336  0.15659021 0.57799513]\n",
      "3 \t [0.15695454 0.26477447 0.71516204 0.3856404  0.16095513 0.46816443]\n",
      "3 \t [0.23810187 0.34880525 0.53026333 0.49712849 0.21027604 0.49910965]\n",
      "3 \t [0.32529569 0.40481184 0.46111444 0.50536278 0.26542168 0.43799926]\n",
      "3 \t [0.39345697 0.39532476 0.38954146 0.53469282 0.39797705 0.30477082]\n",
      "0 \t [0.42662762 0.36522015 0.35068642 0.51482074 0.52574385 0.1420393 ]\n",
      "0 \t [0.4450148  0.34083811 0.35408646 0.48894744 0.5627774  0.06801458]\n",
      "1 \t [0.1966923  0.423274   0.12504049 0.55534017 0.09725207 0.66981749]\n",
      "1 \t [0.19650774 0.38495863 0.19337172 0.55321191 0.11120632 0.67630517]\n",
      "1 \t [0.25772164 0.383726   0.23144977 0.56057483 0.20765471 0.61269919]\n",
      "3 \t [0.25433687 0.36672968 0.43349803 0.50842103 0.24315466 0.54340171]\n",
      "2 \t [0.25533684 0.36444857 0.49427333 0.50866571 0.24825531 0.48713726]\n",
      "3 \t [0.31147688 0.40094357 0.49756082 0.51845962 0.31542963 0.3554763 ]\n",
      "0 \t [0.34576799 0.42935374 0.41961747 0.53465945 0.33953761 0.34478185]\n",
      "3 \t [0.39105619 0.41293329 0.39388264 0.52640379 0.42117052 0.25871232]\n",
      "0 \t [0.398177   0.37765724 0.33415488 0.55853654 0.46494413 0.24297014]\n",
      "0 \t [0.43187672 0.36286222 0.36775496 0.50685783 0.51814292 0.14557763]\n",
      "2 \t [0.28357329 0.44350206 0.18813315 0.56370002 0.18658939 0.57872681]\n",
      "2 \t [0.27237138 0.42553088 0.22013047 0.56199305 0.18512276 0.5883649 ]\n",
      "3 \t [0.30856186 0.39829803 0.20323336 0.56147963 0.25287566 0.57064786]\n",
      "3 \t [0.34661315 0.39040493 0.29784341 0.54576041 0.36017896 0.45950986]\n",
      "3 \t [0.328276   0.42630716 0.32788535 0.55423018 0.35592837 0.41125683]\n",
      "3 \t [0.35344475 0.42645274 0.38195264 0.5431066  0.37396988 0.33542331]\n",
      "3 \t [0.35733041 0.43980885 0.37995073 0.54230097 0.37867645 0.31150345]\n",
      "3 \t [0.37778095 0.43726239 0.36225409 0.54401543 0.40666268 0.27116013]\n",
      "3 \t [0.40507309 0.42683805 0.34097276 0.53589309 0.44436104 0.22983582]\n",
      "0 \t [0.42632417 0.41660438 0.3385065  0.54053545 0.43452917 0.2216025 ]\n",
      "3 \t [0.30087663 0.43535578 0.16965789 0.60549336 0.25772064 0.50804789]\n",
      "2 \t [0.32363159 0.45464564 0.20411208 0.59448826 0.2314525  0.48980777]\n",
      "3 \t [0.30767643 0.45151695 0.23258411 0.57230852 0.21574024 0.5227728 ]\n",
      "3 \t [0.32080231 0.43897464 0.20457438 0.58422201 0.29440217 0.48430205]\n",
      "0 \t [0.33130871 0.44109714 0.23059303 0.58572088 0.36601299 0.40676806]\n",
      "3 \t [0.34527815 0.44736088 0.28977049 0.56833845 0.38624071 0.35283683]\n",
      "3 \t [0.36190466 0.45048284 0.33396646 0.54643641 0.40908195 0.29768412]\n",
      "0 \t [0.38253797 0.44590116 0.3576625  0.53172372 0.42586028 0.25065374]\n",
      "0 \t [0.41286584 0.43241732 0.36601508 0.53136271 0.42596383 0.21165658]\n",
      "3 \t [0.40935226 0.43539308 0.39216928 0.55678974 0.37131995 0.2029126 ]\n",
      "3 \t [0.33729752 0.43293029 0.26227082 0.59586042 0.33334646 0.40477927]\n",
      "2 \t [0.31066203 0.46502723 0.23646291 0.58883462 0.21981532 0.48608547]\n",
      "2 \t [0.30156007 0.48605862 0.15568582 0.59001926 0.1849744  0.51597694]\n",
      "3 \t [0.29334188 0.45706599 0.20455868 0.58885993 0.23883773 0.5093108 ]\n",
      "3 \t [0.31381337 0.45166231 0.20356953 0.59506009 0.31687779 0.44896963]\n",
      "3 \t [0.33351667 0.45288962 0.26369873 0.58072514 0.36391495 0.38005897]\n",
      "0 \t [0.36441107 0.44670359 0.32905285 0.54876687 0.41379906 0.29497449]\n",
      "0 \t [0.39090278 0.43164294 0.36264543 0.53380045 0.43092078 0.24234694]\n",
      "3 \t [0.41375138 0.42035612 0.38065962 0.53356899 0.40990223 0.23343752]\n",
      "0 \t [0.41406872 0.40173453 0.33905752 0.57739251 0.37046439 0.28560547]\n",
      "3 \t [0.32257322 0.42141121 0.31261643 0.59677652 0.25790408 0.44494195]\n",
      "3 \t [0.33628928 0.46878933 0.25100856 0.59623243 0.23832764 0.43800412]\n",
      "1 \t [0.30302989 0.46331933 0.17821534 0.59244087 0.20356587 0.51896254]\n",
      "3 \t [0.26802752 0.43755823 0.14576611 0.59697848 0.20175322 0.56424163]\n",
      "3 \t [0.2829894  0.42273405 0.25677603 0.58973465 0.26349774 0.50799702]\n",
      "3 \t [0.32607818 0.42847181 0.30193937 0.58340928 0.32707066 0.41421726]\n",
      "3 \t [0.35684339 0.43123297 0.32130619 0.56244662 0.3815407  0.34863125]\n",
      "3 \t [0.38902614 0.41698071 0.39273784 0.53355007 0.3883856  0.29158821]\n",
      "3 \t [0.38537184 0.34786756 0.53139343 0.49821267 0.36785013 0.25410264]\n",
      "3 \t [0.42148984 0.39067318 0.39361724 0.56017038 0.36308185 0.26299615]\n"
     ]
    }
   ],
   "source": [
    "p_vectors = []\n",
    "for i in range(10):\n",
    "    for j in range(10):\n",
    "        if(taggings[i][j] == 0):\n",
    "            p = LVQ.prototype(0, som1.weights[(i,j)], epsilon)\n",
    "            p_vectors.append(p)\n",
    "        elif(taggings[i][j] == 1):\n",
    "            p = LVQ.prototype(1, som1.weights[(i,j)], epsilon)\n",
    "            p_vectors.append(p)\n",
    "        elif(taggings[i][j] == 2):\n",
    "            p = LVQ.prototype(2, som1.weights[(i,j)], epsilon)\n",
    "            p_vectors.append(p)\n",
    "        elif(taggings[i][j] == 3):\n",
    "            p = LVQ.prototype(3, som1.weights[(i,j)], epsilon)\n",
    "            p_vectors.append(p)\n",
    "print(\"class id \\t Initial prototype vector \\n\")\n",
    "for p_v in p_vectors:\n",
    "    print(p_v.class_id, '\\t', p_v.p_vector)"
   ]
  },
  {
   "cell_type": "code",
   "execution_count": 11,
   "metadata": {},
   "outputs": [],
   "source": [
    "lvq1 = LVQ.LVQ(x_train1, y_train1, n_classes=2, n_neurons=25, p_vectors=p_vectors, epsilon=0.9, epsilon_dec_factor=0.001)\n",
    "neurons = lvq1.fit(x_train1, y_train1)"
   ]
  },
  {
   "cell_type": "code",
   "execution_count": 12,
   "metadata": {
    "scrolled": true
   },
   "outputs": [
    {
     "name": "stdout",
     "output_type": "stream",
     "text": [
      "             precision    recall  f1-score   support\n",
      "\n",
      "          0       0.95      0.96      0.95       138\n",
      "          1       0.85      0.95      0.90        55\n",
      "          2       0.71      0.36      0.48        28\n",
      "          3       0.86      0.92      0.89       108\n",
      "\n",
      "avg / total       0.88      0.89      0.88       329\n",
      "\n"
     ]
    }
   ],
   "source": [
    "predicted_y1 = [lvq1.predict(instance) for instance in x_test]\n",
    "\n",
    "from sklearn.metrics import classification_report\n",
    "\n",
    "print (classification_report(y_test, predicted_y1, target_names=['0','1', '2', '3']))"
   ]
  },
  {
   "cell_type": "code",
   "execution_count": 13,
   "metadata": {
    "scrolled": true
   },
   "outputs": [
    {
     "name": "stdout",
     "output_type": "stream",
     "text": [
      "             precision    recall  f1-score   support\n",
      "\n",
      "          0       0.96      0.94      0.95       558\n",
      "          1       0.74      0.95      0.83       165\n",
      "          2       0.75      0.32      0.44       139\n",
      "          3       0.82      0.91      0.86       453\n",
      "\n",
      "avg / total       0.86      0.86      0.85      1315\n",
      "\n"
     ]
    }
   ],
   "source": [
    "data_new = pd.read_csv(r\"../data/SD-3X_rocktype.csv\")\n",
    "x_new = data.iloc[:, 0:6].values\n",
    "y_new = data.iloc[:, 6].values\n",
    "y_new[y_new == 4] = 0\n",
    "x_new = minmax.fit_transform(x_new)\n",
    "predicted_y_new = [lvq1.predict(instance) for instance in x_new]\n",
    "\n",
    "from sklearn.metrics import classification_report\n",
    "\n",
    "print (classification_report(y_new, predicted_y_new, target_names=['0', '1', '2', '3']))"
   ]
  },
  {
   "cell_type": "code",
   "execution_count": 14,
   "metadata": {},
   "outputs": [],
   "source": [
    "# Training the SOM\n",
    "from minisom import MiniSom\n",
    "som2 = MiniSom(x = 10, y = 10, input_len = 6, sigma = 1.0, learning_rate = 0.5)\n",
    "som2.random_weights_init(x_train2)\n",
    "som2.train_random(data = x_train2, num_iteration = 100)"
   ]
  },
  {
   "cell_type": "code",
   "execution_count": 15,
   "metadata": {},
   "outputs": [],
   "source": [
    "labels = np.zeros((4, 10, 10))"
   ]
  },
  {
   "cell_type": "code",
   "execution_count": 16,
   "metadata": {
    "scrolled": false
   },
   "outputs": [
    {
     "data": {
      "image/png": "[encoded data removed]",
      "text/plain": [
       "<Figure size 432x288 with 2 Axes>"
      ]
     },
     "metadata": {},
     "output_type": "display_data"
    }
   ],
   "source": [
    "# Visualizing the results\n",
    "from pylab import bone, pcolor, colorbar, plot, show\n",
    "bone()\n",
    "pcolor(som2.distance_map().T)\n",
    "colorbar()\n",
    "markers = ['1', '2', '3', '4', 's', '8', 'p', '>']\n",
    "colors = ['r', 'g', 'b', 'y', 'w', 'c', 'm', 'k']\n",
    "for i, x in enumerate(x_train2):\n",
    "    w = som2.winner(x)\n",
    "    plot(w[0] + 0.5,\n",
    "         w[1] + 0.5,\n",
    "         markers[y_train2[i]],\n",
    "         markeredgecolor = colors[y_train2[i]],\n",
    "         markerfacecolor = 'None',\n",
    "         markersize = 10,\n",
    "         markeredgewidth = 2)\n",
    "    if y_train2[i] == 0:\n",
    "        labels[0, w[0], w[1]] += 1\n",
    "    elif y_train2[i] == 1:\n",
    "        labels[1, w[0], w[1]] += 1\n",
    "    elif y_train2[i] == 2:\n",
    "        labels[2, w[0], w[1]] += 1\n",
    "    elif y_train2[i] == 3:\n",
    "        labels[3, w[0], w[1]] += 1\n",
    "show()"
   ]
  },
  {
   "cell_type": "code",
   "execution_count": 17,
   "metadata": {},
   "outputs": [
    {
     "name": "stderr",
     "output_type": "stream",
     "text": [
      "C:\\Users\\Thend\\Anaconda3\\lib\\site-packages\\ipykernel_launcher.py:6: RuntimeWarning: divide by zero encountered in double_scalars\n",
      "  \n",
      "C:\\Users\\Thend\\Anaconda3\\lib\\site-packages\\ipykernel_launcher.py:6: RuntimeWarning: invalid value encountered in double_scalars\n",
      "  \n"
     ]
    }
   ],
   "source": [
    "taggings = np.zeros((10, 10))\n",
    "for i in range(10):\n",
    "    for j in range(10):\n",
    "        tmp = np.array([labels[0][i][j], labels[1][i][j], labels[2][i][j], labels[3][i][j]])\n",
    "        sort = tmp.argsort()\n",
    "        if (tmp[sort[3]]/tmp[sort[2]] < 5):\n",
    "            taggings[i][j] = np.random.choice([sort[3], sort[2]])\n",
    "        else:\n",
    "            taggings[i][j] = sort[3]"
   ]
  },
  {
   "cell_type": "code",
   "execution_count": 18,
   "metadata": {
    "scrolled": true
   },
   "outputs": [
    {
     "name": "stdout",
     "output_type": "stream",
     "text": [
      "class id \t Initial prototype vector \n",
      "\n",
      "0 \t [0.20058907 0.15293037 0.87720611 0.27847869 0.18745508 0.23280029]\n",
      "0 \t [0.06427911 0.11287687 0.91258598 0.23272556 0.0843095  0.29840336]\n",
      "3 \t [0.12998468 0.18789325 0.83219093 0.32918453 0.14929889 0.3529954 ]\n",
      "3 \t [0.15164119 0.1900808  0.8528652  0.32055361 0.17921926 0.28039443]\n",
      "0 \t [0.40129176 0.32841623 0.55647931 0.46066096 0.40850796 0.20579408]\n",
      "0 \t [0.38377523 0.40507853 0.39921714 0.52421177 0.4553112  0.21713444]\n",
      "0 \t [0.39483477 0.3922449  0.42844083 0.51259487 0.45670132 0.18803805]\n",
      "3 \t [0.41086531 0.40916325 0.41240748 0.52671574 0.4190128  0.20172757]\n",
      "3 \t [0.41715336 0.42594826 0.38753199 0.54016954 0.39131015 0.22240359]\n",
      "3 \t [0.42224971 0.43648704 0.39962324 0.53312317 0.37314217 0.21915775]\n",
      "0 \t [0.08941111 0.11374068 0.93494547 0.19796542 0.10605382 0.23346939]\n",
      "3 \t [0.14090823 0.19558831 0.88687378 0.26881111 0.1623661  0.23816551]\n",
      "3 \t [0.23735985 0.26203995 0.74736047 0.39279421 0.30685876 0.26076447]\n",
      "3 \t [0.33890377 0.26023338 0.66249715 0.39885833 0.44798323 0.13690658]\n",
      "0 \t [0.40036222 0.33629397 0.51256424 0.48074549 0.4454888  0.18525083]\n",
      "0 \t [0.38116379 0.39044666 0.42242618 0.51492443 0.46594139 0.20389494]\n",
      "3 \t [0.38969316 0.41297515 0.3768026  0.52988667 0.45609168 0.21635863]\n",
      "3 \t [0.40347665 0.40962474 0.41754858 0.51933764 0.42604157 0.20939042]\n",
      "0 \t [0.42295411 0.4266382  0.40013492 0.53051427 0.39501933 0.20370581]\n",
      "3 \t [0.42044443 0.43861366 0.4075573  0.52652907 0.36588327 0.23159912]\n",
      "0 \t [0.10323338 0.13940081 0.95388145 0.14369938 0.11899402 0.15878089]\n",
      "3 \t [0.17672493 0.21622614 0.87342379 0.2660855  0.19910742 0.22068118]\n",
      "3 \t [0.27764413 0.33324393 0.73270419 0.38162142 0.25246386 0.2561911 ]\n",
      "3 \t [0.33921161 0.39585915 0.46882546 0.50996626 0.41581093 0.27471693]\n",
      "3 \t [0.33911267 0.40391166 0.34341596 0.5651392  0.42140354 0.32704769]\n",
      "0 \t [0.38351069 0.3884535  0.35634398 0.52086206 0.52182629 0.17732013]\n",
      "0 \t [0.38632761 0.39695598 0.3787023  0.50820408 0.51237572 0.17017999]\n",
      "0 \t [0.41179738 0.38317364 0.42252336 0.50612364 0.46989548 0.1676663 ]\n",
      "3 \t [0.42193437 0.41551655 0.40750903 0.52201494 0.41571026 0.19477975]\n",
      "0 \t [0.42587652 0.43521197 0.41753783 0.50709489 0.40562055 0.18223236]\n",
      "3 \t [0.18336888 0.21225635 0.8839166  0.24492654 0.16785704 0.22770496]\n",
      "0 \t [0.27830762 0.26128902 0.80815715 0.30262357 0.28614888 0.16641136]\n",
      "0 \t [0.31685817 0.32865292 0.67027627 0.41242293 0.34665955 0.22814988]\n",
      "0 \t [0.33401526 0.44487784 0.47206773 0.50731989 0.36974852 0.27126027]\n",
      "3 \t [0.36872185 0.4221874  0.37053069 0.53980181 0.4277433  0.2723209 ]\n",
      "0 \t [0.38270507 0.40020718 0.3533906  0.52735314 0.50035082 0.20008459]\n",
      "0 \t [0.40685251 0.37073902 0.37256762 0.50317952 0.53692712 0.12937007]\n",
      "3 \t [0.41313295 0.36305045 0.40684525 0.50188085 0.49272048 0.19322168]\n",
      "3 \t [0.42689155 0.40316736 0.38488943 0.53367686 0.41528302 0.22317894]\n",
      "3 \t [0.4102479  0.42393741 0.42237054 0.51269466 0.39496329 0.23393386]\n",
      "1 \t [0.28563847 0.40892882 0.49606826 0.48402584 0.18693138 0.48567459]\n",
      "3 \t [0.33758128 0.35326645 0.57163115 0.4769127  0.25873092 0.37428881]\n",
      "3 \t [0.25212329 0.35613938 0.63098342 0.4324365  0.21438701 0.42248716]\n",
      "3 \t [0.30460175 0.47012732 0.36883039 0.53099669 0.26059141 0.44754536]\n",
      "3 \t [0.35404658 0.39753768 0.48112361 0.50207011 0.36971842 0.31043319]\n",
      "3 \t [0.36821922 0.37683714 0.44492224 0.50464453 0.46915442 0.22289145]\n",
      "0 \t [0.40801344 0.35021645 0.42978837 0.50470503 0.50301619 0.13565753]\n",
      "0 \t [0.4807344  0.33910933 0.38496876 0.4734618  0.52458338 0.07965269]\n",
      "0 \t [0.455107   0.3606712  0.42410529 0.48952318 0.47640241 0.127814  ]\n",
      "3 \t [0.41899672 0.36469978 0.47933204 0.52473448 0.32352372 0.28576692]\n",
      "1 \t [0.26237337 0.45271483 0.2030965  0.56833104 0.14597156 0.58365524]\n",
      "1 \t [0.2902935  0.43338996 0.28237325 0.57266339 0.19338827 0.53181368]\n",
      "3 \t [0.28552042 0.42235379 0.34552591 0.54990764 0.20112348 0.52712251]\n",
      "2 \t [0.30835031 0.39055986 0.5292796  0.48224702 0.26641687 0.41073841]\n",
      "3 \t [0.2723718  0.34561231 0.57760347 0.44411755 0.24225539 0.46563064]\n",
      "3 \t [0.25362    0.31101249 0.65795488 0.42966214 0.27573717 0.38131739]\n",
      "0 \t [0.38279262 0.36744243 0.50570854 0.49487452 0.40610406 0.22998577]\n",
      "0 \t [0.41761419 0.32482943 0.57039044 0.43827297 0.43389646 0.11995688]\n",
      "0 \t [0.44899047 0.36671722 0.49202919 0.45910188 0.44870354 0.09860994]\n",
      "0 \t [0.42987822 0.38390917 0.49277563 0.48235994 0.39666636 0.18701694]\n",
      "1 \t [0.23054777 0.46322025 0.09551068 0.57014485 0.12676094 0.61807682]\n",
      "2 \t [0.25660989 0.45275513 0.15232568 0.5838982  0.14961275 0.58535456]\n",
      "2 \t [0.29670921 0.38691217 0.37518988 0.54712744 0.18282829 0.53732723]\n",
      "3 \t [0.24043243 0.32744965 0.58653974 0.48146708 0.19880032 0.46862351]\n",
      "3 \t [0.18278638 0.27150874 0.69565152 0.40219942 0.17378438 0.46580653]\n",
      "3 \t [0.19984278 0.26773373 0.73578198 0.38590835 0.1996656  0.39776222]\n",
      "3 \t [0.33746377 0.34331996 0.57376684 0.48448924 0.33724632 0.300959  ]\n",
      "0 \t [0.41887691 0.30722891 0.60922752 0.41484619 0.42141949 0.09645003]\n",
      "0 \t [0.44703673 0.34054827 0.55775532 0.41593454 0.44532261 0.04219321]\n",
      "0 \t [0.44166798 0.38563891 0.54182493 0.42553052 0.41995664 0.07209691]\n",
      "3 \t [0.26156105 0.41772338 0.11157606 0.58154183 0.19391998 0.6073285 ]\n",
      "1 \t [0.28160601 0.41886695 0.15852002 0.59886997 0.18880488 0.57081294]\n",
      "2 \t [0.31455248 0.38640322 0.31391877 0.57930074 0.23190984 0.51364655]\n",
      "1 \t [0.260587   0.35965545 0.43398798 0.5317409  0.21344756 0.53487247]\n",
      "2 \t [0.25158843 0.35450731 0.52656348 0.51055875 0.23378065 0.4673704 ]\n",
      "2 \t [0.2742213  0.37510232 0.50947295 0.5190101  0.2430398  0.44283   ]\n",
      "0 \t [0.36134712 0.36838671 0.53264954 0.49974139 0.3503817  0.27837954]\n",
      "3 \t [0.42445251 0.33118501 0.54413469 0.43745597 0.46128859 0.09959471]\n",
      "0 \t [0.4401169  0.33263952 0.55025658 0.4046658  0.4772346  0.03685755]\n",
      "0 \t [0.42602935 0.34359624 0.61162303 0.3758419  0.42758353 0.04767675]\n",
      "2 \t [0.3003306  0.36748159 0.12293886 0.5835983  0.24710377 0.59832901]\n",
      "1 \t [0.32065857 0.38678022 0.20132203 0.60677778 0.22298208 0.53772511]\n",
      "3 \t [0.32557    0.40369421 0.25032505 0.59597717 0.22259362 0.51345479]\n",
      "3 \t [0.32226553 0.41176244 0.30322808 0.58266417 0.29219702 0.45800952]\n",
      "3 \t [0.31003883 0.4279981  0.28939586 0.58730734 0.29924527 0.44996216]\n",
      "3 \t [0.33643722 0.41005414 0.37156847 0.5710676  0.32394415 0.38670979]\n",
      "3 \t [0.37674628 0.39455378 0.44684904 0.5349927  0.36753595 0.28533423]\n",
      "3 \t [0.40757875 0.38406996 0.46024777 0.5007534  0.42133299 0.21509615]\n",
      "0 \t [0.42817003 0.35784689 0.49673149 0.44472793 0.48668741 0.08500758]\n",
      "0 \t [0.41341552 0.37814544 0.4760614  0.48619165 0.43885399 0.17459678]\n",
      "3 \t [0.32989273 0.41837843 0.19385183 0.59584111 0.23870514 0.51627994]\n",
      "2 \t [0.36171691 0.41014842 0.28043043 0.59994058 0.26251639 0.43983449]\n",
      "2 \t [0.36227497 0.43933518 0.28668808 0.59000318 0.27393332 0.41280526]\n",
      "3 \t [0.33923949 0.44150086 0.26948071 0.58886332 0.31876579 0.41109862]\n",
      "3 \t [0.32095647 0.45492364 0.24057262 0.58873427 0.32810788 0.42177413]\n",
      "3 \t [0.32795296 0.42435997 0.33567564 0.57791558 0.32983686 0.39611687]\n",
      "3 \t [0.35945897 0.44351551 0.35212574 0.56011064 0.34123497 0.34630257]\n",
      "3 \t [0.42883213 0.33737326 0.52932623 0.4553925  0.43967744 0.14627865]\n",
      "0 \t [0.39943816 0.39081536 0.41534099 0.5230015  0.4411726  0.21688831]\n",
      "0 \t [0.37486715 0.43394349 0.28982998 0.56542008 0.42552122 0.29393549]\n"
     ]
    }
   ],
   "source": [
    "p_vectors = []\n",
    "for i in range(10):\n",
    "    for j in range(10):\n",
    "        if(taggings[i][j] == 0):\n",
    "            p = LVQ.prototype(0, som2.weights[(i,j)], epsilon)\n",
    "            p_vectors.append(p)\n",
    "        elif(taggings[i][j] == 1):\n",
    "            p = LVQ.prototype(1, som2.weights[(i,j)], epsilon)\n",
    "            p_vectors.append(p)\n",
    "        elif(taggings[i][j] == 2):\n",
    "            p = LVQ.prototype(2, som2.weights[(i,j)], epsilon)\n",
    "            p_vectors.append(p)\n",
    "        elif(taggings[i][j] == 3):\n",
    "            p = LVQ.prototype(3, som2.weights[(i,j)], epsilon)\n",
    "            p_vectors.append(p)\n",
    "print(\"class id \\t Initial prototype vector \\n\")\n",
    "for p_v in p_vectors:\n",
    "    print(p_v.class_id, '\\t', p_v.p_vector)"
   ]
  },
  {
   "cell_type": "code",
   "execution_count": 19,
   "metadata": {},
   "outputs": [],
   "source": [
    "lvq2 = LVQ.LVQ(x_train2, y_train2, n_classes=2, n_neurons=25, p_vectors=p_vectors, epsilon=0.9, epsilon_dec_factor=0.001)\n",
    "neurons = lvq2.fit(x_train2, y_train2)"
   ]
  },
  {
   "cell_type": "code",
   "execution_count": 20,
   "metadata": {
    "scrolled": true
   },
   "outputs": [
    {
     "name": "stdout",
     "output_type": "stream",
     "text": [
      "             precision    recall  f1-score   support\n",
      "\n",
      "          0       0.98      0.83      0.90       558\n",
      "          1       0.83      0.81      0.82       165\n",
      "          2       0.60      0.52      0.55       139\n",
      "          3       0.75      0.93      0.83       453\n",
      "\n",
      "avg / total       0.84      0.83      0.83      1315\n",
      "\n"
     ]
    }
   ],
   "source": [
    "predicted_y2 = [lvq2.predict(instance) for instance in x_new]\n",
    "\n",
    "from sklearn.metrics import classification_report\n",
    "\n",
    "print (classification_report(y_new, predicted_y2, target_names=['0','1', '2', '3']))"
   ]
  },
  {
   "cell_type": "code",
   "execution_count": 21,
   "metadata": {},
   "outputs": [],
   "source": [
    "# Training the SOM\n",
    "from minisom import MiniSom\n",
    "som3 = MiniSom(x = 10, y = 10, input_len = 6, sigma = 1.0, learning_rate = 0.5)\n",
    "som3.random_weights_init(x_train3)\n",
    "som3.train_random(data = x_train3, num_iteration = 100)"
   ]
  },
  {
   "cell_type": "code",
   "execution_count": 22,
   "metadata": {},
   "outputs": [],
   "source": [
    "labels = np.zeros((4, 10, 10))"
   ]
  },
  {
   "cell_type": "code",
   "execution_count": 23,
   "metadata": {
    "scrolled": false
   },
   "outputs": [
    {
     "data": {
      "image/png": "[encoded data removed]",
      "text/plain": [
       "<Figure size 432x288 with 2 Axes>"
      ]
     },
     "metadata": {},
     "output_type": "display_data"
    }
   ],
   "source": [
    "# Visualizing the results\n",
    "from pylab import bone, pcolor, colorbar, plot, show\n",
    "bone()\n",
    "pcolor(som3.distance_map().T)\n",
    "colorbar()\n",
    "markers = ['1', '2', '3', '4', 's', '8', 'p', '>']\n",
    "colors = ['r', 'g', 'b', 'y', 'w', 'c', 'm', 'k']\n",
    "for i, x in enumerate(x_train3):\n",
    "    w = som3.winner(x)\n",
    "    plot(w[0] + 0.5,\n",
    "         w[1] + 0.5,\n",
    "         markers[y_train3[i]],\n",
    "         markeredgecolor = colors[y_train3[i]],\n",
    "         markerfacecolor = 'None',\n",
    "         markersize = 10,\n",
    "         markeredgewidth = 2)\n",
    "    if y_train3[i] == 0:\n",
    "        labels[0, w[0], w[1]] += 1\n",
    "    elif y_train3[i] == 1:\n",
    "        labels[1, w[0], w[1]] += 1\n",
    "    elif y_train3[i] == 2:\n",
    "        labels[2, w[0], w[1]] += 1\n",
    "    elif y_train3[i] == 3:\n",
    "        labels[3, w[0], w[1]] += 1\n",
    "show()"
   ]
  },
  {
   "cell_type": "code",
   "execution_count": 24,
   "metadata": {},
   "outputs": [
    {
     "name": "stderr",
     "output_type": "stream",
     "text": [
      "C:\\Users\\Thend\\Anaconda3\\lib\\site-packages\\ipykernel_launcher.py:6: RuntimeWarning: divide by zero encountered in double_scalars\n",
      "  \n",
      "C:\\Users\\Thend\\Anaconda3\\lib\\site-packages\\ipykernel_launcher.py:6: RuntimeWarning: invalid value encountered in double_scalars\n",
      "  \n"
     ]
    }
   ],
   "source": [
    "taggings = np.zeros((10, 10))\n",
    "for i in range(10):\n",
    "    for j in range(10):\n",
    "        tmp = np.array([labels[0][i][j], labels[1][i][j], labels[2][i][j], labels[3][i][j]])\n",
    "        sort = tmp.argsort()\n",
    "        if (tmp[sort[3]]/tmp[sort[2]] < 5):\n",
    "            taggings[i][j] = np.random.choice([sort[3], sort[2]])\n",
    "        else:\n",
    "            taggings[i][j] = sort[3]"
   ]
  },
  {
   "cell_type": "code",
   "execution_count": 25,
   "metadata": {},
   "outputs": [
    {
     "data": {
      "text/plain": [
       "array([[2., 3., 0., 0., 0., 3., 3., 3., 1., 1.],\n",
       "       [3., 3., 3., 0., 3., 3., 3., 2., 2., 1.],\n",
       "       [0., 3., 3., 0., 3., 3., 3., 3., 3., 3.],\n",
       "       [0., 3., 3., 3., 3., 3., 3., 3., 3., 3.],\n",
       "       [3., 3., 0., 3., 3., 3., 3., 0., 0., 0.],\n",
       "       [2., 3., 3., 3., 3., 3., 3., 3., 0., 3.],\n",
       "       [2., 3., 3., 2., 3., 3., 0., 3., 3., 3.],\n",
       "       [3., 3., 3., 3., 3., 3., 0., 0., 3., 3.],\n",
       "       [0., 3., 0., 0., 0., 0., 0., 0., 0., 3.],\n",
       "       [0., 0., 0., 0., 0., 0., 0., 3., 3., 3.]])"
      ]
     },
     "execution_count": 25,
     "metadata": {},
     "output_type": "execute_result"
    }
   ],
   "source": [
    "taggings"
   ]
  },
  {
   "cell_type": "code",
   "execution_count": 26,
   "metadata": {
    "scrolled": true
   },
   "outputs": [
    {
     "name": "stdout",
     "output_type": "stream",
     "text": [
      "class id \t Initial prototype vector \n",
      "\n",
      "2 \t [0.34989407 0.38116895 0.47566714 0.48812654 0.27248617 0.43989648]\n",
      "3 \t [0.4081126  0.42002856 0.45267749 0.51505165 0.33946872 0.2675556 ]\n",
      "0 \t [0.40956537 0.41385818 0.43455872 0.51449834 0.40888835 0.2005944 ]\n",
      "0 \t [0.39647977 0.43947629 0.39004119 0.53153453 0.4038135  0.22789899]\n",
      "0 \t [0.37973216 0.42081334 0.49422327 0.50305133 0.37762574 0.19698003]\n",
      "3 \t [0.36363526 0.45450756 0.31584392 0.57974195 0.32515563 0.34584388]\n",
      "3 \t [0.31272166 0.48162931 0.23379386 0.58548818 0.26987019 0.44716045]\n",
      "3 \t [0.27745586 0.49582678 0.12821356 0.59353436 0.25096749 0.49544689]\n",
      "1 \t [0.24804783 0.45445669 0.17070199 0.60353381 0.18194959 0.55266945]\n",
      "1 \t [0.18256561 0.37358799 0.17711455 0.60455203 0.09964518 0.64832085]\n",
      "3 \t [0.36717212 0.37176697 0.56666732 0.45647056 0.37741355 0.23463961]\n",
      "3 \t [0.35469437 0.39078862 0.55304279 0.47891008 0.32066017 0.28886334]\n",
      "3 \t [0.38781421 0.41177794 0.45820017 0.5216746  0.36933864 0.24806501]\n",
      "0 \t [0.40600215 0.43022417 0.41822235 0.52542064 0.40006866 0.19757963]\n",
      "3 \t [0.39787169 0.45725932 0.38535796 0.54770933 0.36651925 0.2231354 ]\n",
      "3 \t [0.38210465 0.46741892 0.35876353 0.55993107 0.32889587 0.29173452]\n",
      "3 \t [0.35996691 0.48043132 0.27841718 0.58599932 0.28974256 0.36707967]\n",
      "2 \t [0.31549264 0.48109599 0.19867772 0.59992667 0.25751136 0.45090364]\n",
      "2 \t [0.30176927 0.44901899 0.21713492 0.61011189 0.22628472 0.48654741]\n",
      "1 \t [0.25851273 0.40558507 0.20259185 0.62278295 0.17204806 0.55692847]\n",
      "0 \t [0.23672146 0.26665123 0.79551033 0.35987757 0.22849273 0.2414593 ]\n",
      "3 \t [0.29382409 0.33239742 0.68674678 0.42465057 0.30595448 0.24004574]\n",
      "3 \t [0.37079219 0.39128051 0.53930064 0.48926601 0.35805216 0.22579849]\n",
      "0 \t [0.38835156 0.43010181 0.4324461  0.52971322 0.36621516 0.24995247]\n",
      "3 \t [0.39135092 0.4580339  0.37193795 0.54998952 0.35755324 0.26149335]\n",
      "3 \t [0.38837918 0.46697936 0.33716053 0.56189879 0.34434    0.28829566]\n",
      "3 \t [0.37764307 0.46927359 0.30501445 0.57614793 0.32224751 0.32915696]\n",
      "3 \t [0.3563942  0.46332318 0.2847149  0.58961987 0.32197135 0.35487334]\n",
      "3 \t [0.35076388 0.44213013 0.25801956 0.59669715 0.3299967  0.38725475]\n",
      "3 \t [0.34311098 0.4075441  0.21566198 0.62555441 0.3015947  0.43289132]\n",
      "0 \t [0.08648092 0.1427441  0.92005619 0.21429567 0.10319794 0.26281047]\n",
      "3 \t [0.21719809 0.26293263 0.79670497 0.3582977  0.23963319 0.25129925]\n",
      "3 \t [0.30933375 0.37047239 0.61307244 0.46740442 0.30048574 0.28713489]\n",
      "3 \t [0.34682678 0.40929098 0.51539541 0.49791832 0.34150741 0.28637333]\n",
      "3 \t [0.36141361 0.44898765 0.40149502 0.53786295 0.34454651 0.3139796 ]\n",
      "3 \t [0.3774277  0.45508549 0.34944421 0.55247937 0.36848915 0.29549375]\n",
      "3 \t [0.3696316  0.46193442 0.30591328 0.56219887 0.3763459  0.31416926]\n",
      "3 \t [0.36140053 0.4494861  0.29505481 0.56409963 0.4026665  0.31614213]\n",
      "3 \t [0.35847038 0.44187804 0.27333247 0.57483695 0.40241504 0.3303888 ]\n",
      "3 \t [0.34739802 0.41782459 0.23802908 0.5950264  0.37806319 0.3887045 ]\n",
      "3 \t [0.17847134 0.23894452 0.7858169  0.37478412 0.14707065 0.36256364]\n",
      "3 \t [0.21378343 0.26555438 0.7860624  0.36127379 0.25892044 0.26139025]\n",
      "0 \t [0.1711112  0.29684674 0.76250548 0.36280451 0.18188486 0.36943084]\n",
      "3 \t [0.19198285 0.36196836 0.63232131 0.4311347  0.19378029 0.45701567]\n",
      "3 \t [0.27804231 0.40783869 0.54244337 0.48843824 0.2920157  0.37184699]\n",
      "3 \t [0.35139548 0.42635558 0.41907795 0.5222398  0.39618408 0.29903107]\n",
      "3 \t [0.35899684 0.45543962 0.32832866 0.54512115 0.41047089 0.30042118]\n",
      "0 \t [0.36009569 0.44531211 0.30078628 0.55454112 0.42883035 0.30024075]\n",
      "0 \t [0.3662976  0.42471132 0.30292804 0.5559007  0.44654468 0.29198153]\n",
      "0 \t [0.36696046 0.41778824 0.27350381 0.56451001 0.4356786  0.32787387]\n",
      "2 \t [0.23356171 0.31559607 0.62049033 0.43762409 0.21244248 0.4734904 ]\n",
      "3 \t [0.20089184 0.3316023  0.70626593 0.40532789 0.19484722 0.38550574]\n",
      "3 \t [0.10630707 0.28391087 0.75735967 0.35026419 0.12145537 0.44391818]\n",
      "3 \t [0.10865277 0.30402569 0.70224194 0.36993913 0.12354634 0.5005003 ]\n",
      "3 \t [0.18454853 0.37601094 0.59781724 0.44196774 0.17997565 0.48933163]\n",
      "3 \t [0.29494696 0.4077057  0.44259974 0.53600706 0.30752127 0.41111425]\n",
      "3 \t [0.36497017 0.42815789 0.34971336 0.5545994  0.40452512 0.29992848]\n",
      "3 \t [0.36030417 0.43420016 0.30606993 0.56619687 0.40208432 0.3251486 ]\n",
      "0 \t [0.37568156 0.41993057 0.3262401  0.55013401 0.43311428 0.29300797]\n",
      "3 \t [0.371282   0.40849585 0.32735557 0.54857608 0.4087216  0.34659787]\n",
      "2 \t [0.26310764 0.38984566 0.45305618 0.52763225 0.23593391 0.48936105]\n",
      "3 \t [0.18245002 0.29422838 0.73255876 0.38156055 0.18760482 0.40337983]\n",
      "3 \t [0.16306213 0.33612461 0.6797674  0.39884284 0.1851719  0.45275051]\n",
      "2 \t [0.13210581 0.32867685 0.63973884 0.40924396 0.13670503 0.52828488]\n",
      "3 \t [0.22107781 0.37180605 0.60606119 0.44505704 0.24242269 0.43443086]\n",
      "3 \t [0.33359167 0.41786227 0.44903495 0.52500354 0.36744012 0.31911499]\n",
      "0 \t [0.37393038 0.39435086 0.38975955 0.54610063 0.42945554 0.26475085]\n",
      "3 \t [0.34413428 0.40125514 0.34588105 0.57657076 0.35912751 0.37353153]\n",
      "3 \t [0.36074596 0.44096224 0.38374608 0.53004745 0.36425181 0.33841383]\n",
      "3 \t [0.37194276 0.39726736 0.40591337 0.52060869 0.33013545 0.39880915]\n",
      "3 \t [0.33257247 0.40732557 0.52229286 0.48837883 0.37093509 0.27310233]\n",
      "3 \t [0.2471167  0.35034239 0.60281587 0.47527792 0.27422912 0.3895072 ]\n",
      "3 \t [0.3024662  0.37918508 0.57128306 0.4813165  0.300486   0.34119075]\n",
      "3 \t [0.31869233 0.39254423 0.53532431 0.47711864 0.37421472 0.30015539]\n",
      "3 \t [0.36155797 0.39981251 0.53959669 0.47314699 0.365857   0.24605242]\n",
      "3 \t [0.37868767 0.42444929 0.45175396 0.50997724 0.38433876 0.25409396]\n",
      "0 \t [0.39819204 0.38613237 0.45024281 0.51651873 0.42388925 0.20773207]\n",
      "0 \t [0.34571405 0.34213184 0.54585647 0.51604358 0.35082348 0.27584456]\n",
      "3 \t [0.3879839  0.35479885 0.48744774 0.51899659 0.37047383 0.28173153]\n",
      "3 \t [0.38157952 0.38828396 0.42078278 0.54731711 0.35164932 0.32149842]\n",
      "0 \t [0.40438909 0.40519818 0.4727181  0.51485774 0.39544325 0.1654317 ]\n",
      "3 \t [0.36327959 0.38080804 0.40310261 0.56491562 0.40536877 0.27761117]\n",
      "0 \t [0.41043308 0.35364843 0.42013408 0.49046253 0.52645461 0.1107108 ]\n",
      "0 \t [0.42778503 0.34866175 0.43766654 0.46795205 0.53062991 0.05775578]\n",
      "0 \t [0.42535529 0.36997314 0.4536022  0.4699141  0.49787808 0.08795425]\n",
      "0 \t [0.4386755  0.37491373 0.52134949 0.44455172 0.43822562 0.07436585]\n",
      "0 \t [0.41764213 0.39228262 0.52421059 0.46951498 0.38471116 0.16865843]\n",
      "0 \t [0.41836784 0.36532896 0.51728724 0.47937377 0.40863254 0.16473384]\n",
      "0 \t [0.39797649 0.36187606 0.46985445 0.53370714 0.37832052 0.24885235]\n",
      "3 \t [0.3572512  0.3854286  0.38178285 0.57379828 0.35106944 0.35435012]\n",
      "0 \t [0.41964434 0.39725714 0.41132762 0.53816133 0.43069817 0.14756846]\n",
      "0 \t [0.42456817 0.35754422 0.39910642 0.51584962 0.51127132 0.07154625]\n",
      "0 \t [0.4222552  0.35121052 0.38664715 0.47618695 0.56418696 0.0616015 ]\n",
      "0 \t [0.41953355 0.34152789 0.41455074 0.45202999 0.57490735 0.02546387]\n",
      "0 \t [0.43348455 0.34456986 0.45890508 0.44854403 0.52955871 0.03383361]\n",
      "0 \t [0.44430973 0.35929398 0.52516406 0.42799973 0.46197851 0.0330379 ]\n",
      "0 \t [0.44373768 0.35814707 0.5830213  0.39948075 0.4160207  0.04749341]\n",
      "3 \t [0.41420449 0.33677484 0.58359866 0.43621261 0.38090035 0.19764471]\n",
      "3 \t [0.34474814 0.32128882 0.5756486  0.49665849 0.33643538 0.29443586]\n",
      "3 \t [0.40966244 0.34149393 0.45535494 0.53270117 0.43537606 0.18678224]\n"
     ]
    }
   ],
   "source": [
    "p_vectors = []\n",
    "for i in range(10):\n",
    "    for j in range(10):\n",
    "        if(taggings[i][j] == 0):\n",
    "            p = LVQ.prototype(0, som3.weights[(i,j)], epsilon)\n",
    "            p_vectors.append(p)\n",
    "        elif(taggings[i][j] == 1):\n",
    "            p = LVQ.prototype(1, som3.weights[(i,j)], epsilon)\n",
    "            p_vectors.append(p)\n",
    "        elif(taggings[i][j] == 2):\n",
    "            p = LVQ.prototype(2, som3.weights[(i,j)], epsilon)\n",
    "            p_vectors.append(p)\n",
    "        elif(taggings[i][j] == 3):\n",
    "            p = LVQ.prototype(3, som3.weights[(i,j)], epsilon)\n",
    "            p_vectors.append(p)\n",
    "print(\"class id \\t Initial prototype vector \\n\")\n",
    "for p_v in p_vectors:\n",
    "    print(p_v.class_id, '\\t', p_v.p_vector)"
   ]
  },
  {
   "cell_type": "code",
   "execution_count": 27,
   "metadata": {},
   "outputs": [],
   "source": [
    "lvq3 = LVQ.LVQ(x_train3, y_train3, n_classes=2, n_neurons=25, p_vectors=p_vectors, epsilon=0.9, epsilon_dec_factor=0.001)\n",
    "neurons = lvq3.fit(x_train3, y_train3)"
   ]
  },
  {
   "cell_type": "code",
   "execution_count": 28,
   "metadata": {
    "scrolled": true
   },
   "outputs": [
    {
     "name": "stdout",
     "output_type": "stream",
     "text": [
      "             precision    recall  f1-score   support\n",
      "\n",
      "          0       0.97      0.88      0.92       558\n",
      "          1       0.83      0.89      0.86       165\n",
      "          2       0.75      0.29      0.42       139\n",
      "          3       0.73      0.94      0.82       453\n",
      "\n",
      "avg / total       0.85      0.84      0.83      1315\n",
      "\n"
     ]
    }
   ],
   "source": [
    "predicted_y3 = [lvq3.predict(instance) for instance in x_new]\n",
    "\n",
    "from sklearn.metrics import classification_report\n",
    "\n",
    "print (classification_report(y_new, predicted_y3, target_names=['0','1', '2', '3']))"
   ]
  },
  {
   "cell_type": "code",
   "execution_count": 29,
   "metadata": {},
   "outputs": [],
   "source": [
    "ensemble = [np.asarray(predicted_y_new), np.asarray(predicted_y2), np.asarray(predicted_y3)]"
   ]
  },
  {
   "cell_type": "code",
   "execution_count": 30,
   "metadata": {},
   "outputs": [
    {
     "data": {
      "text/plain": [
       "1315"
      ]
     },
     "execution_count": 30,
     "metadata": {},
     "output_type": "execute_result"
    }
   ],
   "source": [
    "len(ensemble[0])"
   ]
  },
  {
   "cell_type": "code",
   "execution_count": 31,
   "metadata": {},
   "outputs": [],
   "source": [
    "predict = [np.bincount([ensemble[j][i] for j in range(3)]).argmax() for i in range(len(ensemble[1]))]"
   ]
  },
  {
   "cell_type": "code",
   "execution_count": 32,
   "metadata": {
    "scrolled": false
   },
   "outputs": [
    {
     "name": "stdout",
     "output_type": "stream",
     "text": [
      "             precision    recall  f1-score   support\n",
      "\n",
      "          0       0.97      0.91      0.94       558\n",
      "          1       0.74      0.96      0.84       165\n",
      "          2       0.87      0.29      0.43       139\n",
      "          3       0.80      0.94      0.86       453\n",
      "\n",
      "avg / total       0.87      0.86      0.85      1315\n",
      "\n"
     ]
    }
   ],
   "source": [
    "print (classification_report(y_new, predict, target_names=['0','1', '2', '3']))"
   ]
  },
  {
   "cell_type": "code",
   "execution_count": 33,
   "metadata": {},
   "outputs": [
    {
     "name": "stdout",
     "output_type": "stream",
     "text": [
      "# of 0:  420\n",
      "# of 1:  110\n",
      "# of 2:  111\n",
      "# of 3:  345\n"
     ]
    }
   ],
   "source": [
    "for i in range(0,4):\n",
    "    print(\"# of \" + str(i) +  \": \", len(y_train[y_train==i]))"
   ]
  }
 ],
 "metadata": {
  "kernelspec": {
   "display_name": "Python 3",
   "language": "python",
   "name": "python3"
  },
  "language_info": {
   "codemirror_mode": {
    "name": "ipython",
    "version": 3
   },
   "file_extension": ".py",
   "mimetype": "text/x-python",
   "name": "python",
   "nbconvert_exporter": "python",
   "pygments_lexer": "ipython3",
   "version": "3.6.5"
  }
 },
 "nbformat": 4,
 "nbformat_minor": 2
}
