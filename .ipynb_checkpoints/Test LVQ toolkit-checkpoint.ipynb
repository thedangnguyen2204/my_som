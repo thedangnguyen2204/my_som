{
 "cells": [
  {
   "cell_type": "code",
   "execution_count": null,
   "metadata": {},
   "outputs": [],
   "source": [
    "from sklearn.datasets import load_wine\n",
    "import numpy as np\n",
    "from sklearn.metrics import euclidean_distances\n",
    "import pandas as pd\n",
    "import LVQ"
   ]
  },
  {
   "cell_type": "code",
   "execution_count": null,
   "metadata": {},
   "outputs": [],
   "source": [
    "data = pd.read_csv(r\"train.csv\")"
   ]
  },
  {
   "cell_type": "code",
   "execution_count": null,
   "metadata": {},
   "outputs": [],
   "source": [
    "x_train = data.iloc[:, 0:6].values\n",
    "y_train = data.iloc[:, 6].values\n",
    "y_train[y_train==4] = 0"
   ]
  },
  {
   "cell_type": "code",
   "execution_count": 36,
   "metadata": {},
   "outputs": [],
   "source": [
    "data_new = pd.read_csv(r\"SD-3X_rocktype.csv\")\n",
    "x_test = data_new.iloc[:, 0:6].values\n",
    "y_test = data_new.iloc[:, 6].values\n",
    "y_test[y_test==4] = 0"
   ]
  },
  {
   "cell_type": "code",
   "execution_count": 37,
   "metadata": {
    "scrolled": true
   },
   "outputs": [],
   "source": [
    "from sklearn.preprocessing import MinMaxScaler\n",
    "minmax = MinMaxScaler()\n",
    "x_train = minmax.fit_transform(x_train)\n",
    "x_test = minmax.transform(x_test)"
   ]
  },
  {
   "cell_type": "code",
   "execution_count": 38,
   "metadata": {
    "scrolled": true
   },
   "outputs": [],
   "source": [
    "# # use Minmaxscaler because we use euclidean distance\n",
    "# from sklearn.cross_validation import train_test_split\n",
    "# x_train, x_test, y_train, y_test = train_test_split(x, y, test_size=0.25, random_state=44)\n",
    "\n",
    "# # use Minmaxscaler because we use euclidean distance\n",
    "# from sklearn.preprocessing import MinMaxScaler\n",
    "# minmax = MinMaxScaler()\n",
    "# x_train = minmax.fit_transform(x_train)\n",
    "# x_test = minmax.transform(x_test)"
   ]
  },
  {
   "cell_type": "code",
   "execution_count": 39,
   "metadata": {
    "scrolled": true
   },
   "outputs": [],
   "source": [
    "lvq = LVQ.LVQ(x_train, y_train, n_classes=4, n_neurons=15, epsilon=0.9, epsilon_dec_factor=0.001)\n",
    "neurons = lvq.train_LVQ2(x_train, y_train)"
   ]
  },
  {
   "cell_type": "code",
   "execution_count": 40,
   "metadata": {},
   "outputs": [
    {
     "name": "stdout",
     "output_type": "stream",
     "text": [
      "             precision    recall  f1-score   support\n",
      "\n",
      "          0       0.94      0.89      0.91       331\n",
      "          1       0.96      0.93      0.94        95\n",
      "          2       0.56      0.69      0.62        26\n",
      "          3       0.82      0.87      0.84       205\n",
      "\n",
      "avg / total       0.89      0.88      0.88       657\n",
      "\n"
     ]
    }
   ],
   "source": [
    "predicted_y = [lvq.predict(instance) for instance in x_test]\n",
    "from sklearn.metrics import classification_report\n",
    "print (classification_report(y_test,predicted_y,target_names=['0', '1', '2', '3']))"
   ]
  }
 ],
 "metadata": {
  "kernelspec": {
   "display_name": "Python 3",
   "language": "python",
   "name": "python3"
  },
  "language_info": {
   "codemirror_mode": {
    "name": "ipython",
    "version": 3
   },
   "file_extension": ".py",
   "mimetype": "text/x-python",
   "name": "python",
   "nbconvert_exporter": "python",
   "pygments_lexer": "ipython3",
   "version": "3.6.5"
  }
 },
 "nbformat": 4,
 "nbformat_minor": 2
}
