{
 "cells": [
  {
   "cell_type": "code",
   "execution_count": 1,
   "metadata": {},
   "outputs": [],
   "source": [
    "from sklearn.datasets import load_breast_cancer\n",
    "import numpy as np\n",
    "from sklearn.metrics import euclidean_distances"
   ]
  },
  {
   "cell_type": "code",
   "execution_count": 2,
   "metadata": {},
   "outputs": [],
   "source": [
    "data = load_breast_cancer()\n",
    "x = data['data']\n",
    "y = data['target']"
   ]
  },
  {
   "cell_type": "code",
   "execution_count": 3,
   "metadata": {},
   "outputs": [
    {
     "data": {
      "text/plain": [
       "569"
      ]
     },
     "execution_count": 3,
     "metadata": {},
     "output_type": "execute_result"
    }
   ],
   "source": [
    "len(x)"
   ]
  },
  {
   "cell_type": "code",
   "execution_count": null,
   "metadata": {},
   "outputs": [],
   "source": [
    "from sklearn.cross_validation import train"
   ]
  },
  {
   "cell_type": "code",
   "execution_count": 55,
   "metadata": {},
   "outputs": [],
   "source": [
    "# use Minmaxscaler because we use euclidean distance\n",
    "from sklearn.preprocessing import MinMaxScaler\n",
    "minmax = MinMaxScaler()\n",
    "x = minmax.fit_transform(x)"
   ]
  },
  {
   "cell_type": "code",
   "execution_count": 56,
   "metadata": {},
   "outputs": [],
   "source": [
    "# parameter for LVQ\n",
    "R = 6 # R is the # of initial prototype for each class\n",
    "n_classes = 3\n",
    "epsilon = 0.9\n",
    "epsilon_dec_factor = 0.001"
   ]
  },
  {
   "cell_type": "code",
   "execution_count": 57,
   "metadata": {},
   "outputs": [],
   "source": [
    "# class of prototype vectors\n",
    "class prototype(object):\n",
    "    def __init__(self, class_id, p_vector, epsilon):\n",
    "        self.class_id = class_id\n",
    "        self.p_vector = p_vector\n",
    "        self.epsilon = epsilon\n",
    "    def update(self, u_vector, increment = True):\n",
    "        if increment:\n",
    "            # Move the prototype closer to input vector\n",
    "            self.p_vector = self.p_vector + self.epsilon * (u_vector - self.p_vector)\n",
    "        else:\n",
    "            # Move the prototype away from input vector\n",
    "            self.p_vector = self.p_vector - self.epsilon * (u_vector - self.p_vector)"
   ]
  },
  {
   "cell_type": "code",
   "execution_count": 58,
   "metadata": {},
   "outputs": [],
   "source": [
    "# function to find the closest prototype vector for a given vector\n",
    "def find_closest(in_vector, proto_vectors):\n",
    "    closest = None\n",
    "    closest_distance = 99999\n",
    "    for p_v in proto_vectors:\n",
    "        distance = np.linalg.norm(in_vector - p_v.p_vector)\n",
    "        if distance < closest_distance:\n",
    "            closest_distance = distance\n",
    "            closest = p_v\n",
    "    return closest"
   ]
  },
  {
   "cell_type": "code",
   "execution_count": 59,
   "metadata": {},
   "outputs": [],
   "source": [
    "def find_class_id(test_vector, p_vectors):\n",
    "    return find_closest(test_vector, p_vectors).class_id"
   ]
  },
  {
   "cell_type": "code",
   "execution_count": 60,
   "metadata": {},
   "outputs": [
    {
     "name": "stdout",
     "output_type": "stream",
     "text": [
      "class id \t Initial prototype vector \n",
      "\n",
      "0 \t [0.22222222 0.75       0.15254237 0.125     ]\n",
      "0 \t [0.13888889 0.45833333 0.10169492 0.04166667]\n",
      "0 \t [0.22222222 0.54166667 0.11864407 0.16666667]\n",
      "0 \t [0.25       0.875      0.08474576 0.        ]\n",
      "0 \t [0.22222222 0.625      0.06779661 0.08333333]\n",
      "0 \t [0.33333333 0.91666667 0.06779661 0.04166667]\n",
      "1 \t [0.25       0.29166667 0.49152542 0.54166667]\n",
      "1 \t [0.63888889 0.41666667 0.57627119 0.54166667]\n",
      "1 \t [0.5        0.33333333 0.62711864 0.45833333]\n",
      "1 \t [0.55555556 0.125      0.57627119 0.5       ]\n",
      "1 \t [0.38888889 0.25       0.42372881 0.375     ]\n",
      "1 \t [0.33333333 0.16666667 0.47457627 0.41666667]\n",
      "2 \t [1.         0.75       0.91525424 0.79166667]\n",
      "2 \t [1.         0.75       0.91525424 0.79166667]\n",
      "2 \t [0.72222222 0.45833333 0.74576271 0.83333333]\n",
      "2 \t [0.66666667 0.20833333 0.81355932 0.70833333]\n",
      "2 \t [0.55555556 0.33333333 0.69491525 0.58333333]\n",
      "2 \t [0.58333333 0.45833333 0.76271186 0.70833333]\n"
     ]
    }
   ],
   "source": [
    "# Choose R initial prototype for each class\n",
    "p_vectors = []\n",
    "for i in range(n_classes):\n",
    "    # select class i\n",
    "    y_subset = np.where(y == i)\n",
    "    # select tuple for chosen class\n",
    "    x_subset = x[y_subset]\n",
    "    # get R random indices between 0 and 50\n",
    "    samples = np.random.randint(0, len(x_subset), R)\n",
    "    # select p_vectors, they are chosen randomly from the samples x\n",
    "    for sample in samples:\n",
    "        s = x_subset[sample]\n",
    "        p = prototype(i, s, epsilon)\n",
    "        p_vectors.append(p)\n",
    "print(\"class id \\t Initial prototype vector \\n\")\n",
    "for p_v in p_vectors:\n",
    "    print(p_v.class_id, '\\t', p_v.p_vector)"
   ]
  },
  {
   "cell_type": "code",
   "execution_count": 61,
   "metadata": {},
   "outputs": [
    {
     "name": "stdout",
     "output_type": "stream",
     "text": [
      "class id \t Final prototype vector \n",
      "\n",
      "0 \t [0.16649692 0.61065163 0.07063595 0.05133676]\n",
      "0 \t [0.05549663 0.12562153 0.05088467 0.08323234]\n",
      "0 \t [0.25893174 0.5978987  0.09055977 0.11513863]\n",
      "0 \t [0.3432007  0.89192764 0.06447529 0.04155285]\n",
      "0 \t [0.11003612 0.44121483 0.07283661 0.03611766]\n",
      "0 \t [0.27646304 0.74143723 0.09950247 0.08549193]\n",
      "1 \t [0.42048382 0.34734102 0.53319468 0.50366652]\n",
      "1 \t [0.52110326 0.54276528 0.61084272 0.6259976 ]\n",
      "1 \t [0.67572055 0.42031504 0.63069703 0.57630459]\n",
      "1 \t [0.54861142 0.11787067 0.5528514  0.50924518]\n",
      "1 \t [0.20573058 0.14090209 0.37361206 0.39298281]\n",
      "1 \t [0.36385305 0.20770709 0.49459447 0.43242702]\n",
      "2 \t [0.8067022  0.66735017 0.86523405 0.99896353]\n",
      "2 \t [0.9676283  0.75       0.94488258 0.84022422]\n",
      "2 \t [0.53768516 0.36226556 0.71154466 0.77401344]\n",
      "2 \t [0.83233174 0.38928811 0.86702691 0.73662531]\n",
      "2 \t [0.33480842 0.22883409 0.65843117 0.7573677 ]\n",
      "2 \t [0.66142564 0.48897114 0.77188966 0.87701589]\n"
     ]
    }
   ],
   "source": [
    "while epsilon >= 0.01:\n",
    "    rnd_i = np.random.randint(0, 149)\n",
    "    rnd_s = x[rnd_i]\n",
    "    target_y = y[rnd_i]\n",
    "    \n",
    "    epsilon = epsilon - epsilon_dec_factor\n",
    "    \n",
    "    closest_pvector = find_closest(rnd_s, p_vectors)\n",
    "    \n",
    "    if target_y == closest_pvector.class_id:\n",
    "        closest_pvector.update(rnd_s)\n",
    "    else:\n",
    "        closest_pvector.update(rnd_s, False)\n",
    "    closest_pvector.epsilon = epsilon\n",
    "\n",
    "print(\"class id \\t Final prototype vector \\n\")\n",
    "for p_v in p_vectors:\n",
    "    print(p_v.class_id, '\\t', p_v.p_vector)"
   ]
  },
  {
   "cell_type": "code",
   "execution_count": 62,
   "metadata": {},
   "outputs": [
    {
     "name": "stdout",
     "output_type": "stream",
     "text": [
      "                  precision    recall  f1-score   support\n",
      "\n",
      "     Iris-Setosa       1.00      1.00      1.00        50\n",
      "Iris-Versicolour       0.94      0.98      0.96        50\n",
      "  Iris-Virginica       0.98      0.94      0.96        50\n",
      "\n",
      "     avg / total       0.97      0.97      0.97       150\n",
      "\n"
     ]
    }
   ],
   "source": [
    "predicted_y = [find_class_id(instance, p_vectors) for instance in x]\n",
    "\n",
    "from sklearn.metrics import classification_report\n",
    "\n",
    "print (classification_report(y, predicted_y, target_names=['Iris-Setosa','Iris-Versicolour', 'Iris-Virginica']))"
   ]
  }
 ],
 "metadata": {
  "kernelspec": {
   "display_name": "Python 3",
   "language": "python",
   "name": "python3"
  },
  "language_info": {
   "codemirror_mode": {
    "name": "ipython",
    "version": 3
   },
   "file_extension": ".py",
   "mimetype": "text/x-python",
   "name": "python",
   "nbconvert_exporter": "python",
   "pygments_lexer": "ipython3",
   "version": "3.6.5"
  }
 },
 "nbformat": 4,
 "nbformat_minor": 2
}
