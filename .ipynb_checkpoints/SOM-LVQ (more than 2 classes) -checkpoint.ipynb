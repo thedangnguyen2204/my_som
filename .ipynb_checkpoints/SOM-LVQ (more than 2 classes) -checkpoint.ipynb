{
 "cells": [
  {
   "cell_type": "code",
   "execution_count": 18,
   "metadata": {},
   "outputs": [],
   "source": [
    "import numpy as np\n",
    "from sklearn.metrics import euclidean_distances\n",
    "import pandas as pd\n",
    "import minisom\n",
    "from sklearn.datasets import load_breast_cancer\n",
    "from sklearn.model_selection import KFold\n",
    "from random import randint, choice\n",
    "import LVQ"
   ]
  },
  {
   "cell_type": "code",
   "execution_count": 19,
   "metadata": {},
   "outputs": [],
   "source": [
    "data = pd.read_csv(r\"data/SD-2X_rocktype.csv\")\n",
    "x = data.iloc[:, 0:6].values\n",
    "y = data.iloc[:, 6].values\n",
    "y[y==4] = 0\n",
    "from sklearn.cross_validation import train_test_split\n",
    "x_train, x_test, y_train, y_test = train_test_split(x, y, test_size=0.25, random_state=44)\n",
    "\n",
    "# use Minmaxscaler because we use euclidean distance\n",
    "from sklearn.preprocessing import MinMaxScaler\n",
    "minmax = MinMaxScaler()\n",
    "x_train = minmax.fit_transform(x_train)\n",
    "x_test = minmax.transform(x_test)"
   ]
  },
  {
   "cell_type": "code",
   "execution_count": 20,
   "metadata": {},
   "outputs": [
    {
     "data": {
      "text/plain": [
       "array([0, 1, 2, 3], dtype=int64)"
      ]
     },
     "execution_count": 20,
     "metadata": {},
     "output_type": "execute_result"
    }
   ],
   "source": [
    "np.unique(y_test)"
   ]
  },
  {
   "cell_type": "code",
   "execution_count": 21,
   "metadata": {},
   "outputs": [],
   "source": [
    "# Training the SOM\n",
    "from minisom import MiniSom\n",
    "som = MiniSom(x = 10, y = 10, input_len = 6, sigma = 1.0, learning_rate = 0.5)\n",
    "som.random_weights_init(x_train)\n",
    "som.train_random(data = x_train, num_iteration = 100)"
   ]
  },
  {
   "cell_type": "code",
   "execution_count": 22,
   "metadata": {
    "scrolled": true
   },
   "outputs": [
    {
     "data": {
      "text/plain": [
       "array([[[0., 0., 0., 0., 0., 0., 0., 0., 0., 0.],\n",
       "        [0., 0., 0., 0., 0., 0., 0., 0., 0., 0.],\n",
       "        [0., 0., 0., 0., 0., 0., 0., 0., 0., 0.],\n",
       "        [0., 0., 0., 0., 0., 0., 0., 0., 0., 0.],\n",
       "        [0., 0., 0., 0., 0., 0., 0., 0., 0., 0.],\n",
       "        [0., 0., 0., 0., 0., 0., 0., 0., 0., 0.],\n",
       "        [0., 0., 0., 0., 0., 0., 0., 0., 0., 0.],\n",
       "        [0., 0., 0., 0., 0., 0., 0., 0., 0., 0.],\n",
       "        [0., 0., 0., 0., 0., 0., 0., 0., 0., 0.],\n",
       "        [0., 0., 0., 0., 0., 0., 0., 0., 0., 0.]],\n",
       "\n",
       "       [[0., 0., 0., 0., 0., 0., 0., 0., 0., 0.],\n",
       "        [0., 0., 0., 0., 0., 0., 0., 0., 0., 0.],\n",
       "        [0., 0., 0., 0., 0., 0., 0., 0., 0., 0.],\n",
       "        [0., 0., 0., 0., 0., 0., 0., 0., 0., 0.],\n",
       "        [0., 0., 0., 0., 0., 0., 0., 0., 0., 0.],\n",
       "        [0., 0., 0., 0., 0., 0., 0., 0., 0., 0.],\n",
       "        [0., 0., 0., 0., 0., 0., 0., 0., 0., 0.],\n",
       "        [0., 0., 0., 0., 0., 0., 0., 0., 0., 0.],\n",
       "        [0., 0., 0., 0., 0., 0., 0., 0., 0., 0.],\n",
       "        [0., 0., 0., 0., 0., 0., 0., 0., 0., 0.]],\n",
       "\n",
       "       [[0., 0., 0., 0., 0., 0., 0., 0., 0., 0.],\n",
       "        [0., 0., 0., 0., 0., 0., 0., 0., 0., 0.],\n",
       "        [0., 0., 0., 0., 0., 0., 0., 0., 0., 0.],\n",
       "        [0., 0., 0., 0., 0., 0., 0., 0., 0., 0.],\n",
       "        [0., 0., 0., 0., 0., 0., 0., 0., 0., 0.],\n",
       "        [0., 0., 0., 0., 0., 0., 0., 0., 0., 0.],\n",
       "        [0., 0., 0., 0., 0., 0., 0., 0., 0., 0.],\n",
       "        [0., 0., 0., 0., 0., 0., 0., 0., 0., 0.],\n",
       "        [0., 0., 0., 0., 0., 0., 0., 0., 0., 0.],\n",
       "        [0., 0., 0., 0., 0., 0., 0., 0., 0., 0.]],\n",
       "\n",
       "       [[0., 0., 0., 0., 0., 0., 0., 0., 0., 0.],\n",
       "        [0., 0., 0., 0., 0., 0., 0., 0., 0., 0.],\n",
       "        [0., 0., 0., 0., 0., 0., 0., 0., 0., 0.],\n",
       "        [0., 0., 0., 0., 0., 0., 0., 0., 0., 0.],\n",
       "        [0., 0., 0., 0., 0., 0., 0., 0., 0., 0.],\n",
       "        [0., 0., 0., 0., 0., 0., 0., 0., 0., 0.],\n",
       "        [0., 0., 0., 0., 0., 0., 0., 0., 0., 0.],\n",
       "        [0., 0., 0., 0., 0., 0., 0., 0., 0., 0.],\n",
       "        [0., 0., 0., 0., 0., 0., 0., 0., 0., 0.],\n",
       "        [0., 0., 0., 0., 0., 0., 0., 0., 0., 0.]]])"
      ]
     },
     "execution_count": 22,
     "metadata": {},
     "output_type": "execute_result"
    }
   ],
   "source": [
    "labels = np.zeros((4, 10, 10))\n",
    "labels"
   ]
  },
  {
   "cell_type": "code",
   "execution_count": 23,
   "metadata": {
    "scrolled": false
   },
   "outputs": [
    {
     "data": {
      "image/png": "[encoded data removed]",
      "text/plain": [
       "<Figure size 432x288 with 2 Axes>"
      ]
     },
     "metadata": {},
     "output_type": "display_data"
    }
   ],
   "source": [
    "# Visualizing the results\n",
    "from pylab import bone, pcolor, colorbar, plot, show\n",
    "bone()\n",
    "pcolor(som.distance_map().T)\n",
    "colorbar()\n",
    "markers = ['1', '2', '3', '4', 's', '8', 'p', '>']\n",
    "colors = ['r', 'g', 'b', 'y', 'w', 'c', 'm', 'k']\n",
    "for i, x in enumerate(x_train):\n",
    "    w = som.winner(x)\n",
    "    plot(w[0] + 0.5,\n",
    "         w[1] + 0.5,\n",
    "         markers[y_train[i]],\n",
    "         markeredgecolor = colors[y_train[i]],\n",
    "         markerfacecolor = 'None',\n",
    "         markersize = 10,\n",
    "         markeredgewidth = 2)\n",
    "    if y_train[i] == 0:\n",
    "        labels[0, w[0], w[1]] += 1\n",
    "    elif y_train[i] == 1:\n",
    "        labels[1, w[0], w[1]] += 1\n",
    "    elif y_train[i] == 2:\n",
    "        labels[2, w[0], w[1]] += 1\n",
    "    elif y_train[i] == 3:\n",
    "        labels[3, w[0], w[1]] += 1\n",
    "show()"
   ]
  },
  {
   "cell_type": "code",
   "execution_count": 24,
   "metadata": {},
   "outputs": [
    {
     "name": "stderr",
     "output_type": "stream",
     "text": [
      "C:\\Users\\Thend\\Anaconda3\\lib\\site-packages\\ipykernel_launcher.py:6: RuntimeWarning: divide by zero encountered in double_scalars\n",
      "  \n",
      "C:\\Users\\Thend\\Anaconda3\\lib\\site-packages\\ipykernel_launcher.py:6: RuntimeWarning: invalid value encountered in double_scalars\n",
      "  \n"
     ]
    }
   ],
   "source": [
    "taggings = np.zeros((10, 10))\n",
    "for i in range(10):\n",
    "    for j in range(10):\n",
    "        tmp = np.array([labels[0][i][j], labels[1][i][j], labels[2][i][j], labels[3][i][j]])\n",
    "        sort = tmp.argsort()\n",
    "        if (tmp[sort[3]]/tmp[sort[2]] < 5):\n",
    "            taggings[i][j] = np.random.choice([sort[3], sort[2]])\n",
    "        else:\n",
    "            taggings[i][j] = sort[3]"
   ]
  },
  {
   "cell_type": "code",
   "execution_count": 25,
   "metadata": {},
   "outputs": [
    {
     "data": {
      "text/plain": [
       "array([[2., 3., 2., 3., 3., 3., 3., 3., 0., 0.],\n",
       "       [3., 3., 3., 3., 3., 3., 3., 3., 0., 0.],\n",
       "       [2., 3., 3., 3., 3., 3., 3., 3., 3., 0.],\n",
       "       [3., 3., 0., 3., 3., 3., 3., 3., 3., 3.],\n",
       "       [3., 3., 3., 3., 3., 2., 2., 3., 0., 0.],\n",
       "       [3., 0., 0., 3., 2., 3., 3., 3., 3., 3.],\n",
       "       [0., 0., 0., 3., 3., 3., 3., 0., 0., 0.],\n",
       "       [0., 0., 3., 3., 3., 3., 0., 0., 0., 3.],\n",
       "       [0., 0., 3., 2., 1., 2., 3., 0., 0., 3.],\n",
       "       [0., 0., 3., 2., 1., 2., 0., 0., 0., 0.]])"
      ]
     },
     "execution_count": 25,
     "metadata": {},
     "output_type": "execute_result"
    }
   ],
   "source": [
    "taggings"
   ]
  },
  {
   "cell_type": "code",
   "execution_count": 26,
   "metadata": {},
   "outputs": [
    {
     "data": {
      "text/plain": [
       "array([[[0.18204259, 0.34540434, 0.48679276, 0.51466325, 0.19373006,\n",
       "         0.55513921],\n",
       "        [0.30020318, 0.42180747, 0.38257794, 0.55208907, 0.35356497,\n",
       "         0.39468988],\n",
       "        [0.36707811, 0.4571047 , 0.35255828, 0.55436273, 0.31745164,\n",
       "         0.35201994],\n",
       "        [0.39495455, 0.48036803, 0.38693679, 0.53412918, 0.31510087,\n",
       "         0.28098904],\n",
       "        [0.36223415, 0.49880062, 0.25281231, 0.55015803, 0.28651516,\n",
       "         0.4138907 ],\n",
       "        [0.36202383, 0.49356326, 0.25982727, 0.57672007, 0.27418324,\n",
       "         0.38735172],\n",
       "        [0.34108674, 0.47125239, 0.26984156, 0.56395003, 0.31343438,\n",
       "         0.41531411],\n",
       "        [0.34990513, 0.48049287, 0.27143123, 0.55973063, 0.37377311,\n",
       "         0.34642948],\n",
       "        [0.37423931, 0.44603967, 0.35603376, 0.52057544, 0.45724318,\n",
       "         0.23273031],\n",
       "        [0.36660109, 0.45037193, 0.38011096, 0.51534629, 0.38729741,\n",
       "         0.3204736 ]],\n",
       "\n",
       "       [[0.28079202, 0.42770744, 0.44920635, 0.53183857, 0.2337303 ,\n",
       "         0.44604228],\n",
       "        [0.25374897, 0.38192824, 0.54446667, 0.47451443, 0.24884799,\n",
       "         0.45410247],\n",
       "        [0.38504326, 0.41119998, 0.39796283, 0.56288845, 0.36191255,\n",
       "         0.27650995],\n",
       "        [0.38292156, 0.46342763, 0.38877489, 0.54924123, 0.32462759,\n",
       "         0.28356832],\n",
       "        [0.38499425, 0.47439649, 0.30900699, 0.5596391 , 0.31575522,\n",
       "         0.34401278],\n",
       "        [0.38009249, 0.47652   , 0.28954782, 0.568716  , 0.32223996,\n",
       "         0.34255506],\n",
       "        [0.3738884 , 0.47067362, 0.30558724, 0.54971988, 0.35331511,\n",
       "         0.3438993 ],\n",
       "        [0.32776243, 0.46564353, 0.37384846, 0.5260786 , 0.3689314 ,\n",
       "         0.35087912],\n",
       "        [0.37078912, 0.45378239, 0.34159379, 0.52434667, 0.45135375,\n",
       "         0.24748945],\n",
       "        [0.37701155, 0.43520062, 0.37172253, 0.51637592, 0.46368745,\n",
       "         0.22053327]],\n",
       "\n",
       "       [[0.25503733, 0.38871164, 0.50662999, 0.51644036, 0.22229031,\n",
       "         0.45941447],\n",
       "        [0.32445981, 0.38685092, 0.50428442, 0.53526237, 0.30054018,\n",
       "         0.33754883],\n",
       "        [0.37509318, 0.42377263, 0.41303112, 0.56284895, 0.32248217,\n",
       "         0.29720947],\n",
       "        [0.38554504, 0.45872214, 0.3275182 , 0.56736707, 0.33830562,\n",
       "         0.31193712],\n",
       "        [0.39605975, 0.45912386, 0.302296  , 0.56693015, 0.34644914,\n",
       "         0.31547152],\n",
       "        [0.38161091, 0.46228876, 0.27841033, 0.57525878, 0.32733977,\n",
       "         0.35366074],\n",
       "        [0.36272632, 0.45486143, 0.26368882, 0.57917474, 0.30776975,\n",
       "         0.40228511],\n",
       "        [0.34478139, 0.45065106, 0.26267724, 0.55951849, 0.30441536,\n",
       "         0.45089958],\n",
       "        [0.35805522, 0.43817544, 0.27089053, 0.57663957, 0.35898105,\n",
       "         0.38083655],\n",
       "        [0.38771113, 0.45371965, 0.35400906, 0.53138965, 0.41637936,\n",
       "         0.25049834]],\n",
       "\n",
       "       [[0.18365563, 0.32199028, 0.67862712, 0.43133269, 0.18411299,\n",
       "         0.42674655],\n",
       "        [0.29856417, 0.38391744, 0.5243671 , 0.53099549, 0.27751948,\n",
       "         0.35990653],\n",
       "        [0.37293572, 0.40742569, 0.44657685, 0.56041486, 0.32185567,\n",
       "         0.2789919 ],\n",
       "        [0.38390714, 0.44521492, 0.33659659, 0.57592392, 0.33131969,\n",
       "         0.31565904],\n",
       "        [0.38361249, 0.4524986 , 0.28001263, 0.58705903, 0.3161262 ,\n",
       "         0.3537023 ],\n",
       "        [0.35134904, 0.45726005, 0.21878534, 0.60343604, 0.25859576,\n",
       "         0.43427325],\n",
       "        [0.31349652, 0.45536817, 0.18560713, 0.59665032, 0.20902744,\n",
       "         0.5101232 ],\n",
       "        [0.30889239, 0.4270155 , 0.20315383, 0.59000564, 0.22913831,\n",
       "         0.52949103],\n",
       "        [0.35677921, 0.43409741, 0.27959667, 0.57103353, 0.37990639,\n",
       "         0.36835523],\n",
       "        [0.34029626, 0.42333465, 0.29221292, 0.58267256, 0.36891663,\n",
       "         0.37946153]],\n",
       "\n",
       "       [[0.29561644, 0.39309686, 0.52465664, 0.52062387, 0.26962681,\n",
       "         0.37292542],\n",
       "        [0.34601089, 0.38404693, 0.50974881, 0.53196489, 0.32986349,\n",
       "         0.28485788],\n",
       "        [0.37996274, 0.40223082, 0.43955258, 0.55764782, 0.34574575,\n",
       "         0.26480371],\n",
       "        [0.38307795, 0.42412095, 0.34885021, 0.58511809, 0.29974358,\n",
       "         0.34563976],\n",
       "        [0.37089472, 0.44337387, 0.27602896, 0.59795989, 0.28587516,\n",
       "         0.38779387],\n",
       "        [0.33000302, 0.45952173, 0.19875   , 0.60811679, 0.21187829,\n",
       "         0.47511872],\n",
       "        [0.30167038, 0.47535975, 0.16842921, 0.59779655, 0.17826614,\n",
       "         0.51528648],\n",
       "        [0.31827723, 0.45670552, 0.1952615 , 0.59290862, 0.2382594 ,\n",
       "         0.49364405],\n",
       "        [0.34210866, 0.43671954, 0.22684021, 0.59087103, 0.3641726 ,\n",
       "         0.39878687],\n",
       "        [0.36295237, 0.40074562, 0.25853829, 0.58766662, 0.44701984,\n",
       "         0.30926959]],\n",
       "\n",
       "       [[0.34984925, 0.39265401, 0.49439966, 0.51741377, 0.34821583,\n",
       "         0.30004337],\n",
       "        [0.36988279, 0.39049946, 0.46837795, 0.5377666 , 0.3640308 ,\n",
       "         0.2638326 ],\n",
       "        [0.39313703, 0.4013989 , 0.4376817 , 0.54847893, 0.35894089,\n",
       "         0.2511757 ],\n",
       "        [0.38642388, 0.43193448, 0.36705857, 0.57487046, 0.30214668,\n",
       "         0.3280374 ],\n",
       "        [0.36303246, 0.43271043, 0.32321366, 0.59689534, 0.26250732,\n",
       "         0.38898318],\n",
       "        [0.34932066, 0.43676088, 0.25695718, 0.60287949, 0.22892934,\n",
       "         0.45311775],\n",
       "        [0.33708259, 0.46339542, 0.2249917 , 0.59454016, 0.23339916,\n",
       "         0.46159027],\n",
       "        [0.36113231, 0.43753217, 0.29754789, 0.57578596, 0.31130262,\n",
       "         0.4014667 ],\n",
       "        [0.37914558, 0.43820121, 0.31969745, 0.56246353, 0.38767533,\n",
       "         0.30881141],\n",
       "        [0.34369912, 0.42963439, 0.28464444, 0.58562152, 0.36427009,\n",
       "         0.37499   ]],\n",
       "\n",
       "       [[0.37730035, 0.39027555, 0.45813133, 0.51702494, 0.42758818,\n",
       "         0.21283489],\n",
       "        [0.38396843, 0.3892427 , 0.45210631, 0.52310982, 0.41684248,\n",
       "         0.22193853],\n",
       "        [0.39156778, 0.40492344, 0.4293213 , 0.53665258, 0.39047276,\n",
       "         0.24068639],\n",
       "        [0.37745317, 0.42044146, 0.38412069, 0.56076962, 0.34895573,\n",
       "         0.31141083],\n",
       "        [0.33642275, 0.39313893, 0.49684303, 0.52842383, 0.28202933,\n",
       "         0.35585986],\n",
       "        [0.3871638 , 0.41924158, 0.35300867, 0.56608654, 0.32898343,\n",
       "         0.34791019],\n",
       "        [0.40527556, 0.41035698, 0.39013201, 0.54637389, 0.3836944 ,\n",
       "         0.26345789],\n",
       "        [0.4269275 , 0.39595848, 0.4405373 , 0.50854119, 0.42503165,\n",
       "         0.1661645 ],\n",
       "        [0.42316257, 0.39430835, 0.44177426, 0.51090413, 0.42999778,\n",
       "         0.15610493],\n",
       "        [0.39480234, 0.39603829, 0.44737029, 0.51994721, 0.41477844,\n",
       "         0.21156173]],\n",
       "\n",
       "       [[0.40860973, 0.39377735, 0.41045709, 0.49916695, 0.4859503 ,\n",
       "         0.15552207],\n",
       "        [0.39584008, 0.38434007, 0.42823593, 0.50587456, 0.47037096,\n",
       "         0.18721489],\n",
       "        [0.37112135, 0.40101912, 0.42490573, 0.53332168, 0.40396144,\n",
       "         0.27072287],\n",
       "        [0.34298889, 0.40107728, 0.41547513, 0.5552352 , 0.32600765,\n",
       "         0.36648185],\n",
       "        [0.3100689 , 0.401593  , 0.38178673, 0.57082502, 0.27942161,\n",
       "         0.43920563],\n",
       "        [0.36744071, 0.3913694 , 0.42467939, 0.54914094, 0.35943217,\n",
       "         0.31736016],\n",
       "        [0.4089501 , 0.36393763, 0.52128722, 0.48826778, 0.41322314,\n",
       "         0.13932001],\n",
       "        [0.43148168, 0.36291512, 0.50044914, 0.46044417, 0.46338846,\n",
       "         0.07020782],\n",
       "        [0.40646947, 0.35561876, 0.54639789, 0.45763527, 0.43530188,\n",
       "         0.10416069],\n",
       "        [0.3316967 , 0.35469149, 0.62600527, 0.45707827, 0.33726259,\n",
       "         0.22276007]],\n",
       "\n",
       "       [[0.4312051 , 0.35727575, 0.35584494, 0.49494054, 0.54894836,\n",
       "         0.11610403],\n",
       "        [0.42355216, 0.36529995, 0.39482401, 0.48839741, 0.52923463,\n",
       "         0.11248198],\n",
       "        [0.32383519, 0.35378084, 0.55556681, 0.48158467, 0.37257754,\n",
       "         0.3009611 ],\n",
       "        [0.3174221 , 0.3770117 , 0.38855337, 0.55561935, 0.29722908,\n",
       "         0.45724574],\n",
       "        [0.2395557 , 0.35432052, 0.36482196, 0.56217862, 0.19126148,\n",
       "         0.57562941],\n",
       "        [0.29823759, 0.3859024 , 0.40965848, 0.55576541, 0.28321078,\n",
       "         0.45302325],\n",
       "        [0.3709916 , 0.38342864, 0.46890286, 0.52911968, 0.38037828,\n",
       "         0.26612507],\n",
       "        [0.38328514, 0.34859057, 0.5848783 , 0.44393301, 0.41935358,\n",
       "         0.12868777],\n",
       "        [0.2852029 , 0.2750841 , 0.76427074, 0.36552836, 0.31458091,\n",
       "         0.16219169],\n",
       "        [0.15212375, 0.21330526, 0.85615543, 0.30308535, 0.15855409,\n",
       "         0.28523145]],\n",
       "\n",
       "       [[0.45227669, 0.32957031, 0.36806896, 0.46802864, 0.57469016,\n",
       "         0.04510932],\n",
       "        [0.43265614, 0.34193407, 0.37041514, 0.4873241 , 0.55994642,\n",
       "         0.0875078 ],\n",
       "        [0.36795506, 0.39939344, 0.41140008, 0.51659116, 0.39265972,\n",
       "         0.33881537],\n",
       "        [0.25286412, 0.36674118, 0.39683427, 0.54656905, 0.23699939,\n",
       "         0.53775159],\n",
       "        [0.18563779, 0.32207804, 0.33742858, 0.51888817, 0.15057184,\n",
       "         0.67529955],\n",
       "        [0.25349692, 0.35112674, 0.39257935, 0.5458712 , 0.19826684,\n",
       "         0.56660892],\n",
       "        [0.23714616, 0.30995065, 0.6801239 , 0.43790966, 0.26444628,\n",
       "         0.35132189],\n",
       "        [0.31394009, 0.34731416, 0.63137294, 0.44504832, 0.36774849,\n",
       "         0.2210786 ],\n",
       "        [0.1664233 , 0.19575796, 0.87837912, 0.27717692, 0.17850397,\n",
       "         0.23182217],\n",
       "        [0.08636407, 0.13060337, 0.93551912, 0.18311609, 0.10324186,\n",
       "         0.23684932]]])"
      ]
     },
     "execution_count": 26,
     "metadata": {},
     "output_type": "execute_result"
    }
   ],
   "source": [
    "mappings = som.win_map(x_train)\n",
    "som.weights"
   ]
  },
  {
   "cell_type": "code",
   "execution_count": 27,
   "metadata": {},
   "outputs": [],
   "source": [
    "epsilon = 0.9\n",
    "epsilon_dec_factor = 0.001"
   ]
  },
  {
   "cell_type": "code",
   "execution_count": 28,
   "metadata": {},
   "outputs": [],
   "source": [
    "def find_class_id(test_vector, p_vectors):\n",
    "    return find_closest(test_vector, p_vectors)[1].class_id"
   ]
  },
  {
   "cell_type": "code",
   "execution_count": 29,
   "metadata": {
    "scrolled": true
   },
   "outputs": [
    {
     "name": "stdout",
     "output_type": "stream",
     "text": [
      "class id \t Initial prototype vector \n",
      "\n",
      "2 \t [0.18204259 0.34540434 0.48679276 0.51466325 0.19373006 0.55513921]\n",
      "3 \t [0.30020318 0.42180747 0.38257794 0.55208907 0.35356497 0.39468988]\n",
      "2 \t [0.36707811 0.4571047  0.35255828 0.55436273 0.31745164 0.35201994]\n",
      "3 \t [0.39495455 0.48036803 0.38693679 0.53412918 0.31510087 0.28098904]\n",
      "3 \t [0.36223415 0.49880062 0.25281231 0.55015803 0.28651516 0.4138907 ]\n",
      "3 \t [0.36202383 0.49356326 0.25982727 0.57672007 0.27418324 0.38735172]\n",
      "3 \t [0.34108674 0.47125239 0.26984156 0.56395003 0.31343438 0.41531411]\n",
      "3 \t [0.34990513 0.48049287 0.27143123 0.55973063 0.37377311 0.34642948]\n",
      "0 \t [0.37423931 0.44603967 0.35603376 0.52057544 0.45724318 0.23273031]\n",
      "0 \t [0.36660109 0.45037193 0.38011096 0.51534629 0.38729741 0.3204736 ]\n",
      "3 \t [0.28079202 0.42770744 0.44920635 0.53183857 0.2337303  0.44604228]\n",
      "3 \t [0.25374897 0.38192824 0.54446667 0.47451443 0.24884799 0.45410247]\n",
      "3 \t [0.38504326 0.41119998 0.39796283 0.56288845 0.36191255 0.27650995]\n",
      "3 \t [0.38292156 0.46342763 0.38877489 0.54924123 0.32462759 0.28356832]\n",
      "3 \t [0.38499425 0.47439649 0.30900699 0.5596391  0.31575522 0.34401278]\n",
      "3 \t [0.38009249 0.47652    0.28954782 0.568716   0.32223996 0.34255506]\n",
      "3 \t [0.3738884  0.47067362 0.30558724 0.54971988 0.35331511 0.3438993 ]\n",
      "3 \t [0.32776243 0.46564353 0.37384846 0.5260786  0.3689314  0.35087912]\n",
      "0 \t [0.37078912 0.45378239 0.34159379 0.52434667 0.45135375 0.24748945]\n",
      "0 \t [0.37701155 0.43520062 0.37172253 0.51637592 0.46368745 0.22053327]\n",
      "2 \t [0.25503733 0.38871164 0.50662999 0.51644036 0.22229031 0.45941447]\n",
      "3 \t [0.32445981 0.38685092 0.50428442 0.53526237 0.30054018 0.33754883]\n",
      "3 \t [0.37509318 0.42377263 0.41303112 0.56284895 0.32248217 0.29720947]\n",
      "3 \t [0.38554504 0.45872214 0.3275182  0.56736707 0.33830562 0.31193712]\n",
      "3 \t [0.39605975 0.45912386 0.302296   0.56693015 0.34644914 0.31547152]\n",
      "3 \t [0.38161091 0.46228876 0.27841033 0.57525878 0.32733977 0.35366074]\n",
      "3 \t [0.36272632 0.45486143 0.26368882 0.57917474 0.30776975 0.40228511]\n",
      "3 \t [0.34478139 0.45065106 0.26267724 0.55951849 0.30441536 0.45089958]\n",
      "3 \t [0.35805522 0.43817544 0.27089053 0.57663957 0.35898105 0.38083655]\n",
      "0 \t [0.38771113 0.45371965 0.35400906 0.53138965 0.41637936 0.25049834]\n",
      "3 \t [0.18365563 0.32199028 0.67862712 0.43133269 0.18411299 0.42674655]\n",
      "3 \t [0.29856417 0.38391744 0.5243671  0.53099549 0.27751948 0.35990653]\n",
      "0 \t [0.37293572 0.40742569 0.44657685 0.56041486 0.32185567 0.2789919 ]\n",
      "3 \t [0.38390714 0.44521492 0.33659659 0.57592392 0.33131969 0.31565904]\n",
      "3 \t [0.38361249 0.4524986  0.28001263 0.58705903 0.3161262  0.3537023 ]\n",
      "3 \t [0.35134904 0.45726005 0.21878534 0.60343604 0.25859576 0.43427325]\n",
      "3 \t [0.31349652 0.45536817 0.18560713 0.59665032 0.20902744 0.5101232 ]\n",
      "3 \t [0.30889239 0.4270155  0.20315383 0.59000564 0.22913831 0.52949103]\n",
      "3 \t [0.35677921 0.43409741 0.27959667 0.57103353 0.37990639 0.36835523]\n",
      "3 \t [0.34029626 0.42333465 0.29221292 0.58267256 0.36891663 0.37946153]\n",
      "3 \t [0.29561644 0.39309686 0.52465664 0.52062387 0.26962681 0.37292542]\n",
      "3 \t [0.34601089 0.38404693 0.50974881 0.53196489 0.32986349 0.28485788]\n",
      "3 \t [0.37996274 0.40223082 0.43955258 0.55764782 0.34574575 0.26480371]\n",
      "3 \t [0.38307795 0.42412095 0.34885021 0.58511809 0.29974358 0.34563976]\n",
      "3 \t [0.37089472 0.44337387 0.27602896 0.59795989 0.28587516 0.38779387]\n",
      "2 \t [0.33000302 0.45952173 0.19875    0.60811679 0.21187829 0.47511872]\n",
      "2 \t [0.30167038 0.47535975 0.16842921 0.59779655 0.17826614 0.51528648]\n",
      "3 \t [0.31827723 0.45670552 0.1952615  0.59290862 0.2382594  0.49364405]\n",
      "0 \t [0.34210866 0.43671954 0.22684021 0.59087103 0.3641726  0.39878687]\n",
      "0 \t [0.36295237 0.40074562 0.25853829 0.58766662 0.44701984 0.30926959]\n",
      "3 \t [0.34984925 0.39265401 0.49439966 0.51741377 0.34821583 0.30004337]\n",
      "0 \t [0.36988279 0.39049946 0.46837795 0.5377666  0.3640308  0.2638326 ]\n",
      "0 \t [0.39313703 0.4013989  0.4376817  0.54847893 0.35894089 0.2511757 ]\n",
      "3 \t [0.38642388 0.43193448 0.36705857 0.57487046 0.30214668 0.3280374 ]\n",
      "2 \t [0.36303246 0.43271043 0.32321366 0.59689534 0.26250732 0.38898318]\n",
      "3 \t [0.34932066 0.43676088 0.25695718 0.60287949 0.22892934 0.45311775]\n",
      "3 \t [0.33708259 0.46339542 0.2249917  0.59454016 0.23339916 0.46159027]\n",
      "3 \t [0.36113231 0.43753217 0.29754789 0.57578596 0.31130262 0.4014667 ]\n",
      "3 \t [0.37914558 0.43820121 0.31969745 0.56246353 0.38767533 0.30881141]\n",
      "3 \t [0.34369912 0.42963439 0.28464444 0.58562152 0.36427009 0.37499   ]\n",
      "0 \t [0.37730035 0.39027555 0.45813133 0.51702494 0.42758818 0.21283489]\n",
      "0 \t [0.38396843 0.3892427  0.45210631 0.52310982 0.41684248 0.22193853]\n",
      "0 \t [0.39156778 0.40492344 0.4293213  0.53665258 0.39047276 0.24068639]\n",
      "3 \t [0.37745317 0.42044146 0.38412069 0.56076962 0.34895573 0.31141083]\n",
      "3 \t [0.33642275 0.39313893 0.49684303 0.52842383 0.28202933 0.35585986]\n",
      "3 \t [0.3871638  0.41924158 0.35300867 0.56608654 0.32898343 0.34791019]\n",
      "3 \t [0.40527556 0.41035698 0.39013201 0.54637389 0.3836944  0.26345789]\n",
      "0 \t [0.4269275  0.39595848 0.4405373  0.50854119 0.42503165 0.1661645 ]\n",
      "0 \t [0.42316257 0.39430835 0.44177426 0.51090413 0.42999778 0.15610493]\n",
      "0 \t [0.39480234 0.39603829 0.44737029 0.51994721 0.41477844 0.21156173]\n",
      "0 \t [0.40860973 0.39377735 0.41045709 0.49916695 0.4859503  0.15552207]\n",
      "0 \t [0.39584008 0.38434007 0.42823593 0.50587456 0.47037096 0.18721489]\n",
      "3 \t [0.37112135 0.40101912 0.42490573 0.53332168 0.40396144 0.27072287]\n",
      "3 \t [0.34298889 0.40107728 0.41547513 0.5552352  0.32600765 0.36648185]\n",
      "3 \t [0.3100689  0.401593   0.38178673 0.57082502 0.27942161 0.43920563]\n",
      "3 \t [0.36744071 0.3913694  0.42467939 0.54914094 0.35943217 0.31736016]\n",
      "0 \t [0.4089501  0.36393763 0.52128722 0.48826778 0.41322314 0.13932001]\n",
      "0 \t [0.43148168 0.36291512 0.50044914 0.46044417 0.46338846 0.07020782]\n",
      "0 \t [0.40646947 0.35561876 0.54639789 0.45763527 0.43530188 0.10416069]\n",
      "3 \t [0.3316967  0.35469149 0.62600527 0.45707827 0.33726259 0.22276007]\n",
      "0 \t [0.4312051  0.35727575 0.35584494 0.49494054 0.54894836 0.11610403]\n",
      "0 \t [0.42355216 0.36529995 0.39482401 0.48839741 0.52923463 0.11248198]\n",
      "3 \t [0.32383519 0.35378084 0.55556681 0.48158467 0.37257754 0.3009611 ]\n",
      "2 \t [0.3174221  0.3770117  0.38855337 0.55561935 0.29722908 0.45724574]\n",
      "1 \t [0.2395557  0.35432052 0.36482196 0.56217862 0.19126148 0.57562941]\n",
      "2 \t [0.29823759 0.3859024  0.40965848 0.55576541 0.28321078 0.45302325]\n",
      "3 \t [0.3709916  0.38342864 0.46890286 0.52911968 0.38037828 0.26612507]\n",
      "0 \t [0.38328514 0.34859057 0.5848783  0.44393301 0.41935358 0.12868777]\n",
      "0 \t [0.2852029  0.2750841  0.76427074 0.36552836 0.31458091 0.16219169]\n",
      "3 \t [0.15212375 0.21330526 0.85615543 0.30308535 0.15855409 0.28523145]\n",
      "0 \t [0.45227669 0.32957031 0.36806896 0.46802864 0.57469016 0.04510932]\n",
      "0 \t [0.43265614 0.34193407 0.37041514 0.4873241  0.55994642 0.0875078 ]\n",
      "3 \t [0.36795506 0.39939344 0.41140008 0.51659116 0.39265972 0.33881537]\n",
      "2 \t [0.25286412 0.36674118 0.39683427 0.54656905 0.23699939 0.53775159]\n",
      "1 \t [0.18563779 0.32207804 0.33742858 0.51888817 0.15057184 0.67529955]\n",
      "2 \t [0.25349692 0.35112674 0.39257935 0.5458712  0.19826684 0.56660892]\n",
      "0 \t [0.23714616 0.30995065 0.6801239  0.43790966 0.26444628 0.35132189]\n",
      "0 \t [0.31394009 0.34731416 0.63137294 0.44504832 0.36774849 0.2210786 ]\n",
      "0 \t [0.1664233  0.19575796 0.87837912 0.27717692 0.17850397 0.23182217]\n",
      "0 \t [0.08636407 0.13060337 0.93551912 0.18311609 0.10324186 0.23684932]\n"
     ]
    }
   ],
   "source": [
    "p_vectors = []\n",
    "for i in range(10):\n",
    "    for j in range(10):\n",
    "        if(taggings[i][j] == 0):\n",
    "            p = LVQ.prototype(0, som.weights[(i,j)], epsilon)\n",
    "            p_vectors.append(p)\n",
    "        elif(taggings[i][j] == 1):\n",
    "            p = LVQ.prototype(1, som.weights[(i,j)], epsilon)\n",
    "            p_vectors.append(p)\n",
    "        elif(taggings[i][j] == 2):\n",
    "            p = LVQ.prototype(2, som.weights[(i,j)], epsilon)\n",
    "            p_vectors.append(p)\n",
    "        elif(taggings[i][j] == 3):\n",
    "            p = LVQ.prototype(3, som.weights[(i,j)], epsilon)\n",
    "            p_vectors.append(p)\n",
    "print(\"class id \\t Initial prototype vector \\n\")\n",
    "for p_v in p_vectors:\n",
    "    print(p_v.class_id, '\\t', p_v.p_vector)"
   ]
  },
  {
   "cell_type": "code",
   "execution_count": 30,
   "metadata": {},
   "outputs": [],
   "source": [
    "lvq = LVQ.LVQ(x_train, y_train, n_classes=2, n_neurons=25, p_vectors=p_vectors, epsilon=0.9, epsilon_dec_factor=0.001)\n",
    "neurons = lvq.fit(x_train, y_train)"
   ]
  },
  {
   "cell_type": "code",
   "execution_count": 31,
   "metadata": {
    "scrolled": true
   },
   "outputs": [
    {
     "name": "stdout",
     "output_type": "stream",
     "text": [
      "             precision    recall  f1-score   support\n",
      "\n",
      "          0       0.98      0.90      0.94       138\n",
      "          1       0.84      0.78      0.81        55\n",
      "          2       0.52      0.39      0.45        28\n",
      "          3       0.76      0.92      0.83       108\n",
      "\n",
      "avg / total       0.85      0.84      0.84       329\n",
      "\n"
     ]
    }
   ],
   "source": [
    "predicted_y = [lvq.predict(instance) for instance in x_test]\n",
    "\n",
    "from sklearn.metrics import classification_report\n",
    "\n",
    "print (classification_report(y_test, predicted_y, target_names=['0','1', '2', '3']))"
   ]
  },
  {
   "cell_type": "code",
   "execution_count": 32,
   "metadata": {
    "scrolled": false
   },
   "outputs": [
    {
     "data": {
      "text/plain": [
       "0.8419452887537994"
      ]
     },
     "execution_count": 32,
     "metadata": {},
     "output_type": "execute_result"
    }
   ],
   "source": [
    "A = np.array(predicted_y)-y_test\n",
    "len(A[A==0])/len(A)"
   ]
  },
  {
   "cell_type": "code",
   "execution_count": 33,
   "metadata": {
    "scrolled": true
   },
   "outputs": [
    {
     "name": "stdout",
     "output_type": "stream",
     "text": [
      "             precision    recall  f1-score   support\n",
      "\n",
      "          0       0.99      0.86      0.92       558\n",
      "          1       0.79      0.82      0.81       165\n",
      "          2       0.56      0.35      0.43       139\n",
      "          3       0.73      0.92      0.82       453\n",
      "\n",
      "avg / total       0.83      0.82      0.82      1315\n",
      "\n"
     ]
    }
   ],
   "source": [
    "data_new = pd.read_csv(r\"data/SD-3X_rocktype.csv\")\n",
    "x_new = data.iloc[:, 0:6].values\n",
    "y_new = data.iloc[:, 6].values\n",
    "y_new[y_new == 4] = 0\n",
    "x_new = minmax.fit_transform(x_new)\n",
    "predicted_y_new = [lvq.predict(instance) for instance in x_new]\n",
    "\n",
    "from sklearn.metrics import classification_report\n",
    "\n",
    "print (classification_report(y_new, predicted_y_new, target_names=['0', '1', '2', '3']))"
   ]
  },
  {
   "cell_type": "code",
   "execution_count": 34,
   "metadata": {},
   "outputs": [
    {
     "data": {
      "text/plain": [
       "array([3, 0, 1, 2], dtype=int64)"
      ]
     },
     "execution_count": 34,
     "metadata": {},
     "output_type": "execute_result"
    }
   ],
   "source": [
    "arr = np.array([1,2,3,0])\n",
    "\n",
    "arr.argsort()"
   ]
  }
 ],
 "metadata": {
  "kernelspec": {
   "display_name": "Python 3",
   "language": "python",
   "name": "python3"
  },
  "language_info": {
   "codemirror_mode": {
    "name": "ipython",
    "version": 3
   },
   "file_extension": ".py",
   "mimetype": "text/x-python",
   "name": "python",
   "nbconvert_exporter": "python",
   "pygments_lexer": "ipython3",
   "version": "3.6.5"
  }
 },
 "nbformat": 4,
 "nbformat_minor": 2
}
