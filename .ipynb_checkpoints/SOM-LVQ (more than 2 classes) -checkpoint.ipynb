{
 "cells": [
  {
   "cell_type": "code",
   "execution_count": 56,
   "metadata": {},
   "outputs": [],
   "source": [
    "import numpy as np\n",
    "from sklearn.metrics import euclidean_distances\n",
    "import pandas as pd\n",
    "import minisom\n",
    "from sklearn.datasets import load_breast_cancer\n",
    "from sklearn.model_selection import KFold\n",
    "from random import randint, choice\n",
    "import LVQ"
   ]
  },
  {
   "cell_type": "code",
   "execution_count": 57,
   "metadata": {},
   "outputs": [],
   "source": [
    "data = pd.read_csv(r\"data/SD-2X_rocktype.csv\")\n",
    "x = data.iloc[:, 0:6].values\n",
    "y = data.iloc[:, 6].values\n",
    "y[y==4] = 0\n",
    "from sklearn.cross_validation import train_test_split\n",
    "x_train, x_test, y_train, y_test = train_test_split(x, y, test_size=0.25, random_state=44)\n",
    "\n",
    "# use Minmaxscaler because we use euclidean distance\n",
    "from sklearn.preprocessing import MinMaxScaler\n",
    "minmax = MinMaxScaler()\n",
    "x_train = minmax.fit_transform(x_train)\n",
    "x_test = minmax.transform(x_test)"
   ]
  },
  {
   "cell_type": "code",
   "execution_count": 58,
   "metadata": {},
   "outputs": [
    {
     "data": {
      "text/plain": [
       "array([0, 1, 2, 3], dtype=int64)"
      ]
     },
     "execution_count": 58,
     "metadata": {},
     "output_type": "execute_result"
    }
   ],
   "source": [
    "np.unique(y_test)"
   ]
  },
  {
   "cell_type": "code",
   "execution_count": 59,
   "metadata": {},
   "outputs": [],
   "source": [
    "# Training the SOM\n",
    "from minisom import MiniSom\n",
    "som = MiniSom(x = 10, y = 10, input_len = 6, sigma = 1.0, learning_rate = 0.5)\n",
    "som.random_weights_init(x_train)\n",
    "som.train_random(data = x_train, num_iteration = 100)"
   ]
  },
  {
   "cell_type": "code",
   "execution_count": 60,
   "metadata": {
    "scrolled": true
   },
   "outputs": [
    {
     "data": {
      "text/plain": [
       "array([[[0., 0., 0., 0., 0., 0., 0., 0., 0., 0.],\n",
       "        [0., 0., 0., 0., 0., 0., 0., 0., 0., 0.],\n",
       "        [0., 0., 0., 0., 0., 0., 0., 0., 0., 0.],\n",
       "        [0., 0., 0., 0., 0., 0., 0., 0., 0., 0.],\n",
       "        [0., 0., 0., 0., 0., 0., 0., 0., 0., 0.],\n",
       "        [0., 0., 0., 0., 0., 0., 0., 0., 0., 0.],\n",
       "        [0., 0., 0., 0., 0., 0., 0., 0., 0., 0.],\n",
       "        [0., 0., 0., 0., 0., 0., 0., 0., 0., 0.],\n",
       "        [0., 0., 0., 0., 0., 0., 0., 0., 0., 0.],\n",
       "        [0., 0., 0., 0., 0., 0., 0., 0., 0., 0.]],\n",
       "\n",
       "       [[0., 0., 0., 0., 0., 0., 0., 0., 0., 0.],\n",
       "        [0., 0., 0., 0., 0., 0., 0., 0., 0., 0.],\n",
       "        [0., 0., 0., 0., 0., 0., 0., 0., 0., 0.],\n",
       "        [0., 0., 0., 0., 0., 0., 0., 0., 0., 0.],\n",
       "        [0., 0., 0., 0., 0., 0., 0., 0., 0., 0.],\n",
       "        [0., 0., 0., 0., 0., 0., 0., 0., 0., 0.],\n",
       "        [0., 0., 0., 0., 0., 0., 0., 0., 0., 0.],\n",
       "        [0., 0., 0., 0., 0., 0., 0., 0., 0., 0.],\n",
       "        [0., 0., 0., 0., 0., 0., 0., 0., 0., 0.],\n",
       "        [0., 0., 0., 0., 0., 0., 0., 0., 0., 0.]],\n",
       "\n",
       "       [[0., 0., 0., 0., 0., 0., 0., 0., 0., 0.],\n",
       "        [0., 0., 0., 0., 0., 0., 0., 0., 0., 0.],\n",
       "        [0., 0., 0., 0., 0., 0., 0., 0., 0., 0.],\n",
       "        [0., 0., 0., 0., 0., 0., 0., 0., 0., 0.],\n",
       "        [0., 0., 0., 0., 0., 0., 0., 0., 0., 0.],\n",
       "        [0., 0., 0., 0., 0., 0., 0., 0., 0., 0.],\n",
       "        [0., 0., 0., 0., 0., 0., 0., 0., 0., 0.],\n",
       "        [0., 0., 0., 0., 0., 0., 0., 0., 0., 0.],\n",
       "        [0., 0., 0., 0., 0., 0., 0., 0., 0., 0.],\n",
       "        [0., 0., 0., 0., 0., 0., 0., 0., 0., 0.]],\n",
       "\n",
       "       [[0., 0., 0., 0., 0., 0., 0., 0., 0., 0.],\n",
       "        [0., 0., 0., 0., 0., 0., 0., 0., 0., 0.],\n",
       "        [0., 0., 0., 0., 0., 0., 0., 0., 0., 0.],\n",
       "        [0., 0., 0., 0., 0., 0., 0., 0., 0., 0.],\n",
       "        [0., 0., 0., 0., 0., 0., 0., 0., 0., 0.],\n",
       "        [0., 0., 0., 0., 0., 0., 0., 0., 0., 0.],\n",
       "        [0., 0., 0., 0., 0., 0., 0., 0., 0., 0.],\n",
       "        [0., 0., 0., 0., 0., 0., 0., 0., 0., 0.],\n",
       "        [0., 0., 0., 0., 0., 0., 0., 0., 0., 0.],\n",
       "        [0., 0., 0., 0., 0., 0., 0., 0., 0., 0.]]])"
      ]
     },
     "execution_count": 60,
     "metadata": {},
     "output_type": "execute_result"
    }
   ],
   "source": [
    "labels = np.zeros((4, 10, 10))\n",
    "labels"
   ]
  },
  {
   "cell_type": "code",
   "execution_count": 61,
   "metadata": {
    "scrolled": false
   },
   "outputs": [
    {
     "data": {
      "image/png": "[encoded data removed]",
      "text/plain": [
       "<Figure size 432x288 with 2 Axes>"
      ]
     },
     "metadata": {},
     "output_type": "display_data"
    }
   ],
   "source": [
    "# Visualizing the results\n",
    "from pylab import bone, pcolor, colorbar, plot, show\n",
    "bone()\n",
    "pcolor(som.distance_map().T)\n",
    "colorbar()\n",
    "markers = ['1', '2', '3', '4', 's', '8', 'p', '>']\n",
    "colors = ['r', 'g', 'b', 'y', 'w', 'c', 'm', 'k']\n",
    "for i, x in enumerate(x_train):\n",
    "    w = som.winner(x)\n",
    "    plot(w[0] + 0.5,\n",
    "         w[1] + 0.5,\n",
    "         markers[y_train[i]],\n",
    "         markeredgecolor = colors[y_train[i]],\n",
    "         markerfacecolor = 'None',\n",
    "         markersize = 10,\n",
    "         markeredgewidth = 2)\n",
    "    if y_train[i] == 0:\n",
    "        labels[0, w[0], w[1]] += 1\n",
    "    elif y_train[i] == 1:\n",
    "        labels[1, w[0], w[1]] += 1\n",
    "    elif y_train[i] == 2:\n",
    "        labels[2, w[0], w[1]] += 1\n",
    "    elif y_train[i] == 3:\n",
    "        labels[3, w[0], w[1]] += 1\n",
    "show()"
   ]
  },
  {
   "cell_type": "code",
   "execution_count": 62,
   "metadata": {},
   "outputs": [
    {
     "name": "stderr",
     "output_type": "stream",
     "text": [
      "C:\\Users\\Thend\\Anaconda3\\lib\\site-packages\\ipykernel_launcher.py:6: RuntimeWarning: divide by zero encountered in double_scalars\n",
      "  \n",
      "C:\\Users\\Thend\\Anaconda3\\lib\\site-packages\\ipykernel_launcher.py:6: RuntimeWarning: invalid value encountered in double_scalars\n",
      "  \n"
     ]
    }
   ],
   "source": [
    "taggings = np.zeros((10, 10))\n",
    "for i in range(10):\n",
    "    for j in range(10):\n",
    "        tmp = np.array([labels[0][i][j], labels[1][i][j], labels[2][i][j], labels[3][i][j]])\n",
    "        sort = tmp.argsort()\n",
    "        if (tmp[sort[3]]/tmp[sort[2]] < 5):\n",
    "            taggings[i][j] = np.random.choice([sort[3], sort[2]])\n",
    "        else:\n",
    "            taggings[i][j] = sort[3]"
   ]
  },
  {
   "cell_type": "code",
   "execution_count": 63,
   "metadata": {},
   "outputs": [
    {
     "data": {
      "text/plain": [
       "array([[3., 3., 3., 2., 1., 2., 1., 2., 3., 3.],\n",
       "       [3., 3., 3., 3., 2., 2., 1., 2., 1., 3.],\n",
       "       [2., 3., 2., 2., 2., 3., 2., 2., 3., 1.],\n",
       "       [3., 3., 3., 3., 2., 3., 3., 3., 3., 3.],\n",
       "       [3., 0., 0., 3., 3., 3., 3., 3., 3., 3.],\n",
       "       [0., 0., 0., 0., 0., 3., 3., 0., 0., 0.],\n",
       "       [3., 3., 3., 3., 3., 3., 0., 0., 0., 0.],\n",
       "       [3., 3., 3., 3., 3., 3., 0., 0., 0., 0.],\n",
       "       [3., 3., 3., 3., 0., 3., 3., 0., 0., 0.],\n",
       "       [3., 3., 0., 0., 3., 0., 0., 0., 0., 0.]])"
      ]
     },
     "execution_count": 63,
     "metadata": {},
     "output_type": "execute_result"
    }
   ],
   "source": [
    "taggings"
   ]
  },
  {
   "cell_type": "code",
   "execution_count": 64,
   "metadata": {},
   "outputs": [
    {
     "data": {
      "text/plain": [
       "array([[[0.3922354 , 0.4140593 , 0.37385592, 0.57339886, 0.30438727,\n",
       "         0.33689788],\n",
       "        [0.3851963 , 0.34853505, 0.45867708, 0.5479861 , 0.29726827,\n",
       "         0.36208463],\n",
       "        [0.32773672, 0.38075954, 0.39704206, 0.56497699, 0.31411957,\n",
       "         0.41484735],\n",
       "        [0.26764003, 0.35677446, 0.4065401 , 0.56770213, 0.19124438,\n",
       "         0.52625642],\n",
       "        [0.27842355, 0.3795252 , 0.3208734 , 0.57788121, 0.18589638,\n",
       "         0.55405511],\n",
       "        [0.2106876 , 0.36191965, 0.34273326, 0.54922339, 0.14088466,\n",
       "         0.62101851],\n",
       "        [0.19636129, 0.38814262, 0.15140886, 0.58976599, 0.09896904,\n",
       "         0.65592997],\n",
       "        [0.29879402, 0.46206408, 0.2289462 , 0.59568403, 0.21448445,\n",
       "         0.49392258],\n",
       "        [0.32703525, 0.47314072, 0.2208707 , 0.58531973, 0.30777685,\n",
       "         0.427874  ],\n",
       "        [0.33521301, 0.47285145, 0.254137  , 0.59270685, 0.28733573,\n",
       "         0.40693353]],\n",
       "\n",
       "       [[0.36824331, 0.38905832, 0.46120725, 0.52228058, 0.35537027,\n",
       "         0.31820328],\n",
       "        [0.34960189, 0.36648278, 0.47165846, 0.51840524, 0.33995859,\n",
       "         0.36971794],\n",
       "        [0.31973432, 0.37780565, 0.3607361 , 0.57960677, 0.30462286,\n",
       "         0.44290318],\n",
       "        [0.28966622, 0.38155926, 0.33068402, 0.57863131, 0.20303953,\n",
       "         0.53396147],\n",
       "        [0.31452388, 0.40368324, 0.30886203, 0.57525979, 0.24485973,\n",
       "         0.50183533],\n",
       "        [0.27936938, 0.43312967, 0.21113171, 0.57445425, 0.1950126 ,\n",
       "         0.56722767],\n",
       "        [0.23135721, 0.42098417, 0.25988018, 0.57341439, 0.14899221,\n",
       "         0.59220412],\n",
       "        [0.30081653, 0.50098718, 0.23237032, 0.59593982, 0.19676316,\n",
       "         0.45898288],\n",
       "        [0.27373426, 0.51141401, 0.14237126, 0.57700162, 0.20838882,\n",
       "         0.51662261],\n",
       "        [0.32623938, 0.4621732 , 0.18955677, 0.57519754, 0.27053275,\n",
       "         0.48988963]],\n",
       "\n",
       "       [[0.26916448, 0.34652617, 0.56192887, 0.47615034, 0.26989847,\n",
       "         0.43833972],\n",
       "        [0.3376896 , 0.41770563, 0.37859365, 0.55726201, 0.32058065,\n",
       "         0.39349927],\n",
       "        [0.34039552, 0.39335211, 0.35914206, 0.57691914, 0.29893874,\n",
       "         0.42216338],\n",
       "        [0.2893085 , 0.3926787 , 0.28267493, 0.59679276, 0.21081539,\n",
       "         0.53065448],\n",
       "        [0.33207701, 0.40240989, 0.30650988, 0.59077629, 0.2602184 ,\n",
       "         0.46595343],\n",
       "        [0.32359494, 0.45203576, 0.25936809, 0.57864375, 0.25327227,\n",
       "         0.47402821],\n",
       "        [0.35769564, 0.48279253, 0.28623784, 0.56787594, 0.2713829 ,\n",
       "         0.40112509],\n",
       "        [0.31557547, 0.49193218, 0.20830597, 0.5892333 , 0.20093127,\n",
       "         0.47692161],\n",
       "        [0.27660263, 0.4906477 , 0.20395136, 0.56790109, 0.20089242,\n",
       "         0.52753223],\n",
       "        [0.20478982, 0.41447057, 0.2562866 , 0.54897664, 0.15276138,\n",
       "         0.6291908 ]],\n",
       "\n",
       "       [[0.36246799, 0.40212884, 0.43195227, 0.51692755, 0.32527853,\n",
       "         0.38380512],\n",
       "        [0.38841213, 0.37777169, 0.40797536, 0.54646299, 0.37854509,\n",
       "         0.31314931],\n",
       "        [0.38235148, 0.40891071, 0.37365415, 0.56203381, 0.36483816,\n",
       "         0.31303843],\n",
       "        [0.33098003, 0.41043053, 0.387435  , 0.5519198 , 0.30808332,\n",
       "         0.41516543],\n",
       "        [0.29781921, 0.38751622, 0.49983924, 0.52740976, 0.24299977,\n",
       "         0.41723577],\n",
       "        [0.39303851, 0.41998539, 0.38332151, 0.53444368, 0.37290817,\n",
       "         0.31226122],\n",
       "        [0.34878249, 0.46511234, 0.27096602, 0.57213476, 0.28183013,\n",
       "         0.42641798],\n",
       "        [0.34568545, 0.47567983, 0.28367748, 0.57131734, 0.29264425,\n",
       "         0.40213579],\n",
       "        [0.29472465, 0.43511504, 0.32273455, 0.55842721, 0.28331958,\n",
       "         0.47701547],\n",
       "        [0.20238816, 0.36379117, 0.50730484, 0.48237973, 0.20436843,\n",
       "         0.54302868]],\n",
       "\n",
       "       [[0.3862207 , 0.41605655, 0.31849776, 0.57640499, 0.39435784,\n",
       "         0.29753801],\n",
       "        [0.39552753, 0.39558368, 0.33338845, 0.57237352, 0.42098721,\n",
       "         0.26661204],\n",
       "        [0.40045603, 0.39236523, 0.36434311, 0.56288762, 0.42016914,\n",
       "         0.2440369 ],\n",
       "        [0.38154269, 0.41156238, 0.39615424, 0.56990441, 0.36720707,\n",
       "         0.26167028],\n",
       "        [0.40058115, 0.43733709, 0.39171737, 0.55278991, 0.34626912,\n",
       "         0.26334299],\n",
       "        [0.3905939 , 0.46482854, 0.34662467, 0.55679049, 0.33282638,\n",
       "         0.30072101],\n",
       "        [0.37794683, 0.45283796, 0.33679304, 0.55372549, 0.3744083 ,\n",
       "         0.30310219],\n",
       "        [0.35246583, 0.45442961, 0.30401533, 0.56197138, 0.37880425,\n",
       "         0.34282905],\n",
       "        [0.34435091, 0.43355221, 0.34583789, 0.54900624, 0.38775301,\n",
       "         0.34941499],\n",
       "        [0.33459782, 0.40763759, 0.3995933 , 0.526883  , 0.39851254,\n",
       "         0.3546592 ]],\n",
       "\n",
       "       [[0.39136543, 0.40455662, 0.29749591, 0.58878862, 0.40253354,\n",
       "         0.29318583],\n",
       "        [0.382131  , 0.39859884, 0.29148964, 0.58643687, 0.42661761,\n",
       "         0.29020315],\n",
       "        [0.39459727, 0.40568432, 0.31549577, 0.57877514, 0.41581443,\n",
       "         0.26887421],\n",
       "        [0.4070951 , 0.41704087, 0.37154104, 0.55411994, 0.41131907,\n",
       "         0.21465194],\n",
       "        [0.40250526, 0.43782538, 0.39319859, 0.5550781 , 0.36284481,\n",
       "         0.22787117],\n",
       "        [0.38832844, 0.44935967, 0.38454529, 0.5575017 , 0.34204326,\n",
       "         0.26758195],\n",
       "        [0.38728841, 0.46464474, 0.37303212, 0.53115487, 0.38060666,\n",
       "         0.26071643],\n",
       "        [0.38985678, 0.42689838, 0.35183816, 0.53029916, 0.45613595,\n",
       "         0.22956954],\n",
       "        [0.40090865, 0.39963974, 0.35185734, 0.5218627 , 0.50363897,\n",
       "         0.17252204],\n",
       "        [0.40236856, 0.3759625 , 0.36013267, 0.49576145, 0.55495403,\n",
       "         0.11533777]],\n",
       "\n",
       "       [[0.38532485, 0.42087273, 0.27003705, 0.60370234, 0.34878259,\n",
       "         0.33965436],\n",
       "        [0.3852165 , 0.41280785, 0.29536453, 0.59143929, 0.38265239,\n",
       "         0.31262507],\n",
       "        [0.3959895 , 0.4222934 , 0.31985069, 0.58432874, 0.37797369,\n",
       "         0.27973549],\n",
       "        [0.39081195, 0.44176355, 0.34078844, 0.57007476, 0.377912  ,\n",
       "         0.26109673],\n",
       "        [0.38789889, 0.46786146, 0.39147898, 0.5492408 , 0.35071907,\n",
       "         0.22959747],\n",
       "        [0.37317405, 0.5016298 , 0.38279737, 0.54298991, 0.3091108 ,\n",
       "         0.26867698],\n",
       "        [0.3864359 , 0.47916905, 0.40254136, 0.50959218, 0.38410084,\n",
       "         0.22761179],\n",
       "        [0.40456798, 0.41363435, 0.38971053, 0.51084656, 0.47235001,\n",
       "         0.17110913],\n",
       "        [0.41582299, 0.36504003, 0.38146047, 0.49287925, 0.54484383,\n",
       "         0.09241305],\n",
       "        [0.40377941, 0.34915188, 0.37386203, 0.46907032, 0.59360454,\n",
       "         0.0537495 ]],\n",
       "\n",
       "       [[0.36789315, 0.43647911, 0.278809  , 0.60452377, 0.31355382,\n",
       "         0.36419935],\n",
       "        [0.37151312, 0.42638272, 0.30343954, 0.59819587, 0.32783851,\n",
       "         0.35040525],\n",
       "        [0.38941045, 0.41864236, 0.36079064, 0.57763616, 0.35704923,\n",
       "         0.28597291],\n",
       "        [0.37846645, 0.43591427, 0.388042  , 0.5584555 , 0.36680985,\n",
       "         0.26408956],\n",
       "        [0.37550449, 0.48373187, 0.40089333, 0.52593842, 0.35096012,\n",
       "         0.25396883],\n",
       "        [0.33652351, 0.55090845, 0.40322142, 0.48443623, 0.30430289,\n",
       "         0.30559054],\n",
       "        [0.37453135, 0.47566779, 0.43321335, 0.49691849, 0.37946543,\n",
       "         0.23424477],\n",
       "        [0.41353644, 0.39048156, 0.45900894, 0.49025661, 0.45297324,\n",
       "         0.14242982],\n",
       "        [0.4240831 , 0.3618557 , 0.43724158, 0.47209546, 0.51899383,\n",
       "         0.07619097],\n",
       "        [0.41547911, 0.34513296, 0.4432418 , 0.44426727, 0.55901442,\n",
       "         0.04389213]],\n",
       "\n",
       "       [[0.3368302 , 0.43558058, 0.30827203, 0.60323731, 0.29596881,\n",
       "         0.38767325],\n",
       "        [0.34753223, 0.41817627, 0.36352541, 0.58850223, 0.32016505,\n",
       "         0.35122457],\n",
       "        [0.35947106, 0.39746512, 0.43884675, 0.55726912, 0.35923674,\n",
       "         0.28392898],\n",
       "        [0.36374749, 0.41592176, 0.46868215, 0.51657604, 0.34460228,\n",
       "         0.29905245],\n",
       "        [0.3342376 , 0.42795179, 0.56646032, 0.44706138, 0.35991486,\n",
       "         0.23422771],\n",
       "        [0.26117849, 0.35274698, 0.72847174, 0.36891376, 0.23160325,\n",
       "         0.29486754],\n",
       "        [0.35116923, 0.41449551, 0.5653068 , 0.45130808, 0.34448348,\n",
       "         0.25090637],\n",
       "        [0.41774147, 0.39001079, 0.49235901, 0.47791715, 0.42768267,\n",
       "         0.14017485],\n",
       "        [0.42416367, 0.35884952, 0.50972833, 0.44961275, 0.47141502,\n",
       "         0.08429403],\n",
       "        [0.41538567, 0.32449083, 0.55732578, 0.39408833, 0.50516261,\n",
       "         0.03245841]],\n",
       "\n",
       "       [[0.31833317, 0.43201869, 0.36521006, 0.5785848 , 0.30120028,\n",
       "         0.39136106],\n",
       "        [0.29295059, 0.33854254, 0.61745925, 0.49734857, 0.2821972 ,\n",
       "         0.3021955 ],\n",
       "        [0.33746838, 0.35985492, 0.4976936 , 0.5497797 , 0.34239493,\n",
       "         0.29904616],\n",
       "        [0.34984547, 0.36812808, 0.52952989, 0.5109975 , 0.38054067,\n",
       "         0.23613198],\n",
       "        [0.25392587, 0.31652434, 0.7052328 , 0.41223327, 0.27537999,\n",
       "         0.30366146],\n",
       "        [0.10413709, 0.18473541, 0.87950725, 0.2534486 , 0.11480999,\n",
       "         0.32261087],\n",
       "        [0.28929043, 0.30986576, 0.72303608, 0.38028466, 0.30436542,\n",
       "         0.24547578],\n",
       "        [0.40593608, 0.3829715 , 0.53328713, 0.47063138, 0.39474747,\n",
       "         0.16381118],\n",
       "        [0.42744587, 0.36755654, 0.52480337, 0.4587146 , 0.42835359,\n",
       "         0.11343615],\n",
       "        [0.43198629, 0.34427192, 0.54661977, 0.42329574, 0.46135102,\n",
       "         0.06361976]]])"
      ]
     },
     "execution_count": 64,
     "metadata": {},
     "output_type": "execute_result"
    }
   ],
   "source": [
    "mappings = som.win_map(x_train)\n",
    "som.weights"
   ]
  },
  {
   "cell_type": "code",
   "execution_count": 65,
   "metadata": {},
   "outputs": [],
   "source": [
    "epsilon = 0.9\n",
    "epsilon_dec_factor = 0.001"
   ]
  },
  {
   "cell_type": "code",
   "execution_count": 66,
   "metadata": {},
   "outputs": [],
   "source": [
    "def find_class_id(test_vector, p_vectors):\n",
    "    return find_closest(test_vector, p_vectors)[1].class_id"
   ]
  },
  {
   "cell_type": "code",
   "execution_count": 67,
   "metadata": {
    "scrolled": true
   },
   "outputs": [
    {
     "name": "stdout",
     "output_type": "stream",
     "text": [
      "class id \t Initial prototype vector \n",
      "\n",
      "3 \t [0.3922354  0.4140593  0.37385592 0.57339886 0.30438727 0.33689788]\n",
      "3 \t [0.3851963  0.34853505 0.45867708 0.5479861  0.29726827 0.36208463]\n",
      "3 \t [0.32773672 0.38075954 0.39704206 0.56497699 0.31411957 0.41484735]\n",
      "2 \t [0.26764003 0.35677446 0.4065401  0.56770213 0.19124438 0.52625642]\n",
      "1 \t [0.27842355 0.3795252  0.3208734  0.57788121 0.18589638 0.55405511]\n",
      "2 \t [0.2106876  0.36191965 0.34273326 0.54922339 0.14088466 0.62101851]\n",
      "1 \t [0.19636129 0.38814262 0.15140886 0.58976599 0.09896904 0.65592997]\n",
      "2 \t [0.29879402 0.46206408 0.2289462  0.59568403 0.21448445 0.49392258]\n",
      "3 \t [0.32703525 0.47314072 0.2208707  0.58531973 0.30777685 0.427874  ]\n",
      "3 \t [0.33521301 0.47285145 0.254137   0.59270685 0.28733573 0.40693353]\n",
      "3 \t [0.36824331 0.38905832 0.46120725 0.52228058 0.35537027 0.31820328]\n",
      "3 \t [0.34960189 0.36648278 0.47165846 0.51840524 0.33995859 0.36971794]\n",
      "3 \t [0.31973432 0.37780565 0.3607361  0.57960677 0.30462286 0.44290318]\n",
      "3 \t [0.28966622 0.38155926 0.33068402 0.57863131 0.20303953 0.53396147]\n",
      "2 \t [0.31452388 0.40368324 0.30886203 0.57525979 0.24485973 0.50183533]\n",
      "2 \t [0.27936938 0.43312967 0.21113171 0.57445425 0.1950126  0.56722767]\n",
      "1 \t [0.23135721 0.42098417 0.25988018 0.57341439 0.14899221 0.59220412]\n",
      "2 \t [0.30081653 0.50098718 0.23237032 0.59593982 0.19676316 0.45898288]\n",
      "1 \t [0.27373426 0.51141401 0.14237126 0.57700162 0.20838882 0.51662261]\n",
      "3 \t [0.32623938 0.4621732  0.18955677 0.57519754 0.27053275 0.48988963]\n",
      "2 \t [0.26916448 0.34652617 0.56192887 0.47615034 0.26989847 0.43833972]\n",
      "3 \t [0.3376896  0.41770563 0.37859365 0.55726201 0.32058065 0.39349927]\n",
      "2 \t [0.34039552 0.39335211 0.35914206 0.57691914 0.29893874 0.42216338]\n",
      "2 \t [0.2893085  0.3926787  0.28267493 0.59679276 0.21081539 0.53065448]\n",
      "2 \t [0.33207701 0.40240989 0.30650988 0.59077629 0.2602184  0.46595343]\n",
      "3 \t [0.32359494 0.45203576 0.25936809 0.57864375 0.25327227 0.47402821]\n",
      "2 \t [0.35769564 0.48279253 0.28623784 0.56787594 0.2713829  0.40112509]\n",
      "2 \t [0.31557547 0.49193218 0.20830597 0.5892333  0.20093127 0.47692161]\n",
      "3 \t [0.27660263 0.4906477  0.20395136 0.56790109 0.20089242 0.52753223]\n",
      "1 \t [0.20478982 0.41447057 0.2562866  0.54897664 0.15276138 0.6291908 ]\n",
      "3 \t [0.36246799 0.40212884 0.43195227 0.51692755 0.32527853 0.38380512]\n",
      "3 \t [0.38841213 0.37777169 0.40797536 0.54646299 0.37854509 0.31314931]\n",
      "3 \t [0.38235148 0.40891071 0.37365415 0.56203381 0.36483816 0.31303843]\n",
      "3 \t [0.33098003 0.41043053 0.387435   0.5519198  0.30808332 0.41516543]\n",
      "2 \t [0.29781921 0.38751622 0.49983924 0.52740976 0.24299977 0.41723577]\n",
      "3 \t [0.39303851 0.41998539 0.38332151 0.53444368 0.37290817 0.31226122]\n",
      "3 \t [0.34878249 0.46511234 0.27096602 0.57213476 0.28183013 0.42641798]\n",
      "3 \t [0.34568545 0.47567983 0.28367748 0.57131734 0.29264425 0.40213579]\n",
      "3 \t [0.29472465 0.43511504 0.32273455 0.55842721 0.28331958 0.47701547]\n",
      "3 \t [0.20238816 0.36379117 0.50730484 0.48237973 0.20436843 0.54302868]\n",
      "3 \t [0.3862207  0.41605655 0.31849776 0.57640499 0.39435784 0.29753801]\n",
      "0 \t [0.39552753 0.39558368 0.33338845 0.57237352 0.42098721 0.26661204]\n",
      "0 \t [0.40045603 0.39236523 0.36434311 0.56288762 0.42016914 0.2440369 ]\n",
      "3 \t [0.38154269 0.41156238 0.39615424 0.56990441 0.36720707 0.26167028]\n",
      "3 \t [0.40058115 0.43733709 0.39171737 0.55278991 0.34626912 0.26334299]\n",
      "3 \t [0.3905939  0.46482854 0.34662467 0.55679049 0.33282638 0.30072101]\n",
      "3 \t [0.37794683 0.45283796 0.33679304 0.55372549 0.3744083  0.30310219]\n",
      "3 \t [0.35246583 0.45442961 0.30401533 0.56197138 0.37880425 0.34282905]\n",
      "3 \t [0.34435091 0.43355221 0.34583789 0.54900624 0.38775301 0.34941499]\n",
      "3 \t [0.33459782 0.40763759 0.3995933  0.526883   0.39851254 0.3546592 ]\n",
      "0 \t [0.39136543 0.40455662 0.29749591 0.58878862 0.40253354 0.29318583]\n",
      "0 \t [0.382131   0.39859884 0.29148964 0.58643687 0.42661761 0.29020315]\n",
      "0 \t [0.39459727 0.40568432 0.31549577 0.57877514 0.41581443 0.26887421]\n",
      "0 \t [0.4070951  0.41704087 0.37154104 0.55411994 0.41131907 0.21465194]\n",
      "0 \t [0.40250526 0.43782538 0.39319859 0.5550781  0.36284481 0.22787117]\n",
      "3 \t [0.38832844 0.44935967 0.38454529 0.5575017  0.34204326 0.26758195]\n",
      "3 \t [0.38728841 0.46464474 0.37303212 0.53115487 0.38060666 0.26071643]\n",
      "0 \t [0.38985678 0.42689838 0.35183816 0.53029916 0.45613595 0.22956954]\n",
      "0 \t [0.40090865 0.39963974 0.35185734 0.5218627  0.50363897 0.17252204]\n",
      "0 \t [0.40236856 0.3759625  0.36013267 0.49576145 0.55495403 0.11533777]\n",
      "3 \t [0.38532485 0.42087273 0.27003705 0.60370234 0.34878259 0.33965436]\n",
      "3 \t [0.3852165  0.41280785 0.29536453 0.59143929 0.38265239 0.31262507]\n",
      "3 \t [0.3959895  0.4222934  0.31985069 0.58432874 0.37797369 0.27973549]\n",
      "3 \t [0.39081195 0.44176355 0.34078844 0.57007476 0.377912   0.26109673]\n",
      "3 \t [0.38789889 0.46786146 0.39147898 0.5492408  0.35071907 0.22959747]\n",
      "3 \t [0.37317405 0.5016298  0.38279737 0.54298991 0.3091108  0.26867698]\n",
      "0 \t [0.3864359  0.47916905 0.40254136 0.50959218 0.38410084 0.22761179]\n",
      "0 \t [0.40456798 0.41363435 0.38971053 0.51084656 0.47235001 0.17110913]\n",
      "0 \t [0.41582299 0.36504003 0.38146047 0.49287925 0.54484383 0.09241305]\n",
      "0 \t [0.40377941 0.34915188 0.37386203 0.46907032 0.59360454 0.0537495 ]\n",
      "3 \t [0.36789315 0.43647911 0.278809   0.60452377 0.31355382 0.36419935]\n",
      "3 \t [0.37151312 0.42638272 0.30343954 0.59819587 0.32783851 0.35040525]\n",
      "3 \t [0.38941045 0.41864236 0.36079064 0.57763616 0.35704923 0.28597291]\n",
      "3 \t [0.37846645 0.43591427 0.388042   0.5584555  0.36680985 0.26408956]\n",
      "3 \t [0.37550449 0.48373187 0.40089333 0.52593842 0.35096012 0.25396883]\n",
      "3 \t [0.33652351 0.55090845 0.40322142 0.48443623 0.30430289 0.30559054]\n",
      "0 \t [0.37453135 0.47566779 0.43321335 0.49691849 0.37946543 0.23424477]\n",
      "0 \t [0.41353644 0.39048156 0.45900894 0.49025661 0.45297324 0.14242982]\n",
      "0 \t [0.4240831  0.3618557  0.43724158 0.47209546 0.51899383 0.07619097]\n",
      "0 \t [0.41547911 0.34513296 0.4432418  0.44426727 0.55901442 0.04389213]\n",
      "3 \t [0.3368302  0.43558058 0.30827203 0.60323731 0.29596881 0.38767325]\n",
      "3 \t [0.34753223 0.41817627 0.36352541 0.58850223 0.32016505 0.35122457]\n",
      "3 \t [0.35947106 0.39746512 0.43884675 0.55726912 0.35923674 0.28392898]\n",
      "3 \t [0.36374749 0.41592176 0.46868215 0.51657604 0.34460228 0.29905245]\n",
      "0 \t [0.3342376  0.42795179 0.56646032 0.44706138 0.35991486 0.23422771]\n",
      "3 \t [0.26117849 0.35274698 0.72847174 0.36891376 0.23160325 0.29486754]\n",
      "3 \t [0.35116923 0.41449551 0.5653068  0.45130808 0.34448348 0.25090637]\n",
      "0 \t [0.41774147 0.39001079 0.49235901 0.47791715 0.42768267 0.14017485]\n",
      "0 \t [0.42416367 0.35884952 0.50972833 0.44961275 0.47141502 0.08429403]\n",
      "0 \t [0.41538567 0.32449083 0.55732578 0.39408833 0.50516261 0.03245841]\n",
      "3 \t [0.31833317 0.43201869 0.36521006 0.5785848  0.30120028 0.39136106]\n",
      "3 \t [0.29295059 0.33854254 0.61745925 0.49734857 0.2821972  0.3021955 ]\n",
      "0 \t [0.33746838 0.35985492 0.4976936  0.5497797  0.34239493 0.29904616]\n",
      "0 \t [0.34984547 0.36812808 0.52952989 0.5109975  0.38054067 0.23613198]\n",
      "3 \t [0.25392587 0.31652434 0.7052328  0.41223327 0.27537999 0.30366146]\n",
      "0 \t [0.10413709 0.18473541 0.87950725 0.2534486  0.11480999 0.32261087]\n",
      "0 \t [0.28929043 0.30986576 0.72303608 0.38028466 0.30436542 0.24547578]\n",
      "0 \t [0.40593608 0.3829715  0.53328713 0.47063138 0.39474747 0.16381118]\n",
      "0 \t [0.42744587 0.36755654 0.52480337 0.4587146  0.42835359 0.11343615]\n",
      "0 \t [0.43198629 0.34427192 0.54661977 0.42329574 0.46135102 0.06361976]\n"
     ]
    }
   ],
   "source": [
    "p_vectors = []\n",
    "for i in range(10):\n",
    "    for j in range(10):\n",
    "        if(taggings[i][j] == 0):\n",
    "            p = LVQ.prototype(0, som.weights[(i,j)], epsilon)\n",
    "            p_vectors.append(p)\n",
    "        elif(taggings[i][j] == 1):\n",
    "            p = LVQ.prototype(1, som.weights[(i,j)], epsilon)\n",
    "            p_vectors.append(p)\n",
    "        elif(taggings[i][j] == 2):\n",
    "            p = LVQ.prototype(2, som.weights[(i,j)], epsilon)\n",
    "            p_vectors.append(p)\n",
    "        elif(taggings[i][j] == 3):\n",
    "            p = LVQ.prototype(3, som.weights[(i,j)], epsilon)\n",
    "            p_vectors.append(p)\n",
    "print(\"class id \\t Initial prototype vector \\n\")\n",
    "for p_v in p_vectors:\n",
    "    print(p_v.class_id, '\\t', p_v.p_vector)"
   ]
  },
  {
   "cell_type": "code",
   "execution_count": 68,
   "metadata": {},
   "outputs": [],
   "source": [
    "lvq = LVQ.LVQ(x_train, y_train, n_classes=2, n_neurons=25, p_vectors=p_vectors, epsilon=0.9, epsilon_dec_factor=0.001)\n",
    "neurons = lvq.fit(x_train, y_train)"
   ]
  },
  {
   "cell_type": "code",
   "execution_count": 69,
   "metadata": {
    "scrolled": true
   },
   "outputs": [
    {
     "name": "stdout",
     "output_type": "stream",
     "text": [
      "             precision    recall  f1-score   support\n",
      "\n",
      "          0       0.99      0.94      0.97       138\n",
      "          1       1.00      0.69      0.82        55\n",
      "          2       0.45      0.71      0.56        28\n",
      "          3       0.85      0.92      0.88       108\n",
      "\n",
      "avg / total       0.90      0.87      0.88       329\n",
      "\n"
     ]
    }
   ],
   "source": [
    "predicted_y = [lvq.predict(instance) for instance in x_test]\n",
    "\n",
    "from sklearn.metrics import classification_report\n",
    "\n",
    "print (classification_report(y_test, predicted_y, target_names=['0','1', '2', '3']))"
   ]
  },
  {
   "cell_type": "code",
   "execution_count": 70,
   "metadata": {
    "scrolled": false
   },
   "outputs": [
    {
     "data": {
      "text/plain": [
       "0.8723404255319149"
      ]
     },
     "execution_count": 70,
     "metadata": {},
     "output_type": "execute_result"
    }
   ],
   "source": [
    "A = np.array(predicted_y)-y_test\n",
    "len(A[A==0])/len(A)"
   ]
  },
  {
   "cell_type": "code",
   "execution_count": 71,
   "metadata": {
    "scrolled": true
   },
   "outputs": [
    {
     "name": "stdout",
     "output_type": "stream",
     "text": [
      "             precision    recall  f1-score   support\n",
      "\n",
      "          0       0.99      0.91      0.95       558\n",
      "          1       0.92      0.70      0.80       165\n",
      "          2       0.55      0.75      0.64       139\n",
      "          3       0.83      0.90      0.86       453\n",
      "\n",
      "avg / total       0.88      0.86      0.87      1315\n",
      "\n"
     ]
    }
   ],
   "source": [
    "data_new = pd.read_csv(r\"data/SD-3X_rocktype.csv\")\n",
    "x_new = data.iloc[:, 0:6].values\n",
    "y_new = data.iloc[:, 6].values\n",
    "y_new[y_new == 4] = 0\n",
    "x_new = minmax.fit_transform(x_new)\n",
    "predicted_y_new = [lvq.predict(instance) for instance in x_new]\n",
    "\n",
    "from sklearn.metrics import classification_report\n",
    "\n",
    "print (classification_report(y_new, predicted_y_new, target_names=['0', '1', '2', '3']))"
   ]
  },
  {
   "cell_type": "code",
   "execution_count": 72,
   "metadata": {},
   "outputs": [
    {
     "data": {
      "text/plain": [
       "array([3, 0, 1, 2], dtype=int64)"
      ]
     },
     "execution_count": 72,
     "metadata": {},
     "output_type": "execute_result"
    }
   ],
   "source": [
    "arr = np.array([1,2,3,0])\n",
    "\n",
    "arr.argsort()"
   ]
  }
 ],
 "metadata": {
  "kernelspec": {
   "display_name": "Python 3",
   "language": "python",
   "name": "python3"
  },
  "language_info": {
   "codemirror_mode": {
    "name": "ipython",
    "version": 3
   },
   "file_extension": ".py",
   "mimetype": "text/x-python",
   "name": "python",
   "nbconvert_exporter": "python",
   "pygments_lexer": "ipython3",
   "version": "3.6.5"
  }
 },
 "nbformat": 4,
 "nbformat_minor": 2
}
