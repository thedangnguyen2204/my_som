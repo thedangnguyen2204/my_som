{
 "cells": [
  {
   "cell_type": "code",
   "execution_count": 20,
   "metadata": {},
   "outputs": [],
   "source": [
    "import numpy as np\n",
    "from sklearn.metrics import euclidean_distances\n",
    "import pandas as pd\n",
    "import minisom\n",
    "from sklearn.datasets import load_breast_cancer\n",
    "from sklearn.model_selection import KFold\n",
    "from random import randint, choice\n",
    "import LVQ"
   ]
  },
  {
   "cell_type": "code",
   "execution_count": 37,
   "metadata": {},
   "outputs": [],
   "source": [
    "data = pd.read_csv(r\"data/SD-2X_rocktype.csv\")\n",
    "x = data.iloc[:, 0:6].values\n",
    "y = data.iloc[:, 6].values\n",
    "y[y==4] = 0\n",
    "from sklearn.cross_validation import train_test_split\n",
    "x_train, x_test, y_train, y_test = train_test_split(x, y, test_size=0.25, random_state=44)\n",
    "\n",
    "# use Minmaxscaler because we use euclidean distance\n",
    "from sklearn.preprocessing import MinMaxScaler\n",
    "minmax = MinMaxScaler()\n",
    "x_train = minmax.fit_transform(x_train)\n",
    "x_test = minmax.transform(x_test)"
   ]
  },
  {
   "cell_type": "code",
   "execution_count": 22,
   "metadata": {},
   "outputs": [
    {
     "data": {
      "text/plain": [
       "array([0, 1, 2, 3], dtype=int64)"
      ]
     },
     "execution_count": 22,
     "metadata": {},
     "output_type": "execute_result"
    }
   ],
   "source": [
    "np.unique(y_test)"
   ]
  },
  {
   "cell_type": "code",
   "execution_count": 23,
   "metadata": {},
   "outputs": [],
   "source": [
    "# Training the SOM\n",
    "from minisom import MiniSom\n",
    "som = MiniSom(x = 10, y = 10, input_len = 6, sigma = 1.0, learning_rate = 0.5)\n",
    "som.random_weights_init(x_train)\n",
    "som.train_random(data = x_train, num_iteration = 100)"
   ]
  },
  {
   "cell_type": "code",
   "execution_count": 24,
   "metadata": {
    "scrolled": true
   },
   "outputs": [
    {
     "data": {
      "text/plain": [
       "array([[[0., 0., 0., 0., 0., 0., 0., 0., 0., 0.],\n",
       "        [0., 0., 0., 0., 0., 0., 0., 0., 0., 0.],\n",
       "        [0., 0., 0., 0., 0., 0., 0., 0., 0., 0.],\n",
       "        [0., 0., 0., 0., 0., 0., 0., 0., 0., 0.],\n",
       "        [0., 0., 0., 0., 0., 0., 0., 0., 0., 0.],\n",
       "        [0., 0., 0., 0., 0., 0., 0., 0., 0., 0.],\n",
       "        [0., 0., 0., 0., 0., 0., 0., 0., 0., 0.],\n",
       "        [0., 0., 0., 0., 0., 0., 0., 0., 0., 0.],\n",
       "        [0., 0., 0., 0., 0., 0., 0., 0., 0., 0.],\n",
       "        [0., 0., 0., 0., 0., 0., 0., 0., 0., 0.]],\n",
       "\n",
       "       [[0., 0., 0., 0., 0., 0., 0., 0., 0., 0.],\n",
       "        [0., 0., 0., 0., 0., 0., 0., 0., 0., 0.],\n",
       "        [0., 0., 0., 0., 0., 0., 0., 0., 0., 0.],\n",
       "        [0., 0., 0., 0., 0., 0., 0., 0., 0., 0.],\n",
       "        [0., 0., 0., 0., 0., 0., 0., 0., 0., 0.],\n",
       "        [0., 0., 0., 0., 0., 0., 0., 0., 0., 0.],\n",
       "        [0., 0., 0., 0., 0., 0., 0., 0., 0., 0.],\n",
       "        [0., 0., 0., 0., 0., 0., 0., 0., 0., 0.],\n",
       "        [0., 0., 0., 0., 0., 0., 0., 0., 0., 0.],\n",
       "        [0., 0., 0., 0., 0., 0., 0., 0., 0., 0.]],\n",
       "\n",
       "       [[0., 0., 0., 0., 0., 0., 0., 0., 0., 0.],\n",
       "        [0., 0., 0., 0., 0., 0., 0., 0., 0., 0.],\n",
       "        [0., 0., 0., 0., 0., 0., 0., 0., 0., 0.],\n",
       "        [0., 0., 0., 0., 0., 0., 0., 0., 0., 0.],\n",
       "        [0., 0., 0., 0., 0., 0., 0., 0., 0., 0.],\n",
       "        [0., 0., 0., 0., 0., 0., 0., 0., 0., 0.],\n",
       "        [0., 0., 0., 0., 0., 0., 0., 0., 0., 0.],\n",
       "        [0., 0., 0., 0., 0., 0., 0., 0., 0., 0.],\n",
       "        [0., 0., 0., 0., 0., 0., 0., 0., 0., 0.],\n",
       "        [0., 0., 0., 0., 0., 0., 0., 0., 0., 0.]],\n",
       "\n",
       "       [[0., 0., 0., 0., 0., 0., 0., 0., 0., 0.],\n",
       "        [0., 0., 0., 0., 0., 0., 0., 0., 0., 0.],\n",
       "        [0., 0., 0., 0., 0., 0., 0., 0., 0., 0.],\n",
       "        [0., 0., 0., 0., 0., 0., 0., 0., 0., 0.],\n",
       "        [0., 0., 0., 0., 0., 0., 0., 0., 0., 0.],\n",
       "        [0., 0., 0., 0., 0., 0., 0., 0., 0., 0.],\n",
       "        [0., 0., 0., 0., 0., 0., 0., 0., 0., 0.],\n",
       "        [0., 0., 0., 0., 0., 0., 0., 0., 0., 0.],\n",
       "        [0., 0., 0., 0., 0., 0., 0., 0., 0., 0.],\n",
       "        [0., 0., 0., 0., 0., 0., 0., 0., 0., 0.]]])"
      ]
     },
     "execution_count": 24,
     "metadata": {},
     "output_type": "execute_result"
    }
   ],
   "source": [
    "labels = np.zeros((4, 10, 10))\n",
    "labels"
   ]
  },
  {
   "cell_type": "code",
   "execution_count": 25,
   "metadata": {
    "scrolled": false
   },
   "outputs": [
    {
     "data": {
      "image/png": "[encoded data removed]",
      "text/plain": [
       "<Figure size 432x288 with 2 Axes>"
      ]
     },
     "metadata": {},
     "output_type": "display_data"
    }
   ],
   "source": [
    "# Visualizing the results\n",
    "from pylab import bone, pcolor, colorbar, plot, show\n",
    "bone()\n",
    "pcolor(som.distance_map().T)\n",
    "colorbar()\n",
    "markers = ['1', '2', '3', '4', 's', '8', 'p', '>']\n",
    "colors = ['r', 'g', 'b', 'y', 'w', 'c', 'm', 'k']\n",
    "for i, x in enumerate(x_train):\n",
    "    w = som.winner(x)\n",
    "    plot(w[0] + 0.5,\n",
    "         w[1] + 0.5,\n",
    "         markers[y_train[i]],\n",
    "         markeredgecolor = colors[y_train[i]],\n",
    "         markerfacecolor = 'None',\n",
    "         markersize = 10,\n",
    "         markeredgewidth = 2)\n",
    "    if y_train[i] == 0:\n",
    "        labels[0, w[0], w[1]] += 1\n",
    "    elif y_train[i] == 1:\n",
    "        labels[1, w[0], w[1]] += 1\n",
    "    elif y_train[i] == 2:\n",
    "        labels[2, w[0], w[1]] += 1\n",
    "    elif y_train[i] == 3:\n",
    "        labels[3, w[0], w[1]] += 1\n",
    "show()"
   ]
  },
  {
   "cell_type": "code",
   "execution_count": 26,
   "metadata": {},
   "outputs": [
    {
     "name": "stderr",
     "output_type": "stream",
     "text": [
      "C:\\Users\\Thend\\Anaconda3\\lib\\site-packages\\ipykernel_launcher.py:6: RuntimeWarning: divide by zero encountered in longlong_scalars\n",
      "  \n"
     ]
    }
   ],
   "source": [
    "taggings = np.zeros((10, 10))\n",
    "for i in range(10):\n",
    "    for j in range(10):\n",
    "        tmp = np.array([labels[0][i][j], labels[1][i][j], labels[2][i][j], labels[3][i][j]])\n",
    "        sort = tmp.argsort()\n",
    "        if (sort[3]/sort[2] < 20):\n",
    "            taggings[i][j] = np.random.choice([sort[3], sort[2]])\n",
    "        else:\n",
    "            taggings[i][j] = sort[3]"
   ]
  },
  {
   "cell_type": "code",
   "execution_count": 27,
   "metadata": {},
   "outputs": [
    {
     "data": {
      "text/plain": [
       "array([[0., 0., 3., 3., 3., 2., 3., 1., 1., 3.],\n",
       "       [0., 0., 0., 0., 3., 3., 2., 1., 2., 2.],\n",
       "       [3., 0., 0., 3., 3., 3., 2., 2., 3., 3.],\n",
       "       [3., 0., 0., 3., 3., 2., 3., 3., 3., 3.],\n",
       "       [3., 0., 2., 2., 3., 0., 2., 0., 3., 3.],\n",
       "       [0., 3., 3., 0., 2., 3., 3., 2., 0., 3.],\n",
       "       [3., 3., 0., 3., 2., 3., 2., 2., 3., 2.],\n",
       "       [3., 2., 2., 2., 2., 3., 3., 3., 2., 2.],\n",
       "       [0., 3., 3., 2., 2., 1., 3., 2., 3., 3.],\n",
       "       [2., 0., 2., 3., 3., 1., 2., 3., 3., 2.]])"
      ]
     },
     "execution_count": 27,
     "metadata": {},
     "output_type": "execute_result"
    }
   ],
   "source": [
    "taggings"
   ]
  },
  {
   "cell_type": "code",
   "execution_count": 28,
   "metadata": {},
   "outputs": [
    {
     "data": {
      "text/plain": [
       "array([[[0.42381993, 0.32338311, 0.3889652 , 0.4839698 , 0.57225517,\n",
       "         0.05294675],\n",
       "        [0.42529693, 0.3350345 , 0.42315493, 0.487437  , 0.53423472,\n",
       "         0.06937399],\n",
       "        [0.42549555, 0.37482164, 0.44204674, 0.49886769, 0.46908733,\n",
       "         0.11893298],\n",
       "        [0.42036245, 0.39660783, 0.43701992, 0.49580013, 0.45998621,\n",
       "         0.13268814],\n",
       "        [0.40318796, 0.39068215, 0.44052051, 0.49796223, 0.4659389 ,\n",
       "         0.16025967],\n",
       "        [0.3465841 , 0.37658134, 0.43672379, 0.53277597, 0.36331984,\n",
       "         0.36261101],\n",
       "        [0.26138541, 0.38833726, 0.22474802, 0.55977002, 0.20622799,\n",
       "         0.611954  ],\n",
       "        [0.19628441, 0.36896422, 0.16888049, 0.58195565, 0.11692155,\n",
       "         0.66668897],\n",
       "        [0.23059062, 0.43609572, 0.13234813, 0.58132201, 0.15127219,\n",
       "         0.61507228],\n",
       "        [0.257374  , 0.48940477, 0.09039808, 0.55645486, 0.19682323,\n",
       "         0.58110962]],\n",
       "\n",
       "       [[0.42281889, 0.34467864, 0.39249458, 0.51611016, 0.51829785,\n",
       "         0.11561342],\n",
       "        [0.43335027, 0.34166166, 0.44755189, 0.48742451, 0.50083499,\n",
       "         0.08218157],\n",
       "        [0.43613567, 0.36011908, 0.46357642, 0.4830846 , 0.47431463,\n",
       "         0.08277515],\n",
       "        [0.42630005, 0.37298152, 0.46354783, 0.48787062, 0.46330128,\n",
       "         0.10775268],\n",
       "        [0.40458819, 0.37238412, 0.45920792, 0.5021808 , 0.45657384,\n",
       "         0.1616209 ],\n",
       "        [0.331158  , 0.37032703, 0.5062086 , 0.51131641, 0.3435227 ,\n",
       "         0.34277224],\n",
       "        [0.2807501 , 0.39909258, 0.27895028, 0.55763454, 0.21455169,\n",
       "         0.57192877],\n",
       "        [0.23326028, 0.39951262, 0.19299888, 0.57333532, 0.16291089,\n",
       "         0.62727777],\n",
       "        [0.26475461, 0.44968553, 0.16944131, 0.57399258, 0.21216689,\n",
       "         0.56964489],\n",
       "        [0.27457719, 0.47492428, 0.1424614 , 0.58109786, 0.23202963,\n",
       "         0.53595389]],\n",
       "\n",
       "       [[0.39389129, 0.37050238, 0.4695438 , 0.5135757 , 0.42968349,\n",
       "         0.1967698 ],\n",
       "        [0.4242534 , 0.34669896, 0.4796999 , 0.48876351, 0.46637528,\n",
       "         0.1153309 ],\n",
       "        [0.42659426, 0.34024651, 0.49597522, 0.47919111, 0.46644527,\n",
       "         0.09519936],\n",
       "        [0.41388145, 0.34538396, 0.5013899 , 0.48829291, 0.45166523,\n",
       "         0.12485502],\n",
       "        [0.3937517 , 0.3521876 , 0.48220676, 0.52361556, 0.4047304 ,\n",
       "         0.22454438],\n",
       "        [0.37850892, 0.3732799 , 0.47337079, 0.52051727, 0.3792256 ,\n",
       "         0.28029076],\n",
       "        [0.33375771, 0.41166638, 0.36151516, 0.559656  , 0.29272146,\n",
       "         0.435365  ],\n",
       "        [0.32794362, 0.42953131, 0.29321589, 0.54579094, 0.2879225 ,\n",
       "         0.4911142 ],\n",
       "        [0.310261  , 0.46141155, 0.25584918, 0.53564722, 0.28851405,\n",
       "         0.50519342],\n",
       "        [0.3126912 , 0.46224532, 0.21617707, 0.57155888, 0.30983425,\n",
       "         0.46812833]],\n",
       "\n",
       "       [[0.39757356, 0.38817726, 0.55896417, 0.44959776, 0.40543073,\n",
       "         0.1109077 ],\n",
       "        [0.40527243, 0.35455249, 0.56150712, 0.44550667, 0.42596158,\n",
       "         0.12180753],\n",
       "        [0.39305462, 0.3443877 , 0.56833062, 0.43907862, 0.44101713,\n",
       "         0.12891604],\n",
       "        [0.36299765, 0.2988232 , 0.6353292 , 0.43639482, 0.40026015,\n",
       "         0.15698909],\n",
       "        [0.36252405, 0.36433991, 0.51841501, 0.5068831 , 0.35851993,\n",
       "         0.28567744],\n",
       "        [0.32919609, 0.3786366 , 0.4773752 , 0.52765112, 0.32733889,\n",
       "         0.36716581],\n",
       "        [0.3632875 , 0.38873077, 0.44999126, 0.52981921, 0.3435818 ,\n",
       "         0.34009058],\n",
       "        [0.3221951 , 0.36660087, 0.54229572, 0.46814904, 0.32001949,\n",
       "         0.38227409],\n",
       "        [0.37878691, 0.43793318, 0.34140565, 0.5200028 , 0.39686912,\n",
       "         0.34679846],\n",
       "        [0.36409565, 0.44426911, 0.31292487, 0.54377777, 0.38723527,\n",
       "         0.35565703]],\n",
       "\n",
       "       [[0.32758489, 0.2752867 , 0.75504241, 0.30038524, 0.38520065,\n",
       "         0.09058418],\n",
       "        [0.37942778, 0.28871532, 0.6866154 , 0.32308095, 0.43995303,\n",
       "         0.05742256],\n",
       "        [0.34043538, 0.28994015, 0.72413792, 0.33078594, 0.3826361 ,\n",
       "         0.14082972],\n",
       "        [0.3534871 , 0.37897354, 0.56801867, 0.45554415, 0.36021756,\n",
       "         0.26740148],\n",
       "        [0.32766182, 0.33247087, 0.61630464, 0.4462054 , 0.32725283,\n",
       "         0.30996093],\n",
       "        [0.2565697 , 0.28989937, 0.72006479, 0.40472442, 0.25996793,\n",
       "         0.31662576],\n",
       "        [0.34427715, 0.39371391, 0.46356549, 0.51764002, 0.36960393,\n",
       "         0.32712595],\n",
       "        [0.32832094, 0.37548916, 0.55715694, 0.48894502, 0.33057287,\n",
       "         0.30404561],\n",
       "        [0.39833076, 0.42808566, 0.37702231, 0.53783357, 0.38633932,\n",
       "         0.27822012],\n",
       "        [0.36362748, 0.42541901, 0.44885003, 0.51641053, 0.35285923,\n",
       "         0.30681898]],\n",
       "\n",
       "       [[0.37312588, 0.26501114, 0.6756151 , 0.26691783, 0.51243768,\n",
       "         0.01590293],\n",
       "        [0.33609957, 0.21811692, 0.80268307, 0.22520823, 0.37612647,\n",
       "         0.05451702],\n",
       "        [0.35875769, 0.32596747, 0.68202315, 0.33389201, 0.40877969,\n",
       "         0.1459378 ],\n",
       "        [0.35331734, 0.39791238, 0.60298054, 0.40871665, 0.36783618,\n",
       "         0.22559767],\n",
       "        [0.31503962, 0.39236781, 0.53544513, 0.48872538, 0.3148528 ,\n",
       "         0.34944422],\n",
       "        [0.33282444, 0.38715551, 0.51125242, 0.51419365, 0.31105865,\n",
       "         0.34177021],\n",
       "        [0.36208897, 0.41744539, 0.44242638, 0.53340017, 0.3341861 ,\n",
       "         0.32045863],\n",
       "        [0.37362679, 0.42278426, 0.34905158, 0.56937327, 0.34112602,\n",
       "         0.34534998],\n",
       "        [0.4133635 , 0.42554846, 0.38996901, 0.54110937, 0.39016768,\n",
       "         0.22568368],\n",
       "        [0.39436691, 0.4578237 , 0.38938967, 0.53941655, 0.36498561,\n",
       "         0.24302917]],\n",
       "\n",
       "       [[0.38633817, 0.31016224, 0.65915032, 0.30834947, 0.47202513,\n",
       "         0.04664702],\n",
       "        [0.38065268, 0.30023436, 0.67544403, 0.34278684, 0.42203731,\n",
       "         0.11454223],\n",
       "        [0.35611924, 0.39189611, 0.57918877, 0.4188623 , 0.38892854,\n",
       "         0.23963694],\n",
       "        [0.34090083, 0.44301381, 0.48793381, 0.47781419, 0.3668592 ,\n",
       "         0.29420048],\n",
       "        [0.33305676, 0.43386276, 0.44285372, 0.52740592, 0.33999067,\n",
       "         0.33311592],\n",
       "        [0.30151709, 0.37432051, 0.55729301, 0.48962942, 0.29462784,\n",
       "         0.36311647],\n",
       "        [0.34896694, 0.40298272, 0.39052676, 0.56449896, 0.35807012,\n",
       "         0.34123683],\n",
       "        [0.37351831, 0.44866249, 0.35137426, 0.56698331, 0.32008586,\n",
       "         0.3343608 ],\n",
       "        [0.39617204, 0.43944939, 0.35299777, 0.5607134 , 0.36376983,\n",
       "         0.2803507 ],\n",
       "        [0.38639638, 0.47576531, 0.32102365, 0.56533088, 0.31950669,\n",
       "         0.31560338]],\n",
       "\n",
       "       [[0.35882308, 0.41162114, 0.39404357, 0.52875358, 0.40833098,\n",
       "         0.3165899 ],\n",
       "        [0.34299262, 0.33221669, 0.52007611, 0.49291518, 0.36428838,\n",
       "         0.35473593],\n",
       "        [0.3274498 , 0.42292161, 0.38374441, 0.56056518, 0.28975125,\n",
       "         0.41044496],\n",
       "        [0.32887549, 0.45200538, 0.3290735 , 0.57799405, 0.26793728,\n",
       "         0.41638345],\n",
       "        [0.31887512, 0.47292708, 0.32964854, 0.57430181, 0.29026321,\n",
       "         0.38976297],\n",
       "        [0.33910011, 0.42410845, 0.41873709, 0.54469019, 0.33393915,\n",
       "         0.34871138],\n",
       "        [0.29323022, 0.44529626, 0.41245229, 0.54222948, 0.22621193,\n",
       "         0.44768935],\n",
       "        [0.33040442, 0.41562276, 0.43574404, 0.55911325, 0.30196767,\n",
       "         0.35274023],\n",
       "        [0.35679894, 0.41877994, 0.3841637 , 0.55704688, 0.37902586,\n",
       "         0.30947422],\n",
       "        [0.39832495, 0.42032349, 0.37157031, 0.55697157, 0.36858834,\n",
       "         0.28377142]],\n",
       "\n",
       "       [[0.37720236, 0.37114572, 0.31517165, 0.57813154, 0.45894495,\n",
       "         0.27526264],\n",
       "        [0.38276831, 0.39774641, 0.35811013, 0.56593442, 0.37854652,\n",
       "         0.32165838],\n",
       "        [0.35323306, 0.44158748, 0.26946855, 0.59772472, 0.29183423,\n",
       "         0.40641302],\n",
       "        [0.33144722, 0.44762303, 0.28774058, 0.59606895, 0.25604106,\n",
       "         0.43142381],\n",
       "        [0.31017588, 0.46238627, 0.2948517 , 0.59387765, 0.22418472,\n",
       "         0.44732861],\n",
       "        [0.27353161, 0.41908646, 0.3803456 , 0.56588397, 0.20429858,\n",
       "         0.49287081],\n",
       "        [0.22440323, 0.35462317, 0.58969589, 0.4739009 , 0.19856373,\n",
       "         0.46058086],\n",
       "        [0.19397956, 0.28698137, 0.71290926, 0.41693515, 0.22634374,\n",
       "         0.38302429],\n",
       "        [0.16281279, 0.19957611, 0.82344485, 0.33771311, 0.17827885,\n",
       "         0.33131021],\n",
       "        [0.3257339 , 0.43300379, 0.41095831, 0.48951154, 0.26770555,\n",
       "         0.47563705]],\n",
       "\n",
       "       [[0.37351384, 0.40311477, 0.33234037, 0.56612576, 0.37020269,\n",
       "         0.3605376 ],\n",
       "        [0.37267557, 0.40752772, 0.29483606, 0.58968959, 0.39311021,\n",
       "         0.32532495],\n",
       "        [0.36139613, 0.42116054, 0.2739405 , 0.60310064, 0.30549974,\n",
       "         0.39989095],\n",
       "        [0.33465742, 0.41963495, 0.21455254, 0.62417118, 0.24552103,\n",
       "         0.46476649],\n",
       "        [0.30665065, 0.43080209, 0.28420959, 0.59214336, 0.21474152,\n",
       "         0.49280033],\n",
       "        [0.22599584, 0.3602882 , 0.49788632, 0.51721472, 0.18905271,\n",
       "         0.51766351],\n",
       "        [0.15555301, 0.29753086, 0.7122802 , 0.38218321, 0.1679476 ,\n",
       "         0.45350321],\n",
       "        [0.06305876, 0.14881668, 0.89855732, 0.21695143, 0.08318888,\n",
       "         0.33538579],\n",
       "        [0.1935487 , 0.25754546, 0.78425629, 0.37066544, 0.17830085,\n",
       "         0.33461508],\n",
       "        [0.24597231, 0.45831541, 0.46536878, 0.56213547, 0.12389602,\n",
       "         0.42606337]]])"
      ]
     },
     "execution_count": 28,
     "metadata": {},
     "output_type": "execute_result"
    }
   ],
   "source": [
    "mappings = som.win_map(x_train)\n",
    "som.weights"
   ]
  },
  {
   "cell_type": "code",
   "execution_count": 29,
   "metadata": {},
   "outputs": [],
   "source": [
    "epsilon = 0.9\n",
    "epsilon_dec_factor = 0.001"
   ]
  },
  {
   "cell_type": "code",
   "execution_count": 30,
   "metadata": {},
   "outputs": [],
   "source": [
    "def find_class_id(test_vector, p_vectors):\n",
    "    return find_closest(test_vector, p_vectors)[1].class_id"
   ]
  },
  {
   "cell_type": "code",
   "execution_count": 31,
   "metadata": {
    "scrolled": true
   },
   "outputs": [
    {
     "name": "stdout",
     "output_type": "stream",
     "text": [
      "class id \t Initial prototype vector \n",
      "\n",
      "0 \t [0.42381993 0.32338311 0.3889652  0.4839698  0.57225517 0.05294675]\n",
      "0 \t [0.42529693 0.3350345  0.42315493 0.487437   0.53423472 0.06937399]\n",
      "3 \t [0.42549555 0.37482164 0.44204674 0.49886769 0.46908733 0.11893298]\n",
      "3 \t [0.42036245 0.39660783 0.43701992 0.49580013 0.45998621 0.13268814]\n",
      "3 \t [0.40318796 0.39068215 0.44052051 0.49796223 0.4659389  0.16025967]\n",
      "2 \t [0.3465841  0.37658134 0.43672379 0.53277597 0.36331984 0.36261101]\n",
      "3 \t [0.26138541 0.38833726 0.22474802 0.55977002 0.20622799 0.611954  ]\n",
      "1 \t [0.19628441 0.36896422 0.16888049 0.58195565 0.11692155 0.66668897]\n",
      "1 \t [0.23059062 0.43609572 0.13234813 0.58132201 0.15127219 0.61507228]\n",
      "3 \t [0.257374   0.48940477 0.09039808 0.55645486 0.19682323 0.58110962]\n",
      "0 \t [0.42281889 0.34467864 0.39249458 0.51611016 0.51829785 0.11561342]\n",
      "0 \t [0.43335027 0.34166166 0.44755189 0.48742451 0.50083499 0.08218157]\n",
      "0 \t [0.43613567 0.36011908 0.46357642 0.4830846  0.47431463 0.08277515]\n",
      "0 \t [0.42630005 0.37298152 0.46354783 0.48787062 0.46330128 0.10775268]\n",
      "3 \t [0.40458819 0.37238412 0.45920792 0.5021808  0.45657384 0.1616209 ]\n",
      "3 \t [0.331158   0.37032703 0.5062086  0.51131641 0.3435227  0.34277224]\n",
      "2 \t [0.2807501  0.39909258 0.27895028 0.55763454 0.21455169 0.57192877]\n",
      "1 \t [0.23326028 0.39951262 0.19299888 0.57333532 0.16291089 0.62727777]\n",
      "2 \t [0.26475461 0.44968553 0.16944131 0.57399258 0.21216689 0.56964489]\n",
      "2 \t [0.27457719 0.47492428 0.1424614  0.58109786 0.23202963 0.53595389]\n",
      "3 \t [0.39389129 0.37050238 0.4695438  0.5135757  0.42968349 0.1967698 ]\n",
      "0 \t [0.4242534  0.34669896 0.4796999  0.48876351 0.46637528 0.1153309 ]\n",
      "0 \t [0.42659426 0.34024651 0.49597522 0.47919111 0.46644527 0.09519936]\n",
      "3 \t [0.41388145 0.34538396 0.5013899  0.48829291 0.45166523 0.12485502]\n",
      "3 \t [0.3937517  0.3521876  0.48220676 0.52361556 0.4047304  0.22454438]\n",
      "3 \t [0.37850892 0.3732799  0.47337079 0.52051727 0.3792256  0.28029076]\n",
      "2 \t [0.33375771 0.41166638 0.36151516 0.559656   0.29272146 0.435365  ]\n",
      "2 \t [0.32794362 0.42953131 0.29321589 0.54579094 0.2879225  0.4911142 ]\n",
      "3 \t [0.310261   0.46141155 0.25584918 0.53564722 0.28851405 0.50519342]\n",
      "3 \t [0.3126912  0.46224532 0.21617707 0.57155888 0.30983425 0.46812833]\n",
      "3 \t [0.39757356 0.38817726 0.55896417 0.44959776 0.40543073 0.1109077 ]\n",
      "0 \t [0.40527243 0.35455249 0.56150712 0.44550667 0.42596158 0.12180753]\n",
      "0 \t [0.39305462 0.3443877  0.56833062 0.43907862 0.44101713 0.12891604]\n",
      "3 \t [0.36299765 0.2988232  0.6353292  0.43639482 0.40026015 0.15698909]\n",
      "3 \t [0.36252405 0.36433991 0.51841501 0.5068831  0.35851993 0.28567744]\n",
      "2 \t [0.32919609 0.3786366  0.4773752  0.52765112 0.32733889 0.36716581]\n",
      "3 \t [0.3632875  0.38873077 0.44999126 0.52981921 0.3435818  0.34009058]\n",
      "3 \t [0.3221951  0.36660087 0.54229572 0.46814904 0.32001949 0.38227409]\n",
      "3 \t [0.37878691 0.43793318 0.34140565 0.5200028  0.39686912 0.34679846]\n",
      "3 \t [0.36409565 0.44426911 0.31292487 0.54377777 0.38723527 0.35565703]\n",
      "3 \t [0.32758489 0.2752867  0.75504241 0.30038524 0.38520065 0.09058418]\n",
      "0 \t [0.37942778 0.28871532 0.6866154  0.32308095 0.43995303 0.05742256]\n",
      "2 \t [0.34043538 0.28994015 0.72413792 0.33078594 0.3826361  0.14082972]\n",
      "2 \t [0.3534871  0.37897354 0.56801867 0.45554415 0.36021756 0.26740148]\n",
      "3 \t [0.32766182 0.33247087 0.61630464 0.4462054  0.32725283 0.30996093]\n",
      "0 \t [0.2565697  0.28989937 0.72006479 0.40472442 0.25996793 0.31662576]\n",
      "2 \t [0.34427715 0.39371391 0.46356549 0.51764002 0.36960393 0.32712595]\n",
      "0 \t [0.32832094 0.37548916 0.55715694 0.48894502 0.33057287 0.30404561]\n",
      "3 \t [0.39833076 0.42808566 0.37702231 0.53783357 0.38633932 0.27822012]\n",
      "3 \t [0.36362748 0.42541901 0.44885003 0.51641053 0.35285923 0.30681898]\n",
      "0 \t [0.37312588 0.26501114 0.6756151  0.26691783 0.51243768 0.01590293]\n",
      "3 \t [0.33609957 0.21811692 0.80268307 0.22520823 0.37612647 0.05451702]\n",
      "3 \t [0.35875769 0.32596747 0.68202315 0.33389201 0.40877969 0.1459378 ]\n",
      "0 \t [0.35331734 0.39791238 0.60298054 0.40871665 0.36783618 0.22559767]\n",
      "2 \t [0.31503962 0.39236781 0.53544513 0.48872538 0.3148528  0.34944422]\n",
      "3 \t [0.33282444 0.38715551 0.51125242 0.51419365 0.31105865 0.34177021]\n",
      "3 \t [0.36208897 0.41744539 0.44242638 0.53340017 0.3341861  0.32045863]\n",
      "2 \t [0.37362679 0.42278426 0.34905158 0.56937327 0.34112602 0.34534998]\n",
      "0 \t [0.4133635  0.42554846 0.38996901 0.54110937 0.39016768 0.22568368]\n",
      "3 \t [0.39436691 0.4578237  0.38938967 0.53941655 0.36498561 0.24302917]\n",
      "3 \t [0.38633817 0.31016224 0.65915032 0.30834947 0.47202513 0.04664702]\n",
      "3 \t [0.38065268 0.30023436 0.67544403 0.34278684 0.42203731 0.11454223]\n",
      "0 \t [0.35611924 0.39189611 0.57918877 0.4188623  0.38892854 0.23963694]\n",
      "3 \t [0.34090083 0.44301381 0.48793381 0.47781419 0.3668592  0.29420048]\n",
      "2 \t [0.33305676 0.43386276 0.44285372 0.52740592 0.33999067 0.33311592]\n",
      "3 \t [0.30151709 0.37432051 0.55729301 0.48962942 0.29462784 0.36311647]\n",
      "2 \t [0.34896694 0.40298272 0.39052676 0.56449896 0.35807012 0.34123683]\n",
      "2 \t [0.37351831 0.44866249 0.35137426 0.56698331 0.32008586 0.3343608 ]\n",
      "3 \t [0.39617204 0.43944939 0.35299777 0.5607134  0.36376983 0.2803507 ]\n",
      "2 \t [0.38639638 0.47576531 0.32102365 0.56533088 0.31950669 0.31560338]\n",
      "3 \t [0.35882308 0.41162114 0.39404357 0.52875358 0.40833098 0.3165899 ]\n",
      "2 \t [0.34299262 0.33221669 0.52007611 0.49291518 0.36428838 0.35473593]\n",
      "2 \t [0.3274498  0.42292161 0.38374441 0.56056518 0.28975125 0.41044496]\n",
      "2 \t [0.32887549 0.45200538 0.3290735  0.57799405 0.26793728 0.41638345]\n",
      "2 \t [0.31887512 0.47292708 0.32964854 0.57430181 0.29026321 0.38976297]\n",
      "3 \t [0.33910011 0.42410845 0.41873709 0.54469019 0.33393915 0.34871138]\n",
      "3 \t [0.29323022 0.44529626 0.41245229 0.54222948 0.22621193 0.44768935]\n",
      "3 \t [0.33040442 0.41562276 0.43574404 0.55911325 0.30196767 0.35274023]\n",
      "2 \t [0.35679894 0.41877994 0.3841637  0.55704688 0.37902586 0.30947422]\n",
      "2 \t [0.39832495 0.42032349 0.37157031 0.55697157 0.36858834 0.28377142]\n",
      "0 \t [0.37720236 0.37114572 0.31517165 0.57813154 0.45894495 0.27526264]\n",
      "3 \t [0.38276831 0.39774641 0.35811013 0.56593442 0.37854652 0.32165838]\n",
      "3 \t [0.35323306 0.44158748 0.26946855 0.59772472 0.29183423 0.40641302]\n",
      "2 \t [0.33144722 0.44762303 0.28774058 0.59606895 0.25604106 0.43142381]\n",
      "2 \t [0.31017588 0.46238627 0.2948517  0.59387765 0.22418472 0.44732861]\n",
      "1 \t [0.27353161 0.41908646 0.3803456  0.56588397 0.20429858 0.49287081]\n",
      "3 \t [0.22440323 0.35462317 0.58969589 0.4739009  0.19856373 0.46058086]\n",
      "2 \t [0.19397956 0.28698137 0.71290926 0.41693515 0.22634374 0.38302429]\n",
      "3 \t [0.16281279 0.19957611 0.82344485 0.33771311 0.17827885 0.33131021]\n",
      "3 \t [0.3257339  0.43300379 0.41095831 0.48951154 0.26770555 0.47563705]\n",
      "2 \t [0.37351384 0.40311477 0.33234037 0.56612576 0.37020269 0.3605376 ]\n",
      "0 \t [0.37267557 0.40752772 0.29483606 0.58968959 0.39311021 0.32532495]\n",
      "2 \t [0.36139613 0.42116054 0.2739405  0.60310064 0.30549974 0.39989095]\n",
      "3 \t [0.33465742 0.41963495 0.21455254 0.62417118 0.24552103 0.46476649]\n",
      "3 \t [0.30665065 0.43080209 0.28420959 0.59214336 0.21474152 0.49280033]\n",
      "1 \t [0.22599584 0.3602882  0.49788632 0.51721472 0.18905271 0.51766351]\n",
      "2 \t [0.15555301 0.29753086 0.7122802  0.38218321 0.1679476  0.45350321]\n",
      "3 \t [0.06305876 0.14881668 0.89855732 0.21695143 0.08318888 0.33538579]\n",
      "3 \t [0.1935487  0.25754546 0.78425629 0.37066544 0.17830085 0.33461508]\n",
      "2 \t [0.24597231 0.45831541 0.46536878 0.56213547 0.12389602 0.42606337]\n"
     ]
    }
   ],
   "source": [
    "p_vectors = []\n",
    "for i in range(10):\n",
    "    for j in range(10):\n",
    "        if(taggings[i][j] == 0):\n",
    "            p = LVQ.prototype(0, som.weights[(i,j)], epsilon)\n",
    "            p_vectors.append(p)\n",
    "        elif(taggings[i][j] == 1):\n",
    "            p = LVQ.prototype(1, som.weights[(i,j)], epsilon)\n",
    "            p_vectors.append(p)\n",
    "        elif(taggings[i][j] == 2):\n",
    "            p = LVQ.prototype(2, som.weights[(i,j)], epsilon)\n",
    "            p_vectors.append(p)\n",
    "        elif(taggings[i][j] == 3):\n",
    "            p = LVQ.prototype(3, som.weights[(i,j)], epsilon)\n",
    "            p_vectors.append(p)\n",
    "print(\"class id \\t Initial prototype vector \\n\")\n",
    "for p_v in p_vectors:\n",
    "    print(p_v.class_id, '\\t', p_v.p_vector)"
   ]
  },
  {
   "cell_type": "code",
   "execution_count": 32,
   "metadata": {},
   "outputs": [],
   "source": [
    "lvq = LVQ.LVQ(x_train, y_train, n_classes=2, n_neurons=25, p_vectors=p_vectors, epsilon=0.9, epsilon_dec_factor=0.001)\n",
    "neurons = lvq.fit(x_train, y_train)"
   ]
  },
  {
   "cell_type": "code",
   "execution_count": 33,
   "metadata": {
    "scrolled": true
   },
   "outputs": [
    {
     "name": "stdout",
     "output_type": "stream",
     "text": [
      "             precision    recall  f1-score   support\n",
      "\n",
      "          0       0.99      0.87      0.93       138\n",
      "          1       0.96      0.78      0.86        55\n",
      "          2       0.58      0.50      0.54        28\n",
      "          3       0.74      0.95      0.83       108\n",
      "\n",
      "avg / total       0.87      0.85      0.85       329\n",
      "\n"
     ]
    }
   ],
   "source": [
    "predicted_y = [lvq.predict(instance) for instance in x_test]\n",
    "\n",
    "from sklearn.metrics import classification_report\n",
    "\n",
    "print (classification_report(y_test, predicted_y, target_names=['0','1', '2', '3']))"
   ]
  },
  {
   "cell_type": "code",
   "execution_count": 34,
   "metadata": {
    "scrolled": false
   },
   "outputs": [
    {
     "data": {
      "text/plain": [
       "0.851063829787234"
      ]
     },
     "execution_count": 34,
     "metadata": {},
     "output_type": "execute_result"
    }
   ],
   "source": [
    "A = np.array(predicted_y)-y_test\n",
    "len(A[A==0])/len(A)"
   ]
  },
  {
   "cell_type": "code",
   "execution_count": 38,
   "metadata": {
    "scrolled": true
   },
   "outputs": [
    {
     "name": "stdout",
     "output_type": "stream",
     "text": [
      "             precision    recall  f1-score   support\n",
      "\n",
      "          0       0.99      0.83      0.90       558\n",
      "          1       0.88      0.86      0.87       165\n",
      "          2       0.63      0.41      0.50       139\n",
      "          3       0.73      0.96      0.83       453\n",
      "\n",
      "avg / total       0.85      0.83      0.83      1315\n",
      "\n"
     ]
    }
   ],
   "source": [
    "data_new = pd.read_csv(r\"data/SD-3X_rocktype.csv\")\n",
    "x_new = data.iloc[:, 0:6].values\n",
    "y_new = data.iloc[:, 6].values\n",
    "y_new[y_new == 4] = 0\n",
    "x_new = minmax.fit_transform(x_new)\n",
    "predicted_y_new = [lvq.predict(instance) for instance in x_new]\n",
    "\n",
    "from sklearn.metrics import classification_report\n",
    "\n",
    "print (classification_report(y_new, predicted_y_new, target_names=['0', '1', '2', '3']))"
   ]
  },
  {
   "cell_type": "code",
   "execution_count": 36,
   "metadata": {},
   "outputs": [
    {
     "data": {
      "text/plain": [
       "array([3, 0, 1, 2], dtype=int64)"
      ]
     },
     "execution_count": 36,
     "metadata": {},
     "output_type": "execute_result"
    }
   ],
   "source": [
    "arr = np.array([1,2,3,0])\n",
    "\n",
    "arr.argsort()"
   ]
  }
 ],
 "metadata": {
  "kernelspec": {
   "display_name": "Python 3",
   "language": "python",
   "name": "python3"
  },
  "language_info": {
   "codemirror_mode": {
    "name": "ipython",
    "version": 3
   },
   "file_extension": ".py",
   "mimetype": "text/x-python",
   "name": "python",
   "nbconvert_exporter": "python",
   "pygments_lexer": "ipython3",
   "version": "3.6.5"
  }
 },
 "nbformat": 4,
 "nbformat_minor": 2
}
