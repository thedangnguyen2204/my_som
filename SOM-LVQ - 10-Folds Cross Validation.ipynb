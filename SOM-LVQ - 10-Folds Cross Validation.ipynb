{
 "cells": [
  {
   "cell_type": "code",
   "execution_count": 93,
   "metadata": {},
   "outputs": [],
   "source": [
    "import numpy as np\n",
    "from sklearn.metrics import euclidean_distances\n",
    "import pandas as pd\n",
    "import minisom\n",
    "from sklearn.datasets import load_breast_cancer\n",
    "from sklearn.model_selection import KFold\n",
    "from minisom import MiniSom\n",
    "from random import randint"
   ]
  },
  {
   "cell_type": "code",
   "execution_count": 94,
   "metadata": {},
   "outputs": [],
   "source": [
    "data = pd.read_csv(r\"SVNE_Hieu.csv\")\n",
    "x = data.iloc[:, 0:6].values\n",
    "y = data.iloc[:, 6].values"
   ]
  },
  {
   "cell_type": "code",
   "execution_count": 95,
   "metadata": {},
   "outputs": [],
   "source": [
    "result = 0"
   ]
  },
  {
   "cell_type": "code",
   "execution_count": 96,
   "metadata": {},
   "outputs": [
    {
     "name": "stdout",
     "output_type": "stream",
     "text": [
      "0.7831298055178653\n"
     ]
    }
   ],
   "source": [
    "kfolds = KFold(n_splits=20, shuffle=True, random_state=40)\n",
    "for train_index, test_index in kfolds.split(x):\n",
    "#     print(\"Train:\", train_index, \"Validation:\", test_index)\n",
    "    x_train, x_test = x[train_index], x[test_index]\n",
    "    y_train, y_test = y[train_index], y[test_index]\n",
    "    # Training the SOM\n",
    "    som = MiniSom(x = 10, y = 10, input_len = 6, sigma = 1.0, learning_rate = 0.5)\n",
    "    som.random_weights_init(x_train)\n",
    "    som.train_random(data = x_train, num_iteration = 100)\n",
    "    \n",
    "    labels = np.zeros((10, 10))\n",
    "    # parameter for LVQ\n",
    "    R = 50 # R is the # of initial prototype for each class\n",
    "    n_classes = 2\n",
    "    epsilon = 0.9\n",
    "    epsilon_dec_factor = 0.001\n",
    "    for i, x_ in enumerate(x_train):\n",
    "        w = som.winner(x_)\n",
    "        if y_train[i] == 0:\n",
    "            labels[w[0], w[1]] -= 1\n",
    "        elif y_train[i] == 1:\n",
    "            labels[w[0], w[1]] += 1\n",
    "    p_vectors = []\n",
    "    for i in range(10):\n",
    "        for j in range(10):\n",
    "            if(labels[i][j] == 0):\n",
    "                p = prototype(randint(0,1), som.weights[(i,j)], epsilon)\n",
    "                p_vectors.append(p)\n",
    "            elif(labels[i][j] > 0):\n",
    "                p = prototype(1, som.weights[(i,j)], epsilon)\n",
    "                p_vectors.append(p)\n",
    "            elif(labels[i][j] < 0):\n",
    "                p = prototype(0, som.weights[(i,j)], epsilon)\n",
    "                p_vectors.append(p)\n",
    "    while epsilon >= 0.01:\n",
    "        rnd_i = np.random.randint(0, 996)\n",
    "        rnd_s = x_train[rnd_i]\n",
    "        target_y = y_train[rnd_i]\n",
    "\n",
    "        epsilon = epsilon - epsilon_dec_factor\n",
    "\n",
    "        index, closest_pvector = find_closest(rnd_s, p_vectors)\n",
    "    #     LVQ neighbor version\n",
    "        if index >= 10 and index <90:\n",
    "            update_p_vectors = [closest_pvector, p_vectors[index-1], p_vectors[index+1], p_vectors[index+10], p_vectors[index-10]]\n",
    "            for p in update_p_vectors:\n",
    "                if target_y == p.class_id:\n",
    "                    p.update(rnd_s)\n",
    "                else:\n",
    "                    p.update(rnd_s, False)\n",
    "                p.epsilon = epsilon\n",
    "        else:\n",
    "            if target_y == closest_pvector.class_id:\n",
    "                closest_pvector.update(rnd_s)\n",
    "            else:\n",
    "                closest_pvector.update(rnd_s, False)\n",
    "            closest_pvector.epsilon = epsilon\n",
    "\n",
    "    predicted_y = [find_class_id(instance, p_vectors) for instance in x_test]\n",
    "    A = np.array(predicted_y)-y_test\n",
    "    result += len(A[A==0])/len(A)\n",
    "print (result/20)"
   ]
  },
  {
   "cell_type": "code",
   "execution_count": 97,
   "metadata": {},
   "outputs": [],
   "source": [
    "# class of prototype vectors\n",
    "class prototype(object):\n",
    "    def __init__(self, class_id, p_vector, epsilon):\n",
    "        self.class_id = class_id\n",
    "        self.p_vector = p_vector\n",
    "        self.epsilon = epsilon\n",
    "    def update(self, u_vector, increment = True):\n",
    "        if increment:\n",
    "            # Move the prototype closer to input vector\n",
    "            self.p_vector = self.p_vector + self.epsilon * (u_vector - self.p_vector)\n",
    "        else:\n",
    "            # Move the prototype away from input vector\n",
    "            self.p_vector = self.p_vector - self.epsilon * (u_vector - self.p_vector)"
   ]
  },
  {
   "cell_type": "code",
   "execution_count": 98,
   "metadata": {},
   "outputs": [],
   "source": [
    "# function to find the closest prototype vector for a given vector\n",
    "def find_closest(in_vector, proto_vectors):\n",
    "    position = None\n",
    "    closest = None\n",
    "    closest_distance = 99999\n",
    "#     for p_v in proto_vectors:\n",
    "#         distance = np.linalg.norm(in_vector - p_v.p_vector)\n",
    "#         if distance < closest_distance:\n",
    "#             closest_distance = distance\n",
    "#             closest = p_v\n",
    "    for i in range(len(proto_vectors)):\n",
    "        distance = np.linalg.norm(in_vector - proto_vectors[i].p_vector)\n",
    "        if distance < closest_distance:\n",
    "            closest_distance = distance\n",
    "            closest = proto_vectors[i]\n",
    "            position = i\n",
    "    return [position, closest]"
   ]
  },
  {
   "cell_type": "code",
   "execution_count": 99,
   "metadata": {},
   "outputs": [],
   "source": [
    "def find_class_id(test_vector, p_vectors):\n",
    "    return find_closest(test_vector, p_vectors)[1].class_id"
   ]
  }
 ],
 "metadata": {
  "kernelspec": {
   "display_name": "Python 3",
   "language": "python",
   "name": "python3"
  },
  "language_info": {
   "codemirror_mode": {
    "name": "ipython",
    "version": 3
   },
   "file_extension": ".py",
   "mimetype": "text/x-python",
   "name": "python",
   "nbconvert_exporter": "python",
   "pygments_lexer": "ipython3",
   "version": "3.6.5"
  }
 },
 "nbformat": 4,
 "nbformat_minor": 2
}
