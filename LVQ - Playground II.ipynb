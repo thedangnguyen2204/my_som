{
 "cells": [
  {
   "cell_type": "code",
   "execution_count": 53,
   "metadata": {},
   "outputs": [],
   "source": [
    "from sklearn.datasets import load_breast_cancer\n",
    "import numpy as np\n",
    "from sklearn.metrics import euclidean_distances\n",
    "import pandas as pd"
   ]
  },
  {
   "cell_type": "code",
   "execution_count": 54,
   "metadata": {},
   "outputs": [],
   "source": [
    "data = pd.read_csv(r\"glass.csv\")\n",
    "x = data.iloc[:, 1:10].values\n",
    "y = data.iloc[:, 10].values"
   ]
  },
  {
   "cell_type": "code",
   "execution_count": 55,
   "metadata": {},
   "outputs": [
    {
     "data": {
      "text/plain": [
       "array([1, 1, 1, 1, 1, 1, 1, 1, 1, 1, 1, 1, 1, 1, 1, 1, 1, 1, 1, 1, 1, 1,\n",
       "       1, 1, 1, 1, 1, 1, 1, 1, 1, 1, 1, 1, 1, 1, 1, 1, 1, 1, 1, 1, 1, 1,\n",
       "       1, 1, 1, 1, 1, 1, 1, 1, 1, 1, 1, 1, 1, 1, 1, 1, 1, 1, 1, 1, 1, 1,\n",
       "       1, 1, 1, 1, 2, 2, 2, 2, 2, 2, 2, 2, 2, 2, 2, 2, 2, 2, 2, 2, 2, 2,\n",
       "       2, 2, 2, 2, 2, 2, 2, 2, 2, 2, 2, 2, 2, 2, 2, 2, 2, 2, 2, 2, 2, 2,\n",
       "       2, 2, 2, 2, 2, 2, 2, 2, 2, 2, 2, 2, 2, 2, 2, 2, 2, 2, 2, 2, 2, 2,\n",
       "       2, 2, 2, 2, 2, 2, 2, 2, 2, 2, 2, 2, 2, 2, 3, 3, 3, 3, 3, 3, 3, 3,\n",
       "       3, 3, 3, 3, 3, 3, 3, 3, 3, 5, 5, 5, 5, 5, 5, 5, 5, 5, 5, 5, 5, 5,\n",
       "       6, 6, 6, 6, 6, 6, 6, 6, 6, 7, 7, 7, 7, 7, 7, 7, 7, 7, 7, 7, 7, 7,\n",
       "       7, 7, 7, 7, 7, 7, 7, 7, 7, 7, 7, 7, 7, 7, 7, 7], dtype=int64)"
      ]
     },
     "execution_count": 55,
     "metadata": {},
     "output_type": "execute_result"
    }
   ],
   "source": [
    "y"
   ]
  },
  {
   "cell_type": "code",
   "execution_count": 56,
   "metadata": {},
   "outputs": [],
   "source": [
    "from sklearn.cross_validation import train_test_split\n",
    "x_train, x_test, y_train, y_test = train_test_split(x, y, test_size=0.25, random_state=0)"
   ]
  },
  {
   "cell_type": "code",
   "execution_count": 57,
   "metadata": {},
   "outputs": [],
   "source": [
    "# use Minmaxscaler because we use euclidean distance\n",
    "from sklearn.preprocessing import MinMaxScaler\n",
    "minmax = MinMaxScaler()\n",
    "x_train = minmax.fit_transform(x_train)\n",
    "x_test = minmax.transform(x_test)"
   ]
  },
  {
   "cell_type": "code",
   "execution_count": 58,
   "metadata": {},
   "outputs": [],
   "source": [
    "# parameter for LVQ\n",
    "R = 5 # R is the # of initial prototype for each class\n",
    "n_classes = 7\n",
    "epsilon = 0.9\n",
    "epsilon_dec_factor = 0.001"
   ]
  },
  {
   "cell_type": "code",
   "execution_count": 59,
   "metadata": {},
   "outputs": [],
   "source": [
    "# class of prototype vectors\n",
    "class prototype(object):\n",
    "    def __init__(self, class_id, p_vector, epsilon):\n",
    "        self.class_id = class_id\n",
    "        self.p_vector = p_vector\n",
    "        self.epsilon = epsilon\n",
    "    def update(self, u_vector, increment = True):\n",
    "        if increment:\n",
    "            # Move the prototype closer to input vector\n",
    "            self.p_vector = self.p_vector + self.epsilon * (u_vector - self.p_vector)\n",
    "        else:\n",
    "            # Move the prototype away from input vector\n",
    "            self.p_vector = self.p_vector - self.epsilon * (u_vector - self.p_vector)"
   ]
  },
  {
   "cell_type": "code",
   "execution_count": 60,
   "metadata": {},
   "outputs": [],
   "source": [
    "# function to find the closest prototype vector for a given vector\n",
    "def find_closest(in_vector, proto_vectors):\n",
    "    closest = None\n",
    "    closest_distance = 99999\n",
    "    for p_v in proto_vectors:\n",
    "        distance = np.linalg.norm(in_vector - p_v.p_vector)\n",
    "        if distance < closest_distance:\n",
    "            closest_distance = distance\n",
    "            closest = p_v\n",
    "    return closest"
   ]
  },
  {
   "cell_type": "code",
   "execution_count": 61,
   "metadata": {},
   "outputs": [],
   "source": [
    "# function to find the second closest prototype vector for a given vector\n",
    "def find_runnerup(in_vector, proto_vectors):\n",
    "    runnerup = None\n",
    "    closest_p_vector = find_closest(in_vector, proto_vectors)\n",
    "    closest_distance = 99999\n",
    "    for p_v in proto_vectors:\n",
    "        distance = np.linalg.norm(in_vector - p_v.p_vector)\n",
    "        if (distance < closest_distance) and (p_v != closest_p_vector):\n",
    "            closest_distance = distance\n",
    "            runnerup = p_v\n",
    "    return runnerup"
   ]
  },
  {
   "cell_type": "code",
   "execution_count": 62,
   "metadata": {},
   "outputs": [],
   "source": [
    "def find_class_id(test_vector, p_vectors):\n",
    "    return find_closest(test_vector, p_vectors).class_id"
   ]
  },
  {
   "cell_type": "code",
   "execution_count": 63,
   "metadata": {
    "scrolled": true
   },
   "outputs": [
    {
     "name": "stdout",
     "output_type": "stream",
     "text": [
      "class id \t Initial prototype vector \n",
      "\n",
      "1 \t [0.48068481 0.42610063 0.85523385 0.13395639 0.33876812 0.0273752\n",
      " 0.40055762 0.         0.        ]\n",
      "1 \t [0.48200176 0.50157233 0.85077951 0.05607477 0.34057971 0.01771337\n",
      " 0.38475836 0.         0.        ]\n",
      "1 \t [0.45522388 0.31918239 0.81291759 0.18068536 0.42210145 0.03059581\n",
      " 0.41078067 0.         0.33333333]\n",
      "1 \t [0.28050922 0.37264151 0.81514477 0.28037383 0.52536232 0.09178744\n",
      " 0.26394052 0.         0.21568627]\n",
      "1 \t [0.37357331 0.58962264 0.83518931 0.         0.38586957 0.00483092\n",
      " 0.33178439 0.         0.        ]\n",
      "2 \t [0.30640913 0.37893082 0.88641425 0.27725857 0.47101449 0.09339775\n",
      " 0.2527881  0.         0.        ]\n",
      "2 \t [0.46619842 0.42924528 0.22494432 0.33333333 0.41666667 0.0531401\n",
      " 0.53066914 0.         0.        ]\n",
      "2 \t [0.24539069 0.27830189 0.78396437 0.3894081  0.62862319 0.10628019\n",
      " 0.2295539  0.         0.        ]\n",
      "2 \t [0.32001756 0.35062893 0.83741648 0.32087227 0.45471014 0.09339775\n",
      " 0.27788104 0.         0.        ]\n",
      "2 \t [0.23309921 0.37578616 0.79064588 0.29906542 0.52898551 0.10950081\n",
      " 0.24814126 0.         0.        ]\n",
      "3 \t [0.24363477 0.3490566  0.79510022 0.33956386 0.50905797 0.09017713\n",
      " 0.27973978 0.         0.19607843]\n",
      "3 \t [0.23309921 0.31761006 0.75723831 0.30218069 0.56521739 0.08373591\n",
      " 0.29275093 0.         0.        ]\n",
      "3 \t [0.29894644 0.38993711 0.74832962 0.41744548 0.37137681 0.09178744\n",
      " 0.31412639 0.         0.17647059]\n",
      "3 \t [0.44161545 0.47327044 0.83741648 0.09034268 0.3442029  0.01771337\n",
      " 0.39219331 0.         0.        ]\n",
      "3 \t [0.24363477 0.3490566  0.79510022 0.33956386 0.50905797 0.09017713\n",
      " 0.27973978 0.         0.19607843]\n",
      "5 \t [0.35118525 0.26886792 0.41202673 0.48909657 0.50724638 0.09661836\n",
      " 0.4330855  0.         0.        ]\n",
      "5 \t [0.44073749 0.30660377 0.07349666 0.38006231 0.63405797 0.02093398\n",
      " 0.54275093 0.         0.54901961]\n",
      "5 \t [0.38586479 0.35377358 0.         0.45794393 0.56884058 0.07568438\n",
      " 0.54739777 0.         0.        ]\n",
      "5 \t [0.40737489 0.37106918 0.         0.34579439 0.42753623 0.0531401\n",
      " 0.6570632  0.         0.        ]\n",
      "5 \t [0.4547849  0.00157233 0.38084633 0.39563863 0.64311594 0.09339775\n",
      " 0.57527881 0.         0.        ]\n",
      "6 \t [0.37489025 0.55660377 0.         0.08411215 0.65036232 0.\n",
      " 0.53810409 0.         0.        ]\n",
      "6 \t [0.31343284 0.5408805  0.49888641 0.41433022 0.45108696 0.\n",
      " 0.35594796 0.         0.        ]\n",
      "6 \t [0.31343284 0.5408805  0.49888641 0.41433022 0.45108696 0.\n",
      " 0.35594796 0.         0.        ]\n",
      "6 \t [0.32352941 0.4827044  0.48775056 0.42679128 0.50362319 0.\n",
      " 0.36152416 0.         0.        ]\n",
      "6 \t [0.36084284 0.43553459 0.53674833 0.28037383 0.51992754 0.\n",
      " 0.40334572 0.         0.        ]\n",
      "7 \t [0.26514486 0.58647799 0.         0.53271028 0.56702899 0.\n",
      " 0.28810409 0.55208333 0.15686275]\n",
      "7 \t [0.22300263 0.5        0.         0.7788162  0.64673913 0.00644122\n",
      " 0.33550186 0.13888889 0.17647059]\n",
      "7 \t [0.41703248 0.52515723 0.         0.53894081 0.63949275 0.\n",
      " 0.27973978 0.56944444 0.        ]\n",
      "7 \t [0.49692713 0.60377358 0.48997773 0.55140187 0.06702899 0.12238325\n",
      " 0.40241636 0.         0.        ]\n",
      "7 \t [0.22300263 0.49056604 0.         0.80685358 0.49275362 0.01288245\n",
      " 0.34851301 0.36805556 0.        ]\n"
     ]
    }
   ],
   "source": [
    "# Choose R initial prototype for each class\n",
    "p_vectors = []\n",
    "for i in np.array([1, 2, 3, 5, 6, 7]):\n",
    "    # select class i\n",
    "    y_subset = np.where(y_train == i)\n",
    "    # select tuple for chosen class\n",
    "    x_subset = x_train[y_subset]\n",
    "    # get R random indices between 0 and 50\n",
    "    samples = np.random.randint(0, len(x_subset), R)\n",
    "    # select p_vectors, they are chosen randomly from the samples x\n",
    "    for sample in samples:\n",
    "        s = x_subset[sample]\n",
    "        p = prototype(i, s, epsilon)\n",
    "        p_vectors.append(p)\n",
    "\n",
    "print(\"class id \\t Initial prototype vector \\n\")\n",
    "for p_v in p_vectors:\n",
    "    print(p_v.class_id, '\\t', p_v.p_vector)"
   ]
  },
  {
   "cell_type": "code",
   "execution_count": 64,
   "metadata": {
    "scrolled": true
   },
   "outputs": [
    {
     "name": "stderr",
     "output_type": "stream",
     "text": [
      "C:\\Users\\Thend\\Anaconda3\\lib\\site-packages\\ipykernel_launcher.py:10: RuntimeWarning: invalid value encountered in double_scalars\n",
      "  # Remove the CWD from sys.path while we load stuff.\n"
     ]
    },
    {
     "name": "stdout",
     "output_type": "stream",
     "text": [
      "class id \t Final prototype vector \n",
      "\n",
      "1 \t [2.85857339e-01 3.09520565e-01 7.75329892e-01 3.01213847e-01\n",
      " 5.57796899e-01 9.29017848e-02 2.93116492e-01 0.00000000e+00\n",
      " 1.28663082e-04]\n",
      "1 \t [0.37850727 0.43866089 0.79764185 0.32073203 0.33152397 0.01931039\n",
      " 0.30113904 0.23916842 0.        ]\n",
      "1 \t [0.48098402 0.37005325 0.82427042 0.14662334 0.37814133 0.02789686\n",
      " 0.41084434 0.         0.29965149]\n",
      "1 \t [0.26099274 0.30704563 0.7753789  0.29097212 0.55130381 0.09407563\n",
      " 0.29425782 0.00206716 0.3602079 ]\n",
      "1 \t [0.45665148 0.43066398 0.88789    0.18627494 0.35325206 0.01601373\n",
      " 0.36091723 0.         0.01284367]\n",
      "2 \t [0.25014638 0.34074711 0.79764245 0.37541104 0.52795389 0.0968307\n",
      " 0.24299911 0.         0.        ]\n",
      "2 \t [8.01887016e-01 1.58615861e-01 7.14485087e-09 2.60150487e-01\n",
      " 2.88513079e-01 3.36603354e-02 8.84156909e-01 0.00000000e+00\n",
      " 3.37023280e-01]\n",
      "2 \t [0.26375873 0.25984901 0.675071   0.40982414 0.57145484 0.10851119\n",
      " 0.29648107 0.01626402 0.        ]\n",
      "2 \t [0.50728558 0.32157914 0.84630388 0.25999668 0.5603616  0.08417272\n",
      " 0.27399813 0.         0.        ]\n",
      "2 \t [0.12976858 0.50643826 0.68897537 0.55636031 0.43372379 0.17654682\n",
      " 0.15401379 0.         0.        ]\n",
      "3 \t [ 0.23290027  0.34701368  0.77553173  0.45214964  0.46480973  0.09427756\n",
      "  0.27272508 -0.00597478  0.27126984]\n",
      "3 \t [0.28817364 0.4107523  0.81281834 0.18447349 0.54354465 0.01504714\n",
      " 0.30997267 0.         0.        ]\n",
      "3 \t [0.29894644 0.38993711 0.74832962 0.41744548 0.37137681 0.09178744\n",
      " 0.31412639 0.         0.17647059]\n",
      "3 \t [ 0.35491989  0.36544733  0.79378285 -0.03948131  0.47440308  0.00719163\n",
      "  0.47415892  0.          0.        ]\n",
      "3 \t [0.21658879 0.39150465 0.79433286 0.36430728 0.45710819 0.08905588\n",
      " 0.27736664 0.         0.12555267]\n",
      "5 \t [0.38976087 0.33281958 0.00190155 0.42648837 0.55642014 0.06720378\n",
      " 0.58139979 0.         0.00926643]\n",
      "5 \t [0.34171975 0.37550338 0.49598802 0.61793751 0.41799172 0.11740042\n",
      " 0.26872724 0.11496795 1.12446882]\n",
      "5 \t [0.09203324 0.31349019 0.         0.85355111 0.109245   0.98980668\n",
      " 0.14856533 0.         0.        ]\n",
      "5 \t [-0.11057946  0.51948428  0.          0.45470405  0.7584529   0.08269565\n",
      "  0.35733643  0.         -0.41129412]\n",
      "5 \t [0.44759065 0.06302724 0.4045082  0.40616166 0.58335587 0.08642888\n",
      " 0.55115775 0.         0.        ]\n",
      "6 \t [0.03748903 0.95566038 0.         0.02242991 0.96503623 0.\n",
      " 0.15585502 0.         0.        ]\n",
      "6 \t [ 0.3630313   0.5629154   0.00527832  0.08223653  0.6621395  -0.00118524\n",
      "  0.52725811  0.         -0.00759581]\n",
      "6 \t [0.33415011 0.60753863 0.23878611 0.44423293 0.46847603 0.\n",
      " 0.4072425  0.         0.        ]\n",
      "6 \t [ 0.30483406  0.62725786  0.53893987  0.3846729   0.50117391 -0.06531401\n",
      "  0.3131487   0.          0.        ]\n",
      "6 \t [ 0.31776781  0.54338424  0.51149251  0.39380933  0.47710217 -0.01589739\n",
      "  0.35142126  0.          0.        ]\n",
      "7 \t [0.25067005 0.5692964  0.         0.52329982 0.60383542 0.\n",
      " 0.28716503 0.55034885 0.03289255]\n",
      "7 \t [2.00955260e-01 5.68850565e-01 0.00000000e+00 6.96127270e-01\n",
      " 5.86280518e-01 4.94148615e-03 3.22071848e-01 2.41476262e-01\n",
      " 9.92824250e-12]\n",
      "7 \t [0.31444571 0.52986802 0.         0.47671735 0.53817672 0.22675493\n",
      " 0.09689474 0.99943451 0.        ]\n",
      "7 \t [0.49692713 0.60377358 0.48997773 0.55140187 0.06702899 0.12238325\n",
      " 0.40241636 0.         0.        ]\n",
      "7 \t [ 0.32273047  0.6208805   0.          0.76996885  0.7782971  -0.71758454\n",
      "  0.50118959  0.64041667  0.        ]\n"
     ]
    }
   ],
   "source": [
    "while epsilon >= 0.01:\n",
    "    rnd_i = np.random.randint(0, 150)\n",
    "    rnd_s = x_train[rnd_i]\n",
    "    target_y = y_train[rnd_i]\n",
    "    \n",
    "    epsilon = epsilon - epsilon_dec_factor\n",
    "    \n",
    "    closest_pvector = find_closest(rnd_s, p_vectors)\n",
    "    second_closest_pvector = find_runnerup(rnd_s, p_vectors)\n",
    "    compare_distance = np.linalg.norm(closest_pvector.p_vector - rnd_s)/np.linalg.norm(second_closest_pvector.p_vector - rnd_s)\n",
    "    \n",
    "    if target_y == second_closest_pvector.class_id and target_y != closest_pvector.class_id and compare_distance > 0.8 and compare_distance < 1.2:\n",
    "        closest_pvector.update(rnd_s, False)\n",
    "        second_closest_pvector.update(rnd_s)\n",
    "    elif target_y == closest_pvector.class_id:\n",
    "        closest_pvector.update(rnd_s)\n",
    "    closest_pvector.epsilon = epsilon\n",
    "\n",
    "print(\"class id \\t Final prototype vector \\n\")\n",
    "for p_v in p_vectors:\n",
    "    print(p_v.class_id, '\\t', p_v.p_vector)"
   ]
  },
  {
   "cell_type": "code",
   "execution_count": 65,
   "metadata": {},
   "outputs": [
    {
     "name": "stdout",
     "output_type": "stream",
     "text": [
      "             precision    recall  f1-score   support\n",
      "\n",
      "  malignant       0.52      0.93      0.67        14\n",
      "     benign       0.85      0.46      0.59        24\n",
      "\n",
      "avg / total       0.73      0.67      0.65        54\n",
      "\n"
     ]
    },
    {
     "name": "stderr",
     "output_type": "stream",
     "text": [
      "C:\\Users\\Thend\\Anaconda3\\lib\\site-packages\\sklearn\\metrics\\classification.py:1428: UserWarning: labels size, 6, does not match size of target_names, 2\n",
      "  .format(len(labels), len(target_names))\n"
     ]
    }
   ],
   "source": [
    "predicted_y = [find_class_id(instance, p_vectors) for instance in x_test]\n",
    "\n",
    "from sklearn.metrics import classification_report\n",
    "\n",
    "print (classification_report(y_test, predicted_y, target_names=['malignant', 'benign']))"
   ]
  }
 ],
 "metadata": {
  "kernelspec": {
   "display_name": "Python 3",
   "language": "python",
   "name": "python3"
  },
  "language_info": {
   "codemirror_mode": {
    "name": "ipython",
    "version": 3
   },
   "file_extension": ".py",
   "mimetype": "text/x-python",
   "name": "python",
   "nbconvert_exporter": "python",
   "pygments_lexer": "ipython3",
   "version": "3.6.5"
  }
 },
 "nbformat": 4,
 "nbformat_minor": 2
}
