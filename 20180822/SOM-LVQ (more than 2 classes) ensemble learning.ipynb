{
 "cells": [
  {
   "cell_type": "code",
   "execution_count": 1,
   "metadata": {},
   "outputs": [],
   "source": [
    "import numpy as np\n",
    "from sklearn.metrics import euclidean_distances\n",
    "import pandas as pd\n",
    "import minisom\n",
    "from random import randint, choice\n",
    "import LVQ"
   ]
  },
  {
   "cell_type": "code",
   "execution_count": 2,
   "metadata": {},
   "outputs": [
    {
     "name": "stderr",
     "output_type": "stream",
     "text": [
      "C:\\Users\\Thend\\Anaconda3\\lib\\site-packages\\sklearn\\cross_validation.py:41: DeprecationWarning: This module was deprecated in version 0.18 in favor of the model_selection module into which all the refactored classes and functions are moved. Also note that the interface of the new CV iterators are different from that of this module. This module will be removed in 0.20.\n",
      "  \"This module will be removed in 0.20.\", DeprecationWarning)\n"
     ]
    }
   ],
   "source": [
    "data = pd.read_csv(r\"../data/SD-2X_rocktype.csv\")\n",
    "x = data.iloc[:, 0:6].values\n",
    "y = data.iloc[:, 6].values\n",
    "y [y==4] = 0\n",
    "from sklearn.cross_validation import train_test_split\n",
    "x_train, x_test, y_train, y_test = train_test_split(x, y, test_size=0.25, random_state=44)\n",
    "\n",
    "# use Minmaxscaler because we use euclidean distance\n",
    "from sklearn.preprocessing import MinMaxScaler\n",
    "minmax = MinMaxScaler()\n",
    "x_train = minmax.fit_transform(x_train)\n",
    "x_test = minmax.transform(x_test)"
   ]
  },
  {
   "cell_type": "code",
   "execution_count": 4,
   "metadata": {
    "scrolled": true
   },
   "outputs": [
    {
     "data": {
      "text/html": [
       "<div>\n",
       "<style scoped>\n",
       "    .dataframe tbody tr th:only-of-type {\n",
       "        vertical-align: middle;\n",
       "    }\n",
       "\n",
       "    .dataframe tbody tr th {\n",
       "        vertical-align: top;\n",
       "    }\n",
       "\n",
       "    .dataframe thead th {\n",
       "        text-align: right;\n",
       "    }\n",
       "</style>\n",
       "<table border=\"1\" class=\"dataframe\">\n",
       "  <thead>\n",
       "    <tr style=\"text-align: right;\">\n",
       "      <th></th>\n",
       "      <th>GR_F</th>\n",
       "      <th>NPHIC</th>\n",
       "      <th>RHOBC</th>\n",
       "      <th>DTC</th>\n",
       "      <th>VCL_FINAL</th>\n",
       "      <th>PHIE_FINAL</th>\n",
       "      <th>TypeRock</th>\n",
       "    </tr>\n",
       "  </thead>\n",
       "  <tbody>\n",
       "    <tr>\n",
       "      <th>0</th>\n",
       "      <td>38.6034</td>\n",
       "      <td>0.2335</td>\n",
       "      <td>2.263</td>\n",
       "      <td>79.249</td>\n",
       "      <td>0.0687</td>\n",
       "      <td>0.2262</td>\n",
       "      <td>1</td>\n",
       "    </tr>\n",
       "    <tr>\n",
       "      <th>1</th>\n",
       "      <td>37.3566</td>\n",
       "      <td>0.2143</td>\n",
       "      <td>2.279</td>\n",
       "      <td>78.297</td>\n",
       "      <td>0.0617</td>\n",
       "      <td>0.2174</td>\n",
       "      <td>1</td>\n",
       "    </tr>\n",
       "    <tr>\n",
       "      <th>2</th>\n",
       "      <td>37.9742</td>\n",
       "      <td>0.1999</td>\n",
       "      <td>2.279</td>\n",
       "      <td>73.672</td>\n",
       "      <td>0.0652</td>\n",
       "      <td>0.2169</td>\n",
       "      <td>1</td>\n",
       "    </tr>\n",
       "    <tr>\n",
       "      <th>3</th>\n",
       "      <td>39.3757</td>\n",
       "      <td>0.1950</td>\n",
       "      <td>2.333</td>\n",
       "      <td>72.702</td>\n",
       "      <td>0.0731</td>\n",
       "      <td>0.1833</td>\n",
       "      <td>2</td>\n",
       "    </tr>\n",
       "    <tr>\n",
       "      <th>4</th>\n",
       "      <td>44.2722</td>\n",
       "      <td>0.2019</td>\n",
       "      <td>2.401</td>\n",
       "      <td>68.824</td>\n",
       "      <td>0.1022</td>\n",
       "      <td>0.1385</td>\n",
       "      <td>3</td>\n",
       "    </tr>\n",
       "  </tbody>\n",
       "</table>\n",
       "</div>"
      ],
      "text/plain": [
       "      GR_F   NPHIC  RHOBC     DTC  VCL_FINAL  PHIE_FINAL  TypeRock\n",
       "0  38.6034  0.2335  2.263  79.249     0.0687      0.2262         1\n",
       "1  37.3566  0.2143  2.279  78.297     0.0617      0.2174         1\n",
       "2  37.9742  0.1999  2.279  73.672     0.0652      0.2169         1\n",
       "3  39.3757  0.1950  2.333  72.702     0.0731      0.1833         2\n",
       "4  44.2722  0.2019  2.401  68.824     0.1022      0.1385         3"
      ]
     },
     "execution_count": 4,
     "metadata": {},
     "output_type": "execute_result"
    }
   ],
   "source": [
    "data.head()"
   ]
  },
  {
   "cell_type": "code",
   "execution_count": 8,
   "metadata": {},
   "outputs": [
    {
     "data": {
      "text/plain": [
       "array([0, 1, 2, 3], dtype=int64)"
      ]
     },
     "execution_count": 8,
     "metadata": {},
     "output_type": "execute_result"
    }
   ],
   "source": [
    "np.unique(y)"
   ]
  },
  {
   "cell_type": "code",
   "execution_count": 5,
   "metadata": {},
   "outputs": [],
   "source": [
    "x_train1 = x_train[0:331]\n",
    "x_train2 = x_train[332:663]\n",
    "x_train3 = x_train[664:995]\n",
    "\n",
    "y_train1 = y_train[0:331]\n",
    "y_train2 = y_train[332:663]\n",
    "y_train3 = y_train[664:995]"
   ]
  },
  {
   "cell_type": "code",
   "execution_count": 6,
   "metadata": {},
   "outputs": [],
   "source": [
    "epsilon = 0.9\n",
    "epsilon_dec_factor = 0.001"
   ]
  },
  {
   "cell_type": "code",
   "execution_count": 7,
   "metadata": {},
   "outputs": [],
   "source": [
    "# Training the SOM\n",
    "from minisom import MiniSom\n",
    "som1 = MiniSom(x = 10, y = 10, input_len = 6, sigma = 1.0, learning_rate = 0.5)\n",
    "som1.random_weights_init(x_train1)\n",
    "som1.train_random(data = x_train1, num_iteration = 100)"
   ]
  },
  {
   "cell_type": "code",
   "execution_count": 9,
   "metadata": {},
   "outputs": [],
   "source": [
    "labels = np.zeros((4, 10, 10))"
   ]
  },
  {
   "cell_type": "code",
   "execution_count": 46,
   "metadata": {
    "scrolled": true
   },
   "outputs": [
    {
     "data": {
      "image/png": "[encoded data removed]",
      "text/plain": [
       "<Figure size 432x288 with 2 Axes>"
      ]
     },
     "metadata": {},
     "output_type": "display_data"
    }
   ],
   "source": [
    "# Visualizing the results\n",
    "from pylab import bone, pcolor, colorbar, plot, show\n",
    "bone()\n",
    "pcolor(som1.distance_map().T)\n",
    "colorbar()\n",
    "markers = ['v', 's', 'o', '4']\n",
    "colors = ['r', 'g', 'b', 'y']\n",
    "for i, x in enumerate(x_train1):\n",
    "    w = som1.winner(x)\n",
    "    plot(w[0] + 0.5,\n",
    "         w[1] + 0.5,\n",
    "         markers[y_train1[i]],\n",
    "         markeredgecolor = colors[y_train1[i]],\n",
    "         markerfacecolor = 'None',\n",
    "         markersize = 10,\n",
    "         markeredgewidth = 2)\n",
    "    if y_train1[i] == 0:\n",
    "        labels[0, w[0], w[1]] += 1\n",
    "    elif y_train1[i] == 1:\n",
    "        labels[1, w[0], w[1]] += 1\n",
    "    elif y_train1[i] == 2:\n",
    "        labels[2, w[0], w[1]] += 1\n",
    "    elif y_train1[i] == 3:\n",
    "        labels[3, w[0], w[1]] += 1\n",
    "show()"
   ]
  },
  {
   "cell_type": "code",
   "execution_count": 16,
   "metadata": {},
   "outputs": [
    {
     "name": "stderr",
     "output_type": "stream",
     "text": [
      "C:\\Users\\Thend\\Anaconda3\\lib\\site-packages\\ipykernel_launcher.py:6: RuntimeWarning: invalid value encountered in double_scalars\n",
      "  \n",
      "C:\\Users\\Thend\\Anaconda3\\lib\\site-packages\\ipykernel_launcher.py:6: RuntimeWarning: divide by zero encountered in double_scalars\n",
      "  \n"
     ]
    }
   ],
   "source": [
    "taggings = np.zeros((10, 10))\n",
    "for i in range(10):\n",
    "    for j in range(10):\n",
    "        tmp = np.array([labels[0][i][j], labels[1][i][j], labels[2][i][j], labels[3][i][j]])\n",
    "        sort = tmp.argsort()\n",
    "        if (tmp[sort[3]]/tmp[sort[2]] < 5): # must be improve\n",
    "            taggings[i][j] = np.random.choice([sort[3], sort[2]])\n",
    "        else:\n",
    "            taggings[i][j] = sort[3]"
   ]
  },
  {
   "cell_type": "code",
   "execution_count": 15,
   "metadata": {},
   "outputs": [
    {
     "data": {
      "text/plain": [
       "33"
      ]
     },
     "execution_count": 15,
     "metadata": {},
     "output_type": "execute_result"
    }
   ],
   "source": [
    "tmp = np.array([3, 2, 33, 4])\n",
    "sort = tmp.argsort()\n",
    "tmp[sort[3]]"
   ]
  },
  {
   "cell_type": "code",
   "execution_count": 18,
   "metadata": {},
   "outputs": [
    {
     "data": {
      "text/plain": [
       "(10, 10, 6)"
      ]
     },
     "execution_count": 18,
     "metadata": {},
     "output_type": "execute_result"
    }
   ],
   "source": [
    "som1.weights.shape"
   ]
  },
  {
   "cell_type": "code",
   "execution_count": 19,
   "metadata": {
    "scrolled": true
   },
   "outputs": [
    {
     "name": "stdout",
     "output_type": "stream",
     "text": [
      "class id \t Initial prototype vector \n",
      "\n",
      "2 \t [0.16469886 0.30692199 0.52064803 0.50574794 0.18100187 0.56485056]\n",
      "3 \t [0.15121048 0.24087246 0.80753358 0.35613395 0.1881153  0.32370759]\n",
      "3 \t [0.33116782 0.35543589 0.51119571 0.51076138 0.3698889  0.32400179]\n",
      "0 \t [0.41907638 0.34995686 0.51756385 0.43152439 0.49429354 0.05910533]\n",
      "0 \t [0.42499749 0.36313085 0.48828611 0.46094142 0.47913252 0.08399309]\n",
      "0 \t [0.40242028 0.37564326 0.47904486 0.48554879 0.45482986 0.15760157]\n",
      "0 \t [0.38586124 0.40757945 0.41108374 0.54138787 0.37542713 0.28627593]\n",
      "3 \t [0.34786762 0.41092075 0.29971918 0.59832304 0.27118007 0.43447851]\n",
      "3 \t [0.28386596 0.40556098 0.17349439 0.62571062 0.16022116 0.55466702]\n",
      "1 \t [0.21714326 0.38104678 0.16632094 0.60606487 0.11895023 0.63128893]\n",
      "3 \t [0.2981322  0.3488736  0.62257576 0.46571089 0.30092879 0.30717919]\n",
      "3 \t [0.16652787 0.28900321 0.62325182 0.48395661 0.15026964 0.49346511]\n",
      "3 \t [0.32624369 0.32095823 0.661387   0.41751386 0.32362486 0.27215294]\n",
      "0 \t [0.41340323 0.33861498 0.56868591 0.43349739 0.43876518 0.10295205]\n",
      "0 \t [0.42332785 0.38183065 0.49915657 0.46689134 0.4401705  0.11876026]\n",
      "0 \t [0.41885862 0.39702876 0.46886745 0.48506818 0.43496012 0.15035788]\n",
      "0 \t [0.39726682 0.4068649  0.43810443 0.52260512 0.38725256 0.24824157]\n",
      "2 \t [0.29923525 0.40499921 0.28886063 0.59406072 0.22102186 0.51111119]\n",
      "2 \t [0.23367824 0.38727221 0.17750083 0.60474033 0.13107123 0.61726626]\n",
      "1 \t [0.17364097 0.36798973 0.14442784 0.60154787 0.0857828  0.66659916]\n",
      "0 \t [0.20540013 0.2765816  0.7817813  0.35975657 0.23993541 0.28833594]\n",
      "3 \t [0.14375703 0.26411703 0.79194277 0.33849545 0.14391265 0.38355278]\n",
      "3 \t [0.24370141 0.25483521 0.73559172 0.41733244 0.20448119 0.34437557]\n",
      "0 \t [0.33228177 0.30128733 0.69181491 0.40916993 0.32943678 0.21037651]\n",
      "0 \t [0.41693926 0.38164852 0.53692877 0.45643363 0.37805706 0.20237281]\n",
      "0 \t [0.40450785 0.39568039 0.4859346  0.49384047 0.38469027 0.22762464]\n",
      "3 \t [0.36813546 0.39714105 0.45561257 0.52116956 0.3128565  0.36010493]\n",
      "2 \t [0.29825788 0.39917775 0.3251172  0.57219764 0.25113797 0.50548763]\n",
      "1 \t [0.24053435 0.38164621 0.30719349 0.57869901 0.16476826 0.58316416]\n",
      "2 \t [0.21866269 0.38934196 0.20831732 0.60049539 0.16704693 0.60720999]\n",
      "3 \t [0.13994058 0.17125367 0.85619654 0.31503157 0.11967694 0.32318546]\n",
      "0 \t [0.081568   0.10805728 0.93065427 0.19840085 0.08757604 0.26176411]\n",
      "3 \t [0.1581188  0.15758812 0.87863687 0.28096295 0.14576308 0.27923938]\n",
      "3 \t [0.35897786 0.30057534 0.65014012 0.43868423 0.30113294 0.27382892]\n",
      "0 \t [0.42249684 0.31773628 0.58924508 0.43213493 0.37727113 0.21037158]\n",
      "3 \t [0.37007007 0.37065216 0.48955849 0.51284369 0.29605159 0.36788913]\n",
      "2 \t [0.29318404 0.38776241 0.44803019 0.524556   0.21197547 0.49280806]\n",
      "1 \t [0.27112119 0.39637915 0.43724876 0.51316312 0.17512267 0.53309104]\n",
      "2 \t [0.29276897 0.43074867 0.26759085 0.57947021 0.24458053 0.5114017 ]\n",
      "3 \t [0.29425997 0.43939588 0.17562656 0.60620433 0.30392071 0.4792141 ]\n",
      "3 \t [0.20970207 0.31308466 0.70777081 0.42060476 0.21662001 0.36500812]\n",
      "0 \t [0.11956396 0.14472219 0.92038594 0.21430779 0.1208228  0.23900564]\n",
      "0 \t [0.28268316 0.25723303 0.74189263 0.39018773 0.31306574 0.23078149]\n",
      "3 \t [0.36877458 0.31343178 0.60638888 0.46532697 0.3198213  0.28150221]\n",
      "3 \t [0.40408876 0.35603844 0.50965742 0.48029447 0.37894396 0.27553024]\n",
      "3 \t [0.36819428 0.40322775 0.4252927  0.5188226  0.30954292 0.39493386]\n",
      "3 \t [0.31759075 0.42588886 0.3633451  0.54377773 0.23478914 0.48468028]\n",
      "2 \t [0.2808931  0.39865024 0.43155419 0.53120229 0.21378375 0.49805489]\n",
      "3 \t [0.31029627 0.4562083  0.29888899 0.56264776 0.29398642 0.45083819]\n",
      "0 \t [0.30957765 0.47479773 0.2107743  0.58089198 0.33015771 0.4334321 ]\n",
      "3 \t [0.31081818 0.40057512 0.46775008 0.53171857 0.33572972 0.35875119]\n",
      "2 \t [0.28402511 0.34495718 0.52638558 0.52531526 0.26977911 0.41775064]\n",
      "3 \t [0.32084954 0.35511386 0.49760053 0.52238273 0.28145682 0.41381369]\n",
      "3 \t [0.35940855 0.38964739 0.50191486 0.54185431 0.27323534 0.31435368]\n",
      "3 \t [0.36171746 0.36285641 0.55414707 0.45669921 0.33051872 0.33555914]\n",
      "3 \t [0.38416328 0.40764616 0.44277814 0.4812324  0.36241394 0.35673831]\n",
      "3 \t [0.36546227 0.40844918 0.40621072 0.52094055 0.33069455 0.39225184]\n",
      "3 \t [0.33769603 0.420044   0.37096944 0.54920665 0.33039464 0.40139449]\n",
      "3 \t [0.27511261 0.44150763 0.39833571 0.54004333 0.26252765 0.45841594]\n",
      "3 \t [0.30888141 0.48017356 0.26598615 0.56567141 0.3046927  0.43641174]\n",
      "3 \t [0.3690529  0.39545474 0.42003693 0.52551416 0.43827255 0.25047258]\n",
      "0 \t [0.38908554 0.38865304 0.4392823  0.52746378 0.39563482 0.26428654]\n",
      "3 \t [0.36935732 0.37699755 0.4169999  0.55396144 0.34651699 0.34729211]\n",
      "3 \t [0.34189783 0.38492678 0.49957504 0.49350962 0.33304677 0.36178741]\n",
      "3 \t [0.40455265 0.4061878  0.40470889 0.50275232 0.40769971 0.29762457]\n",
      "0 \t [0.41473005 0.39859923 0.42946727 0.478953   0.41358734 0.2902155 ]\n",
      "3 \t [0.40208898 0.4023097  0.40263343 0.5082655  0.4042071  0.30436899]\n",
      "3 \t [0.35608468 0.42564669 0.3604222  0.55279344 0.34864288 0.36741255]\n",
      "3 \t [0.28591279 0.46084389 0.32813461 0.55536942 0.24516199 0.47923363]\n",
      "3 \t [0.30806839 0.49014774 0.2457382  0.57016428 0.27481992 0.45149585]\n",
      "0 \t [0.3944086  0.37434294 0.37294866 0.53171412 0.49407239 0.19593642]\n",
      "0 \t [0.40328848 0.38585231 0.38879336 0.53417193 0.44556123 0.23119616]\n",
      "3 \t [0.40201985 0.38878358 0.35736014 0.5673822  0.36748976 0.32023399]\n",
      "3 \t [0.41141509 0.39462187 0.3888079  0.54160444 0.40366822 0.25991579]\n",
      "3 \t [0.38946401 0.41082874 0.3477518  0.54560831 0.40239379 0.31463793]\n",
      "3 \t [0.41364597 0.40782337 0.37830513 0.51569373 0.42997205 0.26200448]\n",
      "0 \t [0.40746732 0.40880363 0.36598277 0.53316926 0.42657741 0.25820311]\n",
      "3 \t [0.36930402 0.44412607 0.33556744 0.57127091 0.33582356 0.33857517]\n",
      "3 \t [0.31509471 0.49217022 0.26096508 0.58527862 0.23569396 0.43849552]\n",
      "1 \t [0.2832525  0.51565262 0.1901378  0.57444772 0.19509058 0.49966739]\n",
      "0 \t [0.40480866 0.36983825 0.37360592 0.502834   0.53703455 0.13608858]\n",
      "0 \t [0.41616561 0.38028536 0.38263326 0.50996923 0.50625548 0.13934774]\n",
      "0 \t [0.41625217 0.40052702 0.38753041 0.53006162 0.44051657 0.20276156]\n",
      "0 \t [0.39115963 0.41025669 0.38478539 0.54526903 0.42766588 0.22451585]\n",
      "0 \t [0.39406022 0.41849166 0.31954664 0.55826465 0.43775581 0.25334097]\n",
      "3 \t [0.40778154 0.41850185 0.32534898 0.54607945 0.45331551 0.22140627]\n",
      "0 \t [0.40455585 0.42610189 0.32599219 0.56159422 0.41203773 0.25166976]\n",
      "3 \t [0.36961557 0.44594933 0.35156668 0.57741544 0.32869983 0.31537633]\n",
      "3 \t [0.32810538 0.48629508 0.33814342 0.58165666 0.23164656 0.38670193]\n",
      "2 \t [0.29101422 0.47720864 0.32724553 0.56959707 0.21943252 0.45596223]\n",
      "0 \t [0.41678012 0.3617655  0.38940833 0.47288948 0.56239943 0.06215804]\n",
      "0 \t [0.418104   0.37294743 0.41098432 0.48068618 0.52625463 0.09585408]\n",
      "0 \t [0.39892142 0.38481915 0.42075899 0.51420718 0.47684783 0.15474145]\n",
      "0 \t [0.38312092 0.39626335 0.38197346 0.54684132 0.43512066 0.24884647]\n",
      "0 \t [0.3692757  0.4115804  0.3102542  0.57265087 0.4259161  0.29773447]\n",
      "0 \t [0.4015635  0.4124208  0.3304705  0.5482818  0.46090325 0.2154074 ]\n",
      "3 \t [0.39967525 0.42086998 0.32750149 0.55834106 0.43209475 0.23962537]\n",
      "3 \t [0.35996928 0.43568927 0.34379882 0.57953538 0.34462578 0.32828519]\n",
      "3 \t [0.33951411 0.45131122 0.39052409 0.56838084 0.29407501 0.34496725]\n",
      "3 \t [0.27132278 0.42607289 0.47850077 0.52315134 0.24185712 0.42860315]\n"
     ]
    }
   ],
   "source": [
    "p_vectors = []\n",
    "for i in range(10):\n",
    "    for j in range(10):\n",
    "        if(taggings[i][j] == 0):\n",
    "            p = LVQ.prototype(0, som1.weights[(i,j)], epsilon)\n",
    "            p_vectors.append(p)\n",
    "        elif(taggings[i][j] == 1):\n",
    "            p = LVQ.prototype(1, som1.weights[(i,j)], epsilon)\n",
    "            p_vectors.append(p)\n",
    "        elif(taggings[i][j] == 2):\n",
    "            p = LVQ.prototype(2, som1.weights[(i,j)], epsilon)\n",
    "            p_vectors.append(p)\n",
    "        elif(taggings[i][j] == 3):\n",
    "            p = LVQ.prototype(3, som1.weights[(i,j)], epsilon)\n",
    "            p_vectors.append(p)\n",
    "print(\"class id \\t Initial prototype vector \\n\")\n",
    "for p_v in p_vectors:\n",
    "    print(p_v.class_id, '\\t', p_v.p_vector)"
   ]
  },
  {
   "cell_type": "code",
   "execution_count": 28,
   "metadata": {},
   "outputs": [],
   "source": [
    "# n_neurons only used when p_vectors not initialized\n",
    "lvq1 = LVQ.LVQ(x_train1, y_train1, n_classes=2, n_neurons=0, p_vectors=p_vectors, epsilon=0.9, epsilon_dec_factor=0.001) \n",
    "neurons = lvq1.fit(x_train1, y_train1)"
   ]
  },
  {
   "cell_type": "code",
   "execution_count": 29,
   "metadata": {
    "scrolled": true
   },
   "outputs": [
    {
     "name": "stdout",
     "output_type": "stream",
     "text": [
      "             precision    recall  f1-score   support\n",
      "\n",
      "          0       0.97      0.96      0.97       138\n",
      "          1       0.94      0.82      0.87        55\n",
      "          2       0.47      0.61      0.53        28\n",
      "          3       0.88      0.88      0.88       108\n",
      "\n",
      "avg / total       0.89      0.88      0.89       329\n",
      "\n"
     ]
    }
   ],
   "source": [
    "predicted_y1 = [lvq1.predict(instance) for instance in x_test]\n",
    "\n",
    "from sklearn.metrics import classification_report\n",
    "\n",
    "print (classification_report(y_test, predicted_y1, target_names=['0','1', '2', '3']))"
   ]
  },
  {
   "cell_type": "code",
   "execution_count": 30,
   "metadata": {
    "scrolled": true
   },
   "outputs": [
    {
     "name": "stdout",
     "output_type": "stream",
     "text": [
      "             precision    recall  f1-score   support\n",
      "\n",
      "          0       0.98      0.91      0.94       558\n",
      "          1       0.86      0.84      0.85       165\n",
      "          2       0.58      0.47      0.52       139\n",
      "          3       0.80      0.92      0.86       453\n",
      "\n",
      "avg / total       0.86      0.86      0.86      1315\n",
      "\n"
     ]
    }
   ],
   "source": [
    "data_new = pd.read_csv(r\"../data/SD-3X_rocktype.csv\")\n",
    "x_new = data.iloc[:, 0:6].values\n",
    "y_new = data.iloc[:, 6].values\n",
    "y_new[y_new == 4] = 0\n",
    "x_new = minmax.fit_transform(x_new)\n",
    "predicted_y_new = [lvq1.predict(instance) for instance in x_new]\n",
    "\n",
    "from sklearn.metrics import classification_report\n",
    "\n",
    "print (classification_report(y_new, predicted_y_new, target_names=['0', '1', '2', '3']))"
   ]
  },
  {
   "cell_type": "code",
   "execution_count": 31,
   "metadata": {},
   "outputs": [],
   "source": [
    "# Training the SOM\n",
    "from minisom import MiniSom\n",
    "som2 = MiniSom(x = 10, y = 10, input_len = 6, sigma = 1.0, learning_rate = 0.5)\n",
    "som2.random_weights_init(x_train2)\n",
    "som2.train_random(data = x_train2, num_iteration = 100)"
   ]
  },
  {
   "cell_type": "code",
   "execution_count": 32,
   "metadata": {},
   "outputs": [],
   "source": [
    "labels = np.zeros((4, 10, 10))"
   ]
  },
  {
   "cell_type": "code",
   "execution_count": 45,
   "metadata": {
    "scrolled": false
   },
   "outputs": [
    {
     "data": {
      "image/png": "[encoded data removed]",
      "text/plain": [
       "<Figure size 432x288 with 2 Axes>"
      ]
     },
     "metadata": {},
     "output_type": "display_data"
    }
   ],
   "source": [
    "# Visualizing the results\n",
    "from pylab import bone, pcolor, colorbar, plot, show\n",
    "bone()\n",
    "pcolor(som2.distance_map().T)\n",
    "colorbar()\n",
    "markers = ['v', 's', 'o', '4']\n",
    "colors = ['r', 'g', 'b', 'y']\n",
    "for i, x in enumerate(x_train2):\n",
    "    w = som2.winner(x)\n",
    "    plot(w[0] + 0.5,\n",
    "         w[1] + 0.5,\n",
    "         markers[y_train2[i]],\n",
    "         markeredgecolor = colors[y_train2[i]],\n",
    "         markerfacecolor = 'None',\n",
    "         markersize = 10,\n",
    "         markeredgewidth = 2)\n",
    "    if y_train2[i] == 0:\n",
    "        labels[0, w[0], w[1]] += 1\n",
    "    elif y_train2[i] == 1:\n",
    "        labels[1, w[0], w[1]] += 1\n",
    "    elif y_train2[i] == 2:\n",
    "        labels[2, w[0], w[1]] += 1\n",
    "    elif y_train2[i] == 3:\n",
    "        labels[3, w[0], w[1]] += 1\n",
    "show()"
   ]
  },
  {
   "cell_type": "code",
   "execution_count": 35,
   "metadata": {},
   "outputs": [
    {
     "name": "stderr",
     "output_type": "stream",
     "text": [
      "C:\\Users\\Thend\\Anaconda3\\lib\\site-packages\\ipykernel_launcher.py:6: RuntimeWarning: divide by zero encountered in double_scalars\n",
      "  \n",
      "C:\\Users\\Thend\\Anaconda3\\lib\\site-packages\\ipykernel_launcher.py:6: RuntimeWarning: invalid value encountered in double_scalars\n",
      "  \n"
     ]
    }
   ],
   "source": [
    "taggings = np.zeros((10, 10))\n",
    "for i in range(10):\n",
    "    for j in range(10):\n",
    "        tmp = np.array([labels[0][i][j], labels[1][i][j], labels[2][i][j], labels[3][i][j]])\n",
    "        sort = tmp.argsort()\n",
    "        if (tmp[sort[3]]/tmp[sort[2]] < 5):\n",
    "            taggings[i][j] = np.random.choice([sort[3], sort[2]])\n",
    "        else:\n",
    "            taggings[i][j] = sort[3]"
   ]
  },
  {
   "cell_type": "code",
   "execution_count": 36,
   "metadata": {
    "scrolled": true
   },
   "outputs": [
    {
     "name": "stdout",
     "output_type": "stream",
     "text": [
      "class id \t Initial prototype vector \n",
      "\n",
      "2 \t [0.23350591 0.40234161 0.25799906 0.56185132 0.1739162  0.60918712]\n",
      "1 \t [0.25028953 0.42034565 0.13096177 0.57576122 0.17143701 0.61856452]\n",
      "2 \t [0.28505688 0.48307459 0.17239742 0.57494557 0.18742686 0.53848808]\n",
      "3 \t [0.3103738  0.52792238 0.25984119 0.53865612 0.23685869 0.45956084]\n",
      "3 \t [0.36274861 0.43832127 0.32135263 0.57486482 0.36221868 0.33368918]\n",
      "0 \t [0.40644344 0.33137863 0.46003351 0.55789507 0.39831095 0.20847681]\n",
      "3 \t [0.40828444 0.402499   0.40851163 0.55941229 0.35899139 0.25019931]\n",
      "0 \t [0.41215233 0.43803056 0.43577416 0.52455024 0.35885957 0.21077814]\n",
      "3 \t [0.38371463 0.47574573 0.35927679 0.5623271  0.28089584 0.31974212]\n",
      "2 \t [0.35330365 0.4870674  0.29611638 0.58749671 0.22147116 0.3950381 ]\n",
      "3 \t [0.3115176  0.43470891 0.22131126 0.59303507 0.26997008 0.4903385 ]\n",
      "3 \t [0.29946299 0.41893871 0.19508142 0.58126817 0.27080679 0.53436553]\n",
      "3 \t [0.30760218 0.45700968 0.2630489  0.57387956 0.26532507 0.47706727]\n",
      "3 \t [0.35520827 0.49088486 0.28378052 0.56294901 0.3182649  0.36622892]\n",
      "3 \t [0.38533299 0.41474984 0.38862518 0.54453515 0.4047506  0.26101713]\n",
      "3 \t [0.40561786 0.38163247 0.3781203  0.56928816 0.38953559 0.26651241]\n",
      "0 \t [0.41373097 0.40857274 0.42339592 0.52451912 0.4203024  0.17566014]\n",
      "3 \t [0.38768225 0.4594111  0.42722241 0.52339661 0.36259231 0.22518376]\n",
      "0 \t [0.35042311 0.41722765 0.51848386 0.51079439 0.28714059 0.30156026]\n",
      "3 \t [0.38410374 0.45840604 0.38293545 0.55953644 0.29162887 0.31234634]\n",
      "3 \t [0.37125228 0.43519835 0.29129135 0.57893271 0.37904159 0.33028454]\n",
      "3 \t [0.33528825 0.44495859 0.22551531 0.58766882 0.35544908 0.40870259]\n",
      "0 \t [0.35705669 0.43293551 0.27498207 0.57348988 0.40608455 0.34009841]\n",
      "0 \t [0.37904867 0.42601132 0.31694333 0.55317884 0.43870727 0.27552222]\n",
      "3 \t [0.39863896 0.40090964 0.36594823 0.52371766 0.483203   0.19665965]\n",
      "0 \t [0.40518664 0.40171886 0.39073582 0.51551764 0.46005218 0.21062959]\n",
      "0 \t [0.37842363 0.39053227 0.53787623 0.47622136 0.38036106 0.20858557]\n",
      "0 \t [0.40694172 0.4104645  0.486154   0.50483189 0.37377496 0.187106  ]\n",
      "3 \t [0.39561457 0.40060167 0.50521376 0.50617895 0.35147082 0.21912921]\n",
      "3 \t [0.29507838 0.31708829 0.67906211 0.4485308  0.26221851 0.28516661]\n",
      "0 \t [0.3139162  0.36936513 0.56603836 0.49617879 0.33580618 0.29268996]\n",
      "3 \t [0.3687974  0.4260793  0.31683482 0.55754831 0.41398883 0.31593312]\n",
      "3 \t [0.37978079 0.41921547 0.32804302 0.54120817 0.45272251 0.27303618]\n",
      "0 \t [0.38091291 0.41524885 0.32762543 0.53301356 0.48588412 0.23441096]\n",
      "0 \t [0.3888635  0.40372137 0.34011371 0.5293695  0.49903808 0.20210351]\n",
      "0 \t [0.40440581 0.39898007 0.38158677 0.519642   0.47714918 0.18429117]\n",
      "0 \t [0.40032206 0.40725735 0.4004532  0.53614489 0.41805481 0.22649455]\n",
      "3 \t [0.39000072 0.39825708 0.45567851 0.52356014 0.39051821 0.23458077]\n",
      "3 \t [0.36312158 0.40026757 0.48663101 0.5199732  0.34529912 0.28550875]\n",
      "3 \t [0.29153161 0.27975133 0.64208897 0.48313011 0.28214203 0.33384344]\n",
      "0 \t [0.39895818 0.36540971 0.47481024 0.49720205 0.44072256 0.20104002]\n",
      "3 \t [0.37429803 0.40148211 0.39183726 0.53420917 0.41992317 0.28889748]\n",
      "3 \t [0.36554188 0.41465148 0.39879376 0.52201875 0.42521598 0.28652159]\n",
      "0 \t [0.36753494 0.44748134 0.30321266 0.54417018 0.4453856  0.27973396]\n",
      "3 \t [0.38195525 0.43056038 0.32556087 0.54613931 0.443599   0.26017273]\n",
      "3 \t [0.40286517 0.41769107 0.36889288 0.53742196 0.43702653 0.21757144]\n",
      "3 \t [0.40823667 0.40725201 0.43244507 0.51558626 0.42387186 0.18703834]\n",
      "3 \t [0.39594493 0.40472268 0.47259549 0.51304253 0.37672159 0.22571856]\n",
      "3 \t [0.37751752 0.38440227 0.50107049 0.50015946 0.39988091 0.22040771]\n",
      "3 \t [0.35759663 0.35245311 0.44802116 0.53042239 0.36899581 0.36010092]\n",
      "0 \t [0.22863392 0.28020335 0.78480982 0.34934921 0.2288425  0.28084229]\n",
      "3 \t [0.33801091 0.41143508 0.46161051 0.52055508 0.35863662 0.32216101]\n",
      "3 \t [0.34379836 0.44798165 0.30813954 0.56208927 0.37702426 0.35787361]\n",
      "3 \t [0.35145446 0.45932431 0.28579886 0.56342595 0.38990542 0.33814925]\n",
      "3 \t [0.37084015 0.45089715 0.30735364 0.56348534 0.39046493 0.30777344]\n",
      "3 \t [0.40703441 0.42955794 0.3780749  0.5386817  0.4049902  0.22949356]\n",
      "0 \t [0.41453113 0.42826792 0.42764038 0.51059291 0.40624707 0.19008533]\n",
      "0 \t [0.40321779 0.39831816 0.49981282 0.46021674 0.4398254  0.15394601]\n",
      "3 \t [0.39370927 0.3931621  0.48153914 0.50639764 0.39703018 0.21086748]\n",
      "0 \t [0.38369653 0.37075214 0.48514979 0.52585567 0.38642874 0.23259006]\n",
      "3 \t [0.20665037 0.27407705 0.80866683 0.33985457 0.19602302 0.27259713]\n",
      "3 \t [0.27356458 0.36132061 0.63763315 0.45395967 0.24404723 0.34985051]\n",
      "3 \t [0.3337572  0.42981336 0.40257585 0.53886153 0.32180037 0.38454137]\n",
      "3 \t [0.33821773 0.45733875 0.30202256 0.56609528 0.33962823 0.3865504 ]\n",
      "3 \t [0.35078148 0.44802178 0.31341528 0.5662512  0.3503488  0.36689917]\n",
      "3 \t [0.38933014 0.43216697 0.37902654 0.55294485 0.37645739 0.26556441]\n",
      "3 \t [0.41275004 0.41980657 0.44477983 0.50289357 0.39999744 0.20656923]\n",
      "0 \t [0.41559946 0.40110479 0.5155885  0.45071378 0.4272481  0.12197003]\n",
      "0 \t [0.4022378  0.39273758 0.47162403 0.49387119 0.43120207 0.17801334]\n",
      "3 \t [0.296911   0.33689005 0.63095142 0.45141207 0.31928276 0.30746532]\n",
      "0 \t [0.10510756 0.14205461 0.93275347 0.20237366 0.0992211  0.21896101]\n",
      "3 \t [0.21469791 0.2788284  0.77174706 0.36565354 0.17215249 0.34238431]\n",
      "2 \t [0.32493395 0.39453114 0.48326582 0.50874856 0.25151855 0.42793759]\n",
      "3 \t [0.33291545 0.45477873 0.37030641 0.53983986 0.29776339 0.4063578 ]\n",
      "3 \t [0.33682584 0.46460234 0.33163832 0.56281062 0.31013188 0.38441055]\n",
      "3 \t [0.36714724 0.43467677 0.35856488 0.56183424 0.34212876 0.33908765]\n",
      "3 \t [0.41494715 0.4047604  0.43631143 0.51865707 0.40701748 0.19736218]\n",
      "0 \t [0.43271644 0.36323041 0.49770233 0.47834555 0.4355773  0.12070831]\n",
      "3 \t [0.42073526 0.36488273 0.48310878 0.4904522  0.43535284 0.16239734]\n",
      "0 \t [0.40552968 0.37021581 0.48733348 0.48367315 0.45338895 0.14659724]\n",
      "3 \t [0.10112819 0.16693296 0.89900292 0.24343121 0.10463187 0.28895265]\n",
      "0 \t [0.18731744 0.25430785 0.78802797 0.35072511 0.16986557 0.35691623]\n",
      "2 \t [0.28454001 0.3737217  0.58532447 0.46714166 0.25168682 0.39395019]\n",
      "3 \t [0.34086615 0.43278557 0.39166371 0.54438815 0.3208352  0.37922655]\n",
      "3 \t [0.33891273 0.43063728 0.35218195 0.56291991 0.3184256  0.39671636]\n",
      "3 \t [0.37941481 0.39865126 0.40508366 0.54910852 0.38284221 0.29144548]\n",
      "0 \t [0.36429466 0.35288184 0.59302143 0.47596501 0.34802191 0.20839254]\n",
      "0 \t [0.43369835 0.37027711 0.48290975 0.49020699 0.42460795 0.14492745]\n",
      "0 \t [0.43946849 0.32358158 0.51921914 0.43938294 0.48521775 0.06387691]\n",
      "0 \t [0.42295504 0.34484719 0.47352298 0.44015187 0.52802765 0.07361094]\n",
      "3 \t [0.16707129 0.26612446 0.76945308 0.35546162 0.15709754 0.39771135]\n",
      "3 \t [0.20367074 0.29848012 0.68014827 0.41171721 0.20832989 0.44035642]\n",
      "3 \t [0.31363716 0.3609572  0.54678521 0.4810446  0.33708374 0.3568448 ]\n",
      "3 \t [0.32009907 0.43112203 0.38469406 0.55923523 0.25690858 0.43004046]\n",
      "3 \t [0.33089896 0.3832591  0.36694186 0.57657915 0.25758584 0.45845178]\n",
      "3 \t [0.36835558 0.41255371 0.38854468 0.56391318 0.30264036 0.36545501]\n",
      "3 \t [0.39685142 0.42260221 0.37196984 0.56278049 0.34442879 0.30033597]\n",
      "3 \t [0.41296021 0.41663412 0.4167125  0.51909342 0.39930099 0.23093573]\n",
      "0 \t [0.43353373 0.31967917 0.48925617 0.43142217 0.53085468 0.05050107]\n",
      "0 \t [0.43220558 0.30639218 0.47031515 0.41151583 0.57322063 0.01409447]\n"
     ]
    }
   ],
   "source": [
    "p_vectors = []\n",
    "for i in range(10):\n",
    "    for j in range(10):\n",
    "        if(taggings[i][j] == 0):\n",
    "            p = LVQ.prototype(0, som2.weights[(i,j)], epsilon)\n",
    "            p_vectors.append(p)\n",
    "        elif(taggings[i][j] == 1):\n",
    "            p = LVQ.prototype(1, som2.weights[(i,j)], epsilon)\n",
    "            p_vectors.append(p)\n",
    "        elif(taggings[i][j] == 2):\n",
    "            p = LVQ.prototype(2, som2.weights[(i,j)], epsilon)\n",
    "            p_vectors.append(p)\n",
    "        elif(taggings[i][j] == 3):\n",
    "            p = LVQ.prototype(3, som2.weights[(i,j)], epsilon)\n",
    "            p_vectors.append(p)\n",
    "print(\"class id \\t Initial prototype vector \\n\")\n",
    "for p_v in p_vectors:\n",
    "    print(p_v.class_id, '\\t', p_v.p_vector)"
   ]
  },
  {
   "cell_type": "code",
   "execution_count": 37,
   "metadata": {},
   "outputs": [],
   "source": [
    "lvq2 = LVQ.LVQ(x_train2, y_train2, n_classes=2, n_neurons=25, p_vectors=p_vectors, epsilon=0.9, epsilon_dec_factor=0.001)\n",
    "neurons = lvq2.fit(x_train2, y_train2)"
   ]
  },
  {
   "cell_type": "code",
   "execution_count": 40,
   "metadata": {
    "scrolled": true
   },
   "outputs": [
    {
     "name": "stdout",
     "output_type": "stream",
     "text": [
      "             precision    recall  f1-score   support\n",
      "\n",
      "          0       0.98      0.88      0.93       138\n",
      "          1       0.98      0.76      0.86        55\n",
      "          2       0.50      0.11      0.18        28\n",
      "          3       0.67      0.96      0.79       108\n",
      "\n",
      "avg / total       0.84      0.82      0.81       329\n",
      "\n"
     ]
    }
   ],
   "source": [
    "predicted_y1 = [lvq2.predict(instance) for instance in x_test]\n",
    "\n",
    "from sklearn.metrics import classification_report\n",
    "\n",
    "print (classification_report(y_test, predicted_y1, target_names=['0','1', '2', '3']))"
   ]
  },
  {
   "cell_type": "code",
   "execution_count": 38,
   "metadata": {
    "scrolled": true
   },
   "outputs": [
    {
     "name": "stdout",
     "output_type": "stream",
     "text": [
      "             precision    recall  f1-score   support\n",
      "\n",
      "          0       0.98      0.87      0.92       558\n",
      "          1       0.90      0.83      0.86       165\n",
      "          2       0.60      0.18      0.28       139\n",
      "          3       0.69      0.96      0.80       453\n",
      "\n",
      "avg / total       0.83      0.82      0.80      1315\n",
      "\n"
     ]
    }
   ],
   "source": [
    "predicted_y2 = [lvq2.predict(instance) for instance in x_new]\n",
    "\n",
    "from sklearn.metrics import classification_report\n",
    "\n",
    "print (classification_report(y_new, predicted_y2, target_names=['0','1', '2', '3']))"
   ]
  },
  {
   "cell_type": "code",
   "execution_count": 39,
   "metadata": {},
   "outputs": [],
   "source": [
    "# Training the SOM\n",
    "from minisom import MiniSom\n",
    "som3 = MiniSom(x = 10, y = 10, input_len = 6, sigma = 1.0, learning_rate = 0.5)\n",
    "som3.random_weights_init(x_train3)\n",
    "som3.train_random(data = x_train3, num_iteration = 100)"
   ]
  },
  {
   "cell_type": "code",
   "execution_count": 41,
   "metadata": {},
   "outputs": [],
   "source": [
    "labels = np.zeros((4, 10, 10))"
   ]
  },
  {
   "cell_type": "code",
   "execution_count": 48,
   "metadata": {
    "scrolled": false
   },
   "outputs": [
    {
     "data": {
      "image/png": "[encoded data removed]",
      "text/plain": [
       "<Figure size 432x288 with 2 Axes>"
      ]
     },
     "metadata": {},
     "output_type": "display_data"
    }
   ],
   "source": [
    "# Visualizing the results\n",
    "from pylab import bone, pcolor, colorbar, plot, show\n",
    "bone()\n",
    "pcolor(som3.distance_map().T)\n",
    "colorbar()\n",
    "markers = ['v', 's', 'o', '4']\n",
    "colors = ['r', 'g', 'b', 'y']\n",
    "for i, x in enumerate(x_train3):\n",
    "    w = som3.winner(x)\n",
    "    plot(w[0] + 0.5,\n",
    "         w[1] + 0.5,\n",
    "         markers[y_train3[i]],\n",
    "         markeredgecolor = colors[y_train3[i]],\n",
    "         markerfacecolor = 'None',\n",
    "         markersize = 10,\n",
    "         markeredgewidth = 2)\n",
    "    if y_train3[i] == 0:\n",
    "        labels[0, w[0], w[1]] += 1\n",
    "    elif y_train3[i] == 1:\n",
    "        labels[1, w[0], w[1]] += 1\n",
    "    elif y_train3[i] == 2:\n",
    "        labels[2, w[0], w[1]] += 1\n",
    "    elif y_train3[i] == 3:\n",
    "        labels[3, w[0], w[1]] += 1\n",
    "show()"
   ]
  },
  {
   "cell_type": "code",
   "execution_count": 49,
   "metadata": {},
   "outputs": [
    {
     "name": "stderr",
     "output_type": "stream",
     "text": [
      "C:\\Users\\Thend\\Anaconda3\\lib\\site-packages\\ipykernel_launcher.py:6: RuntimeWarning: divide by zero encountered in double_scalars\n",
      "  \n",
      "C:\\Users\\Thend\\Anaconda3\\lib\\site-packages\\ipykernel_launcher.py:6: RuntimeWarning: invalid value encountered in double_scalars\n",
      "  \n"
     ]
    }
   ],
   "source": [
    "taggings = np.zeros((10, 10))\n",
    "for i in range(10):\n",
    "    for j in range(10):\n",
    "        tmp = np.array([labels[0][i][j], labels[1][i][j], labels[2][i][j], labels[3][i][j]])\n",
    "        sort = tmp.argsort()\n",
    "        if (tmp[sort[3]]/tmp[sort[2]] < 5):\n",
    "            taggings[i][j] = np.random.choice([sort[3], sort[2]])\n",
    "        else:\n",
    "            taggings[i][j] = sort[3]"
   ]
  },
  {
   "cell_type": "code",
   "execution_count": 50,
   "metadata": {},
   "outputs": [
    {
     "data": {
      "text/plain": [
       "array([[2., 0., 2., 0., 0., 0., 3., 0., 2., 3.],\n",
       "       [2., 0., 3., 3., 0., 0., 2., 3., 1., 2.],\n",
       "       [0., 0., 0., 0., 0., 3., 0., 3., 2., 2.],\n",
       "       [0., 0., 0., 0., 0., 3., 2., 3., 2., 3.],\n",
       "       [0., 0., 0., 0., 3., 3., 3., 2., 1., 0.],\n",
       "       [0., 3., 0., 0., 3., 3., 0., 2., 3., 1.],\n",
       "       [3., 0., 0., 0., 3., 3., 3., 0., 1., 1.],\n",
       "       [0., 0., 3., 3., 3., 3., 3., 2., 1., 3.],\n",
       "       [0., 3., 0., 3., 3., 3., 3., 3., 3., 0.],\n",
       "       [3., 0., 3., 3., 0., 3., 0., 3., 3., 0.]])"
      ]
     },
     "execution_count": 50,
     "metadata": {},
     "output_type": "execute_result"
    }
   ],
   "source": [
    "taggings"
   ]
  },
  {
   "cell_type": "code",
   "execution_count": 51,
   "metadata": {
    "scrolled": true
   },
   "outputs": [
    {
     "name": "stdout",
     "output_type": "stream",
     "text": [
      "class id \t Initial prototype vector \n",
      "\n",
      "2 \t [0.10102773 0.13872212 0.92230124 0.22868398 0.1312671  0.22446063]\n",
      "0 \t [0.09633646 0.09485006 0.96139715 0.14751446 0.11484463 0.14996157]\n",
      "2 \t [0.17459647 0.15880261 0.90151048 0.22810328 0.19561448 0.2031761 ]\n",
      "0 \t [0.33592454 0.39832953 0.57113632 0.47120123 0.23343665 0.3546383 ]\n",
      "0 \t [0.36188844 0.43933428 0.51450144 0.45768168 0.35953057 0.26939872]\n",
      "0 \t [0.3467028  0.46540082 0.5048843  0.47708765 0.29900234 0.30211929]\n",
      "3 \t [0.27319158 0.50628753 0.45793566 0.45479829 0.25429175 0.4333918 ]\n",
      "0 \t [0.24615374 0.42683729 0.48420617 0.49001861 0.26053649 0.46342761]\n",
      "2 \t [0.15601147 0.32893581 0.63250263 0.41776634 0.15316755 0.51905015]\n",
      "3 \t [0.18985947 0.33372775 0.53795964 0.46953702 0.17942182 0.55724446]\n",
      "2 \t [0.30068018 0.26144479 0.72921574 0.3755942  0.3860922  0.13908365]\n",
      "0 \t [0.26389504 0.19467647 0.82524002 0.28706629 0.34260976 0.10793928]\n",
      "3 \t [0.31349723 0.3145702  0.7377602  0.33657761 0.34404194 0.16378531]\n",
      "3 \t [0.38019789 0.31743289 0.61391213 0.42678361 0.39807875 0.19283897]\n",
      "0 \t [0.3900974  0.36336323 0.6199903  0.42663069 0.33611506 0.19083013]\n",
      "0 \t [0.34579015 0.40195924 0.52482578 0.46462597 0.33439184 0.34017738]\n",
      "2 \t [0.27437515 0.35703917 0.54366181 0.44994414 0.26234167 0.48000028]\n",
      "3 \t [0.27247704 0.43579744 0.46600947 0.49581549 0.2316921  0.46814293]\n",
      "1 \t [0.24641862 0.40660414 0.46986667 0.51893095 0.21197864 0.48882714]\n",
      "2 \t [0.25089741 0.37452217 0.49411705 0.52885364 0.21234224 0.47734325]\n",
      "0 \t [0.41264574 0.31293788 0.49092992 0.43765075 0.5454072  0.04211889]\n",
      "0 \t [0.40295096 0.31062009 0.53083789 0.43730757 0.5122008  0.07595562]\n",
      "0 \t [0.41592665 0.32663502 0.57824636 0.42013036 0.45058548 0.0800558 ]\n",
      "0 \t [0.40250722 0.32098971 0.62586075 0.40605092 0.39408836 0.15188441]\n",
      "0 \t [0.38943078 0.28030887 0.69995218 0.32914551 0.39312678 0.13020033]\n",
      "3 \t [0.38682221 0.36586388 0.59340104 0.43430487 0.33741842 0.24882824]\n",
      "0 \t [0.33518268 0.39628011 0.51908974 0.48409897 0.30504179 0.36572965]\n",
      "3 \t [0.32753789 0.44430806 0.41843961 0.52143697 0.29907279 0.39859319]\n",
      "2 \t [0.31270085 0.4370298  0.32844718 0.5802414  0.22697852 0.46383861]\n",
      "2 \t [0.32563893 0.42840576 0.32840609 0.60391408 0.24896334 0.4193832 ]\n",
      "0 \t [0.41386657 0.32534405 0.43093699 0.43907665 0.5863838  0.02290741]\n",
      "0 \t [0.41482096 0.32819901 0.44998708 0.45010768 0.55944942 0.04626049]\n",
      "0 \t [0.41818867 0.34712461 0.46368708 0.46868748 0.51076201 0.09524306]\n",
      "0 \t [0.41825415 0.36310656 0.52761234 0.46391444 0.41736393 0.15947742]\n",
      "0 \t [0.40842511 0.33047393 0.58470083 0.42583554 0.42282764 0.14826234]\n",
      "3 \t [0.38689517 0.39014786 0.51533473 0.50187207 0.28845266 0.31216402]\n",
      "2 \t [0.37363912 0.38050803 0.56662586 0.43296832 0.36828144 0.26730095]\n",
      "3 \t [0.36458603 0.40219673 0.41106129 0.53462683 0.2663326  0.42377414]\n",
      "2 \t [0.28778518 0.40154563 0.33206874 0.5757855  0.19632535 0.52497482]\n",
      "3 \t [0.30720466 0.41528365 0.23255293 0.61936376 0.22079758 0.49671006]\n",
      "0 \t [0.42629495 0.32970274 0.40504038 0.46826836 0.56856972 0.05444477]\n",
      "0 \t [0.42865937 0.34211436 0.39900056 0.4805902  0.55194702 0.06629487]\n",
      "0 \t [0.41262966 0.3797701  0.38959538 0.50929553 0.50256483 0.14755854]\n",
      "0 \t [0.37851753 0.41701184 0.38495417 0.5392992  0.41117319 0.27336581]\n",
      "3 \t [0.38297526 0.4347024  0.40441804 0.5327128  0.37684385 0.27388976]\n",
      "3 \t [0.37065096 0.46563479 0.3607371  0.57110385 0.28858208 0.32593194]\n",
      "3 \t [0.36123351 0.45631747 0.30696749 0.58272631 0.28090541 0.385458  ]\n",
      "2 \t [0.32060441 0.44775617 0.27831954 0.59876702 0.20652046 0.46700408]\n",
      "1 \t [0.24708402 0.38680076 0.20697073 0.60642747 0.13864904 0.59959982]\n",
      "0 \t [0.22180277 0.38004165 0.17003778 0.61008805 0.12507732 0.62418528]\n",
      "0 \t [0.43250259 0.36058038 0.38791387 0.51079465 0.50881784 0.11242484]\n",
      "3 \t [0.4343477  0.36720984 0.39602971 0.50617239 0.50063642 0.11319082]\n",
      "0 \t [0.40703816 0.41542641 0.37144069 0.5163123  0.47464773 0.17861633]\n",
      "0 \t [0.3767851  0.45398717 0.33546846 0.53551407 0.43223865 0.25648389]\n",
      "3 \t [0.37032639 0.47465677 0.3260449  0.55662776 0.35909903 0.30408464]\n",
      "3 \t [0.37157056 0.47328506 0.2940025  0.5831568  0.30310305 0.34576839]\n",
      "0 \t [0.3590011  0.46617464 0.27235291 0.60118352 0.25153655 0.39361281]\n",
      "2 \t [0.30052473 0.46263241 0.23495846 0.61001255 0.1765706  0.48698887]\n",
      "3 \t [0.20680921 0.40163767 0.17674127 0.60290495 0.09856899 0.62567518]\n",
      "1 \t [0.16478052 0.3715678  0.14457669 0.59197887 0.07614079 0.67649533]\n",
      "3 \t [0.41845602 0.37016897 0.50071919 0.47945201 0.43688641 0.12808519]\n",
      "0 \t [0.43625728 0.39610773 0.43316183 0.49990932 0.44566564 0.12892591]\n",
      "0 \t [0.42327758 0.40788172 0.42553871 0.51252677 0.41613715 0.19373069]\n",
      "0 \t [0.38435876 0.44650913 0.36419433 0.5283659  0.41777311 0.25798361]\n",
      "3 \t [0.36059874 0.47727801 0.31509826 0.54968084 0.37158537 0.3204101 ]\n",
      "3 \t [0.36495002 0.47384813 0.29300207 0.57666534 0.32189727 0.34679742]\n",
      "3 \t [0.33579758 0.48789581 0.28341487 0.59631732 0.22025667 0.40591419]\n",
      "0 \t [0.2862492  0.49021642 0.24451054 0.60807536 0.14808472 0.47568805]\n",
      "1 \t [0.21195022 0.43418517 0.19042027 0.60268636 0.0988576  0.59774308]\n",
      "1 \t [0.17258238 0.38587554 0.18330195 0.58657133 0.08655749 0.66042234]\n",
      "0 \t [0.43900308 0.3796119  0.48477549 0.46274773 0.45627848 0.07640887]\n",
      "0 \t [0.43344401 0.39951173 0.4603619  0.49677098 0.41371155 0.15048234]\n",
      "3 \t [0.41493208 0.43387556 0.42444936 0.52002596 0.36559854 0.2352378 ]\n",
      "3 \t [0.39298964 0.42148264 0.41550613 0.52678504 0.35201188 0.30635167]\n",
      "3 \t [0.36365075 0.45289462 0.33024371 0.55607905 0.34854177 0.35054017]\n",
      "3 \t [0.35470816 0.47032631 0.2823734  0.5710878  0.30546779 0.39215903]\n",
      "3 \t [0.32371477 0.48840503 0.24944244 0.58498718 0.23459971 0.44407288]\n",
      "2 \t [0.28414637 0.49708033 0.21885922 0.59686488 0.1733316  0.48783306]\n",
      "1 \t [0.25808419 0.46586572 0.18944553 0.60212039 0.17691131 0.53537417]\n",
      "3 \t [0.24682052 0.43501984 0.16582979 0.60538097 0.18802879 0.56612446]\n",
      "0 \t [0.38481782 0.39884976 0.51318132 0.4963691  0.35224206 0.24294504]\n",
      "3 \t [0.32944172 0.34457662 0.62816077 0.45146788 0.31054248 0.27908652]\n",
      "0 \t [0.3658561  0.40274198 0.41362203 0.55573808 0.31251882 0.35546056]\n",
      "3 \t [0.38749298 0.39564063 0.41625902 0.53082735 0.39780021 0.28288411]\n",
      "3 \t [0.37691211 0.43156172 0.38619513 0.53270753 0.34034379 0.35061925]\n",
      "3 \t [0.33723723 0.47210377 0.31440964 0.55230849 0.26386535 0.43573625]\n",
      "3 \t [0.31054032 0.4887437  0.23694975 0.55526833 0.25660955 0.48412575]\n",
      "3 \t [0.30636792 0.48944137 0.21201104 0.57689983 0.27725257 0.46038545]\n",
      "3 \t [0.2937226  0.4800395  0.18219971 0.59268479 0.2738492  0.47310013]\n",
      "0 \t [0.28561677 0.4660006  0.15015175 0.60155703 0.2767313  0.49017332]\n",
      "3 \t [0.19023531 0.2457157  0.80529104 0.33214707 0.19642415 0.32563252]\n",
      "0 \t [0.3418558  0.37805179 0.48748326 0.52979691 0.30660593 0.35760251]\n",
      "3 \t [0.35355837 0.41804666 0.45566796 0.56235987 0.27209617 0.31986752]\n",
      "3 \t [0.35470224 0.41415376 0.38432667 0.5574921  0.33318747 0.36488993]\n",
      "0 \t [0.36420455 0.4343027  0.37673315 0.5407015  0.294436   0.3971872 ]\n",
      "3 \t [0.3156854  0.4451847  0.37064496 0.49909969 0.21306815 0.5198818 ]\n",
      "0 \t [0.35347991 0.46472022 0.27885688 0.54650029 0.34465169 0.40481917]\n",
      "3 \t [0.32431911 0.47957122 0.24834443 0.56706585 0.32520643 0.41932172]\n",
      "3 \t [0.31286704 0.47997596 0.21568886 0.5809873  0.31816856 0.43178483]\n",
      "0 \t [0.31463613 0.47514607 0.18922772 0.59893104 0.29716177 0.43864528]\n"
     ]
    }
   ],
   "source": [
    "p_vectors = []\n",
    "for i in range(10):\n",
    "    for j in range(10):\n",
    "        if(taggings[i][j] == 0):\n",
    "            p = LVQ.prototype(0, som3.weights[(i,j)], epsilon)\n",
    "            p_vectors.append(p)\n",
    "        elif(taggings[i][j] == 1):\n",
    "            p = LVQ.prototype(1, som3.weights[(i,j)], epsilon)\n",
    "            p_vectors.append(p)\n",
    "        elif(taggings[i][j] == 2):\n",
    "            p = LVQ.prototype(2, som3.weights[(i,j)], epsilon)\n",
    "            p_vectors.append(p)\n",
    "        elif(taggings[i][j] == 3):\n",
    "            p = LVQ.prototype(3, som3.weights[(i,j)], epsilon)\n",
    "            p_vectors.append(p)\n",
    "print(\"class id \\t Initial prototype vector \\n\")\n",
    "for p_v in p_vectors:\n",
    "    print(p_v.class_id, '\\t', p_v.p_vector)"
   ]
  },
  {
   "cell_type": "code",
   "execution_count": 52,
   "metadata": {},
   "outputs": [],
   "source": [
    "lvq3 = LVQ.LVQ(x_train3, y_train3, n_classes=2, n_neurons=25, p_vectors=p_vectors, epsilon=0.9, epsilon_dec_factor=0.001)\n",
    "neurons = lvq3.fit(x_train3, y_train3)"
   ]
  },
  {
   "cell_type": "code",
   "execution_count": 54,
   "metadata": {},
   "outputs": [
    {
     "name": "stdout",
     "output_type": "stream",
     "text": [
      "             precision    recall  f1-score   support\n",
      "\n",
      "          0       0.96      0.91      0.93       138\n",
      "          1       0.98      0.73      0.83        55\n",
      "          2       0.51      0.64      0.57        28\n",
      "          3       0.79      0.90      0.84       108\n",
      "\n",
      "avg / total       0.87      0.85      0.85       329\n",
      "\n"
     ]
    }
   ],
   "source": [
    "predicted_y1 = [lvq3.predict(instance) for instance in x_test]\n",
    "\n",
    "from sklearn.metrics import classification_report\n",
    "\n",
    "print (classification_report(y_test, predicted_y1, target_names=['0','1', '2', '3']))"
   ]
  },
  {
   "cell_type": "code",
   "execution_count": 53,
   "metadata": {
    "scrolled": true
   },
   "outputs": [
    {
     "name": "stdout",
     "output_type": "stream",
     "text": [
      "             precision    recall  f1-score   support\n",
      "\n",
      "          0       0.95      0.90      0.92       558\n",
      "          1       0.91      0.76      0.83       165\n",
      "          2       0.61      0.65      0.63       139\n",
      "          3       0.80      0.88      0.84       453\n",
      "\n",
      "avg / total       0.86      0.85      0.85      1315\n",
      "\n"
     ]
    }
   ],
   "source": [
    "predicted_y3 = [lvq3.predict(instance) for instance in x_new]\n",
    "\n",
    "from sklearn.metrics import classification_report\n",
    "\n",
    "print (classification_report(y_new, predicted_y3, target_names=['0','1', '2', '3']))"
   ]
  },
  {
   "cell_type": "code",
   "execution_count": 55,
   "metadata": {},
   "outputs": [],
   "source": [
    "ensemble = [np.asarray(predicted_y_new), np.asarray(predicted_y2), np.asarray(predicted_y3)]"
   ]
  },
  {
   "cell_type": "code",
   "execution_count": 56,
   "metadata": {},
   "outputs": [
    {
     "data": {
      "text/plain": [
       "1315"
      ]
     },
     "execution_count": 56,
     "metadata": {},
     "output_type": "execute_result"
    }
   ],
   "source": [
    "len(ensemble[0])"
   ]
  },
  {
   "cell_type": "code",
   "execution_count": 57,
   "metadata": {},
   "outputs": [],
   "source": [
    "predict = [np.bincount([ensemble[j][i] for j in range(3)]).argmax() for i in range(len(ensemble[1]))]"
   ]
  },
  {
   "cell_type": "code",
   "execution_count": 58,
   "metadata": {
    "scrolled": false
   },
   "outputs": [
    {
     "name": "stdout",
     "output_type": "stream",
     "text": [
      "             precision    recall  f1-score   support\n",
      "\n",
      "          0       0.98      0.94      0.96       558\n",
      "          1       0.86      0.92      0.89       165\n",
      "          2       0.74      0.39      0.51       139\n",
      "          3       0.82      0.96      0.88       453\n",
      "\n",
      "avg / total       0.88      0.89      0.88      1315\n",
      "\n"
     ]
    }
   ],
   "source": [
    "print (classification_report(y_new, predict, target_names=['0','1', '2', '3']))"
   ]
  },
  {
   "cell_type": "code",
   "execution_count": 59,
   "metadata": {},
   "outputs": [
    {
     "name": "stdout",
     "output_type": "stream",
     "text": [
      "# of 0:  420\n",
      "# of 1:  110\n",
      "# of 2:  111\n",
      "# of 3:  345\n"
     ]
    }
   ],
   "source": [
    "for i in range(0,4):\n",
    "    print(\"# of \" + str(i) +  \": \", len(y_train[y_train==i]))"
   ]
  }
 ],
 "metadata": {
  "kernelspec": {
   "display_name": "Python 3",
   "language": "python",
   "name": "python3"
  },
  "language_info": {
   "codemirror_mode": {
    "name": "ipython",
    "version": 3
   },
   "file_extension": ".py",
   "mimetype": "text/x-python",
   "name": "python",
   "nbconvert_exporter": "python",
   "pygments_lexer": "ipython3",
   "version": "3.6.5"
  }
 },
 "nbformat": 4,
 "nbformat_minor": 2
}
