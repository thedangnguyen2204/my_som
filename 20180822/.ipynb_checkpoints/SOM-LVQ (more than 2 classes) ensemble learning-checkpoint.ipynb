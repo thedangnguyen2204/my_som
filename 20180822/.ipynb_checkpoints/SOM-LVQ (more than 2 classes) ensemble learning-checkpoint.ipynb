{
 "cells": [
  {
   "cell_type": "code",
   "execution_count": 1,
   "metadata": {},
   "outputs": [],
   "source": [
    "import numpy as np\n",
    "from sklearn.metrics import euclidean_distances\n",
    "import pandas as pd\n",
    "import minisom\n",
    "from random import randint, choice\n",
    "import LVQ"
   ]
  },
  {
   "cell_type": "code",
   "execution_count": 2,
   "metadata": {},
   "outputs": [
    {
     "name": "stderr",
     "output_type": "stream",
     "text": [
      "C:\\Users\\Thend\\Anaconda3\\lib\\site-packages\\sklearn\\cross_validation.py:41: DeprecationWarning: This module was deprecated in version 0.18 in favor of the model_selection module into which all the refactored classes and functions are moved. Also note that the interface of the new CV iterators are different from that of this module. This module will be removed in 0.20.\n",
      "  \"This module will be removed in 0.20.\", DeprecationWarning)\n"
     ]
    }
   ],
   "source": [
    "data = pd.read_csv(r\"../data/SD-2X_rocktype.csv\")\n",
    "x = data.iloc[:, 0:6].values\n",
    "y = data.iloc[:, 6].values\n",
    "y [y==4] = 0\n",
    "from sklearn.cross_validation import train_test_split\n",
    "x_train, x_test, y_train, y_test = train_test_split(x, y, test_size=0.25, random_state=44)\n",
    "\n",
    "# use Minmaxscaler because we use euclidean distance\n",
    "from sklearn.preprocessing import MinMaxScaler\n",
    "minmax = MinMaxScaler()\n",
    "x_train = minmax.fit_transform(x_train)\n",
    "x_test = minmax.transform(x_test)"
   ]
  },
  {
   "cell_type": "code",
   "execution_count": 4,
   "metadata": {
    "scrolled": true
   },
   "outputs": [
    {
     "data": {
      "text/html": [
       "<div>\n",
       "<style scoped>\n",
       "    .dataframe tbody tr th:only-of-type {\n",
       "        vertical-align: middle;\n",
       "    }\n",
       "\n",
       "    .dataframe tbody tr th {\n",
       "        vertical-align: top;\n",
       "    }\n",
       "\n",
       "    .dataframe thead th {\n",
       "        text-align: right;\n",
       "    }\n",
       "</style>\n",
       "<table border=\"1\" class=\"dataframe\">\n",
       "  <thead>\n",
       "    <tr style=\"text-align: right;\">\n",
       "      <th></th>\n",
       "      <th>GR_F</th>\n",
       "      <th>NPHIC</th>\n",
       "      <th>RHOBC</th>\n",
       "      <th>DTC</th>\n",
       "      <th>VCL_FINAL</th>\n",
       "      <th>PHIE_FINAL</th>\n",
       "      <th>TypeRock</th>\n",
       "    </tr>\n",
       "  </thead>\n",
       "  <tbody>\n",
       "    <tr>\n",
       "      <th>0</th>\n",
       "      <td>38.6034</td>\n",
       "      <td>0.2335</td>\n",
       "      <td>2.263</td>\n",
       "      <td>79.249</td>\n",
       "      <td>0.0687</td>\n",
       "      <td>0.2262</td>\n",
       "      <td>1</td>\n",
       "    </tr>\n",
       "    <tr>\n",
       "      <th>1</th>\n",
       "      <td>37.3566</td>\n",
       "      <td>0.2143</td>\n",
       "      <td>2.279</td>\n",
       "      <td>78.297</td>\n",
       "      <td>0.0617</td>\n",
       "      <td>0.2174</td>\n",
       "      <td>1</td>\n",
       "    </tr>\n",
       "    <tr>\n",
       "      <th>2</th>\n",
       "      <td>37.9742</td>\n",
       "      <td>0.1999</td>\n",
       "      <td>2.279</td>\n",
       "      <td>73.672</td>\n",
       "      <td>0.0652</td>\n",
       "      <td>0.2169</td>\n",
       "      <td>1</td>\n",
       "    </tr>\n",
       "    <tr>\n",
       "      <th>3</th>\n",
       "      <td>39.3757</td>\n",
       "      <td>0.1950</td>\n",
       "      <td>2.333</td>\n",
       "      <td>72.702</td>\n",
       "      <td>0.0731</td>\n",
       "      <td>0.1833</td>\n",
       "      <td>2</td>\n",
       "    </tr>\n",
       "    <tr>\n",
       "      <th>4</th>\n",
       "      <td>44.2722</td>\n",
       "      <td>0.2019</td>\n",
       "      <td>2.401</td>\n",
       "      <td>68.824</td>\n",
       "      <td>0.1022</td>\n",
       "      <td>0.1385</td>\n",
       "      <td>3</td>\n",
       "    </tr>\n",
       "  </tbody>\n",
       "</table>\n",
       "</div>"
      ],
      "text/plain": [
       "      GR_F   NPHIC  RHOBC     DTC  VCL_FINAL  PHIE_FINAL  TypeRock\n",
       "0  38.6034  0.2335  2.263  79.249     0.0687      0.2262         1\n",
       "1  37.3566  0.2143  2.279  78.297     0.0617      0.2174         1\n",
       "2  37.9742  0.1999  2.279  73.672     0.0652      0.2169         1\n",
       "3  39.3757  0.1950  2.333  72.702     0.0731      0.1833         2\n",
       "4  44.2722  0.2019  2.401  68.824     0.1022      0.1385         3"
      ]
     },
     "execution_count": 4,
     "metadata": {},
     "output_type": "execute_result"
    }
   ],
   "source": [
    "data.head()"
   ]
  },
  {
   "cell_type": "code",
   "execution_count": 8,
   "metadata": {},
   "outputs": [
    {
     "data": {
      "text/plain": [
       "array([0, 1, 2, 3], dtype=int64)"
      ]
     },
     "execution_count": 8,
     "metadata": {},
     "output_type": "execute_result"
    }
   ],
   "source": [
    "np.unique(y)"
   ]
  },
  {
   "cell_type": "code",
   "execution_count": 5,
   "metadata": {},
   "outputs": [],
   "source": [
    "x_train1 = x_train[0:331]\n",
    "x_train2 = x_train[332:663]\n",
    "x_train3 = x_train[664:995]\n",
    "\n",
    "y_train1 = y_train[0:331]\n",
    "y_train2 = y_train[332:663]\n",
    "y_train3 = y_train[664:995]"
   ]
  },
  {
   "cell_type": "code",
   "execution_count": 6,
   "metadata": {},
   "outputs": [],
   "source": [
    "epsilon = 0.9\n",
    "epsilon_dec_factor = 0.001"
   ]
  },
  {
   "cell_type": "code",
   "execution_count": 7,
   "metadata": {},
   "outputs": [],
   "source": [
    "# Training the SOM\n",
    "from minisom import MiniSom\n",
    "som1 = MiniSom(x = 10, y = 10, input_len = 6, sigma = 1.0, learning_rate = 0.5)\n",
    "som1.random_weights_init(x_train1)\n",
    "som1.train_random(data = x_train1, num_iteration = 100)"
   ]
  },
  {
   "cell_type": "code",
   "execution_count": 9,
   "metadata": {},
   "outputs": [],
   "source": [
    "labels = np.zeros((4, 10, 10))"
   ]
  },
  {
   "cell_type": "code",
   "execution_count": 11,
   "metadata": {
    "scrolled": false
   },
   "outputs": [
    {
     "data": {
      "image/png": "[encoded data removed]",
      "text/plain": [
       "<Figure size 432x288 with 2 Axes>"
      ]
     },
     "metadata": {},
     "output_type": "display_data"
    }
   ],
   "source": [
    "# Visualizing the results\n",
    "from pylab import bone, pcolor, colorbar, plot, show\n",
    "bone()\n",
    "pcolor(som1.distance_map().T)\n",
    "colorbar()\n",
    "markers = ['1', '2', '3', '4']\n",
    "colors = ['r', 'g', 'b', 'y']\n",
    "for i, x in enumerate(x_train1):\n",
    "    w = som1.winner(x)\n",
    "    plot(w[0] + 0.5,\n",
    "         w[1] + 0.5,\n",
    "         markers[y_train1[i]],\n",
    "         markeredgecolor = colors[y_train1[i]],\n",
    "         markerfacecolor = 'None',\n",
    "         markersize = 10,\n",
    "         markeredgewidth = 2)\n",
    "    if y_train1[i] == 0:\n",
    "        labels[0, w[0], w[1]] += 1\n",
    "    elif y_train1[i] == 1:\n",
    "        labels[1, w[0], w[1]] += 1\n",
    "    elif y_train1[i] == 2:\n",
    "        labels[2, w[0], w[1]] += 1\n",
    "    elif y_train1[i] == 3:\n",
    "        labels[3, w[0], w[1]] += 1\n",
    "show()"
   ]
  },
  {
   "cell_type": "code",
   "execution_count": 16,
   "metadata": {},
   "outputs": [
    {
     "name": "stderr",
     "output_type": "stream",
     "text": [
      "C:\\Users\\Thend\\Anaconda3\\lib\\site-packages\\ipykernel_launcher.py:6: RuntimeWarning: invalid value encountered in double_scalars\n",
      "  \n",
      "C:\\Users\\Thend\\Anaconda3\\lib\\site-packages\\ipykernel_launcher.py:6: RuntimeWarning: divide by zero encountered in double_scalars\n",
      "  \n"
     ]
    }
   ],
   "source": [
    "taggings = np.zeros((10, 10))\n",
    "for i in range(10):\n",
    "    for j in range(10):\n",
    "        tmp = np.array([labels[0][i][j], labels[1][i][j], labels[2][i][j], labels[3][i][j]])\n",
    "        sort = tmp.argsort()\n",
    "        if (tmp[sort[3]]/tmp[sort[2]] < 5): # must be improve\n",
    "            taggings[i][j] = np.random.choice([sort[3], sort[2]])\n",
    "        else:\n",
    "            taggings[i][j] = sort[3]"
   ]
  },
  {
   "cell_type": "code",
   "execution_count": 15,
   "metadata": {},
   "outputs": [
    {
     "data": {
      "text/plain": [
       "33"
      ]
     },
     "execution_count": 15,
     "metadata": {},
     "output_type": "execute_result"
    }
   ],
   "source": [
    "tmp = np.array([3, 2, 33, 4])\n",
    "sort = tmp.argsort()\n",
    "tmp[sort[3]]"
   ]
  },
  {
   "cell_type": "code",
   "execution_count": 18,
   "metadata": {},
   "outputs": [
    {
     "data": {
      "text/plain": [
       "(10, 10, 6)"
      ]
     },
     "execution_count": 18,
     "metadata": {},
     "output_type": "execute_result"
    }
   ],
   "source": [
    "som1.weights.shape"
   ]
  },
  {
   "cell_type": "code",
   "execution_count": 19,
   "metadata": {
    "scrolled": true
   },
   "outputs": [
    {
     "name": "stdout",
     "output_type": "stream",
     "text": [
      "class id \t Initial prototype vector \n",
      "\n",
      "2 \t [0.16469886 0.30692199 0.52064803 0.50574794 0.18100187 0.56485056]\n",
      "3 \t [0.15121048 0.24087246 0.80753358 0.35613395 0.1881153  0.32370759]\n",
      "3 \t [0.33116782 0.35543589 0.51119571 0.51076138 0.3698889  0.32400179]\n",
      "0 \t [0.41907638 0.34995686 0.51756385 0.43152439 0.49429354 0.05910533]\n",
      "0 \t [0.42499749 0.36313085 0.48828611 0.46094142 0.47913252 0.08399309]\n",
      "0 \t [0.40242028 0.37564326 0.47904486 0.48554879 0.45482986 0.15760157]\n",
      "0 \t [0.38586124 0.40757945 0.41108374 0.54138787 0.37542713 0.28627593]\n",
      "3 \t [0.34786762 0.41092075 0.29971918 0.59832304 0.27118007 0.43447851]\n",
      "3 \t [0.28386596 0.40556098 0.17349439 0.62571062 0.16022116 0.55466702]\n",
      "1 \t [0.21714326 0.38104678 0.16632094 0.60606487 0.11895023 0.63128893]\n",
      "3 \t [0.2981322  0.3488736  0.62257576 0.46571089 0.30092879 0.30717919]\n",
      "3 \t [0.16652787 0.28900321 0.62325182 0.48395661 0.15026964 0.49346511]\n",
      "3 \t [0.32624369 0.32095823 0.661387   0.41751386 0.32362486 0.27215294]\n",
      "0 \t [0.41340323 0.33861498 0.56868591 0.43349739 0.43876518 0.10295205]\n",
      "0 \t [0.42332785 0.38183065 0.49915657 0.46689134 0.4401705  0.11876026]\n",
      "0 \t [0.41885862 0.39702876 0.46886745 0.48506818 0.43496012 0.15035788]\n",
      "0 \t [0.39726682 0.4068649  0.43810443 0.52260512 0.38725256 0.24824157]\n",
      "2 \t [0.29923525 0.40499921 0.28886063 0.59406072 0.22102186 0.51111119]\n",
      "2 \t [0.23367824 0.38727221 0.17750083 0.60474033 0.13107123 0.61726626]\n",
      "1 \t [0.17364097 0.36798973 0.14442784 0.60154787 0.0857828  0.66659916]\n",
      "0 \t [0.20540013 0.2765816  0.7817813  0.35975657 0.23993541 0.28833594]\n",
      "3 \t [0.14375703 0.26411703 0.79194277 0.33849545 0.14391265 0.38355278]\n",
      "3 \t [0.24370141 0.25483521 0.73559172 0.41733244 0.20448119 0.34437557]\n",
      "0 \t [0.33228177 0.30128733 0.69181491 0.40916993 0.32943678 0.21037651]\n",
      "0 \t [0.41693926 0.38164852 0.53692877 0.45643363 0.37805706 0.20237281]\n",
      "0 \t [0.40450785 0.39568039 0.4859346  0.49384047 0.38469027 0.22762464]\n",
      "3 \t [0.36813546 0.39714105 0.45561257 0.52116956 0.3128565  0.36010493]\n",
      "2 \t [0.29825788 0.39917775 0.3251172  0.57219764 0.25113797 0.50548763]\n",
      "1 \t [0.24053435 0.38164621 0.30719349 0.57869901 0.16476826 0.58316416]\n",
      "2 \t [0.21866269 0.38934196 0.20831732 0.60049539 0.16704693 0.60720999]\n",
      "3 \t [0.13994058 0.17125367 0.85619654 0.31503157 0.11967694 0.32318546]\n",
      "0 \t [0.081568   0.10805728 0.93065427 0.19840085 0.08757604 0.26176411]\n",
      "3 \t [0.1581188  0.15758812 0.87863687 0.28096295 0.14576308 0.27923938]\n",
      "3 \t [0.35897786 0.30057534 0.65014012 0.43868423 0.30113294 0.27382892]\n",
      "0 \t [0.42249684 0.31773628 0.58924508 0.43213493 0.37727113 0.21037158]\n",
      "3 \t [0.37007007 0.37065216 0.48955849 0.51284369 0.29605159 0.36788913]\n",
      "2 \t [0.29318404 0.38776241 0.44803019 0.524556   0.21197547 0.49280806]\n",
      "1 \t [0.27112119 0.39637915 0.43724876 0.51316312 0.17512267 0.53309104]\n",
      "2 \t [0.29276897 0.43074867 0.26759085 0.57947021 0.24458053 0.5114017 ]\n",
      "3 \t [0.29425997 0.43939588 0.17562656 0.60620433 0.30392071 0.4792141 ]\n",
      "3 \t [0.20970207 0.31308466 0.70777081 0.42060476 0.21662001 0.36500812]\n",
      "0 \t [0.11956396 0.14472219 0.92038594 0.21430779 0.1208228  0.23900564]\n",
      "0 \t [0.28268316 0.25723303 0.74189263 0.39018773 0.31306574 0.23078149]\n",
      "3 \t [0.36877458 0.31343178 0.60638888 0.46532697 0.3198213  0.28150221]\n",
      "3 \t [0.40408876 0.35603844 0.50965742 0.48029447 0.37894396 0.27553024]\n",
      "3 \t [0.36819428 0.40322775 0.4252927  0.5188226  0.30954292 0.39493386]\n",
      "3 \t [0.31759075 0.42588886 0.3633451  0.54377773 0.23478914 0.48468028]\n",
      "2 \t [0.2808931  0.39865024 0.43155419 0.53120229 0.21378375 0.49805489]\n",
      "3 \t [0.31029627 0.4562083  0.29888899 0.56264776 0.29398642 0.45083819]\n",
      "0 \t [0.30957765 0.47479773 0.2107743  0.58089198 0.33015771 0.4334321 ]\n",
      "3 \t [0.31081818 0.40057512 0.46775008 0.53171857 0.33572972 0.35875119]\n",
      "2 \t [0.28402511 0.34495718 0.52638558 0.52531526 0.26977911 0.41775064]\n",
      "3 \t [0.32084954 0.35511386 0.49760053 0.52238273 0.28145682 0.41381369]\n",
      "3 \t [0.35940855 0.38964739 0.50191486 0.54185431 0.27323534 0.31435368]\n",
      "3 \t [0.36171746 0.36285641 0.55414707 0.45669921 0.33051872 0.33555914]\n",
      "3 \t [0.38416328 0.40764616 0.44277814 0.4812324  0.36241394 0.35673831]\n",
      "3 \t [0.36546227 0.40844918 0.40621072 0.52094055 0.33069455 0.39225184]\n",
      "3 \t [0.33769603 0.420044   0.37096944 0.54920665 0.33039464 0.40139449]\n",
      "3 \t [0.27511261 0.44150763 0.39833571 0.54004333 0.26252765 0.45841594]\n",
      "3 \t [0.30888141 0.48017356 0.26598615 0.56567141 0.3046927  0.43641174]\n",
      "3 \t [0.3690529  0.39545474 0.42003693 0.52551416 0.43827255 0.25047258]\n",
      "0 \t [0.38908554 0.38865304 0.4392823  0.52746378 0.39563482 0.26428654]\n",
      "3 \t [0.36935732 0.37699755 0.4169999  0.55396144 0.34651699 0.34729211]\n",
      "3 \t [0.34189783 0.38492678 0.49957504 0.49350962 0.33304677 0.36178741]\n",
      "3 \t [0.40455265 0.4061878  0.40470889 0.50275232 0.40769971 0.29762457]\n",
      "0 \t [0.41473005 0.39859923 0.42946727 0.478953   0.41358734 0.2902155 ]\n",
      "3 \t [0.40208898 0.4023097  0.40263343 0.5082655  0.4042071  0.30436899]\n",
      "3 \t [0.35608468 0.42564669 0.3604222  0.55279344 0.34864288 0.36741255]\n",
      "3 \t [0.28591279 0.46084389 0.32813461 0.55536942 0.24516199 0.47923363]\n",
      "3 \t [0.30806839 0.49014774 0.2457382  0.57016428 0.27481992 0.45149585]\n",
      "0 \t [0.3944086  0.37434294 0.37294866 0.53171412 0.49407239 0.19593642]\n",
      "0 \t [0.40328848 0.38585231 0.38879336 0.53417193 0.44556123 0.23119616]\n",
      "3 \t [0.40201985 0.38878358 0.35736014 0.5673822  0.36748976 0.32023399]\n",
      "3 \t [0.41141509 0.39462187 0.3888079  0.54160444 0.40366822 0.25991579]\n",
      "3 \t [0.38946401 0.41082874 0.3477518  0.54560831 0.40239379 0.31463793]\n",
      "3 \t [0.41364597 0.40782337 0.37830513 0.51569373 0.42997205 0.26200448]\n",
      "0 \t [0.40746732 0.40880363 0.36598277 0.53316926 0.42657741 0.25820311]\n",
      "3 \t [0.36930402 0.44412607 0.33556744 0.57127091 0.33582356 0.33857517]\n",
      "3 \t [0.31509471 0.49217022 0.26096508 0.58527862 0.23569396 0.43849552]\n",
      "1 \t [0.2832525  0.51565262 0.1901378  0.57444772 0.19509058 0.49966739]\n",
      "0 \t [0.40480866 0.36983825 0.37360592 0.502834   0.53703455 0.13608858]\n",
      "0 \t [0.41616561 0.38028536 0.38263326 0.50996923 0.50625548 0.13934774]\n",
      "0 \t [0.41625217 0.40052702 0.38753041 0.53006162 0.44051657 0.20276156]\n",
      "0 \t [0.39115963 0.41025669 0.38478539 0.54526903 0.42766588 0.22451585]\n",
      "0 \t [0.39406022 0.41849166 0.31954664 0.55826465 0.43775581 0.25334097]\n",
      "3 \t [0.40778154 0.41850185 0.32534898 0.54607945 0.45331551 0.22140627]\n",
      "0 \t [0.40455585 0.42610189 0.32599219 0.56159422 0.41203773 0.25166976]\n",
      "3 \t [0.36961557 0.44594933 0.35156668 0.57741544 0.32869983 0.31537633]\n",
      "3 \t [0.32810538 0.48629508 0.33814342 0.58165666 0.23164656 0.38670193]\n",
      "2 \t [0.29101422 0.47720864 0.32724553 0.56959707 0.21943252 0.45596223]\n",
      "0 \t [0.41678012 0.3617655  0.38940833 0.47288948 0.56239943 0.06215804]\n",
      "0 \t [0.418104   0.37294743 0.41098432 0.48068618 0.52625463 0.09585408]\n",
      "0 \t [0.39892142 0.38481915 0.42075899 0.51420718 0.47684783 0.15474145]\n",
      "0 \t [0.38312092 0.39626335 0.38197346 0.54684132 0.43512066 0.24884647]\n",
      "0 \t [0.3692757  0.4115804  0.3102542  0.57265087 0.4259161  0.29773447]\n",
      "0 \t [0.4015635  0.4124208  0.3304705  0.5482818  0.46090325 0.2154074 ]\n",
      "3 \t [0.39967525 0.42086998 0.32750149 0.55834106 0.43209475 0.23962537]\n",
      "3 \t [0.35996928 0.43568927 0.34379882 0.57953538 0.34462578 0.32828519]\n",
      "3 \t [0.33951411 0.45131122 0.39052409 0.56838084 0.29407501 0.34496725]\n",
      "3 \t [0.27132278 0.42607289 0.47850077 0.52315134 0.24185712 0.42860315]\n"
     ]
    }
   ],
   "source": [
    "p_vectors = []\n",
    "for i in range(10):\n",
    "    for j in range(10):\n",
    "        if(taggings[i][j] == 0):\n",
    "            p = LVQ.prototype(0, som1.weights[(i,j)], epsilon)\n",
    "            p_vectors.append(p)\n",
    "        elif(taggings[i][j] == 1):\n",
    "            p = LVQ.prototype(1, som1.weights[(i,j)], epsilon)\n",
    "            p_vectors.append(p)\n",
    "        elif(taggings[i][j] == 2):\n",
    "            p = LVQ.prototype(2, som1.weights[(i,j)], epsilon)\n",
    "            p_vectors.append(p)\n",
    "        elif(taggings[i][j] == 3):\n",
    "            p = LVQ.prototype(3, som1.weights[(i,j)], epsilon)\n",
    "            p_vectors.append(p)\n",
    "print(\"class id \\t Initial prototype vector \\n\")\n",
    "for p_v in p_vectors:\n",
    "    print(p_v.class_id, '\\t', p_v.p_vector)"
   ]
  },
  {
   "cell_type": "code",
   "execution_count": 28,
   "metadata": {},
   "outputs": [],
   "source": [
    "# n_neurons only used when p_vectors not initialized\n",
    "lvq1 = LVQ.LVQ(x_train1, y_train1, n_classes=2, n_neurons=0, p_vectors=p_vectors, epsilon=0.9, epsilon_dec_factor=0.001) \n",
    "neurons = lvq1.fit(x_train1, y_train1)"
   ]
  },
  {
   "cell_type": "code",
   "execution_count": 29,
   "metadata": {
    "scrolled": true
   },
   "outputs": [
    {
     "name": "stdout",
     "output_type": "stream",
     "text": [
      "             precision    recall  f1-score   support\n",
      "\n",
      "          0       0.97      0.96      0.97       138\n",
      "          1       0.94      0.82      0.87        55\n",
      "          2       0.47      0.61      0.53        28\n",
      "          3       0.88      0.88      0.88       108\n",
      "\n",
      "avg / total       0.89      0.88      0.89       329\n",
      "\n"
     ]
    }
   ],
   "source": [
    "predicted_y1 = [lvq1.predict(instance) for instance in x_test]\n",
    "\n",
    "from sklearn.metrics import classification_report\n",
    "\n",
    "print (classification_report(y_test, predicted_y1, target_names=['0','1', '2', '3']))"
   ]
  },
  {
   "cell_type": "code",
   "execution_count": 107,
   "metadata": {
    "scrolled": true
   },
   "outputs": [
    {
     "name": "stdout",
     "output_type": "stream",
     "text": [
      "             precision    recall  f1-score   support\n",
      "\n",
      "          0       0.98      0.88      0.93       558\n",
      "          1       0.77      0.91      0.83       165\n",
      "          2       0.62      0.36      0.45       139\n",
      "          3       0.78      0.93      0.85       453\n",
      "\n",
      "avg / total       0.85      0.84      0.84      1315\n",
      "\n"
     ]
    }
   ],
   "source": [
    "data_new = pd.read_csv(r\"../data/SD-3X_rocktype.csv\")\n",
    "x_new = data.iloc[:, 0:6].values\n",
    "y_new = data.iloc[:, 6].values\n",
    "y_new[y_new == 4] = 0\n",
    "x_new = minmax.fit_transform(x_new)\n",
    "predicted_y_new = [lvq1.predict(instance) for instance in x_new]\n",
    "\n",
    "from sklearn.metrics import classification_report\n",
    "\n",
    "print (classification_report(y_new, predicted_y_new, target_names=['0', '1', '2', '3']))"
   ]
  },
  {
   "cell_type": "code",
   "execution_count": 108,
   "metadata": {},
   "outputs": [],
   "source": [
    "# Training the SOM\n",
    "from minisom import MiniSom\n",
    "som2 = MiniSom(x = 10, y = 10, input_len = 6, sigma = 1.0, learning_rate = 0.5)\n",
    "som2.random_weights_init(x_train2)\n",
    "som2.train_random(data = x_train2, num_iteration = 100)"
   ]
  },
  {
   "cell_type": "code",
   "execution_count": 109,
   "metadata": {},
   "outputs": [],
   "source": [
    "labels = np.zeros((4, 10, 10))"
   ]
  },
  {
   "cell_type": "code",
   "execution_count": 110,
   "metadata": {
    "scrolled": false
   },
   "outputs": [
    {
     "data": {
      "image/png": "[encoded data removed]",
      "text/plain": [
       "<Figure size 432x288 with 2 Axes>"
      ]
     },
     "metadata": {},
     "output_type": "display_data"
    }
   ],
   "source": [
    "# Visualizing the results\n",
    "from pylab import bone, pcolor, colorbar, plot, show\n",
    "bone()\n",
    "pcolor(som2.distance_map().T)\n",
    "colorbar()\n",
    "markers = ['1', '2', '3', '4', 's', '8', 'p', '>']\n",
    "colors = ['r', 'g', 'b', 'y', 'w', 'c', 'm', 'k']\n",
    "for i, x in enumerate(x_train2):\n",
    "    w = som2.winner(x)\n",
    "    plot(w[0] + 0.5,\n",
    "         w[1] + 0.5,\n",
    "         markers[y_train2[i]],\n",
    "         markeredgecolor = colors[y_train2[i]],\n",
    "         markerfacecolor = 'None',\n",
    "         markersize = 10,\n",
    "         markeredgewidth = 2)\n",
    "    if y_train2[i] == 0:\n",
    "        labels[0, w[0], w[1]] += 1\n",
    "    elif y_train2[i] == 1:\n",
    "        labels[1, w[0], w[1]] += 1\n",
    "    elif y_train2[i] == 2:\n",
    "        labels[2, w[0], w[1]] += 1\n",
    "    elif y_train2[i] == 3:\n",
    "        labels[3, w[0], w[1]] += 1\n",
    "show()"
   ]
  },
  {
   "cell_type": "code",
   "execution_count": 111,
   "metadata": {},
   "outputs": [
    {
     "name": "stderr",
     "output_type": "stream",
     "text": [
      "C:\\Users\\Thend\\Anaconda3\\lib\\site-packages\\ipykernel_launcher.py:6: RuntimeWarning: divide by zero encountered in double_scalars\n",
      "  \n",
      "C:\\Users\\Thend\\Anaconda3\\lib\\site-packages\\ipykernel_launcher.py:6: RuntimeWarning: invalid value encountered in double_scalars\n",
      "  \n"
     ]
    }
   ],
   "source": [
    "taggings = np.zeros((10, 10))\n",
    "for i in range(10):\n",
    "    for j in range(10):\n",
    "        tmp = np.array([labels[0][i][j], labels[1][i][j], labels[2][i][j], labels[3][i][j]])\n",
    "        sort = tmp.argsort()\n",
    "        if (tmp[sort[3]]/tmp[sort[2]] < 5):\n",
    "            taggings[i][j] = np.random.choice([sort[3], sort[2]])\n",
    "        else:\n",
    "            taggings[i][j] = sort[3]"
   ]
  },
  {
   "cell_type": "code",
   "execution_count": 112,
   "metadata": {
    "scrolled": true
   },
   "outputs": [
    {
     "name": "stdout",
     "output_type": "stream",
     "text": [
      "class id \t Initial prototype vector \n",
      "\n",
      "0 \t [0.08652217 0.10262524 0.94672916 0.1817888  0.09474571 0.20895444]\n",
      "3 \t [0.22177045 0.24893179 0.77892722 0.36540141 0.20228648 0.32815425]\n",
      "3 \t [0.25737496 0.30451594 0.71144315 0.40491235 0.1621626  0.38029738]\n",
      "3 \t [0.37411145 0.41593591 0.47239858 0.51052856 0.2661113  0.36389957]\n",
      "3 \t [0.31638617 0.37477474 0.55063707 0.49676119 0.2362708  0.39197823]\n",
      "3 \t [0.36570515 0.42627715 0.40851276 0.55562169 0.23673508 0.39103184]\n",
      "0 \t [0.39224538 0.35820644 0.55409968 0.49526457 0.31260387 0.26037872]\n",
      "0 \t [0.38807891 0.29605804 0.65882896 0.41623204 0.3562976  0.16580623]\n",
      "0 \t [0.33973089 0.29698478 0.71317745 0.38687932 0.33672335 0.15717083]\n",
      "0 \t [0.35292859 0.35246356 0.61458022 0.45521443 0.36485756 0.18210106]\n",
      "0 \t [0.1606443  0.17474782 0.82935956 0.31629013 0.14991355 0.36511069]\n",
      "3 \t [0.27491293 0.31590971 0.64756995 0.43963913 0.19737325 0.41597876]\n",
      "2 \t [0.32845638 0.37742069 0.49528612 0.47748194 0.18080191 0.49364294]\n",
      "3 \t [0.33903318 0.41202409 0.4313899  0.51729672 0.20513105 0.46853043]\n",
      "3 \t [0.3737764  0.42103244 0.40653136 0.55184311 0.24380625 0.39215155]\n",
      "2 \t [0.35691838 0.42430532 0.4191508  0.56209726 0.21807233 0.39163503]\n",
      "3 \t [0.38096659 0.36126422 0.51040197 0.52131277 0.3158599  0.30382225]\n",
      "0 \t [0.39337979 0.33315108 0.60029821 0.45968039 0.35651028 0.18841211]\n",
      "0 \t [0.38921812 0.33557539 0.61355915 0.43112635 0.40050428 0.11476052]\n",
      "0 \t [0.39387699 0.34727308 0.57556793 0.44951865 0.42118114 0.11628977]\n",
      "3 \t [0.2893327  0.38231179 0.52676127 0.50291102 0.18202684 0.45452566]\n",
      "3 \t [0.27337241 0.31130991 0.64081025 0.45736012 0.1724478  0.42284674]\n",
      "2 \t [0.33735591 0.3725967  0.43818077 0.5294106  0.18769444 0.48975046]\n",
      "2 \t [0.35697569 0.40165351 0.39885909 0.54932795 0.22032146 0.44927886]\n",
      "3 \t [0.36690103 0.39498925 0.36083354 0.5817478  0.28244956 0.40119575]\n",
      "3 \t [0.37289663 0.41048216 0.36795464 0.57796159 0.29887607 0.36564377]\n",
      "3 \t [0.36531139 0.37144298 0.4420576  0.56234637 0.28926891 0.36503814]\n",
      "0 \t [0.37896399 0.3350331  0.58098363 0.46708798 0.39615791 0.17743975]\n",
      "0 \t [0.41808127 0.35476798 0.51601782 0.44498308 0.47711434 0.08617016]\n",
      "0 \t [0.42513471 0.34174432 0.54195081 0.42501963 0.47475741 0.05219517]\n",
      "3 \t [0.3460844  0.37721941 0.39545767 0.542773   0.323778   0.42674303]\n",
      "3 \t [0.33195168 0.38102825 0.3857088  0.54783319 0.24681524 0.48457745]\n",
      "2 \t [0.34401749 0.39302933 0.35122751 0.56919497 0.21506636 0.48330394]\n",
      "2 \t [0.34816037 0.41780842 0.29923195 0.59055858 0.25124684 0.45032911]\n",
      "3 \t [0.31701353 0.4188892  0.32417508 0.58957256 0.26249012 0.44994212]\n",
      "3 \t [0.32944885 0.44299671 0.27203982 0.60120797 0.29451801 0.41595652]\n",
      "3 \t [0.37085948 0.41344401 0.37178999 0.56714163 0.34569226 0.33488316]\n",
      "0 \t [0.41765612 0.36361471 0.4400379  0.51309413 0.45203094 0.17921159]\n",
      "0 \t [0.42526209 0.34825516 0.46842209 0.45693772 0.51433559 0.07154065]\n",
      "0 \t [0.42741456 0.3376284  0.50684201 0.4119435  0.52510139 0.03171923]\n",
      "1 \t [0.1820441  0.29191667 0.57721741 0.43267525 0.15041182 0.58192189]\n",
      "3 \t [0.31277081 0.38815257 0.3400427  0.53281825 0.22223795 0.55008905]\n",
      "3 \t [0.32244231 0.39704479 0.30564649 0.57476427 0.22572263 0.51348023]\n",
      "1 \t [0.28818802 0.44311569 0.16831017 0.6021601  0.24248028 0.52045592]\n",
      "3 \t [0.28870308 0.43974798 0.17986841 0.60845512 0.27528128 0.49489614]\n",
      "3 \t [0.31959805 0.44251697 0.21199366 0.60603152 0.32502119 0.42916375]\n",
      "3 \t [0.37111945 0.42270906 0.32247994 0.57213282 0.38975741 0.31677642]\n",
      "0 \t [0.39989115 0.37455546 0.45072333 0.50468959 0.45623291 0.18380343]\n",
      "0 \t [0.41347715 0.36697658 0.42894135 0.49883183 0.49157706 0.14104238]\n",
      "0 \t [0.41368533 0.36732855 0.45167998 0.46515432 0.51004845 0.11576451]\n",
      "3 \t [0.29056993 0.39351705 0.32052173 0.49431772 0.20554331 0.60941054]\n",
      "2 \t [0.30724109 0.39530349 0.2984453  0.51264188 0.22429243 0.58920258]\n",
      "2 \t [0.27417672 0.42483445 0.19015409 0.56941637 0.21612183 0.58072419]\n",
      "3 \t [0.24210377 0.43862933 0.10937057 0.59420461 0.176162   0.59406732]\n",
      "3 \t [0.2623318  0.43826519 0.12217836 0.60393273 0.23302431 0.55239753]\n",
      "0 \t [0.31542085 0.43816731 0.18565393 0.60738112 0.33201564 0.44148104]\n",
      "3 \t [0.35592275 0.42809947 0.26594004 0.59036847 0.38279625 0.35250223]\n",
      "3 \t [0.3842262  0.39965903 0.3678864  0.55176807 0.43154688 0.25811193]\n",
      "0 \t [0.40754009 0.3835057  0.37528392 0.52394632 0.49336832 0.16752429]\n",
      "0 \t [0.39226563 0.40006243 0.36183435 0.53391048 0.47353639 0.21414136]\n",
      "3 \t [0.33957438 0.43690356 0.39986675 0.47919218 0.28956422 0.46950881]\n",
      "3 \t [0.32521371 0.43166236 0.34604333 0.5014034  0.23631944 0.5300051 ]\n",
      "2 \t [0.24439821 0.40288666 0.18522283 0.56203321 0.1758427  0.62995426]\n",
      "1 \t [0.19976786 0.39682559 0.12885189 0.58500281 0.12903094 0.65356114]\n",
      "3 \t [0.2488518  0.41441027 0.14863963 0.59654222 0.20917784 0.58704785]\n",
      "3 \t [0.33707297 0.4358557  0.22962865 0.59569337 0.36142854 0.39774505]\n",
      "0 \t [0.36378174 0.42690642 0.27441095 0.57924556 0.42025237 0.31300944]\n",
      "3 \t [0.37642626 0.41385118 0.31400209 0.56953547 0.41084144 0.30866132]\n",
      "3 \t [0.39751831 0.4192727  0.34591348 0.55758696 0.41676343 0.24887443]\n",
      "3 \t [0.37785709 0.42032633 0.34951901 0.55814553 0.40958011 0.28125426]\n",
      "3 \t [0.20707252 0.33124782 0.64404394 0.42628685 0.16393315 0.47329557]\n",
      "2 \t [0.30196133 0.43069989 0.35538926 0.50776013 0.21525319 0.54116647]\n",
      "3 \t [0.27874355 0.38016302 0.32248997 0.54104461 0.20502418 0.58224921]\n",
      "1 \t [0.22160816 0.37628186 0.25802755 0.56867737 0.16604045 0.62590749]\n",
      "2 \t [0.30263565 0.42430753 0.25098301 0.58587083 0.26553849 0.50162436]\n",
      "3 \t [0.35549793 0.44931808 0.293747   0.58208587 0.35377504 0.34852037]\n",
      "0 \t [0.37733921 0.43703982 0.32347128 0.56873265 0.39532826 0.28676886]\n",
      "3 \t [0.37269193 0.40743129 0.46286598 0.52888456 0.36119501 0.2658474 ]\n",
      "0 \t [0.39575084 0.45274631 0.38969714 0.5313843  0.38627072 0.2344437 ]\n",
      "3 \t [0.39496094 0.44727214 0.33022727 0.56820693 0.36784608 0.2770083 ]\n",
      "2 \t [0.27310733 0.4317493  0.40928258 0.54071679 0.18219179 0.49590745]\n",
      "3 \t [0.13389904 0.28084832 0.71292217 0.39352826 0.11914809 0.47526465]\n",
      "2 \t [0.25506948 0.39070256 0.38354804 0.55720183 0.24071369 0.51649299]\n",
      "3 \t [0.32736661 0.39327381 0.38525446 0.57090765 0.28237834 0.429037  ]\n",
      "3 \t [0.33716006 0.39275268 0.46882479 0.53961438 0.33908005 0.32574956]\n",
      "3 \t [0.35474508 0.46342998 0.37334512 0.55295698 0.35325673 0.29908236]\n",
      "3 \t [0.37533496 0.45608189 0.36396972 0.55570245 0.3682885  0.272392  ]\n",
      "3 \t [0.39529777 0.45979285 0.36321828 0.55705599 0.34410333 0.26773907]\n",
      "3 \t [0.39610203 0.45670531 0.37087059 0.55098939 0.3550056  0.25953836]\n",
      "3 \t [0.3658619  0.46957297 0.32717933 0.5730884  0.28724595 0.35729461]\n",
      "3 \t [0.33942049 0.42499365 0.49725378 0.51939264 0.28700168 0.32368831]\n",
      "3 \t [0.28190009 0.37505456 0.51974516 0.52209245 0.31162542 0.37421979]\n",
      "3 \t [0.30209773 0.43129034 0.42453984 0.5514153  0.23069485 0.43036331]\n",
      "0 \t [0.35119581 0.42657156 0.43773479 0.52453849 0.36433533 0.30855405]\n",
      "0 \t [0.38775931 0.3622781  0.45267441 0.53701096 0.40528332 0.24667356]\n",
      "3 \t [0.37794798 0.40710642 0.42159452 0.54046415 0.40103513 0.2464692 ]\n",
      "3 \t [0.37471326 0.44465082 0.38448805 0.55360555 0.35254829 0.28857434]\n",
      "3 \t [0.40448386 0.44058344 0.40206946 0.53854962 0.37315996 0.22657259]\n",
      "3 \t [0.39760581 0.46170017 0.38844615 0.54328239 0.34137821 0.25721068]\n",
      "3 \t [0.35502106 0.44769614 0.40114466 0.53940066 0.31710163 0.34800096]\n"
     ]
    }
   ],
   "source": [
    "p_vectors = []\n",
    "for i in range(10):\n",
    "    for j in range(10):\n",
    "        if(taggings[i][j] == 0):\n",
    "            p = LVQ.prototype(0, som2.weights[(i,j)], epsilon)\n",
    "            p_vectors.append(p)\n",
    "        elif(taggings[i][j] == 1):\n",
    "            p = LVQ.prototype(1, som2.weights[(i,j)], epsilon)\n",
    "            p_vectors.append(p)\n",
    "        elif(taggings[i][j] == 2):\n",
    "            p = LVQ.prototype(2, som2.weights[(i,j)], epsilon)\n",
    "            p_vectors.append(p)\n",
    "        elif(taggings[i][j] == 3):\n",
    "            p = LVQ.prototype(3, som2.weights[(i,j)], epsilon)\n",
    "            p_vectors.append(p)\n",
    "print(\"class id \\t Initial prototype vector \\n\")\n",
    "for p_v in p_vectors:\n",
    "    print(p_v.class_id, '\\t', p_v.p_vector)"
   ]
  },
  {
   "cell_type": "code",
   "execution_count": 113,
   "metadata": {},
   "outputs": [],
   "source": [
    "lvq2 = LVQ.LVQ(x_train2, y_train2, n_classes=2, n_neurons=25, p_vectors=p_vectors, epsilon=0.9, epsilon_dec_factor=0.001)\n",
    "neurons = lvq2.fit(x_train2, y_train2)"
   ]
  },
  {
   "cell_type": "code",
   "execution_count": 114,
   "metadata": {
    "scrolled": true
   },
   "outputs": [
    {
     "name": "stdout",
     "output_type": "stream",
     "text": [
      "             precision    recall  f1-score   support\n",
      "\n",
      "          0       0.99      0.88      0.93       558\n",
      "          1       0.94      0.71      0.81       165\n",
      "          2       0.61      0.45      0.52       139\n",
      "          3       0.74      0.97      0.84       453\n",
      "\n",
      "avg / total       0.86      0.84      0.84      1315\n",
      "\n"
     ]
    }
   ],
   "source": [
    "predicted_y2 = [lvq2.predict(instance) for instance in x_new]\n",
    "\n",
    "from sklearn.metrics import classification_report\n",
    "\n",
    "print (classification_report(y_new, predicted_y2, target_names=['0','1', '2', '3']))"
   ]
  },
  {
   "cell_type": "code",
   "execution_count": 115,
   "metadata": {},
   "outputs": [],
   "source": [
    "# Training the SOM\n",
    "from minisom import MiniSom\n",
    "som3 = MiniSom(x = 10, y = 10, input_len = 6, sigma = 1.0, learning_rate = 0.5)\n",
    "som3.random_weights_init(x_train3)\n",
    "som3.train_random(data = x_train3, num_iteration = 100)"
   ]
  },
  {
   "cell_type": "code",
   "execution_count": 116,
   "metadata": {},
   "outputs": [],
   "source": [
    "labels = np.zeros((4, 10, 10))"
   ]
  },
  {
   "cell_type": "code",
   "execution_count": 117,
   "metadata": {
    "scrolled": false
   },
   "outputs": [
    {
     "data": {
      "image/png": "[encoded data removed]",
      "text/plain": [
       "<Figure size 432x288 with 2 Axes>"
      ]
     },
     "metadata": {},
     "output_type": "display_data"
    }
   ],
   "source": [
    "# Visualizing the results\n",
    "from pylab import bone, pcolor, colorbar, plot, show\n",
    "bone()\n",
    "pcolor(som3.distance_map().T)\n",
    "colorbar()\n",
    "markers = ['1', '2', '3', '4', 's', '8', 'p', '>']\n",
    "colors = ['r', 'g', 'b', 'y', 'w', 'c', 'm', 'k']\n",
    "for i, x in enumerate(x_train3):\n",
    "    w = som3.winner(x)\n",
    "    plot(w[0] + 0.5,\n",
    "         w[1] + 0.5,\n",
    "         markers[y_train[i]],\n",
    "         markeredgecolor = colors[y_train3[i]],\n",
    "         markerfacecolor = 'None',\n",
    "         markersize = 10,\n",
    "         markeredgewidth = 2)\n",
    "    if y_train3[i] == 0:\n",
    "        labels[0, w[0], w[1]] += 1\n",
    "    elif y_train3[i] == 1:\n",
    "        labels[1, w[0], w[1]] += 1\n",
    "    elif y_train3[i] == 2:\n",
    "        labels[2, w[0], w[1]] += 1\n",
    "    elif y_train3[i] == 3:\n",
    "        labels[3, w[0], w[1]] += 1\n",
    "show()"
   ]
  },
  {
   "cell_type": "code",
   "execution_count": 118,
   "metadata": {},
   "outputs": [
    {
     "name": "stderr",
     "output_type": "stream",
     "text": [
      "C:\\Users\\Thend\\Anaconda3\\lib\\site-packages\\ipykernel_launcher.py:6: RuntimeWarning: divide by zero encountered in double_scalars\n",
      "  \n",
      "C:\\Users\\Thend\\Anaconda3\\lib\\site-packages\\ipykernel_launcher.py:6: RuntimeWarning: invalid value encountered in double_scalars\n",
      "  \n"
     ]
    }
   ],
   "source": [
    "taggings = np.zeros((10, 10))\n",
    "for i in range(10):\n",
    "    for j in range(10):\n",
    "        tmp = np.array([labels[0][i][j], labels[1][i][j], labels[2][i][j], labels[3][i][j]])\n",
    "        sort = tmp.argsort()\n",
    "        if (tmp[sort[3]]/tmp[sort[2]] < 5):\n",
    "            taggings[i][j] = np.random.choice([sort[3], sort[2]])\n",
    "        else:\n",
    "            taggings[i][j] = sort[3]"
   ]
  },
  {
   "cell_type": "code",
   "execution_count": 119,
   "metadata": {},
   "outputs": [
    {
     "data": {
      "text/plain": [
       "array([[0., 0., 3., 3., 3., 0., 3., 3., 0., 3.],\n",
       "       [3., 3., 0., 0., 3., 3., 0., 0., 0., 0.],\n",
       "       [0., 3., 3., 3., 3., 3., 0., 0., 0., 0.],\n",
       "       [3., 3., 3., 3., 2., 3., 3., 0., 0., 0.],\n",
       "       [3., 3., 3., 3., 3., 3., 3., 0., 0., 0.],\n",
       "       [3., 3., 3., 2., 3., 3., 0., 0., 0., 0.],\n",
       "       [3., 3., 3., 3., 3., 3., 3., 0., 0., 0.],\n",
       "       [2., 2., 3., 3., 3., 3., 0., 0., 0., 0.],\n",
       "       [3., 3., 3., 3., 3., 3., 3., 3., 3., 3.],\n",
       "       [2., 2., 2., 3., 3., 3., 2., 2., 1., 2.]])"
      ]
     },
     "execution_count": 119,
     "metadata": {},
     "output_type": "execute_result"
    }
   ],
   "source": [
    "taggings"
   ]
  },
  {
   "cell_type": "code",
   "execution_count": 120,
   "metadata": {
    "scrolled": true
   },
   "outputs": [
    {
     "name": "stdout",
     "output_type": "stream",
     "text": [
      "class id \t Initial prototype vector \n",
      "\n",
      "0 \t [0.13733946 0.12885953 0.93435128 0.19261516 0.12466811 0.19717515]\n",
      "0 \t [0.27256893 0.24682736 0.80103718 0.34469355 0.22170806 0.23484838]\n",
      "3 \t [0.34841396 0.37410901 0.5199368  0.52360572 0.30086907 0.32191729]\n",
      "3 \t [0.38081872 0.4121772  0.42313827 0.53838313 0.39096105 0.25166272]\n",
      "3 \t [0.34112661 0.39414478 0.4204493  0.56786638 0.31829895 0.35737721]\n",
      "0 \t [0.39175194 0.35068808 0.46888465 0.53776078 0.37515887 0.27159646]\n",
      "3 \t [0.39031878 0.39367163 0.40008488 0.55852205 0.39068877 0.26080911]\n",
      "3 \t [0.3510334  0.40183637 0.42360205 0.5387454  0.38940444 0.30656478]\n",
      "0 \t [0.37706076 0.44868065 0.33877055 0.54336201 0.41461495 0.27312549]\n",
      "3 \t [0.41424298 0.4044858  0.40119032 0.51932439 0.45121914 0.17476779]\n",
      "3 \t [0.22357739 0.2671586  0.78281756 0.36714913 0.18055538 0.31374731]\n",
      "3 \t [0.29841458 0.31656876 0.70627959 0.42526887 0.24729055 0.26437826]\n",
      "0 \t [0.37195067 0.37953022 0.53079516 0.52195329 0.30167612 0.26911389]\n",
      "0 \t [0.40105598 0.41513295 0.46951801 0.51988884 0.36032783 0.21506052]\n",
      "3 \t [0.3800859  0.40662629 0.4267913  0.55592441 0.35196804 0.27405383]\n",
      "3 \t [0.34735433 0.35949879 0.47916496 0.54811425 0.3573542  0.30393302]\n",
      "0 \t [0.397729   0.38419182 0.45011995 0.51921558 0.42847387 0.1960246 ]\n",
      "0 \t [0.41285719 0.37983891 0.4548718  0.48534479 0.47625856 0.12641678]\n",
      "0 \t [0.41069438 0.38991219 0.4873327  0.47074646 0.45207491 0.12582332]\n",
      "0 \t [0.42527576 0.41071277 0.44154655 0.50006056 0.42548524 0.15618559]\n",
      "0 \t [0.33513669 0.32057405 0.63493892 0.45166627 0.34135147 0.24747725]\n",
      "3 \t [0.33212722 0.36089737 0.55955299 0.51084329 0.26346499 0.34054424]\n",
      "3 \t [0.37283035 0.4022728  0.47897111 0.53844583 0.32063357 0.27754459]\n",
      "3 \t [0.38187461 0.40265085 0.46313709 0.54755279 0.33657892 0.25386747]\n",
      "3 \t [0.35682007 0.39948729 0.42937505 0.57498709 0.31206973 0.31737793]\n",
      "3 \t [0.35999137 0.39075895 0.41095881 0.56931428 0.36470158 0.30282093]\n",
      "0 \t [0.40529756 0.37780593 0.46257711 0.49780954 0.44952408 0.17068318]\n",
      "0 \t [0.42549816 0.36686908 0.47168713 0.47050336 0.48231804 0.08868794]\n",
      "0 \t [0.43377879 0.37068603 0.48796839 0.44726974 0.48349329 0.04998688]\n",
      "0 \t [0.41497488 0.37298919 0.50987376 0.44661449 0.47023304 0.09011133]\n",
      "3 \t [0.40202164 0.34262681 0.57127363 0.45838572 0.33053189 0.27434123]\n",
      "3 \t [0.34682316 0.36501062 0.57332342 0.48078452 0.28122215 0.32793527]\n",
      "3 \t [0.37576348 0.39328869 0.4827918  0.54057742 0.28283334 0.31435527]\n",
      "3 \t [0.36292057 0.39232803 0.47939366 0.55445112 0.29873297 0.2964653 ]\n",
      "2 \t [0.32567828 0.41355219 0.42141811 0.59025461 0.26972533 0.35236735]\n",
      "3 \t [0.32287871 0.3743603  0.51611549 0.53132626 0.3344874  0.30828412]\n",
      "3 \t [0.40245022 0.38588977 0.42558139 0.50122604 0.48319983 0.15262293]\n",
      "0 \t [0.4244971  0.35603317 0.44683877 0.46313904 0.52429339 0.06321686]\n",
      "0 \t [0.42777218 0.35159141 0.45487382 0.44640272 0.5345543  0.03821726]\n",
      "0 \t [0.42172408 0.35874504 0.46160143 0.43947196 0.53351344 0.05101692]\n",
      "3 \t [0.40940404 0.37054294 0.49928592 0.48865569 0.36668134 0.26937009]\n",
      "3 \t [0.31081739 0.35221929 0.59399151 0.45741086 0.24029843 0.39942481]\n",
      "3 \t [0.3165211  0.36034518 0.58910542 0.47926373 0.24969191 0.36177446]\n",
      "3 \t [0.30429387 0.37805615 0.4972495  0.53866692 0.24914985 0.40618224]\n",
      "3 \t [0.32642286 0.39939781 0.44986156 0.55807446 0.26425084 0.38765769]\n",
      "3 \t [0.35640143 0.41140119 0.4147092  0.56103572 0.34770219 0.30997656]\n",
      "3 \t [0.40944442 0.38899516 0.41126589 0.50720605 0.48191156 0.1496719 ]\n",
      "0 \t [0.42480587 0.35516548 0.41660119 0.47630325 0.53659554 0.07100238]\n",
      "0 \t [0.42155385 0.33780257 0.41339085 0.46082209 0.56800492 0.04799161]\n",
      "0 \t [0.41598269 0.36740841 0.42286415 0.45956766 0.54273011 0.0860056 ]\n",
      "3 \t [0.34964306 0.4037009  0.4453772  0.50266147 0.26997514 0.43687451]\n",
      "3 \t [0.34962875 0.39494649 0.45849488 0.48958841 0.2863641  0.43572726]\n",
      "3 \t [0.34133758 0.38609553 0.48867205 0.48322808 0.29766404 0.41653963]\n",
      "2 \t [0.32223679 0.41161349 0.41126712 0.54456186 0.25938464 0.44019214]\n",
      "3 \t [0.34287742 0.43522341 0.38788688 0.56282824 0.29281078 0.37422675]\n",
      "3 \t [0.36117312 0.43352354 0.37928987 0.56259948 0.3260817  0.33897353]\n",
      "0 \t [0.40433639 0.42954093 0.38137857 0.5307404  0.42098107 0.21828108]\n",
      "0 \t [0.4218781  0.3885795  0.40070054 0.50135009 0.495028   0.11857187]\n",
      "0 \t [0.42054022 0.37602085 0.39704577 0.48227194 0.53082374 0.09873619]\n",
      "0 \t [0.4148574  0.406449   0.37119551 0.51261604 0.48163147 0.17367314]\n",
      "3 \t [0.33392613 0.39130001 0.43753642 0.50904217 0.24140476 0.47596148]\n",
      "3 \t [0.327366   0.4019571  0.43892622 0.48505013 0.21446257 0.50728488]\n",
      "3 \t [0.34092343 0.40745973 0.45001773 0.49136798 0.26086955 0.45358176]\n",
      "3 \t [0.29759699 0.39942752 0.46985929 0.51486562 0.25103844 0.45057633]\n",
      "3 \t [0.31520964 0.41959318 0.43829895 0.54320985 0.28167972 0.39756519]\n",
      "3 \t [0.38142276 0.45027929 0.33874543 0.56577944 0.33907306 0.31928022]\n",
      "3 \t [0.39949059 0.44466673 0.34154601 0.55259103 0.38801858 0.26478259]\n",
      "0 \t [0.41109447 0.40145212 0.3484456  0.52489919 0.49460379 0.16814019]\n",
      "0 \t [0.39506836 0.38760795 0.3240818  0.53072581 0.52550229 0.17558335]\n",
      "0 \t [0.39237827 0.41446097 0.32018352 0.53385746 0.49442913 0.2056209 ]\n",
      "2 \t [0.27907101 0.38602982 0.39444677 0.53270231 0.18207742 0.54825921]\n",
      "2 \t [0.2856799  0.38300796 0.46711486 0.49762655 0.19515541 0.51747251]\n",
      "3 \t [0.333069   0.42765707 0.40855832 0.50627187 0.27174976 0.45726954]\n",
      "3 \t [0.33745445 0.45512568 0.36156468 0.53715717 0.2923271  0.41744837]\n",
      "3 \t [0.34966473 0.44756606 0.34638009 0.56027955 0.33051994 0.36644703]\n",
      "3 \t [0.35104411 0.43789696 0.35402092 0.56849198 0.32761737 0.35939838]\n",
      "0 \t [0.37234842 0.44998385 0.28631084 0.58837198 0.33987172 0.33941556]\n",
      "0 \t [0.38355309 0.4196003  0.28531836 0.57605461 0.43140329 0.27833134]\n",
      "0 \t [0.36577941 0.4036087  0.26209308 0.58073736 0.46162176 0.2902794 ]\n",
      "0 \t [0.40543924 0.38045063 0.38723137 0.5292152  0.44323479 0.25377626]\n",
      "3 \t [0.22847422 0.3390463  0.49479399 0.50188186 0.19061234 0.54754688]\n",
      "3 \t [0.25485304 0.39159885 0.42321726 0.515379   0.19584937 0.5464567 ]\n",
      "3 \t [0.30571313 0.48492716 0.33799903 0.50317645 0.256698   0.48791535]\n",
      "3 \t [0.30858822 0.54618702 0.29861994 0.51048232 0.28382238 0.41968064]\n",
      "3 \t [0.32149657 0.50348649 0.29899226 0.54865225 0.30949772 0.3961525 ]\n",
      "3 \t [0.3420334  0.46254986 0.33658301 0.5724283  0.31059129 0.36281062]\n",
      "3 \t [0.35873576 0.46755264 0.27284215 0.59568026 0.27747074 0.38266873]\n",
      "3 \t [0.32510531 0.45572178 0.22570239 0.60574421 0.25248213 0.45277958]\n",
      "3 \t [0.30779399 0.42864773 0.23577481 0.60477229 0.29631558 0.46084898]\n",
      "3 \t [0.37017097 0.41758761 0.32410497 0.57819897 0.37662028 0.3277089 ]\n",
      "2 \t [0.14668011 0.26111973 0.59033493 0.43610333 0.15028407 0.59079157]\n",
      "2 \t [0.18616839 0.33789085 0.51274764 0.48344521 0.17979514 0.56764021]\n",
      "2 \t [0.29464816 0.54056278 0.33299322 0.50368852 0.26694336 0.43026617]\n",
      "3 \t [0.28739799 0.6019667  0.27584538 0.48580205 0.26346554 0.41656942]\n",
      "3 \t [0.30459153 0.54982777 0.26670924 0.5317546  0.29913276 0.40191572]\n",
      "3 \t [0.34252593 0.47939166 0.27911632 0.57564819 0.32685211 0.369798  ]\n",
      "2 \t [0.34705119 0.47628815 0.24823638 0.59170732 0.25587018 0.41892323]\n",
      "2 \t [0.29721289 0.45932905 0.20017509 0.60114453 0.19418439 0.51139899]\n",
      "1 \t [0.22202217 0.41185551 0.15353307 0.59904871 0.14621019 0.61422473]\n",
      "2 \t [0.31309061 0.39283252 0.34397671 0.56601778 0.23396016 0.50420573]\n"
     ]
    }
   ],
   "source": [
    "p_vectors = []\n",
    "for i in range(10):\n",
    "    for j in range(10):\n",
    "        if(taggings[i][j] == 0):\n",
    "            p = LVQ.prototype(0, som3.weights[(i,j)], epsilon)\n",
    "            p_vectors.append(p)\n",
    "        elif(taggings[i][j] == 1):\n",
    "            p = LVQ.prototype(1, som3.weights[(i,j)], epsilon)\n",
    "            p_vectors.append(p)\n",
    "        elif(taggings[i][j] == 2):\n",
    "            p = LVQ.prototype(2, som3.weights[(i,j)], epsilon)\n",
    "            p_vectors.append(p)\n",
    "        elif(taggings[i][j] == 3):\n",
    "            p = LVQ.prototype(3, som3.weights[(i,j)], epsilon)\n",
    "            p_vectors.append(p)\n",
    "print(\"class id \\t Initial prototype vector \\n\")\n",
    "for p_v in p_vectors:\n",
    "    print(p_v.class_id, '\\t', p_v.p_vector)"
   ]
  },
  {
   "cell_type": "code",
   "execution_count": 121,
   "metadata": {},
   "outputs": [],
   "source": [
    "lvq3 = LVQ.LVQ(x_train3, y_train3, n_classes=2, n_neurons=25, p_vectors=p_vectors, epsilon=0.9, epsilon_dec_factor=0.001)\n",
    "neurons = lvq3.fit(x_train3, y_train3)"
   ]
  },
  {
   "cell_type": "code",
   "execution_count": 122,
   "metadata": {
    "scrolled": true
   },
   "outputs": [
    {
     "name": "stdout",
     "output_type": "stream",
     "text": [
      "             precision    recall  f1-score   support\n",
      "\n",
      "          0       0.98      0.89      0.93       558\n",
      "          1       0.96      0.64      0.77       165\n",
      "          2       0.48      0.27      0.35       139\n",
      "          3       0.69      0.94      0.80       453\n",
      "\n",
      "avg / total       0.83      0.81      0.80      1315\n",
      "\n"
     ]
    }
   ],
   "source": [
    "predicted_y3 = [lvq3.predict(instance) for instance in x_new]\n",
    "\n",
    "from sklearn.metrics import classification_report\n",
    "\n",
    "print (classification_report(y_new, predicted_y3, target_names=['0','1', '2', '3']))"
   ]
  },
  {
   "cell_type": "code",
   "execution_count": 123,
   "metadata": {},
   "outputs": [],
   "source": [
    "ensemble = [np.asarray(predicted_y_new), np.asarray(predicted_y2), np.asarray(predicted_y3)]"
   ]
  },
  {
   "cell_type": "code",
   "execution_count": 124,
   "metadata": {},
   "outputs": [
    {
     "data": {
      "text/plain": [
       "1315"
      ]
     },
     "execution_count": 124,
     "metadata": {},
     "output_type": "execute_result"
    }
   ],
   "source": [
    "len(ensemble[0])"
   ]
  },
  {
   "cell_type": "code",
   "execution_count": 125,
   "metadata": {},
   "outputs": [],
   "source": [
    "predict = [np.bincount([ensemble[j][i] for j in range(3)]).argmax() for i in range(len(ensemble[1]))]"
   ]
  },
  {
   "cell_type": "code",
   "execution_count": 126,
   "metadata": {
    "scrolled": false
   },
   "outputs": [
    {
     "name": "stdout",
     "output_type": "stream",
     "text": [
      "             precision    recall  f1-score   support\n",
      "\n",
      "          0       0.99      0.88      0.93       558\n",
      "          1       0.89      0.78      0.83       165\n",
      "          2       0.65      0.40      0.49       139\n",
      "          3       0.74      0.97      0.84       453\n",
      "\n",
      "avg / total       0.86      0.85      0.84      1315\n",
      "\n"
     ]
    }
   ],
   "source": [
    "print (classification_report(y_new, predict, target_names=['0','1', '2', '3']))"
   ]
  },
  {
   "cell_type": "code",
   "execution_count": 127,
   "metadata": {},
   "outputs": [
    {
     "name": "stdout",
     "output_type": "stream",
     "text": [
      "# of 0:  420\n",
      "# of 1:  110\n",
      "# of 2:  111\n",
      "# of 3:  345\n"
     ]
    }
   ],
   "source": [
    "for i in range(0,4):\n",
    "    print(\"# of \" + str(i) +  \": \", len(y_train[y_train==i]))"
   ]
  }
 ],
 "metadata": {
  "kernelspec": {
   "display_name": "Python 3",
   "language": "python",
   "name": "python3"
  },
  "language_info": {
   "codemirror_mode": {
    "name": "ipython",
    "version": 3
   },
   "file_extension": ".py",
   "mimetype": "text/x-python",
   "name": "python",
   "nbconvert_exporter": "python",
   "pygments_lexer": "ipython3",
   "version": "3.6.5"
  }
 },
 "nbformat": 4,
 "nbformat_minor": 2
}
