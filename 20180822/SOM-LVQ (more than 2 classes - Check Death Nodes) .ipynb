{
 "cells": [
  {
   "cell_type": "code",
   "execution_count": 16,
   "metadata": {},
   "outputs": [],
   "source": [
    "import numpy as np\n",
    "from sklearn.metrics import euclidean_distances\n",
    "import pandas as pd\n",
    "import minisom\n",
    "import LVQ"
   ]
  },
  {
   "cell_type": "code",
   "execution_count": 17,
   "metadata": {},
   "outputs": [],
   "source": [
    "data = pd.read_csv(r\"../data/SD-2X_rocktype.csv\")\n",
    "x = data.iloc[:, 0:6].values\n",
    "y = data.iloc[:, 6].values\n",
    "y[y==4] = 0\n",
    "from sklearn.cross_validation import train_test_split\n",
    "x_train, x_test, y_train, y_test = train_test_split(x, y, test_size=0.1, random_state=44)\n",
    "\n",
    "# use Minmaxscaler because we use euclidean distance\n",
    "from sklearn.preprocessing import MinMaxScaler\n",
    "minmax = MinMaxScaler()\n",
    "x_train[:, 0:6] = minmax.fit_transform(x_train)\n",
    "x_test[:, 0:6]  = minmax.transform(x_test)"
   ]
  },
  {
   "cell_type": "code",
   "execution_count": 18,
   "metadata": {},
   "outputs": [],
   "source": [
    "# Training the SOM\n",
    "from minisom import MiniSom\n",
    "som = MiniSom(x = 10, y = 10, input_len = 6, sigma = 1.0, learning_rate = 0.5)\n",
    "som.random_weights_init(x_train)\n",
    "som.train_random(data = x_train, num_iteration = 100)"
   ]
  },
  {
   "cell_type": "code",
   "execution_count": 19,
   "metadata": {
    "scrolled": true
   },
   "outputs": [
    {
     "data": {
      "text/plain": [
       "array([0, 1, 2, 3], dtype=int64)"
      ]
     },
     "execution_count": 19,
     "metadata": {},
     "output_type": "execute_result"
    }
   ],
   "source": [
    "np.unique(y)"
   ]
  },
  {
   "cell_type": "code",
   "execution_count": 49,
   "metadata": {
    "scrolled": true
   },
   "outputs": [],
   "source": [
    "labels = np.zeros((4, 10, 10))"
   ]
  },
  {
   "cell_type": "code",
   "execution_count": 50,
   "metadata": {
    "scrolled": false
   },
   "outputs": [
    {
     "data": {
      "image/png": "[encoded data removed]",
      "text/plain": [
       "<Figure size 432x288 with 2 Axes>"
      ]
     },
     "metadata": {},
     "output_type": "display_data"
    }
   ],
   "source": [
    "# Visualizing the results\n",
    "from pylab import bone, pcolor, colorbar, plot, show\n",
    "bone()\n",
    "pcolor(som.distance_map().T)\n",
    "colorbar()\n",
    "markers = ['v', 's', 'o', '4']\n",
    "colors = ['r', 'g', 'b', 'y']\n",
    "for i, x in enumerate(x_train):\n",
    "    w = som.winner(x)\n",
    "    plot(w[0] + 0.5,\n",
    "         w[1] + 0.5,\n",
    "         markers[y_train[i]],\n",
    "         markeredgecolor = colors[y_train[i]],\n",
    "         markerfacecolor = 'None',\n",
    "         markersize = 10,\n",
    "         markeredgewidth = 2)\n",
    "    if y_train[i] == 0:\n",
    "        labels[0, w[0], w[1]] += 1\n",
    "    elif y_train[i] == 1:\n",
    "        labels[1, w[0], w[1]] += 1\n",
    "    elif y_train[i] == 2:\n",
    "        labels[2, w[0], w[1]] += 1\n",
    "    elif y_train[i] == 3:\n",
    "        labels[3, w[0], w[1]] += 1\n",
    "show()"
   ]
  },
  {
   "cell_type": "code",
   "execution_count": 53,
   "metadata": {},
   "outputs": [],
   "source": [
    "for i in range(4):\n",
    "    for j in range(10):\n",
    "        for k in range(10):\n",
    "            total = labels[0, j, k] + labels[1, j, k] + labels[2, j, k] + labels[3, j, k]\n",
    "            if total == 0. :\n",
    "                continue\n",
    "            else:\n",
    "                labels[i, j, k] = labels[i, j, k] / total\n",
    "                labels[i, j, k] = round(labels[i, j, k], 3)\n",
    "                \n",
    "#                 Đang có vấn đề tính xác suất"
   ]
  },
  {
   "cell_type": "code",
   "execution_count": 52,
   "metadata": {},
   "outputs": [
    {
     "data": {
      "text/plain": [
       "(4, 10, 10)"
      ]
     },
     "execution_count": 52,
     "metadata": {},
     "output_type": "execute_result"
    }
   ],
   "source": [
    "labels.shape"
   ]
  },
  {
   "cell_type": "code",
   "execution_count": 54,
   "metadata": {
    "scrolled": true
   },
   "outputs": [
    {
     "data": {
      "text/plain": [
       "array([[[0.019, 0.   , 0.   , 0.   , 0.8  , 0.   , 0.   , 0.045, 0.   ,\n",
       "         0.   ],\n",
       "        [0.   , 0.   , 0.   , 0.   , 0.4  , 0.2  , 0.   , 0.   , 0.   ,\n",
       "         0.   ],\n",
       "        [0.   , 0.   , 0.2  , 1.   , 1.   , 1.   , 0.   , 0.   , 0.   ,\n",
       "         0.   ],\n",
       "        [0.5  , 0.2  , 1.   , 1.   , 1.   , 1.   , 1.   , 0.   , 0.   ,\n",
       "         0.   ],\n",
       "        [1.   , 1.   , 1.   , 1.   , 0.75 , 1.   , 0.5  , 0.091, 0.   ,\n",
       "         0.   ],\n",
       "        [1.   , 0.   , 1.   , 1.   , 0.   , 1.   , 1.   , 1.   , 0.   ,\n",
       "         0.   ],\n",
       "        [1.   , 1.   , 0.   , 1.   , 1.   , 1.   , 1.   , 1.   , 1.   ,\n",
       "         0.   ],\n",
       "        [1.   , 1.   , 0.556, 1.   , 1.   , 1.   , 1.   , 1.   , 1.   ,\n",
       "         0.966],\n",
       "        [0.091, 0.   , 0.   , 0.143, 0.286, 1.   , 1.   , 1.   , 1.   ,\n",
       "         0.8  ],\n",
       "        [0.875, 0.125, 0.   , 0.   , 1.   , 1.   , 1.   , 1.   , 1.   ,\n",
       "         1.   ]],\n",
       "\n",
       "       [[0.   , 0.   , 0.   , 0.   , 0.   , 0.   , 0.   , 0.   , 0.804,\n",
       "         0.857],\n",
       "        [0.   , 0.375, 0.   , 0.   , 0.   , 0.   , 0.   , 0.25 , 0.444,\n",
       "         0.875],\n",
       "        [0.   , 0.   , 0.   , 0.   , 0.   , 0.   , 0.   , 0.   , 0.   ,\n",
       "         0.1  ],\n",
       "        [0.   , 0.   , 0.   , 0.   , 0.   , 0.   , 0.   , 0.   , 0.   ,\n",
       "         0.   ],\n",
       "        [0.   , 0.   , 0.   , 0.   , 0.   , 0.   , 0.   , 0.   , 0.   ,\n",
       "         0.   ],\n",
       "        [0.   , 0.   , 0.   , 0.   , 0.   , 0.   , 0.   , 0.   , 0.   ,\n",
       "         0.   ],\n",
       "        [0.   , 0.   , 0.   , 0.   , 0.   , 0.   , 0.   , 0.   , 0.   ,\n",
       "         0.   ],\n",
       "        [0.   , 0.   , 0.   , 0.   , 0.   , 0.   , 0.   , 0.   , 0.   ,\n",
       "         0.   ],\n",
       "        [0.   , 0.   , 0.   , 0.   , 0.   , 0.   , 0.   , 0.   , 0.   ,\n",
       "         0.   ],\n",
       "        [0.   , 0.   , 0.   , 0.   , 0.   , 0.   , 0.   , 0.   , 0.   ,\n",
       "         0.   ]],\n",
       "\n",
       "       [[0.176, 0.571, 0.6  , 0.   , 0.   , 0.   , 0.2  , 0.071, 0.529,\n",
       "         0.854],\n",
       "        [0.   , 0.982, 0.545, 0.   , 0.   , 0.   , 0.   , 0.49 , 0.918,\n",
       "         0.533],\n",
       "        [0.684, 0.   , 0.   , 0.   , 0.   , 0.   , 0.   , 0.429, 1.   ,\n",
       "         0.701],\n",
       "        [0.   , 0.   , 0.   , 0.   , 0.   , 0.   , 0.   , 0.   , 0.   ,\n",
       "         0.185],\n",
       "        [0.   , 0.   , 0.   , 0.   , 0.   , 0.   , 0.   , 0.   , 0.   ,\n",
       "         0.   ],\n",
       "        [0.   , 0.   , 0.   , 0.   , 0.   , 0.   , 0.   , 0.   , 0.   ,\n",
       "         0.   ],\n",
       "        [0.   , 0.   , 0.   , 0.   , 0.   , 0.   , 0.   , 0.   , 0.   ,\n",
       "         0.   ],\n",
       "        [0.   , 0.   , 0.   , 0.   , 0.   , 0.   , 0.   , 0.   , 0.   ,\n",
       "         0.   ],\n",
       "        [0.   , 0.   , 0.   , 0.   , 0.   , 0.   , 0.   , 0.   , 0.   ,\n",
       "         0.   ],\n",
       "        [0.   , 0.   , 0.   , 0.   , 0.   , 0.   , 0.   , 0.   , 0.   ,\n",
       "         0.   ]],\n",
       "\n",
       "       [[0.995, 0.84 , 0.87 , 1.   , 0.714, 1.   , 0.952, 0.997, 0.871,\n",
       "         0.   ],\n",
       "        [0.   , 0.   , 0.902, 1.   , 0.938, 0.952, 1.   , 0.89 , 0.   ,\n",
       "         0.   ],\n",
       "        [0.898, 1.   , 0.952, 0.   , 0.   , 0.   , 1.   , 0.949, 0.   ,\n",
       "         0.909],\n",
       "        [0.8  , 0.952, 0.   , 0.   , 0.   , 0.   , 0.   , 1.   , 1.   ,\n",
       "         0.992],\n",
       "        [0.   , 0.   , 0.   , 0.   , 0.571, 0.   , 0.952, 0.991, 1.   ,\n",
       "         1.   ],\n",
       "        [0.   , 0.   , 0.   , 0.   , 0.   , 0.   , 0.   , 0.   , 1.   ,\n",
       "         1.   ],\n",
       "        [0.   , 0.   , 0.   , 0.   , 0.   , 0.   , 0.   , 0.   , 0.   ,\n",
       "         0.   ],\n",
       "        [0.   , 0.   , 0.878, 0.   , 0.   , 0.   , 0.   , 0.   , 0.   ,\n",
       "         0.756],\n",
       "        [0.991, 1.   , 1.   , 0.988, 0.946, 0.   , 0.   , 0.   , 0.   ,\n",
       "         0.556],\n",
       "        [0.851, 0.996, 1.   , 1.   , 0.   , 0.   , 0.   , 0.   , 0.   ,\n",
       "         0.   ]]])"
      ]
     },
     "execution_count": 54,
     "metadata": {},
     "output_type": "execute_result"
    }
   ],
   "source": [
    "labels"
   ]
  },
  {
   "cell_type": "code",
   "execution_count": 23,
   "metadata": {},
   "outputs": [],
   "source": [
    "# parameter for LVQ\n",
    "R = 50 # R is the # of initial prototype for each class\n",
    "n_classes = 2\n",
    "epsilon = 0.9\n",
    "epsilon_dec_factor = 0.001"
   ]
  },
  {
   "cell_type": "code",
   "execution_count": 24,
   "metadata": {},
   "outputs": [
    {
     "name": "stderr",
     "output_type": "stream",
     "text": [
      "C:\\Users\\Thend\\Anaconda3\\lib\\site-packages\\ipykernel_launcher.py:6: RuntimeWarning: divide by zero encountered in double_scalars\n",
      "  \n",
      "C:\\Users\\Thend\\Anaconda3\\lib\\site-packages\\ipykernel_launcher.py:6: RuntimeWarning: invalid value encountered in double_scalars\n",
      "  \n"
     ]
    }
   ],
   "source": [
    "taggings = np.zeros((10, 10))\n",
    "for i in range(10):\n",
    "    for j in range(10):\n",
    "        tmp = np.array([labels[0][i][j], labels[1][i][j], labels[2][i][j], labels[3][i][j]])\n",
    "        sort = tmp.argsort()\n",
    "        if (tmp[sort[3]]/tmp[sort[2]] < 5): # must be improve\n",
    "            taggings[i][j] = np.random.choice([sort[3], sort[2]])\n",
    "        else:\n",
    "            taggings[i][j] = sort[3]"
   ]
  },
  {
   "cell_type": "code",
   "execution_count": 25,
   "metadata": {
    "scrolled": true
   },
   "outputs": [
    {
     "name": "stdout",
     "output_type": "stream",
     "text": [
      "class id \t Initial prototype vector \n",
      "\n",
      "3 \t [0.18224881 0.25225407 0.69200544 0.42819106 0.1652795  0.46218701]\n",
      "3 \t [0.24535231 0.33249681 0.55917907 0.50496203 0.20894226 0.46682262]\n",
      "3 \t [0.31593746 0.36612067 0.49855688 0.54379967 0.23988495 0.40536075]\n",
      "3 \t [0.32588492 0.40224024 0.40731201 0.56442988 0.30342511 0.39427256]\n",
      "0 \t [0.39325253 0.3905586  0.46583471 0.51836155 0.38983387 0.2348304 ]\n",
      "3 \t [0.40377655 0.41059402 0.40815632 0.55075857 0.33464251 0.29404907]\n",
      "3 \t [0.36025845 0.42759392 0.30707438 0.57208601 0.29160301 0.42516807]\n",
      "3 \t [0.29217731 0.42652122 0.15572686 0.59796345 0.25669953 0.5338598 ]\n",
      "1 \t [0.23638375 0.43994217 0.11400819 0.57474823 0.17039623 0.61498401]\n",
      "1 \t [0.24813668 0.43953601 0.18545989 0.58283296 0.14700276 0.59121641]\n",
      "3 \t [0.2441961  0.34940454 0.55725058 0.51419046 0.18633711 0.45677476]\n",
      "2 \t [0.2393701  0.35689768 0.49747237 0.52215736 0.18462295 0.51099246]\n",
      "2 \t [0.3074151  0.40735247 0.44745097 0.55038687 0.24805967 0.41819641]\n",
      "3 \t [0.34736171 0.39663073 0.44895942 0.54560816 0.32703744 0.34031983]\n",
      "3 \t [0.36468227 0.35121089 0.58242171 0.47041224 0.34842565 0.24850472]\n",
      "0 \t [0.41197085 0.40484195 0.46376719 0.51852495 0.34698137 0.24907592]\n",
      "3 \t [0.38413442 0.43691254 0.35936349 0.56143138 0.28939248 0.365312  ]\n",
      "3 \t [0.32185329 0.44142934 0.2497263  0.58501397 0.23184342 0.4931477 ]\n",
      "2 \t [0.27644039 0.46364929 0.20431766 0.59137361 0.16621435 0.53806541]\n",
      "1 \t [0.26601471 0.47521801 0.20724313 0.59359848 0.15380141 0.53332942]\n",
      "3 \t [0.28983064 0.44022424 0.4088463  0.55581069 0.22094539 0.44418818]\n",
      "3 \t [0.32804392 0.39218174 0.4925307  0.53949747 0.28852837 0.34883814]\n",
      "3 \t [0.34627934 0.40625478 0.47210186 0.53736708 0.3314668  0.30583311]\n",
      "0 \t [0.39068841 0.3816337  0.51948697 0.4839538  0.40571384 0.18175965]\n",
      "0 \t [0.38423376 0.31112218 0.6503646  0.42113557 0.36787799 0.1410812 ]\n",
      "0 \t [0.41897294 0.38014862 0.49405797 0.5042603  0.36195946 0.22486067]\n",
      "3 \t [0.39910672 0.43134683 0.42530051 0.53666716 0.30900092 0.3004663 ]\n",
      "3 \t [0.36345632 0.46284466 0.32803621 0.57511725 0.24703027 0.39278844]\n",
      "2 \t [0.32717967 0.47988724 0.26864185 0.59382292 0.20484503 0.44261283]\n",
      "2 \t [0.29294333 0.49861887 0.21575655 0.59310273 0.18863373 0.48130967]\n",
      "0 \t [0.37373855 0.43682428 0.43100712 0.54654454 0.32071236 0.28665231]\n",
      "3 \t [0.36786964 0.42963145 0.41823044 0.54735994 0.34811602 0.2904899 ]\n",
      "0 \t [0.38369826 0.40940366 0.47385882 0.51117408 0.40213093 0.19394298]\n",
      "0 \t [0.39239386 0.39102318 0.48412674 0.48849648 0.44058513 0.16126118]\n",
      "0 \t [0.42093788 0.38686227 0.48975868 0.47827718 0.42664429 0.15003637]\n",
      "0 \t [0.41306768 0.39226339 0.49496595 0.49300425 0.3972928  0.1721002 ]\n",
      "0 \t [0.39015011 0.3995589  0.52688531 0.49648268 0.32847466 0.23693207]\n",
      "3 \t [0.38588654 0.45576291 0.3397611  0.57174878 0.29628138 0.33653354]\n",
      "3 \t [0.36856049 0.4663165  0.30092852 0.58791957 0.27294707 0.368788  ]\n",
      "2 \t [0.33204149 0.469108   0.24634775 0.59982855 0.23143748 0.4423136 ]\n",
      "0 \t [0.40404602 0.40280596 0.43398413 0.51087713 0.42380965 0.21340545]\n",
      "0 \t [0.41552751 0.34225393 0.48485523 0.47000745 0.49250568 0.10791518]\n",
      "0 \t [0.39881339 0.3669304  0.44945236 0.49537747 0.48555333 0.15212387]\n",
      "0 \t [0.41147347 0.37942906 0.46098787 0.48099433 0.47565324 0.12888677]\n",
      "0 \t [0.39569909 0.39355481 0.42513631 0.52216581 0.43001439 0.22411258]\n",
      "0 \t [0.4140283  0.39384463 0.43291026 0.50485856 0.45170758 0.16472332]\n",
      "3 \t [0.41102057 0.42983497 0.41092392 0.51655786 0.39132389 0.23974802]\n",
      "3 \t [0.40006204 0.41971881 0.36999937 0.55735098 0.37886266 0.26964778]\n",
      "3 \t [0.34547098 0.43363055 0.31096646 0.57843332 0.28554389 0.42402098]\n",
      "3 \t [0.32878723 0.43080897 0.28522165 0.58802101 0.27808877 0.44927622]\n",
      "0 \t [0.38893004 0.37747444 0.41419542 0.51022997 0.47664886 0.21716323]\n",
      "3 \t [0.40713569 0.33520204 0.50538217 0.44945125 0.50223931 0.11053616]\n",
      "0 \t [0.4240247  0.32333539 0.52496077 0.41708499 0.51364012 0.04782684]\n",
      "0 \t [0.41619465 0.33022892 0.49442002 0.42714677 0.53747727 0.04408546]\n",
      "3 \t [0.39124053 0.35953947 0.50783876 0.46995347 0.46593166 0.1476937 ]\n",
      "0 \t [0.42759327 0.39510406 0.43383686 0.49505379 0.45976665 0.12797939]\n",
      "0 \t [0.42474255 0.40810566 0.41836904 0.51084141 0.43663304 0.16249162]\n",
      "0 \t [0.40381833 0.40710036 0.41746045 0.52830489 0.41211389 0.21904999]\n",
      "3 \t [0.34236839 0.39094321 0.45645825 0.5356669  0.34876702 0.33617808]\n",
      "3 \t [0.32536382 0.39505348 0.45542088 0.53606951 0.3389916  0.35829754]\n",
      "0 \t [0.40319265 0.37132098 0.44071487 0.4859591  0.49201406 0.16459871]\n",
      "0 \t [0.41168281 0.3345986  0.50199242 0.43305931 0.51917486 0.09737421]\n",
      "3 \t [0.41470344 0.34218292 0.48799835 0.45616811 0.49773321 0.13023758]\n",
      "0 \t [0.40666487 0.36382522 0.44974958 0.47878353 0.50187232 0.13737072]\n",
      "0 \t [0.41019257 0.3866329  0.4137132  0.49768993 0.49291399 0.14296498]\n",
      "0 \t [0.42864537 0.38906657 0.4054514  0.49855203 0.48765868 0.11888819]\n",
      "0 \t [0.43462076 0.37552925 0.40823211 0.49350508 0.50042284 0.09725653]\n",
      "0 \t [0.38915548 0.37047415 0.51497944 0.46778996 0.44884479 0.16066738]\n",
      "0 \t [0.29539226 0.28362033 0.75835055 0.33489969 0.34917545 0.15207259]\n",
      "3 \t [0.21786069 0.21942642 0.85661945 0.27977969 0.24354624 0.18166025]\n",
      "0 \t [0.38570675 0.41841093 0.3934691  0.49744752 0.48495475 0.19674736]\n",
      "0 \t [0.38824469 0.41382178 0.39984484 0.51157672 0.45325263 0.22581632]\n",
      "0 \t [0.37552379 0.42949916 0.3833183  0.52561908 0.42362217 0.2680453 ]\n",
      "0 \t [0.37886529 0.43337976 0.37816123 0.53274213 0.41257301 0.26759389]\n",
      "0 \t [0.39529359 0.41063306 0.36953571 0.53662261 0.44861848 0.22213613]\n",
      "0 \t [0.4303845  0.3663395  0.39764899 0.49733495 0.5169627  0.08858524]\n",
      "0 \t [0.45018974 0.33590938 0.38621136 0.47685861 0.5535097  0.03959478]\n",
      "0 \t [0.39524392 0.33695174 0.56928383 0.41977447 0.4695948  0.09711755]\n",
      "0 \t [0.236891   0.2113354  0.86591963 0.22195053 0.29555038 0.11309787]\n",
      "0 \t [0.11323364 0.12989748 0.94332688 0.17473394 0.13196091 0.1802597 ]\n",
      "3 \t [0.35600581 0.40049775 0.40778883 0.53542238 0.4072074  0.30671598]\n",
      "3 \t [0.3539496  0.44668341 0.34694418 0.55457122 0.3717705  0.33024355]\n",
      "3 \t [0.361416   0.45618323 0.32170268 0.56229793 0.36065511 0.33396354]\n",
      "3 \t [0.36977869 0.45009346 0.35883    0.54423949 0.38573935 0.29483751]\n",
      "0 \t [0.37103641 0.42144097 0.37576196 0.54766651 0.41545698 0.26641946]\n",
      "0 \t [0.41516656 0.35368587 0.42468091 0.50454883 0.50833654 0.09598746]\n",
      "0 \t [0.43727802 0.34540993 0.42835178 0.48717066 0.51436869 0.06390822]\n",
      "0 \t [0.41145666 0.33990705 0.52292738 0.44678578 0.48584316 0.07779754]\n",
      "0 \t [0.31875057 0.30615139 0.72918465 0.34898412 0.35257945 0.16388096]\n",
      "0 \t [0.23258081 0.24091672 0.82432846 0.32333935 0.24165871 0.21307421]\n",
      "0 \t [0.36482755 0.44046244 0.28852307 0.57245042 0.40510655 0.3127896 ]\n",
      "3 \t [0.3440055  0.46108943 0.26354395 0.58200996 0.34872648 0.37316966]\n",
      "3 \t [0.3666491  0.46058696 0.29498123 0.5755213  0.34350673 0.34233392]\n",
      "3 \t [0.37056343 0.44728924 0.32947811 0.56755843 0.35664595 0.32363615]\n",
      "0 \t [0.37743972 0.41170855 0.39386666 0.54507506 0.42770843 0.22991968]\n",
      "0 \t [0.37218392 0.32649163 0.55620127 0.47973444 0.44912711 0.11688537]\n",
      "0 \t [0.4208683  0.35878332 0.43724823 0.51755959 0.47138171 0.11353303]\n",
      "0 \t [0.37854699 0.35879845 0.50980948 0.4861384  0.43693194 0.2020398 ]\n",
      "0 \t [0.41963714 0.35698423 0.54078171 0.4384684  0.45570368 0.0640445 ]\n",
      "0 \t [0.38217529 0.34789554 0.53000935 0.46267165 0.47038186 0.12913825]\n"
     ]
    }
   ],
   "source": [
    "from random import randint\n",
    "p_vectors = []\n",
    "count_death = 0\n",
    "for i in range(10):\n",
    "    for j in range(10):\n",
    "        if(labels[0, i, i] == 0 and labels[1, i, i] == 0 and labels[2, i, i] == 0 and labels[3, i, i] == 0):\n",
    "#             p = LVQ.prototype(randint(0,1), som.weights[(i,j)], epsilon)\n",
    "#             p_vectors.append(p)\n",
    "            count_death = count_death + 1\n",
    "        elif(taggings[i][j] == 0):\n",
    "            p = LVQ.prototype(0, som.weights[(i,j)], epsilon)\n",
    "            p_vectors.append(p)\n",
    "        elif(taggings[i][j] == 1):\n",
    "            p = LVQ.prototype(1, som.weights[(i,j)], epsilon)\n",
    "            p_vectors.append(p)\n",
    "        elif(taggings[i][j] == 2):\n",
    "            p = LVQ.prototype(2, som.weights[(i,j)], epsilon)\n",
    "            p_vectors.append(p)\n",
    "        elif(taggings[i][j] == 3):\n",
    "            p = LVQ.prototype(3, som.weights[(i,j)], epsilon)\n",
    "            p_vectors.append(p)\n",
    "print(\"class id \\t Initial prototype vector \\n\")\n",
    "for p_v in p_vectors:\n",
    "    print(p_v.class_id, '\\t', p_v.p_vector)"
   ]
  },
  {
   "cell_type": "code",
   "execution_count": 26,
   "metadata": {},
   "outputs": [
    {
     "data": {
      "text/plain": [
       "0"
      ]
     },
     "execution_count": 26,
     "metadata": {},
     "output_type": "execute_result"
    }
   ],
   "source": [
    "count_death"
   ]
  },
  {
   "cell_type": "code",
   "execution_count": 27,
   "metadata": {},
   "outputs": [],
   "source": [
    "lvq = LVQ.LVQ(x_train[:, 0:6], y_train, n_classes=2, n_neurons=R, p_vectors=p_vectors, epsilon=0.9, epsilon_dec_factor=0.001)\n",
    "neurons = lvq.fit(x_train[:, 0:6], y_train)"
   ]
  },
  {
   "cell_type": "code",
   "execution_count": 28,
   "metadata": {
    "scrolled": true
   },
   "outputs": [
    {
     "name": "stdout",
     "output_type": "stream",
     "text": [
      "             precision    recall  f1-score   support\n",
      "\n",
      "          0       1.00      0.87      0.93        54\n",
      "          1       0.95      0.91      0.93        23\n",
      "          2       0.50      0.25      0.33         8\n",
      "          3       0.78      0.98      0.87        47\n",
      "\n",
      "avg / total       0.88      0.88      0.87       132\n",
      "\n"
     ]
    }
   ],
   "source": [
    "predicted_y = [lvq.predict(instance) for instance in x_test[:, 0:6]]\n",
    "\n",
    "from sklearn.metrics import classification_report\n",
    "\n",
    "print (classification_report(y_test, predicted_y, target_names=['0', '1', '2', '3']))"
   ]
  },
  {
   "cell_type": "code",
   "execution_count": 29,
   "metadata": {
    "scrolled": false
   },
   "outputs": [
    {
     "data": {
      "text/plain": [
       "0.8787878787878788"
      ]
     },
     "execution_count": 29,
     "metadata": {},
     "output_type": "execute_result"
    }
   ],
   "source": [
    "A = np.array(predicted_y)-y_test\n",
    "len(A[A==0])/len(A)"
   ]
  },
  {
   "cell_type": "code",
   "execution_count": 30,
   "metadata": {},
   "outputs": [
    {
     "name": "stdout",
     "output_type": "stream",
     "text": [
      "             precision    recall  f1-score   support\n",
      "\n",
      "          0       0.97      0.87      0.92       558\n",
      "          1       0.93      0.85      0.89       165\n",
      "          2       0.61      0.33      0.43       139\n",
      "          3       0.73      0.94      0.82       453\n",
      "\n",
      "avg / total       0.84      0.84      0.83      1315\n",
      "\n"
     ]
    }
   ],
   "source": [
    "data_new = pd.read_csv(r\"../data/SD-3X_rocktype.csv\")\n",
    "x_new = data.iloc[:, 0:6].values\n",
    "y_new = data.iloc[:, 6].values\n",
    "y_new[y_new == 4] = 0\n",
    "x_new = minmax.fit_transform(x_new)\n",
    "predicted_y_new = [lvq.predict(instance) for instance in x_new]\n",
    "\n",
    "from sklearn.metrics import classification_report\n",
    "\n",
    "print (classification_report(y_new, predicted_y_new, target_names=['0', '1', '2', '3']))"
   ]
  }
 ],
 "metadata": {
  "kernelspec": {
   "display_name": "Python 3",
   "language": "python",
   "name": "python3"
  },
  "language_info": {
   "codemirror_mode": {
    "name": "ipython",
    "version": 3
   },
   "file_extension": ".py",
   "mimetype": "text/x-python",
   "name": "python",
   "nbconvert_exporter": "python",
   "pygments_lexer": "ipython3",
   "version": "3.6.5"
  }
 },
 "nbformat": 4,
 "nbformat_minor": 2
}
