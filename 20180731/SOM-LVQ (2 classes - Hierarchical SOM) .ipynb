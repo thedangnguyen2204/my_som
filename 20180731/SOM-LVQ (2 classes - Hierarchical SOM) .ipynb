{
 "cells": [
  {
   "cell_type": "code",
   "execution_count": 25,
   "metadata": {},
   "outputs": [],
   "source": [
    "import numpy as np\n",
    "from sklearn.metrics import euclidean_distances\n",
    "import pandas as pd\n",
    "import minisom\n",
    "from sklearn.datasets import load_breast_cancer\n",
    "from sklearn.model_selection import KFold\n",
    "import LVQ"
   ]
  },
  {
   "cell_type": "code",
   "execution_count": 26,
   "metadata": {},
   "outputs": [],
   "source": [
    "data = pd.read_csv(r\"../data/SVNE_Hieu.csv\")\n",
    "x = data.iloc[:, 0:6].values\n",
    "y = data.iloc[:, 6].values\n",
    "from sklearn.cross_validation import train_test_split\n",
    "x_train, x_test, y_train, y_test = train_test_split(x, y, test_size=0.1, random_state=20)\n",
    "\n",
    "# use Minmaxscaler because we use euclidean distance\n",
    "from sklearn.preprocessing import MinMaxScaler\n",
    "minmax = MinMaxScaler()\n",
    "x_train[:, 0:6] = minmax.fit_transform(x_train[:, 0:6])\n",
    "x_test[:, 0:6] = minmax.transform(x_test[:, 0:6])"
   ]
  },
  {
   "cell_type": "code",
   "execution_count": 27,
   "metadata": {},
   "outputs": [],
   "source": [
    "# Training the SOM\n",
    "from minisom import MiniSom\n",
    "som = MiniSom(x = 10, y = 10, input_len = 6, sigma = 1.0, learning_rate = 0.5)\n",
    "som.random_weights_init(x_train)\n",
    "som.train_random(data = x_train, num_iteration = 100)"
   ]
  },
  {
   "cell_type": "code",
   "execution_count": 28,
   "metadata": {
    "scrolled": true
   },
   "outputs": [
    {
     "data": {
      "text/plain": [
       "array([0, 1], dtype=int64)"
      ]
     },
     "execution_count": 28,
     "metadata": {},
     "output_type": "execute_result"
    }
   ],
   "source": [
    "np.unique(y)"
   ]
  },
  {
   "cell_type": "code",
   "execution_count": 29,
   "metadata": {
    "scrolled": false
   },
   "outputs": [
    {
     "data": {
      "text/plain": [
       "array([[[0., 0., 0., 0., 0., 0., 0., 0., 0., 0.],\n",
       "        [0., 0., 0., 0., 0., 0., 0., 0., 0., 0.],\n",
       "        [0., 0., 0., 0., 0., 0., 0., 0., 0., 0.],\n",
       "        [0., 0., 0., 0., 0., 0., 0., 0., 0., 0.],\n",
       "        [0., 0., 0., 0., 0., 0., 0., 0., 0., 0.],\n",
       "        [0., 0., 0., 0., 0., 0., 0., 0., 0., 0.],\n",
       "        [0., 0., 0., 0., 0., 0., 0., 0., 0., 0.],\n",
       "        [0., 0., 0., 0., 0., 0., 0., 0., 0., 0.],\n",
       "        [0., 0., 0., 0., 0., 0., 0., 0., 0., 0.],\n",
       "        [0., 0., 0., 0., 0., 0., 0., 0., 0., 0.]],\n",
       "\n",
       "       [[0., 0., 0., 0., 0., 0., 0., 0., 0., 0.],\n",
       "        [0., 0., 0., 0., 0., 0., 0., 0., 0., 0.],\n",
       "        [0., 0., 0., 0., 0., 0., 0., 0., 0., 0.],\n",
       "        [0., 0., 0., 0., 0., 0., 0., 0., 0., 0.],\n",
       "        [0., 0., 0., 0., 0., 0., 0., 0., 0., 0.],\n",
       "        [0., 0., 0., 0., 0., 0., 0., 0., 0., 0.],\n",
       "        [0., 0., 0., 0., 0., 0., 0., 0., 0., 0.],\n",
       "        [0., 0., 0., 0., 0., 0., 0., 0., 0., 0.],\n",
       "        [0., 0., 0., 0., 0., 0., 0., 0., 0., 0.],\n",
       "        [0., 0., 0., 0., 0., 0., 0., 0., 0., 0.]]])"
      ]
     },
     "execution_count": 29,
     "metadata": {},
     "output_type": "execute_result"
    }
   ],
   "source": [
    "labels = np.zeros((2, 10, 10))\n",
    "labels"
   ]
  },
  {
   "cell_type": "code",
   "execution_count": 30,
   "metadata": {},
   "outputs": [],
   "source": [
    "patterns = [[[[] for i in range(10)] for i in range(10)] for i in range(2)]"
   ]
  },
  {
   "cell_type": "code",
   "execution_count": 31,
   "metadata": {
    "scrolled": true
   },
   "outputs": [
    {
     "data": {
      "image/png": "[encoded data removed]",
      "text/plain": [
       "<Figure size 432x288 with 2 Axes>"
      ]
     },
     "metadata": {},
     "output_type": "display_data"
    }
   ],
   "source": [
    "# Visualizing the results\n",
    "from pylab import bone, pcolor, colorbar, plot, show\n",
    "bone()\n",
    "pcolor(som.distance_map().T)\n",
    "colorbar()\n",
    "markers = ['1', '2']\n",
    "colors = ['r', 'g']\n",
    "for i, x in enumerate(x_train[:, 0:6]):\n",
    "    w = som.winner(x)\n",
    "    plot(w[0] + 0.5,\n",
    "         w[1] + 0.5,\n",
    "         markers[y_train[i]],\n",
    "         markeredgecolor = colors[y_train[i]],\n",
    "         markerfacecolor = 'None',\n",
    "         markersize = 10,\n",
    "         markeredgewidth = 2)\n",
    "    if y_train[i] == 0:\n",
    "        labels[0, w[0], w[1]] += 1\n",
    "        patterns[0][w[0]][w[1]].append(x)\n",
    "    elif y_train[i] == 1:\n",
    "        labels[1, w[0], w[1]] += 1\n",
    "        patterns[1][w[0]][w[1]].append(x)\n",
    "show()"
   ]
  },
  {
   "cell_type": "code",
   "execution_count": 32,
   "metadata": {},
   "outputs": [
    {
     "data": {
      "text/plain": [
       "array([[[  0.,   0.,   0.,   0.,   0.,   0.,   1.,   0.,   0.,   0.],\n",
       "        [  1.,   1.,   0.,   1.,   1.,   1.,   6.,   2.,   0.,   0.],\n",
       "        [  0.,   0.,   2.,   1.,   0.,   0.,   3.,   7.,   0.,   0.],\n",
       "        [  0.,   0.,   1.,   2.,   0.,   3.,   6.,   8.,   0.,   1.],\n",
       "        [  0.,   0.,   3.,  12.,  18.,   2.,   0.,   3.,   0.,   3.],\n",
       "        [  2.,   0.,   2.,   9.,  23.,   8.,   9.,   1.,   6.,  13.],\n",
       "        [ 12.,   8.,  12.,  11.,   8.,   0.,   5.,   3.,   7.,   9.],\n",
       "        [  2.,   5.,  12.,   1.,   1.,   2.,   5.,   9.,   0.,   1.],\n",
       "        [  2.,   3.,   5.,   1.,   0.,   0.,  16.,   8.,   9.,   2.],\n",
       "        [  8.,   4.,   1.,   0.,   1.,   6.,  35., 152.,  19.,   1.]],\n",
       "\n",
       "       [[  1.,   0.,   0.,   0.,   5.,   7.,   2.,   0.,   1.,  15.],\n",
       "        [ 30.,   5.,   0.,   0.,   1.,   2.,  19.,  39.,   1.,  66.],\n",
       "        [ 27.,   7.,   0.,   1.,   2.,  14.,  23.,  25.,   1.,   3.],\n",
       "        [  1.,   1.,   0.,   4.,   1.,   3.,   1.,   5.,   0.,   0.],\n",
       "        [ 43.,   0.,   2.,   1.,   5.,   1.,   1.,   2.,   6.,  18.],\n",
       "        [  6.,   0.,   0.,   0.,   3.,   3.,   2.,   6.,  16.,  62.],\n",
       "        [  1.,   0.,   1.,   0.,   0.,   1.,   4.,   5.,   5.,   5.],\n",
       "        [  3.,   0.,   0.,   0.,   1.,   1.,   0.,   0.,   0.,   1.],\n",
       "        [  0.,   3.,   1.,   3.,   0.,   0.,   0.,   0.,   1.,   0.],\n",
       "        [104.,   1.,   9.,   1.,   0.,   0.,   2.,   1.,   1.,   2.]]])"
      ]
     },
     "execution_count": 32,
     "metadata": {},
     "output_type": "execute_result"
    }
   ],
   "source": [
    "labels"
   ]
  },
  {
   "cell_type": "code",
   "execution_count": 33,
   "metadata": {},
   "outputs": [],
   "source": [
    "# parameter for LVQ\n",
    "R = 50 # R is the # of initial prototype for each class\n",
    "n_classes = 2\n",
    "epsilon = 0.9\n",
    "epsilon_dec_factor = 0.001"
   ]
  },
  {
   "cell_type": "code",
   "execution_count": 34,
   "metadata": {
    "scrolled": true
   },
   "outputs": [
    {
     "name": "stdout",
     "output_type": "stream",
     "text": [
      "class id \t Initial prototype vector \n",
      "\n",
      "1 \t [0.29096642 0.30449678 0.39690551 0.58406491 0.55467313 0.12764077]\n",
      "1 \t [0.33888904 0.29267401 0.33032356 0.59183499 0.57961574 0.06449362]\n",
      "1 \t [0.32710569 0.43143424 0.47822443 0.41251581 0.5542562  0.02825839]\n",
      "1 \t [0.38995033 0.38677794 0.38833922 0.46779571 0.57295794 0.02050841]\n",
      "1 \t [0.39457263 0.3795292  0.37449706 0.47517077 0.57612643 0.04809427]\n",
      "0 \t [0.30359083 0.34017466 0.39902191 0.56356512 0.54641292 0.12931586]\n",
      "1 \t [0.28610842 0.3008308  0.38286505 0.58465428 0.57498552 0.09288802]\n",
      "1 \t [0.28080793 0.30617584 0.40353297 0.57877383 0.57266504 0.04049693]\n",
      "1 \t [0.29784185 0.34594438 0.44533325 0.52117075 0.56516495 0.04754626]\n",
      "1 \t [0.32710117 0.40698173 0.49982698 0.42838289 0.53820402 0.06609245]\n",
      "1 \t [0.33878354 0.42965815 0.51706863 0.39160652 0.52817904 0.03050985]\n",
      "1 \t [0.37821389 0.41393908 0.40219495 0.4451495  0.57056795 0.01191854]\n",
      "1 \t [0.38551572 0.4038507  0.38933934 0.45374249 0.57449551 0.02774478]\n",
      "0 \t [0.36997981 0.29834784 0.33309436 0.57708983 0.55358573 0.15382398]\n",
      "1 \t [0.32566529 0.28852014 0.36780771 0.60453741 0.52270256 0.19165669]\n",
      "1 \t [0.25268394 0.29526123 0.37360518 0.61435616 0.57431072 0.04609234]\n",
      "1 \t [0.2616346  0.29693131 0.41182447 0.58659173 0.57318089 0.03396408]\n",
      "1 \t [0.2733769  0.31420122 0.44112009 0.55553949 0.56501924 0.06391291]\n",
      "1 \t [0.31467874 0.36955612 0.46895946 0.48941333 0.54795242 0.06859538]\n",
      "1 \t [0.34192997 0.40547909 0.49100575 0.4356016  0.53220383 0.06778113]\n",
      "1 \t [0.36041884 0.41809018 0.47062073 0.42118534 0.53619549 0.09440503]\n",
      "1 \t [0.36513068 0.40822475 0.43997526 0.44006446 0.55218757 0.08880357]\n",
      "1 \t [0.38485427 0.31160678 0.33900176 0.5674613  0.52623747 0.2023067 ]\n",
      "1 \t [0.36036603 0.26445301 0.32945301 0.59207368 0.55723588 0.17492451]\n",
      "1 \t [0.27855548 0.29719154 0.37350348 0.60919733 0.56184846 0.08822758]\n",
      "0 \t [0.28064085 0.29927336 0.39965788 0.59390729 0.56145881 0.06314969]\n",
      "0 \t [0.2790201  0.31399562 0.44325223 0.57085742 0.52914927 0.14561886]\n",
      "1 \t [0.3267869  0.40676798 0.57668082 0.36596511 0.47222275 0.19561332]\n",
      "1 \t [0.33797166 0.39395922 0.50133846 0.42945438 0.50943693 0.1878137 ]\n",
      "0 \t [0.3939688  0.32526921 0.34157423 0.51288987 0.52124148 0.295917  ]\n",
      "0 \t [0.39538586 0.25672078 0.30350256 0.59805391 0.44967924 0.35464173]\n",
      "1 \t [0.35166842 0.24316675 0.31484489 0.61937089 0.4154405  0.40231933]\n",
      "0 \t [0.34847477 0.27618569 0.35760567 0.57324627 0.46693469 0.35744328]\n",
      "1 \t [0.29700995 0.28679941 0.41374233 0.56969698 0.46675908 0.34048463]\n",
      "0 \t [0.34264722 0.30854615 0.39136543 0.57845688 0.53884448 0.09622641]\n",
      "1 \t [0.37204739 0.26346437 0.34209542 0.62307075 0.52163186 0.12174165]\n",
      "1 \t [0.39441848 0.23372738 0.30126658 0.64773735 0.51342933 0.12597885]\n",
      "0 \t [0.35252298 0.41021429 0.50233849 0.3941142  0.50584115 0.2095389 ]\n",
      "1 \t [0.37088089 0.36803627 0.41688218 0.45664578 0.52649905 0.25976778]\n",
      "0 \t [0.34446826 0.31843365 0.36018662 0.46752568 0.44638983 0.48204054]\n",
      "0 \t [0.38790047 0.27351476 0.31613253 0.5382235  0.42892641 0.44846485]\n",
      "0 \t [0.39229556 0.2531833  0.33554503 0.51242497 0.36322954 0.52430611]\n",
      "0 \t [0.40787131 0.26013374 0.32266671 0.55919369 0.44554412 0.38813718]\n",
      "1 \t [0.39968834 0.26724221 0.32796948 0.57948271 0.48915761 0.29358385]\n",
      "1 \t [0.40125249 0.25073629 0.32659689 0.60854273 0.51524697 0.18346262]\n",
      "1 \t [0.42302709 0.23131154 0.28649298 0.62398107 0.51579952 0.17338775]\n",
      "0 \t [0.43016573 0.21532951 0.22084849 0.67162729 0.50752594 0.10559731]\n",
      "0 \t [0.39480682 0.30823201 0.36353302 0.43106813 0.46819643 0.46036585]\n",
      "0 \t [0.36165097 0.30353841 0.36431121 0.45652912 0.47549671 0.45807685]\n",
      "0 \t [0.37190452 0.2888063  0.3660796  0.37509807 0.38921918 0.59335785]\n",
      "0 \t [0.35650505 0.27841916 0.33586919 0.49169028 0.41785239 0.51596401]\n",
      "0 \t [0.3879734  0.28477202 0.29008405 0.56067342 0.44949926 0.40966879]\n",
      "1 \t [0.38630505 0.31874082 0.34784747 0.55053704 0.48940863 0.29251153]\n",
      "0 \t [0.38977245 0.27908036 0.29256043 0.61070378 0.51221612 0.22198091]\n",
      "0 \t [0.40452252 0.27207682 0.34051096 0.57211423 0.51106148 0.24060234]\n",
      "1 \t [0.42391156 0.2269527  0.32398049 0.57526904 0.52937505 0.22946829]\n",
      "0 \t [0.41195102 0.22619556 0.27928691 0.64872951 0.49364269 0.19130516]\n",
      "0 \t [0.41648973 0.33223712 0.34207252 0.42146412 0.60619684 0.23245339]\n",
      "0 \t [0.37118551 0.35408879 0.36021062 0.41872477 0.56773568 0.33081191]\n",
      "0 \t [0.36268356 0.33871486 0.34271619 0.39532157 0.48121906 0.49842508]\n",
      "0 \t [0.37062918 0.35426396 0.35774068 0.46423363 0.50841907 0.36762733]\n",
      "1 \t [0.35999354 0.33373332 0.33123011 0.54191624 0.52145274 0.28935646]\n",
      "1 \t [0.38056902 0.32144117 0.32931533 0.54571094 0.52010072 0.27402377]\n",
      "0 \t [0.35997155 0.30544883 0.38572446 0.52019628 0.47894986 0.35824711]\n",
      "0 \t [0.37874126 0.27336734 0.40150588 0.486749   0.41218805 0.46237951]\n",
      "1 \t [0.35231782 0.30663729 0.46386511 0.47905054 0.43767992 0.3816042 ]\n",
      "0 \t [0.37736054 0.29692759 0.36411389 0.57046725 0.53274655 0.1661395 ]\n",
      "0 \t [0.38213057 0.33053169 0.35690393 0.4751953  0.56802721 0.26244833]\n",
      "1 \t [0.41077495 0.33443146 0.33755227 0.47236814 0.5434545  0.29496364]\n",
      "0 \t [0.40226303 0.35015825 0.3138922  0.47126137 0.53680719 0.32679672]\n",
      "0 \t [0.3817148  0.3497802  0.31190458 0.51372008 0.54322975 0.27505686]\n",
      "0 \t [0.35569614 0.36269468 0.35494488 0.51476872 0.53945129 0.24485183]\n",
      "0 \t [0.35076737 0.3502998  0.41023252 0.47335701 0.48109488 0.36116818]\n",
      "0 \t [0.32056044 0.29435541 0.4464179  0.39506997 0.3794857  0.55786851]\n",
      "0 \t [0.28212436 0.26154914 0.44305628 0.34638904 0.3139216  0.66118597]\n",
      "0 \t [0.2755721  0.29130802 0.45249319 0.36346174 0.32979373 0.62736053]\n",
      "0 \t [0.33161344 0.29536975 0.50966393 0.44507748 0.40559739 0.42476901]\n",
      "1 \t [0.4255845  0.31279035 0.28950506 0.53422159 0.59185491 0.03926719]\n",
      "0 \t [0.39613006 0.33799774 0.32609293 0.5229301  0.57928909 0.11606104]\n",
      "1 \t [0.41706301 0.34960437 0.28786039 0.50429857 0.58143665 0.16907395]\n",
      "1 \t [0.39306451 0.37488669 0.3391125  0.4818647  0.55829952 0.21464162]\n",
      "0 \t [0.32873948 0.24866505 0.42510362 0.3626553  0.29807847 0.65499109]\n",
      "0 \t [0.26491203 0.24097313 0.44823404 0.27478887 0.25836823 0.72703284]\n",
      "0 \t [0.28080311 0.30872418 0.47448649 0.29252115 0.33276124 0.6359268 ]\n",
      "0 \t [0.28542692 0.35812589 0.57158157 0.33627433 0.37265555 0.46002092]\n"
     ]
    }
   ],
   "source": [
    "from random import randint\n",
    "p_vectors = []\n",
    "count_death = 0\n",
    "for i in range(10):\n",
    "    for j in range(10):\n",
    "        if((labels[0, i, i] == 0 and labels[1, i, j] <= 3) or (labels[0, i, i] <= 3 and labels[1, i, j] == 0)):\n",
    "#             p = LVQ.prototype(randint(0,1), som.weights[(i,j)], epsilon)\n",
    "#             p_vectors.append(p)\n",
    "            count_death = count_death + 1\n",
    "        elif(labels[0, i, j] > 5 * labels[1, i, j] and labels[1, i, j] >= 0):\n",
    "            p = LVQ.prototype(0, som.weights[(i,j)], epsilon)\n",
    "            p_vectors.append(p)\n",
    "        elif(5 * labels[0, i, j] < labels[1, i, j] and labels[0, i, j] >= 0):\n",
    "            p = LVQ.prototype(1, som.weights[(i,j)], epsilon)\n",
    "            p_vectors.append(p)\n",
    "        else:\n",
    "            p = LVQ.prototype(randint(0,1), som.weights[(i,j)], epsilon)\n",
    "            p_vectors.append(p)\n",
    "print(\"class id \\t Initial prototype vector \\n\")\n",
    "for p_v in p_vectors:\n",
    "    print(p_v.class_id, '\\t', p_v.p_vector)"
   ]
  },
  {
   "cell_type": "code",
   "execution_count": 35,
   "metadata": {
    "scrolled": false
   },
   "outputs": [
    {
     "data": {
      "text/plain": [
       "15"
      ]
     },
     "execution_count": 35,
     "metadata": {},
     "output_type": "execute_result"
    }
   ],
   "source": [
    "count_death"
   ]
  },
  {
   "cell_type": "code",
   "execution_count": 36,
   "metadata": {},
   "outputs": [],
   "source": [
    "mappings = som.win_map(x_train)"
   ]
  },
  {
   "cell_type": "code",
   "execution_count": 37,
   "metadata": {
    "scrolled": true
   },
   "outputs": [
    {
     "data": {
      "text/plain": [
       "0"
      ]
     },
     "execution_count": 37,
     "metadata": {},
     "output_type": "execute_result"
    }
   ],
   "source": [
    "len(mappings[(0,1)]) - len(patterns[0][0][1]) - len(patterns[1][0][1])"
   ]
  },
  {
   "cell_type": "code",
   "execution_count": 38,
   "metadata": {
    "scrolled": true
   },
   "outputs": [
    {
     "data": {
      "text/plain": [
       "[]"
      ]
     },
     "execution_count": 38,
     "metadata": {},
     "output_type": "execute_result"
    }
   ],
   "source": [
    "patterns[1][0][1]"
   ]
  },
  {
   "cell_type": "code",
   "execution_count": 39,
   "metadata": {},
   "outputs": [],
   "source": [
    "a = [1, 2]\n",
    "b = [233, 4]\n",
    "a = a + b"
   ]
  },
  {
   "cell_type": "code",
   "execution_count": 40,
   "metadata": {},
   "outputs": [],
   "source": [
    "b = np.asarray(patterns[0][0][1])"
   ]
  },
  {
   "cell_type": "code",
   "execution_count": 41,
   "metadata": {},
   "outputs": [
    {
     "data": {
      "text/plain": [
       "array([1., 1., 1., 0., 0.])"
      ]
     },
     "execution_count": 41,
     "metadata": {},
     "output_type": "execute_result"
    }
   ],
   "source": [
    "b = np.zeros([2])\n",
    "a = np.ones([3])\n",
    "np.concatenate((a, b))"
   ]
  },
  {
   "cell_type": "code",
   "execution_count": 42,
   "metadata": {
    "scrolled": false
   },
   "outputs": [
    {
     "name": "stdout",
     "output_type": "stream",
     "text": [
      "1 6\n",
      "2 7\n",
      "3 7\n",
      "4 4\n",
      "5 5\n",
      "5 8\n",
      "5 9\n",
      "6 6\n",
      "6 7\n",
      "6 8\n",
      "6 9\n"
     ]
    }
   ],
   "source": [
    "for i in range(10):\n",
    "    for j in range(10):\n",
    "        if((labels[0, i, i] == 0 and labels[1, i, j] <= 3) or (labels[0, i, i] <= 3 and labels[1, i, j] == 0)):\n",
    "            continue\n",
    "        elif(labels[0, i, j] <= 5 * labels[1, i, j] and labels[1, i, j] > 2 and labels[1, i, j] < labels[0, i, j]):\n",
    "            impure = np.asarray(patterns[0][i][j] + patterns[1][i][j])\n",
    "            impure_labels = np.concatenate((np.zeros([len(patterns[0][i][j])]), np.ones([len(patterns[1][i][j])])))\n",
    "            small_lvq = LVQ.LVQ(x=impure, y=impure_labels, n_classes=2, n_neurons=4, p_vectors=[], epsilon=0.9, epsilon_dec_factor=0.001)\n",
    "            neurons = small_lvq.fit(impure, impure_labels)\n",
    "            p_vectors = p_vectors + small_lvq.p_vectors\n",
    "            print (i, j)\n",
    "        elif(5 * labels[0, i, j] >= labels[1, i, j] and labels[0, i, j] > 2 and labels[0, i, j] < labels[1, i, j]):\n",
    "            impure = np.asarray(patterns[0][i][j] + patterns[1][i][j])\n",
    "            impure_labels = np.concatenate((np.zeros([len(patterns[0][i][j])]), np.ones([len(patterns[1][i][j])])))\n",
    "            small_lvq = LVQ.LVQ(x=impure, y=impure_labels, n_classes=2, n_neurons=4, p_vectors=[], epsilon=0.9, epsilon_dec_factor=0.001)\n",
    "            neurons = small_lvq.fit(impure, impure_labels)\n",
    "            p_vectors = p_vectors + small_lvq.p_vectors\n",
    "            print (i, j)"
   ]
  },
  {
   "cell_type": "code",
   "execution_count": 43,
   "metadata": {},
   "outputs": [
    {
     "data": {
      "text/plain": [
       "array([[[  0.,   0.,   0.,   0.,   0.,   0.,   1.,   0.,   0.,   0.],\n",
       "        [  1.,   1.,   0.,   1.,   1.,   1.,   6.,   2.,   0.,   0.],\n",
       "        [  0.,   0.,   2.,   1.,   0.,   0.,   3.,   7.,   0.,   0.],\n",
       "        [  0.,   0.,   1.,   2.,   0.,   3.,   6.,   8.,   0.,   1.],\n",
       "        [  0.,   0.,   3.,  12.,  18.,   2.,   0.,   3.,   0.,   3.],\n",
       "        [  2.,   0.,   2.,   9.,  23.,   8.,   9.,   1.,   6.,  13.],\n",
       "        [ 12.,   8.,  12.,  11.,   8.,   0.,   5.,   3.,   7.,   9.],\n",
       "        [  2.,   5.,  12.,   1.,   1.,   2.,   5.,   9.,   0.,   1.],\n",
       "        [  2.,   3.,   5.,   1.,   0.,   0.,  16.,   8.,   9.,   2.],\n",
       "        [  8.,   4.,   1.,   0.,   1.,   6.,  35., 152.,  19.,   1.]],\n",
       "\n",
       "       [[  1.,   0.,   0.,   0.,   5.,   7.,   2.,   0.,   1.,  15.],\n",
       "        [ 30.,   5.,   0.,   0.,   1.,   2.,  19.,  39.,   1.,  66.],\n",
       "        [ 27.,   7.,   0.,   1.,   2.,  14.,  23.,  25.,   1.,   3.],\n",
       "        [  1.,   1.,   0.,   4.,   1.,   3.,   1.,   5.,   0.,   0.],\n",
       "        [ 43.,   0.,   2.,   1.,   5.,   1.,   1.,   2.,   6.,  18.],\n",
       "        [  6.,   0.,   0.,   0.,   3.,   3.,   2.,   6.,  16.,  62.],\n",
       "        [  1.,   0.,   1.,   0.,   0.,   1.,   4.,   5.,   5.,   5.],\n",
       "        [  3.,   0.,   0.,   0.,   1.,   1.,   0.,   0.,   0.,   1.],\n",
       "        [  0.,   3.,   1.,   3.,   0.,   0.,   0.,   0.,   1.,   0.],\n",
       "        [104.,   1.,   9.,   1.,   0.,   0.,   2.,   1.,   1.,   2.]]])"
      ]
     },
     "execution_count": 43,
     "metadata": {},
     "output_type": "execute_result"
    }
   ],
   "source": [
    "labels"
   ]
  },
  {
   "cell_type": "code",
   "execution_count": 44,
   "metadata": {
    "scrolled": true
   },
   "outputs": [
    {
     "data": {
      "text/plain": [
       "173"
      ]
     },
     "execution_count": 44,
     "metadata": {},
     "output_type": "execute_result"
    }
   ],
   "source": [
    "len(p_vectors)"
   ]
  },
  {
   "cell_type": "code",
   "execution_count": 45,
   "metadata": {},
   "outputs": [],
   "source": [
    "lvq = LVQ.LVQ(x_train, y_train, n_classes=2, n_neurons=R, p_vectors=p_vectors, epsilon=0.9, epsilon_dec_factor=0.001)\n",
    "neurons = lvq.fit(x_train, y_train)"
   ]
  },
  {
   "cell_type": "code",
   "execution_count": 46,
   "metadata": {
    "scrolled": true
   },
   "outputs": [
    {
     "name": "stdout",
     "output_type": "stream",
     "text": [
      "             precision    recall  f1-score   support\n",
      "\n",
      "          0       0.90      0.87      0.88        60\n",
      "          1       0.89      0.92      0.91        73\n",
      "\n",
      "avg / total       0.89      0.89      0.89       133\n",
      "\n"
     ]
    }
   ],
   "source": [
    "predicted_y = [lvq.predict(instance) for instance in x_test]\n",
    "\n",
    "from sklearn.metrics import classification_report\n",
    "\n",
    "print (classification_report(y_test, predicted_y, target_names=['0', '1']))"
   ]
  },
  {
   "cell_type": "code",
   "execution_count": 47,
   "metadata": {
    "scrolled": false
   },
   "outputs": [
    {
     "data": {
      "text/plain": [
       "0.8947368421052632"
      ]
     },
     "execution_count": 47,
     "metadata": {},
     "output_type": "execute_result"
    }
   ],
   "source": [
    "A = np.array(predicted_y)-y_test\n",
    "len(A[A==0])/len(A)"
   ]
  }
 ],
 "metadata": {
  "kernelspec": {
   "display_name": "Python 3",
   "language": "python",
   "name": "python3"
  },
  "language_info": {
   "codemirror_mode": {
    "name": "ipython",
    "version": 3
   },
   "file_extension": ".py",
   "mimetype": "text/x-python",
   "name": "python",
   "nbconvert_exporter": "python",
   "pygments_lexer": "ipython3",
   "version": "3.6.5"
  }
 },
 "nbformat": 4,
 "nbformat_minor": 2
}
