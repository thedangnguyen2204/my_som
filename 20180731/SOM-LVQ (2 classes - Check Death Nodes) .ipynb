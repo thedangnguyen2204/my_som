{
 "cells": [
  {
   "cell_type": "code",
   "execution_count": 1,
   "metadata": {},
   "outputs": [],
   "source": [
    "import numpy as np\n",
    "from sklearn.metrics import euclidean_distances\n",
    "import pandas as pd\n",
    "import minisom\n",
    "from sklearn.datasets import load_breast_cancer\n",
    "from sklearn.model_selection import KFold\n",
    "import LVQ"
   ]
  },
  {
   "cell_type": "code",
   "execution_count": 2,
   "metadata": {},
   "outputs": [
    {
     "name": "stderr",
     "output_type": "stream",
     "text": [
      "C:\\Users\\Thend\\Anaconda3\\lib\\site-packages\\sklearn\\cross_validation.py:41: DeprecationWarning: This module was deprecated in version 0.18 in favor of the model_selection module into which all the refactored classes and functions are moved. Also note that the interface of the new CV iterators are different from that of this module. This module will be removed in 0.20.\n",
      "  \"This module will be removed in 0.20.\", DeprecationWarning)\n"
     ]
    }
   ],
   "source": [
    "data = pd.read_csv(r\"../data/SVNE_Hieu.csv\")\n",
    "x = data.iloc[:, 0:7].values # try to retain the labels of x\n",
    "y = data.iloc[:, 6].values\n",
    "from sklearn.cross_validation import train_test_split\n",
    "x_train, x_test, y_train, y_test = train_test_split(x, y, test_size=0.1, random_state=20)\n",
    "\n",
    "# use Minmaxscaler because we use euclidean distance\n",
    "from sklearn.preprocessing import MinMaxScaler\n",
    "minmax = MinMaxScaler()\n",
    "x_train[:, 0:6] = minmax.fit_transform(x_train[:, 0:6] )\n",
    "x_test[:, 0:6]  = minmax.transform(x_test[:, 0:6] )"
   ]
  },
  {
   "cell_type": "code",
   "execution_count": 3,
   "metadata": {},
   "outputs": [],
   "source": [
    "# Training the SOM\n",
    "from minisom import MiniSom\n",
    "som = MiniSom(x = 10, y = 10, input_len = 6, sigma = 1.0, learning_rate = 0.5)\n",
    "som.random_weights_init(x_train[:, 0:6])\n",
    "som.train_random(data = x_train[:, 0:6], num_iteration = 100)"
   ]
  },
  {
   "cell_type": "code",
   "execution_count": 4,
   "metadata": {
    "scrolled": true
   },
   "outputs": [
    {
     "data": {
      "text/plain": [
       "array([0, 1], dtype=int64)"
      ]
     },
     "execution_count": 4,
     "metadata": {},
     "output_type": "execute_result"
    }
   ],
   "source": [
    "np.unique(y)"
   ]
  },
  {
   "cell_type": "code",
   "execution_count": 5,
   "metadata": {
    "scrolled": true
   },
   "outputs": [
    {
     "data": {
      "text/plain": [
       "array([[[0., 0., 0., 0., 0., 0., 0., 0., 0., 0.],\n",
       "        [0., 0., 0., 0., 0., 0., 0., 0., 0., 0.],\n",
       "        [0., 0., 0., 0., 0., 0., 0., 0., 0., 0.],\n",
       "        [0., 0., 0., 0., 0., 0., 0., 0., 0., 0.],\n",
       "        [0., 0., 0., 0., 0., 0., 0., 0., 0., 0.],\n",
       "        [0., 0., 0., 0., 0., 0., 0., 0., 0., 0.],\n",
       "        [0., 0., 0., 0., 0., 0., 0., 0., 0., 0.],\n",
       "        [0., 0., 0., 0., 0., 0., 0., 0., 0., 0.],\n",
       "        [0., 0., 0., 0., 0., 0., 0., 0., 0., 0.],\n",
       "        [0., 0., 0., 0., 0., 0., 0., 0., 0., 0.]],\n",
       "\n",
       "       [[0., 0., 0., 0., 0., 0., 0., 0., 0., 0.],\n",
       "        [0., 0., 0., 0., 0., 0., 0., 0., 0., 0.],\n",
       "        [0., 0., 0., 0., 0., 0., 0., 0., 0., 0.],\n",
       "        [0., 0., 0., 0., 0., 0., 0., 0., 0., 0.],\n",
       "        [0., 0., 0., 0., 0., 0., 0., 0., 0., 0.],\n",
       "        [0., 0., 0., 0., 0., 0., 0., 0., 0., 0.],\n",
       "        [0., 0., 0., 0., 0., 0., 0., 0., 0., 0.],\n",
       "        [0., 0., 0., 0., 0., 0., 0., 0., 0., 0.],\n",
       "        [0., 0., 0., 0., 0., 0., 0., 0., 0., 0.],\n",
       "        [0., 0., 0., 0., 0., 0., 0., 0., 0., 0.]]])"
      ]
     },
     "execution_count": 5,
     "metadata": {},
     "output_type": "execute_result"
    }
   ],
   "source": [
    "labels = np.zeros((2, 10, 10))\n",
    "labels"
   ]
  },
  {
   "cell_type": "code",
   "execution_count": 6,
   "metadata": {
    "scrolled": true
   },
   "outputs": [
    {
     "data": {
      "text/plain": [
       "<Figure size 640x480 with 2 Axes>"
      ]
     },
     "metadata": {},
     "output_type": "display_data"
    }
   ],
   "source": [
    "# Visualizing the results\n",
    "from pylab import bone, pcolor, colorbar, plot, show\n",
    "bone()\n",
    "pcolor(som.distance_map().T)\n",
    "colorbar()\n",
    "markers = ['1', '2']\n",
    "colors = ['r', 'g']\n",
    "for i, x in enumerate(x_train[:, 0:6]):\n",
    "    w = som.winner(x)\n",
    "    plot(w[0] + 0.5,\n",
    "         w[1] + 0.5,\n",
    "         markers[y_train[i]],\n",
    "         markeredgecolor = colors[y_train[i]],\n",
    "         markerfacecolor = 'None',\n",
    "         markersize = 10,\n",
    "         markeredgewidth = 2)\n",
    "    if y_train[i] == 0:\n",
    "        labels[0, w[0], w[1]] += 1\n",
    "    elif y_train[i] == 1:\n",
    "        labels[1, w[0], w[1]] += 1\n",
    "show()"
   ]
  },
  {
   "cell_type": "code",
   "execution_count": 7,
   "metadata": {},
   "outputs": [
    {
     "data": {
      "text/plain": [
       "array([[[30., 85., 37., 24., 43.,  0., 22.,  7.,  3.,  3.],\n",
       "        [10., 17.,  8., 21., 17.,  3.,  2.,  0.,  9.,  7.],\n",
       "        [18., 23.,  0.,  0.,  3.,  0.,  6.,  1.,  1.,  6.],\n",
       "        [14.,  2.,  1.,  0.,  0.,  0.,  3.,  0.,  0.,  0.],\n",
       "        [ 2.,  1.,  0.,  0.,  0.,  1.,  0.,  0.,  1.,  0.],\n",
       "        [ 3.,  0.,  0.,  0.,  0.,  0.,  0.,  0.,  2.,  4.],\n",
       "        [ 5.,  0.,  2.,  0.,  2.,  0.,  3.,  0.,  2.,  0.],\n",
       "        [ 0.,  0., 23.,  9.,  0.,  1.,  0.,  3.,  1.,  2.],\n",
       "        [ 0.,  3.,  0.,  2.,  1.,  0.,  2.,  0.,  0.,  6.],\n",
       "        [ 1.,  5.,  8.,  0.,  0.,  0.,  7.,  2.,  2., 16.]],\n",
       "\n",
       "       [[ 0.,  0.,  1.,  2.,  2.,  0.,  6.,  8.,  7., 51.],\n",
       "        [ 0.,  0.,  1.,  0.,  0.,  5.,  2.,  0.,  9., 37.],\n",
       "        [ 1.,  1.,  0.,  0.,  0.,  0.,  5.,  2.,  2.,  9.],\n",
       "        [ 0., 13., 15.,  3.,  1.,  3.,  1.,  0., 57.,  1.],\n",
       "        [ 0.,  8., 40., 39., 12.,  1.,  3., 15.,  5.,  1.],\n",
       "        [ 0.,  2.,  1., 11.,  0.,  2.,  3., 38.,  1.,  0.],\n",
       "        [16.,  0.,  6.,  1.,  1.,  2.,  0., 10.,  5.,  1.],\n",
       "        [ 0.,  1.,  9., 14.,  1.,  9.,  4.,  7.,  1.,  7.],\n",
       "        [ 0.,  4.,  1.,  1., 22., 13., 39.,  1.,  3.,  7.],\n",
       "        [ 0.,  1.,  1.,  1.,  0.,  7., 15.,  5.,  1.,  3.]]])"
      ]
     },
     "execution_count": 7,
     "metadata": {},
     "output_type": "execute_result"
    }
   ],
   "source": [
    "labels"
   ]
  },
  {
   "cell_type": "code",
   "execution_count": 8,
   "metadata": {},
   "outputs": [],
   "source": [
    "# parameter for LVQ\n",
    "R = 50 # R is the # of initial prototype for each class\n",
    "n_classes = 2\n",
    "epsilon = 0.9\n",
    "epsilon_dec_factor = 0.001"
   ]
  },
  {
   "cell_type": "code",
   "execution_count": 9,
   "metadata": {
    "scrolled": true
   },
   "outputs": [
    {
     "name": "stdout",
     "output_type": "stream",
     "text": [
      "class id \t Initial prototype vector \n",
      "\n",
      "0 \t [0.20408381 0.22960001 0.45734529 0.25819779 0.19641066 0.76891201]\n",
      "0 \t [0.21651889 0.20100191 0.43186353 0.26455732 0.14835851 0.79637358]\n",
      "0 \t [0.28660437 0.1917542  0.38525171 0.38870594 0.19717371 0.73668148]\n",
      "0 \t [0.32426019 0.22485942 0.38666373 0.46088653 0.29834715 0.62718204]\n",
      "0 \t [0.37758395 0.25524921 0.3682054  0.51600858 0.41094458 0.47070446]\n",
      "1 \t [0.25147858 0.33365082 0.40452325 0.5534917  0.59526976 0.03312754]\n",
      "0 \t [0.28587851 0.2542753  0.45013259 0.33144308 0.29835302 0.6724055 ]\n",
      "0 \t [0.24695997 0.25521794 0.46230403 0.28364618 0.25663166 0.71682257]\n",
      "0 \t [0.28137983 0.23773819 0.42066249 0.34845339 0.25535046 0.70761953]\n",
      "0 \t [0.338549   0.25513648 0.39989904 0.45005439 0.3364522  0.58704486]\n",
      "0 \t [0.35247583 0.27795896 0.40208334 0.47348503 0.39111529 0.50957762]\n",
      "1 \t [0.24574359 0.31681843 0.39728567 0.58502882 0.57964727 0.05613012]\n",
      "0 \t [0.33494317 0.29033186 0.42975382 0.37988524 0.42870284 0.53919683]\n",
      "0 \t [0.29771903 0.30551432 0.45273594 0.33066605 0.3702802  0.60548087]\n",
      "1 \t [0.34001027 0.37409987 0.50895748 0.36669165 0.48727959 0.33689824]\n",
      "1 \t [0.33669845 0.4241104  0.5141918  0.387582   0.51396029 0.16732106]\n",
      "1 \t [0.33851456 0.43853085 0.5080795  0.38497633 0.52613808 0.09962805]\n",
      "1 \t [0.35277831 0.40484802 0.44468418 0.45308429 0.55109432 0.07007996]\n",
      "1 \t [0.32523219 0.36593861 0.40351801 0.51518409 0.5723357  0.06710717]\n",
      "1 \t [0.37807125 0.38925199 0.38994592 0.47408584 0.57314719 0.01523518]\n",
      "1 \t [0.37917821 0.34737293 0.37810028 0.52768482 0.54959699 0.10994542]\n",
      "1 \t [0.35855214 0.39425951 0.50118884 0.4000507  0.49969351 0.23468145]\n",
      "1 \t [0.33876151 0.44627089 0.53008918 0.36351288 0.51832676 0.06545332]\n",
      "1 \t [0.33389271 0.46665743 0.50759582 0.36250078 0.53020021 0.02395623]\n",
      "1 \t [0.33296345 0.44530473 0.46837901 0.41421194 0.54688455 0.02838837]\n",
      "1 \t [0.36756464 0.34081801 0.34753094 0.53690385 0.58239704 0.02257228]\n",
      "1 \t [0.37619599 0.34724376 0.30251391 0.53958661 0.5959359  0.00950636]\n",
      "1 \t [0.38714879 0.37032401 0.35207515 0.50287145 0.57817142 0.04309456]\n",
      "1 \t [0.3655194  0.34584638 0.35390611 0.53966093 0.57282907 0.04657528]\n",
      "1 \t [0.32936885 0.38309375 0.4988701  0.44132621 0.49070596 0.24560699]\n",
      "1 \t [0.34847265 0.40073784 0.46661774 0.46477894 0.52450601 0.09548748]\n",
      "1 \t [0.34549316 0.42155944 0.47823788 0.43104203 0.53472295 0.04984755]\n",
      "1 \t [0.32441038 0.32205391 0.40005187 0.54987652 0.55864232 0.1286556 ]\n",
      "1 \t [0.38911154 0.31961962 0.284474   0.55979102 0.59172947 0.04472475]\n",
      "1 \t [0.41279426 0.32555873 0.25262904 0.54263425 0.6042187  0.01608757]\n",
      "1 \t [0.36711898 0.24020508 0.28509719 0.67932916 0.49968513 0.12276574]\n",
      "1 \t [0.34525905 0.28935402 0.35806246 0.59647154 0.53150887 0.17487632]\n",
      "0 \t [0.40785733 0.28924345 0.28752606 0.57220518 0.57539473 0.09392302]\n",
      "1 \t [0.4307332  0.30540807 0.28168241 0.53454279 0.59470831 0.04935448]\n",
      "1 \t [0.43573382 0.29508979 0.31385816 0.53687277 0.57178071 0.09687905]\n",
      "1 \t [0.35588668 0.31690937 0.40848173 0.57400234 0.48462049 0.20425497]\n",
      "1 \t [0.3817738  0.20585121 0.23789683 0.6993963  0.50415985 0.10930148]\n",
      "1 \t [0.41445221 0.24155711 0.26746865 0.62074177 0.55375758 0.07982633]\n",
      "1 \t [0.43622396 0.24431822 0.25584412 0.59377662 0.57417123 0.04814322]\n",
      "1 \t [0.374572   0.24905328 0.28677976 0.66082708 0.48690192 0.20410717]\n",
      "1 \t [0.40436023 0.22194701 0.25936566 0.66544279 0.51897567 0.08838512]\n",
      "1 \t [0.44228074 0.22666723 0.25423655 0.61246002 0.55544313 0.06891408]\n",
      "1 \t [0.44561686 0.23299266 0.24465075 0.60069172 0.57051739 0.03107115]\n",
      "1 \t [0.43870501 0.25536883 0.27895704 0.57917699 0.57044468 0.06045274]\n",
      "1 \t [0.41753964 0.28599781 0.31442338 0.5637467  0.55268188 0.14743217]\n",
      "0 \t [0.41515139 0.3412346  0.35668831 0.52886159 0.51278423 0.20332109]\n",
      "0 \t [0.34658668 0.31992032 0.4299514  0.40182808 0.34000278 0.56178534]\n",
      "0 \t [0.40242666 0.28270275 0.37378993 0.53914519 0.47353646 0.32171217]\n",
      "1 \t [0.38449651 0.33212361 0.38850514 0.55011959 0.5238281  0.11786709]\n",
      "1 \t [0.40996655 0.26190816 0.28486928 0.59355251 0.57265387 0.04409077]\n",
      "0 \t [0.42323045 0.28330662 0.3483718  0.52678932 0.49136024 0.31671526]\n"
     ]
    }
   ],
   "source": [
    "from random import randint\n",
    "p_vectors = []\n",
    "count_death = 0\n",
    "for i in range(10):\n",
    "    for j in range(10):\n",
    "        if(labels[0, i, i] == 0 and labels[1, i, j] == 0):\n",
    "#             p = LVQ.prototype(randint(0,1), som.weights[(i,j)], epsilon)\n",
    "#             p_vectors.append(p)\n",
    "            count_death = count_death + 1\n",
    "        elif(labels[0, i, j] > 4 * labels[1, i, j]):\n",
    "            p = LVQ.prototype(0, som.weights[(i,j)], epsilon)\n",
    "            p_vectors.append(p)\n",
    "        elif(4 * labels[0, i, j] < labels[1, i, j]):\n",
    "            p = LVQ.prototype(1, som.weights[(i,j)], epsilon)\n",
    "            p_vectors.append(p)\n",
    "        else:\n",
    "#             p = LVQ.prototype(randint(0,1), som.weights[(i,j)], epsilon)\n",
    "#             p_vectors.append(p)\n",
    "            count_death = count_death + 1\n",
    "print(\"class id \\t Initial prototype vector \\n\")\n",
    "for p_v in p_vectors:\n",
    "    print(p_v.class_id, '\\t', p_v.p_vector)"
   ]
  },
  {
   "cell_type": "code",
   "execution_count": 10,
   "metadata": {},
   "outputs": [
    {
     "data": {
      "text/plain": [
       "44"
      ]
     },
     "execution_count": 10,
     "metadata": {},
     "output_type": "execute_result"
    }
   ],
   "source": [
    "count_death"
   ]
  },
  {
   "cell_type": "code",
   "execution_count": 11,
   "metadata": {},
   "outputs": [],
   "source": [
    "lvq = LVQ.LVQ(x_train[:, 0:6], y_train, n_classes=2, n_neurons=R, p_vectors=p_vectors, epsilon=0.9, epsilon_dec_factor=0.001)\n",
    "neurons = lvq.fit(x_train[:, 0:6], y_train)"
   ]
  },
  {
   "cell_type": "code",
   "execution_count": 12,
   "metadata": {
    "scrolled": true
   },
   "outputs": [
    {
     "name": "stdout",
     "output_type": "stream",
     "text": [
      "             precision    recall  f1-score   support\n",
      "\n",
      "          0       0.96      0.72      0.82        60\n",
      "          1       0.81      0.97      0.88        73\n",
      "\n",
      "avg / total       0.87      0.86      0.85       133\n",
      "\n"
     ]
    }
   ],
   "source": [
    "predicted_y = [lvq.predict(instance) for instance in x_test[:, 0:6]]\n",
    "\n",
    "from sklearn.metrics import classification_report\n",
    "\n",
    "print (classification_report(y_test, predicted_y, target_names=['0', '1']))"
   ]
  },
  {
   "cell_type": "code",
   "execution_count": 13,
   "metadata": {
    "scrolled": false
   },
   "outputs": [
    {
     "data": {
      "text/plain": [
       "0.8571428571428571"
      ]
     },
     "execution_count": 13,
     "metadata": {},
     "output_type": "execute_result"
    }
   ],
   "source": [
    "A = np.array(predicted_y)-y_test\n",
    "len(A[A==0])/len(A)"
   ]
  }
 ],
 "metadata": {
  "kernelspec": {
   "display_name": "Python 3",
   "language": "python",
   "name": "python3"
  },
  "language_info": {
   "codemirror_mode": {
    "name": "ipython",
    "version": 3
   },
   "file_extension": ".py",
   "mimetype": "text/x-python",
   "name": "python",
   "nbconvert_exporter": "python",
   "pygments_lexer": "ipython3",
   "version": "3.6.5"
  }
 },
 "nbformat": 4,
 "nbformat_minor": 2
}
